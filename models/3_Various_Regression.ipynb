{
 "cells": [
  {
   "cell_type": "markdown",
   "metadata": {},
   "source": [
    "### 线性回归 (Linear Regression)\n",
    "\n",
    "一种以线性模型来建模自变量与因变量关系的方法。\n",
    "\n",
    "公式：\n",
    "\n",
    "$$ y = \\omega \\cdot x + b $$\n",
    "\n",
    "### 逻辑回归(Logistic Regression)\n",
    "\n",
    "对特定类别进行建模，用于二分类。\n",
    "\n",
    "公式：\n",
    "\n",
    "$$ y = \\cfrac{1}{1+e^{-x}} $$\n",
    "\n",
    "### 多项式回归(Polynomial Regression)\n",
    "\n",
    "自变量\\mathit x 和因变量\\mathit y之间的关系被建模为关于\\mathit x的\\mathit n次多项式。\n",
    "\n",
    "公式：\n",
    "\n",
    "$$ y =\\beta_0+\\beta_1 x + \\beta_2 x^2 + \\cdots + \\beta_m x^m + \\epsilon $$\n",
    "\n",
    "### 逐步回归(Stepwise Regression)\n",
    "\n",
    "将多个变量一个一个地引入到模型，找到对模型影响最大的变量。\n",
    "\n",
    "### Lasso Regression\n",
    "\n",
    "稀疏矩阵，消除不重要的特征，MSE+L1范数。\n",
    "\n",
    "公式：\n",
    "\n",
    "$$ J(\\theta) = MSE(\\theta) + \\alpha\\sum|\\theta|, $$\n",
    "其中，$\\alpha$越大模型权重越小\n",
    "\n",
    "### 岭回归(Ridge Regtression)\n",
    "\n",
    "正则化线性回归，增加模型自由度，防止过拟合，MSE+L2范数\n",
    "\n",
    "$$ J(\\theta) = MSE(\\theta) + \\alpha\\cfrac{1}{2}\\sum\\theta^2, $$\n",
    "\n",
    "其中，$\\alpha$越大模型权重越小"
   ]
  },
  {
   "cell_type": "code",
   "execution_count": null,
   "metadata": {},
   "outputs": [],
   "source": []
  }
 ],
 "metadata": {
  "kernelspec": {
   "display_name": "Python 3",
   "language": "python",
   "name": "python3"
  },
  "language_info": {
   "codemirror_mode": {
    "name": "ipython",
    "version": 3
   },
   "file_extension": ".py",
   "mimetype": "text/x-python",
   "name": "python",
   "nbconvert_exporter": "python",
   "pygments_lexer": "ipython3",
   "version": "3.7.7"
  },
  "toc": {
   "base_numbering": 1,
   "nav_menu": {},
   "number_sections": true,
   "sideBar": true,
   "skip_h1_title": false,
   "title_cell": "Table of Contents",
   "title_sidebar": "Contents",
   "toc_cell": false,
   "toc_position": {},
   "toc_section_display": true,
   "toc_window_display": false
  }
 },
 "nbformat": 4,
 "nbformat_minor": 4
}
