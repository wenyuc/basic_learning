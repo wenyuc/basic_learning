{
 "cells": [
  {
   "cell_type": "code",
   "execution_count": 12,
   "metadata": {},
   "outputs": [
    {
     "name": "stdout",
     "output_type": "stream",
     "text": [
      "AND:\n",
      "AND(0,0)= 0\n",
      "AND(0,1)= 0\n",
      "AND(1,0)= 0\n",
      "AND(1,1)= 1\n"
     ]
    }
   ],
   "source": [
    "import numpy as np\n",
    "\n",
    "# 与门\n",
    "def AND(x1,x2):\n",
    "    x = np.array([x1,x2])\n",
    "    w = np.array([0.5, 0.5])\n",
    "    b = -0.7\n",
    "    y = np.sum(x * w) + b\n",
    "    if y > 0:\n",
    "        return 1 \n",
    "    else:\n",
    "        return 0 \n",
    "print(\"AND:\")\n",
    "print(f\"AND(0,0)= {AND(0,0)}\")\n",
    "print(f\"AND(0,1)= {AND(0,1)}\")\n",
    "print(f\"AND(1,0)= {AND(1,0)}\")\n",
    "print(f\"AND(1,1)= {AND(1,1)}\")"
   ]
  },
  {
   "cell_type": "code",
   "execution_count": 13,
   "metadata": {},
   "outputs": [
    {
     "name": "stdout",
     "output_type": "stream",
     "text": [
      "OR:\n",
      "OR(0,0)= 0\n",
      "OR(0,1)= 1\n",
      "OR(1,0)= 1\n",
      "OR(1,1)= 1\n"
     ]
    }
   ],
   "source": [
    "# 或门\n",
    "\n",
    "def OR(x1,x2):\n",
    "    x = np.array([x1,x2])\n",
    "    w = np.array([0.5,0.5])\n",
    "    b = -0.3\n",
    "    y = np.sum(x * w) + b\n",
    "    if y > 0:\n",
    "        return 1 \n",
    "    else:\n",
    "        return 0 \n",
    "    \n",
    "print(\"OR:\")\n",
    "print(f\"OR(0,0)= {OR(0,0)}\")\n",
    "print(f\"OR(0,1)= {OR(0,1)}\")\n",
    "print(f\"OR(1,0)= {OR(1,0)}\")\n",
    "print(f\"OR(1,1)= {OR(1,1)}\")"
   ]
  },
  {
   "cell_type": "code",
   "execution_count": 14,
   "metadata": {},
   "outputs": [
    {
     "name": "stdout",
     "output_type": "stream",
     "text": [
      "NAND:\n",
      "NAND(0,0)= 1\n",
      "NAND(0,1)= 1\n",
      "NAND(1,0)= 1\n",
      "NAND(1,1)= 0\n"
     ]
    }
   ],
   "source": [
    "# 与非门\n",
    "def NAND(x1,x2):\n",
    "    x = np.array([x1,x2])\n",
    "    w = np.array([-0.5, -0.5])\n",
    "    b = 0.7\n",
    "    y = np.sum(x * w) + b\n",
    "    if y > 0:\n",
    "        return 1 \n",
    "    else:\n",
    "        return 0 \n",
    "print(\"NAND:\")\n",
    "print(f\"NAND(0,0)= {NAND(0,0)}\")\n",
    "print(f\"NAND(0,1)= {NAND(0,1)}\")\n",
    "print(f\"NAND(1,0)= {NAND(1,0)}\")\n",
    "print(f\"NAND(1,1)= {NAND(1,1)}\")"
   ]
  },
  {
   "cell_type": "code",
   "execution_count": 15,
   "metadata": {},
   "outputs": [
    {
     "name": "stdout",
     "output_type": "stream",
     "text": [
      "NOR:\n",
      "NOR(0,0)= 1\n",
      "NOR(0,1)= 0\n",
      "NOR(1,0)= 0\n",
      "NOR(1,1)= 0\n"
     ]
    }
   ],
   "source": [
    "# 或非门\n",
    "def NOR(x1,x2):\n",
    "    x = np.array([x1,x2])\n",
    "    w = np.array([-0.5,-0.5])\n",
    "    b = 0.3\n",
    "    y = np.sum(x * w) + b\n",
    "    if y>0: \n",
    "        return 1\n",
    "    else:\n",
    "        return 0 \n",
    "print(\"NOR:\")\n",
    "print(f\"NOR(0,0)= {NOR(0,0)}\")\n",
    "print(f\"NOR(0,1)= {NOR(0,1)}\")\n",
    "print(f\"NOR(1,0)= {NOR(1,0)}\")\n",
    "print(f\"NOR(1,1)= {NOR(1,1)}\")"
   ]
  },
  {
   "cell_type": "markdown",
   "metadata": {},
   "source": [
    "$XOR(A,B) = A\\overline B + \\overline A B = (A + B) * (\\overline A + \\overline B) = (A + B) * (\\overline {AB})$"
   ]
  },
  {
   "cell_type": "code",
   "execution_count": 8,
   "metadata": {},
   "outputs": [
    {
     "name": "stdout",
     "output_type": "stream",
     "text": [
      "XOR:\n",
      "(0,0)= 0\n",
      "(0,1)= 1\n",
      "(1,0)= 1\n",
      "(1,1)= 0\n"
     ]
    }
   ],
   "source": [
    "# 异或门\n",
    "def XOR(x1,x2):\n",
    "    s1 = NAND(x1,x2)\n",
    "    s2 = OR(x1,x2)\n",
    "    y = AND(s1,s2)\n",
    "    return y\n",
    "print(\"XOR:\")\n",
    "print(f\"XOR(0,0)= {XOR(0,0)}\")\n",
    "print(f\"XOR(0,1)= {XOR(0,1)}\")\n",
    "print(f\"XOR(1,0)= {XOR(1,0)}\")\n",
    "print(f\"XOR(1,1)= {XOR(1,1)}\")"
   ]
  },
  {
   "cell_type": "markdown",
   "metadata": {},
   "source": [
    "$NXOR = AB +\\overline A \\overline B $"
   ]
  },
  {
   "cell_type": "code",
   "execution_count": 9,
   "metadata": {},
   "outputs": [
    {
     "name": "stdout",
     "output_type": "stream",
     "text": [
      "NXOR:\n",
      "(0,0)= 1\n",
      "(0,1)= 0\n",
      "(1,0)= 0\n",
      "(1,1)= 1\n"
     ]
    }
   ],
   "source": [
    "# 同或门\n",
    "def NXOR(x1,x2):\n",
    "    return 1-XOR(x1,x2)\n",
    "\n",
    "print(\"NXOR:\")\n",
    "print(f\"NXOR(0,0)= {NXOR(0,0)}\")\n",
    "print(f\"NXOR(0,1)= {NXOR(0,1)}\")\n",
    "print(f\"NXOR(1,0)= {NXOR(1,0)}\")\n",
    "print(f\"NXOR(1,1)= {NXOR(1,1)}\")"
   ]
  },
  {
   "cell_type": "code",
   "execution_count": null,
   "metadata": {},
   "outputs": [],
   "source": []
  }
 ],
 "metadata": {
  "kernelspec": {
   "display_name": "Python 3",
   "language": "python",
   "name": "python3"
  },
  "language_info": {
   "codemirror_mode": {
    "name": "ipython",
    "version": 3
   },
   "file_extension": ".py",
   "mimetype": "text/x-python",
   "name": "python",
   "nbconvert_exporter": "python",
   "pygments_lexer": "ipython3",
   "version": "3.8.5"
  },
  "toc": {
   "base_numbering": 1,
   "nav_menu": {},
   "number_sections": true,
   "sideBar": true,
   "skip_h1_title": false,
   "title_cell": "Table of Contents",
   "title_sidebar": "Contents",
   "toc_cell": false,
   "toc_position": {},
   "toc_section_display": true,
   "toc_window_display": false
  }
 },
 "nbformat": 4,
 "nbformat_minor": 4
}
