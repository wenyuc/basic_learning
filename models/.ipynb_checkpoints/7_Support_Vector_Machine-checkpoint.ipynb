{
 "cells": [
  {
   "cell_type": "markdown",
   "metadata": {},
   "source": [
    "### Summary\n",
    "\n",
    "- SVM包括线性和非线性：\n",
    "线性：找出最优超平面\n",
    "非线性（核函数）: 非线性最优超平面\n",
    "\n",
    "- SVM使用间隔最大化思想找出最优超平面；\n",
    "\n",
    "- 构造出来的最优超平面使其与最近的点距离最大；\n",
    "\n",
    "- SVM也可划分非线性数据集。\n",
    "\n",
    "- 它通过高维中的线性超平面在低维中的投影来完成非线性划分。因此，模型有个升维的过程。\n",
    "\n",
    "- "
   ]
  }
 ],
 "metadata": {
  "kernelspec": {
   "display_name": "Python 3",
   "language": "python",
   "name": "python3"
  },
  "language_info": {
   "codemirror_mode": {
    "name": "ipython",
    "version": 3
   },
   "file_extension": ".py",
   "mimetype": "text/x-python",
   "name": "python",
   "nbconvert_exporter": "python",
   "pygments_lexer": "ipython3",
   "version": "3.8.5"
  },
  "toc": {
   "base_numbering": 1,
   "nav_menu": {},
   "number_sections": true,
   "sideBar": true,
   "skip_h1_title": false,
   "title_cell": "Table of Contents",
   "title_sidebar": "Contents",
   "toc_cell": false,
   "toc_position": {},
   "toc_section_display": true,
   "toc_window_display": false
  }
 },
 "nbformat": 4,
 "nbformat_minor": 4
}
