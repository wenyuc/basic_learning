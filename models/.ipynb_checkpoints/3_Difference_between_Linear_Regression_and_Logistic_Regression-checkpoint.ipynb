{
 "cells": [
  {
   "cell_type": "markdown",
   "metadata": {},
   "source": [
    "### Difference Between Linear Regression and Logistic Regression\n",
    "\n",
    "- Outcome\n",
    "\n",
    "In linear regression, the outcome (dependent variable) is continuous. It can have any one of an infinite number of possible values.\n",
    "\n",
    "In logistic regression, the outcome (dependent variable) has only a limited number of possible values. \n",
    "\n",
    "- The dependent variable\n",
    "\n",
    "Logistic regression is used when the response variable is categorical in nature. For instance, yes/no, true/false, red/green/blue, 1st/2nd/3rd/4th, etc.\n",
    "\n",
    "Linear regression is used when your response variable is continuous. For instance, weight, height, number of hours, etc.\n",
    "\n",
    "- Equation\n",
    "\n",
    "Linear regression gives an equation which is of the form Y = mX + C, means equation with degree 1.\n",
    "\n",
    "However, logistic regression gives an equation which is of the form $ Y = \\cfrac{1}{1+ e^{-x}}$"
   ]
  },
  {
   "cell_type": "code",
   "execution_count": null,
   "metadata": {},
   "outputs": [],
   "source": []
  }
 ],
 "metadata": {
  "kernelspec": {
   "display_name": "Python 3",
   "language": "python",
   "name": "python3"
  },
  "language_info": {
   "codemirror_mode": {
    "name": "ipython",
    "version": 3
   },
   "file_extension": ".py",
   "mimetype": "text/x-python",
   "name": "python",
   "nbconvert_exporter": "python",
   "pygments_lexer": "ipython3",
   "version": "3.7.7"
  },
  "toc": {
   "base_numbering": 1,
   "nav_menu": {},
   "number_sections": true,
   "sideBar": true,
   "skip_h1_title": false,
   "title_cell": "Table of Contents",
   "title_sidebar": "Contents",
   "toc_cell": false,
   "toc_position": {},
   "toc_section_display": true,
   "toc_window_display": false
  }
 },
 "nbformat": 4,
 "nbformat_minor": 4
}
