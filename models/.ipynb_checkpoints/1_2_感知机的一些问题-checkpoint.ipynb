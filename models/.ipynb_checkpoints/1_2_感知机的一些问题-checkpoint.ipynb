{
 "cells": [
  {
   "cell_type": "markdown",
   "metadata": {},
   "source": [
    "#### 单层感知机无法解决异或（非线性）问题，那多层感知机（MLP）没有sigmoid激活函数的情况下能解决异或问题吗？\n",
    "可以通过sign函数解决异或问题。见1_1_逻辑门_perceptron.ipynb\n",
    "理论上使用sign激活函数的MLP就可以逼近任意非线性函数。\n",
    "\n",
    "激活函数需要满足的条件：\n",
    "(1)非线性，处处可导（也可个别点不可导）;\n",
    "(2)导数尽量简单，方便求导;\n",
    "(3)导数值域范围固定，以免梯度消失或爆炸\n",
    "sign 函数也有缺点，所以引入了后面的sigmoid,tanh, ReLU..."
   ]
  },
  {
   "cell_type": "markdown",
   "metadata": {},
   "source": [
    "#### 感知机在学习权重w和偏置b的时候使用随机梯度下降(SGD)，SGD和BP有什么区别？\n",
    "SGD指的是利用梯度下降更新权重和偏置的方法，而BP是快速计算梯度的方法。\n",
    "\n",
    "所以BP之前还有其他求梯度方法吗？答案是有的，如正向直接求导。这在一两层网络中完全是可行的。如本章中的感知机就是直接对loss求导。但当网络层数变多时，就到了BP的用武之地。"
   ]
  },
  {
   "cell_type": "markdown",
   "metadata": {},
   "source": [
    "#### SVM和感知机的区别\n",
    "\n",
    "SVM是种二类分类模型。它的基本模型是定义在特征空间上间隔最大的线性分类器，**间隔最大使他有别于感知机**。"
   ]
  },
  {
   "cell_type": "code",
   "execution_count": null,
   "metadata": {},
   "outputs": [],
   "source": []
  }
 ],
 "metadata": {
  "kernelspec": {
   "display_name": "Python 3",
   "language": "python",
   "name": "python3"
  },
  "language_info": {
   "codemirror_mode": {
    "name": "ipython",
    "version": 3
   },
   "file_extension": ".py",
   "mimetype": "text/x-python",
   "name": "python",
   "nbconvert_exporter": "python",
   "pygments_lexer": "ipython3",
   "version": "3.8.5"
  },
  "toc": {
   "base_numbering": 1,
   "nav_menu": {},
   "number_sections": true,
   "sideBar": true,
   "skip_h1_title": false,
   "title_cell": "Table of Contents",
   "title_sidebar": "Contents",
   "toc_cell": false,
   "toc_position": {},
   "toc_section_display": true,
   "toc_window_display": false
  }
 },
 "nbformat": 4,
 "nbformat_minor": 4
}
