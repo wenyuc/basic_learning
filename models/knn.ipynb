{
 "cells": [
  {
   "cell_type": "markdown",
   "metadata": {},
   "source": [
    "### 总结\n",
    "- k-近邻思想：物以类聚\n",
    "- k-近邻没有显示的训练过程\n",
    "- 距离度量：欧式距离，曼哈顿距离，切比雪夫距离\n"
   ]
  },
  {
   "cell_type": "markdown",
   "metadata": {},
   "source": [
    "### 距离度量\n",
    "\n",
    "首先令 $ x_i=(x_i^{(1)}, x_i^{(2)}, \\cdots, x_i^{(n)}), x_j=(x_j^{(1)}, x_j^{(2)}, \\cdots, x_j^{(n)})   $\n",
    "\n",
    "#### 欧式距离（也称二范数）\n",
    "$$ L_2(x_i, x_j) = \\left(\\sum_{l=1}^n \\mid x_i^{(l)} - x_j^{(l)} \\mid^2 \\right)^{\\cfrac {1}{2}} $$\n",
    "\n",
    "#### 曼哈顿距离（也称一范数 或城市街区距离）\n",
    "$$ L_1(x_i, x_j) = \\sum_{l=1}^n \\mid x_i^{(l)} - x_j^{(l)} \\mid $$\n",
    "\n",
    "#### p范数\n",
    "$$ L_p(x_i, x_j) = \\left(\\sum_{l=1}^n \\mid x_i^{(l)} - x_j^{(l)} \\mid^p \\right)^{\\cfrac {1}{p}} $$\n",
    "\n",
    "当 $ p = \\infty $时，它是各个坐标距离的最大值，即：\n",
    "$$ L_{\\infty}(x_i, x_j) = \\underset{l}{max} \\mid x_i^{(l)} - x_j^{(l)} \\mid $$"
   ]
  },
  {
   "cell_type": "code",
   "execution_count": null,
   "metadata": {},
   "outputs": [],
   "source": []
  }
 ],
 "metadata": {
  "kernelspec": {
   "display_name": "Python 3",
   "language": "python",
   "name": "python3"
  },
  "language_info": {
   "codemirror_mode": {
    "name": "ipython",
    "version": 3
   },
   "file_extension": ".py",
   "mimetype": "text/x-python",
   "name": "python",
   "nbconvert_exporter": "python",
   "pygments_lexer": "ipython3",
   "version": "3.7.7"
  },
  "toc": {
   "base_numbering": 1,
   "nav_menu": {},
   "number_sections": true,
   "sideBar": true,
   "skip_h1_title": false,
   "title_cell": "Table of Contents",
   "title_sidebar": "Contents",
   "toc_cell": false,
   "toc_position": {},
   "toc_section_display": true,
   "toc_window_display": false
  }
 },
 "nbformat": 4,
 "nbformat_minor": 4
}
