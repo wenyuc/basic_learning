{
 "cells": [
  {
   "cell_type": "markdown",
   "metadata": {},
   "source": [
    "### Chebyshev's Theorem\n",
    "\n",
    "#### Overview\n",
    "Chebyshev's theorem gives you the minimum proportion of data that is within K standard deviations of the mean.\n",
    "\n",
    "And to calculate the proportion, you could use the formula:\n",
    "$$ 1- \\cfrac{1}{k^2} \\;,\\; k> 1$$\n",
    "\n",
    "Chebyshev's theorem works for any type of distrbution. It's an inequality. It gives you the minimum amount of a portion or the minimum fortune of data that is within standard deviation of the mean. \n",
    "\n",
    "It doesnt give you the exact answer but it gives you a range of answers. \n",
    "\n",
    "#### Examples\n",
    "\n",
    "1. The average weight of individuals in city XYZ is 170lbs with a standard deviation of 10. \n",
    "\n",
    "**(a)** If the city contains 200,000 residents, what is the minimum percentage of individuals with a weight between 145lbs and 195lbs in the city?\n",
    "\n",
    "$ x= \\mu + k|cdot{s} $\n",
    "\n",
    "$ k = \\cfrac{x-\\mu}{s} $\n",
    "\n",
    "In our example, $ k=2.5$\n",
    "\n",
    "plugs into $ 1-\\cfrac{1}{k^2} \\approx 0.84$\n",
    "\n",
    "**(b)** what is the minimum **amount** of individuals with weight between 140lbs and 200lbs?\n",
    "\n",
    "$ k = \\cfrac{x-\\mu}{s} $\n",
    "\n",
    "In our example, $ k=3$\n",
    "\n",
    "plugs into $ 1-\\cfrac{1}{k^2} \\approx 0.889$\n",
    "\n",
    "$ 200,000 \\cdot 0.889 = 177800 $\n"
   ]
  },
  {
   "cell_type": "code",
   "execution_count": null,
   "metadata": {},
   "outputs": [],
   "source": []
  }
 ],
 "metadata": {
  "kernelspec": {
   "display_name": "Python 3",
   "language": "python",
   "name": "python3"
  },
  "language_info": {
   "codemirror_mode": {
    "name": "ipython",
    "version": 3
   },
   "file_extension": ".py",
   "mimetype": "text/x-python",
   "name": "python",
   "nbconvert_exporter": "python",
   "pygments_lexer": "ipython3",
   "version": "3.7.7"
  },
  "toc": {
   "base_numbering": 1,
   "nav_menu": {},
   "number_sections": true,
   "sideBar": true,
   "skip_h1_title": false,
   "title_cell": "Table of Contents",
   "title_sidebar": "Contents",
   "toc_cell": false,
   "toc_position": {},
   "toc_section_display": true,
   "toc_window_display": false
  }
 },
 "nbformat": 4,
 "nbformat_minor": 4
}
