{
 "cells": [
  {
   "cell_type": "markdown",
   "metadata": {},
   "source": [
    "#### 计算利润的奖金：\n",
    "小于等于10万时，奖金可提10% \n",
    "大于10万小于20万时，低于10万的部分按10%提，高于10万的部分按7.5%提；\n",
    "20万到40万之间时，高于20万的部分提5%；\n",
    "40万到60万之间时，高于40万的部分提3%；\n",
    "60万到100万之间时，高于60万的部分提1.5%；\n",
    "100万以上时，高于100万的部分提1% "
   ]
  },
  {
   "cell_type": "code",
   "execution_count": 13,
   "metadata": {},
   "outputs": [
    {
     "name": "stdout",
     "output_type": "stream",
     "text": [
      "Profit:12\n",
      "4,profit:12,bonus0.15\n",
      "5,profit:10,bonus1.15\n",
      "bonus = 1.15\n"
     ]
    }
   ],
   "source": [
    "bonus_ratio = [0.01, 0.015, 0.03, 0.05, 0.075, 0.1]\n",
    "check_point = [100, 60, 40, 20, 10, 0]\n",
    "\n",
    "profit = int(input(\"Profit:\"))\n",
    "\n",
    "bonus = 0\n",
    "for idx in range(0, 6):\n",
    "    if profit > check_point[idx]:\n",
    "        bonus += (profit-check_point[idx]) * bonus_ratio[idx]\n",
    "        print(f\"{idx},profit:{profit},bonus{bonus}\")\n",
    "        profit = check_point[idx]\n",
    "print(f\"bonus = {bonus}\")"
   ]
  },
  {
   "cell_type": "markdown",
   "metadata": {},
   "source": [
    "#### 由1，2，3，4能组成多少个互不相同且不重复的三位数，列出"
   ]
  },
  {
   "cell_type": "code",
   "execution_count": 16,
   "metadata": {},
   "outputs": [
    {
     "name": "stdout",
     "output_type": "stream",
     "text": [
      "1 2 3\n",
      "1 2 4\n",
      "1 3 2\n",
      "1 3 4\n",
      "1 4 2\n",
      "1 4 3\n",
      "2 1 3\n",
      "2 1 4\n",
      "2 3 1\n",
      "2 3 4\n",
      "2 4 1\n",
      "2 4 3\n",
      "3 1 2\n",
      "3 1 4\n",
      "3 2 1\n",
      "3 2 4\n",
      "3 4 1\n",
      "3 4 2\n",
      "4 1 2\n",
      "4 1 3\n",
      "4 2 1\n",
      "4 2 3\n",
      "4 3 1\n",
      "4 3 2\n",
      "total:24\n"
     ]
    }
   ],
   "source": [
    "count = 0 \n",
    "for i in range(1,5):\n",
    "    for j in range(1,5):\n",
    "        for k in range(1,5):\n",
    "            if i != j and j != k and i != k:\n",
    "                count += 1\n",
    "                print(i,j,k)\n",
    "print(f\"total:{count}\")"
   ]
  },
  {
   "cell_type": "markdown",
   "metadata": {},
   "source": [
    "#### 数字运算转换\n",
    "如果一个数加上100是个完全平方数，再加上268后又是个完全平方数，找出这个数"
   ]
  },
  {
   "cell_type": "code",
   "execution_count": 24,
   "metadata": {},
   "outputs": [
    {
     "name": "stdout",
     "output_type": "stream",
     "text": [
      "4356\n"
     ]
    }
   ],
   "source": [
    "import math\n",
    "for i in range(20000):\n",
    "    j = math.sqrt(i)\n",
    "    if j == int(j):\n",
    "        k = math.sqrt(j ** 2 + 268)\n",
    "        if k == int(k):\n",
    "            print(i)\n",
    "    else:\n",
    "        pass"
   ]
  }
 ],
 "metadata": {
  "kernelspec": {
   "display_name": "Python 3",
   "language": "python",
   "name": "python3"
  },
  "language_info": {
   "codemirror_mode": {
    "name": "ipython",
    "version": 3
   },
   "file_extension": ".py",
   "mimetype": "text/x-python",
   "name": "python",
   "nbconvert_exporter": "python",
   "pygments_lexer": "ipython3",
   "version": "3.8.5"
  },
  "toc": {
   "base_numbering": 1,
   "nav_menu": {},
   "number_sections": true,
   "sideBar": true,
   "skip_h1_title": false,
   "title_cell": "Table of Contents",
   "title_sidebar": "Contents",
   "toc_cell": false,
   "toc_position": {},
   "toc_section_display": true,
   "toc_window_display": false
  }
 },
 "nbformat": 4,
 "nbformat_minor": 4
}
