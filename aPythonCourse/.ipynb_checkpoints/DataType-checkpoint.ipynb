{
 "cells": [
  {
   "cell_type": "markdown",
   "id": "visible-street",
   "metadata": {},
   "source": [
    "String"
   ]
  },
  {
   "cell_type": "code",
   "execution_count": 19,
   "id": "passing-caribbean",
   "metadata": {},
   "outputs": [],
   "source": [
    "from IPython.core.interactiveshell import InteractiveShell\n",
    "InteractiveShell.ast_node_interactivity = \"all\""
   ]
  },
  {
   "cell_type": "code",
   "execution_count": 4,
   "id": "theoretical-equilibrium",
   "metadata": {},
   "outputs": [
    {
     "name": "stdout",
     "output_type": "stream",
     "text": [
      "The final number is 46.\n",
      "The final number is 46.\n"
     ]
    }
   ],
   "source": [
    "additional_words = \"final\"\n",
    "my_number = 46\n",
    "\n",
    "print(f'The {additional_words} number is {my_number}.')\n",
    "print('The %s number is %d.' % (additional_words, my_number))"
   ]
  },
  {
   "cell_type": "code",
   "execution_count": 12,
   "id": "realistic-library",
   "metadata": {},
   "outputs": [
    {
     "name": "stdout",
     "output_type": "stream",
     "text": [
      "['135.252.215.183 ', ' 5005']\n",
      "<class 'list'>\n",
      "135.252.215.183\n",
      "5005\n",
      "135.252.215.183 : 5005\n"
     ]
    }
   ],
   "source": [
    "one_string = \"135.252.215.183 : 5005\"\n",
    "two_strings = one_string.split(\":\")\n",
    "print(two_strings)\n",
    "print(type(two_strings))\n",
    "print(two_strings[0].strip())\n",
    "print(two_strings[1].strip())\n",
    "print(one_string)"
   ]
  },
  {
   "cell_type": "markdown",
   "id": "sudden-potential",
   "metadata": {},
   "source": [
    "There are special characters '\\t', '\\r', '\\n'"
   ]
  },
  {
   "cell_type": "code",
   "execution_count": 20,
   "id": "threaded-synthetic",
   "metadata": {},
   "outputs": [
    {
     "name": "stdout",
     "output_type": "stream",
     "text": [
      "2022-0728\tmid-summer day\t fun\r\n",
      "\n",
      "2022-0728\tmid-summer day\t fun\n",
      "['2022-0728', 'mid-summer day', ' fun']\n"
     ]
    },
    {
     "data": {
      "text/plain": [
       "3"
      ]
     },
     "execution_count": 20,
     "metadata": {},
     "output_type": "execute_result"
    },
    {
     "data": {
      "text/plain": [
       "'2022-0728'"
      ]
     },
     "execution_count": 20,
     "metadata": {},
     "output_type": "execute_result"
    }
   ],
   "source": [
    "row = \"2022-0728\\tmid-summer day\\t fun\\r\\n\"\n",
    "print(row)\n",
    "row = row.strip('\\r\\n')\n",
    "print(row)\n",
    "items = row.split('\\t')\n",
    "print(items)\n",
    "len(items)\n",
    "items[0]"
   ]
  },
  {
   "cell_type": "code",
   "execution_count": 28,
   "id": "quarterly-mustang",
   "metadata": {},
   "outputs": [
    {
     "name": "stdout",
     "output_type": "stream",
     "text": [
      "\r\n",
      "Another\todd\tline\r\n",
      "\n",
      "Another\todd\tline\n",
      "Another,odd,line\n",
      "['Another', 'odd', 'line']\n"
     ]
    }
   ],
   "source": [
    "row = \"\\r\\nAnother\\todd\\tline\\r\\n\"\n",
    "print(row)\n",
    "row = row.replace('\\r\\n','')\n",
    "print(row)\n",
    "row = row.replace('\\t',',')\n",
    "print(row)\n",
    "row = row.split(',')\n",
    "print(row)"
   ]
  },
  {
   "cell_type": "code",
   "execution_count": null,
   "id": "infectious-general",
   "metadata": {},
   "outputs": [],
   "source": []
  }
 ],
 "metadata": {
  "kernelspec": {
   "display_name": "Python 3",
   "language": "python",
   "name": "python3"
  },
  "language_info": {
   "codemirror_mode": {
    "name": "ipython",
    "version": 3
   },
   "file_extension": ".py",
   "mimetype": "text/x-python",
   "name": "python",
   "nbconvert_exporter": "python",
   "pygments_lexer": "ipython3",
   "version": "3.7.7"
  },
  "toc": {
   "base_numbering": 1,
   "nav_menu": {},
   "number_sections": true,
   "sideBar": true,
   "skip_h1_title": false,
   "title_cell": "Table of Contents",
   "title_sidebar": "Contents",
   "toc_cell": false,
   "toc_position": {
    "height": "calc(100% - 180px)",
    "left": "10px",
    "top": "150px",
    "width": "165px"
   },
   "toc_section_display": true,
   "toc_window_display": true
  }
 },
 "nbformat": 4,
 "nbformat_minor": 5
}
