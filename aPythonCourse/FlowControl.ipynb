{
 "cells": [
  {
   "cell_type": "code",
   "execution_count": 4,
   "id": "funded-syndication",
   "metadata": {},
   "outputs": [
    {
     "name": "stdout",
     "output_type": "stream",
     "text": [
      "Mon [1]\n",
      "Tue [2]\n",
      "Wed [3]\n",
      "Thu [4]\n",
      "Fri [5]\n",
      "Sat [6]\n",
      "Sun [7]\n"
     ]
    }
   ],
   "source": [
    "wds = ['Mon', 'Tue', 'Wed', 'Thu', 'Fri', 'Sat', 'Sun']\n",
    "for i, d in enumerate(wds):\n",
    "    print('%s [%d]' % (d, i+1))"
   ]
  },
  {
   "cell_type": "code",
   "execution_count": 6,
   "id": "annoying-somerset",
   "metadata": {},
   "outputs": [
    {
     "name": "stdout",
     "output_type": "stream",
     "text": [
      "Mon [1]\n",
      "Tue [2]\n",
      "Wed [3]\n",
      "Thu [4]\n",
      "Fri [5]\n",
      "Sat [6]\n",
      "Sun [7]\n"
     ]
    }
   ],
   "source": [
    "wds = ('Mon', 'Tue', 'Wed', 'Thu', 'Fri', 'Sat', 'Sun')\n",
    "for i, d in enumerate(wds):\n",
    "    print('%s [%d]' % (d, i+1))"
   ]
  },
  {
   "cell_type": "code",
   "execution_count": 2,
   "id": "greek-details",
   "metadata": {},
   "outputs": [
    {
     "name": "stdout",
     "output_type": "stream",
     "text": [
      "a --> 123\n",
      "b --> 456\n",
      "c --> 789\n"
     ]
    }
   ],
   "source": [
    "d = {'a': 123, 'b': 456, 'c' : 789}\n",
    "for key, data in d.items():\n",
    "    print('%s --> %d' % (key, data))"
   ]
  },
  {
   "cell_type": "code",
   "execution_count": 8,
   "id": "secondary-movie",
   "metadata": {},
   "outputs": [
    {
     "name": "stdout",
     "output_type": "stream",
     "text": [
      "Trying to connect to target...\n",
      "Trying to connect to target...\n",
      "Trying to connect to target...\n",
      "User cancel. Stopped\n"
     ]
    }
   ],
   "source": [
    "import time, random\n",
    "\n",
    "timeout = time.time() + 10.0\n",
    "\n",
    "while True:\n",
    "    print('Trying to connect to target...')\n",
    "    if random.randint(0, 5) == 4:\n",
    "        print('Connected. work done')\n",
    "        break\n",
    "    if time.time() >= timeout:\n",
    "        print('Time out. Exiting')\n",
    "        break\n",
    "    try:\n",
    "        time.sleep(3.0)\n",
    "    except:\n",
    "        print('User cancel. Stopped')\n",
    "        break"
   ]
  },
  {
   "cell_type": "markdown",
   "id": "agricultural-poultry",
   "metadata": {},
   "source": [
    "In the Linux, window cmd window, the try-except would likely catch the ctrl-c. In the Jupyter Notebook, It's the Kernel - Interrupt. "
   ]
  },
  {
   "cell_type": "code",
   "execution_count": 11,
   "id": "plastic-circle",
   "metadata": {},
   "outputs": [
    {
     "name": "stdout",
     "output_type": "stream",
     "text": [
      "1! = 1\n",
      "6! = 720 \n"
     ]
    }
   ],
   "source": [
    "def factorial(n):\n",
    "    if n <= 1:\n",
    "        return 1\n",
    "    else:\n",
    "        return n * factorial(n-1)\n",
    "\n",
    "def main():\n",
    "    fac = factorial(1)\n",
    "    print('1! = %d' % fac)\n",
    "    \n",
    "    fac = factorial(6)\n",
    "    print('6! = %d ' % fac)\n",
    "\n",
    "main()"
   ]
  },
  {
   "cell_type": "code",
   "execution_count": 12,
   "id": "stupid-front",
   "metadata": {},
   "outputs": [
    {
     "data": {
      "text/plain": [
       "402387260077093773543702433923003985719374864210714632543799910429938512398629020592044208486969404800479988610197196058631666872994808558901323829669944590997424504087073759918823627727188732519779505950995276120874975462497043601418278094646496291056393887437886487337119181045825783647849977012476632889835955735432513185323958463075557409114262417474349347553428646576611667797396668820291207379143853719588249808126867838374559731746136085379534524221586593201928090878297308431392844403281231558611036976801357304216168747609675871348312025478589320767169132448426236131412508780208000261683151027341827977704784635868170164365024153691398281264810213092761244896359928705114964975419909342221566832572080821333186116811553615836546984046708975602900950537616475847728421889679646244945160765353408198901385442487984959953319101723355556602139450399736280750137837615307127761926849034352625200015888535147331611702103968175921510907788019393178114194545257223865541461062892187960223838971476088506276862967146674697562911234082439208160153780889893964518263243671616762179168909779911903754031274622289988005195444414282012187361745992642956581746628302955570299024324153181617210465832036786906117260158783520751516284225540265170483304226143974286933061690897968482590125458327168226458066526769958652682272807075781391858178889652208164348344825993266043367660176999612831860788386150279465955131156552036093988180612138558600301435694527224206344631797460594682573103790084024432438465657245014402821885252470935190620929023136493273497565513958720559654228749774011413346962715422845862377387538230483865688976461927383814900140767310446640259899490222221765904339901886018566526485061799702356193897017860040811889729918311021171229845901641921068884387121855646124960798722908519296819372388642614839657382291123125024186649353143970137428531926649875337218940694281434118520158014123344828015051399694290153483077644569099073152433278288269864602789864321139083506217095002597389863554277196742822248757586765752344220207573630569498825087968928162753848863396909959826280956121450994871701244516461260379029309120889086942028510640182154399457156805941872748998094254742173582401063677404595741785160829230135358081840096996372524230560855903700624271243416909004153690105933983835777939410970027753472000000000000000000000000000000000000000000000000000000000000000000000000000000000000000000000000000000000000000000000000000000000000000000000000000000000000000000000000000000000000000000000000000000000000000000000000000000000000000000000000000000000"
      ]
     },
     "execution_count": 12,
     "metadata": {},
     "output_type": "execute_result"
    }
   ],
   "source": [
    "factorial(1000)"
   ]
  },
  {
   "cell_type": "code",
   "execution_count": null,
   "id": "disciplinary-singles",
   "metadata": {},
   "outputs": [],
   "source": []
  }
 ],
 "metadata": {
  "kernelspec": {
   "display_name": "Python 3",
   "language": "python",
   "name": "python3"
  },
  "language_info": {
   "codemirror_mode": {
    "name": "ipython",
    "version": 3
   },
   "file_extension": ".py",
   "mimetype": "text/x-python",
   "name": "python",
   "nbconvert_exporter": "python",
   "pygments_lexer": "ipython3",
   "version": "3.7.7"
  },
  "toc": {
   "base_numbering": 1,
   "nav_menu": {},
   "number_sections": true,
   "sideBar": true,
   "skip_h1_title": false,
   "title_cell": "Table of Contents",
   "title_sidebar": "Contents",
   "toc_cell": false,
   "toc_position": {},
   "toc_section_display": true,
   "toc_window_display": false
  }
 },
 "nbformat": 4,
 "nbformat_minor": 5
}
