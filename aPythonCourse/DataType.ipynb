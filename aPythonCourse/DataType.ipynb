{
 "cells": [
  {
   "cell_type": "markdown",
   "id": "visible-street",
   "metadata": {},
   "source": [
    "String"
   ]
  },
  {
   "cell_type": "code",
   "execution_count": 1,
   "id": "passing-caribbean",
   "metadata": {},
   "outputs": [],
   "source": [
    "from IPython.core.interactiveshell import InteractiveShell\n",
    "InteractiveShell.ast_node_interactivity = \"all\""
   ]
  },
  {
   "cell_type": "code",
   "execution_count": 2,
   "id": "theoretical-equilibrium",
   "metadata": {},
   "outputs": [
    {
     "name": "stdout",
     "output_type": "stream",
     "text": [
      "The final number is 46.\n",
      "The final number is 46.\n"
     ]
    }
   ],
   "source": [
    "additional_words = \"final\"\n",
    "my_number = 46\n",
    "\n",
    "print(f'The {additional_words} number is {my_number}.')\n",
    "print('The %s number is %d.' % (additional_words, my_number))"
   ]
  },
  {
   "cell_type": "code",
   "execution_count": 3,
   "id": "realistic-library",
   "metadata": {},
   "outputs": [
    {
     "name": "stdout",
     "output_type": "stream",
     "text": [
      "['135.252.215.183 ', ' 5005']\n",
      "<class 'list'>\n",
      "135.252.215.183\n",
      "5005\n",
      "135.252.215.183 : 5005\n"
     ]
    }
   ],
   "source": [
    "one_string = \"135.252.215.183 : 5005\"\n",
    "two_strings = one_string.split(\":\")\n",
    "print(two_strings)\n",
    "print(type(two_strings))\n",
    "print(two_strings[0].strip())\n",
    "print(two_strings[1].strip())\n",
    "print(one_string)"
   ]
  },
  {
   "cell_type": "markdown",
   "id": "sudden-potential",
   "metadata": {},
   "source": [
    "There are special characters '\\t', '\\r', '\\n'"
   ]
  },
  {
   "cell_type": "code",
   "execution_count": 4,
   "id": "threaded-synthetic",
   "metadata": {},
   "outputs": [
    {
     "name": "stdout",
     "output_type": "stream",
     "text": [
      "2022-0728\tmid-summer day\t fun\r\n",
      "\n",
      "2022-0728\tmid-summer day\t fun\n",
      "['2022-0728', 'mid-summer day', ' fun']\n"
     ]
    },
    {
     "data": {
      "text/plain": [
       "3"
      ]
     },
     "execution_count": 4,
     "metadata": {},
     "output_type": "execute_result"
    },
    {
     "data": {
      "text/plain": [
       "'2022-0728'"
      ]
     },
     "execution_count": 4,
     "metadata": {},
     "output_type": "execute_result"
    }
   ],
   "source": [
    "row = \"2022-0728\\tmid-summer day\\t fun\\r\\n\"\n",
    "print(row)\n",
    "row = row.strip('\\r\\n')\n",
    "print(row)\n",
    "items = row.split('\\t')\n",
    "print(items)\n",
    "len(items)\n",
    "items[0]"
   ]
  },
  {
   "cell_type": "code",
   "execution_count": 5,
   "id": "quarterly-mustang",
   "metadata": {},
   "outputs": [
    {
     "name": "stdout",
     "output_type": "stream",
     "text": [
      "\r\n",
      "Another\todd\tline\r\n",
      "\n",
      "Another\todd\tline\n",
      "Another,odd,line\n",
      "['Another', 'odd', 'line']\n"
     ]
    }
   ],
   "source": [
    "row = \"\\r\\nAnother\\todd\\tline\\r\\n\"\n",
    "print(row)\n",
    "row = row.replace('\\r\\n','')\n",
    "print(row)\n",
    "row = row.replace('\\t',',')\n",
    "print(row)\n",
    "row = row.split(',')\n",
    "print(row)"
   ]
  },
  {
   "cell_type": "code",
   "execution_count": 6,
   "id": "infectious-general",
   "metadata": {},
   "outputs": [
    {
     "data": {
      "text/plain": [
       "str"
      ]
     },
     "execution_count": 6,
     "metadata": {},
     "output_type": "execute_result"
    },
    {
     "data": {
      "text/plain": [
       "str"
      ]
     },
     "execution_count": 6,
     "metadata": {},
     "output_type": "execute_result"
    },
    {
     "data": {
      "text/plain": [
       "str"
      ]
     },
     "execution_count": 6,
     "metadata": {},
     "output_type": "execute_result"
    }
   ],
   "source": [
    "type(hex(10))\n",
    "type(oct(10))\n",
    "type(bin(10))"
   ]
  },
  {
   "cell_type": "code",
   "execution_count": 15,
   "id": "matched-skirt",
   "metadata": {},
   "outputs": [
    {
     "name": "stdout",
     "output_type": "stream",
     "text": [
      "10\n",
      "10\n",
      "10\n",
      "10\n",
      "10\n",
      "10\n",
      "10\n",
      "10\n"
     ]
    }
   ],
   "source": [
    "#dec\n",
    "print(int('10'))\n",
    "print(int('10',10))\n",
    "\n",
    "#hex\n",
    "print(int('0xa',16))\n",
    "print(int('a',16))\n",
    "print(int('A',16))\n",
    "\n",
    "#oct\n",
    "print(int('0o12',8))\n",
    "print(int('12',8))\n",
    "\n",
    "#bin\n",
    "print(int('1010',2))"
   ]
  },
  {
   "cell_type": "code",
   "execution_count": 16,
   "id": "paperback-france",
   "metadata": {},
   "outputs": [
    {
     "name": "stdout",
     "output_type": "stream",
     "text": [
      "<class 'float'>\n"
     ]
    }
   ],
   "source": [
    "print(type(42.0))"
   ]
  },
  {
   "cell_type": "code",
   "execution_count": 18,
   "id": "mature-northeast",
   "metadata": {},
   "outputs": [
    {
     "name": "stdout",
     "output_type": "stream",
     "text": [
      "0.0012\n",
      "0.7999999999999972\n"
     ]
    }
   ],
   "source": [
    "#conversion from other type\n",
    "print(float('1.2e-3'))\n",
    "print(42.8-42)"
   ]
  },
  {
   "cell_type": "markdown",
   "id": "asian-voltage",
   "metadata": {},
   "source": [
    "substitution with %f"
   ]
  },
  {
   "cell_type": "code",
   "execution_count": 25,
   "id": "numeric-racing",
   "metadata": {},
   "outputs": [
    {
     "name": "stdout",
     "output_type": "stream",
     "text": [
      "We have 0.083333 Xmas trees on monthly basis.\n",
      "We have 0.08 Xmas trees on monthly basis.\n",
      "There is 8.33% Xmas trees on monthly basis.\n"
     ]
    }
   ],
   "source": [
    "monthlyAverage = 1 / 12.0\n",
    "print('We have %f Xmas trees on monthly basis.' % (monthlyAverage))\n",
    "print('We have %.2f Xmas trees on monthly basis.' % (monthlyAverage))\n",
    "print('There is %.2f%% Xmas trees on monthly basis.' % (monthlyAverage * 100.))"
   ]
  },
  {
   "cell_type": "code",
   "execution_count": 26,
   "id": "protective-pricing",
   "metadata": {},
   "outputs": [
    {
     "name": "stdout",
     "output_type": "stream",
     "text": [
      "<class 'tuple'>\n"
     ]
    }
   ],
   "source": [
    "print(type(('a',1)))"
   ]
  },
  {
   "cell_type": "code",
   "execution_count": null,
   "id": "driven-scanning",
   "metadata": {},
   "outputs": [],
   "source": [
    "tuple cannot be modified"
   ]
  },
  {
   "cell_type": "code",
   "execution_count": 27,
   "id": "extreme-oxygen",
   "metadata": {},
   "outputs": [
    {
     "name": "stdout",
     "output_type": "stream",
     "text": [
      "1\n"
     ]
    }
   ],
   "source": [
    "print(len(('b',)))"
   ]
  },
  {
   "cell_type": "code",
   "execution_count": 31,
   "id": "fatty-frequency",
   "metadata": {},
   "outputs": [
    {
     "name": "stdout",
     "output_type": "stream",
     "text": [
      "pie\n",
      "3.1415\n",
      "10\n"
     ]
    },
    {
     "data": {
      "text/plain": [
       "('pie', 3.1415, 10)"
      ]
     },
     "execution_count": 31,
     "metadata": {},
     "output_type": "execute_result"
    }
   ],
   "source": [
    "a = ('pie', 3.1415, int('1010',2))\n",
    "print(a[0])\n",
    "print(a[1])\n",
    "print(a[2])\n",
    "a[0], a[1], a[2]"
   ]
  },
  {
   "cell_type": "code",
   "execution_count": 32,
   "id": "incident-highway",
   "metadata": {},
   "outputs": [
    {
     "name": "stdout",
     "output_type": "stream",
     "text": [
      "<class 'list'>\n"
     ]
    }
   ],
   "source": [
    "print(type([1,2,3,4]))"
   ]
  },
  {
   "cell_type": "markdown",
   "id": "olympic-reception",
   "metadata": {},
   "source": [
    "list can be set and modified"
   ]
  },
  {
   "cell_type": "code",
   "execution_count": 43,
   "id": "trying-flexibility",
   "metadata": {},
   "outputs": [
    {
     "name": "stdout",
     "output_type": "stream",
     "text": [
      "[0, 2, 4, 1, 2, 3]\n",
      "[0, 1, 2, 2, 3, 4]\n",
      "[0, 1, 2, 2, 3, 4, -1]\n"
     ]
    },
    {
     "data": {
      "text/plain": [
       "[0, 1, 2, 2, 3, 4, -1, '-1']"
      ]
     },
     "execution_count": 43,
     "metadata": {},
     "output_type": "execute_result"
    }
   ],
   "source": [
    "a = [0,2,4]\n",
    "b = [1,2,3]\n",
    "\n",
    "c = a + b \n",
    "print(c)\n",
    "c.sort()\n",
    "print(c)\n",
    "c.append(-1)\n",
    "print(c)\n",
    "c.append('-1')\n",
    "c "
   ]
  },
  {
   "cell_type": "code",
   "execution_count": 45,
   "id": "developing-payroll",
   "metadata": {},
   "outputs": [
    {
     "name": "stdout",
     "output_type": "stream",
     "text": [
      "<class 'str'> cat\n",
      "<class 'int'> 1\n",
      "<class 'float'> 2.0\n",
      "<class 'tuple'> ('hell', 3.14)\n",
      "<class 'list'> [5, 6, 7]\n"
     ]
    }
   ],
   "source": [
    "d = ['cat',1, 2.0, (\"hell\", 3.14), [5,6,7]]\n",
    "for item in d:\n",
    "    print(type(item), item)"
   ]
  },
  {
   "cell_type": "code",
   "execution_count": 46,
   "id": "marine-table",
   "metadata": {},
   "outputs": [
    {
     "data": {
      "text/plain": [
       "['cat', 'dog', 2.0, ('hell', 3.14), [5, 6, 7]]"
      ]
     },
     "execution_count": 46,
     "metadata": {},
     "output_type": "execute_result"
    }
   ],
   "source": [
    "d[1] = 'dog'\n",
    "d[0:]"
   ]
  },
  {
   "cell_type": "code",
   "execution_count": 47,
   "id": "advance-bahamas",
   "metadata": {},
   "outputs": [
    {
     "data": {
      "text/plain": [
       "['cats', 'dogs', 2.0, ('hell', 3.14), [5, 6, 7]]"
      ]
     },
     "execution_count": 47,
     "metadata": {},
     "output_type": "execute_result"
    }
   ],
   "source": [
    "d[0] += 's'\n",
    "d[1] += 's'\n",
    "d[0:]"
   ]
  },
  {
   "cell_type": "code",
   "execution_count": 50,
   "id": "strange-switch",
   "metadata": {},
   "outputs": [
    {
     "data": {
      "text/plain": [
       "'dogs'"
      ]
     },
     "execution_count": 50,
     "metadata": {},
     "output_type": "execute_result"
    },
    {
     "data": {
      "text/plain": [
       "('hell', 3.14)"
      ]
     },
     "execution_count": 50,
     "metadata": {},
     "output_type": "execute_result"
    }
   ],
   "source": [
    "poppeditem1 = d.pop(0)\n",
    "poppeditem1\n",
    "poppeditem2 = d.pop(-2)\n",
    "poppeditem2"
   ]
  },
  {
   "cell_type": "code",
   "execution_count": 53,
   "id": "exotic-wildlife",
   "metadata": {},
   "outputs": [
    {
     "name": "stdout",
     "output_type": "stream",
     "text": [
      "<class 'dict'>\n",
      "<class 'dict'>\n"
     ]
    }
   ],
   "source": [
    "print(type({}))\n",
    "print(type({'female': 'Eve', 'Male':'Adam'}))"
   ]
  },
  {
   "cell_type": "code",
   "execution_count": 55,
   "id": "exciting-president",
   "metadata": {},
   "outputs": [],
   "source": [
    "b = {\n",
    "    '192.168.0.1:196.168.1.252' : ['187362:125347', 75.48, 'working'],\n",
    "    '135.252.215.184:135.252.208.28' : ['465894:634562',74.01, 'stopped']\n",
    "}"
   ]
  },
  {
   "cell_type": "code",
   "execution_count": 60,
   "id": "hourly-rolling",
   "metadata": {},
   "outputs": [
    {
     "data": {
      "text/plain": [
       "{'192.168.0.1:196.168.1.252': ['187362:125347', 75.48, 'working'],\n",
       " '135.252.215.184:135.252.208.28': ['465894:634562', 74.01, 'stopped'],\n",
       " '196.176.231.1:196.176.232.221': ['343487:234534', 86.24, 'working']}"
      ]
     },
     "execution_count": 60,
     "metadata": {},
     "output_type": "execute_result"
    }
   ],
   "source": [
    "b['196.176.231.1:196.176.232.221'] = ['343487:234534']\n",
    "b['196.176.231.1:196.176.232.221'].append(86.24)\n",
    "b['196.176.231.1:196.176.232.221'].append('working')\n",
    "b "
   ]
  },
  {
   "cell_type": "markdown",
   "id": "surprised-colors",
   "metadata": {},
   "source": [
    "dicts are not ordered\n"
   ]
  },
  {
   "cell_type": "code",
   "execution_count": 64,
   "id": "australian-rugby",
   "metadata": {},
   "outputs": [
    {
     "name": "stdout",
     "output_type": "stream",
     "text": [
      "135.252.215.184:135.252.208.28\t 74\t stopped\n",
      "192.168.0.1:196.168.1.252\t 75\t working\n",
      "196.176.231.1:196.176.232.221\t 86\t working\n"
     ]
    }
   ],
   "source": [
    "keys = list(b.keys())\n",
    "keys.sort()\n",
    "for key in keys:\n",
    "    print('%s\\t %d\\t %s' % (key, b[key][1],b[key][2]))"
   ]
  },
  {
   "cell_type": "code",
   "execution_count": 65,
   "id": "improving-release",
   "metadata": {},
   "outputs": [
    {
     "name": "stdout",
     "output_type": "stream",
     "text": [
      "135.252.215.184:135.252.208.28\t 74\t stopped\n",
      "192.168.0.1:196.168.1.252\t 75\t working\n",
      "196.176.231.1:196.176.232.221\t 86\t working\n"
     ]
    }
   ],
   "source": [
    "for key in sorted(b.keys()):\n",
    "    print('%s\\t %d\\t %s' % (key, b[key][1],b[key][2]))"
   ]
  },
  {
   "cell_type": "code",
   "execution_count": null,
   "id": "located-airfare",
   "metadata": {},
   "outputs": [],
   "source": []
  }
 ],
 "metadata": {
  "kernelspec": {
   "display_name": "Python 3",
   "language": "python",
   "name": "python3"
  },
  "language_info": {
   "codemirror_mode": {
    "name": "ipython",
    "version": 3
   },
   "file_extension": ".py",
   "mimetype": "text/x-python",
   "name": "python",
   "nbconvert_exporter": "python",
   "pygments_lexer": "ipython3",
   "version": "3.7.7"
  },
  "toc": {
   "base_numbering": 1,
   "nav_menu": {},
   "number_sections": true,
   "sideBar": true,
   "skip_h1_title": false,
   "title_cell": "Table of Contents",
   "title_sidebar": "Contents",
   "toc_cell": false,
   "toc_position": {
    "height": "calc(100% - 180px)",
    "left": "10px",
    "top": "150px",
    "width": "165px"
   },
   "toc_section_display": true,
   "toc_window_display": true
  }
 },
 "nbformat": 4,
 "nbformat_minor": 5
}
