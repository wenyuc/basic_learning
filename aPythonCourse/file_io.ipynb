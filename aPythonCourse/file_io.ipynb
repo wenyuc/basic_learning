{
 "cells": [
  {
   "cell_type": "markdown",
   "id": "beautiful-ontario",
   "metadata": {},
   "source": [
    "# CVS File"
   ]
  },
  {
   "cell_type": "code",
   "execution_count": 1,
   "id": "photographic-remainder",
   "metadata": {},
   "outputs": [
    {
     "name": "stdout",
     "output_type": "stream",
     "text": [
      "Hello there!\n"
     ]
    }
   ],
   "source": [
    "with open(r'.\\takeAway.txt', 'w') as f:\n",
    "    f.write('Hello there!')\n",
    "\n",
    "with open(r'.\\takeAway.txt', 'r') as f:\n",
    "    content = f.read()\n",
    "\n",
    "print(content)\n",
    "f.close()"
   ]
  },
  {
   "cell_type": "code",
   "execution_count": 2,
   "id": "hollow-banana",
   "metadata": {},
   "outputs": [
    {
     "name": "stdout",
     "output_type": "stream",
     "text": [
      "Hello there!\n",
      "Is there anyboby in there... in there... in there?\n"
     ]
    }
   ],
   "source": [
    "fnp = r'.\\takeAway.txt'\n",
    "\n",
    "with open(fnp, 'a') as f:\n",
    "    f.write('\\nIs there anyboby in there')\n",
    "    for _ in range(2):\n",
    "        f.write('... in there')\n",
    "    f.write('?')\n",
    "\n",
    "with open(fnp, 'r') as f:\n",
    "    content = f.read()\n",
    "\n",
    "print(content)\n",
    "f.close()"
   ]
  },
  {
   "cell_type": "code",
   "execution_count": 5,
   "id": "automatic-southeast",
   "metadata": {},
   "outputs": [
    {
     "ename": "PermissionError",
     "evalue": "[Errno 13] Permission denied: '.\\\\takeAway.csv'",
     "output_type": "error",
     "traceback": [
      "\u001b[1;31m---------------------------------------------------------------------------\u001b[0m",
      "\u001b[1;31mPermissionError\u001b[0m                           Traceback (most recent call last)",
      "\u001b[1;32m<ipython-input-5-2c14966991b9>\u001b[0m in \u001b[0;36m<module>\u001b[1;34m\u001b[0m\n\u001b[0;32m      8\u001b[0m \u001b[0mfnp\u001b[0m \u001b[1;33m=\u001b[0m \u001b[1;34mr'.\\takeAway.csv'\u001b[0m\u001b[1;33m\u001b[0m\u001b[1;33m\u001b[0m\u001b[0m\n\u001b[0;32m      9\u001b[0m \u001b[1;33m\u001b[0m\u001b[0m\n\u001b[1;32m---> 10\u001b[1;33m \u001b[1;32mwith\u001b[0m \u001b[0mopen\u001b[0m\u001b[1;33m(\u001b[0m\u001b[0mfnp\u001b[0m\u001b[1;33m,\u001b[0m \u001b[1;34m'w'\u001b[0m\u001b[1;33m,\u001b[0m \u001b[0mencoding\u001b[0m\u001b[1;33m=\u001b[0m \u001b[1;34m'UTF-16'\u001b[0m\u001b[1;33m)\u001b[0m \u001b[1;32mas\u001b[0m \u001b[0mf\u001b[0m\u001b[1;33m:\u001b[0m\u001b[1;33m\u001b[0m\u001b[1;33m\u001b[0m\u001b[0m\n\u001b[0m\u001b[0;32m     11\u001b[0m     \u001b[1;32mfor\u001b[0m \u001b[0mrow\u001b[0m \u001b[1;32min\u001b[0m \u001b[0mrows\u001b[0m\u001b[1;33m:\u001b[0m\u001b[1;33m\u001b[0m\u001b[1;33m\u001b[0m\u001b[0m\n\u001b[0;32m     12\u001b[0m         \u001b[0mrow_out\u001b[0m \u001b[1;33m=\u001b[0m \u001b[1;34m''\u001b[0m\u001b[1;33m\u001b[0m\u001b[1;33m\u001b[0m\u001b[0m\n",
      "\u001b[1;31mPermissionError\u001b[0m: [Errno 13] Permission denied: '.\\\\takeAway.csv'"
     ]
    }
   ],
   "source": [
    "rows = [\n",
    "    ['Letter', 'Number', 'Note'],\n",
    "    ['a', 12, 'That is a dozen'],\n",
    "    ['b', 13, 'Not hat lucky'],\n",
    "    ['c', 42, 'general answer'],\n",
    "]\n",
    "\n",
    "fnp = r'.\\takeAway.csv'\n",
    "\n",
    "with open(fnp, 'w', encoding= 'UTF-16') as f:\n",
    "    for row in rows:\n",
    "        row_out = ''\n",
    "        for item in row:\n",
    "            row_out += str(item) + '\\t'\n",
    "        row_out = row_out.rstrip('\\t') + '\\n'\n",
    "        f.write(row_out)\n",
    "\n",
    "f.close()"
   ]
  },
  {
   "cell_type": "markdown",
   "id": "material-anatomy",
   "metadata": {},
   "source": [
    "https://docs.python.org/3/library/cvs.html\n"
   ]
  },
  {
   "cell_type": "markdown",
   "id": "executive-language",
   "metadata": {},
   "source": [
    "# JSON File"
   ]
  },
  {
   "cell_type": "code",
   "execution_count": 7,
   "id": "natural-joshua",
   "metadata": {},
   "outputs": [
    {
     "name": "stdout",
     "output_type": "stream",
     "text": [
      "{'ping': [1, 13.4, 'oh'], 'pang': [2, 22.5, 'yeah']}\n",
      "{\n",
      "  \"ping\": [\n",
      "    1,\n",
      "    13.4,\n",
      "    \"oh\"\n",
      "  ],\n",
      "  \"pang\": [\n",
      "    2,\n",
      "    22.5,\n",
      "    \"yeah\"\n",
      "  ]\n",
      "}\n"
     ]
    }
   ],
   "source": [
    "import json\n",
    "\n",
    "fnp = r'.\\takeAway.json'\n",
    "#create and show a dictionary\n",
    "d1 = {'ping':[1, 13.4, 'oh'], 'pang':[2, 22.5, 'yeah']}\n",
    "print(d1)\n",
    "\n",
    "#dump dictionary to json\n",
    "\n",
    "with open(fnp, 'w') as f:\n",
    "    json.dump(d1, f, indent=2)\n",
    "\n",
    "#show file content\n",
    "with open(fnp, 'r') as f:\n",
    "    print(f.read())\n",
    "f.close()"
   ]
  },
  {
   "cell_type": "code",
   "execution_count": 8,
   "id": "skilled-corrections",
   "metadata": {},
   "outputs": [
    {
     "name": "stdout",
     "output_type": "stream",
     "text": [
      "{'ping': [1, 13.4, 'oh'], 'pang': [2, 22.5, 'yeah']}\n"
     ]
    }
   ],
   "source": [
    "with open(fnp, 'r') as f:\n",
    "    d2 = json.load(f)\n",
    "    print(d2)"
   ]
  },
  {
   "cell_type": "markdown",
   "id": "valid-naples",
   "metadata": {},
   "source": [
    "# Pickle File"
   ]
  },
  {
   "cell_type": "code",
   "execution_count": 11,
   "id": "fallen-yesterday",
   "metadata": {},
   "outputs": [
    {
     "name": "stdout",
     "output_type": "stream",
     "text": [
      "1.234\n"
     ]
    }
   ],
   "source": [
    "coll_to_store = {\n",
    "    'a': {0: 0.124, 1: 1.234},\n",
    "    'b': {0: 0.013, 1: 10.963},\n",
    "}\n",
    "\n",
    "import pickle\n",
    "\n",
    "FNP_PICKLE = r'.\\takeAway.pckl'\n",
    "with open(FNP_PICKLE, 'wb') as f:\n",
    "    pickle.dump(coll_to_store, f)\n",
    "\n",
    "with open(FNP_PICKLE, 'rb') as f:\n",
    "    coll_read = pickle.load(f)\n",
    "\n",
    "print(coll_read['a'][1])"
   ]
  },
  {
   "cell_type": "markdown",
   "id": "alike-hobby",
   "metadata": {},
   "source": [
    "# ZIP File, TAR File"
   ]
  },
  {
   "cell_type": "markdown",
   "id": "cheap-watson",
   "metadata": {},
   "source": [
    "# Excel File\n"
   ]
  },
  {
   "cell_type": "markdown",
   "id": "banned-pacific",
   "metadata": {},
   "source": [
    "# Datetime\n"
   ]
  },
  {
   "cell_type": "code",
   "execution_count": null,
   "id": "comparative-princeton",
   "metadata": {},
   "outputs": [],
   "source": []
  }
 ],
 "metadata": {
  "kernelspec": {
   "display_name": "Python 3",
   "language": "python",
   "name": "python3"
  },
  "language_info": {
   "codemirror_mode": {
    "name": "ipython",
    "version": 3
   },
   "file_extension": ".py",
   "mimetype": "text/x-python",
   "name": "python",
   "nbconvert_exporter": "python",
   "pygments_lexer": "ipython3",
   "version": "3.7.7"
  },
  "toc": {
   "base_numbering": 1,
   "nav_menu": {},
   "number_sections": true,
   "sideBar": true,
   "skip_h1_title": false,
   "title_cell": "Table of Contents",
   "title_sidebar": "Contents",
   "toc_cell": false,
   "toc_position": {},
   "toc_section_display": true,
   "toc_window_display": false
  }
 },
 "nbformat": 4,
 "nbformat_minor": 5
}
