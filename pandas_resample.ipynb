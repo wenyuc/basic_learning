{
 "cells": [
  {
   "cell_type": "markdown",
   "metadata": {},
   "source": [
    "#### pandas.resample\n",
    "\n",
    "重新采样，是对原样本重新处理的一个方法，是一个对常规时间序列数据重新采样和\n",
    "频率转换的便捷方法。\n",
    "降采样：高频数据到低频数据；\n",
    "升采样：低频数据到高频数据；\n",
    "\n",
    "主要函数：resample()\n",
    "主要参数：\n",
    "- freq： 重采样频率， 'M', '5min', second(15)\n",
    "\n",
    "- how: 用于产生聚合值的函数名或数组函数，例如：‘mean’,np.max, median, max\n",
    "\n",
    "- axis = 0 : 默认纵轴，横轴axis = 1\n",
    "\n",
    "- fill_methond = None: 升采样时如何插值， 'ffill', 'bfill'\n",
    "\n",
    "- closed = 'right': or 'left'\n",
    "\n",
    "- label = 'right': or 'left'\n",
    "\n",
    "- loffset = None:\n",
    "\n",
    "- limit = None:\n",
    "\n",
    "- kind = None:\n",
    "\n",
    "- convention = None\n"
   ]
  },
  {
   "cell_type": "code",
   "execution_count": 1,
   "metadata": {},
   "outputs": [],
   "source": [
    "import numpy as np\n",
    "import pandas as pd\n",
    "import matplotlib.pyplot as plt\n",
    "%matplotlib inline\n",
    "%config InlineBackend.figure_format = 'svg'"
   ]
  },
  {
   "cell_type": "code",
   "execution_count": 7,
   "metadata": {},
   "outputs": [
    {
     "name": "stdout",
     "output_type": "stream",
     "text": [
      "DatetimeIndex(['2020-01-01 00:00:00', '2020-01-01 00:01:00',\n",
      "               '2020-01-01 00:02:00', '2020-01-01 00:03:00',\n",
      "               '2020-01-01 00:04:00', '2020-01-01 00:05:00',\n",
      "               '2020-01-01 00:06:00', '2020-01-01 00:07:00',\n",
      "               '2020-01-01 00:08:00'],\n",
      "              dtype='datetime64[ns]', freq='T')\n"
     ]
    },
    {
     "data": {
      "text/plain": [
       "2020-01-01 00:00:00    0\n",
       "2020-01-01 00:01:00    1\n",
       "2020-01-01 00:02:00    2\n",
       "2020-01-01 00:03:00    3\n",
       "2020-01-01 00:04:00    4\n",
       "2020-01-01 00:05:00    5\n",
       "2020-01-01 00:06:00    6\n",
       "2020-01-01 00:07:00    7\n",
       "2020-01-01 00:08:00    8\n",
       "Freq: T, dtype: int64"
      ]
     },
     "execution_count": 7,
     "metadata": {},
     "output_type": "execute_result"
    }
   ],
   "source": [
    "index = pd.date_range('1/1/2020', periods = 9, freq = 'T')\n",
    "print(index)\n",
    "series = pd.Series(range(9), index = index)\n",
    "series"
   ]
  },
  {
   "cell_type": "markdown",
   "metadata": {},
   "source": [
    "降低频率为三分钟"
   ]
  },
  {
   "cell_type": "code",
   "execution_count": 28,
   "metadata": {},
   "outputs": [
    {
     "data": {
      "text/plain": [
       "2020-01-01 00:00:00     3\n",
       "2020-01-01 00:03:00    12\n",
       "2020-01-01 00:06:00    21\n",
       "Freq: 3T, dtype: int64"
      ]
     },
     "execution_count": 28,
     "metadata": {},
     "output_type": "execute_result"
    }
   ],
   "source": [
    "series.resample('3T').sum()    # closed = 'left' [0,3), [3, 6), [6, 8))"
   ]
  },
  {
   "cell_type": "code",
   "execution_count": 31,
   "metadata": {},
   "outputs": [
    {
     "data": {
      "text/plain": [
       "2019-12-31 23:57:00     0\n",
       "2020-01-01 00:00:00     6\n",
       "2020-01-01 00:03:00    15\n",
       "2020-01-01 00:06:00    15\n",
       "Freq: 3T, dtype: int64"
      ]
     },
     "execution_count": 31,
     "metadata": {},
     "output_type": "execute_result"
    }
   ],
   "source": [
    "series.resample('3T', closed = 'right').sum() # (57, 58, 59, 0], (0, 1,2,3],(3,4,5,6], (6,7,8] ???"
   ]
  },
  {
   "cell_type": "markdown",
   "metadata": {},
   "source": [
    "降低采样频率为三分钟，但是关闭right区间，即左开右闭区间"
   ]
  },
  {
   "cell_type": "code",
   "execution_count": 32,
   "metadata": {},
   "outputs": [
    {
     "data": {
      "text/plain": [
       "2020-01-01 00:00:00     0\n",
       "2020-01-01 00:03:00     6\n",
       "2020-01-01 00:06:00    15\n",
       "2020-01-01 00:09:00    15\n",
       "Freq: 3T, dtype: int64"
      ]
     },
     "execution_count": 32,
     "metadata": {},
     "output_type": "execute_result"
    }
   ],
   "source": [
    "series.resample('3T', label = 'right', closed = 'right').sum()"
   ]
  },
  {
   "cell_type": "markdown",
   "metadata": {},
   "source": [
    "增加采样频率到30秒"
   ]
  },
  {
   "cell_type": "code",
   "execution_count": 33,
   "metadata": {},
   "outputs": [
    {
     "data": {
      "text/plain": [
       "2020-01-01 00:00:00    0.0\n",
       "2020-01-01 00:00:30    NaN\n",
       "2020-01-01 00:01:00    1.0\n",
       "2020-01-01 00:01:30    NaN\n",
       "2020-01-01 00:02:00    2.0\n",
       "2020-01-01 00:02:30    NaN\n",
       "2020-01-01 00:03:00    3.0\n",
       "2020-01-01 00:03:30    NaN\n",
       "2020-01-01 00:04:00    4.0\n",
       "2020-01-01 00:04:30    NaN\n",
       "2020-01-01 00:05:00    5.0\n",
       "2020-01-01 00:05:30    NaN\n",
       "2020-01-01 00:06:00    6.0\n",
       "2020-01-01 00:06:30    NaN\n",
       "2020-01-01 00:07:00    7.0\n",
       "2020-01-01 00:07:30    NaN\n",
       "2020-01-01 00:08:00    8.0\n",
       "Freq: 30S, dtype: float64"
      ]
     },
     "execution_count": 33,
     "metadata": {},
     "output_type": "execute_result"
    }
   ],
   "source": [
    "series.resample('30S').asfreq()[:] # asfreq 是日期序列补充函数"
   ]
  },
  {
   "cell_type": "code",
   "execution_count": 34,
   "metadata": {},
   "outputs": [
    {
     "data": {
      "text/plain": [
       "2020-01-01 00:00:00    0\n",
       "2020-01-01 00:00:30    1\n",
       "2020-01-01 00:01:00    1\n",
       "2020-01-01 00:01:30    2\n",
       "2020-01-01 00:02:00    2\n",
       "2020-01-01 00:02:30    3\n",
       "2020-01-01 00:03:00    3\n",
       "2020-01-01 00:03:30    4\n",
       "2020-01-01 00:04:00    4\n",
       "2020-01-01 00:04:30    5\n",
       "2020-01-01 00:05:00    5\n",
       "2020-01-01 00:05:30    6\n",
       "2020-01-01 00:06:00    6\n",
       "2020-01-01 00:06:30    7\n",
       "2020-01-01 00:07:00    7\n",
       "2020-01-01 00:07:30    8\n",
       "2020-01-01 00:08:00    8\n",
       "Freq: 30S, dtype: int64"
      ]
     },
     "execution_count": 34,
     "metadata": {},
     "output_type": "execute_result"
    }
   ],
   "source": [
    "series.resample('30S').bfill()[:]"
   ]
  },
  {
   "cell_type": "code",
   "execution_count": 35,
   "metadata": {},
   "outputs": [
    {
     "data": {
      "text/plain": [
       "2020-01-01 00:00:00    0\n",
       "2020-01-01 00:00:30    0\n",
       "2020-01-01 00:01:00    1\n",
       "2020-01-01 00:01:30    1\n",
       "2020-01-01 00:02:00    2\n",
       "2020-01-01 00:02:30    2\n",
       "2020-01-01 00:03:00    3\n",
       "2020-01-01 00:03:30    3\n",
       "2020-01-01 00:04:00    4\n",
       "2020-01-01 00:04:30    4\n",
       "2020-01-01 00:05:00    5\n",
       "2020-01-01 00:05:30    5\n",
       "2020-01-01 00:06:00    6\n",
       "2020-01-01 00:06:30    6\n",
       "2020-01-01 00:07:00    7\n",
       "2020-01-01 00:07:30    7\n",
       "2020-01-01 00:08:00    8\n",
       "Freq: 30S, dtype: int64"
      ]
     },
     "execution_count": 35,
     "metadata": {},
     "output_type": "execute_result"
    }
   ],
   "source": [
    "series.resample('30S').pad()[:]"
   ]
  },
  {
   "cell_type": "code",
   "execution_count": 36,
   "metadata": {},
   "outputs": [
    {
     "data": {
      "text/plain": [
       "2020-01-01 00:00:00     8\n",
       "2020-01-01 00:03:00    17\n",
       "2020-01-01 00:06:00    26\n",
       "Freq: 3T, dtype: int64"
      ]
     },
     "execution_count": 36,
     "metadata": {},
     "output_type": "execute_result"
    }
   ],
   "source": [
    "def custom_resampler(array_like):\n",
    "    return np.sum(array_like) + 5\n",
    "series.resample('3T').apply(custom_resampler)"
   ]
  },
  {
   "cell_type": "code",
   "execution_count": 37,
   "metadata": {},
   "outputs": [
    {
     "data": {
      "text/plain": [
       "2020-02-01     1\n",
       "2020-02-02     2\n",
       "2020-02-03     3\n",
       "2020-02-04     4\n",
       "2020-02-05     5\n",
       "2020-02-06     6\n",
       "2020-02-07     7\n",
       "2020-02-08     8\n",
       "2020-02-09     9\n",
       "2020-02-10    10\n",
       "2020-02-11    11\n",
       "2020-02-12    12\n",
       "2020-02-13    13\n",
       "2020-02-14    14\n",
       "2020-02-15    15\n",
       "2020-02-16    16\n",
       "2020-02-17    17\n",
       "2020-02-18    18\n",
       "2020-02-19    19\n",
       "2020-02-20    20\n",
       "2020-02-21    21\n",
       "2020-02-22    22\n",
       "2020-02-23    23\n",
       "2020-02-24    24\n",
       "2020-02-25    25\n",
       "2020-02-26    26\n",
       "2020-02-27    27\n",
       "2020-02-28    28\n",
       "2020-02-29    29\n",
       "2020-03-01    30\n",
       "Freq: D, dtype: int64"
      ]
     },
     "execution_count": 37,
     "metadata": {},
     "output_type": "execute_result"
    }
   ],
   "source": [
    "times = pd.date_range('2/1/2020', periods = 30)\n",
    "ts = pd.Series(np.arange(1, 31), index = times)\n",
    "ts"
   ]
  },
  {
   "cell_type": "code",
   "execution_count": 38,
   "metadata": {},
   "outputs": [
    {
     "data": {
      "text/plain": [
       "2020-02-01     28\n",
       "2020-02-08     77\n",
       "2020-02-15    126\n",
       "2020-02-22    175\n",
       "2020-02-29     59\n",
       "Freq: 7D, dtype: int64"
      ]
     },
     "execution_count": 38,
     "metadata": {},
     "output_type": "execute_result"
    }
   ],
   "source": [
    "# 1-30号的series，然后聚合成左闭右开的5个区间[1,8), [8, 15), [15, 22)\n",
    "#[22,29), [29, 30)), 每个区间的值就是单个区间值之和。\n",
    "ts_7d = ts.resample('7D').sum()\n",
    "ts_7d"
   ]
  },
  {
   "cell_type": "code",
   "execution_count": 40,
   "metadata": {},
   "outputs": [
    {
     "data": {
      "text/plain": [
       "2020-01-25      1\n",
       "2020-02-01     35\n",
       "2020-02-08     84\n",
       "2020-02-15    133\n",
       "2020-02-22    182\n",
       "2020-02-29     30\n",
       "Freq: 7D, dtype: int64"
      ]
     },
     "execution_count": 40,
     "metadata": {},
     "output_type": "execute_result"
    }
   ],
   "source": [
    "# 左开右闭，需要往前取，(25, 1], (1, 8], (8, 15], (15, 22], (22, 29], (29, 30]\n",
    "# label = right,就是指label等于右区间的值， label=left就是指label等于左区间的值\n",
    "ts_7d = ts.resample('7D', closed = 'right', label = 'left').sum()\n",
    "ts_7d"
   ]
  },
  {
   "cell_type": "code",
   "execution_count": null,
   "metadata": {},
   "outputs": [],
   "source": []
  }
 ],
 "metadata": {
  "kernelspec": {
   "display_name": "Python 3",
   "language": "python",
   "name": "python3"
  },
  "language_info": {
   "codemirror_mode": {
    "name": "ipython",
    "version": 3
   },
   "file_extension": ".py",
   "mimetype": "text/x-python",
   "name": "python",
   "nbconvert_exporter": "python",
   "pygments_lexer": "ipython3",
   "version": "3.7.7"
  }
 },
 "nbformat": 4,
 "nbformat_minor": 4
}
