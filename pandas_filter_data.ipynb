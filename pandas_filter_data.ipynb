{
 "cells": [
  {
   "cell_type": "markdown",
   "metadata": {},
   "source": [
    "pandas是python数据分析必备工具，它有强大的数据清洗能力，往往能用非常少的代码实现较复杂的数据处理"
   ]
  },
  {
   "cell_type": "markdown",
   "metadata": {},
   "source": [
    "今天，鸟哥总结了pandas筛选数据的15个常用技巧，主要包括5个知识点："
   ]
  },
  {
   "cell_type": "markdown",
   "metadata": {},
   "source": [
    "1.比较运算：==、<、>、>=、<=、!=  \n",
    "2.范围运算：between(left,right)  \n",
    "3.字符筛选:str.contains(pattern或字符串,na=False)  \n",
    "4.逻辑运算：&（与）、|（或）、not(取反)  \n",
    "5.比较函数：eq, ne, le, lt, ge, gt（相当于==，=!， <=， <， >=， >）\n",
    "6.apply函数"
   ]
  },
  {
   "cell_type": "markdown",
   "metadata": {},
   "source": [
    "下面以超市运营数据为例，给大家逐个讲解"
   ]
  },
  {
   "cell_type": "markdown",
   "metadata": {},
   "source": [
    "首先读取数据："
   ]
  },
  {
   "cell_type": "code",
   "execution_count": null,
   "metadata": {},
   "outputs": [],
   "source": [
    "import pandas as pd\n",
    "data=pd.read_excel('超市运营数据模板.xlsx')\n",
    "data"
   ]
  },
  {
   "cell_type": "markdown",
   "metadata": {},
   "source": [
    "先看一下各列的数据类型："
   ]
  },
  {
   "cell_type": "code",
   "execution_count": 6,
   "metadata": {},
   "outputs": [
    {
     "data": {
      "text/plain": [
       "商品ID             int64\n",
       "类别ID             int64\n",
       "门店编号            object\n",
       "单价             float64\n",
       "销量             float64\n",
       "订单ID            object\n",
       "日期      datetime64[ns]\n",
       "时间              object\n",
       "dtype: object"
      ]
     },
     "execution_count": 6,
     "metadata": {},
     "output_type": "execute_result"
    }
   ],
   "source": [
    "data.dtypes"
   ]
  },
  {
   "cell_type": "markdown",
   "metadata": {},
   "source": [
    "下面以实际应用场景为例开始讲解："
   ]
  },
  {
   "cell_type": "markdown",
   "metadata": {},
   "source": [
    "## 1.筛选门店编号为'CDXL'的运营数据"
   ]
  },
  {
   "cell_type": "markdown",
   "metadata": {},
   "source": [
    "### ①第一种方法，用比较运算符‘==’："
   ]
  },
  {
   "cell_type": "code",
   "execution_count": null,
   "metadata": {},
   "outputs": [],
   "source": [
    "data[data.门店编号=='CDXL']"
   ]
  },
  {
   "cell_type": "markdown",
   "metadata": {},
   "source": [
    "### ②第二种方法，用比较函数'eq'："
   ]
  },
  {
   "cell_type": "code",
   "execution_count": null,
   "metadata": {},
   "outputs": [],
   "source": [
    "data[data['门店编号'].eq('CDXL')]"
   ]
  },
  {
   "cell_type": "markdown",
   "metadata": {},
   "source": [
    "## 2.筛选单价小于等于10元的运营数据"
   ]
  },
  {
   "cell_type": "markdown",
   "metadata": {},
   "source": [
    "### ③第一种方法，用比较运算符‘<=’:"
   ]
  },
  {
   "cell_type": "code",
   "execution_count": null,
   "metadata": {},
   "outputs": [],
   "source": [
    "data[data.单价<=10]"
   ]
  },
  {
   "cell_type": "markdown",
   "metadata": {},
   "source": [
    "### ④第二种方法，用比较函数'le'："
   ]
  },
  {
   "cell_type": "code",
   "execution_count": null,
   "metadata": {},
   "outputs": [],
   "source": [
    "data[data['单价'].le(10)]"
   ]
  },
  {
   "cell_type": "markdown",
   "metadata": {},
   "source": [
    "## 3.筛选销量大于2000的运营数据"
   ]
  },
  {
   "cell_type": "markdown",
   "metadata": {},
   "source": [
    "### ⑤第一种方法，用比较运算符‘>=’:"
   ]
  },
  {
   "cell_type": "code",
   "execution_count": null,
   "metadata": {},
   "outputs": [],
   "source": [
    "data[data.销量>2]"
   ]
  },
  {
   "cell_type": "markdown",
   "metadata": {},
   "source": [
    "### ⑥第二种方法，用比较函数'ge'："
   ]
  },
  {
   "cell_type": "code",
   "execution_count": null,
   "metadata": {},
   "outputs": [],
   "source": [
    "data[data['销量'].ge(2)]"
   ]
  },
  {
   "cell_type": "markdown",
   "metadata": {},
   "source": [
    "## 4.筛选除门店'CDXL'外的运营数据"
   ]
  },
  {
   "cell_type": "markdown",
   "metadata": {},
   "source": [
    "### ⑦第一种方法，用比较运算符‘!=’:"
   ]
  },
  {
   "cell_type": "code",
   "execution_count": null,
   "metadata": {},
   "outputs": [],
   "source": [
    "data[data.门店编号!='CDXL']"
   ]
  },
  {
   "cell_type": "markdown",
   "metadata": {},
   "source": [
    "### ⑧第二种方法，用比较函数'ne':"
   ]
  },
  {
   "cell_type": "code",
   "execution_count": null,
   "metadata": {},
   "outputs": [],
   "source": [
    "data[data['门店编号'].ne('CDXL')]"
   ]
  },
  {
   "cell_type": "markdown",
   "metadata": {},
   "source": [
    "## 5.筛选2020年5月的运营数据"
   ]
  },
  {
   "cell_type": "markdown",
   "metadata": {},
   "source": [
    "首先将日期格式化："
   ]
  },
  {
   "cell_type": "code",
   "execution_count": null,
   "metadata": {},
   "outputs": [],
   "source": [
    "data['日期']=data[\"日期\"].values.astype('datetime64')  #如果已为日期格式则此步骤可省略\n",
    "data['日期']"
   ]
  },
  {
   "cell_type": "code",
   "execution_count": null,
   "metadata": {},
   "outputs": [],
   "source": [
    "import datetime\n",
    "s_date = datetime.datetime.strptime('2020-04-30', '%Y-%m-%d').date()  #起始日期\n",
    "e_date = datetime.datetime.strptime('2020-06-01', '%Y-%m-%d').date()  #结束日期"
   ]
  },
  {
   "cell_type": "markdown",
   "metadata": {},
   "source": [
    "### ⑨第一种方法，用逻辑运算符号'>' '<'和'&'："
   ]
  },
  {
   "cell_type": "markdown",
   "metadata": {},
   "source": [
    "Pandasdatetime64[ns]不能直接与datetime.date相比，需要用pd.Timestamp进行转化"
   ]
  },
  {
   "cell_type": "code",
   "execution_count": null,
   "metadata": {},
   "outputs": [],
   "source": [
    "data[(data.日期>pd.Timestamp(s_date))&(data.日期<pd.Timestamp(e_date))]"
   ]
  },
  {
   "cell_type": "markdown",
   "metadata": {},
   "source": [
    "### ⑩第二种，用比较函数'gt''lt'和'&':"
   ]
  },
  {
   "cell_type": "code",
   "execution_count": null,
   "metadata": {},
   "outputs": [],
   "source": [
    "data[(data['日期'].lt(pd.Timestamp(e_date)))&(data['日期'].gt(pd.Timestamp(s_date)))]"
   ]
  },
  {
   "cell_type": "markdown",
   "metadata": {},
   "source": [
    "### ⑪第三种，用apply函数实现:"
   ]
  },
  {
   "cell_type": "code",
   "execution_count": null,
   "metadata": {},
   "outputs": [],
   "source": [
    "id_a=data.日期.apply(lambda x: x.year ==2020  and x.month==5)\n",
    "data[id_a]"
   ]
  },
  {
   "cell_type": "markdown",
   "metadata": {},
   "source": [
    "### ⑫第四种，用between函数实现:"
   ]
  },
  {
   "cell_type": "code",
   "execution_count": null,
   "metadata": {},
   "outputs": [],
   "source": [
    "id_b=data.日期.between(pd.Timestamp(s_date),pd.Timestamp(e_date))\n",
    "data[id_b]"
   ]
  },
  {
   "cell_type": "markdown",
   "metadata": {},
   "source": [
    "## 6.筛选“类别ID”包含'000'的数据"
   ]
  },
  {
   "cell_type": "markdown",
   "metadata": {},
   "source": [
    "### ⑬第一种，用contains函数："
   ]
  },
  {
   "cell_type": "code",
   "execution_count": null,
   "metadata": {},
   "outputs": [],
   "source": [
    "data['类别ID']=data['类别ID'].values.astype('str')  #将该列转换为字符数据类型\n",
    "id_c=data.类别ID.str.contains('000',na=False)\n",
    "data[id_c]"
   ]
  },
  {
   "cell_type": "markdown",
   "metadata": {},
   "source": [
    "### ⑭第二种，用isin函数："
   ]
  },
  {
   "cell_type": "code",
   "execution_count": 8,
   "metadata": {},
   "outputs": [
    {
     "data": {
      "text/html": [
       "<div>\n",
       "<style scoped>\n",
       "    .dataframe tbody tr th:only-of-type {\n",
       "        vertical-align: middle;\n",
       "    }\n",
       "\n",
       "    .dataframe tbody tr th {\n",
       "        vertical-align: top;\n",
       "    }\n",
       "\n",
       "    .dataframe thead th {\n",
       "        text-align: right;\n",
       "    }\n",
       "</style>\n",
       "<table border=\"1\" class=\"dataframe\">\n",
       "  <thead>\n",
       "    <tr style=\"text-align: right;\">\n",
       "      <th></th>\n",
       "      <th>商品ID</th>\n",
       "      <th>类别ID</th>\n",
       "      <th>门店编号</th>\n",
       "      <th>单价</th>\n",
       "      <th>销量</th>\n",
       "      <th>订单ID</th>\n",
       "      <th>日期</th>\n",
       "      <th>时间</th>\n",
       "    </tr>\n",
       "  </thead>\n",
       "  <tbody>\n",
       "  </tbody>\n",
       "</table>\n",
       "</div>"
      ],
      "text/plain": [
       "Empty DataFrame\n",
       "Columns: [商品ID, 类别ID, 门店编号, 单价, 销量, 订单ID, 日期, 时间]\n",
       "Index: []"
      ]
     },
     "execution_count": 8,
     "metadata": {},
     "output_type": "execute_result"
    }
   ],
   "source": [
    "id_i=data.类别ID.isin(['000'])  #接受一个列表\n",
    "data[id_i]"
   ]
  },
  {
   "cell_type": "markdown",
   "metadata": {},
   "source": [
    "很遗憾，isin函数搞不定，因为它只能判断该列中元素是否在列表中"
   ]
  },
  {
   "cell_type": "markdown",
   "metadata": {},
   "source": [
    "## 7.筛选商品ID以“301”开头的运营数据"
   ]
  },
  {
   "cell_type": "markdown",
   "metadata": {},
   "source": [
    "### ⑮需要用contains函数结合正则表达式使用："
   ]
  },
  {
   "cell_type": "code",
   "execution_count": 7,
   "metadata": {},
   "outputs": [
    {
     "data": {
      "text/html": [
       "<div>\n",
       "<style scoped>\n",
       "    .dataframe tbody tr th:only-of-type {\n",
       "        vertical-align: middle;\n",
       "    }\n",
       "\n",
       "    .dataframe tbody tr th {\n",
       "        vertical-align: top;\n",
       "    }\n",
       "\n",
       "    .dataframe thead th {\n",
       "        text-align: right;\n",
       "    }\n",
       "</style>\n",
       "<table border=\"1\" class=\"dataframe\">\n",
       "  <thead>\n",
       "    <tr style=\"text-align: right;\">\n",
       "      <th></th>\n",
       "      <th>商品ID</th>\n",
       "      <th>类别ID</th>\n",
       "      <th>门店编号</th>\n",
       "      <th>单价</th>\n",
       "      <th>销量</th>\n",
       "      <th>订单ID</th>\n",
       "      <th>日期</th>\n",
       "      <th>时间</th>\n",
       "    </tr>\n",
       "  </thead>\n",
       "  <tbody>\n",
       "    <tr>\n",
       "      <th>1</th>\n",
       "      <td>30163281</td>\n",
       "      <td>914010000</td>\n",
       "      <td>CDNL</td>\n",
       "      <td>2.00</td>\n",
       "      <td>2.000</td>\n",
       "      <td>20201003CDLG000210052759</td>\n",
       "      <td>2011-01-04</td>\n",
       "      <td>09:56</td>\n",
       "    </tr>\n",
       "    <tr>\n",
       "      <th>4</th>\n",
       "      <td>30179558</td>\n",
       "      <td>915000100</td>\n",
       "      <td>CDNL</td>\n",
       "      <td>47.41</td>\n",
       "      <td>0.226</td>\n",
       "      <td>20201003CDLG000210052759</td>\n",
       "      <td>2011-01-07</td>\n",
       "      <td>09:56</td>\n",
       "    </tr>\n",
       "    <tr>\n",
       "      <th>6</th>\n",
       "      <td>30179520</td>\n",
       "      <td>915000100</td>\n",
       "      <td>CDNL</td>\n",
       "      <td>77.52</td>\n",
       "      <td>0.086</td>\n",
       "      <td>20201003CDLG000210052759</td>\n",
       "      <td>2011-01-09</td>\n",
       "      <td>09:56</td>\n",
       "    </tr>\n",
       "    <tr>\n",
       "      <th>7</th>\n",
       "      <td>30184351</td>\n",
       "      <td>915000106</td>\n",
       "      <td>CDNL</td>\n",
       "      <td>15.57</td>\n",
       "      <td>0.420</td>\n",
       "      <td>20201003CDLG000210052759</td>\n",
       "      <td>2011-01-10</td>\n",
       "      <td>09:56</td>\n",
       "    </tr>\n",
       "    <tr>\n",
       "      <th>8</th>\n",
       "      <td>30184351</td>\n",
       "      <td>915000106</td>\n",
       "      <td>CDNL</td>\n",
       "      <td>15.58</td>\n",
       "      <td>0.470</td>\n",
       "      <td>20201003CDLG000210052759</td>\n",
       "      <td>2011-01-11</td>\n",
       "      <td>09:56</td>\n",
       "    </tr>\n",
       "    <tr>\n",
       "      <th>...</th>\n",
       "      <td>...</td>\n",
       "      <td>...</td>\n",
       "      <td>...</td>\n",
       "      <td>...</td>\n",
       "      <td>...</td>\n",
       "      <td>...</td>\n",
       "      <td>...</td>\n",
       "      <td>...</td>\n",
       "    </tr>\n",
       "    <tr>\n",
       "      <th>3429</th>\n",
       "      <td>30135547</td>\n",
       "      <td>930000201</td>\n",
       "      <td>CDXL</td>\n",
       "      <td>9.52</td>\n",
       "      <td>7.000</td>\n",
       "      <td>20201003CDLG000510025132</td>\n",
       "      <td>2020-05-24</td>\n",
       "      <td>09:12</td>\n",
       "    </tr>\n",
       "    <tr>\n",
       "      <th>3448</th>\n",
       "      <td>30143065</td>\n",
       "      <td>911010100</td>\n",
       "      <td>CDXL</td>\n",
       "      <td>29.42</td>\n",
       "      <td>1.000</td>\n",
       "      <td>20201003CDLG000510025138</td>\n",
       "      <td>2020-06-12</td>\n",
       "      <td>09:37</td>\n",
       "    </tr>\n",
       "    <tr>\n",
       "      <th>3450</th>\n",
       "      <td>30173850</td>\n",
       "      <td>920090000</td>\n",
       "      <td>CDXL</td>\n",
       "      <td>10.62</td>\n",
       "      <td>0.782</td>\n",
       "      <td>20201003CDLG000510025138</td>\n",
       "      <td>2020-06-14</td>\n",
       "      <td>09:37</td>\n",
       "    </tr>\n",
       "    <tr>\n",
       "      <th>3457</th>\n",
       "      <td>30174841</td>\n",
       "      <td>923000008</td>\n",
       "      <td>CDXL</td>\n",
       "      <td>6.80</td>\n",
       "      <td>0.919</td>\n",
       "      <td>20201003CDLG000510025140</td>\n",
       "      <td>2020-06-21</td>\n",
       "      <td>09:41</td>\n",
       "    </tr>\n",
       "    <tr>\n",
       "      <th>3477</th>\n",
       "      <td>30129510</td>\n",
       "      <td>925090000</td>\n",
       "      <td>CDXL</td>\n",
       "      <td>23.21</td>\n",
       "      <td>0.312</td>\n",
       "      <td>20201003CDLG000510025151</td>\n",
       "      <td>2020-07-11</td>\n",
       "      <td>11:50</td>\n",
       "    </tr>\n",
       "  </tbody>\n",
       "</table>\n",
       "<p>661 rows × 8 columns</p>\n",
       "</div>"
      ],
      "text/plain": [
       "          商品ID       类别ID  门店编号     单价     销量                      订单ID  \\\n",
       "1     30163281  914010000  CDNL   2.00  2.000  20201003CDLG000210052759   \n",
       "4     30179558  915000100  CDNL  47.41  0.226  20201003CDLG000210052759   \n",
       "6     30179520  915000100  CDNL  77.52  0.086  20201003CDLG000210052759   \n",
       "7     30184351  915000106  CDNL  15.57  0.420  20201003CDLG000210052759   \n",
       "8     30184351  915000106  CDNL  15.58  0.470  20201003CDLG000210052759   \n",
       "...        ...        ...   ...    ...    ...                       ...   \n",
       "3429  30135547  930000201  CDXL   9.52  7.000  20201003CDLG000510025132   \n",
       "3448  30143065  911010100  CDXL  29.42  1.000  20201003CDLG000510025138   \n",
       "3450  30173850  920090000  CDXL  10.62  0.782  20201003CDLG000510025138   \n",
       "3457  30174841  923000008  CDXL   6.80  0.919  20201003CDLG000510025140   \n",
       "3477  30129510  925090000  CDXL  23.21  0.312  20201003CDLG000510025151   \n",
       "\n",
       "             日期     时间  \n",
       "1    2011-01-04  09:56  \n",
       "4    2011-01-07  09:56  \n",
       "6    2011-01-09  09:56  \n",
       "7    2011-01-10  09:56  \n",
       "8    2011-01-11  09:56  \n",
       "...         ...    ...  \n",
       "3429 2020-05-24  09:12  \n",
       "3448 2020-06-12  09:37  \n",
       "3450 2020-06-14  09:37  \n",
       "3457 2020-06-21  09:41  \n",
       "3477 2020-07-11  11:50  \n",
       "\n",
       "[661 rows x 8 columns]"
      ]
     },
     "execution_count": 7,
     "metadata": {},
     "output_type": "execute_result"
    }
   ],
   "source": [
    "data['商品ID']=data['商品ID'].values.astype('str')  #将该列转换为字符数据类型\n",
    "id_c2=data.商品ID.str.contains('301\\d{5}',na=False)\n",
    "data[id_c2]"
   ]
  },
  {
   "cell_type": "code",
   "execution_count": null,
   "metadata": {},
   "outputs": [],
   "source": []
  }
 ],
 "metadata": {
  "kernelspec": {
   "display_name": "Python 3",
   "language": "python",
   "name": "python3"
  },
  "language_info": {
   "codemirror_mode": {
    "name": "ipython",
    "version": 3
   },
   "file_extension": ".py",
   "mimetype": "text/x-python",
   "name": "python",
   "nbconvert_exporter": "python",
   "pygments_lexer": "ipython3",
   "version": "3.6.6"
  }
 },
 "nbformat": 4,
 "nbformat_minor": 4
}
