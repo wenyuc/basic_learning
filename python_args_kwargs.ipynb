{
 "cells": [
  {
   "cell_type": "markdown",
   "metadata": {},
   "source": [
    "### *args\n",
    "\n",
    "- \\* 的作用有两个：打包参数（pack）和拆分参数（unpack）\n",
    "- args可以用任何名字代替，用args只是为了尊重传统"
   ]
  },
  {
   "cell_type": "code",
   "execution_count": 1,
   "metadata": {},
   "outputs": [
    {
     "name": "stdout",
     "output_type": "stream",
     "text": [
      "(1, 2, 3, 4)\n"
     ]
    }
   ],
   "source": [
    "def foo(*number):\n",
    "    print(number)\n",
    "\n",
    "foo(1,2,3,4)"
   ]
  },
  {
   "cell_type": "markdown",
   "metadata": {},
   "source": [
    " ∗ 把函数foo()接受到的多个参数1,2,3,4,5，打包成了元组(1,2,3,4,5)，赋值给了形参number。 "
   ]
  },
  {
   "cell_type": "code",
   "execution_count": 2,
   "metadata": {},
   "outputs": [
    {
     "name": "stdout",
     "output_type": "stream",
     "text": [
      "1\n",
      "2\n",
      "3\n",
      "4\n",
      "<class 'tuple'>\n"
     ]
    }
   ],
   "source": [
    "def foo(*number):\n",
    "    for i in number:\n",
    "        print(i)\n",
    "    print(type(number))\n",
    "    \n",
    "foo(1,2,3,4)"
   ]
  },
  {
   "cell_type": "markdown",
   "metadata": {},
   "source": [
    "函数接受实参时，按顺序分配给函数形参，如果遇到带∗的形参，那么就把还未分配出去的实参以元组形式打包（pack）,分配给那个带∗的形参。"
   ]
  },
  {
   "cell_type": "code",
   "execution_count": 3,
   "metadata": {},
   "outputs": [
    {
     "name": "stdout",
     "output_type": "stream",
     "text": [
      "a= 1\n",
      "2\n",
      "3\n",
      "4\n",
      "5\n",
      "<class 'tuple'>\n"
     ]
    }
   ],
   "source": [
    "def foo(a, *number):\n",
    "    print('a=', a)\n",
    "    for i in number:\n",
    "        print(i)\n",
    "    print(type(number))\n",
    "\n",
    "foo(1,2,3,4,5)"
   ]
  },
  {
   "cell_type": "markdown",
   "metadata": {},
   "source": [
    "Unpack 拆分参数\n",
    "当\\*没有用在函数定义中，而是用在函数调用中时，作用是把打包了的实参（元组或列表），拆分（unpack）成单个的，依次赋值给函数的形参。\n",
    "\n",
    "**注意形参数量和拆分后的数量要相同**"
   ]
  },
  {
   "cell_type": "code",
   "execution_count": 4,
   "metadata": {},
   "outputs": [
    {
     "name": "stdout",
     "output_type": "stream",
     "text": [
      "1 2 3\n"
     ]
    }
   ],
   "source": [
    "def bar(a,b,c):\n",
    "    print(a,b,c)\n",
    "\n",
    "bar(*[1,2,3])"
   ]
  },
  {
   "cell_type": "markdown",
   "metadata": {},
   "source": [
    "### kwargs的作用\n",
    "\n",
    "∗∗的作用同样也有两个—— 打包参数（pack）和拆分参数（unpack）！\n",
    "打包（pack）：\\*args是把多个**位置参数**打包成元组，\\*\\*kwargs是把多个**关键字参数**打包成字典。\n",
    "\n",
    "拆分（unpack）：\\*args是把打包了的参数拆成单个的，依次赋值给函数的形参，\\*\\*kwargs是把字典的键值拆成单个的，依次赋值给函数的形参。\n",
    "\n",
    "kwargs同样可以用任何名字代替。"
   ]
  },
  {
   "cell_type": "code",
   "execution_count": 6,
   "metadata": {},
   "outputs": [
    {
     "name": "stdout",
     "output_type": "stream",
     "text": [
      "{'a': 1, 'b': 2, 'c': 3}\n"
     ]
    }
   ],
   "source": [
    "def bar(**number):\n",
    "    print(number)\n",
    "\n",
    "bar(a=1, b=2, c=3)"
   ]
  },
  {
   "cell_type": "markdown",
   "metadata": {},
   "source": [
    "**拆分时键名和形参名字必须相同**"
   ]
  },
  {
   "cell_type": "code",
   "execution_count": 7,
   "metadata": {},
   "outputs": [
    {
     "name": "stdout",
     "output_type": "stream",
     "text": [
      "{'a': 1, 'b': 2, 'c': 3}\n"
     ]
    }
   ],
   "source": [
    "def bar_unpack(a,b,c):\n",
    "    print(a,b,c)\n",
    "\n",
    "bar(**{'a':1, 'b': 2, 'c':3})"
   ]
  },
  {
   "cell_type": "code",
   "execution_count": null,
   "metadata": {},
   "outputs": [],
   "source": []
  }
 ],
 "metadata": {
  "kernelspec": {
   "display_name": "Python 3",
   "language": "python",
   "name": "python3"
  },
  "language_info": {
   "codemirror_mode": {
    "name": "ipython",
    "version": 3
   },
   "file_extension": ".py",
   "mimetype": "text/x-python",
   "name": "python",
   "nbconvert_exporter": "python",
   "pygments_lexer": "ipython3",
   "version": "3.7.7"
  }
 },
 "nbformat": 4,
 "nbformat_minor": 4
}
