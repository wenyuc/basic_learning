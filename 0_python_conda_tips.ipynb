{
 "cells": [
  {
   "cell_type": "code",
   "execution_count": 1,
   "metadata": {},
   "outputs": [],
   "source": [
    "from IPython.core.interactiveshell import InteractiveShell\n",
    "InteractiveShell.ast_node_interactivity = \"all\""
   ]
  },
  {
   "cell_type": "markdown",
   "metadata": {},
   "source": [
    "#### check python version"
   ]
  },
  {
   "cell_type": "code",
   "execution_count": 2,
   "metadata": {},
   "outputs": [
    {
     "name": "stdout",
     "output_type": "stream",
     "text": [
      "Python 3.8.5\n"
     ]
    }
   ],
   "source": [
    "!python --version"
   ]
  },
  {
   "cell_type": "markdown",
   "metadata": {},
   "source": [
    "#### Check python architecture bits"
   ]
  },
  {
   "cell_type": "code",
   "execution_count": 3,
   "metadata": {},
   "outputs": [
    {
     "data": {
      "text/plain": [
       "('64bit', 'WindowsPE')"
      ]
     },
     "execution_count": 3,
     "metadata": {},
     "output_type": "execute_result"
    }
   ],
   "source": [
    "import platform\n",
    "platform.architecture()"
   ]
  },
  {
   "cell_type": "markdown",
   "metadata": {},
   "source": [
    "#### check python version and executable file\n"
   ]
  },
  {
   "cell_type": "code",
   "execution_count": 5,
   "metadata": {},
   "outputs": [
    {
     "data": {
      "text/plain": [
       "'C:\\\\work2\\\\anaconda3\\\\envs\\\\py38\\\\python.exe'"
      ]
     },
     "execution_count": 5,
     "metadata": {},
     "output_type": "execute_result"
    }
   ],
   "source": [
    "import sys\n",
    "sys.executable"
   ]
  },
  {
   "cell_type": "markdown",
   "metadata": {},
   "source": [
    "#### check package installation position"
   ]
  },
  {
   "cell_type": "code",
   "execution_count": 6,
   "metadata": {},
   "outputs": [
    {
     "data": {
      "text/plain": [
       "'C:\\\\work2\\\\anaconda3\\\\envs\\\\py38\\\\lib\\\\site-packages\\\\numpy\\\\__init__.py'"
      ]
     },
     "execution_count": 6,
     "metadata": {},
     "output_type": "execute_result"
    }
   ],
   "source": [
    "import numpy\n",
    "numpy.__file__"
   ]
  },
  {
   "cell_type": "markdown",
   "metadata": {},
   "source": [
    "#### Check available conda env"
   ]
  },
  {
   "cell_type": "code",
   "execution_count": 3,
   "metadata": {},
   "outputs": [
    {
     "name": "stdout",
     "output_type": "stream",
     "text": [
      "# conda environments:\n",
      "#\n",
      "base                     C:\\work2\\anaconda3\n",
      "py35                     C:\\work2\\anaconda3\\envs\\py35\n",
      "py38                  *  C:\\work2\\anaconda3\\envs\\py38\n",
      "\n"
     ]
    }
   ],
   "source": [
    "!conda info -e "
   ]
  },
  {
   "cell_type": "markdown",
   "metadata": {},
   "source": [
    "#### 删除conda中一个环境\n",
    "\n",
    "启动Navigator，选择environments，选择env，点Remove\n"
   ]
  },
  {
   "cell_type": "code",
   "execution_count": 4,
   "metadata": {},
   "outputs": [
    {
     "name": "stderr",
     "output_type": "stream",
     "text": [
      "The system cannot find the file specified.\n"
     ]
    }
   ],
   "source": [
    "!conda remove -n <env_name> --all"
   ]
  },
  {
   "cell_type": "markdown",
   "metadata": {},
   "source": [
    "#### update conda"
   ]
  },
  {
   "cell_type": "code",
   "execution_count": null,
   "metadata": {},
   "outputs": [],
   "source": [
    "!conda update -n base -c defaults conda"
   ]
  },
  {
   "cell_type": "markdown",
   "metadata": {},
   "source": [
    "#### install python 32bit in conda\n",
    "In Dos \n",
    "(base) PS C:\\Users\\wenyuc> $ENV:CONDA_FORCE_32BIT=1\n",
    "\n",
    "(base) PS C:\\Users\\wenyuc> conda info\n",
    "\n",
    "(base) PS C:\\Users\\wenyuc> conda create -n py38_32bit python=3.8\n",
    "\n",
    "(base) PS C:\\Users\\wenyuc> conda activate py38_32bit\n",
    "\n",
    "(base) PS C:\\Users\\wenyuc> python\n",
    "\n",
    "Python 3.8.10 (default, May 19 2021, 13:12:32) [MSC v.1916 32 bit (Intel)] :: Anaconda, Inc. on win32\n",
    "\n",
    "Type \"help\", \"copyright\", \"credits\" or \"license\" for more information."
   ]
  },
  {
   "cell_type": "markdown",
   "metadata": {},
   "source": [
    "#### install from whl\n",
    "go to the dir the whl file sitting\n",
    "\n",
    "pip install  \\<whl file>"
   ]
  },
  {
   "cell_type": "markdown",
   "metadata": {},
   "source": [
    "#### Create python virtual environment on Windows\n",
    "PS C:\\Users\\wenyuc>cd c:\\work2\\src\\\n",
    "\n",
    "PS C:\\work2\\src>python -m venv ml\n",
    "\n",
    "PS C:\\work2\\src>ml\\Scripts\\activate\n",
    "\n",
    "(ml) PS C:\\work2\\src>\n",
    "\n",
    "#### Create python virtual environment on Mac\n",
    "\n",
    "wenyuc@cjhenwenyus-MacBook-Pro src % python -m venv ml\n",
    "\n",
    "wenyuc@cjhenwenyus-MacBook-Pro src % source ml/bin/activate\n",
    "\n",
    "(ml)wenyuc@cjhenwenyus-MacBook-Pro src % \n",
    "\n",
    "tutorial: https://docs.python.org/3/tutorial/venv.html\n"
   ]
  },
  {
   "cell_type": "code",
   "execution_count": null,
   "metadata": {},
   "outputs": [],
   "source": []
  }
 ],
 "metadata": {
  "kernelspec": {
   "display_name": "Python 3",
   "language": "python",
   "name": "python3"
  },
  "language_info": {
   "codemirror_mode": {
    "name": "ipython",
    "version": 3
   },
   "file_extension": ".py",
   "mimetype": "text/x-python",
   "name": "python",
   "nbconvert_exporter": "python",
   "pygments_lexer": "ipython3",
   "version": "3.8.5"
  },
  "toc": {
   "base_numbering": 1,
   "nav_menu": {},
   "number_sections": true,
   "sideBar": true,
   "skip_h1_title": false,
   "title_cell": "Table of Contents",
   "title_sidebar": "Contents",
   "toc_cell": false,
   "toc_position": {},
   "toc_section_display": true,
   "toc_window_display": false
  }
 },
 "nbformat": 4,
 "nbformat_minor": 4
}
