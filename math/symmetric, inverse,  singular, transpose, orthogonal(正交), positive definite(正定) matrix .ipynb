{
 "cells": [
  {
   "cell_type": "markdown",
   "metadata": {},
   "source": [
    "### Diagnoal Matrix 对角矩阵\n",
    "\n",
    "设A为n阶方阵，如果满足 $a_{ij} \\neq 0， i=j; a_{ij}= 0, i\\neq j$\n",
    "称A为对角矩阵。\n",
    "\n",
    "#### Identity 单位矩阵\n",
    "设A为n阶方阵，如果满足 $a_{ij} = 1， i=j; a_{ij}= 0, i\\neq j$\n",
    "称A为单位矩阵。"
   ]
  },
  {
   "cell_type": "markdown",
   "metadata": {},
   "source": [
    "### Transpose Matrix 转置矩阵\n",
    "\n",
    "将矩阵的行转换维同序数的列得到的一个新矩阵，叫做A的**转置矩阵，记作$A^T$**。\n",
    "\n",
    "$ A = \\left[\\begin{matrix}1 & 2 & 0 \\cr 5 &-2 &7 \\end{matrix}\\right] $\n",
    "\n",
    "$ A^T = \\left[\\begin{matrix} 1 & 5 \\cr 2 & -2 \\cr 0 & 7 \\end{matrix}\\right] $"
   ]
  },
  {
   "cell_type": "markdown",
   "metadata": {},
   "source": [
    "### Symmetric Matrix 对称矩阵\n",
    "\n",
    "设A为**n阶方阵**， 如果满足$A^T = A$，即 $a_{ij}=a_{ji} (i,j = 1,2,\\cdots, n)$\n",
    "称A为对称矩阵。它的元素以对角线为对称轴对应相等。"
   ]
  },
  {
   "cell_type": "markdown",
   "metadata": {},
   "source": [
    "### 幂等矩阵\n",
    "\n",
    "设A为**n阶方阵**， 如果满足$A^2 = A$，即 A 为幂等矩阵"
   ]
  },
  {
   "cell_type": "markdown",
   "metadata": {},
   "source": [
    "### 可逆矩阵\n",
    "对矩阵A,若$\\exists B使得 BA = I $, 称A为可逆矩阵，且$ B=A^{-1}$"
   ]
  },
  {
   "cell_type": "markdown",
   "metadata": {},
   "source": [
    "### Singular 奇异矩阵、non-singular非奇异矩阵\n",
    "当$\\mid A\\mid =0$时，称A为**奇异矩阵**，否则称为**非奇异矩阵**。\n",
    "\n",
    "A 为可逆矩阵$\\Leftarrow \\Rightarrow \\mid A\\mid \\neq 0$"
   ]
  },
  {
   "cell_type": "markdown",
   "metadata": {},
   "source": [
    "### Orthogonal Matrix 正交矩阵\n",
    "如果n阶矩阵A 满足$A^TA = I$, 即$A^{-1}=A^T$,那么称A为正交矩阵。\n",
    "\n",
    "https://blog.csdn.net/weixin_43233770/article/details/83039369?ops_request_misc=%257B%2522request%255Fid%2522%253A%2522162260017016780357246017%2522%252C%2522scm%2522%253A%252220140713.130102334.pc%255Fall.%2522%257D&request_id=162260017016780357246017&biz_id=0&utm_medium=distribute.pc_search_result.none-task-blog-2~all~first_rank_v2~rank_v29-4-83039369.first_rank_v2_pc_rank_v29&utm_term=%E6%AD%A3%E4%BA%A4%E7%9F%A9%E9%98%B5%E4%B8%8E%E6%AD%A3%E5%AE%9A%E7%9F%A9%E9%98%B5%E5%8C%BA%E5%88%AB&spm=1018.2226.3001.4187"
   ]
  },
  {
   "cell_type": "markdown",
   "metadata": {},
   "source": [
    "### 特征分解 Eigendecomposition\n",
    "\n",
    "#### 矩阵的特征值和特征向量\n",
    "\n",
    "An **eigenvector of a square matrix A** is a non-zero vector $v$ such that:\n",
    "\n",
    "$$ Av = \\lambda v$$\n",
    "\n",
    "The scalar $\\lambda$ is known as the **eigenvalue** corresponding to this eigenvector. \n",
    "\n",
    "Suppose that a matrix $A$ has $n$ linearly independent eigenvectors ${v^{(1)}, v^{(2)},\\cdots,v^{(n)}}$, \n",
    "\n",
    "with corresponding eigenvalues ${\\lambda_1, \\lambda_2,\\cdots, \\lambda_n}$. We may concatenate all of the\n",
    "\n",
    "eigenvectors to form a matrix $V$ with one eigenvector **per column**: $V=[v^{(1)}, v^{(2)},\\cdots,v^{(n)}]$.\n",
    "\n",
    "Likewise, we can concatenate the eigenvalues to form a vector $\\lambda = [\\lambda_1, \\lambda_2,\\cdots, \\lambda_n]^T$\n",
    "\n",
    "The **特征分解 eigendecomposition of A** is then given by\n",
    "\n",
    "$$ A = V diag(\\lambda)V^{-1} $$\n",
    "\n",
    "**Not every matrix can be decomposed into eigenvalues and eigenvectors**. In some cases, the decomposition exists, but may involve complex rather than real numbers.\n",
    "\n",
    "#### 对称矩阵的特征分解\n",
    "\n",
    "**Every real symmetric matrix can be decomposed into an expression using only real-valued eigenvectors and eigenvalues**:\n",
    "\n",
    "$$ A = Q\\Lambda Q^T $$\n",
    "\n",
    "where Q is an **Orthogonal matrix 正交矩阵** composed of eigenvectors of A, and $\\Lambda$ is a **diagonal matrix 对角矩阵**.\n",
    "\n",
    "The eigenvalue $\\Lambda_{i,i}$ is associated with the eigenvector in column i of Q, denoted as $Q_{:,i}$.\n",
    "\n",
    "**任何一个对称矩阵A 都有特征分解，但特征分解并不唯一**。通常将$\\Lambda$中的数降序排列。在这种情况下，如果特征值都不相同，特征分解唯一。\n",
    "\n",
    "#### 正定、半正定、负定、半负定矩阵\n",
    "\n",
    "A matrix whose eigenvalues are all positive is called **正定矩阵positive definite matrix**. \n",
    "\n",
    "A matrix whose eigenvalues are all positive **or zero-valued** is called **半正定positive semidefinite matrix**.\n",
    "\n",
    "Likewise, if all eigenvalues are negative, the matrix is **负定矩阵negative definite**, and if all eigenvalues \n",
    "\n",
    "are negative or zero-valued, it is **半负定negative semidefinite**.\n",
    "\n",
    "Positive semidefinite matrices: $\\forall x, x^TAx \\geq 0$ \n",
    "\n",
    "Positive definite matrics additionally guarantees that $x^TAx = 0 \\Rightarrow x=0$"
   ]
  },
  {
   "cell_type": "markdown",
   "metadata": {},
   "source": [
    "### Singular Value Decomposition 奇异值分解\n",
    "\n",
    "The **singular value decomposition (SVD)** provides another way to factorize a matrix into **singular vectors** and **singular values**.\n",
    "\n",
    "The SVD allows us to discover some of the same kind of information as the **eigencomposition**. However, SVD is more generally applicable.\n",
    "\n",
    "**Every real matrix has a singular value decomposition**, but the same is not true of the eigenvalue decomposition. For example, if a matrix is not square, the eigendecomposition is not defined, and we must use a singular value decomposition instead.\n",
    "\n",
    "Suppose that A is an $m\\times n$ matrix. We will write A as a product of three matrices:\n",
    "\n",
    "$$ A = UDV$$\n",
    "\n",
    "$U$ is defined to be an $m\\times m$ matrix, $D$ is defined to be an $m\\times n$ matrix, and$V$ is defined to be an $n\\times n$ matrix.\n",
    "\n",
    "**The matrices U and V are both defined to be orthogonal matrices**. The matrix D is defined to be **a diagonal matrix. Note that D is not necessarily square**.\n",
    "\n",
    "The elements along the diagonal of D are known as the **singular values** of the matrix A. The columns of U are known as the **left-singular vectors**. The columns of V are known as as the **right-singular vectors**.\n",
    "\n",
    "The left-singular vectors of A are the eigenvectors of $AA^T$. The right-singular vectors of A are the eigenvectors of $A^TA$. The non-zero singular values of A are the square roots of the eigenvalues of $A^TA$. The same is true for $AA^T$.\n",
    "\n",
    "Perhaps the most useful feature of the SVD is that we can use it to partially generalize matrix inversion to non-square matrices, as we will see in the next section？\n",
    "\n",
    "> How to understand this sentence?\n"
   ]
  },
  {
   "cell_type": "markdown",
   "metadata": {},
   "source": []
  },
  {
   "cell_type": "code",
   "execution_count": null,
   "metadata": {},
   "outputs": [],
   "source": []
  }
 ],
 "metadata": {
  "kernelspec": {
   "display_name": "Python 3",
   "language": "python",
   "name": "python3"
  },
  "language_info": {
   "codemirror_mode": {
    "name": "ipython",
    "version": 3
   },
   "file_extension": ".py",
   "mimetype": "text/x-python",
   "name": "python",
   "nbconvert_exporter": "python",
   "pygments_lexer": "ipython3",
   "version": "3.8.5"
  },
  "toc": {
   "base_numbering": 1,
   "nav_menu": {},
   "number_sections": true,
   "sideBar": true,
   "skip_h1_title": false,
   "title_cell": "Table of Contents",
   "title_sidebar": "Contents",
   "toc_cell": false,
   "toc_position": {},
   "toc_section_display": true,
   "toc_window_display": true
  }
 },
 "nbformat": 4,
 "nbformat_minor": 4
}
