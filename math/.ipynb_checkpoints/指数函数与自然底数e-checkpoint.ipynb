{
 "cells": [
  {
   "cell_type": "markdown",
   "metadata": {},
   "source": [
    "### 指数函数与自然底数e\n",
    "https://www.zhihu.com/column/c_186063418\n",
    "#### \"自然\"的来历\n",
    "\n",
    "来源于一个函数的增长率等于其函数值。\n",
    "\n",
    "从指数函数最重要的特征，一个简单的微分方程：\n",
    "\n",
    "$ \\cfrac{dy}{dx} = y $\n",
    "\n",
    "一个函数的导函数等于其自身。\n",
    "\n",
    "假设满足上述微分方程的y的初始值是x=0, y=1\n",
    "\n",
    "$ y = 1+x+\\cfrac{x^2}{2}+\\cfrac{x^3}{3\\times2}+\\cfrac{x^4}{4\\times3\\times2}+\\cdots+\\cfrac{x^n}{n!}+ \\cdots $\n",
    "\n",
    "$ \\cfrac{dy}{dx} = 1+x+\\cfrac{x^2}{2}+\\cfrac{x^3}{3\\times2}+\\cfrac{x^4}{4\\times3\\times2}+\\cdots+\\cfrac{x^n}{n!}+ \\cdots $\n",
    "\n",
    "$ e^x = (1+\\cfrac{x}{n})^n $"
   ]
  },
  {
   "cell_type": "markdown",
   "metadata": {},
   "source": [
    "1. 你有1元钱存入银行，年利率是100%， 则1年后收到2元。\n",
    "2. 假设银行1个月结算一次利息，月利率1/12， 那么一年后得到\n",
    "$ (1+1/12)^{12} $\n",
    "2. 假设银行1天结算一次利息，日利率1/365， 那么一年后得到\n",
    "$ (1+1/365)^{365} $\n",
    "4. 每时每刻都算一次利息，取极限：\n",
    "$\\lim (1+\\cfrac{1}{n})^n = e $"
   ]
  },
  {
   "cell_type": "code",
   "execution_count": null,
   "metadata": {},
   "outputs": [],
   "source": []
  }
 ],
 "metadata": {
  "kernelspec": {
   "display_name": "Python 3",
   "language": "python",
   "name": "python3"
  },
  "language_info": {
   "codemirror_mode": {
    "name": "ipython",
    "version": 3
   },
   "file_extension": ".py",
   "mimetype": "text/x-python",
   "name": "python",
   "nbconvert_exporter": "python",
   "pygments_lexer": "ipython3",
   "version": "3.8.5"
  },
  "toc": {
   "base_numbering": 1,
   "nav_menu": {},
   "number_sections": true,
   "sideBar": true,
   "skip_h1_title": false,
   "title_cell": "Table of Contents",
   "title_sidebar": "Contents",
   "toc_cell": false,
   "toc_position": {},
   "toc_section_display": true,
   "toc_window_display": false
  }
 },
 "nbformat": 4,
 "nbformat_minor": 4
}
