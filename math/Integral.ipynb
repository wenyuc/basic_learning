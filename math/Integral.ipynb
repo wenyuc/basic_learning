{
 "cells": [
  {
   "cell_type": "markdown",
   "metadata": {},
   "source": [
    "### Definite Integral\n",
    "\n",
    "#### 分部积分法\n",
    "$ (uv)\\prime = u\\prime v+ uv\\prime $\n",
    "\n",
    "$ u\\prime v =(uv)\\prime - uv\\prime $\n",
    "\n",
    "$ \\int {u\\prime vdx} = uv - \\int{uv\\prime dx} $\n",
    "\n",
    "$ \\int{u dv} = uv - \\int{v du} $\n",
    "\n",
    "$ \\int_{0}^{1} xe^x dx $\n",
    "\n",
    "$ set\\; u = x, dv = e^xdx $\n",
    "\n",
    "$ du = dx, v=e^x $\n",
    "\n",
    "$ \\int_{0}^{1} xe^x dx  = xe^x - \\int e^x dx = (xe^x -e^x)\\mid_0^{1}$"
   ]
  },
  {
   "cell_type": "markdown",
   "metadata": {},
   "source": [
    "$ \\int {lnx} dx $\n",
    "\n",
    "$设 u =\\ln x, u\\prime = \\cfrac{1}{x}; v = x, v\\prime =1 $\n",
    "\n",
    "$ \\int{lnx dx} = \\int{uv\\prime dx} = uv - \\int{u\\prime v dx} $\n",
    "$ = x\\ln x -x + C $"
   ]
  },
  {
   "cell_type": "code",
   "execution_count": null,
   "metadata": {},
   "outputs": [],
   "source": []
  }
 ],
 "metadata": {
  "kernelspec": {
   "display_name": "Python 3",
   "language": "python",
   "name": "python3"
  },
  "language_info": {
   "codemirror_mode": {
    "name": "ipython",
    "version": 3
   },
   "file_extension": ".py",
   "mimetype": "text/x-python",
   "name": "python",
   "nbconvert_exporter": "python",
   "pygments_lexer": "ipython3",
   "version": "3.8.5"
  },
  "toc": {
   "base_numbering": 1,
   "nav_menu": {},
   "number_sections": true,
   "sideBar": true,
   "skip_h1_title": false,
   "title_cell": "Table of Contents",
   "title_sidebar": "Contents",
   "toc_cell": false,
   "toc_position": {},
   "toc_section_display": true,
   "toc_window_display": false
  }
 },
 "nbformat": 4,
 "nbformat_minor": 4
}
