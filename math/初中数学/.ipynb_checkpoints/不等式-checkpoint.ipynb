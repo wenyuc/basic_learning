{
 "cells": [
  {
   "cell_type": "markdown",
   "metadata": {},
   "source": [
    "**难度：三颗星**\n",
    "\n",
    "#### 不等式求解问题\n",
    "\n",
    "1. 陈老师发口罩，如果每个学生发3个，还剩59个，如果前面每个人发5个，则最后一个人得到了口罩，但不足3个，问陈老师有多少口罩？"
   ]
  },
  {
   "cell_type": "markdown",
   "metadata": {},
   "source": [
    "**难度：四颗星**\n",
    "\n",
    "2. 已知不等式方程组\n",
    "\n",
    "$\\left\\{\n",
    "\\begin{aligned}\n",
    "x - 3(x-2) \\leq a \\;\\; (1) \\\\\n",
    "\\cfrac{1+2x}{3} > x-1 \\;\\;(2) \n",
    "\\end{aligned}\n",
    "\\right. $\n",
    "\n",
    "$x$仅有2个整数解，求a的范围"
   ]
  },
  {
   "cell_type": "code",
   "execution_count": null,
   "metadata": {},
   "outputs": [],
   "source": []
  }
 ],
 "metadata": {
  "kernelspec": {
   "display_name": "Python 3",
   "language": "python",
   "name": "python3"
  },
  "language_info": {
   "codemirror_mode": {
    "name": "ipython",
    "version": 3
   },
   "file_extension": ".py",
   "mimetype": "text/x-python",
   "name": "python",
   "nbconvert_exporter": "python",
   "pygments_lexer": "ipython3",
   "version": "3.8.5"
  },
  "toc": {
   "base_numbering": 1,
   "nav_menu": {},
   "number_sections": true,
   "sideBar": true,
   "skip_h1_title": false,
   "title_cell": "Table of Contents",
   "title_sidebar": "Contents",
   "toc_cell": false,
   "toc_position": {},
   "toc_section_display": true,
   "toc_window_display": false
  }
 },
 "nbformat": 4,
 "nbformat_minor": 4
}
