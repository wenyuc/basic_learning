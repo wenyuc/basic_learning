{
 "cells": [
  {
   "cell_type": "markdown",
   "id": "df626c2a-9af4-4a10-b3ef-b6a4cfa7741a",
   "metadata": {},
   "source": [
    "2025.5.3\n",
    "\n",
    "专题三 两大乘法公式\n",
    "\n",
    "考点一 平方差公式的应用\n",
    "$a$^2 - $b$^2 =($a+b$)($a-b$)"
   ]
  },
  {
   "cell_type": "code",
   "execution_count": null,
   "id": "5fc057a0-a304-4c08-8eb7-2ef868313819",
   "metadata": {},
   "outputs": [],
   "source": []
  }
 ],
 "metadata": {
  "kernelspec": {
   "display_name": "",
   "name": ""
  },
  "language_info": {
   "name": ""
  }
 },
 "nbformat": 4,
 "nbformat_minor": 5
}
