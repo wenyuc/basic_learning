{
 "cells": [
  {
   "cell_type": "markdown",
   "metadata": {},
   "source": [
    "### torchvision.transforms 常用的图像预处理方法\n",
    "\n",
    "数据中心化/标准化； 缩放；裁剪；旋转；翻转；填充；噪声添加；灰度变换；线性变换；仿射变换；亮度、饱和度及对比度变换\n",
    "\n",
    "#### transforms.Normalize(mean, std, inPlace=False)\n",
    "逐channel对图像进行标准化\n",
    "output = (input - mean)/std\n",
    "mean, std: 各通道的均值与标准差\n",
    "inPlace: 是否原地操作\n",
    "\n",
    "标准化后加快模型的收敛速度。\n",
    "\n",
    "#### transforms.pad(padding, fill=0, padding_mode=\"constant\")\n",
    "对图片的边缘进行填充\n",
    "\n",
    "#### transforms.ColorJitter(brightness=0, contrast=0, saturation=0, hue=0)\n",
    "hue 色相参数\n",
    "\n",
    "#### transforms.RandomGrayscale(num_output_channels, p=0.1)\n",
    "依概率将图片转化为灰度图\n",
    "num_output_channels: 输出通道数，只能为1or 3\n",
    "p: 概率\n",
    "\n",
    "##### transforms.Grayscale(num_output_channels)\n",
    "上面函数的特例，p=1\n",
    "\n",
    "#### transforms.RandomAffin(degrees, translate=none, scale=none, shear=None, resample=False, fillcolor=0)\n",
    "对图像进行仿射变换。仿射变换是二维的线性变换，由5种基本的原子变换组成：**旋转、平移、缩放、错切和翻转**。\n",
    "\n",
    "degrees: 旋转的角度设置,中心旋转\n",
    "\n",
    "translate: 平移的区间设置，如(a,b)， 图像在宽维度平移的范围为-img.width \\* a < dx < img.width * a\n",
    "\n",
    "scale: 缩放比例，以面积为单位\n",
    "\n",
    "fill_color: 填充颜色设置\n",
    "\n",
    "shear: 错切角度设置，由水平错切和垂直错切\n",
    "\n",
    "resample： 重采样方式：NEAREST, BILINEAR, BICUBIC\n",
    "\n",
    "#### transforms.RandomErasing(p=0.5, scale=(0.02, 0.33), ratio=(0.3, 3.3), value=0, inplace=False)\n",
    "\n",
    "对图像进行随机遮挡\n",
    "\n",
    "scale: 遮挡区域的面积\n",
    "\n",
    "ratio:遮挡区域的长宽比\n",
    "\n",
    "value： 遮挡区域像素值R,G,B\n",
    "\n",
    "#### transforms.Lambda\n",
    "用户自定义lambda函数"
   ]
  },
  {
   "cell_type": "markdown",
   "metadata": {},
   "source": [
    "### 对transforms的选择操作\n"
   ]
  }
 ],
 "metadata": {
  "kernelspec": {
   "display_name": "Python 3",
   "language": "python",
   "name": "python3"
  },
  "language_info": {
   "codemirror_mode": {
    "name": "ipython",
    "version": 3
   },
   "file_extension": ".py",
   "mimetype": "text/x-python",
   "name": "python",
   "nbconvert_exporter": "python",
   "pygments_lexer": "ipython3",
   "version": "3.8.5"
  },
  "toc": {
   "base_numbering": 1,
   "nav_menu": {},
   "number_sections": true,
   "sideBar": true,
   "skip_h1_title": false,
   "title_cell": "Table of Contents",
   "title_sidebar": "Contents",
   "toc_cell": false,
   "toc_position": {},
   "toc_section_display": true,
   "toc_window_display": false
  }
 },
 "nbformat": 4,
 "nbformat_minor": 4
}
