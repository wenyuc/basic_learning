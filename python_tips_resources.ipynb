{
 "cells": [
  {
   "cell_type": "markdown",
   "metadata": {},
   "source": [
    "## Jupyter Usage\n",
    "\n",
    "regular test\n",
    "\n",
    "**bold**\n",
    "\n",
    "*italic*\n",
    "\n",
    "~~delete~~\n",
    "\n",
    "- bullet1\n",
    "- bullet2\n",
    "\n",
    "1. a\n",
    "2. b"
   ]
  },
  {
   "cell_type": "markdown",
   "metadata": {},
   "source": [
    "## Python Learning Resources\n",
    "\n",
    "- www.codecademy.com/en/tracks/python\n",
    "- dataquest.io/missions\n",
    "- developers.google.com/edu/python\n",
    "- www.pythonlearn.com\n",
    "- https://docs.microsoft.com/zh-cn/windows/python\n",
    "- https://work.caltech.edu/library    **video library**"
   ]
  },
  {
   "cell_type": "code",
   "execution_count": null,
   "metadata": {},
   "outputs": [],
   "source": []
  }
 ],
 "metadata": {
  "kernelspec": {
   "display_name": "Python 3",
   "language": "python",
   "name": "python3"
  },
  "language_info": {
   "codemirror_mode": {
    "name": "ipython",
    "version": 3
   },
   "file_extension": ".py",
   "mimetype": "text/x-python",
   "name": "python",
   "nbconvert_exporter": "python",
   "pygments_lexer": "ipython3",
   "version": "3.7.7"
  }
 },
 "nbformat": 4,
 "nbformat_minor": 4
}
