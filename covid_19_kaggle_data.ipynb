{
 "cells": [
  {
   "cell_type": "markdown",
   "metadata": {},
   "source": [
    "# DataScience Life Cycle\n",
    "\n",
    "- business requirement\n",
    "\n",
    "- data acquisition\n",
    "\n",
    "- data processing\n",
    "\n",
    "- data exploration\n",
    "\n",
    "- modelling\n",
    "\n",
    "- deployment\n",
    "\n",
    "All these processes cycle around data science techniques\n",
    "\n",
    "~~https://www.youtube.com/watch?v=mKSWAlvXSmw~~\n",
    "\n",
    "https://www.youtube.com/watch?v=_Hi6_JQesSQ"
   ]
  },
  {
   "cell_type": "code",
   "execution_count": 2,
   "metadata": {},
   "outputs": [],
   "source": [
    "import numpy as np\n",
    "import pandas as pd\n",
    "import matplotlib.pyplot as plt\n",
    "import seaborn as sns"
   ]
  },
  {
   "cell_type": "code",
   "execution_count": 4,
   "metadata": {},
   "outputs": [],
   "source": [
    "df_train = pd.read_csv('../kaggle/train.csv')\n",
    "df_test = pd.read_csv('../kaggle/test.csv')"
   ]
  },
  {
   "cell_type": "code",
   "execution_count": 6,
   "metadata": {},
   "outputs": [
    {
     "data": {
      "text/plain": [
       "(35995, 6)"
      ]
     },
     "metadata": {},
     "output_type": "display_data"
    },
    {
     "name": "stdout",
     "output_type": "stream",
     "text": [
      "<class 'pandas.core.frame.DataFrame'>\n",
      "RangeIndex: 35995 entries, 0 to 35994\n",
      "Data columns (total 6 columns):\n",
      " #   Column          Non-Null Count  Dtype  \n",
      "---  ------          --------------  -----  \n",
      " 0   Id              35995 non-null  int64  \n",
      " 1   Province_State  15295 non-null  object \n",
      " 2   Country_Region  35995 non-null  object \n",
      " 3   Date            35995 non-null  object \n",
      " 4   ConfirmedCases  35995 non-null  float64\n",
      " 5   Fatalities      35995 non-null  float64\n",
      "dtypes: float64(2), int64(1), object(3)\n",
      "memory usage: 1.6+ MB\n"
     ]
    },
    {
     "data": {
      "text/plain": [
       "None"
      ]
     },
     "metadata": {},
     "output_type": "display_data"
    },
    {
     "data": {
      "text/html": [
       "<div>\n",
       "<style scoped>\n",
       "    .dataframe tbody tr th:only-of-type {\n",
       "        vertical-align: middle;\n",
       "    }\n",
       "\n",
       "    .dataframe tbody tr th {\n",
       "        vertical-align: top;\n",
       "    }\n",
       "\n",
       "    .dataframe thead th {\n",
       "        text-align: right;\n",
       "    }\n",
       "</style>\n",
       "<table border=\"1\" class=\"dataframe\">\n",
       "  <thead>\n",
       "    <tr style=\"text-align: right;\">\n",
       "      <th></th>\n",
       "      <th>Id</th>\n",
       "      <th>ConfirmedCases</th>\n",
       "      <th>Fatalities</th>\n",
       "    </tr>\n",
       "  </thead>\n",
       "  <tbody>\n",
       "    <tr>\n",
       "      <th>count</th>\n",
       "      <td>35995.000000</td>\n",
       "      <td>35995.000000</td>\n",
       "      <td>35995.000000</td>\n",
       "    </tr>\n",
       "    <tr>\n",
       "      <th>mean</th>\n",
       "      <td>17998.000000</td>\n",
       "      <td>3683.508737</td>\n",
       "      <td>243.560217</td>\n",
       "    </tr>\n",
       "    <tr>\n",
       "      <th>std</th>\n",
       "      <td>10391.005806</td>\n",
       "      <td>18986.978708</td>\n",
       "      <td>1832.966999</td>\n",
       "    </tr>\n",
       "    <tr>\n",
       "      <th>min</th>\n",
       "      <td>1.000000</td>\n",
       "      <td>0.000000</td>\n",
       "      <td>0.000000</td>\n",
       "    </tr>\n",
       "    <tr>\n",
       "      <th>25%</th>\n",
       "      <td>8999.500000</td>\n",
       "      <td>0.000000</td>\n",
       "      <td>0.000000</td>\n",
       "    </tr>\n",
       "    <tr>\n",
       "      <th>50%</th>\n",
       "      <td>17998.000000</td>\n",
       "      <td>19.000000</td>\n",
       "      <td>0.000000</td>\n",
       "    </tr>\n",
       "    <tr>\n",
       "      <th>75%</th>\n",
       "      <td>26996.500000</td>\n",
       "      <td>543.000000</td>\n",
       "      <td>7.000000</td>\n",
       "    </tr>\n",
       "    <tr>\n",
       "      <th>max</th>\n",
       "      <td>35995.000000</td>\n",
       "      <td>345813.000000</td>\n",
       "      <td>33998.000000</td>\n",
       "    </tr>\n",
       "  </tbody>\n",
       "</table>\n",
       "</div>"
      ],
      "text/plain": [
       "                 Id  ConfirmedCases    Fatalities\n",
       "count  35995.000000    35995.000000  35995.000000\n",
       "mean   17998.000000     3683.508737    243.560217\n",
       "std    10391.005806    18986.978708   1832.966999\n",
       "min        1.000000        0.000000      0.000000\n",
       "25%     8999.500000        0.000000      0.000000\n",
       "50%    17998.000000       19.000000      0.000000\n",
       "75%    26996.500000      543.000000      7.000000\n",
       "max    35995.000000   345813.000000  33998.000000"
      ]
     },
     "metadata": {},
     "output_type": "display_data"
    }
   ],
   "source": [
    "display(df_train.shape)\n",
    "display(df_train.info())\n",
    "display(df_train.describe())"
   ]
  },
  {
   "cell_type": "code",
   "execution_count": 7,
   "metadata": {},
   "outputs": [
    {
     "data": {
      "text/html": [
       "<div>\n",
       "<style scoped>\n",
       "    .dataframe tbody tr th:only-of-type {\n",
       "        vertical-align: middle;\n",
       "    }\n",
       "\n",
       "    .dataframe tbody tr th {\n",
       "        vertical-align: top;\n",
       "    }\n",
       "\n",
       "    .dataframe thead th {\n",
       "        text-align: right;\n",
       "    }\n",
       "</style>\n",
       "<table border=\"1\" class=\"dataframe\">\n",
       "  <thead>\n",
       "    <tr style=\"text-align: right;\">\n",
       "      <th></th>\n",
       "      <th>Id</th>\n",
       "      <th>Province_State</th>\n",
       "      <th>Country_Region</th>\n",
       "      <th>Date</th>\n",
       "      <th>ConfirmedCases</th>\n",
       "      <th>Fatalities</th>\n",
       "    </tr>\n",
       "  </thead>\n",
       "  <tbody>\n",
       "    <tr>\n",
       "      <th>0</th>\n",
       "      <td>1</td>\n",
       "      <td>NaN</td>\n",
       "      <td>Afghanistan</td>\n",
       "      <td>2020-01-22</td>\n",
       "      <td>0.0</td>\n",
       "      <td>0.0</td>\n",
       "    </tr>\n",
       "    <tr>\n",
       "      <th>1</th>\n",
       "      <td>2</td>\n",
       "      <td>NaN</td>\n",
       "      <td>Afghanistan</td>\n",
       "      <td>2020-01-23</td>\n",
       "      <td>0.0</td>\n",
       "      <td>0.0</td>\n",
       "    </tr>\n",
       "    <tr>\n",
       "      <th>2</th>\n",
       "      <td>3</td>\n",
       "      <td>NaN</td>\n",
       "      <td>Afghanistan</td>\n",
       "      <td>2020-01-24</td>\n",
       "      <td>0.0</td>\n",
       "      <td>0.0</td>\n",
       "    </tr>\n",
       "    <tr>\n",
       "      <th>3</th>\n",
       "      <td>4</td>\n",
       "      <td>NaN</td>\n",
       "      <td>Afghanistan</td>\n",
       "      <td>2020-01-25</td>\n",
       "      <td>0.0</td>\n",
       "      <td>0.0</td>\n",
       "    </tr>\n",
       "    <tr>\n",
       "      <th>4</th>\n",
       "      <td>5</td>\n",
       "      <td>NaN</td>\n",
       "      <td>Afghanistan</td>\n",
       "      <td>2020-01-26</td>\n",
       "      <td>0.0</td>\n",
       "      <td>0.0</td>\n",
       "    </tr>\n",
       "  </tbody>\n",
       "</table>\n",
       "</div>"
      ],
      "text/plain": [
       "   Id Province_State Country_Region        Date  ConfirmedCases  Fatalities\n",
       "0   1            NaN    Afghanistan  2020-01-22             0.0         0.0\n",
       "1   2            NaN    Afghanistan  2020-01-23             0.0         0.0\n",
       "2   3            NaN    Afghanistan  2020-01-24             0.0         0.0\n",
       "3   4            NaN    Afghanistan  2020-01-25             0.0         0.0\n",
       "4   5            NaN    Afghanistan  2020-01-26             0.0         0.0"
      ]
     },
     "execution_count": 7,
     "metadata": {},
     "output_type": "execute_result"
    }
   ],
   "source": [
    "df_train.head()"
   ]
  },
  {
   "cell_type": "code",
   "execution_count": 8,
   "metadata": {},
   "outputs": [],
   "source": [
    "df_train['Date'] = pd.to_datetime(df_train['Date'], format = \n",
    "                                 '%Y-%m-%d')\n",
    "df_test['Date'] = pd.to_datetime(df_test['Date'], format = \n",
    "                                 '%Y-%m-%d')"
   ]
  },
  {
   "cell_type": "code",
   "execution_count": 10,
   "metadata": {},
   "outputs": [
    {
     "name": "stdout",
     "output_type": "stream",
     "text": [
      "<class 'pandas.core.frame.DataFrame'>\n",
      "RangeIndex: 13459 entries, 0 to 13458\n",
      "Data columns (total 4 columns):\n",
      " #   Column          Non-Null Count  Dtype         \n",
      "---  ------          --------------  -----         \n",
      " 0   ForecastId      13459 non-null  int64         \n",
      " 1   Province_State  5719 non-null   object        \n",
      " 2   Country_Region  13459 non-null  object        \n",
      " 3   Date            13459 non-null  datetime64[ns]\n",
      "dtypes: datetime64[ns](1), int64(1), object(2)\n",
      "memory usage: 420.7+ KB\n"
     ]
    }
   ],
   "source": [
    "df_test.info()"
   ]
  },
  {
   "cell_type": "code",
   "execution_count": 12,
   "metadata": {},
   "outputs": [
    {
     "name": "stdout",
     "output_type": "stream",
     "text": [
      "Minimum date from training set: 2020-01-22 00:00:00\n",
      "Maximum date from training set: 2020-05-15 00:00:00\n"
     ]
    }
   ],
   "source": [
    "train_date_min = df_train['Date'].min()\n",
    "train_date_max = df_train['Date'].max()\n",
    "print('Minimum date from training set: {}'.format(train_date_min))\n",
    "print('Maximum date from training set: {}'.format(train_date_max))    "
   ]
  },
  {
   "cell_type": "code",
   "execution_count": 13,
   "metadata": {},
   "outputs": [
    {
     "name": "stdout",
     "output_type": "stream",
     "text": [
      "Minimum date from test set: 2020-04-02 00:00:00\n",
      "Maximum date from test set: 2020-05-14 00:00:00\n"
     ]
    }
   ],
   "source": [
    "test_date_min = df_test['Date'].min()\n",
    "test_date_max = df_test['Date'].max()\n",
    "print('Minimum date from test set: {}'.format(test_date_min))\n",
    "print('Maximum date from test set: {}'.format(test_date_max)) "
   ]
  },
  {
   "cell_type": "code",
   "execution_count": 124,
   "metadata": {},
   "outputs": [],
   "source": [
    "import pycountry_convert as pc\n",
    "import plotly_express as px"
   ]
  },
  {
   "cell_type": "code",
   "execution_count": 128,
   "metadata": {},
   "outputs": [],
   "source": [
    "class country_utils():\n",
    "    def __init__(self):\n",
    "        self.d = {}\n",
    "    \n",
    "    def get_dic(self):\n",
    "        return self.d\n",
    "    \n",
    "    def get_country_details(self,country):\n",
    "        \"\"\"Returns country code(alpha_3) and continent\"\"\"\n",
    "        try:\n",
    "            country_obj = pycountry.countries.get(name=country)\n",
    "            if country_obj is None:\n",
    "                c = pycountry.countries.search_fuzzy(country)\n",
    "                country_obj = c[0]\n",
    "            continent_code = pc.country_alpha2_to_continent_code(country_obj.alpha_2)\n",
    "            continent = pc.convert_continent_code_to_continent_name(continent_code)\n",
    "            return country_obj.alpha_3, continent\n",
    "        except:\n",
    "            if 'Congo' in country:\n",
    "                country = 'Congo'\n",
    "            if country == 'Mainland China':\n",
    "                country = 'China'\n",
    "            elif country == 'Diamond Princess' or country == 'Laos' or country == 'MS Zaandam'\\\n",
    "            or country == 'Holy See' or country == 'Timor-Leste':\n",
    "                return country, country\n",
    "            elif country == 'Korea, South' or country == 'South Korea':\n",
    "                country = 'Korea, Republic of'\n",
    "            elif country == 'Taiwan*':\n",
    "                country = 'Taiwan'\n",
    "            elif country == 'Burma':\n",
    "                country = 'Myanmar'\n",
    "            elif country == 'West Bank and Gaza':\n",
    "                country = 'Gaza'\n",
    "            else:\n",
    "                return country, country\n",
    "            country_obj = pycountry.countries.search_fuzzy(country)\n",
    "            continent_code = pc.country_alpha2_to_continent_code(country_obj[0].alpha_2)\n",
    "            continent = pc.convert_continent_code_to_continent_name(continent_code)\n",
    "            return country_obj[0].alpha_3, continent\n",
    "    \n",
    "    def get_iso3(self, country):\n",
    "        return self.d[country]['code']\n",
    "    \n",
    "    def get_continent(self,country):\n",
    "        return self.d[country]['continent']\n",
    "    \n",
    "    def add_values(self,country):\n",
    "        self.d[country] = {}\n",
    "        self.d[country]['code'],self.d[country]['continent'] = self.get_country_details(country)\n",
    "    \n",
    "    def fetch_iso3(self,country):\n",
    "        if country in self.d.keys():\n",
    "            return self.get_iso3(country)\n",
    "        else:\n",
    "            self.add_values(country)\n",
    "            return self.get_iso3(country)\n",
    "        \n",
    "    def fetch_continent(self,country):\n",
    "        if country in self.d.keys():\n",
    "            return self.get_continent(country)\n",
    "        else:\n",
    "            self.add_values(country)\n",
    "            return self.get_continent(country)"
   ]
  },
  {
   "cell_type": "markdown",
   "metadata": {},
   "source": [
    "## Current Share of WorldWide COVID19 Confirmed Cases"
   ]
  },
  {
   "cell_type": "code",
   "execution_count": 130,
   "metadata": {},
   "outputs": [
    {
     "data": {
      "application/vnd.plotly.v1+json": {
       "config": {
        "plotlyServerURL": "https://plot.ly"
       },
       "data": [
        {
         "branchvalues": "total",
         "customdata": [
          [
           "Afghanistan",
           6053
          ],
          [
           "Albania",
           916
          ],
          [
           "Algeria",
           6629
          ],
          [
           "Andorra",
           761
          ],
          [
           "Angola",
           48
          ],
          [
           "Antigua and Barbuda",
           25
          ],
          [
           "Argentina",
           7479
          ],
          [
           "Armenia",
           4044
          ],
          [
           "Australia",
           7035
          ],
          [
           "Austria",
           16109
          ],
          [
           "Azerbaijan",
           2980
          ],
          [
           "Bahamas",
           96
          ],
          [
           "Bahrain",
           6583
          ],
          [
           "Bangladesh",
           20065
          ],
          [
           "Barbados",
           85
          ],
          [
           "Belarus",
           27730
          ],
          [
           "Belgium",
           54644
          ],
          [
           "Belize",
           18
          ],
          [
           "Benin",
           339
          ],
          [
           "Bhutan",
           21
          ],
          [
           "Bolivia",
           3577
          ],
          [
           "Bosnia and Herzegovina",
           2236
          ],
          [
           "Botswana",
           24
          ],
          [
           "Brazil",
           220291
          ],
          [
           "Brunei",
           141
          ],
          [
           "Bulgaria",
           2138
          ],
          [
           "Burkina Faso",
           780
          ],
          [
           "Burma",
           182
          ],
          [
           "Burundi",
           15
          ],
          [
           "Cabo Verde",
           326
          ],
          [
           "Cambodia",
           122
          ],
          [
           "Cameroon",
           3105
          ],
          [
           "Canada",
           75945
          ],
          [
           "Central African Republic",
           301
          ],
          [
           "Chad",
           428
          ],
          [
           "Chile",
           39542
          ],
          [
           "China",
           84038
          ],
          [
           "Colombia",
           14216
          ],
          [
           "Congo (Brazzaville)",
           391
          ],
          [
           "Congo (Kinshasa)",
           1298
          ],
          [
           "Costa Rica",
           843
          ],
          [
           "Cote d'Ivoire",
           2017
          ],
          [
           "Croatia",
           2222
          ],
          [
           "Cuba",
           1840
          ],
          [
           "Cyprus",
           910
          ],
          [
           "Czechia",
           8406
          ],
          [
           "Denmark",
           10989
          ],
          [
           "Diamond Princess",
           712
          ],
          [
           "Djibouti",
           1309
          ],
          [
           "Dominica",
           16
          ],
          [
           "Dominican Republic",
           11739
          ],
          [
           "Ecuador",
           31467
          ],
          [
           "Egypt",
           11228
          ],
          [
           "El Salvador",
           1210
          ],
          [
           "Equatorial Guinea",
           594
          ],
          [
           "Eritrea",
           39
          ],
          [
           "Estonia",
           1766
          ],
          [
           "Eswatini",
           190
          ],
          [
           "Ethiopia",
           287
          ],
          [
           "Fiji",
           18
          ],
          [
           "Finland",
           6228
          ],
          [
           "France",
           179630
          ],
          [
           "Gabon",
           1209
          ],
          [
           "Gambia",
           23
          ],
          [
           "Georgia",
           671
          ],
          [
           "Germany",
           175233
          ],
          [
           "Ghana",
           5638
          ],
          [
           "Greece",
           2810
          ],
          [
           "Grenada",
           22
          ],
          [
           "Guatemala",
           1643
          ],
          [
           "Guinea",
           2473
          ],
          [
           "Guinea-Bissau",
           913
          ],
          [
           "Guyana",
           116
          ],
          [
           "Haiti",
           310
          ],
          [
           "Holy See",
           12
          ],
          [
           "Honduras",
           2460
          ],
          [
           "Hungary",
           3417
          ],
          [
           "Iceland",
           1802
          ],
          [
           "India",
           85784
          ],
          [
           "Indonesia",
           16496
          ],
          [
           "Iran",
           116635
          ],
          [
           "Iraq",
           3193
          ],
          [
           "Ireland",
           23956
          ],
          [
           "Israel",
           16589
          ],
          [
           "Italy",
           223885
          ],
          [
           "Jamaica",
           511
          ],
          [
           "Japan",
           16203
          ],
          [
           "Jordan",
           596
          ],
          [
           "Kazakhstan",
           5689
          ],
          [
           "Kenya",
           781
          ],
          [
           "Korea, South",
           11037
          ],
          [
           "Kosovo",
           944
          ],
          [
           "Kuwait",
           12860
          ],
          [
           "Kyrgyzstan",
           1111
          ],
          [
           "Laos",
           19
          ],
          [
           "Latvia",
           970
          ],
          [
           "Lebanon",
           891
          ],
          [
           "Liberia",
           219
          ],
          [
           "Libya",
           64
          ],
          [
           "Liechtenstein",
           82
          ],
          [
           "Lithuania",
           1523
          ],
          [
           "Luxembourg",
           3923
          ],
          [
           "MS Zaandam",
           9
          ],
          [
           "Madagascar",
           238
          ],
          [
           "Malawi",
           63
          ],
          [
           "Malaysia",
           6855
          ],
          [
           "Maldives",
           1031
          ],
          [
           "Mali",
           806
          ],
          [
           "Malta",
           532
          ],
          [
           "Mauritania",
           29
          ],
          [
           "Mauritius",
           332
          ],
          [
           "Mexico",
           45032
          ],
          [
           "Moldova",
           5745
          ],
          [
           "Monaco",
           96
          ],
          [
           "Mongolia",
           98
          ],
          [
           "Montenegro",
           324
          ],
          [
           "Morocco",
           6652
          ],
          [
           "Mozambique",
           119
          ],
          [
           "Namibia",
           16
          ],
          [
           "Nepal",
           267
          ],
          [
           "Netherlands",
           43880
          ],
          [
           "New Zealand",
           1498
          ],
          [
           "Nicaragua",
           25
          ],
          [
           "Niger",
           885
          ],
          [
           "Nigeria",
           5450
          ],
          [
           "North Macedonia",
           1740
          ],
          [
           "Norway",
           8219
          ],
          [
           "Oman",
           4625
          ],
          [
           "Pakistan",
           38799
          ],
          [
           "Panama",
           9268
          ],
          [
           "Papua New Guinea",
           8
          ],
          [
           "Paraguay",
           759
          ],
          [
           "Peru",
           84495
          ],
          [
           "Philippines",
           12091
          ],
          [
           "Poland",
           18016
          ],
          [
           "Portugal",
           28583
          ],
          [
           "Qatar",
           29425
          ],
          [
           "Romania",
           16437
          ],
          [
           "Russia",
           262843
          ],
          [
           "Rwanda",
           287
          ],
          [
           "Saint Kitts and Nevis",
           15
          ],
          [
           "Saint Lucia",
           18
          ],
          [
           "Saint Vincent and the Grenadines",
           17
          ],
          [
           "San Marino",
           652
          ],
          [
           "Sao Tome and Principe",
           235
          ],
          [
           "Saudi Arabia",
           49176
          ],
          [
           "Senegal",
           2310
          ],
          [
           "Serbia",
           10438
          ],
          [
           "Seychelles",
           11
          ],
          [
           "Sierra Leone",
           447
          ],
          [
           "Singapore",
           26891
          ],
          [
           "Slovakia",
           1480
          ],
          [
           "Slovenia",
           1465
          ],
          [
           "Somalia",
           1284
          ],
          [
           "South Africa",
           13524
          ],
          [
           "South Sudan",
           236
          ],
          [
           "Spain",
           230183
          ],
          [
           "Sri Lanka",
           935
          ],
          [
           "Sudan",
           1964
          ],
          [
           "Suriname",
           10
          ],
          [
           "Sweden",
           29207
          ],
          [
           "Switzerland",
           30514
          ],
          [
           "Syria",
           50
          ],
          [
           "Taiwan*",
           440
          ],
          [
           "Tanzania",
           509
          ],
          [
           "Thailand",
           3025
          ],
          [
           "Timor-Leste",
           24
          ],
          [
           "Togo",
           263
          ],
          [
           "Trinidad and Tobago",
           116
          ],
          [
           "Tunisia",
           1035
          ],
          [
           "Turkey",
           146457
          ],
          [
           "US",
           1442653
          ],
          [
           "Uganda",
           203
          ],
          [
           "Ukraine",
           17330
          ],
          [
           "United Arab Emirates",
           21831
          ],
          [
           "United Kingdom",
           238004
          ],
          [
           "Uruguay",
           732
          ],
          [
           "Uzbekistan",
           2686
          ],
          [
           "Venezuela",
           459
          ],
          [
           "Vietnam",
           314
          ],
          [
           "West Bank and Gaza",
           375
          ],
          [
           "Western Sahara",
           6
          ],
          [
           "Zambia",
           654
          ],
          [
           "Zimbabwe",
           42
          ],
          [
           "(?)",
           76573
          ],
          [
           "(?)",
           758265
          ],
          [
           "(?)",
           1689
          ],
          [
           "Diamond Princess",
           712
          ],
          [
           "(?)",
           1698008
          ],
          [
           "Holy See",
           12
          ],
          [
           "Laos",
           19
          ],
          [
           "MS Zaandam",
           9
          ],
          [
           "(?)",
           1593907
          ],
          [
           "(?)",
           8559
          ],
          [
           "(?)",
           403143
          ],
          [
           "Timor-Leste",
           24
          ],
          [
           "Western Sahara",
           6
          ],
          [
           "(?)",
           4540926
          ]
         ],
         "domain": {
          "x": [
           0,
           1
          ],
          "y": [
           0,
           1
          ]
         },
         "hovertemplate": "labels=%{label}<br>ConfirmedCases=%{color}<br>parent=%{parent}<br>id=%{id}<br>Country_Region=%{customdata[0]}<extra></extra>",
         "ids": [
          "world/Asia/Afghanistan",
          "world/Europe/Albania",
          "world/Africa/Algeria",
          "world/Europe/Andorra",
          "world/Africa/Angola",
          "world/North America/Antigua and Barbuda",
          "world/South America/Argentina",
          "world/Asia/Armenia",
          "world/Oceania/Australia",
          "world/Europe/Austria",
          "world/Asia/Azerbaijan",
          "world/North America/Bahamas",
          "world/Asia/Bahrain",
          "world/Asia/Bangladesh",
          "world/North America/Barbados",
          "world/Europe/Belarus",
          "world/Europe/Belgium",
          "world/North America/Belize",
          "world/Africa/Benin",
          "world/Asia/Bhutan",
          "world/South America/Bolivia",
          "world/Europe/Bosnia and Herzegovina",
          "world/Africa/Botswana",
          "world/South America/Brazil",
          "world/Asia/Brunei",
          "world/Europe/Bulgaria",
          "world/Africa/Burkina Faso",
          "world/Asia/Burma",
          "world/Africa/Burundi",
          "world/Africa/Cabo Verde",
          "world/Asia/Cambodia",
          "world/Africa/Cameroon",
          "world/North America/Canada",
          "world/Africa/Central African Republic",
          "world/Africa/Chad",
          "world/South America/Chile",
          "world/Asia/China",
          "world/South America/Colombia",
          "world/Congo/Congo (Brazzaville)",
          "world/Congo/Congo (Kinshasa)",
          "world/North America/Costa Rica",
          "world/Africa/Cote d'Ivoire",
          "world/Europe/Croatia",
          "world/North America/Cuba",
          "world/Asia/Cyprus",
          "world/Europe/Czechia",
          "world/Europe/Denmark",
          "world/Diamond Princess/Diamond Princess",
          "world/Africa/Djibouti",
          "world/North America/Dominica",
          "world/North America/Dominican Republic",
          "world/South America/Ecuador",
          "world/Africa/Egypt",
          "world/North America/El Salvador",
          "world/Africa/Equatorial Guinea",
          "world/Africa/Eritrea",
          "world/Europe/Estonia",
          "world/Africa/Eswatini",
          "world/Africa/Ethiopia",
          "world/Oceania/Fiji",
          "world/Europe/Finland",
          "world/Europe/France",
          "world/Africa/Gabon",
          "world/Africa/Gambia",
          "world/Asia/Georgia",
          "world/Europe/Germany",
          "world/Africa/Ghana",
          "world/Europe/Greece",
          "world/North America/Grenada",
          "world/North America/Guatemala",
          "world/Africa/Guinea",
          "world/Africa/Guinea-Bissau",
          "world/South America/Guyana",
          "world/North America/Haiti",
          "world/Holy See/Holy See",
          "world/North America/Honduras",
          "world/Europe/Hungary",
          "world/Europe/Iceland",
          "world/Asia/India",
          "world/Asia/Indonesia",
          "world/Asia/Iran",
          "world/Asia/Iraq",
          "world/Europe/Ireland",
          "world/Asia/Israel",
          "world/Europe/Italy",
          "world/North America/Jamaica",
          "world/Asia/Japan",
          "world/Asia/Jordan",
          "world/Asia/Kazakhstan",
          "world/Africa/Kenya",
          "world/Asia/Korea, South",
          "world/Europe/Kosovo",
          "world/Asia/Kuwait",
          "world/Asia/Kyrgyzstan",
          "world/Laos/Laos",
          "world/Europe/Latvia",
          "world/Asia/Lebanon",
          "world/Africa/Liberia",
          "world/Africa/Libya",
          "world/Europe/Liechtenstein",
          "world/Europe/Lithuania",
          "world/Europe/Luxembourg",
          "world/MS Zaandam/MS Zaandam",
          "world/Africa/Madagascar",
          "world/Africa/Malawi",
          "world/Asia/Malaysia",
          "world/Asia/Maldives",
          "world/Africa/Mali",
          "world/Europe/Malta",
          "world/Africa/Mauritania",
          "world/Africa/Mauritius",
          "world/North America/Mexico",
          "world/Europe/Moldova",
          "world/Europe/Monaco",
          "world/Asia/Mongolia",
          "world/Europe/Montenegro",
          "world/Africa/Morocco",
          "world/Africa/Mozambique",
          "world/Africa/Namibia",
          "world/Asia/Nepal",
          "world/Europe/Netherlands",
          "world/Oceania/New Zealand",
          "world/North America/Nicaragua",
          "world/Africa/Niger",
          "world/Africa/Nigeria",
          "world/Europe/North Macedonia",
          "world/Europe/Norway",
          "world/Asia/Oman",
          "world/Asia/Pakistan",
          "world/North America/Panama",
          "world/Oceania/Papua New Guinea",
          "world/South America/Paraguay",
          "world/South America/Peru",
          "world/Asia/Philippines",
          "world/Europe/Poland",
          "world/Europe/Portugal",
          "world/Asia/Qatar",
          "world/Europe/Romania",
          "world/Europe/Russia",
          "world/Africa/Rwanda",
          "world/North America/Saint Kitts and Nevis",
          "world/North America/Saint Lucia",
          "world/North America/Saint Vincent and the Grenadines",
          "world/Europe/San Marino",
          "world/Africa/Sao Tome and Principe",
          "world/Asia/Saudi Arabia",
          "world/Africa/Senegal",
          "world/Europe/Serbia",
          "world/Africa/Seychelles",
          "world/Africa/Sierra Leone",
          "world/Asia/Singapore",
          "world/Europe/Slovakia",
          "world/Europe/Slovenia",
          "world/Africa/Somalia",
          "world/Africa/South Africa",
          "world/Africa/South Sudan",
          "world/Europe/Spain",
          "world/Asia/Sri Lanka",
          "world/Africa/Sudan",
          "world/South America/Suriname",
          "world/Europe/Sweden",
          "world/Europe/Switzerland",
          "world/Asia/Syria",
          "world/Asia/Taiwan*",
          "world/Africa/Tanzania",
          "world/Asia/Thailand",
          "world/Timor-Leste/Timor-Leste",
          "world/Africa/Togo",
          "world/North America/Trinidad and Tobago",
          "world/Africa/Tunisia",
          "world/Asia/Turkey",
          "world/North America/US",
          "world/Africa/Uganda",
          "world/Europe/Ukraine",
          "world/Asia/United Arab Emirates",
          "world/Europe/United Kingdom",
          "world/South America/Uruguay",
          "world/Asia/Uzbekistan",
          "world/South America/Venezuela",
          "world/Asia/Vietnam",
          "world/Asia/West Bank and Gaza",
          "world/Western Sahara/Western Sahara",
          "world/Africa/Zambia",
          "world/Africa/Zimbabwe",
          "world/Africa",
          "world/Asia",
          "world/Congo",
          "world/Diamond Princess",
          "world/Europe",
          "world/Holy See",
          "world/Laos",
          "world/MS Zaandam",
          "world/North America",
          "world/Oceania",
          "world/South America",
          "world/Timor-Leste",
          "world/Western Sahara",
          "world"
         ],
         "labels": [
          "Afghanistan",
          "Albania",
          "Algeria",
          "Andorra",
          "Angola",
          "Antigua and Barbuda",
          "Argentina",
          "Armenia",
          "Australia",
          "Austria",
          "Azerbaijan",
          "Bahamas",
          "Bahrain",
          "Bangladesh",
          "Barbados",
          "Belarus",
          "Belgium",
          "Belize",
          "Benin",
          "Bhutan",
          "Bolivia",
          "Bosnia and Herzegovina",
          "Botswana",
          "Brazil",
          "Brunei",
          "Bulgaria",
          "Burkina Faso",
          "Burma",
          "Burundi",
          "Cabo Verde",
          "Cambodia",
          "Cameroon",
          "Canada",
          "Central African Republic",
          "Chad",
          "Chile",
          "China",
          "Colombia",
          "Congo (Brazzaville)",
          "Congo (Kinshasa)",
          "Costa Rica",
          "Cote d'Ivoire",
          "Croatia",
          "Cuba",
          "Cyprus",
          "Czechia",
          "Denmark",
          "Diamond Princess",
          "Djibouti",
          "Dominica",
          "Dominican Republic",
          "Ecuador",
          "Egypt",
          "El Salvador",
          "Equatorial Guinea",
          "Eritrea",
          "Estonia",
          "Eswatini",
          "Ethiopia",
          "Fiji",
          "Finland",
          "France",
          "Gabon",
          "Gambia",
          "Georgia",
          "Germany",
          "Ghana",
          "Greece",
          "Grenada",
          "Guatemala",
          "Guinea",
          "Guinea-Bissau",
          "Guyana",
          "Haiti",
          "Holy See",
          "Honduras",
          "Hungary",
          "Iceland",
          "India",
          "Indonesia",
          "Iran",
          "Iraq",
          "Ireland",
          "Israel",
          "Italy",
          "Jamaica",
          "Japan",
          "Jordan",
          "Kazakhstan",
          "Kenya",
          "Korea, South",
          "Kosovo",
          "Kuwait",
          "Kyrgyzstan",
          "Laos",
          "Latvia",
          "Lebanon",
          "Liberia",
          "Libya",
          "Liechtenstein",
          "Lithuania",
          "Luxembourg",
          "MS Zaandam",
          "Madagascar",
          "Malawi",
          "Malaysia",
          "Maldives",
          "Mali",
          "Malta",
          "Mauritania",
          "Mauritius",
          "Mexico",
          "Moldova",
          "Monaco",
          "Mongolia",
          "Montenegro",
          "Morocco",
          "Mozambique",
          "Namibia",
          "Nepal",
          "Netherlands",
          "New Zealand",
          "Nicaragua",
          "Niger",
          "Nigeria",
          "North Macedonia",
          "Norway",
          "Oman",
          "Pakistan",
          "Panama",
          "Papua New Guinea",
          "Paraguay",
          "Peru",
          "Philippines",
          "Poland",
          "Portugal",
          "Qatar",
          "Romania",
          "Russia",
          "Rwanda",
          "Saint Kitts and Nevis",
          "Saint Lucia",
          "Saint Vincent and the Grenadines",
          "San Marino",
          "Sao Tome and Principe",
          "Saudi Arabia",
          "Senegal",
          "Serbia",
          "Seychelles",
          "Sierra Leone",
          "Singapore",
          "Slovakia",
          "Slovenia",
          "Somalia",
          "South Africa",
          "South Sudan",
          "Spain",
          "Sri Lanka",
          "Sudan",
          "Suriname",
          "Sweden",
          "Switzerland",
          "Syria",
          "Taiwan*",
          "Tanzania",
          "Thailand",
          "Timor-Leste",
          "Togo",
          "Trinidad and Tobago",
          "Tunisia",
          "Turkey",
          "US",
          "Uganda",
          "Ukraine",
          "United Arab Emirates",
          "United Kingdom",
          "Uruguay",
          "Uzbekistan",
          "Venezuela",
          "Vietnam",
          "West Bank and Gaza",
          "Western Sahara",
          "Zambia",
          "Zimbabwe",
          "Africa",
          "Asia",
          "Congo",
          "Diamond Princess",
          "Europe",
          "Holy See",
          "Laos",
          "MS Zaandam",
          "North America",
          "Oceania",
          "South America",
          "Timor-Leste",
          "Western Sahara",
          "world"
         ],
         "marker": {
          "coloraxis": "coloraxis",
          "colors": [
           6053,
           916,
           6629,
           761,
           48,
           25,
           7479,
           4044,
           7035,
           16109,
           2980,
           96,
           6583,
           20065,
           85,
           27730,
           54644,
           18,
           339,
           21,
           3577,
           2236,
           24,
           220291,
           141,
           2138,
           780,
           182,
           15,
           326,
           122,
           3105,
           75945,
           301,
           428,
           39542,
           84038,
           14216,
           391,
           1298,
           843,
           2017,
           2222,
           1840,
           910,
           8406,
           10989,
           712,
           1309,
           16,
           11739,
           31467,
           11228,
           1210,
           594,
           39,
           1766,
           190,
           287,
           18,
           6228,
           179630,
           1209,
           23,
           671,
           175233,
           5638,
           2810,
           22,
           1643,
           2473,
           913,
           116,
           310,
           12,
           2460,
           3417,
           1802,
           85784,
           16496,
           116635,
           3193,
           23956,
           16589,
           223885,
           511,
           16203,
           596,
           5689,
           781,
           11037,
           944,
           12860,
           1111,
           19,
           970,
           891,
           219,
           64,
           82,
           1523,
           3923,
           9,
           238,
           63,
           6855,
           1031,
           806,
           532,
           29,
           332,
           45032,
           5745,
           96,
           98,
           324,
           6652,
           119,
           16,
           267,
           43880,
           1498,
           25,
           885,
           5450,
           1740,
           8219,
           4625,
           38799,
           9268,
           8,
           759,
           84495,
           12091,
           18016,
           28583,
           29425,
           16437,
           262843,
           287,
           15,
           18,
           17,
           652,
           235,
           49176,
           2310,
           10438,
           11,
           447,
           26891,
           1480,
           1465,
           1284,
           13524,
           236,
           230183,
           935,
           1964,
           10,
           29207,
           30514,
           50,
           440,
           509,
           3025,
           24,
           263,
           116,
           1035,
           146457,
           1442653,
           203,
           17330,
           21831,
           238004,
           732,
           2686,
           459,
           314,
           375,
           6,
           654,
           42,
           76573,
           758265,
           1689,
           712,
           1698008,
           12,
           19,
           9,
           1593907,
           8559,
           403143,
           24,
           6,
           4540926
          ]
         },
         "name": "",
         "parents": [
          "world/Asia",
          "world/Europe",
          "world/Africa",
          "world/Europe",
          "world/Africa",
          "world/North America",
          "world/South America",
          "world/Asia",
          "world/Oceania",
          "world/Europe",
          "world/Asia",
          "world/North America",
          "world/Asia",
          "world/Asia",
          "world/North America",
          "world/Europe",
          "world/Europe",
          "world/North America",
          "world/Africa",
          "world/Asia",
          "world/South America",
          "world/Europe",
          "world/Africa",
          "world/South America",
          "world/Asia",
          "world/Europe",
          "world/Africa",
          "world/Asia",
          "world/Africa",
          "world/Africa",
          "world/Asia",
          "world/Africa",
          "world/North America",
          "world/Africa",
          "world/Africa",
          "world/South America",
          "world/Asia",
          "world/South America",
          "world/Congo",
          "world/Congo",
          "world/North America",
          "world/Africa",
          "world/Europe",
          "world/North America",
          "world/Asia",
          "world/Europe",
          "world/Europe",
          "world/Diamond Princess",
          "world/Africa",
          "world/North America",
          "world/North America",
          "world/South America",
          "world/Africa",
          "world/North America",
          "world/Africa",
          "world/Africa",
          "world/Europe",
          "world/Africa",
          "world/Africa",
          "world/Oceania",
          "world/Europe",
          "world/Europe",
          "world/Africa",
          "world/Africa",
          "world/Asia",
          "world/Europe",
          "world/Africa",
          "world/Europe",
          "world/North America",
          "world/North America",
          "world/Africa",
          "world/Africa",
          "world/South America",
          "world/North America",
          "world/Holy See",
          "world/North America",
          "world/Europe",
          "world/Europe",
          "world/Asia",
          "world/Asia",
          "world/Asia",
          "world/Asia",
          "world/Europe",
          "world/Asia",
          "world/Europe",
          "world/North America",
          "world/Asia",
          "world/Asia",
          "world/Asia",
          "world/Africa",
          "world/Asia",
          "world/Europe",
          "world/Asia",
          "world/Asia",
          "world/Laos",
          "world/Europe",
          "world/Asia",
          "world/Africa",
          "world/Africa",
          "world/Europe",
          "world/Europe",
          "world/Europe",
          "world/MS Zaandam",
          "world/Africa",
          "world/Africa",
          "world/Asia",
          "world/Asia",
          "world/Africa",
          "world/Europe",
          "world/Africa",
          "world/Africa",
          "world/North America",
          "world/Europe",
          "world/Europe",
          "world/Asia",
          "world/Europe",
          "world/Africa",
          "world/Africa",
          "world/Africa",
          "world/Asia",
          "world/Europe",
          "world/Oceania",
          "world/North America",
          "world/Africa",
          "world/Africa",
          "world/Europe",
          "world/Europe",
          "world/Asia",
          "world/Asia",
          "world/North America",
          "world/Oceania",
          "world/South America",
          "world/South America",
          "world/Asia",
          "world/Europe",
          "world/Europe",
          "world/Asia",
          "world/Europe",
          "world/Europe",
          "world/Africa",
          "world/North America",
          "world/North America",
          "world/North America",
          "world/Europe",
          "world/Africa",
          "world/Asia",
          "world/Africa",
          "world/Europe",
          "world/Africa",
          "world/Africa",
          "world/Asia",
          "world/Europe",
          "world/Europe",
          "world/Africa",
          "world/Africa",
          "world/Africa",
          "world/Europe",
          "world/Asia",
          "world/Africa",
          "world/South America",
          "world/Europe",
          "world/Europe",
          "world/Asia",
          "world/Asia",
          "world/Africa",
          "world/Asia",
          "world/Timor-Leste",
          "world/Africa",
          "world/North America",
          "world/Africa",
          "world/Asia",
          "world/North America",
          "world/Africa",
          "world/Europe",
          "world/Asia",
          "world/Europe",
          "world/South America",
          "world/Asia",
          "world/South America",
          "world/Asia",
          "world/Asia",
          "world/Western Sahara",
          "world/Africa",
          "world/Africa",
          "world",
          "world",
          "world",
          "world",
          "world",
          "world",
          "world",
          "world",
          "world",
          "world",
          "world",
          "world",
          "world",
          ""
         ],
         "type": "treemap",
         "values": [
          6053,
          916,
          6629,
          761,
          48,
          25,
          7479,
          4044,
          7035,
          16109,
          2980,
          96,
          6583,
          20065,
          85,
          27730,
          54644,
          18,
          339,
          21,
          3577,
          2236,
          24,
          220291,
          141,
          2138,
          780,
          182,
          15,
          326,
          122,
          3105,
          75945,
          301,
          428,
          39542,
          84038,
          14216,
          391,
          1298,
          843,
          2017,
          2222,
          1840,
          910,
          8406,
          10989,
          712,
          1309,
          16,
          11739,
          31467,
          11228,
          1210,
          594,
          39,
          1766,
          190,
          287,
          18,
          6228,
          179630,
          1209,
          23,
          671,
          175233,
          5638,
          2810,
          22,
          1643,
          2473,
          913,
          116,
          310,
          12,
          2460,
          3417,
          1802,
          85784,
          16496,
          116635,
          3193,
          23956,
          16589,
          223885,
          511,
          16203,
          596,
          5689,
          781,
          11037,
          944,
          12860,
          1111,
          19,
          970,
          891,
          219,
          64,
          82,
          1523,
          3923,
          9,
          238,
          63,
          6855,
          1031,
          806,
          532,
          29,
          332,
          45032,
          5745,
          96,
          98,
          324,
          6652,
          119,
          16,
          267,
          43880,
          1498,
          25,
          885,
          5450,
          1740,
          8219,
          4625,
          38799,
          9268,
          8,
          759,
          84495,
          12091,
          18016,
          28583,
          29425,
          16437,
          262843,
          287,
          15,
          18,
          17,
          652,
          235,
          49176,
          2310,
          10438,
          11,
          447,
          26891,
          1480,
          1465,
          1284,
          13524,
          236,
          230183,
          935,
          1964,
          10,
          29207,
          30514,
          50,
          440,
          509,
          3025,
          24,
          263,
          116,
          1035,
          146457,
          1442653,
          203,
          17330,
          21831,
          238004,
          732,
          2686,
          459,
          314,
          375,
          6,
          654,
          42,
          76573,
          758265,
          1689,
          712,
          1698008,
          12,
          19,
          9,
          1593907,
          8559,
          403143,
          24,
          6,
          4540926
         ]
        }
       ],
       "layout": {
        "coloraxis": {
         "colorbar": {
          "title": {
           "text": "ConfirmedCases"
          }
         },
         "colorscale": [
          [
           0,
           "rgb(230, 240, 240)"
          ],
          [
           0.09090909090909091,
           "rgb(191, 221, 229)"
          ],
          [
           0.18181818181818182,
           "rgb(156, 201, 226)"
          ],
          [
           0.2727272727272727,
           "rgb(129, 180, 227)"
          ],
          [
           0.36363636363636365,
           "rgb(115, 154, 228)"
          ],
          [
           0.45454545454545453,
           "rgb(117, 127, 221)"
          ],
          [
           0.5454545454545454,
           "rgb(120, 100, 202)"
          ],
          [
           0.6363636363636364,
           "rgb(119, 74, 175)"
          ],
          [
           0.7272727272727273,
           "rgb(113, 50, 141)"
          ],
          [
           0.8181818181818182,
           "rgb(100, 31, 104)"
          ],
          [
           0.9090909090909091,
           "rgb(80, 20, 66)"
          ],
          [
           1,
           "rgb(54, 14, 36)"
          ]
         ]
        },
        "legend": {
         "tracegroupgap": 0
        },
        "template": {
         "data": {
          "bar": [
           {
            "error_x": {
             "color": "#2a3f5f"
            },
            "error_y": {
             "color": "#2a3f5f"
            },
            "marker": {
             "line": {
              "color": "#E5ECF6",
              "width": 0.5
             }
            },
            "type": "bar"
           }
          ],
          "barpolar": [
           {
            "marker": {
             "line": {
              "color": "#E5ECF6",
              "width": 0.5
             }
            },
            "type": "barpolar"
           }
          ],
          "carpet": [
           {
            "aaxis": {
             "endlinecolor": "#2a3f5f",
             "gridcolor": "white",
             "linecolor": "white",
             "minorgridcolor": "white",
             "startlinecolor": "#2a3f5f"
            },
            "baxis": {
             "endlinecolor": "#2a3f5f",
             "gridcolor": "white",
             "linecolor": "white",
             "minorgridcolor": "white",
             "startlinecolor": "#2a3f5f"
            },
            "type": "carpet"
           }
          ],
          "choropleth": [
           {
            "colorbar": {
             "outlinewidth": 0,
             "ticks": ""
            },
            "type": "choropleth"
           }
          ],
          "contour": [
           {
            "colorbar": {
             "outlinewidth": 0,
             "ticks": ""
            },
            "colorscale": [
             [
              0,
              "#0d0887"
             ],
             [
              0.1111111111111111,
              "#46039f"
             ],
             [
              0.2222222222222222,
              "#7201a8"
             ],
             [
              0.3333333333333333,
              "#9c179e"
             ],
             [
              0.4444444444444444,
              "#bd3786"
             ],
             [
              0.5555555555555556,
              "#d8576b"
             ],
             [
              0.6666666666666666,
              "#ed7953"
             ],
             [
              0.7777777777777778,
              "#fb9f3a"
             ],
             [
              0.8888888888888888,
              "#fdca26"
             ],
             [
              1,
              "#f0f921"
             ]
            ],
            "type": "contour"
           }
          ],
          "contourcarpet": [
           {
            "colorbar": {
             "outlinewidth": 0,
             "ticks": ""
            },
            "type": "contourcarpet"
           }
          ],
          "heatmap": [
           {
            "colorbar": {
             "outlinewidth": 0,
             "ticks": ""
            },
            "colorscale": [
             [
              0,
              "#0d0887"
             ],
             [
              0.1111111111111111,
              "#46039f"
             ],
             [
              0.2222222222222222,
              "#7201a8"
             ],
             [
              0.3333333333333333,
              "#9c179e"
             ],
             [
              0.4444444444444444,
              "#bd3786"
             ],
             [
              0.5555555555555556,
              "#d8576b"
             ],
             [
              0.6666666666666666,
              "#ed7953"
             ],
             [
              0.7777777777777778,
              "#fb9f3a"
             ],
             [
              0.8888888888888888,
              "#fdca26"
             ],
             [
              1,
              "#f0f921"
             ]
            ],
            "type": "heatmap"
           }
          ],
          "heatmapgl": [
           {
            "colorbar": {
             "outlinewidth": 0,
             "ticks": ""
            },
            "colorscale": [
             [
              0,
              "#0d0887"
             ],
             [
              0.1111111111111111,
              "#46039f"
             ],
             [
              0.2222222222222222,
              "#7201a8"
             ],
             [
              0.3333333333333333,
              "#9c179e"
             ],
             [
              0.4444444444444444,
              "#bd3786"
             ],
             [
              0.5555555555555556,
              "#d8576b"
             ],
             [
              0.6666666666666666,
              "#ed7953"
             ],
             [
              0.7777777777777778,
              "#fb9f3a"
             ],
             [
              0.8888888888888888,
              "#fdca26"
             ],
             [
              1,
              "#f0f921"
             ]
            ],
            "type": "heatmapgl"
           }
          ],
          "histogram": [
           {
            "marker": {
             "colorbar": {
              "outlinewidth": 0,
              "ticks": ""
             }
            },
            "type": "histogram"
           }
          ],
          "histogram2d": [
           {
            "colorbar": {
             "outlinewidth": 0,
             "ticks": ""
            },
            "colorscale": [
             [
              0,
              "#0d0887"
             ],
             [
              0.1111111111111111,
              "#46039f"
             ],
             [
              0.2222222222222222,
              "#7201a8"
             ],
             [
              0.3333333333333333,
              "#9c179e"
             ],
             [
              0.4444444444444444,
              "#bd3786"
             ],
             [
              0.5555555555555556,
              "#d8576b"
             ],
             [
              0.6666666666666666,
              "#ed7953"
             ],
             [
              0.7777777777777778,
              "#fb9f3a"
             ],
             [
              0.8888888888888888,
              "#fdca26"
             ],
             [
              1,
              "#f0f921"
             ]
            ],
            "type": "histogram2d"
           }
          ],
          "histogram2dcontour": [
           {
            "colorbar": {
             "outlinewidth": 0,
             "ticks": ""
            },
            "colorscale": [
             [
              0,
              "#0d0887"
             ],
             [
              0.1111111111111111,
              "#46039f"
             ],
             [
              0.2222222222222222,
              "#7201a8"
             ],
             [
              0.3333333333333333,
              "#9c179e"
             ],
             [
              0.4444444444444444,
              "#bd3786"
             ],
             [
              0.5555555555555556,
              "#d8576b"
             ],
             [
              0.6666666666666666,
              "#ed7953"
             ],
             [
              0.7777777777777778,
              "#fb9f3a"
             ],
             [
              0.8888888888888888,
              "#fdca26"
             ],
             [
              1,
              "#f0f921"
             ]
            ],
            "type": "histogram2dcontour"
           }
          ],
          "mesh3d": [
           {
            "colorbar": {
             "outlinewidth": 0,
             "ticks": ""
            },
            "type": "mesh3d"
           }
          ],
          "parcoords": [
           {
            "line": {
             "colorbar": {
              "outlinewidth": 0,
              "ticks": ""
             }
            },
            "type": "parcoords"
           }
          ],
          "pie": [
           {
            "automargin": true,
            "type": "pie"
           }
          ],
          "scatter": [
           {
            "marker": {
             "colorbar": {
              "outlinewidth": 0,
              "ticks": ""
             }
            },
            "type": "scatter"
           }
          ],
          "scatter3d": [
           {
            "line": {
             "colorbar": {
              "outlinewidth": 0,
              "ticks": ""
             }
            },
            "marker": {
             "colorbar": {
              "outlinewidth": 0,
              "ticks": ""
             }
            },
            "type": "scatter3d"
           }
          ],
          "scattercarpet": [
           {
            "marker": {
             "colorbar": {
              "outlinewidth": 0,
              "ticks": ""
             }
            },
            "type": "scattercarpet"
           }
          ],
          "scattergeo": [
           {
            "marker": {
             "colorbar": {
              "outlinewidth": 0,
              "ticks": ""
             }
            },
            "type": "scattergeo"
           }
          ],
          "scattergl": [
           {
            "marker": {
             "colorbar": {
              "outlinewidth": 0,
              "ticks": ""
             }
            },
            "type": "scattergl"
           }
          ],
          "scattermapbox": [
           {
            "marker": {
             "colorbar": {
              "outlinewidth": 0,
              "ticks": ""
             }
            },
            "type": "scattermapbox"
           }
          ],
          "scatterpolar": [
           {
            "marker": {
             "colorbar": {
              "outlinewidth": 0,
              "ticks": ""
             }
            },
            "type": "scatterpolar"
           }
          ],
          "scatterpolargl": [
           {
            "marker": {
             "colorbar": {
              "outlinewidth": 0,
              "ticks": ""
             }
            },
            "type": "scatterpolargl"
           }
          ],
          "scatterternary": [
           {
            "marker": {
             "colorbar": {
              "outlinewidth": 0,
              "ticks": ""
             }
            },
            "type": "scatterternary"
           }
          ],
          "surface": [
           {
            "colorbar": {
             "outlinewidth": 0,
             "ticks": ""
            },
            "colorscale": [
             [
              0,
              "#0d0887"
             ],
             [
              0.1111111111111111,
              "#46039f"
             ],
             [
              0.2222222222222222,
              "#7201a8"
             ],
             [
              0.3333333333333333,
              "#9c179e"
             ],
             [
              0.4444444444444444,
              "#bd3786"
             ],
             [
              0.5555555555555556,
              "#d8576b"
             ],
             [
              0.6666666666666666,
              "#ed7953"
             ],
             [
              0.7777777777777778,
              "#fb9f3a"
             ],
             [
              0.8888888888888888,
              "#fdca26"
             ],
             [
              1,
              "#f0f921"
             ]
            ],
            "type": "surface"
           }
          ],
          "table": [
           {
            "cells": {
             "fill": {
              "color": "#EBF0F8"
             },
             "line": {
              "color": "white"
             }
            },
            "header": {
             "fill": {
              "color": "#C8D4E3"
             },
             "line": {
              "color": "white"
             }
            },
            "type": "table"
           }
          ]
         },
         "layout": {
          "annotationdefaults": {
           "arrowcolor": "#2a3f5f",
           "arrowhead": 0,
           "arrowwidth": 1
          },
          "coloraxis": {
           "colorbar": {
            "outlinewidth": 0,
            "ticks": ""
           }
          },
          "colorscale": {
           "diverging": [
            [
             0,
             "#8e0152"
            ],
            [
             0.1,
             "#c51b7d"
            ],
            [
             0.2,
             "#de77ae"
            ],
            [
             0.3,
             "#f1b6da"
            ],
            [
             0.4,
             "#fde0ef"
            ],
            [
             0.5,
             "#f7f7f7"
            ],
            [
             0.6,
             "#e6f5d0"
            ],
            [
             0.7,
             "#b8e186"
            ],
            [
             0.8,
             "#7fbc41"
            ],
            [
             0.9,
             "#4d9221"
            ],
            [
             1,
             "#276419"
            ]
           ],
           "sequential": [
            [
             0,
             "#0d0887"
            ],
            [
             0.1111111111111111,
             "#46039f"
            ],
            [
             0.2222222222222222,
             "#7201a8"
            ],
            [
             0.3333333333333333,
             "#9c179e"
            ],
            [
             0.4444444444444444,
             "#bd3786"
            ],
            [
             0.5555555555555556,
             "#d8576b"
            ],
            [
             0.6666666666666666,
             "#ed7953"
            ],
            [
             0.7777777777777778,
             "#fb9f3a"
            ],
            [
             0.8888888888888888,
             "#fdca26"
            ],
            [
             1,
             "#f0f921"
            ]
           ],
           "sequentialminus": [
            [
             0,
             "#0d0887"
            ],
            [
             0.1111111111111111,
             "#46039f"
            ],
            [
             0.2222222222222222,
             "#7201a8"
            ],
            [
             0.3333333333333333,
             "#9c179e"
            ],
            [
             0.4444444444444444,
             "#bd3786"
            ],
            [
             0.5555555555555556,
             "#d8576b"
            ],
            [
             0.6666666666666666,
             "#ed7953"
            ],
            [
             0.7777777777777778,
             "#fb9f3a"
            ],
            [
             0.8888888888888888,
             "#fdca26"
            ],
            [
             1,
             "#f0f921"
            ]
           ]
          },
          "colorway": [
           "#636efa",
           "#EF553B",
           "#00cc96",
           "#ab63fa",
           "#FFA15A",
           "#19d3f3",
           "#FF6692",
           "#B6E880",
           "#FF97FF",
           "#FECB52"
          ],
          "font": {
           "color": "#2a3f5f"
          },
          "geo": {
           "bgcolor": "white",
           "lakecolor": "white",
           "landcolor": "#E5ECF6",
           "showlakes": true,
           "showland": true,
           "subunitcolor": "white"
          },
          "hoverlabel": {
           "align": "left"
          },
          "hovermode": "closest",
          "mapbox": {
           "style": "light"
          },
          "paper_bgcolor": "white",
          "plot_bgcolor": "#E5ECF6",
          "polar": {
           "angularaxis": {
            "gridcolor": "white",
            "linecolor": "white",
            "ticks": ""
           },
           "bgcolor": "#E5ECF6",
           "radialaxis": {
            "gridcolor": "white",
            "linecolor": "white",
            "ticks": ""
           }
          },
          "scene": {
           "xaxis": {
            "backgroundcolor": "#E5ECF6",
            "gridcolor": "white",
            "gridwidth": 2,
            "linecolor": "white",
            "showbackground": true,
            "ticks": "",
            "zerolinecolor": "white"
           },
           "yaxis": {
            "backgroundcolor": "#E5ECF6",
            "gridcolor": "white",
            "gridwidth": 2,
            "linecolor": "white",
            "showbackground": true,
            "ticks": "",
            "zerolinecolor": "white"
           },
           "zaxis": {
            "backgroundcolor": "#E5ECF6",
            "gridcolor": "white",
            "gridwidth": 2,
            "linecolor": "white",
            "showbackground": true,
            "ticks": "",
            "zerolinecolor": "white"
           }
          },
          "shapedefaults": {
           "line": {
            "color": "#2a3f5f"
           }
          },
          "ternary": {
           "aaxis": {
            "gridcolor": "white",
            "linecolor": "white",
            "ticks": ""
           },
           "baxis": {
            "gridcolor": "white",
            "linecolor": "white",
            "ticks": ""
           },
           "bgcolor": "#E5ECF6",
           "caxis": {
            "gridcolor": "white",
            "linecolor": "white",
            "ticks": ""
           }
          },
          "title": {
           "x": 0.05
          },
          "xaxis": {
           "automargin": true,
           "gridcolor": "white",
           "linecolor": "white",
           "ticks": "",
           "title": {
            "standoff": 15
           },
           "zerolinecolor": "white",
           "zerolinewidth": 2
          },
          "yaxis": {
           "automargin": true,
           "gridcolor": "white",
           "linecolor": "white",
           "ticks": "",
           "title": {
            "standoff": 15
           },
           "zerolinecolor": "white",
           "zerolinewidth": 2
          }
         }
        },
        "title": {
         "text": "Current Share of WorldWide COVID19 Confirmed Cases"
        }
       }
      },
      "text/html": [
       "<div>\n",
       "        \n",
       "        \n",
       "            <div id=\"a4e86772-f7d9-451e-b7d5-bef018d1ed72\" class=\"plotly-graph-div\" style=\"height:525px; width:100%;\"></div>\n",
       "            <script type=\"text/javascript\">\n",
       "                require([\"plotly\"], function(Plotly) {\n",
       "                    window.PLOTLYENV=window.PLOTLYENV || {};\n",
       "                    \n",
       "                if (document.getElementById(\"a4e86772-f7d9-451e-b7d5-bef018d1ed72\")) {\n",
       "                    Plotly.newPlot(\n",
       "                        'a4e86772-f7d9-451e-b7d5-bef018d1ed72',\n",
       "                        [{\"branchvalues\": \"total\", \"customdata\": [[\"Afghanistan\", 6053.0], [\"Albania\", 916.0], [\"Algeria\", 6629.0], [\"Andorra\", 761.0], [\"Angola\", 48.0], [\"Antigua and Barbuda\", 25.0], [\"Argentina\", 7479.0], [\"Armenia\", 4044.0], [\"Australia\", 7035.0], [\"Austria\", 16109.0], [\"Azerbaijan\", 2980.0], [\"Bahamas\", 96.0], [\"Bahrain\", 6583.0], [\"Bangladesh\", 20065.0], [\"Barbados\", 85.0], [\"Belarus\", 27730.0], [\"Belgium\", 54644.0], [\"Belize\", 18.0], [\"Benin\", 339.0], [\"Bhutan\", 21.0], [\"Bolivia\", 3577.0], [\"Bosnia and Herzegovina\", 2236.0], [\"Botswana\", 24.0], [\"Brazil\", 220291.0], [\"Brunei\", 141.0], [\"Bulgaria\", 2138.0], [\"Burkina Faso\", 780.0], [\"Burma\", 182.0], [\"Burundi\", 15.0], [\"Cabo Verde\", 326.0], [\"Cambodia\", 122.0], [\"Cameroon\", 3105.0], [\"Canada\", 75945.0], [\"Central African Republic\", 301.0], [\"Chad\", 428.0], [\"Chile\", 39542.0], [\"China\", 84038.0], [\"Colombia\", 14216.0], [\"Congo (Brazzaville)\", 391.0], [\"Congo (Kinshasa)\", 1298.0], [\"Costa Rica\", 843.0], [\"Cote d'Ivoire\", 2017.0], [\"Croatia\", 2222.0], [\"Cuba\", 1840.0], [\"Cyprus\", 910.0], [\"Czechia\", 8406.0], [\"Denmark\", 10989.0], [\"Diamond Princess\", 712.0], [\"Djibouti\", 1309.0], [\"Dominica\", 16.0], [\"Dominican Republic\", 11739.0], [\"Ecuador\", 31467.0], [\"Egypt\", 11228.0], [\"El Salvador\", 1210.0], [\"Equatorial Guinea\", 594.0], [\"Eritrea\", 39.0], [\"Estonia\", 1766.0], [\"Eswatini\", 190.0], [\"Ethiopia\", 287.0], [\"Fiji\", 18.0], [\"Finland\", 6228.0], [\"France\", 179630.0], [\"Gabon\", 1209.0], [\"Gambia\", 23.0], [\"Georgia\", 671.0], [\"Germany\", 175233.0], [\"Ghana\", 5638.0], [\"Greece\", 2810.0], [\"Grenada\", 22.0], [\"Guatemala\", 1643.0], [\"Guinea\", 2473.0], [\"Guinea-Bissau\", 913.0], [\"Guyana\", 116.0], [\"Haiti\", 310.0], [\"Holy See\", 12.0], [\"Honduras\", 2460.0], [\"Hungary\", 3417.0], [\"Iceland\", 1802.0], [\"India\", 85784.0], [\"Indonesia\", 16496.0], [\"Iran\", 116635.0], [\"Iraq\", 3193.0], [\"Ireland\", 23956.0], [\"Israel\", 16589.0], [\"Italy\", 223885.0], [\"Jamaica\", 511.0], [\"Japan\", 16203.0], [\"Jordan\", 596.0], [\"Kazakhstan\", 5689.0], [\"Kenya\", 781.0], [\"Korea, South\", 11037.0], [\"Kosovo\", 944.0], [\"Kuwait\", 12860.0], [\"Kyrgyzstan\", 1111.0], [\"Laos\", 19.0], [\"Latvia\", 970.0], [\"Lebanon\", 891.0], [\"Liberia\", 219.0], [\"Libya\", 64.0], [\"Liechtenstein\", 82.0], [\"Lithuania\", 1523.0], [\"Luxembourg\", 3923.0], [\"MS Zaandam\", 9.0], [\"Madagascar\", 238.0], [\"Malawi\", 63.0], [\"Malaysia\", 6855.0], [\"Maldives\", 1031.0], [\"Mali\", 806.0], [\"Malta\", 532.0], [\"Mauritania\", 29.0], [\"Mauritius\", 332.0], [\"Mexico\", 45032.0], [\"Moldova\", 5745.0], [\"Monaco\", 96.0], [\"Mongolia\", 98.0], [\"Montenegro\", 324.0], [\"Morocco\", 6652.0], [\"Mozambique\", 119.0], [\"Namibia\", 16.0], [\"Nepal\", 267.0], [\"Netherlands\", 43880.0], [\"New Zealand\", 1498.0], [\"Nicaragua\", 25.0], [\"Niger\", 885.0], [\"Nigeria\", 5450.0], [\"North Macedonia\", 1740.0], [\"Norway\", 8219.0], [\"Oman\", 4625.0], [\"Pakistan\", 38799.0], [\"Panama\", 9268.0], [\"Papua New Guinea\", 8.0], [\"Paraguay\", 759.0], [\"Peru\", 84495.0], [\"Philippines\", 12091.0], [\"Poland\", 18016.0], [\"Portugal\", 28583.0], [\"Qatar\", 29425.0], [\"Romania\", 16437.0], [\"Russia\", 262843.0], [\"Rwanda\", 287.0], [\"Saint Kitts and Nevis\", 15.0], [\"Saint Lucia\", 18.0], [\"Saint Vincent and the Grenadines\", 17.0], [\"San Marino\", 652.0], [\"Sao Tome and Principe\", 235.0], [\"Saudi Arabia\", 49176.0], [\"Senegal\", 2310.0], [\"Serbia\", 10438.0], [\"Seychelles\", 11.0], [\"Sierra Leone\", 447.0], [\"Singapore\", 26891.0], [\"Slovakia\", 1480.0], [\"Slovenia\", 1465.0], [\"Somalia\", 1284.0], [\"South Africa\", 13524.0], [\"South Sudan\", 236.0], [\"Spain\", 230183.0], [\"Sri Lanka\", 935.0], [\"Sudan\", 1964.0], [\"Suriname\", 10.0], [\"Sweden\", 29207.0], [\"Switzerland\", 30514.0], [\"Syria\", 50.0], [\"Taiwan*\", 440.0], [\"Tanzania\", 509.0], [\"Thailand\", 3025.0], [\"Timor-Leste\", 24.0], [\"Togo\", 263.0], [\"Trinidad and Tobago\", 116.0], [\"Tunisia\", 1035.0], [\"Turkey\", 146457.0], [\"US\", 1442653.0], [\"Uganda\", 203.0], [\"Ukraine\", 17330.0], [\"United Arab Emirates\", 21831.0], [\"United Kingdom\", 238004.0], [\"Uruguay\", 732.0], [\"Uzbekistan\", 2686.0], [\"Venezuela\", 459.0], [\"Vietnam\", 314.0], [\"West Bank and Gaza\", 375.0], [\"Western Sahara\", 6.0], [\"Zambia\", 654.0], [\"Zimbabwe\", 42.0], [\"(?)\", 76573.0], [\"(?)\", 758265.0], [\"(?)\", 1689.0], [\"Diamond Princess\", 712.0], [\"(?)\", 1698008.0], [\"Holy See\", 12.0], [\"Laos\", 19.0], [\"MS Zaandam\", 9.0], [\"(?)\", 1593907.0], [\"(?)\", 8559.0], [\"(?)\", 403143.0], [\"Timor-Leste\", 24.0], [\"Western Sahara\", 6.0], [\"(?)\", 4540926.0]], \"domain\": {\"x\": [0.0, 1.0], \"y\": [0.0, 1.0]}, \"hovertemplate\": \"labels=%{label}<br>ConfirmedCases=%{color}<br>parent=%{parent}<br>id=%{id}<br>Country_Region=%{customdata[0]}<extra></extra>\", \"ids\": [\"world/Asia/Afghanistan\", \"world/Europe/Albania\", \"world/Africa/Algeria\", \"world/Europe/Andorra\", \"world/Africa/Angola\", \"world/North America/Antigua and Barbuda\", \"world/South America/Argentina\", \"world/Asia/Armenia\", \"world/Oceania/Australia\", \"world/Europe/Austria\", \"world/Asia/Azerbaijan\", \"world/North America/Bahamas\", \"world/Asia/Bahrain\", \"world/Asia/Bangladesh\", \"world/North America/Barbados\", \"world/Europe/Belarus\", \"world/Europe/Belgium\", \"world/North America/Belize\", \"world/Africa/Benin\", \"world/Asia/Bhutan\", \"world/South America/Bolivia\", \"world/Europe/Bosnia and Herzegovina\", \"world/Africa/Botswana\", \"world/South America/Brazil\", \"world/Asia/Brunei\", \"world/Europe/Bulgaria\", \"world/Africa/Burkina Faso\", \"world/Asia/Burma\", \"world/Africa/Burundi\", \"world/Africa/Cabo Verde\", \"world/Asia/Cambodia\", \"world/Africa/Cameroon\", \"world/North America/Canada\", \"world/Africa/Central African Republic\", \"world/Africa/Chad\", \"world/South America/Chile\", \"world/Asia/China\", \"world/South America/Colombia\", \"world/Congo/Congo (Brazzaville)\", \"world/Congo/Congo (Kinshasa)\", \"world/North America/Costa Rica\", \"world/Africa/Cote d'Ivoire\", \"world/Europe/Croatia\", \"world/North America/Cuba\", \"world/Asia/Cyprus\", \"world/Europe/Czechia\", \"world/Europe/Denmark\", \"world/Diamond Princess/Diamond Princess\", \"world/Africa/Djibouti\", \"world/North America/Dominica\", \"world/North America/Dominican Republic\", \"world/South America/Ecuador\", \"world/Africa/Egypt\", \"world/North America/El Salvador\", \"world/Africa/Equatorial Guinea\", \"world/Africa/Eritrea\", \"world/Europe/Estonia\", \"world/Africa/Eswatini\", \"world/Africa/Ethiopia\", \"world/Oceania/Fiji\", \"world/Europe/Finland\", \"world/Europe/France\", \"world/Africa/Gabon\", \"world/Africa/Gambia\", \"world/Asia/Georgia\", \"world/Europe/Germany\", \"world/Africa/Ghana\", \"world/Europe/Greece\", \"world/North America/Grenada\", \"world/North America/Guatemala\", \"world/Africa/Guinea\", \"world/Africa/Guinea-Bissau\", \"world/South America/Guyana\", \"world/North America/Haiti\", \"world/Holy See/Holy See\", \"world/North America/Honduras\", \"world/Europe/Hungary\", \"world/Europe/Iceland\", \"world/Asia/India\", \"world/Asia/Indonesia\", \"world/Asia/Iran\", \"world/Asia/Iraq\", \"world/Europe/Ireland\", \"world/Asia/Israel\", \"world/Europe/Italy\", \"world/North America/Jamaica\", \"world/Asia/Japan\", \"world/Asia/Jordan\", \"world/Asia/Kazakhstan\", \"world/Africa/Kenya\", \"world/Asia/Korea, South\", \"world/Europe/Kosovo\", \"world/Asia/Kuwait\", \"world/Asia/Kyrgyzstan\", \"world/Laos/Laos\", \"world/Europe/Latvia\", \"world/Asia/Lebanon\", \"world/Africa/Liberia\", \"world/Africa/Libya\", \"world/Europe/Liechtenstein\", \"world/Europe/Lithuania\", \"world/Europe/Luxembourg\", \"world/MS Zaandam/MS Zaandam\", \"world/Africa/Madagascar\", \"world/Africa/Malawi\", \"world/Asia/Malaysia\", \"world/Asia/Maldives\", \"world/Africa/Mali\", \"world/Europe/Malta\", \"world/Africa/Mauritania\", \"world/Africa/Mauritius\", \"world/North America/Mexico\", \"world/Europe/Moldova\", \"world/Europe/Monaco\", \"world/Asia/Mongolia\", \"world/Europe/Montenegro\", \"world/Africa/Morocco\", \"world/Africa/Mozambique\", \"world/Africa/Namibia\", \"world/Asia/Nepal\", \"world/Europe/Netherlands\", \"world/Oceania/New Zealand\", \"world/North America/Nicaragua\", \"world/Africa/Niger\", \"world/Africa/Nigeria\", \"world/Europe/North Macedonia\", \"world/Europe/Norway\", \"world/Asia/Oman\", \"world/Asia/Pakistan\", \"world/North America/Panama\", \"world/Oceania/Papua New Guinea\", \"world/South America/Paraguay\", \"world/South America/Peru\", \"world/Asia/Philippines\", \"world/Europe/Poland\", \"world/Europe/Portugal\", \"world/Asia/Qatar\", \"world/Europe/Romania\", \"world/Europe/Russia\", \"world/Africa/Rwanda\", \"world/North America/Saint Kitts and Nevis\", \"world/North America/Saint Lucia\", \"world/North America/Saint Vincent and the Grenadines\", \"world/Europe/San Marino\", \"world/Africa/Sao Tome and Principe\", \"world/Asia/Saudi Arabia\", \"world/Africa/Senegal\", \"world/Europe/Serbia\", \"world/Africa/Seychelles\", \"world/Africa/Sierra Leone\", \"world/Asia/Singapore\", \"world/Europe/Slovakia\", \"world/Europe/Slovenia\", \"world/Africa/Somalia\", \"world/Africa/South Africa\", \"world/Africa/South Sudan\", \"world/Europe/Spain\", \"world/Asia/Sri Lanka\", \"world/Africa/Sudan\", \"world/South America/Suriname\", \"world/Europe/Sweden\", \"world/Europe/Switzerland\", \"world/Asia/Syria\", \"world/Asia/Taiwan*\", \"world/Africa/Tanzania\", \"world/Asia/Thailand\", \"world/Timor-Leste/Timor-Leste\", \"world/Africa/Togo\", \"world/North America/Trinidad and Tobago\", \"world/Africa/Tunisia\", \"world/Asia/Turkey\", \"world/North America/US\", \"world/Africa/Uganda\", \"world/Europe/Ukraine\", \"world/Asia/United Arab Emirates\", \"world/Europe/United Kingdom\", \"world/South America/Uruguay\", \"world/Asia/Uzbekistan\", \"world/South America/Venezuela\", \"world/Asia/Vietnam\", \"world/Asia/West Bank and Gaza\", \"world/Western Sahara/Western Sahara\", \"world/Africa/Zambia\", \"world/Africa/Zimbabwe\", \"world/Africa\", \"world/Asia\", \"world/Congo\", \"world/Diamond Princess\", \"world/Europe\", \"world/Holy See\", \"world/Laos\", \"world/MS Zaandam\", \"world/North America\", \"world/Oceania\", \"world/South America\", \"world/Timor-Leste\", \"world/Western Sahara\", \"world\"], \"labels\": [\"Afghanistan\", \"Albania\", \"Algeria\", \"Andorra\", \"Angola\", \"Antigua and Barbuda\", \"Argentina\", \"Armenia\", \"Australia\", \"Austria\", \"Azerbaijan\", \"Bahamas\", \"Bahrain\", \"Bangladesh\", \"Barbados\", \"Belarus\", \"Belgium\", \"Belize\", \"Benin\", \"Bhutan\", \"Bolivia\", \"Bosnia and Herzegovina\", \"Botswana\", \"Brazil\", \"Brunei\", \"Bulgaria\", \"Burkina Faso\", \"Burma\", \"Burundi\", \"Cabo Verde\", \"Cambodia\", \"Cameroon\", \"Canada\", \"Central African Republic\", \"Chad\", \"Chile\", \"China\", \"Colombia\", \"Congo (Brazzaville)\", \"Congo (Kinshasa)\", \"Costa Rica\", \"Cote d'Ivoire\", \"Croatia\", \"Cuba\", \"Cyprus\", \"Czechia\", \"Denmark\", \"Diamond Princess\", \"Djibouti\", \"Dominica\", \"Dominican Republic\", \"Ecuador\", \"Egypt\", \"El Salvador\", \"Equatorial Guinea\", \"Eritrea\", \"Estonia\", \"Eswatini\", \"Ethiopia\", \"Fiji\", \"Finland\", \"France\", \"Gabon\", \"Gambia\", \"Georgia\", \"Germany\", \"Ghana\", \"Greece\", \"Grenada\", \"Guatemala\", \"Guinea\", \"Guinea-Bissau\", \"Guyana\", \"Haiti\", \"Holy See\", \"Honduras\", \"Hungary\", \"Iceland\", \"India\", \"Indonesia\", \"Iran\", \"Iraq\", \"Ireland\", \"Israel\", \"Italy\", \"Jamaica\", \"Japan\", \"Jordan\", \"Kazakhstan\", \"Kenya\", \"Korea, South\", \"Kosovo\", \"Kuwait\", \"Kyrgyzstan\", \"Laos\", \"Latvia\", \"Lebanon\", \"Liberia\", \"Libya\", \"Liechtenstein\", \"Lithuania\", \"Luxembourg\", \"MS Zaandam\", \"Madagascar\", \"Malawi\", \"Malaysia\", \"Maldives\", \"Mali\", \"Malta\", \"Mauritania\", \"Mauritius\", \"Mexico\", \"Moldova\", \"Monaco\", \"Mongolia\", \"Montenegro\", \"Morocco\", \"Mozambique\", \"Namibia\", \"Nepal\", \"Netherlands\", \"New Zealand\", \"Nicaragua\", \"Niger\", \"Nigeria\", \"North Macedonia\", \"Norway\", \"Oman\", \"Pakistan\", \"Panama\", \"Papua New Guinea\", \"Paraguay\", \"Peru\", \"Philippines\", \"Poland\", \"Portugal\", \"Qatar\", \"Romania\", \"Russia\", \"Rwanda\", \"Saint Kitts and Nevis\", \"Saint Lucia\", \"Saint Vincent and the Grenadines\", \"San Marino\", \"Sao Tome and Principe\", \"Saudi Arabia\", \"Senegal\", \"Serbia\", \"Seychelles\", \"Sierra Leone\", \"Singapore\", \"Slovakia\", \"Slovenia\", \"Somalia\", \"South Africa\", \"South Sudan\", \"Spain\", \"Sri Lanka\", \"Sudan\", \"Suriname\", \"Sweden\", \"Switzerland\", \"Syria\", \"Taiwan*\", \"Tanzania\", \"Thailand\", \"Timor-Leste\", \"Togo\", \"Trinidad and Tobago\", \"Tunisia\", \"Turkey\", \"US\", \"Uganda\", \"Ukraine\", \"United Arab Emirates\", \"United Kingdom\", \"Uruguay\", \"Uzbekistan\", \"Venezuela\", \"Vietnam\", \"West Bank and Gaza\", \"Western Sahara\", \"Zambia\", \"Zimbabwe\", \"Africa\", \"Asia\", \"Congo\", \"Diamond Princess\", \"Europe\", \"Holy See\", \"Laos\", \"MS Zaandam\", \"North America\", \"Oceania\", \"South America\", \"Timor-Leste\", \"Western Sahara\", \"world\"], \"marker\": {\"coloraxis\": \"coloraxis\", \"colors\": [6053.0, 916.0, 6629.0, 761.0, 48.0, 25.0, 7479.0, 4044.0, 7035.0, 16109.0, 2980.0, 96.0, 6583.0, 20065.0, 85.0, 27730.0, 54644.0, 18.0, 339.0, 21.0, 3577.0, 2236.0, 24.0, 220291.0, 141.0, 2138.0, 780.0, 182.0, 15.0, 326.0, 122.0, 3105.0, 75945.0, 301.0, 428.0, 39542.0, 84038.0, 14216.0, 391.0, 1298.0, 843.0, 2017.0, 2222.0, 1840.0, 910.0, 8406.0, 10989.0, 712.0, 1309.0, 16.0, 11739.0, 31467.0, 11228.0, 1210.0, 594.0, 39.0, 1766.0, 190.0, 287.0, 18.0, 6228.0, 179630.0, 1209.0, 23.0, 671.0, 175233.0, 5638.0, 2810.0, 22.0, 1643.0, 2473.0, 913.0, 116.0, 310.0, 12.0, 2460.0, 3417.0, 1802.0, 85784.0, 16496.0, 116635.0, 3193.0, 23956.0, 16589.0, 223885.0, 511.0, 16203.0, 596.0, 5689.0, 781.0, 11037.0, 944.0, 12860.0, 1111.0, 19.0, 970.0, 891.0, 219.0, 64.0, 82.0, 1523.0, 3923.0, 9.0, 238.0, 63.0, 6855.0, 1031.0, 806.0, 532.0, 29.0, 332.0, 45032.0, 5745.0, 96.0, 98.0, 324.0, 6652.0, 119.0, 16.0, 267.0, 43880.0, 1498.0, 25.0, 885.0, 5450.0, 1740.0, 8219.0, 4625.0, 38799.0, 9268.0, 8.0, 759.0, 84495.0, 12091.0, 18016.0, 28583.0, 29425.0, 16437.0, 262843.0, 287.0, 15.0, 18.0, 17.0, 652.0, 235.0, 49176.0, 2310.0, 10438.0, 11.0, 447.0, 26891.0, 1480.0, 1465.0, 1284.0, 13524.0, 236.0, 230183.0, 935.0, 1964.0, 10.0, 29207.0, 30514.0, 50.0, 440.0, 509.0, 3025.0, 24.0, 263.0, 116.0, 1035.0, 146457.0, 1442653.0, 203.0, 17330.0, 21831.0, 238004.0, 732.0, 2686.0, 459.0, 314.0, 375.0, 6.0, 654.0, 42.0, 76573.0, 758265.0, 1689.0, 712.0, 1698008.0, 12.0, 19.0, 9.0, 1593907.0, 8559.0, 403143.0, 24.0, 6.0, 4540926.0]}, \"name\": \"\", \"parents\": [\"world/Asia\", \"world/Europe\", \"world/Africa\", \"world/Europe\", \"world/Africa\", \"world/North America\", \"world/South America\", \"world/Asia\", \"world/Oceania\", \"world/Europe\", \"world/Asia\", \"world/North America\", \"world/Asia\", \"world/Asia\", \"world/North America\", \"world/Europe\", \"world/Europe\", \"world/North America\", \"world/Africa\", \"world/Asia\", \"world/South America\", \"world/Europe\", \"world/Africa\", \"world/South America\", \"world/Asia\", \"world/Europe\", \"world/Africa\", \"world/Asia\", \"world/Africa\", \"world/Africa\", \"world/Asia\", \"world/Africa\", \"world/North America\", \"world/Africa\", \"world/Africa\", \"world/South America\", \"world/Asia\", \"world/South America\", \"world/Congo\", \"world/Congo\", \"world/North America\", \"world/Africa\", \"world/Europe\", \"world/North America\", \"world/Asia\", \"world/Europe\", \"world/Europe\", \"world/Diamond Princess\", \"world/Africa\", \"world/North America\", \"world/North America\", \"world/South America\", \"world/Africa\", \"world/North America\", \"world/Africa\", \"world/Africa\", \"world/Europe\", \"world/Africa\", \"world/Africa\", \"world/Oceania\", \"world/Europe\", \"world/Europe\", \"world/Africa\", \"world/Africa\", \"world/Asia\", \"world/Europe\", \"world/Africa\", \"world/Europe\", \"world/North America\", \"world/North America\", \"world/Africa\", \"world/Africa\", \"world/South America\", \"world/North America\", \"world/Holy See\", \"world/North America\", \"world/Europe\", \"world/Europe\", \"world/Asia\", \"world/Asia\", \"world/Asia\", \"world/Asia\", \"world/Europe\", \"world/Asia\", \"world/Europe\", \"world/North America\", \"world/Asia\", \"world/Asia\", \"world/Asia\", \"world/Africa\", \"world/Asia\", \"world/Europe\", \"world/Asia\", \"world/Asia\", \"world/Laos\", \"world/Europe\", \"world/Asia\", \"world/Africa\", \"world/Africa\", \"world/Europe\", \"world/Europe\", \"world/Europe\", \"world/MS Zaandam\", \"world/Africa\", \"world/Africa\", \"world/Asia\", \"world/Asia\", \"world/Africa\", \"world/Europe\", \"world/Africa\", \"world/Africa\", \"world/North America\", \"world/Europe\", \"world/Europe\", \"world/Asia\", \"world/Europe\", \"world/Africa\", \"world/Africa\", \"world/Africa\", \"world/Asia\", \"world/Europe\", \"world/Oceania\", \"world/North America\", \"world/Africa\", \"world/Africa\", \"world/Europe\", \"world/Europe\", \"world/Asia\", \"world/Asia\", \"world/North America\", \"world/Oceania\", \"world/South America\", \"world/South America\", \"world/Asia\", \"world/Europe\", \"world/Europe\", \"world/Asia\", \"world/Europe\", \"world/Europe\", \"world/Africa\", \"world/North America\", \"world/North America\", \"world/North America\", \"world/Europe\", \"world/Africa\", \"world/Asia\", \"world/Africa\", \"world/Europe\", \"world/Africa\", \"world/Africa\", \"world/Asia\", \"world/Europe\", \"world/Europe\", \"world/Africa\", \"world/Africa\", \"world/Africa\", \"world/Europe\", \"world/Asia\", \"world/Africa\", \"world/South America\", \"world/Europe\", \"world/Europe\", \"world/Asia\", \"world/Asia\", \"world/Africa\", \"world/Asia\", \"world/Timor-Leste\", \"world/Africa\", \"world/North America\", \"world/Africa\", \"world/Asia\", \"world/North America\", \"world/Africa\", \"world/Europe\", \"world/Asia\", \"world/Europe\", \"world/South America\", \"world/Asia\", \"world/South America\", \"world/Asia\", \"world/Asia\", \"world/Western Sahara\", \"world/Africa\", \"world/Africa\", \"world\", \"world\", \"world\", \"world\", \"world\", \"world\", \"world\", \"world\", \"world\", \"world\", \"world\", \"world\", \"world\", \"\"], \"type\": \"treemap\", \"values\": [6053.0, 916.0, 6629.0, 761.0, 48.0, 25.0, 7479.0, 4044.0, 7035.0, 16109.0, 2980.0, 96.0, 6583.0, 20065.0, 85.0, 27730.0, 54644.0, 18.0, 339.0, 21.0, 3577.0, 2236.0, 24.0, 220291.0, 141.0, 2138.0, 780.0, 182.0, 15.0, 326.0, 122.0, 3105.0, 75945.0, 301.0, 428.0, 39542.0, 84038.0, 14216.0, 391.0, 1298.0, 843.0, 2017.0, 2222.0, 1840.0, 910.0, 8406.0, 10989.0, 712.0, 1309.0, 16.0, 11739.0, 31467.0, 11228.0, 1210.0, 594.0, 39.0, 1766.0, 190.0, 287.0, 18.0, 6228.0, 179630.0, 1209.0, 23.0, 671.0, 175233.0, 5638.0, 2810.0, 22.0, 1643.0, 2473.0, 913.0, 116.0, 310.0, 12.0, 2460.0, 3417.0, 1802.0, 85784.0, 16496.0, 116635.0, 3193.0, 23956.0, 16589.0, 223885.0, 511.0, 16203.0, 596.0, 5689.0, 781.0, 11037.0, 944.0, 12860.0, 1111.0, 19.0, 970.0, 891.0, 219.0, 64.0, 82.0, 1523.0, 3923.0, 9.0, 238.0, 63.0, 6855.0, 1031.0, 806.0, 532.0, 29.0, 332.0, 45032.0, 5745.0, 96.0, 98.0, 324.0, 6652.0, 119.0, 16.0, 267.0, 43880.0, 1498.0, 25.0, 885.0, 5450.0, 1740.0, 8219.0, 4625.0, 38799.0, 9268.0, 8.0, 759.0, 84495.0, 12091.0, 18016.0, 28583.0, 29425.0, 16437.0, 262843.0, 287.0, 15.0, 18.0, 17.0, 652.0, 235.0, 49176.0, 2310.0, 10438.0, 11.0, 447.0, 26891.0, 1480.0, 1465.0, 1284.0, 13524.0, 236.0, 230183.0, 935.0, 1964.0, 10.0, 29207.0, 30514.0, 50.0, 440.0, 509.0, 3025.0, 24.0, 263.0, 116.0, 1035.0, 146457.0, 1442653.0, 203.0, 17330.0, 21831.0, 238004.0, 732.0, 2686.0, 459.0, 314.0, 375.0, 6.0, 654.0, 42.0, 76573.0, 758265.0, 1689.0, 712.0, 1698008.0, 12.0, 19.0, 9.0, 1593907.0, 8559.0, 403143.0, 24.0, 6.0, 4540926.0]}],\n",
       "                        {\"coloraxis\": {\"colorbar\": {\"title\": {\"text\": \"ConfirmedCases\"}}, \"colorscale\": [[0.0, \"rgb(230, 240, 240)\"], [0.09090909090909091, \"rgb(191, 221, 229)\"], [0.18181818181818182, \"rgb(156, 201, 226)\"], [0.2727272727272727, \"rgb(129, 180, 227)\"], [0.36363636363636365, \"rgb(115, 154, 228)\"], [0.45454545454545453, \"rgb(117, 127, 221)\"], [0.5454545454545454, \"rgb(120, 100, 202)\"], [0.6363636363636364, \"rgb(119, 74, 175)\"], [0.7272727272727273, \"rgb(113, 50, 141)\"], [0.8181818181818182, \"rgb(100, 31, 104)\"], [0.9090909090909091, \"rgb(80, 20, 66)\"], [1.0, \"rgb(54, 14, 36)\"]]}, \"legend\": {\"tracegroupgap\": 0}, \"template\": {\"data\": {\"bar\": [{\"error_x\": {\"color\": \"#2a3f5f\"}, \"error_y\": {\"color\": \"#2a3f5f\"}, \"marker\": {\"line\": {\"color\": \"#E5ECF6\", \"width\": 0.5}}, \"type\": \"bar\"}], \"barpolar\": [{\"marker\": {\"line\": {\"color\": \"#E5ECF6\", \"width\": 0.5}}, \"type\": \"barpolar\"}], \"carpet\": [{\"aaxis\": {\"endlinecolor\": \"#2a3f5f\", \"gridcolor\": \"white\", \"linecolor\": \"white\", \"minorgridcolor\": \"white\", \"startlinecolor\": \"#2a3f5f\"}, \"baxis\": {\"endlinecolor\": \"#2a3f5f\", \"gridcolor\": \"white\", \"linecolor\": \"white\", \"minorgridcolor\": \"white\", \"startlinecolor\": \"#2a3f5f\"}, \"type\": \"carpet\"}], \"choropleth\": [{\"colorbar\": {\"outlinewidth\": 0, \"ticks\": \"\"}, \"type\": \"choropleth\"}], \"contour\": [{\"colorbar\": {\"outlinewidth\": 0, \"ticks\": \"\"}, \"colorscale\": [[0.0, \"#0d0887\"], [0.1111111111111111, \"#46039f\"], [0.2222222222222222, \"#7201a8\"], [0.3333333333333333, \"#9c179e\"], [0.4444444444444444, \"#bd3786\"], [0.5555555555555556, \"#d8576b\"], [0.6666666666666666, \"#ed7953\"], [0.7777777777777778, \"#fb9f3a\"], [0.8888888888888888, \"#fdca26\"], [1.0, \"#f0f921\"]], \"type\": \"contour\"}], \"contourcarpet\": [{\"colorbar\": {\"outlinewidth\": 0, \"ticks\": \"\"}, \"type\": \"contourcarpet\"}], \"heatmap\": [{\"colorbar\": {\"outlinewidth\": 0, \"ticks\": \"\"}, \"colorscale\": [[0.0, \"#0d0887\"], [0.1111111111111111, \"#46039f\"], [0.2222222222222222, \"#7201a8\"], [0.3333333333333333, \"#9c179e\"], [0.4444444444444444, \"#bd3786\"], [0.5555555555555556, \"#d8576b\"], [0.6666666666666666, \"#ed7953\"], [0.7777777777777778, \"#fb9f3a\"], [0.8888888888888888, \"#fdca26\"], [1.0, \"#f0f921\"]], \"type\": \"heatmap\"}], \"heatmapgl\": [{\"colorbar\": {\"outlinewidth\": 0, \"ticks\": \"\"}, \"colorscale\": [[0.0, \"#0d0887\"], [0.1111111111111111, \"#46039f\"], [0.2222222222222222, \"#7201a8\"], [0.3333333333333333, \"#9c179e\"], [0.4444444444444444, \"#bd3786\"], [0.5555555555555556, \"#d8576b\"], [0.6666666666666666, \"#ed7953\"], [0.7777777777777778, \"#fb9f3a\"], [0.8888888888888888, \"#fdca26\"], [1.0, \"#f0f921\"]], \"type\": \"heatmapgl\"}], \"histogram\": [{\"marker\": {\"colorbar\": {\"outlinewidth\": 0, \"ticks\": \"\"}}, \"type\": \"histogram\"}], \"histogram2d\": [{\"colorbar\": {\"outlinewidth\": 0, \"ticks\": \"\"}, \"colorscale\": [[0.0, \"#0d0887\"], [0.1111111111111111, \"#46039f\"], [0.2222222222222222, \"#7201a8\"], [0.3333333333333333, \"#9c179e\"], [0.4444444444444444, \"#bd3786\"], [0.5555555555555556, \"#d8576b\"], [0.6666666666666666, \"#ed7953\"], [0.7777777777777778, \"#fb9f3a\"], [0.8888888888888888, \"#fdca26\"], [1.0, \"#f0f921\"]], \"type\": \"histogram2d\"}], \"histogram2dcontour\": [{\"colorbar\": {\"outlinewidth\": 0, \"ticks\": \"\"}, \"colorscale\": [[0.0, \"#0d0887\"], [0.1111111111111111, \"#46039f\"], [0.2222222222222222, \"#7201a8\"], [0.3333333333333333, \"#9c179e\"], [0.4444444444444444, \"#bd3786\"], [0.5555555555555556, \"#d8576b\"], [0.6666666666666666, \"#ed7953\"], [0.7777777777777778, \"#fb9f3a\"], [0.8888888888888888, \"#fdca26\"], [1.0, \"#f0f921\"]], \"type\": \"histogram2dcontour\"}], \"mesh3d\": [{\"colorbar\": {\"outlinewidth\": 0, \"ticks\": \"\"}, \"type\": \"mesh3d\"}], \"parcoords\": [{\"line\": {\"colorbar\": {\"outlinewidth\": 0, \"ticks\": \"\"}}, \"type\": \"parcoords\"}], \"pie\": [{\"automargin\": true, \"type\": \"pie\"}], \"scatter\": [{\"marker\": {\"colorbar\": {\"outlinewidth\": 0, \"ticks\": \"\"}}, \"type\": \"scatter\"}], \"scatter3d\": [{\"line\": {\"colorbar\": {\"outlinewidth\": 0, \"ticks\": \"\"}}, \"marker\": {\"colorbar\": {\"outlinewidth\": 0, \"ticks\": \"\"}}, \"type\": \"scatter3d\"}], \"scattercarpet\": [{\"marker\": {\"colorbar\": {\"outlinewidth\": 0, \"ticks\": \"\"}}, \"type\": \"scattercarpet\"}], \"scattergeo\": [{\"marker\": {\"colorbar\": {\"outlinewidth\": 0, \"ticks\": \"\"}}, \"type\": \"scattergeo\"}], \"scattergl\": [{\"marker\": {\"colorbar\": {\"outlinewidth\": 0, \"ticks\": \"\"}}, \"type\": \"scattergl\"}], \"scattermapbox\": [{\"marker\": {\"colorbar\": {\"outlinewidth\": 0, \"ticks\": \"\"}}, \"type\": \"scattermapbox\"}], \"scatterpolar\": [{\"marker\": {\"colorbar\": {\"outlinewidth\": 0, \"ticks\": \"\"}}, \"type\": \"scatterpolar\"}], \"scatterpolargl\": [{\"marker\": {\"colorbar\": {\"outlinewidth\": 0, \"ticks\": \"\"}}, \"type\": \"scatterpolargl\"}], \"scatterternary\": [{\"marker\": {\"colorbar\": {\"outlinewidth\": 0, \"ticks\": \"\"}}, \"type\": \"scatterternary\"}], \"surface\": [{\"colorbar\": {\"outlinewidth\": 0, \"ticks\": \"\"}, \"colorscale\": [[0.0, \"#0d0887\"], [0.1111111111111111, \"#46039f\"], [0.2222222222222222, \"#7201a8\"], [0.3333333333333333, \"#9c179e\"], [0.4444444444444444, \"#bd3786\"], [0.5555555555555556, \"#d8576b\"], [0.6666666666666666, \"#ed7953\"], [0.7777777777777778, \"#fb9f3a\"], [0.8888888888888888, \"#fdca26\"], [1.0, \"#f0f921\"]], \"type\": \"surface\"}], \"table\": [{\"cells\": {\"fill\": {\"color\": \"#EBF0F8\"}, \"line\": {\"color\": \"white\"}}, \"header\": {\"fill\": {\"color\": \"#C8D4E3\"}, \"line\": {\"color\": \"white\"}}, \"type\": \"table\"}]}, \"layout\": {\"annotationdefaults\": {\"arrowcolor\": \"#2a3f5f\", \"arrowhead\": 0, \"arrowwidth\": 1}, \"coloraxis\": {\"colorbar\": {\"outlinewidth\": 0, \"ticks\": \"\"}}, \"colorscale\": {\"diverging\": [[0, \"#8e0152\"], [0.1, \"#c51b7d\"], [0.2, \"#de77ae\"], [0.3, \"#f1b6da\"], [0.4, \"#fde0ef\"], [0.5, \"#f7f7f7\"], [0.6, \"#e6f5d0\"], [0.7, \"#b8e186\"], [0.8, \"#7fbc41\"], [0.9, \"#4d9221\"], [1, \"#276419\"]], \"sequential\": [[0.0, \"#0d0887\"], [0.1111111111111111, \"#46039f\"], [0.2222222222222222, \"#7201a8\"], [0.3333333333333333, \"#9c179e\"], [0.4444444444444444, \"#bd3786\"], [0.5555555555555556, \"#d8576b\"], [0.6666666666666666, \"#ed7953\"], [0.7777777777777778, \"#fb9f3a\"], [0.8888888888888888, \"#fdca26\"], [1.0, \"#f0f921\"]], \"sequentialminus\": [[0.0, \"#0d0887\"], [0.1111111111111111, \"#46039f\"], [0.2222222222222222, \"#7201a8\"], [0.3333333333333333, \"#9c179e\"], [0.4444444444444444, \"#bd3786\"], [0.5555555555555556, \"#d8576b\"], [0.6666666666666666, \"#ed7953\"], [0.7777777777777778, \"#fb9f3a\"], [0.8888888888888888, \"#fdca26\"], [1.0, \"#f0f921\"]]}, \"colorway\": [\"#636efa\", \"#EF553B\", \"#00cc96\", \"#ab63fa\", \"#FFA15A\", \"#19d3f3\", \"#FF6692\", \"#B6E880\", \"#FF97FF\", \"#FECB52\"], \"font\": {\"color\": \"#2a3f5f\"}, \"geo\": {\"bgcolor\": \"white\", \"lakecolor\": \"white\", \"landcolor\": \"#E5ECF6\", \"showlakes\": true, \"showland\": true, \"subunitcolor\": \"white\"}, \"hoverlabel\": {\"align\": \"left\"}, \"hovermode\": \"closest\", \"mapbox\": {\"style\": \"light\"}, \"paper_bgcolor\": \"white\", \"plot_bgcolor\": \"#E5ECF6\", \"polar\": {\"angularaxis\": {\"gridcolor\": \"white\", \"linecolor\": \"white\", \"ticks\": \"\"}, \"bgcolor\": \"#E5ECF6\", \"radialaxis\": {\"gridcolor\": \"white\", \"linecolor\": \"white\", \"ticks\": \"\"}}, \"scene\": {\"xaxis\": {\"backgroundcolor\": \"#E5ECF6\", \"gridcolor\": \"white\", \"gridwidth\": 2, \"linecolor\": \"white\", \"showbackground\": true, \"ticks\": \"\", \"zerolinecolor\": \"white\"}, \"yaxis\": {\"backgroundcolor\": \"#E5ECF6\", \"gridcolor\": \"white\", \"gridwidth\": 2, \"linecolor\": \"white\", \"showbackground\": true, \"ticks\": \"\", \"zerolinecolor\": \"white\"}, \"zaxis\": {\"backgroundcolor\": \"#E5ECF6\", \"gridcolor\": \"white\", \"gridwidth\": 2, \"linecolor\": \"white\", \"showbackground\": true, \"ticks\": \"\", \"zerolinecolor\": \"white\"}}, \"shapedefaults\": {\"line\": {\"color\": \"#2a3f5f\"}}, \"ternary\": {\"aaxis\": {\"gridcolor\": \"white\", \"linecolor\": \"white\", \"ticks\": \"\"}, \"baxis\": {\"gridcolor\": \"white\", \"linecolor\": \"white\", \"ticks\": \"\"}, \"bgcolor\": \"#E5ECF6\", \"caxis\": {\"gridcolor\": \"white\", \"linecolor\": \"white\", \"ticks\": \"\"}}, \"title\": {\"x\": 0.05}, \"xaxis\": {\"automargin\": true, \"gridcolor\": \"white\", \"linecolor\": \"white\", \"ticks\": \"\", \"title\": {\"standoff\": 15}, \"zerolinecolor\": \"white\", \"zerolinewidth\": 2}, \"yaxis\": {\"automargin\": true, \"gridcolor\": \"white\", \"linecolor\": \"white\", \"ticks\": \"\", \"title\": {\"standoff\": 15}, \"zerolinecolor\": \"white\", \"zerolinewidth\": 2}}}, \"title\": {\"text\": \"Current Share of WorldWide COVID19 Confirmed Cases\"}},\n",
       "                        {\"responsive\": true}\n",
       "                    ).then(function(){\n",
       "                            \n",
       "var gd = document.getElementById('a4e86772-f7d9-451e-b7d5-bef018d1ed72');\n",
       "var x = new MutationObserver(function (mutations, observer) {{\n",
       "        var display = window.getComputedStyle(gd).display;\n",
       "        if (!display || display === 'none') {{\n",
       "            console.log([gd, 'removed!']);\n",
       "            Plotly.purge(gd);\n",
       "            observer.disconnect();\n",
       "        }}\n",
       "}});\n",
       "\n",
       "// Listen for the removal of the full notebook cells\n",
       "var notebookContainer = gd.closest('#notebook-container');\n",
       "if (notebookContainer) {{\n",
       "    x.observe(notebookContainer, {childList: true});\n",
       "}}\n",
       "\n",
       "// Listen for the clearing of the current output cell\n",
       "var outputEl = gd.closest('.output');\n",
       "if (outputEl) {{\n",
       "    x.observe(outputEl, {childList: true});\n",
       "}}\n",
       "\n",
       "                        })\n",
       "                };\n",
       "                });\n",
       "            </script>\n",
       "        </div>"
      ]
     },
     "metadata": {},
     "output_type": "display_data"
    }
   ],
   "source": [
    "df_train.ConfirmedCases = np.abs(df_train.ConfirmedCases)\n",
    "df_tm = df_train.copy()\n",
    "date = df_tm.Date.max() # get current date\n",
    "df_tm = df_tm[df_tm['Date'] == date]\n",
    "obj = country_utils()\n",
    "\n",
    "df_tm.Province_State.fillna('', inplace = True)\n",
    "# temporary workaround\n",
    "# df_tm.loc[df_tm['Country_Region'] == 'Burma', 'Country_Region'] = 'Myanmar'\n",
    "# df_tm.loc[df_tm['Country_Region'] == 'Congo (Brazzaville)', 'Country_Region'] = 'Congo'\n",
    "# idx = df_tm.loc[(df_tm['Country_Region'] == 'Congo (Kinshasa)'), :].index\n",
    "# df_tm.drop(index = idx, inplace =True)\n",
    "\n",
    "df_tm['continent'] = df_tm.apply(lambda x: obj.fetch_continent(x['Country_Region']), axis = 1)\n",
    "df_tm['world'] = 'world' # in order to have a single root node\n",
    "fig = px.treemap(df_tm, path = ['world', 'continent', 'Country_Region'],\\\n",
    "                values = 'ConfirmedCases', color = 'ConfirmedCases',\\\n",
    "                hover_data = ['Country_Region'], \\\n",
    "                color_continuous_scale = 'dense',\n",
    "                title = 'Current Share of WorldWide COVID19 Confirmed Cases')\n",
    "\n",
    "fig.show()"
   ]
  },
  {
   "cell_type": "markdown",
   "metadata": {},
   "source": [
    "## Current Share of Worldwide COVID-19 Fatalities"
   ]
  },
  {
   "cell_type": "code",
   "execution_count": 132,
   "metadata": {},
   "outputs": [
    {
     "data": {
      "application/vnd.plotly.v1+json": {
       "config": {
        "plotlyServerURL": "https://plot.ly"
       },
       "data": [
        {
         "branchvalues": "total",
         "customdata": [
          [
           "Afghanistan",
           153
          ],
          [
           "Albania",
           31
          ],
          [
           "Algeria",
           536
          ],
          [
           "Andorra",
           49
          ],
          [
           "Angola",
           2
          ],
          [
           "Antigua and Barbuda",
           3
          ],
          [
           "Argentina",
           356
          ],
          [
           "Armenia",
           52
          ],
          [
           "Australia",
           98
          ],
          [
           "Austria",
           628
          ],
          [
           "Azerbaijan",
           36
          ],
          [
           "Bahamas",
           11
          ],
          [
           "Bahrain",
           12
          ],
          [
           "Bangladesh",
           298
          ],
          [
           "Barbados",
           7
          ],
          [
           "Belarus",
           156
          ],
          [
           "Belgium",
           8959
          ],
          [
           "Belize",
           2
          ],
          [
           "Benin",
           2
          ],
          [
           "Bhutan",
           0
          ],
          [
           "Bolivia",
           164
          ],
          [
           "Bosnia and Herzegovina",
           128
          ],
          [
           "Botswana",
           1
          ],
          [
           "Brazil",
           14962
          ],
          [
           "Brunei",
           1
          ],
          [
           "Bulgaria",
           102
          ],
          [
           "Burkina Faso",
           51
          ],
          [
           "Burma",
           6
          ],
          [
           "Burundi",
           1
          ],
          [
           "Cabo Verde",
           2
          ],
          [
           "Cambodia",
           0
          ],
          [
           "Cameroon",
           140
          ],
          [
           "Canada",
           5678
          ],
          [
           "Central African Republic",
           0
          ],
          [
           "Chad",
           48
          ],
          [
           "Chile",
           394
          ],
          [
           "China",
           4637
          ],
          [
           "Colombia",
           546
          ],
          [
           "Congo (Brazzaville)",
           15
          ],
          [
           "Congo (Kinshasa)",
           50
          ],
          [
           "Costa Rica",
           9
          ],
          [
           "Cote d'Ivoire",
           24
          ],
          [
           "Croatia",
           95
          ],
          [
           "Cuba",
           79
          ],
          [
           "Cyprus",
           17
          ],
          [
           "Czechia",
           295
          ],
          [
           "Denmark",
           537
          ],
          [
           "Diamond Princess",
           13
          ],
          [
           "Djibouti",
           4
          ],
          [
           "Dominica",
           0
          ],
          [
           "Dominican Republic",
           424
          ],
          [
           "Ecuador",
           2594
          ],
          [
           "Egypt",
           592
          ],
          [
           "El Salvador",
           25
          ],
          [
           "Equatorial Guinea",
           7
          ],
          [
           "Eritrea",
           0
          ],
          [
           "Estonia",
           63
          ],
          [
           "Eswatini",
           2
          ],
          [
           "Ethiopia",
           5
          ],
          [
           "Fiji",
           0
          ],
          [
           "Finland",
           293
          ],
          [
           "France",
           27532
          ],
          [
           "Gabon",
           10
          ],
          [
           "Gambia",
           1
          ],
          [
           "Georgia",
           12
          ],
          [
           "Germany",
           7897
          ],
          [
           "Ghana",
           28
          ],
          [
           "Greece",
           160
          ],
          [
           "Grenada",
           0
          ],
          [
           "Guatemala",
           30
          ],
          [
           "Guinea",
           15
          ],
          [
           "Guinea-Bissau",
           3
          ],
          [
           "Guyana",
           10
          ],
          [
           "Haiti",
           20
          ],
          [
           "Holy See",
           0
          ],
          [
           "Honduras",
           134
          ],
          [
           "Hungary",
           442
          ],
          [
           "Iceland",
           10
          ],
          [
           "India",
           2753
          ],
          [
           "Indonesia",
           1076
          ],
          [
           "Iran",
           6902
          ],
          [
           "Iraq",
           117
          ],
          [
           "Ireland",
           1518
          ],
          [
           "Israel",
           266
          ],
          [
           "Italy",
           31610
          ],
          [
           "Jamaica",
           9
          ],
          [
           "Japan",
           713
          ],
          [
           "Jordan",
           9
          ],
          [
           "Kazakhstan",
           34
          ],
          [
           "Kenya",
           45
          ],
          [
           "Korea, South",
           262
          ],
          [
           "Kosovo",
           29
          ],
          [
           "Kuwait",
           96
          ],
          [
           "Kyrgyzstan",
           14
          ],
          [
           "Laos",
           0
          ],
          [
           "Latvia",
           19
          ],
          [
           "Lebanon",
           26
          ],
          [
           "Liberia",
           20
          ],
          [
           "Libya",
           3
          ],
          [
           "Liechtenstein",
           1
          ],
          [
           "Lithuania",
           54
          ],
          [
           "Luxembourg",
           104
          ],
          [
           "MS Zaandam",
           2
          ],
          [
           "Madagascar",
           0
          ],
          [
           "Malawi",
           3
          ],
          [
           "Malaysia",
           112
          ],
          [
           "Maldives",
           4
          ],
          [
           "Mali",
           46
          ],
          [
           "Malta",
           6
          ],
          [
           "Mauritania",
           3
          ],
          [
           "Mauritius",
           10
          ],
          [
           "Mexico",
           4767
          ],
          [
           "Moldova",
           202
          ],
          [
           "Monaco",
           4
          ],
          [
           "Mongolia",
           0
          ],
          [
           "Montenegro",
           9
          ],
          [
           "Morocco",
           190
          ],
          [
           "Mozambique",
           0
          ],
          [
           "Namibia",
           0
          ],
          [
           "Nepal",
           0
          ],
          [
           "Netherlands",
           5662
          ],
          [
           "New Zealand",
           21
          ],
          [
           "Nicaragua",
           8
          ],
          [
           "Niger",
           51
          ],
          [
           "Nigeria",
           171
          ],
          [
           "North Macedonia",
           97
          ],
          [
           "Norway",
           232
          ],
          [
           "Oman",
           20
          ],
          [
           "Pakistan",
           834
          ],
          [
           "Panama",
           266
          ],
          [
           "Papua New Guinea",
           0
          ],
          [
           "Paraguay",
           11
          ],
          [
           "Peru",
           2392
          ],
          [
           "Philippines",
           806
          ],
          [
           "Poland",
           907
          ],
          [
           "Portugal",
           1190
          ],
          [
           "Qatar",
           14
          ],
          [
           "Romania",
           1070
          ],
          [
           "Russia",
           2418
          ],
          [
           "Rwanda",
           0
          ],
          [
           "Saint Kitts and Nevis",
           0
          ],
          [
           "Saint Lucia",
           0
          ],
          [
           "Saint Vincent and the Grenadines",
           0
          ],
          [
           "San Marino",
           41
          ],
          [
           "Sao Tome and Principe",
           7
          ],
          [
           "Saudi Arabia",
           292
          ],
          [
           "Senegal",
           25
          ],
          [
           "Serbia",
           225
          ],
          [
           "Seychelles",
           0
          ],
          [
           "Sierra Leone",
           27
          ],
          [
           "Singapore",
           21
          ],
          [
           "Slovakia",
           27
          ],
          [
           "Slovenia",
           103
          ],
          [
           "Somalia",
           53
          ],
          [
           "South Africa",
           247
          ],
          [
           "South Sudan",
           4
          ],
          [
           "Spain",
           27459
          ],
          [
           "Sri Lanka",
           9
          ],
          [
           "Sudan",
           91
          ],
          [
           "Suriname",
           1
          ],
          [
           "Sweden",
           3646
          ],
          [
           "Switzerland",
           1878
          ],
          [
           "Syria",
           3
          ],
          [
           "Taiwan*",
           7
          ],
          [
           "Tanzania",
           21
          ],
          [
           "Thailand",
           56
          ],
          [
           "Timor-Leste",
           0
          ],
          [
           "Togo",
           11
          ],
          [
           "Trinidad and Tobago",
           8
          ],
          [
           "Tunisia",
           45
          ],
          [
           "Turkey",
           4055
          ],
          [
           "US",
           87525
          ],
          [
           "Uganda",
           0
          ],
          [
           "Ukraine",
           476
          ],
          [
           "United Arab Emirates",
           210
          ],
          [
           "United Kingdom",
           34078
          ],
          [
           "Uruguay",
           19
          ],
          [
           "Uzbekistan",
           11
          ],
          [
           "Venezuela",
           10
          ],
          [
           "Vietnam",
           0
          ],
          [
           "West Bank and Gaza",
           2
          ],
          [
           "Western Sahara",
           0
          ],
          [
           "Zambia",
           7
          ],
          [
           "Zimbabwe",
           4
          ],
          [
           "(?)",
           2558
          ],
          [
           "(?)",
           23948
          ],
          [
           "(?)",
           65
          ],
          [
           "Diamond Princess",
           13
          ],
          [
           "(?)",
           160442
          ],
          [
           "Holy See",
           0
          ],
          [
           "Laos",
           0
          ],
          [
           "MS Zaandam",
           2
          ],
          [
           "(?)",
           99005
          ],
          [
           "(?)",
           119
          ],
          [
           "(?)",
           21459
          ],
          [
           "Timor-Leste",
           0
          ],
          [
           "Western Sahara",
           0
          ],
          [
           "(?)",
           307611
          ]
         ],
         "domain": {
          "x": [
           0,
           1
          ],
          "y": [
           0,
           1
          ]
         },
         "hovertemplate": "labels=%{label}<br>Fatalities=%{color}<br>parent=%{parent}<br>id=%{id}<br>Country_Region=%{customdata[0]}<extra></extra>",
         "ids": [
          "world/Asia/Afghanistan",
          "world/Europe/Albania",
          "world/Africa/Algeria",
          "world/Europe/Andorra",
          "world/Africa/Angola",
          "world/North America/Antigua and Barbuda",
          "world/South America/Argentina",
          "world/Asia/Armenia",
          "world/Oceania/Australia",
          "world/Europe/Austria",
          "world/Asia/Azerbaijan",
          "world/North America/Bahamas",
          "world/Asia/Bahrain",
          "world/Asia/Bangladesh",
          "world/North America/Barbados",
          "world/Europe/Belarus",
          "world/Europe/Belgium",
          "world/North America/Belize",
          "world/Africa/Benin",
          "world/Asia/Bhutan",
          "world/South America/Bolivia",
          "world/Europe/Bosnia and Herzegovina",
          "world/Africa/Botswana",
          "world/South America/Brazil",
          "world/Asia/Brunei",
          "world/Europe/Bulgaria",
          "world/Africa/Burkina Faso",
          "world/Asia/Burma",
          "world/Africa/Burundi",
          "world/Africa/Cabo Verde",
          "world/Asia/Cambodia",
          "world/Africa/Cameroon",
          "world/North America/Canada",
          "world/Africa/Central African Republic",
          "world/Africa/Chad",
          "world/South America/Chile",
          "world/Asia/China",
          "world/South America/Colombia",
          "world/Congo/Congo (Brazzaville)",
          "world/Congo/Congo (Kinshasa)",
          "world/North America/Costa Rica",
          "world/Africa/Cote d'Ivoire",
          "world/Europe/Croatia",
          "world/North America/Cuba",
          "world/Asia/Cyprus",
          "world/Europe/Czechia",
          "world/Europe/Denmark",
          "world/Diamond Princess/Diamond Princess",
          "world/Africa/Djibouti",
          "world/North America/Dominica",
          "world/North America/Dominican Republic",
          "world/South America/Ecuador",
          "world/Africa/Egypt",
          "world/North America/El Salvador",
          "world/Africa/Equatorial Guinea",
          "world/Africa/Eritrea",
          "world/Europe/Estonia",
          "world/Africa/Eswatini",
          "world/Africa/Ethiopia",
          "world/Oceania/Fiji",
          "world/Europe/Finland",
          "world/Europe/France",
          "world/Africa/Gabon",
          "world/Africa/Gambia",
          "world/Asia/Georgia",
          "world/Europe/Germany",
          "world/Africa/Ghana",
          "world/Europe/Greece",
          "world/North America/Grenada",
          "world/North America/Guatemala",
          "world/Africa/Guinea",
          "world/Africa/Guinea-Bissau",
          "world/South America/Guyana",
          "world/North America/Haiti",
          "world/Holy See/Holy See",
          "world/North America/Honduras",
          "world/Europe/Hungary",
          "world/Europe/Iceland",
          "world/Asia/India",
          "world/Asia/Indonesia",
          "world/Asia/Iran",
          "world/Asia/Iraq",
          "world/Europe/Ireland",
          "world/Asia/Israel",
          "world/Europe/Italy",
          "world/North America/Jamaica",
          "world/Asia/Japan",
          "world/Asia/Jordan",
          "world/Asia/Kazakhstan",
          "world/Africa/Kenya",
          "world/Asia/Korea, South",
          "world/Europe/Kosovo",
          "world/Asia/Kuwait",
          "world/Asia/Kyrgyzstan",
          "world/Laos/Laos",
          "world/Europe/Latvia",
          "world/Asia/Lebanon",
          "world/Africa/Liberia",
          "world/Africa/Libya",
          "world/Europe/Liechtenstein",
          "world/Europe/Lithuania",
          "world/Europe/Luxembourg",
          "world/MS Zaandam/MS Zaandam",
          "world/Africa/Madagascar",
          "world/Africa/Malawi",
          "world/Asia/Malaysia",
          "world/Asia/Maldives",
          "world/Africa/Mali",
          "world/Europe/Malta",
          "world/Africa/Mauritania",
          "world/Africa/Mauritius",
          "world/North America/Mexico",
          "world/Europe/Moldova",
          "world/Europe/Monaco",
          "world/Asia/Mongolia",
          "world/Europe/Montenegro",
          "world/Africa/Morocco",
          "world/Africa/Mozambique",
          "world/Africa/Namibia",
          "world/Asia/Nepal",
          "world/Europe/Netherlands",
          "world/Oceania/New Zealand",
          "world/North America/Nicaragua",
          "world/Africa/Niger",
          "world/Africa/Nigeria",
          "world/Europe/North Macedonia",
          "world/Europe/Norway",
          "world/Asia/Oman",
          "world/Asia/Pakistan",
          "world/North America/Panama",
          "world/Oceania/Papua New Guinea",
          "world/South America/Paraguay",
          "world/South America/Peru",
          "world/Asia/Philippines",
          "world/Europe/Poland",
          "world/Europe/Portugal",
          "world/Asia/Qatar",
          "world/Europe/Romania",
          "world/Europe/Russia",
          "world/Africa/Rwanda",
          "world/North America/Saint Kitts and Nevis",
          "world/North America/Saint Lucia",
          "world/North America/Saint Vincent and the Grenadines",
          "world/Europe/San Marino",
          "world/Africa/Sao Tome and Principe",
          "world/Asia/Saudi Arabia",
          "world/Africa/Senegal",
          "world/Europe/Serbia",
          "world/Africa/Seychelles",
          "world/Africa/Sierra Leone",
          "world/Asia/Singapore",
          "world/Europe/Slovakia",
          "world/Europe/Slovenia",
          "world/Africa/Somalia",
          "world/Africa/South Africa",
          "world/Africa/South Sudan",
          "world/Europe/Spain",
          "world/Asia/Sri Lanka",
          "world/Africa/Sudan",
          "world/South America/Suriname",
          "world/Europe/Sweden",
          "world/Europe/Switzerland",
          "world/Asia/Syria",
          "world/Asia/Taiwan*",
          "world/Africa/Tanzania",
          "world/Asia/Thailand",
          "world/Timor-Leste/Timor-Leste",
          "world/Africa/Togo",
          "world/North America/Trinidad and Tobago",
          "world/Africa/Tunisia",
          "world/Asia/Turkey",
          "world/North America/US",
          "world/Africa/Uganda",
          "world/Europe/Ukraine",
          "world/Asia/United Arab Emirates",
          "world/Europe/United Kingdom",
          "world/South America/Uruguay",
          "world/Asia/Uzbekistan",
          "world/South America/Venezuela",
          "world/Asia/Vietnam",
          "world/Asia/West Bank and Gaza",
          "world/Western Sahara/Western Sahara",
          "world/Africa/Zambia",
          "world/Africa/Zimbabwe",
          "world/Africa",
          "world/Asia",
          "world/Congo",
          "world/Diamond Princess",
          "world/Europe",
          "world/Holy See",
          "world/Laos",
          "world/MS Zaandam",
          "world/North America",
          "world/Oceania",
          "world/South America",
          "world/Timor-Leste",
          "world/Western Sahara",
          "world"
         ],
         "labels": [
          "Afghanistan",
          "Albania",
          "Algeria",
          "Andorra",
          "Angola",
          "Antigua and Barbuda",
          "Argentina",
          "Armenia",
          "Australia",
          "Austria",
          "Azerbaijan",
          "Bahamas",
          "Bahrain",
          "Bangladesh",
          "Barbados",
          "Belarus",
          "Belgium",
          "Belize",
          "Benin",
          "Bhutan",
          "Bolivia",
          "Bosnia and Herzegovina",
          "Botswana",
          "Brazil",
          "Brunei",
          "Bulgaria",
          "Burkina Faso",
          "Burma",
          "Burundi",
          "Cabo Verde",
          "Cambodia",
          "Cameroon",
          "Canada",
          "Central African Republic",
          "Chad",
          "Chile",
          "China",
          "Colombia",
          "Congo (Brazzaville)",
          "Congo (Kinshasa)",
          "Costa Rica",
          "Cote d'Ivoire",
          "Croatia",
          "Cuba",
          "Cyprus",
          "Czechia",
          "Denmark",
          "Diamond Princess",
          "Djibouti",
          "Dominica",
          "Dominican Republic",
          "Ecuador",
          "Egypt",
          "El Salvador",
          "Equatorial Guinea",
          "Eritrea",
          "Estonia",
          "Eswatini",
          "Ethiopia",
          "Fiji",
          "Finland",
          "France",
          "Gabon",
          "Gambia",
          "Georgia",
          "Germany",
          "Ghana",
          "Greece",
          "Grenada",
          "Guatemala",
          "Guinea",
          "Guinea-Bissau",
          "Guyana",
          "Haiti",
          "Holy See",
          "Honduras",
          "Hungary",
          "Iceland",
          "India",
          "Indonesia",
          "Iran",
          "Iraq",
          "Ireland",
          "Israel",
          "Italy",
          "Jamaica",
          "Japan",
          "Jordan",
          "Kazakhstan",
          "Kenya",
          "Korea, South",
          "Kosovo",
          "Kuwait",
          "Kyrgyzstan",
          "Laos",
          "Latvia",
          "Lebanon",
          "Liberia",
          "Libya",
          "Liechtenstein",
          "Lithuania",
          "Luxembourg",
          "MS Zaandam",
          "Madagascar",
          "Malawi",
          "Malaysia",
          "Maldives",
          "Mali",
          "Malta",
          "Mauritania",
          "Mauritius",
          "Mexico",
          "Moldova",
          "Monaco",
          "Mongolia",
          "Montenegro",
          "Morocco",
          "Mozambique",
          "Namibia",
          "Nepal",
          "Netherlands",
          "New Zealand",
          "Nicaragua",
          "Niger",
          "Nigeria",
          "North Macedonia",
          "Norway",
          "Oman",
          "Pakistan",
          "Panama",
          "Papua New Guinea",
          "Paraguay",
          "Peru",
          "Philippines",
          "Poland",
          "Portugal",
          "Qatar",
          "Romania",
          "Russia",
          "Rwanda",
          "Saint Kitts and Nevis",
          "Saint Lucia",
          "Saint Vincent and the Grenadines",
          "San Marino",
          "Sao Tome and Principe",
          "Saudi Arabia",
          "Senegal",
          "Serbia",
          "Seychelles",
          "Sierra Leone",
          "Singapore",
          "Slovakia",
          "Slovenia",
          "Somalia",
          "South Africa",
          "South Sudan",
          "Spain",
          "Sri Lanka",
          "Sudan",
          "Suriname",
          "Sweden",
          "Switzerland",
          "Syria",
          "Taiwan*",
          "Tanzania",
          "Thailand",
          "Timor-Leste",
          "Togo",
          "Trinidad and Tobago",
          "Tunisia",
          "Turkey",
          "US",
          "Uganda",
          "Ukraine",
          "United Arab Emirates",
          "United Kingdom",
          "Uruguay",
          "Uzbekistan",
          "Venezuela",
          "Vietnam",
          "West Bank and Gaza",
          "Western Sahara",
          "Zambia",
          "Zimbabwe",
          "Africa",
          "Asia",
          "Congo",
          "Diamond Princess",
          "Europe",
          "Holy See",
          "Laos",
          "MS Zaandam",
          "North America",
          "Oceania",
          "South America",
          "Timor-Leste",
          "Western Sahara",
          "world"
         ],
         "marker": {
          "coloraxis": "coloraxis",
          "colors": [
           153,
           31,
           536,
           49,
           2,
           3,
           356,
           52,
           98,
           628,
           36,
           11,
           12,
           298,
           7,
           156,
           8959,
           2,
           2,
           0,
           164,
           128,
           1,
           14962,
           1,
           102,
           51,
           6,
           1,
           2,
           0,
           140,
           5678,
           0,
           48,
           394,
           4637,
           546,
           15,
           50,
           9,
           24,
           95,
           79,
           17,
           295,
           537,
           13,
           4,
           0,
           424,
           2594,
           592,
           25,
           7,
           0,
           63,
           2,
           5,
           0,
           293,
           27532,
           10,
           1,
           12,
           7897,
           28,
           160,
           0,
           30,
           15,
           3,
           10,
           20,
           0,
           134,
           442,
           10,
           2753,
           1076,
           6902,
           117,
           1518,
           266,
           31610,
           9,
           713,
           9,
           34,
           45,
           262,
           29,
           96,
           14,
           0,
           19,
           26,
           20,
           3,
           1,
           54,
           104,
           2,
           0,
           3,
           112,
           4,
           46,
           6,
           3,
           10,
           4767,
           202,
           4,
           0,
           9,
           190,
           0,
           0,
           0,
           5662,
           21,
           8,
           51,
           171,
           97,
           232,
           20,
           834,
           266,
           0,
           11,
           2392,
           806,
           907,
           1190,
           14,
           1070,
           2418,
           0,
           0,
           0,
           0,
           41,
           7,
           292,
           25,
           225,
           0,
           27,
           21,
           27,
           103,
           53,
           247,
           4,
           27459,
           9,
           91,
           1,
           3646,
           1878,
           3,
           7,
           21,
           56,
           0,
           11,
           8,
           45,
           4055,
           87525,
           0,
           476,
           210,
           34078,
           19,
           11,
           10,
           0,
           2,
           0,
           7,
           4,
           2558,
           23948,
           65,
           13,
           160442,
           0,
           0,
           2,
           99005,
           119,
           21459,
           0,
           0,
           307611
          ]
         },
         "name": "",
         "parents": [
          "world/Asia",
          "world/Europe",
          "world/Africa",
          "world/Europe",
          "world/Africa",
          "world/North America",
          "world/South America",
          "world/Asia",
          "world/Oceania",
          "world/Europe",
          "world/Asia",
          "world/North America",
          "world/Asia",
          "world/Asia",
          "world/North America",
          "world/Europe",
          "world/Europe",
          "world/North America",
          "world/Africa",
          "world/Asia",
          "world/South America",
          "world/Europe",
          "world/Africa",
          "world/South America",
          "world/Asia",
          "world/Europe",
          "world/Africa",
          "world/Asia",
          "world/Africa",
          "world/Africa",
          "world/Asia",
          "world/Africa",
          "world/North America",
          "world/Africa",
          "world/Africa",
          "world/South America",
          "world/Asia",
          "world/South America",
          "world/Congo",
          "world/Congo",
          "world/North America",
          "world/Africa",
          "world/Europe",
          "world/North America",
          "world/Asia",
          "world/Europe",
          "world/Europe",
          "world/Diamond Princess",
          "world/Africa",
          "world/North America",
          "world/North America",
          "world/South America",
          "world/Africa",
          "world/North America",
          "world/Africa",
          "world/Africa",
          "world/Europe",
          "world/Africa",
          "world/Africa",
          "world/Oceania",
          "world/Europe",
          "world/Europe",
          "world/Africa",
          "world/Africa",
          "world/Asia",
          "world/Europe",
          "world/Africa",
          "world/Europe",
          "world/North America",
          "world/North America",
          "world/Africa",
          "world/Africa",
          "world/South America",
          "world/North America",
          "world/Holy See",
          "world/North America",
          "world/Europe",
          "world/Europe",
          "world/Asia",
          "world/Asia",
          "world/Asia",
          "world/Asia",
          "world/Europe",
          "world/Asia",
          "world/Europe",
          "world/North America",
          "world/Asia",
          "world/Asia",
          "world/Asia",
          "world/Africa",
          "world/Asia",
          "world/Europe",
          "world/Asia",
          "world/Asia",
          "world/Laos",
          "world/Europe",
          "world/Asia",
          "world/Africa",
          "world/Africa",
          "world/Europe",
          "world/Europe",
          "world/Europe",
          "world/MS Zaandam",
          "world/Africa",
          "world/Africa",
          "world/Asia",
          "world/Asia",
          "world/Africa",
          "world/Europe",
          "world/Africa",
          "world/Africa",
          "world/North America",
          "world/Europe",
          "world/Europe",
          "world/Asia",
          "world/Europe",
          "world/Africa",
          "world/Africa",
          "world/Africa",
          "world/Asia",
          "world/Europe",
          "world/Oceania",
          "world/North America",
          "world/Africa",
          "world/Africa",
          "world/Europe",
          "world/Europe",
          "world/Asia",
          "world/Asia",
          "world/North America",
          "world/Oceania",
          "world/South America",
          "world/South America",
          "world/Asia",
          "world/Europe",
          "world/Europe",
          "world/Asia",
          "world/Europe",
          "world/Europe",
          "world/Africa",
          "world/North America",
          "world/North America",
          "world/North America",
          "world/Europe",
          "world/Africa",
          "world/Asia",
          "world/Africa",
          "world/Europe",
          "world/Africa",
          "world/Africa",
          "world/Asia",
          "world/Europe",
          "world/Europe",
          "world/Africa",
          "world/Africa",
          "world/Africa",
          "world/Europe",
          "world/Asia",
          "world/Africa",
          "world/South America",
          "world/Europe",
          "world/Europe",
          "world/Asia",
          "world/Asia",
          "world/Africa",
          "world/Asia",
          "world/Timor-Leste",
          "world/Africa",
          "world/North America",
          "world/Africa",
          "world/Asia",
          "world/North America",
          "world/Africa",
          "world/Europe",
          "world/Asia",
          "world/Europe",
          "world/South America",
          "world/Asia",
          "world/South America",
          "world/Asia",
          "world/Asia",
          "world/Western Sahara",
          "world/Africa",
          "world/Africa",
          "world",
          "world",
          "world",
          "world",
          "world",
          "world",
          "world",
          "world",
          "world",
          "world",
          "world",
          "world",
          "world",
          ""
         ],
         "type": "treemap",
         "values": [
          153,
          31,
          536,
          49,
          2,
          3,
          356,
          52,
          98,
          628,
          36,
          11,
          12,
          298,
          7,
          156,
          8959,
          2,
          2,
          0,
          164,
          128,
          1,
          14962,
          1,
          102,
          51,
          6,
          1,
          2,
          0,
          140,
          5678,
          0,
          48,
          394,
          4637,
          546,
          15,
          50,
          9,
          24,
          95,
          79,
          17,
          295,
          537,
          13,
          4,
          0,
          424,
          2594,
          592,
          25,
          7,
          0,
          63,
          2,
          5,
          0,
          293,
          27532,
          10,
          1,
          12,
          7897,
          28,
          160,
          0,
          30,
          15,
          3,
          10,
          20,
          0,
          134,
          442,
          10,
          2753,
          1076,
          6902,
          117,
          1518,
          266,
          31610,
          9,
          713,
          9,
          34,
          45,
          262,
          29,
          96,
          14,
          0,
          19,
          26,
          20,
          3,
          1,
          54,
          104,
          2,
          0,
          3,
          112,
          4,
          46,
          6,
          3,
          10,
          4767,
          202,
          4,
          0,
          9,
          190,
          0,
          0,
          0,
          5662,
          21,
          8,
          51,
          171,
          97,
          232,
          20,
          834,
          266,
          0,
          11,
          2392,
          806,
          907,
          1190,
          14,
          1070,
          2418,
          0,
          0,
          0,
          0,
          41,
          7,
          292,
          25,
          225,
          0,
          27,
          21,
          27,
          103,
          53,
          247,
          4,
          27459,
          9,
          91,
          1,
          3646,
          1878,
          3,
          7,
          21,
          56,
          0,
          11,
          8,
          45,
          4055,
          87525,
          0,
          476,
          210,
          34078,
          19,
          11,
          10,
          0,
          2,
          0,
          7,
          4,
          2558,
          23948,
          65,
          13,
          160442,
          0,
          0,
          2,
          99005,
          119,
          21459,
          0,
          0,
          307611
         ]
        }
       ],
       "layout": {
        "coloraxis": {
         "colorbar": {
          "title": {
           "text": "Fatalities"
          }
         },
         "colorscale": [
          [
           0,
           "rgb(230, 240, 240)"
          ],
          [
           0.09090909090909091,
           "rgb(191, 221, 229)"
          ],
          [
           0.18181818181818182,
           "rgb(156, 201, 226)"
          ],
          [
           0.2727272727272727,
           "rgb(129, 180, 227)"
          ],
          [
           0.36363636363636365,
           "rgb(115, 154, 228)"
          ],
          [
           0.45454545454545453,
           "rgb(117, 127, 221)"
          ],
          [
           0.5454545454545454,
           "rgb(120, 100, 202)"
          ],
          [
           0.6363636363636364,
           "rgb(119, 74, 175)"
          ],
          [
           0.7272727272727273,
           "rgb(113, 50, 141)"
          ],
          [
           0.8181818181818182,
           "rgb(100, 31, 104)"
          ],
          [
           0.9090909090909091,
           "rgb(80, 20, 66)"
          ],
          [
           1,
           "rgb(54, 14, 36)"
          ]
         ]
        },
        "legend": {
         "tracegroupgap": 0
        },
        "template": {
         "data": {
          "bar": [
           {
            "error_x": {
             "color": "#2a3f5f"
            },
            "error_y": {
             "color": "#2a3f5f"
            },
            "marker": {
             "line": {
              "color": "#E5ECF6",
              "width": 0.5
             }
            },
            "type": "bar"
           }
          ],
          "barpolar": [
           {
            "marker": {
             "line": {
              "color": "#E5ECF6",
              "width": 0.5
             }
            },
            "type": "barpolar"
           }
          ],
          "carpet": [
           {
            "aaxis": {
             "endlinecolor": "#2a3f5f",
             "gridcolor": "white",
             "linecolor": "white",
             "minorgridcolor": "white",
             "startlinecolor": "#2a3f5f"
            },
            "baxis": {
             "endlinecolor": "#2a3f5f",
             "gridcolor": "white",
             "linecolor": "white",
             "minorgridcolor": "white",
             "startlinecolor": "#2a3f5f"
            },
            "type": "carpet"
           }
          ],
          "choropleth": [
           {
            "colorbar": {
             "outlinewidth": 0,
             "ticks": ""
            },
            "type": "choropleth"
           }
          ],
          "contour": [
           {
            "colorbar": {
             "outlinewidth": 0,
             "ticks": ""
            },
            "colorscale": [
             [
              0,
              "#0d0887"
             ],
             [
              0.1111111111111111,
              "#46039f"
             ],
             [
              0.2222222222222222,
              "#7201a8"
             ],
             [
              0.3333333333333333,
              "#9c179e"
             ],
             [
              0.4444444444444444,
              "#bd3786"
             ],
             [
              0.5555555555555556,
              "#d8576b"
             ],
             [
              0.6666666666666666,
              "#ed7953"
             ],
             [
              0.7777777777777778,
              "#fb9f3a"
             ],
             [
              0.8888888888888888,
              "#fdca26"
             ],
             [
              1,
              "#f0f921"
             ]
            ],
            "type": "contour"
           }
          ],
          "contourcarpet": [
           {
            "colorbar": {
             "outlinewidth": 0,
             "ticks": ""
            },
            "type": "contourcarpet"
           }
          ],
          "heatmap": [
           {
            "colorbar": {
             "outlinewidth": 0,
             "ticks": ""
            },
            "colorscale": [
             [
              0,
              "#0d0887"
             ],
             [
              0.1111111111111111,
              "#46039f"
             ],
             [
              0.2222222222222222,
              "#7201a8"
             ],
             [
              0.3333333333333333,
              "#9c179e"
             ],
             [
              0.4444444444444444,
              "#bd3786"
             ],
             [
              0.5555555555555556,
              "#d8576b"
             ],
             [
              0.6666666666666666,
              "#ed7953"
             ],
             [
              0.7777777777777778,
              "#fb9f3a"
             ],
             [
              0.8888888888888888,
              "#fdca26"
             ],
             [
              1,
              "#f0f921"
             ]
            ],
            "type": "heatmap"
           }
          ],
          "heatmapgl": [
           {
            "colorbar": {
             "outlinewidth": 0,
             "ticks": ""
            },
            "colorscale": [
             [
              0,
              "#0d0887"
             ],
             [
              0.1111111111111111,
              "#46039f"
             ],
             [
              0.2222222222222222,
              "#7201a8"
             ],
             [
              0.3333333333333333,
              "#9c179e"
             ],
             [
              0.4444444444444444,
              "#bd3786"
             ],
             [
              0.5555555555555556,
              "#d8576b"
             ],
             [
              0.6666666666666666,
              "#ed7953"
             ],
             [
              0.7777777777777778,
              "#fb9f3a"
             ],
             [
              0.8888888888888888,
              "#fdca26"
             ],
             [
              1,
              "#f0f921"
             ]
            ],
            "type": "heatmapgl"
           }
          ],
          "histogram": [
           {
            "marker": {
             "colorbar": {
              "outlinewidth": 0,
              "ticks": ""
             }
            },
            "type": "histogram"
           }
          ],
          "histogram2d": [
           {
            "colorbar": {
             "outlinewidth": 0,
             "ticks": ""
            },
            "colorscale": [
             [
              0,
              "#0d0887"
             ],
             [
              0.1111111111111111,
              "#46039f"
             ],
             [
              0.2222222222222222,
              "#7201a8"
             ],
             [
              0.3333333333333333,
              "#9c179e"
             ],
             [
              0.4444444444444444,
              "#bd3786"
             ],
             [
              0.5555555555555556,
              "#d8576b"
             ],
             [
              0.6666666666666666,
              "#ed7953"
             ],
             [
              0.7777777777777778,
              "#fb9f3a"
             ],
             [
              0.8888888888888888,
              "#fdca26"
             ],
             [
              1,
              "#f0f921"
             ]
            ],
            "type": "histogram2d"
           }
          ],
          "histogram2dcontour": [
           {
            "colorbar": {
             "outlinewidth": 0,
             "ticks": ""
            },
            "colorscale": [
             [
              0,
              "#0d0887"
             ],
             [
              0.1111111111111111,
              "#46039f"
             ],
             [
              0.2222222222222222,
              "#7201a8"
             ],
             [
              0.3333333333333333,
              "#9c179e"
             ],
             [
              0.4444444444444444,
              "#bd3786"
             ],
             [
              0.5555555555555556,
              "#d8576b"
             ],
             [
              0.6666666666666666,
              "#ed7953"
             ],
             [
              0.7777777777777778,
              "#fb9f3a"
             ],
             [
              0.8888888888888888,
              "#fdca26"
             ],
             [
              1,
              "#f0f921"
             ]
            ],
            "type": "histogram2dcontour"
           }
          ],
          "mesh3d": [
           {
            "colorbar": {
             "outlinewidth": 0,
             "ticks": ""
            },
            "type": "mesh3d"
           }
          ],
          "parcoords": [
           {
            "line": {
             "colorbar": {
              "outlinewidth": 0,
              "ticks": ""
             }
            },
            "type": "parcoords"
           }
          ],
          "pie": [
           {
            "automargin": true,
            "type": "pie"
           }
          ],
          "scatter": [
           {
            "marker": {
             "colorbar": {
              "outlinewidth": 0,
              "ticks": ""
             }
            },
            "type": "scatter"
           }
          ],
          "scatter3d": [
           {
            "line": {
             "colorbar": {
              "outlinewidth": 0,
              "ticks": ""
             }
            },
            "marker": {
             "colorbar": {
              "outlinewidth": 0,
              "ticks": ""
             }
            },
            "type": "scatter3d"
           }
          ],
          "scattercarpet": [
           {
            "marker": {
             "colorbar": {
              "outlinewidth": 0,
              "ticks": ""
             }
            },
            "type": "scattercarpet"
           }
          ],
          "scattergeo": [
           {
            "marker": {
             "colorbar": {
              "outlinewidth": 0,
              "ticks": ""
             }
            },
            "type": "scattergeo"
           }
          ],
          "scattergl": [
           {
            "marker": {
             "colorbar": {
              "outlinewidth": 0,
              "ticks": ""
             }
            },
            "type": "scattergl"
           }
          ],
          "scattermapbox": [
           {
            "marker": {
             "colorbar": {
              "outlinewidth": 0,
              "ticks": ""
             }
            },
            "type": "scattermapbox"
           }
          ],
          "scatterpolar": [
           {
            "marker": {
             "colorbar": {
              "outlinewidth": 0,
              "ticks": ""
             }
            },
            "type": "scatterpolar"
           }
          ],
          "scatterpolargl": [
           {
            "marker": {
             "colorbar": {
              "outlinewidth": 0,
              "ticks": ""
             }
            },
            "type": "scatterpolargl"
           }
          ],
          "scatterternary": [
           {
            "marker": {
             "colorbar": {
              "outlinewidth": 0,
              "ticks": ""
             }
            },
            "type": "scatterternary"
           }
          ],
          "surface": [
           {
            "colorbar": {
             "outlinewidth": 0,
             "ticks": ""
            },
            "colorscale": [
             [
              0,
              "#0d0887"
             ],
             [
              0.1111111111111111,
              "#46039f"
             ],
             [
              0.2222222222222222,
              "#7201a8"
             ],
             [
              0.3333333333333333,
              "#9c179e"
             ],
             [
              0.4444444444444444,
              "#bd3786"
             ],
             [
              0.5555555555555556,
              "#d8576b"
             ],
             [
              0.6666666666666666,
              "#ed7953"
             ],
             [
              0.7777777777777778,
              "#fb9f3a"
             ],
             [
              0.8888888888888888,
              "#fdca26"
             ],
             [
              1,
              "#f0f921"
             ]
            ],
            "type": "surface"
           }
          ],
          "table": [
           {
            "cells": {
             "fill": {
              "color": "#EBF0F8"
             },
             "line": {
              "color": "white"
             }
            },
            "header": {
             "fill": {
              "color": "#C8D4E3"
             },
             "line": {
              "color": "white"
             }
            },
            "type": "table"
           }
          ]
         },
         "layout": {
          "annotationdefaults": {
           "arrowcolor": "#2a3f5f",
           "arrowhead": 0,
           "arrowwidth": 1
          },
          "coloraxis": {
           "colorbar": {
            "outlinewidth": 0,
            "ticks": ""
           }
          },
          "colorscale": {
           "diverging": [
            [
             0,
             "#8e0152"
            ],
            [
             0.1,
             "#c51b7d"
            ],
            [
             0.2,
             "#de77ae"
            ],
            [
             0.3,
             "#f1b6da"
            ],
            [
             0.4,
             "#fde0ef"
            ],
            [
             0.5,
             "#f7f7f7"
            ],
            [
             0.6,
             "#e6f5d0"
            ],
            [
             0.7,
             "#b8e186"
            ],
            [
             0.8,
             "#7fbc41"
            ],
            [
             0.9,
             "#4d9221"
            ],
            [
             1,
             "#276419"
            ]
           ],
           "sequential": [
            [
             0,
             "#0d0887"
            ],
            [
             0.1111111111111111,
             "#46039f"
            ],
            [
             0.2222222222222222,
             "#7201a8"
            ],
            [
             0.3333333333333333,
             "#9c179e"
            ],
            [
             0.4444444444444444,
             "#bd3786"
            ],
            [
             0.5555555555555556,
             "#d8576b"
            ],
            [
             0.6666666666666666,
             "#ed7953"
            ],
            [
             0.7777777777777778,
             "#fb9f3a"
            ],
            [
             0.8888888888888888,
             "#fdca26"
            ],
            [
             1,
             "#f0f921"
            ]
           ],
           "sequentialminus": [
            [
             0,
             "#0d0887"
            ],
            [
             0.1111111111111111,
             "#46039f"
            ],
            [
             0.2222222222222222,
             "#7201a8"
            ],
            [
             0.3333333333333333,
             "#9c179e"
            ],
            [
             0.4444444444444444,
             "#bd3786"
            ],
            [
             0.5555555555555556,
             "#d8576b"
            ],
            [
             0.6666666666666666,
             "#ed7953"
            ],
            [
             0.7777777777777778,
             "#fb9f3a"
            ],
            [
             0.8888888888888888,
             "#fdca26"
            ],
            [
             1,
             "#f0f921"
            ]
           ]
          },
          "colorway": [
           "#636efa",
           "#EF553B",
           "#00cc96",
           "#ab63fa",
           "#FFA15A",
           "#19d3f3",
           "#FF6692",
           "#B6E880",
           "#FF97FF",
           "#FECB52"
          ],
          "font": {
           "color": "#2a3f5f"
          },
          "geo": {
           "bgcolor": "white",
           "lakecolor": "white",
           "landcolor": "#E5ECF6",
           "showlakes": true,
           "showland": true,
           "subunitcolor": "white"
          },
          "hoverlabel": {
           "align": "left"
          },
          "hovermode": "closest",
          "mapbox": {
           "style": "light"
          },
          "paper_bgcolor": "white",
          "plot_bgcolor": "#E5ECF6",
          "polar": {
           "angularaxis": {
            "gridcolor": "white",
            "linecolor": "white",
            "ticks": ""
           },
           "bgcolor": "#E5ECF6",
           "radialaxis": {
            "gridcolor": "white",
            "linecolor": "white",
            "ticks": ""
           }
          },
          "scene": {
           "xaxis": {
            "backgroundcolor": "#E5ECF6",
            "gridcolor": "white",
            "gridwidth": 2,
            "linecolor": "white",
            "showbackground": true,
            "ticks": "",
            "zerolinecolor": "white"
           },
           "yaxis": {
            "backgroundcolor": "#E5ECF6",
            "gridcolor": "white",
            "gridwidth": 2,
            "linecolor": "white",
            "showbackground": true,
            "ticks": "",
            "zerolinecolor": "white"
           },
           "zaxis": {
            "backgroundcolor": "#E5ECF6",
            "gridcolor": "white",
            "gridwidth": 2,
            "linecolor": "white",
            "showbackground": true,
            "ticks": "",
            "zerolinecolor": "white"
           }
          },
          "shapedefaults": {
           "line": {
            "color": "#2a3f5f"
           }
          },
          "ternary": {
           "aaxis": {
            "gridcolor": "white",
            "linecolor": "white",
            "ticks": ""
           },
           "baxis": {
            "gridcolor": "white",
            "linecolor": "white",
            "ticks": ""
           },
           "bgcolor": "#E5ECF6",
           "caxis": {
            "gridcolor": "white",
            "linecolor": "white",
            "ticks": ""
           }
          },
          "title": {
           "x": 0.05
          },
          "xaxis": {
           "automargin": true,
           "gridcolor": "white",
           "linecolor": "white",
           "ticks": "",
           "title": {
            "standoff": 15
           },
           "zerolinecolor": "white",
           "zerolinewidth": 2
          },
          "yaxis": {
           "automargin": true,
           "gridcolor": "white",
           "linecolor": "white",
           "ticks": "",
           "title": {
            "standoff": 15
           },
           "zerolinecolor": "white",
           "zerolinewidth": 2
          }
         }
        },
        "title": {
         "text": "Current Share of WorldWide COVID19 Fatalities"
        }
       }
      },
      "text/html": [
       "<div>\n",
       "        \n",
       "        \n",
       "            <div id=\"278d7dbc-1a75-45e2-8c46-4399090aada9\" class=\"plotly-graph-div\" style=\"height:525px; width:100%;\"></div>\n",
       "            <script type=\"text/javascript\">\n",
       "                require([\"plotly\"], function(Plotly) {\n",
       "                    window.PLOTLYENV=window.PLOTLYENV || {};\n",
       "                    \n",
       "                if (document.getElementById(\"278d7dbc-1a75-45e2-8c46-4399090aada9\")) {\n",
       "                    Plotly.newPlot(\n",
       "                        '278d7dbc-1a75-45e2-8c46-4399090aada9',\n",
       "                        [{\"branchvalues\": \"total\", \"customdata\": [[\"Afghanistan\", 153.0], [\"Albania\", 31.0], [\"Algeria\", 536.0], [\"Andorra\", 49.0], [\"Angola\", 2.0], [\"Antigua and Barbuda\", 3.0], [\"Argentina\", 356.0], [\"Armenia\", 52.0], [\"Australia\", 98.0], [\"Austria\", 628.0], [\"Azerbaijan\", 36.0], [\"Bahamas\", 11.0], [\"Bahrain\", 12.0], [\"Bangladesh\", 298.0], [\"Barbados\", 7.0], [\"Belarus\", 156.0], [\"Belgium\", 8959.0], [\"Belize\", 2.0], [\"Benin\", 2.0], [\"Bhutan\", 0.0], [\"Bolivia\", 164.0], [\"Bosnia and Herzegovina\", 128.0], [\"Botswana\", 1.0], [\"Brazil\", 14962.0], [\"Brunei\", 1.0], [\"Bulgaria\", 102.0], [\"Burkina Faso\", 51.0], [\"Burma\", 6.0], [\"Burundi\", 1.0], [\"Cabo Verde\", 2.0], [\"Cambodia\", 0.0], [\"Cameroon\", 140.0], [\"Canada\", 5678.0], [\"Central African Republic\", 0.0], [\"Chad\", 48.0], [\"Chile\", 394.0], [\"China\", 4637.0], [\"Colombia\", 546.0], [\"Congo (Brazzaville)\", 15.0], [\"Congo (Kinshasa)\", 50.0], [\"Costa Rica\", 9.0], [\"Cote d'Ivoire\", 24.0], [\"Croatia\", 95.0], [\"Cuba\", 79.0], [\"Cyprus\", 17.0], [\"Czechia\", 295.0], [\"Denmark\", 537.0], [\"Diamond Princess\", 13.0], [\"Djibouti\", 4.0], [\"Dominica\", 0.0], [\"Dominican Republic\", 424.0], [\"Ecuador\", 2594.0], [\"Egypt\", 592.0], [\"El Salvador\", 25.0], [\"Equatorial Guinea\", 7.0], [\"Eritrea\", 0.0], [\"Estonia\", 63.0], [\"Eswatini\", 2.0], [\"Ethiopia\", 5.0], [\"Fiji\", 0.0], [\"Finland\", 293.0], [\"France\", 27532.0], [\"Gabon\", 10.0], [\"Gambia\", 1.0], [\"Georgia\", 12.0], [\"Germany\", 7897.0], [\"Ghana\", 28.0], [\"Greece\", 160.0], [\"Grenada\", 0.0], [\"Guatemala\", 30.0], [\"Guinea\", 15.0], [\"Guinea-Bissau\", 3.0], [\"Guyana\", 10.0], [\"Haiti\", 20.0], [\"Holy See\", 0.0], [\"Honduras\", 134.0], [\"Hungary\", 442.0], [\"Iceland\", 10.0], [\"India\", 2753.0], [\"Indonesia\", 1076.0], [\"Iran\", 6902.0], [\"Iraq\", 117.0], [\"Ireland\", 1518.0], [\"Israel\", 266.0], [\"Italy\", 31610.0], [\"Jamaica\", 9.0], [\"Japan\", 713.0], [\"Jordan\", 9.0], [\"Kazakhstan\", 34.0], [\"Kenya\", 45.0], [\"Korea, South\", 262.0], [\"Kosovo\", 29.0], [\"Kuwait\", 96.0], [\"Kyrgyzstan\", 14.0], [\"Laos\", 0.0], [\"Latvia\", 19.0], [\"Lebanon\", 26.0], [\"Liberia\", 20.0], [\"Libya\", 3.0], [\"Liechtenstein\", 1.0], [\"Lithuania\", 54.0], [\"Luxembourg\", 104.0], [\"MS Zaandam\", 2.0], [\"Madagascar\", 0.0], [\"Malawi\", 3.0], [\"Malaysia\", 112.0], [\"Maldives\", 4.0], [\"Mali\", 46.0], [\"Malta\", 6.0], [\"Mauritania\", 3.0], [\"Mauritius\", 10.0], [\"Mexico\", 4767.0], [\"Moldova\", 202.0], [\"Monaco\", 4.0], [\"Mongolia\", 0.0], [\"Montenegro\", 9.0], [\"Morocco\", 190.0], [\"Mozambique\", 0.0], [\"Namibia\", 0.0], [\"Nepal\", 0.0], [\"Netherlands\", 5662.0], [\"New Zealand\", 21.0], [\"Nicaragua\", 8.0], [\"Niger\", 51.0], [\"Nigeria\", 171.0], [\"North Macedonia\", 97.0], [\"Norway\", 232.0], [\"Oman\", 20.0], [\"Pakistan\", 834.0], [\"Panama\", 266.0], [\"Papua New Guinea\", 0.0], [\"Paraguay\", 11.0], [\"Peru\", 2392.0], [\"Philippines\", 806.0], [\"Poland\", 907.0], [\"Portugal\", 1190.0], [\"Qatar\", 14.0], [\"Romania\", 1070.0], [\"Russia\", 2418.0], [\"Rwanda\", 0.0], [\"Saint Kitts and Nevis\", 0.0], [\"Saint Lucia\", 0.0], [\"Saint Vincent and the Grenadines\", 0.0], [\"San Marino\", 41.0], [\"Sao Tome and Principe\", 7.0], [\"Saudi Arabia\", 292.0], [\"Senegal\", 25.0], [\"Serbia\", 225.0], [\"Seychelles\", 0.0], [\"Sierra Leone\", 27.0], [\"Singapore\", 21.0], [\"Slovakia\", 27.0], [\"Slovenia\", 103.0], [\"Somalia\", 53.0], [\"South Africa\", 247.0], [\"South Sudan\", 4.0], [\"Spain\", 27459.0], [\"Sri Lanka\", 9.0], [\"Sudan\", 91.0], [\"Suriname\", 1.0], [\"Sweden\", 3646.0], [\"Switzerland\", 1878.0], [\"Syria\", 3.0], [\"Taiwan*\", 7.0], [\"Tanzania\", 21.0], [\"Thailand\", 56.0], [\"Timor-Leste\", 0.0], [\"Togo\", 11.0], [\"Trinidad and Tobago\", 8.0], [\"Tunisia\", 45.0], [\"Turkey\", 4055.0], [\"US\", 87525.0], [\"Uganda\", 0.0], [\"Ukraine\", 476.0], [\"United Arab Emirates\", 210.0], [\"United Kingdom\", 34078.0], [\"Uruguay\", 19.0], [\"Uzbekistan\", 11.0], [\"Venezuela\", 10.0], [\"Vietnam\", 0.0], [\"West Bank and Gaza\", 2.0], [\"Western Sahara\", 0.0], [\"Zambia\", 7.0], [\"Zimbabwe\", 4.0], [\"(?)\", 2558.0], [\"(?)\", 23948.0], [\"(?)\", 65.0], [\"Diamond Princess\", 13.0], [\"(?)\", 160442.0], [\"Holy See\", 0.0], [\"Laos\", 0.0], [\"MS Zaandam\", 2.0], [\"(?)\", 99005.0], [\"(?)\", 119.0], [\"(?)\", 21459.0], [\"Timor-Leste\", 0.0], [\"Western Sahara\", 0.0], [\"(?)\", 307611.0]], \"domain\": {\"x\": [0.0, 1.0], \"y\": [0.0, 1.0]}, \"hovertemplate\": \"labels=%{label}<br>Fatalities=%{color}<br>parent=%{parent}<br>id=%{id}<br>Country_Region=%{customdata[0]}<extra></extra>\", \"ids\": [\"world/Asia/Afghanistan\", \"world/Europe/Albania\", \"world/Africa/Algeria\", \"world/Europe/Andorra\", \"world/Africa/Angola\", \"world/North America/Antigua and Barbuda\", \"world/South America/Argentina\", \"world/Asia/Armenia\", \"world/Oceania/Australia\", \"world/Europe/Austria\", \"world/Asia/Azerbaijan\", \"world/North America/Bahamas\", \"world/Asia/Bahrain\", \"world/Asia/Bangladesh\", \"world/North America/Barbados\", \"world/Europe/Belarus\", \"world/Europe/Belgium\", \"world/North America/Belize\", \"world/Africa/Benin\", \"world/Asia/Bhutan\", \"world/South America/Bolivia\", \"world/Europe/Bosnia and Herzegovina\", \"world/Africa/Botswana\", \"world/South America/Brazil\", \"world/Asia/Brunei\", \"world/Europe/Bulgaria\", \"world/Africa/Burkina Faso\", \"world/Asia/Burma\", \"world/Africa/Burundi\", \"world/Africa/Cabo Verde\", \"world/Asia/Cambodia\", \"world/Africa/Cameroon\", \"world/North America/Canada\", \"world/Africa/Central African Republic\", \"world/Africa/Chad\", \"world/South America/Chile\", \"world/Asia/China\", \"world/South America/Colombia\", \"world/Congo/Congo (Brazzaville)\", \"world/Congo/Congo (Kinshasa)\", \"world/North America/Costa Rica\", \"world/Africa/Cote d'Ivoire\", \"world/Europe/Croatia\", \"world/North America/Cuba\", \"world/Asia/Cyprus\", \"world/Europe/Czechia\", \"world/Europe/Denmark\", \"world/Diamond Princess/Diamond Princess\", \"world/Africa/Djibouti\", \"world/North America/Dominica\", \"world/North America/Dominican Republic\", \"world/South America/Ecuador\", \"world/Africa/Egypt\", \"world/North America/El Salvador\", \"world/Africa/Equatorial Guinea\", \"world/Africa/Eritrea\", \"world/Europe/Estonia\", \"world/Africa/Eswatini\", \"world/Africa/Ethiopia\", \"world/Oceania/Fiji\", \"world/Europe/Finland\", \"world/Europe/France\", \"world/Africa/Gabon\", \"world/Africa/Gambia\", \"world/Asia/Georgia\", \"world/Europe/Germany\", \"world/Africa/Ghana\", \"world/Europe/Greece\", \"world/North America/Grenada\", \"world/North America/Guatemala\", \"world/Africa/Guinea\", \"world/Africa/Guinea-Bissau\", \"world/South America/Guyana\", \"world/North America/Haiti\", \"world/Holy See/Holy See\", \"world/North America/Honduras\", \"world/Europe/Hungary\", \"world/Europe/Iceland\", \"world/Asia/India\", \"world/Asia/Indonesia\", \"world/Asia/Iran\", \"world/Asia/Iraq\", \"world/Europe/Ireland\", \"world/Asia/Israel\", \"world/Europe/Italy\", \"world/North America/Jamaica\", \"world/Asia/Japan\", \"world/Asia/Jordan\", \"world/Asia/Kazakhstan\", \"world/Africa/Kenya\", \"world/Asia/Korea, South\", \"world/Europe/Kosovo\", \"world/Asia/Kuwait\", \"world/Asia/Kyrgyzstan\", \"world/Laos/Laos\", \"world/Europe/Latvia\", \"world/Asia/Lebanon\", \"world/Africa/Liberia\", \"world/Africa/Libya\", \"world/Europe/Liechtenstein\", \"world/Europe/Lithuania\", \"world/Europe/Luxembourg\", \"world/MS Zaandam/MS Zaandam\", \"world/Africa/Madagascar\", \"world/Africa/Malawi\", \"world/Asia/Malaysia\", \"world/Asia/Maldives\", \"world/Africa/Mali\", \"world/Europe/Malta\", \"world/Africa/Mauritania\", \"world/Africa/Mauritius\", \"world/North America/Mexico\", \"world/Europe/Moldova\", \"world/Europe/Monaco\", \"world/Asia/Mongolia\", \"world/Europe/Montenegro\", \"world/Africa/Morocco\", \"world/Africa/Mozambique\", \"world/Africa/Namibia\", \"world/Asia/Nepal\", \"world/Europe/Netherlands\", \"world/Oceania/New Zealand\", \"world/North America/Nicaragua\", \"world/Africa/Niger\", \"world/Africa/Nigeria\", \"world/Europe/North Macedonia\", \"world/Europe/Norway\", \"world/Asia/Oman\", \"world/Asia/Pakistan\", \"world/North America/Panama\", \"world/Oceania/Papua New Guinea\", \"world/South America/Paraguay\", \"world/South America/Peru\", \"world/Asia/Philippines\", \"world/Europe/Poland\", \"world/Europe/Portugal\", \"world/Asia/Qatar\", \"world/Europe/Romania\", \"world/Europe/Russia\", \"world/Africa/Rwanda\", \"world/North America/Saint Kitts and Nevis\", \"world/North America/Saint Lucia\", \"world/North America/Saint Vincent and the Grenadines\", \"world/Europe/San Marino\", \"world/Africa/Sao Tome and Principe\", \"world/Asia/Saudi Arabia\", \"world/Africa/Senegal\", \"world/Europe/Serbia\", \"world/Africa/Seychelles\", \"world/Africa/Sierra Leone\", \"world/Asia/Singapore\", \"world/Europe/Slovakia\", \"world/Europe/Slovenia\", \"world/Africa/Somalia\", \"world/Africa/South Africa\", \"world/Africa/South Sudan\", \"world/Europe/Spain\", \"world/Asia/Sri Lanka\", \"world/Africa/Sudan\", \"world/South America/Suriname\", \"world/Europe/Sweden\", \"world/Europe/Switzerland\", \"world/Asia/Syria\", \"world/Asia/Taiwan*\", \"world/Africa/Tanzania\", \"world/Asia/Thailand\", \"world/Timor-Leste/Timor-Leste\", \"world/Africa/Togo\", \"world/North America/Trinidad and Tobago\", \"world/Africa/Tunisia\", \"world/Asia/Turkey\", \"world/North America/US\", \"world/Africa/Uganda\", \"world/Europe/Ukraine\", \"world/Asia/United Arab Emirates\", \"world/Europe/United Kingdom\", \"world/South America/Uruguay\", \"world/Asia/Uzbekistan\", \"world/South America/Venezuela\", \"world/Asia/Vietnam\", \"world/Asia/West Bank and Gaza\", \"world/Western Sahara/Western Sahara\", \"world/Africa/Zambia\", \"world/Africa/Zimbabwe\", \"world/Africa\", \"world/Asia\", \"world/Congo\", \"world/Diamond Princess\", \"world/Europe\", \"world/Holy See\", \"world/Laos\", \"world/MS Zaandam\", \"world/North America\", \"world/Oceania\", \"world/South America\", \"world/Timor-Leste\", \"world/Western Sahara\", \"world\"], \"labels\": [\"Afghanistan\", \"Albania\", \"Algeria\", \"Andorra\", \"Angola\", \"Antigua and Barbuda\", \"Argentina\", \"Armenia\", \"Australia\", \"Austria\", \"Azerbaijan\", \"Bahamas\", \"Bahrain\", \"Bangladesh\", \"Barbados\", \"Belarus\", \"Belgium\", \"Belize\", \"Benin\", \"Bhutan\", \"Bolivia\", \"Bosnia and Herzegovina\", \"Botswana\", \"Brazil\", \"Brunei\", \"Bulgaria\", \"Burkina Faso\", \"Burma\", \"Burundi\", \"Cabo Verde\", \"Cambodia\", \"Cameroon\", \"Canada\", \"Central African Republic\", \"Chad\", \"Chile\", \"China\", \"Colombia\", \"Congo (Brazzaville)\", \"Congo (Kinshasa)\", \"Costa Rica\", \"Cote d'Ivoire\", \"Croatia\", \"Cuba\", \"Cyprus\", \"Czechia\", \"Denmark\", \"Diamond Princess\", \"Djibouti\", \"Dominica\", \"Dominican Republic\", \"Ecuador\", \"Egypt\", \"El Salvador\", \"Equatorial Guinea\", \"Eritrea\", \"Estonia\", \"Eswatini\", \"Ethiopia\", \"Fiji\", \"Finland\", \"France\", \"Gabon\", \"Gambia\", \"Georgia\", \"Germany\", \"Ghana\", \"Greece\", \"Grenada\", \"Guatemala\", \"Guinea\", \"Guinea-Bissau\", \"Guyana\", \"Haiti\", \"Holy See\", \"Honduras\", \"Hungary\", \"Iceland\", \"India\", \"Indonesia\", \"Iran\", \"Iraq\", \"Ireland\", \"Israel\", \"Italy\", \"Jamaica\", \"Japan\", \"Jordan\", \"Kazakhstan\", \"Kenya\", \"Korea, South\", \"Kosovo\", \"Kuwait\", \"Kyrgyzstan\", \"Laos\", \"Latvia\", \"Lebanon\", \"Liberia\", \"Libya\", \"Liechtenstein\", \"Lithuania\", \"Luxembourg\", \"MS Zaandam\", \"Madagascar\", \"Malawi\", \"Malaysia\", \"Maldives\", \"Mali\", \"Malta\", \"Mauritania\", \"Mauritius\", \"Mexico\", \"Moldova\", \"Monaco\", \"Mongolia\", \"Montenegro\", \"Morocco\", \"Mozambique\", \"Namibia\", \"Nepal\", \"Netherlands\", \"New Zealand\", \"Nicaragua\", \"Niger\", \"Nigeria\", \"North Macedonia\", \"Norway\", \"Oman\", \"Pakistan\", \"Panama\", \"Papua New Guinea\", \"Paraguay\", \"Peru\", \"Philippines\", \"Poland\", \"Portugal\", \"Qatar\", \"Romania\", \"Russia\", \"Rwanda\", \"Saint Kitts and Nevis\", \"Saint Lucia\", \"Saint Vincent and the Grenadines\", \"San Marino\", \"Sao Tome and Principe\", \"Saudi Arabia\", \"Senegal\", \"Serbia\", \"Seychelles\", \"Sierra Leone\", \"Singapore\", \"Slovakia\", \"Slovenia\", \"Somalia\", \"South Africa\", \"South Sudan\", \"Spain\", \"Sri Lanka\", \"Sudan\", \"Suriname\", \"Sweden\", \"Switzerland\", \"Syria\", \"Taiwan*\", \"Tanzania\", \"Thailand\", \"Timor-Leste\", \"Togo\", \"Trinidad and Tobago\", \"Tunisia\", \"Turkey\", \"US\", \"Uganda\", \"Ukraine\", \"United Arab Emirates\", \"United Kingdom\", \"Uruguay\", \"Uzbekistan\", \"Venezuela\", \"Vietnam\", \"West Bank and Gaza\", \"Western Sahara\", \"Zambia\", \"Zimbabwe\", \"Africa\", \"Asia\", \"Congo\", \"Diamond Princess\", \"Europe\", \"Holy See\", \"Laos\", \"MS Zaandam\", \"North America\", \"Oceania\", \"South America\", \"Timor-Leste\", \"Western Sahara\", \"world\"], \"marker\": {\"coloraxis\": \"coloraxis\", \"colors\": [153.0, 31.0, 536.0, 49.0, 2.0, 3.0, 356.0, 52.0, 98.0, 628.0, 36.0, 11.0, 12.0, 298.0, 7.0, 156.0, 8959.0, 2.0, 2.0, 0.0, 164.0, 128.0, 1.0, 14962.0, 1.0, 102.0, 51.0, 6.0, 1.0, 2.0, 0.0, 140.0, 5678.0, 0.0, 48.0, 394.0, 4637.0, 546.0, 15.0, 50.0, 9.0, 24.0, 95.0, 79.0, 17.0, 295.0, 537.0, 13.0, 4.0, 0.0, 424.0, 2594.0, 592.0, 25.0, 7.0, 0.0, 63.0, 2.0, 5.0, 0.0, 293.0, 27532.0, 10.0, 1.0, 12.0, 7897.0, 28.0, 160.0, 0.0, 30.0, 15.0, 3.0, 10.0, 20.0, 0.0, 134.0, 442.0, 10.0, 2753.0, 1076.0, 6902.0, 117.0, 1518.0, 266.0, 31610.0, 9.0, 713.0, 9.0, 34.0, 45.0, 262.0, 29.0, 96.0, 14.0, 0.0, 19.0, 26.0, 20.0, 3.0, 1.0, 54.0, 104.0, 2.0, 0.0, 3.0, 112.0, 4.0, 46.0, 6.0, 3.0, 10.0, 4767.0, 202.0, 4.0, 0.0, 9.0, 190.0, 0.0, 0.0, 0.0, 5662.0, 21.0, 8.0, 51.0, 171.0, 97.0, 232.0, 20.0, 834.0, 266.0, 0.0, 11.0, 2392.0, 806.0, 907.0, 1190.0, 14.0, 1070.0, 2418.0, 0.0, 0.0, 0.0, 0.0, 41.0, 7.0, 292.0, 25.0, 225.0, 0.0, 27.0, 21.0, 27.0, 103.0, 53.0, 247.0, 4.0, 27459.0, 9.0, 91.0, 1.0, 3646.0, 1878.0, 3.0, 7.0, 21.0, 56.0, 0.0, 11.0, 8.0, 45.0, 4055.0, 87525.0, 0.0, 476.0, 210.0, 34078.0, 19.0, 11.0, 10.0, 0.0, 2.0, 0.0, 7.0, 4.0, 2558.0, 23948.0, 65.0, 13.0, 160442.0, 0.0, 0.0, 2.0, 99005.0, 119.0, 21459.0, 0.0, 0.0, 307611.0]}, \"name\": \"\", \"parents\": [\"world/Asia\", \"world/Europe\", \"world/Africa\", \"world/Europe\", \"world/Africa\", \"world/North America\", \"world/South America\", \"world/Asia\", \"world/Oceania\", \"world/Europe\", \"world/Asia\", \"world/North America\", \"world/Asia\", \"world/Asia\", \"world/North America\", \"world/Europe\", \"world/Europe\", \"world/North America\", \"world/Africa\", \"world/Asia\", \"world/South America\", \"world/Europe\", \"world/Africa\", \"world/South America\", \"world/Asia\", \"world/Europe\", \"world/Africa\", \"world/Asia\", \"world/Africa\", \"world/Africa\", \"world/Asia\", \"world/Africa\", \"world/North America\", \"world/Africa\", \"world/Africa\", \"world/South America\", \"world/Asia\", \"world/South America\", \"world/Congo\", \"world/Congo\", \"world/North America\", \"world/Africa\", \"world/Europe\", \"world/North America\", \"world/Asia\", \"world/Europe\", \"world/Europe\", \"world/Diamond Princess\", \"world/Africa\", \"world/North America\", \"world/North America\", \"world/South America\", \"world/Africa\", \"world/North America\", \"world/Africa\", \"world/Africa\", \"world/Europe\", \"world/Africa\", \"world/Africa\", \"world/Oceania\", \"world/Europe\", \"world/Europe\", \"world/Africa\", \"world/Africa\", \"world/Asia\", \"world/Europe\", \"world/Africa\", \"world/Europe\", \"world/North America\", \"world/North America\", \"world/Africa\", \"world/Africa\", \"world/South America\", \"world/North America\", \"world/Holy See\", \"world/North America\", \"world/Europe\", \"world/Europe\", \"world/Asia\", \"world/Asia\", \"world/Asia\", \"world/Asia\", \"world/Europe\", \"world/Asia\", \"world/Europe\", \"world/North America\", \"world/Asia\", \"world/Asia\", \"world/Asia\", \"world/Africa\", \"world/Asia\", \"world/Europe\", \"world/Asia\", \"world/Asia\", \"world/Laos\", \"world/Europe\", \"world/Asia\", \"world/Africa\", \"world/Africa\", \"world/Europe\", \"world/Europe\", \"world/Europe\", \"world/MS Zaandam\", \"world/Africa\", \"world/Africa\", \"world/Asia\", \"world/Asia\", \"world/Africa\", \"world/Europe\", \"world/Africa\", \"world/Africa\", \"world/North America\", \"world/Europe\", \"world/Europe\", \"world/Asia\", \"world/Europe\", \"world/Africa\", \"world/Africa\", \"world/Africa\", \"world/Asia\", \"world/Europe\", \"world/Oceania\", \"world/North America\", \"world/Africa\", \"world/Africa\", \"world/Europe\", \"world/Europe\", \"world/Asia\", \"world/Asia\", \"world/North America\", \"world/Oceania\", \"world/South America\", \"world/South America\", \"world/Asia\", \"world/Europe\", \"world/Europe\", \"world/Asia\", \"world/Europe\", \"world/Europe\", \"world/Africa\", \"world/North America\", \"world/North America\", \"world/North America\", \"world/Europe\", \"world/Africa\", \"world/Asia\", \"world/Africa\", \"world/Europe\", \"world/Africa\", \"world/Africa\", \"world/Asia\", \"world/Europe\", \"world/Europe\", \"world/Africa\", \"world/Africa\", \"world/Africa\", \"world/Europe\", \"world/Asia\", \"world/Africa\", \"world/South America\", \"world/Europe\", \"world/Europe\", \"world/Asia\", \"world/Asia\", \"world/Africa\", \"world/Asia\", \"world/Timor-Leste\", \"world/Africa\", \"world/North America\", \"world/Africa\", \"world/Asia\", \"world/North America\", \"world/Africa\", \"world/Europe\", \"world/Asia\", \"world/Europe\", \"world/South America\", \"world/Asia\", \"world/South America\", \"world/Asia\", \"world/Asia\", \"world/Western Sahara\", \"world/Africa\", \"world/Africa\", \"world\", \"world\", \"world\", \"world\", \"world\", \"world\", \"world\", \"world\", \"world\", \"world\", \"world\", \"world\", \"world\", \"\"], \"type\": \"treemap\", \"values\": [153.0, 31.0, 536.0, 49.0, 2.0, 3.0, 356.0, 52.0, 98.0, 628.0, 36.0, 11.0, 12.0, 298.0, 7.0, 156.0, 8959.0, 2.0, 2.0, 0.0, 164.0, 128.0, 1.0, 14962.0, 1.0, 102.0, 51.0, 6.0, 1.0, 2.0, 0.0, 140.0, 5678.0, 0.0, 48.0, 394.0, 4637.0, 546.0, 15.0, 50.0, 9.0, 24.0, 95.0, 79.0, 17.0, 295.0, 537.0, 13.0, 4.0, 0.0, 424.0, 2594.0, 592.0, 25.0, 7.0, 0.0, 63.0, 2.0, 5.0, 0.0, 293.0, 27532.0, 10.0, 1.0, 12.0, 7897.0, 28.0, 160.0, 0.0, 30.0, 15.0, 3.0, 10.0, 20.0, 0.0, 134.0, 442.0, 10.0, 2753.0, 1076.0, 6902.0, 117.0, 1518.0, 266.0, 31610.0, 9.0, 713.0, 9.0, 34.0, 45.0, 262.0, 29.0, 96.0, 14.0, 0.0, 19.0, 26.0, 20.0, 3.0, 1.0, 54.0, 104.0, 2.0, 0.0, 3.0, 112.0, 4.0, 46.0, 6.0, 3.0, 10.0, 4767.0, 202.0, 4.0, 0.0, 9.0, 190.0, 0.0, 0.0, 0.0, 5662.0, 21.0, 8.0, 51.0, 171.0, 97.0, 232.0, 20.0, 834.0, 266.0, 0.0, 11.0, 2392.0, 806.0, 907.0, 1190.0, 14.0, 1070.0, 2418.0, 0.0, 0.0, 0.0, 0.0, 41.0, 7.0, 292.0, 25.0, 225.0, 0.0, 27.0, 21.0, 27.0, 103.0, 53.0, 247.0, 4.0, 27459.0, 9.0, 91.0, 1.0, 3646.0, 1878.0, 3.0, 7.0, 21.0, 56.0, 0.0, 11.0, 8.0, 45.0, 4055.0, 87525.0, 0.0, 476.0, 210.0, 34078.0, 19.0, 11.0, 10.0, 0.0, 2.0, 0.0, 7.0, 4.0, 2558.0, 23948.0, 65.0, 13.0, 160442.0, 0.0, 0.0, 2.0, 99005.0, 119.0, 21459.0, 0.0, 0.0, 307611.0]}],\n",
       "                        {\"coloraxis\": {\"colorbar\": {\"title\": {\"text\": \"Fatalities\"}}, \"colorscale\": [[0.0, \"rgb(230, 240, 240)\"], [0.09090909090909091, \"rgb(191, 221, 229)\"], [0.18181818181818182, \"rgb(156, 201, 226)\"], [0.2727272727272727, \"rgb(129, 180, 227)\"], [0.36363636363636365, \"rgb(115, 154, 228)\"], [0.45454545454545453, \"rgb(117, 127, 221)\"], [0.5454545454545454, \"rgb(120, 100, 202)\"], [0.6363636363636364, \"rgb(119, 74, 175)\"], [0.7272727272727273, \"rgb(113, 50, 141)\"], [0.8181818181818182, \"rgb(100, 31, 104)\"], [0.9090909090909091, \"rgb(80, 20, 66)\"], [1.0, \"rgb(54, 14, 36)\"]]}, \"legend\": {\"tracegroupgap\": 0}, \"template\": {\"data\": {\"bar\": [{\"error_x\": {\"color\": \"#2a3f5f\"}, \"error_y\": {\"color\": \"#2a3f5f\"}, \"marker\": {\"line\": {\"color\": \"#E5ECF6\", \"width\": 0.5}}, \"type\": \"bar\"}], \"barpolar\": [{\"marker\": {\"line\": {\"color\": \"#E5ECF6\", \"width\": 0.5}}, \"type\": \"barpolar\"}], \"carpet\": [{\"aaxis\": {\"endlinecolor\": \"#2a3f5f\", \"gridcolor\": \"white\", \"linecolor\": \"white\", \"minorgridcolor\": \"white\", \"startlinecolor\": \"#2a3f5f\"}, \"baxis\": {\"endlinecolor\": \"#2a3f5f\", \"gridcolor\": \"white\", \"linecolor\": \"white\", \"minorgridcolor\": \"white\", \"startlinecolor\": \"#2a3f5f\"}, \"type\": \"carpet\"}], \"choropleth\": [{\"colorbar\": {\"outlinewidth\": 0, \"ticks\": \"\"}, \"type\": \"choropleth\"}], \"contour\": [{\"colorbar\": {\"outlinewidth\": 0, \"ticks\": \"\"}, \"colorscale\": [[0.0, \"#0d0887\"], [0.1111111111111111, \"#46039f\"], [0.2222222222222222, \"#7201a8\"], [0.3333333333333333, \"#9c179e\"], [0.4444444444444444, \"#bd3786\"], [0.5555555555555556, \"#d8576b\"], [0.6666666666666666, \"#ed7953\"], [0.7777777777777778, \"#fb9f3a\"], [0.8888888888888888, \"#fdca26\"], [1.0, \"#f0f921\"]], \"type\": \"contour\"}], \"contourcarpet\": [{\"colorbar\": {\"outlinewidth\": 0, \"ticks\": \"\"}, \"type\": \"contourcarpet\"}], \"heatmap\": [{\"colorbar\": {\"outlinewidth\": 0, \"ticks\": \"\"}, \"colorscale\": [[0.0, \"#0d0887\"], [0.1111111111111111, \"#46039f\"], [0.2222222222222222, \"#7201a8\"], [0.3333333333333333, \"#9c179e\"], [0.4444444444444444, \"#bd3786\"], [0.5555555555555556, \"#d8576b\"], [0.6666666666666666, \"#ed7953\"], [0.7777777777777778, \"#fb9f3a\"], [0.8888888888888888, \"#fdca26\"], [1.0, \"#f0f921\"]], \"type\": \"heatmap\"}], \"heatmapgl\": [{\"colorbar\": {\"outlinewidth\": 0, \"ticks\": \"\"}, \"colorscale\": [[0.0, \"#0d0887\"], [0.1111111111111111, \"#46039f\"], [0.2222222222222222, \"#7201a8\"], [0.3333333333333333, \"#9c179e\"], [0.4444444444444444, \"#bd3786\"], [0.5555555555555556, \"#d8576b\"], [0.6666666666666666, \"#ed7953\"], [0.7777777777777778, \"#fb9f3a\"], [0.8888888888888888, \"#fdca26\"], [1.0, \"#f0f921\"]], \"type\": \"heatmapgl\"}], \"histogram\": [{\"marker\": {\"colorbar\": {\"outlinewidth\": 0, \"ticks\": \"\"}}, \"type\": \"histogram\"}], \"histogram2d\": [{\"colorbar\": {\"outlinewidth\": 0, \"ticks\": \"\"}, \"colorscale\": [[0.0, \"#0d0887\"], [0.1111111111111111, \"#46039f\"], [0.2222222222222222, \"#7201a8\"], [0.3333333333333333, \"#9c179e\"], [0.4444444444444444, \"#bd3786\"], [0.5555555555555556, \"#d8576b\"], [0.6666666666666666, \"#ed7953\"], [0.7777777777777778, \"#fb9f3a\"], [0.8888888888888888, \"#fdca26\"], [1.0, \"#f0f921\"]], \"type\": \"histogram2d\"}], \"histogram2dcontour\": [{\"colorbar\": {\"outlinewidth\": 0, \"ticks\": \"\"}, \"colorscale\": [[0.0, \"#0d0887\"], [0.1111111111111111, \"#46039f\"], [0.2222222222222222, \"#7201a8\"], [0.3333333333333333, \"#9c179e\"], [0.4444444444444444, \"#bd3786\"], [0.5555555555555556, \"#d8576b\"], [0.6666666666666666, \"#ed7953\"], [0.7777777777777778, \"#fb9f3a\"], [0.8888888888888888, \"#fdca26\"], [1.0, \"#f0f921\"]], \"type\": \"histogram2dcontour\"}], \"mesh3d\": [{\"colorbar\": {\"outlinewidth\": 0, \"ticks\": \"\"}, \"type\": \"mesh3d\"}], \"parcoords\": [{\"line\": {\"colorbar\": {\"outlinewidth\": 0, \"ticks\": \"\"}}, \"type\": \"parcoords\"}], \"pie\": [{\"automargin\": true, \"type\": \"pie\"}], \"scatter\": [{\"marker\": {\"colorbar\": {\"outlinewidth\": 0, \"ticks\": \"\"}}, \"type\": \"scatter\"}], \"scatter3d\": [{\"line\": {\"colorbar\": {\"outlinewidth\": 0, \"ticks\": \"\"}}, \"marker\": {\"colorbar\": {\"outlinewidth\": 0, \"ticks\": \"\"}}, \"type\": \"scatter3d\"}], \"scattercarpet\": [{\"marker\": {\"colorbar\": {\"outlinewidth\": 0, \"ticks\": \"\"}}, \"type\": \"scattercarpet\"}], \"scattergeo\": [{\"marker\": {\"colorbar\": {\"outlinewidth\": 0, \"ticks\": \"\"}}, \"type\": \"scattergeo\"}], \"scattergl\": [{\"marker\": {\"colorbar\": {\"outlinewidth\": 0, \"ticks\": \"\"}}, \"type\": \"scattergl\"}], \"scattermapbox\": [{\"marker\": {\"colorbar\": {\"outlinewidth\": 0, \"ticks\": \"\"}}, \"type\": \"scattermapbox\"}], \"scatterpolar\": [{\"marker\": {\"colorbar\": {\"outlinewidth\": 0, \"ticks\": \"\"}}, \"type\": \"scatterpolar\"}], \"scatterpolargl\": [{\"marker\": {\"colorbar\": {\"outlinewidth\": 0, \"ticks\": \"\"}}, \"type\": \"scatterpolargl\"}], \"scatterternary\": [{\"marker\": {\"colorbar\": {\"outlinewidth\": 0, \"ticks\": \"\"}}, \"type\": \"scatterternary\"}], \"surface\": [{\"colorbar\": {\"outlinewidth\": 0, \"ticks\": \"\"}, \"colorscale\": [[0.0, \"#0d0887\"], [0.1111111111111111, \"#46039f\"], [0.2222222222222222, \"#7201a8\"], [0.3333333333333333, \"#9c179e\"], [0.4444444444444444, \"#bd3786\"], [0.5555555555555556, \"#d8576b\"], [0.6666666666666666, \"#ed7953\"], [0.7777777777777778, \"#fb9f3a\"], [0.8888888888888888, \"#fdca26\"], [1.0, \"#f0f921\"]], \"type\": \"surface\"}], \"table\": [{\"cells\": {\"fill\": {\"color\": \"#EBF0F8\"}, \"line\": {\"color\": \"white\"}}, \"header\": {\"fill\": {\"color\": \"#C8D4E3\"}, \"line\": {\"color\": \"white\"}}, \"type\": \"table\"}]}, \"layout\": {\"annotationdefaults\": {\"arrowcolor\": \"#2a3f5f\", \"arrowhead\": 0, \"arrowwidth\": 1}, \"coloraxis\": {\"colorbar\": {\"outlinewidth\": 0, \"ticks\": \"\"}}, \"colorscale\": {\"diverging\": [[0, \"#8e0152\"], [0.1, \"#c51b7d\"], [0.2, \"#de77ae\"], [0.3, \"#f1b6da\"], [0.4, \"#fde0ef\"], [0.5, \"#f7f7f7\"], [0.6, \"#e6f5d0\"], [0.7, \"#b8e186\"], [0.8, \"#7fbc41\"], [0.9, \"#4d9221\"], [1, \"#276419\"]], \"sequential\": [[0.0, \"#0d0887\"], [0.1111111111111111, \"#46039f\"], [0.2222222222222222, \"#7201a8\"], [0.3333333333333333, \"#9c179e\"], [0.4444444444444444, \"#bd3786\"], [0.5555555555555556, \"#d8576b\"], [0.6666666666666666, \"#ed7953\"], [0.7777777777777778, \"#fb9f3a\"], [0.8888888888888888, \"#fdca26\"], [1.0, \"#f0f921\"]], \"sequentialminus\": [[0.0, \"#0d0887\"], [0.1111111111111111, \"#46039f\"], [0.2222222222222222, \"#7201a8\"], [0.3333333333333333, \"#9c179e\"], [0.4444444444444444, \"#bd3786\"], [0.5555555555555556, \"#d8576b\"], [0.6666666666666666, \"#ed7953\"], [0.7777777777777778, \"#fb9f3a\"], [0.8888888888888888, \"#fdca26\"], [1.0, \"#f0f921\"]]}, \"colorway\": [\"#636efa\", \"#EF553B\", \"#00cc96\", \"#ab63fa\", \"#FFA15A\", \"#19d3f3\", \"#FF6692\", \"#B6E880\", \"#FF97FF\", \"#FECB52\"], \"font\": {\"color\": \"#2a3f5f\"}, \"geo\": {\"bgcolor\": \"white\", \"lakecolor\": \"white\", \"landcolor\": \"#E5ECF6\", \"showlakes\": true, \"showland\": true, \"subunitcolor\": \"white\"}, \"hoverlabel\": {\"align\": \"left\"}, \"hovermode\": \"closest\", \"mapbox\": {\"style\": \"light\"}, \"paper_bgcolor\": \"white\", \"plot_bgcolor\": \"#E5ECF6\", \"polar\": {\"angularaxis\": {\"gridcolor\": \"white\", \"linecolor\": \"white\", \"ticks\": \"\"}, \"bgcolor\": \"#E5ECF6\", \"radialaxis\": {\"gridcolor\": \"white\", \"linecolor\": \"white\", \"ticks\": \"\"}}, \"scene\": {\"xaxis\": {\"backgroundcolor\": \"#E5ECF6\", \"gridcolor\": \"white\", \"gridwidth\": 2, \"linecolor\": \"white\", \"showbackground\": true, \"ticks\": \"\", \"zerolinecolor\": \"white\"}, \"yaxis\": {\"backgroundcolor\": \"#E5ECF6\", \"gridcolor\": \"white\", \"gridwidth\": 2, \"linecolor\": \"white\", \"showbackground\": true, \"ticks\": \"\", \"zerolinecolor\": \"white\"}, \"zaxis\": {\"backgroundcolor\": \"#E5ECF6\", \"gridcolor\": \"white\", \"gridwidth\": 2, \"linecolor\": \"white\", \"showbackground\": true, \"ticks\": \"\", \"zerolinecolor\": \"white\"}}, \"shapedefaults\": {\"line\": {\"color\": \"#2a3f5f\"}}, \"ternary\": {\"aaxis\": {\"gridcolor\": \"white\", \"linecolor\": \"white\", \"ticks\": \"\"}, \"baxis\": {\"gridcolor\": \"white\", \"linecolor\": \"white\", \"ticks\": \"\"}, \"bgcolor\": \"#E5ECF6\", \"caxis\": {\"gridcolor\": \"white\", \"linecolor\": \"white\", \"ticks\": \"\"}}, \"title\": {\"x\": 0.05}, \"xaxis\": {\"automargin\": true, \"gridcolor\": \"white\", \"linecolor\": \"white\", \"ticks\": \"\", \"title\": {\"standoff\": 15}, \"zerolinecolor\": \"white\", \"zerolinewidth\": 2}, \"yaxis\": {\"automargin\": true, \"gridcolor\": \"white\", \"linecolor\": \"white\", \"ticks\": \"\", \"title\": {\"standoff\": 15}, \"zerolinecolor\": \"white\", \"zerolinewidth\": 2}}}, \"title\": {\"text\": \"Current Share of WorldWide COVID19 Fatalities\"}},\n",
       "                        {\"responsive\": true}\n",
       "                    ).then(function(){\n",
       "                            \n",
       "var gd = document.getElementById('278d7dbc-1a75-45e2-8c46-4399090aada9');\n",
       "var x = new MutationObserver(function (mutations, observer) {{\n",
       "        var display = window.getComputedStyle(gd).display;\n",
       "        if (!display || display === 'none') {{\n",
       "            console.log([gd, 'removed!']);\n",
       "            Plotly.purge(gd);\n",
       "            observer.disconnect();\n",
       "        }}\n",
       "}});\n",
       "\n",
       "// Listen for the removal of the full notebook cells\n",
       "var notebookContainer = gd.closest('#notebook-container');\n",
       "if (notebookContainer) {{\n",
       "    x.observe(notebookContainer, {childList: true});\n",
       "}}\n",
       "\n",
       "// Listen for the clearing of the current output cell\n",
       "var outputEl = gd.closest('.output');\n",
       "if (outputEl) {{\n",
       "    x.observe(outputEl, {childList: true});\n",
       "}}\n",
       "\n",
       "                        })\n",
       "                };\n",
       "                });\n",
       "            </script>\n",
       "        </div>"
      ]
     },
     "metadata": {},
     "output_type": "display_data"
    }
   ],
   "source": [
    "fig = px.treemap(df_tm, path = ['world', 'continent', 'Country_Region'],\\\n",
    "                values = 'Fatalities', color = 'Fatalities',\\\n",
    "                hover_data = ['Country_Region'], \\\n",
    "                color_continuous_scale = 'dense',\n",
    "                title = 'Current Share of WorldWide COVID19 Fatalities')\n",
    "\n",
    "fig.show()"
   ]
  },
  {
   "cell_type": "markdown",
   "metadata": {},
   "source": [
    "Confirmed Cases and Fatalities are cummulative sums of all the previous days. \n",
    "In order to understand the daily trend, I'll create a column for daily cases \n",
    "and deaths that will be the difference between the current value and the previous day's value."
   ]
  },
  {
   "cell_type": "code",
   "execution_count": 137,
   "metadata": {},
   "outputs": [],
   "source": [
    "def add_daily_measures(df):\n",
    "    df.loc[0, 'Daily Cases'] = df.loc[0, 'ConfirmedCases']\n",
    "    df.loc[0, 'Daily Deaths'] = df.loc[0, 'Fatalities']\n",
    "    \n",
    "    for i in range(1, len(df)):\n",
    "        df.loc[i, 'Daily Cases'] = df.loc[i, 'ConfirmedCases'] \\\n",
    "        - df.loc[i-1, 'ConfirmedCases']\n",
    "        \n",
    "        df.loc[i, 'Daily Deaths'] = df.loc[i, 'Fatalities'] \\\n",
    "        - df.loc[i-1, 'Fatalities']\n",
    "    \n",
    "    # after finishing 1 - len, make the first row as 0\n",
    "    # because we don't know the previous values\n",
    "    df.loc[0, 'Daily Cases'] = 0\n",
    "    df.loc[0, 'Daily Deaths'] = 0\n",
    "    \n",
    "    return df"
   ]
  },
  {
   "cell_type": "code",
   "execution_count": 140,
   "metadata": {},
   "outputs": [
    {
     "name": "stderr",
     "output_type": "stream",
     "text": [
      "C:\\work2\\anaconda3\\lib\\site-packages\\ipykernel_launcher.py:2: FutureWarning:\n",
      "\n",
      "Indexing with multiple keys (implicitly converted to a tuple of keys) will be deprecated, use a list instead.\n",
      "\n"
     ]
    },
    {
     "data": {
      "text/html": [
       "<div>\n",
       "<style scoped>\n",
       "    .dataframe tbody tr th:only-of-type {\n",
       "        vertical-align: middle;\n",
       "    }\n",
       "\n",
       "    .dataframe tbody tr th {\n",
       "        vertical-align: top;\n",
       "    }\n",
       "\n",
       "    .dataframe thead th {\n",
       "        text-align: right;\n",
       "    }\n",
       "</style>\n",
       "<table border=\"1\" class=\"dataframe\">\n",
       "  <thead>\n",
       "    <tr style=\"text-align: right;\">\n",
       "      <th></th>\n",
       "      <th>Date</th>\n",
       "      <th>ConfirmedCases</th>\n",
       "      <th>Fatalities</th>\n",
       "      <th>Daily Cases</th>\n",
       "      <th>Daily Deaths</th>\n",
       "      <th>Cases:7-day rolling average</th>\n",
       "      <th>Deaths:7-day rolling average</th>\n",
       "    </tr>\n",
       "  </thead>\n",
       "  <tbody>\n",
       "    <tr>\n",
       "      <th>0</th>\n",
       "      <td>2020-01-22</td>\n",
       "      <td>554.0</td>\n",
       "      <td>17.0</td>\n",
       "      <td>0.0</td>\n",
       "      <td>0.0</td>\n",
       "      <td>NaN</td>\n",
       "      <td>NaN</td>\n",
       "    </tr>\n",
       "    <tr>\n",
       "      <th>1</th>\n",
       "      <td>2020-01-23</td>\n",
       "      <td>653.0</td>\n",
       "      <td>18.0</td>\n",
       "      <td>99.0</td>\n",
       "      <td>1.0</td>\n",
       "      <td>NaN</td>\n",
       "      <td>NaN</td>\n",
       "    </tr>\n",
       "    <tr>\n",
       "      <th>2</th>\n",
       "      <td>2020-01-24</td>\n",
       "      <td>939.0</td>\n",
       "      <td>26.0</td>\n",
       "      <td>286.0</td>\n",
       "      <td>8.0</td>\n",
       "      <td>NaN</td>\n",
       "      <td>NaN</td>\n",
       "    </tr>\n",
       "    <tr>\n",
       "      <th>3</th>\n",
       "      <td>2020-01-25</td>\n",
       "      <td>1432.0</td>\n",
       "      <td>42.0</td>\n",
       "      <td>493.0</td>\n",
       "      <td>16.0</td>\n",
       "      <td>NaN</td>\n",
       "      <td>NaN</td>\n",
       "    </tr>\n",
       "    <tr>\n",
       "      <th>4</th>\n",
       "      <td>2020-01-26</td>\n",
       "      <td>2113.0</td>\n",
       "      <td>56.0</td>\n",
       "      <td>681.0</td>\n",
       "      <td>14.0</td>\n",
       "      <td>NaN</td>\n",
       "      <td>NaN</td>\n",
       "    </tr>\n",
       "    <tr>\n",
       "      <th>5</th>\n",
       "      <td>2020-01-27</td>\n",
       "      <td>2922.0</td>\n",
       "      <td>82.0</td>\n",
       "      <td>809.0</td>\n",
       "      <td>26.0</td>\n",
       "      <td>NaN</td>\n",
       "      <td>NaN</td>\n",
       "    </tr>\n",
       "    <tr>\n",
       "      <th>6</th>\n",
       "      <td>2020-01-28</td>\n",
       "      <td>5573.0</td>\n",
       "      <td>131.0</td>\n",
       "      <td>2651.0</td>\n",
       "      <td>49.0</td>\n",
       "      <td>717.0</td>\n",
       "      <td>16.285714</td>\n",
       "    </tr>\n",
       "  </tbody>\n",
       "</table>\n",
       "</div>"
      ],
      "text/plain": [
       "        Date  ConfirmedCases  Fatalities  Daily Cases  Daily Deaths  \\\n",
       "0 2020-01-22           554.0        17.0          0.0           0.0   \n",
       "1 2020-01-23           653.0        18.0         99.0           1.0   \n",
       "2 2020-01-24           939.0        26.0        286.0           8.0   \n",
       "3 2020-01-25          1432.0        42.0        493.0          16.0   \n",
       "4 2020-01-26          2113.0        56.0        681.0          14.0   \n",
       "5 2020-01-27          2922.0        82.0        809.0          26.0   \n",
       "6 2020-01-28          5573.0       131.0       2651.0          49.0   \n",
       "\n",
       "   Cases:7-day rolling average  Deaths:7-day rolling average  \n",
       "0                          NaN                           NaN  \n",
       "1                          NaN                           NaN  \n",
       "2                          NaN                           NaN  \n",
       "3                          NaN                           NaN  \n",
       "4                          NaN                           NaN  \n",
       "5                          NaN                           NaN  \n",
       "6                        717.0                     16.285714  "
      ]
     },
     "execution_count": 140,
     "metadata": {},
     "output_type": "execute_result"
    }
   ],
   "source": [
    "df_world = df_train.copy()\n",
    "df_world = df_world.groupby('Date', as_index = False)['ConfirmedCases', \\\n",
    "                            'Fatalities'].sum()\n",
    "df_world = add_daily_measures(df_world)\n",
    "df_world['Cases:7-day rolling average'] = df_world['Daily Cases'].\\\n",
    "rolling(7).mean()\n",
    "df_world['Deaths:7-day rolling average'] = df_world['Daily Deaths'].\\\n",
    "rolling(7).mean()\n",
    "df_world.iloc[0:7, :]\n"
   ]
  },
  {
   "cell_type": "code",
   "execution_count": null,
   "metadata": {},
   "outputs": [],
   "source": []
  },
  {
   "cell_type": "code",
   "execution_count": null,
   "metadata": {},
   "outputs": [],
   "source": []
  },
  {
   "cell_type": "code",
   "execution_count": null,
   "metadata": {},
   "outputs": [],
   "source": []
  },
  {
   "cell_type": "code",
   "execution_count": null,
   "metadata": {},
   "outputs": [],
   "source": []
  },
  {
   "cell_type": "code",
   "execution_count": null,
   "metadata": {},
   "outputs": [],
   "source": []
  },
  {
   "cell_type": "code",
   "execution_count": 122,
   "metadata": {},
   "outputs": [
    {
     "data": {
      "text/plain": [
       "(313, 8)"
      ]
     },
     "execution_count": 122,
     "metadata": {},
     "output_type": "execute_result"
    }
   ],
   "source": [
    "df_tm.shape"
   ]
  },
  {
   "cell_type": "code",
   "execution_count": 127,
   "metadata": {},
   "outputs": [
    {
     "data": {
      "text/html": [
       "<div>\n",
       "<style scoped>\n",
       "    .dataframe tbody tr th:only-of-type {\n",
       "        vertical-align: middle;\n",
       "    }\n",
       "\n",
       "    .dataframe tbody tr th {\n",
       "        vertical-align: top;\n",
       "    }\n",
       "\n",
       "    .dataframe thead th {\n",
       "        text-align: right;\n",
       "    }\n",
       "</style>\n",
       "<table border=\"1\" class=\"dataframe\">\n",
       "  <thead>\n",
       "    <tr style=\"text-align: right;\">\n",
       "      <th></th>\n",
       "      <th>Id</th>\n",
       "      <th>Province_State</th>\n",
       "      <th>Country_Region</th>\n",
       "      <th>Date</th>\n",
       "      <th>ConfirmedCases</th>\n",
       "      <th>Fatalities</th>\n",
       "      <th>continent</th>\n",
       "      <th>world</th>\n",
       "    </tr>\n",
       "  </thead>\n",
       "  <tbody>\n",
       "    <tr>\n",
       "      <th>114</th>\n",
       "      <td>115</td>\n",
       "      <td></td>\n",
       "      <td>Afghanistan</td>\n",
       "      <td>2020-05-15</td>\n",
       "      <td>6053.0</td>\n",
       "      <td>153.0</td>\n",
       "      <td>Afghanistan</td>\n",
       "      <td>world</td>\n",
       "    </tr>\n",
       "    <tr>\n",
       "      <th>229</th>\n",
       "      <td>230</td>\n",
       "      <td></td>\n",
       "      <td>Albania</td>\n",
       "      <td>2020-05-15</td>\n",
       "      <td>916.0</td>\n",
       "      <td>31.0</td>\n",
       "      <td>Albania</td>\n",
       "      <td>world</td>\n",
       "    </tr>\n",
       "    <tr>\n",
       "      <th>344</th>\n",
       "      <td>345</td>\n",
       "      <td></td>\n",
       "      <td>Algeria</td>\n",
       "      <td>2020-05-15</td>\n",
       "      <td>6629.0</td>\n",
       "      <td>536.0</td>\n",
       "      <td>Algeria</td>\n",
       "      <td>world</td>\n",
       "    </tr>\n",
       "    <tr>\n",
       "      <th>459</th>\n",
       "      <td>460</td>\n",
       "      <td></td>\n",
       "      <td>Andorra</td>\n",
       "      <td>2020-05-15</td>\n",
       "      <td>761.0</td>\n",
       "      <td>49.0</td>\n",
       "      <td>Andorra</td>\n",
       "      <td>world</td>\n",
       "    </tr>\n",
       "    <tr>\n",
       "      <th>574</th>\n",
       "      <td>575</td>\n",
       "      <td></td>\n",
       "      <td>Angola</td>\n",
       "      <td>2020-05-15</td>\n",
       "      <td>48.0</td>\n",
       "      <td>2.0</td>\n",
       "      <td>Angola</td>\n",
       "      <td>world</td>\n",
       "    </tr>\n",
       "  </tbody>\n",
       "</table>\n",
       "</div>"
      ],
      "text/plain": [
       "      Id Province_State Country_Region       Date  ConfirmedCases  Fatalities  \\\n",
       "114  115                   Afghanistan 2020-05-15          6053.0       153.0   \n",
       "229  230                       Albania 2020-05-15           916.0        31.0   \n",
       "344  345                       Algeria 2020-05-15          6629.0       536.0   \n",
       "459  460                       Andorra 2020-05-15           761.0        49.0   \n",
       "574  575                        Angola 2020-05-15            48.0         2.0   \n",
       "\n",
       "       continent  world  \n",
       "114  Afghanistan  world  \n",
       "229      Albania  world  \n",
       "344      Algeria  world  \n",
       "459      Andorra  world  \n",
       "574       Angola  world  "
      ]
     },
     "execution_count": 127,
     "metadata": {},
     "output_type": "execute_result"
    }
   ],
   "source": [
    "df_tm.head()"
   ]
  },
  {
   "cell_type": "code",
   "execution_count": 101,
   "metadata": {},
   "outputs": [
    {
     "data": {
      "text/html": [
       "<div>\n",
       "<style scoped>\n",
       "    .dataframe tbody tr th:only-of-type {\n",
       "        vertical-align: middle;\n",
       "    }\n",
       "\n",
       "    .dataframe tbody tr th {\n",
       "        vertical-align: top;\n",
       "    }\n",
       "\n",
       "    .dataframe thead th {\n",
       "        text-align: right;\n",
       "    }\n",
       "</style>\n",
       "<table border=\"1\" class=\"dataframe\">\n",
       "  <thead>\n",
       "    <tr style=\"text-align: right;\">\n",
       "      <th></th>\n",
       "      <th>Id</th>\n",
       "      <th>Province_State</th>\n",
       "      <th>Country_Region</th>\n",
       "      <th>Date</th>\n",
       "      <th>ConfirmedCases</th>\n",
       "      <th>Fatalities</th>\n",
       "    </tr>\n",
       "  </thead>\n",
       "  <tbody>\n",
       "  </tbody>\n",
       "</table>\n",
       "</div>"
      ],
      "text/plain": [
       "Empty DataFrame\n",
       "Columns: [Id, Province_State, Country_Region, Date, ConfirmedCases, Fatalities]\n",
       "Index: []"
      ]
     },
     "execution_count": 101,
     "metadata": {},
     "output_type": "execute_result"
    }
   ],
   "source": [
    "df_tm.loc[df_tm.Country_Region == 'Burma', :]"
   ]
  },
  {
   "cell_type": "code",
   "execution_count": 102,
   "metadata": {},
   "outputs": [
    {
     "data": {
      "text/html": [
       "<div>\n",
       "<style scoped>\n",
       "    .dataframe tbody tr th:only-of-type {\n",
       "        vertical-align: middle;\n",
       "    }\n",
       "\n",
       "    .dataframe tbody tr th {\n",
       "        vertical-align: top;\n",
       "    }\n",
       "\n",
       "    .dataframe thead th {\n",
       "        text-align: right;\n",
       "    }\n",
       "</style>\n",
       "<table border=\"1\" class=\"dataframe\">\n",
       "  <thead>\n",
       "    <tr style=\"text-align: right;\">\n",
       "      <th></th>\n",
       "      <th>Id</th>\n",
       "      <th>Province_State</th>\n",
       "      <th>Country_Region</th>\n",
       "      <th>Date</th>\n",
       "      <th>ConfirmedCases</th>\n",
       "      <th>Fatalities</th>\n",
       "    </tr>\n",
       "  </thead>\n",
       "  <tbody>\n",
       "    <tr>\n",
       "      <th>4024</th>\n",
       "      <td>4025</td>\n",
       "      <td></td>\n",
       "      <td>Myanmar</td>\n",
       "      <td>2020-05-15</td>\n",
       "      <td>182.0</td>\n",
       "      <td>6.0</td>\n",
       "    </tr>\n",
       "  </tbody>\n",
       "</table>\n",
       "</div>"
      ],
      "text/plain": [
       "        Id Province_State Country_Region       Date  ConfirmedCases  \\\n",
       "4024  4025                       Myanmar 2020-05-15           182.0   \n",
       "\n",
       "      Fatalities  \n",
       "4024         6.0  "
      ]
     },
     "execution_count": 102,
     "metadata": {},
     "output_type": "execute_result"
    }
   ],
   "source": [
    "df_tm.loc[df_tm.Country_Region == 'Myanmar', :]"
   ]
  },
  {
   "cell_type": "code",
   "execution_count": 108,
   "metadata": {},
   "outputs": [
    {
     "data": {
      "text/plain": [
       "Int64Index([10349], dtype='int64')"
      ]
     },
     "execution_count": 108,
     "metadata": {},
     "output_type": "execute_result"
    }
   ],
   "source": [
    "idx = df_tm.loc[(df_tm['Country_Region'] == 'Congo (Kinshasa)'), :].index\n",
    "idx\n"
   ]
  },
  {
   "cell_type": "code",
   "execution_count": 110,
   "metadata": {},
   "outputs": [],
   "source": [
    "df_tm.drop(index = idx, inplace =True)"
   ]
  },
  {
   "cell_type": "code",
   "execution_count": 111,
   "metadata": {},
   "outputs": [
    {
     "data": {
      "text/html": [
       "<div>\n",
       "<style scoped>\n",
       "    .dataframe tbody tr th:only-of-type {\n",
       "        vertical-align: middle;\n",
       "    }\n",
       "\n",
       "    .dataframe tbody tr th {\n",
       "        vertical-align: top;\n",
       "    }\n",
       "\n",
       "    .dataframe thead th {\n",
       "        text-align: right;\n",
       "    }\n",
       "</style>\n",
       "<table border=\"1\" class=\"dataframe\">\n",
       "  <thead>\n",
       "    <tr style=\"text-align: right;\">\n",
       "      <th></th>\n",
       "      <th>Id</th>\n",
       "      <th>Province_State</th>\n",
       "      <th>Country_Region</th>\n",
       "      <th>Date</th>\n",
       "      <th>ConfirmedCases</th>\n",
       "      <th>Fatalities</th>\n",
       "    </tr>\n",
       "  </thead>\n",
       "  <tbody>\n",
       "    <tr>\n",
       "      <th>10119</th>\n",
       "      <td>10120</td>\n",
       "      <td></td>\n",
       "      <td>Colombia</td>\n",
       "      <td>2020-05-15</td>\n",
       "      <td>14216.0</td>\n",
       "      <td>546.0</td>\n",
       "    </tr>\n",
       "    <tr>\n",
       "      <th>10234</th>\n",
       "      <td>10235</td>\n",
       "      <td></td>\n",
       "      <td>Congo</td>\n",
       "      <td>2020-05-15</td>\n",
       "      <td>391.0</td>\n",
       "      <td>15.0</td>\n",
       "    </tr>\n",
       "    <tr>\n",
       "      <th>10464</th>\n",
       "      <td>10465</td>\n",
       "      <td></td>\n",
       "      <td>Costa Rica</td>\n",
       "      <td>2020-05-15</td>\n",
       "      <td>843.0</td>\n",
       "      <td>9.0</td>\n",
       "    </tr>\n",
       "    <tr>\n",
       "      <th>10579</th>\n",
       "      <td>10580</td>\n",
       "      <td></td>\n",
       "      <td>Cote d'Ivoire</td>\n",
       "      <td>2020-05-15</td>\n",
       "      <td>2017.0</td>\n",
       "      <td>24.0</td>\n",
       "    </tr>\n",
       "    <tr>\n",
       "      <th>10694</th>\n",
       "      <td>10695</td>\n",
       "      <td></td>\n",
       "      <td>Croatia</td>\n",
       "      <td>2020-05-15</td>\n",
       "      <td>2222.0</td>\n",
       "      <td>95.0</td>\n",
       "    </tr>\n",
       "    <tr>\n",
       "      <th>10809</th>\n",
       "      <td>10810</td>\n",
       "      <td></td>\n",
       "      <td>Cuba</td>\n",
       "      <td>2020-05-15</td>\n",
       "      <td>1840.0</td>\n",
       "      <td>79.0</td>\n",
       "    </tr>\n",
       "    <tr>\n",
       "      <th>10924</th>\n",
       "      <td>10925</td>\n",
       "      <td></td>\n",
       "      <td>Cyprus</td>\n",
       "      <td>2020-05-15</td>\n",
       "      <td>910.0</td>\n",
       "      <td>17.0</td>\n",
       "    </tr>\n",
       "    <tr>\n",
       "      <th>11039</th>\n",
       "      <td>11040</td>\n",
       "      <td></td>\n",
       "      <td>Czechia</td>\n",
       "      <td>2020-05-15</td>\n",
       "      <td>8406.0</td>\n",
       "      <td>295.0</td>\n",
       "    </tr>\n",
       "  </tbody>\n",
       "</table>\n",
       "</div>"
      ],
      "text/plain": [
       "          Id Province_State Country_Region       Date  ConfirmedCases  \\\n",
       "10119  10120                      Colombia 2020-05-15         14216.0   \n",
       "10234  10235                         Congo 2020-05-15           391.0   \n",
       "10464  10465                    Costa Rica 2020-05-15           843.0   \n",
       "10579  10580                 Cote d'Ivoire 2020-05-15          2017.0   \n",
       "10694  10695                       Croatia 2020-05-15          2222.0   \n",
       "10809  10810                          Cuba 2020-05-15          1840.0   \n",
       "10924  10925                        Cyprus 2020-05-15           910.0   \n",
       "11039  11040                       Czechia 2020-05-15          8406.0   \n",
       "\n",
       "       Fatalities  \n",
       "10119       546.0  \n",
       "10234        15.0  \n",
       "10464         9.0  \n",
       "10579        24.0  \n",
       "10694        95.0  \n",
       "10809        79.0  \n",
       "10924        17.0  \n",
       "11039       295.0  "
      ]
     },
     "execution_count": 111,
     "metadata": {},
     "output_type": "execute_result"
    }
   ],
   "source": [
    "df_tm.iloc[87:95, :]"
   ]
  },
  {
   "cell_type": "code",
   "execution_count": null,
   "metadata": {},
   "outputs": [],
   "source": []
  },
  {
   "cell_type": "code",
   "execution_count": null,
   "metadata": {},
   "outputs": [],
   "source": []
  },
  {
   "cell_type": "code",
   "execution_count": null,
   "metadata": {},
   "outputs": [],
   "source": []
  },
  {
   "cell_type": "code",
   "execution_count": 44,
   "metadata": {},
   "outputs": [],
   "source": [
    "import pycountry"
   ]
  },
  {
   "cell_type": "code",
   "execution_count": 83,
   "metadata": {},
   "outputs": [
    {
     "data": {
      "text/plain": [
       "'AF'"
      ]
     },
     "execution_count": 83,
     "metadata": {},
     "output_type": "execute_result"
    }
   ],
   "source": [
    "country_obj = pycountry.countries.get(name = 'Congo')\n",
    "continent_code = pc.country_alpha2_to_continent_code(country_obj.alpha_2)\n",
    "continent_code"
   ]
  },
  {
   "cell_type": "code",
   "execution_count": null,
   "metadata": {},
   "outputs": [],
   "source": []
  }
 ],
 "metadata": {
  "kernelspec": {
   "display_name": "Python 3",
   "language": "python",
   "name": "python3"
  },
  "language_info": {
   "codemirror_mode": {
    "name": "ipython",
    "version": 3
   },
   "file_extension": ".py",
   "mimetype": "text/x-python",
   "name": "python",
   "nbconvert_exporter": "python",
   "pygments_lexer": "ipython3",
   "version": "3.7.7"
  }
 },
 "nbformat": 4,
 "nbformat_minor": 4
}
