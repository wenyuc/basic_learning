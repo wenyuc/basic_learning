{
 "cells": [
  {
   "cell_type": "markdown",
   "metadata": {},
   "source": [
    "### numpy random data generation\n",
    "\n",
    "#### numpy.random.rand(d0,d1,...,dn) 用来生成d0 x d1 x ... x dn 维的数组，数组的值在 \\[0,1)之间。"
   ]
  },
  {
   "cell_type": "code",
   "execution_count": 1,
   "metadata": {},
   "outputs": [
    {
     "data": {
      "text/plain": [
       "array([[[0.37514003, 0.44918156],\n",
       "        [0.01359033, 0.72885865]],\n",
       "\n",
       "       [[0.81662864, 0.56920411],\n",
       "        [0.7628507 , 0.61735573]],\n",
       "\n",
       "       [[0.98659225, 0.17932683],\n",
       "        [0.91797063, 0.37268438]]])"
      ]
     },
     "execution_count": 1,
     "metadata": {},
     "output_type": "execute_result"
    }
   ],
   "source": [
    "import numpy as np\n",
    "\n",
    "np.random.rand(3,2,2)"
   ]
  },
  {
   "cell_type": "markdown",
   "metadata": {},
   "source": [
    "#### numpy.random.randn(d0, d1, ..., dn) 用来生成d0 x d1 x ... x dn 维的数组，数组的值服从$N(0，1)$ 的标准正态分布"
   ]
  },
  {
   "cell_type": "code",
   "execution_count": 2,
   "metadata": {},
   "outputs": [
    {
     "data": {
      "text/plain": [
       "array([[-0.93530366,  0.98279639],\n",
       "       [-1.93790391, -0.99209213],\n",
       "       [-1.05544688,  0.7553725 ]])"
      ]
     },
     "execution_count": 2,
     "metadata": {},
     "output_type": "execute_result"
    }
   ],
   "source": [
    "np.random.randn(3,2)"
   ]
  },
  {
   "cell_type": "markdown",
   "metadata": {},
   "source": [
    "如果需要服从$N(\\mu,\\sigma^2)$ 的正态分布，只需在randn上每个生成的值x上做变换 $\\sigma * x + u$ 即可。"
   ]
  },
  {
   "cell_type": "code",
   "execution_count": 4,
   "metadata": {},
   "outputs": [
    {
     "data": {
      "text/plain": [
       "array([[ 2.50906106, -3.17992478],\n",
       "       [ 1.65583367,  1.10692727],\n",
       "       [ 0.19304394,  0.67306892]])"
      ]
     },
     "execution_count": 4,
     "metadata": {},
     "output_type": "execute_result"
    }
   ],
   "source": [
    "# N(1,4) 的抽样数据\n",
    "2 * np.random.randn(3,2) + 1"
   ]
  },
  {
   "cell_type": "markdown",
   "metadata": {},
   "source": [
    "#### randint(low\\[,high,size]) 生成随机的大小为size的数据，size可以为整数，为矩阵维数，或者张量的维数。值位于半开区间[low, high)"
   ]
  },
  {
   "cell_type": "code",
   "execution_count": 6,
   "metadata": {},
   "outputs": [
    {
     "data": {
      "text/plain": [
       "array([[0, 2],\n",
       "       [0, 1],\n",
       "       [2, 0]])"
      ]
     },
     "execution_count": 6,
     "metadata": {},
     "output_type": "execute_result"
    }
   ],
   "source": [
    "# 维数为3x2的数据，取值范围为最大值为3的整数\n",
    "np.random.randint(3, size=(3,2))"
   ]
  },
  {
   "cell_type": "code",
   "execution_count": 8,
   "metadata": {},
   "outputs": [
    {
     "data": {
      "text/plain": [
       "array([[4, 3],\n",
       "       [5, 3]])"
      ]
     },
     "execution_count": 8,
     "metadata": {},
     "output_type": "execute_result"
    }
   ],
   "source": [
    "# data range [3,6), dimension 2x2\n",
    "np.random.randint(3,6, size=(2,2))"
   ]
  },
  {
   "cell_type": "markdown",
   "metadata": {},
   "source": [
    "#### random_integers(low\\[, high, size]) 和randint()类似，区别在于取值范围是闭区间[low, high]"
   ]
  },
  {
   "cell_type": "code",
   "execution_count": 9,
   "metadata": {},
   "outputs": [
    {
     "name": "stderr",
     "output_type": "stream",
     "text": [
      "<ipython-input-9-2900a2cdcc5d>:1: DeprecationWarning: This function is deprecated. Please call randint(3, 6 + 1) instead\n",
      "  np.random.random_integers(3,6,size=(2,2))\n"
     ]
    },
    {
     "data": {
      "text/plain": [
       "array([[6, 5],\n",
       "       [5, 5]])"
      ]
     },
     "execution_count": 9,
     "metadata": {},
     "output_type": "execute_result"
    }
   ],
   "source": [
    "np.random.random_integers(3,6,size=(2,2))"
   ]
  },
  {
   "cell_type": "markdown",
   "metadata": {},
   "source": [
    "#### random_sample([size]), 返回随机的浮点数，在半开区间\\[0.0, 1.0)。如果是其他区间[a,b)， 可以加上变换$(b-a) * random\\_sample([2])+ a$"
   ]
  },
  {
   "cell_type": "code",
   "execution_count": 11,
   "metadata": {},
   "outputs": [
    {
     "data": {
      "text/plain": [
       "array([[3.22117379, 3.30172112],\n",
       "       [2.94442084, 2.15774225]])"
      ]
     },
     "execution_count": 11,
     "metadata": {},
     "output_type": "execute_result"
    }
   ],
   "source": [
    "(5-2) * np.random.random_sample([2,2]) + 2"
   ]
  },
  {
   "cell_type": "markdown",
   "metadata": {},
   "source": [
    "### scikit-learn 随机数生成\n",
    "\n",
    "都在datasets类中，和numpy比起来，可以用来生成适合特定机器学习模型的数据。常见的有：\n",
    "- make_regression 生成回归模型的数据；\n",
    "- make_hastie_10_2, make_classification, or make_multilabel_classification 生成分类模型数据\n",
    "- make_blobs生成聚类模型数据；\n",
    "- make_gaussian_quantiles生成分组多维正态分布的数据"
   ]
  },
  {
   "cell_type": "code",
   "execution_count": null,
   "metadata": {},
   "outputs": [],
   "source": []
  }
 ],
 "metadata": {
  "kernelspec": {
   "display_name": "Python 3",
   "language": "python",
   "name": "python3"
  },
  "language_info": {
   "codemirror_mode": {
    "name": "ipython",
    "version": 3
   },
   "file_extension": ".py",
   "mimetype": "text/x-python",
   "name": "python",
   "nbconvert_exporter": "python",
   "pygments_lexer": "ipython3",
   "version": "3.8.5"
  },
  "toc": {
   "base_numbering": 1,
   "nav_menu": {},
   "number_sections": true,
   "sideBar": true,
   "skip_h1_title": false,
   "title_cell": "Table of Contents",
   "title_sidebar": "Contents",
   "toc_cell": false,
   "toc_position": {},
   "toc_section_display": true,
   "toc_window_display": true
  }
 },
 "nbformat": 4,
 "nbformat_minor": 4
}
