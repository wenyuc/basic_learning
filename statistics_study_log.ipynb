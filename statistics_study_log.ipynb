{
 "cells": [
  {
   "cell_type": "markdown",
   "metadata": {},
   "source": [
    "Write H0 and Ha Hypothesis:\n",
    "https://www.youtube.com/watch?v=_Qlxt0HmuOo&t=3s&pbjreload=101\n",
    "\n",
    "Hypothesis Testing for Means (Large Samples), part1\n",
    "https://www.youtube.com/watch?v=80YzzIm8NK8\n",
    "\n"
   ]
  },
  {
   "cell_type": "markdown",
   "metadata": {},
   "source": [
    "Hypothesis Testing Problems Z test & T Statistics One & Two tailed Tests\n",
    "https://www.youtube.com/watch?v=zJ8e_wAWUzE\n",
    "1. H0 = 80, Ha <> 80\n",
    "the Z value that corresponds to a 95% confidence level is 1.96\n",
    "\n",
    "The shaded area is the rejection region. \n",
    "\n",
    "The sample mean is 78. x_bar = 78\n",
    "hypothesised mean u0 = 80\n",
    "the sample standard deviation is 2.5. s = 2.5\n",
    "sample size is 40. n = 40\n",
    "\n",
    "z = x_bar - u0 (hypothesised mean) / (s / squart(n))\n",
    "z around equals to -5.06\n",
    "\n",
    "far right of -1.96. It's in the shaded area, so we could reject the H0\n",
    "\n",
    "2. H0: u larger than or equal to 2; ha: u less than 2\n",
    "n = 10, x_bar = 1.8, s = 0.15, u0=2\n",
    "\n",
    "if you don't know the population standard deviation AND the size is less than 30,\n",
    "you should use t-test opposed to the z-test. \n",
    "\n",
    "But first, we need to determine the T value that corresponds to our critical value.\n",
    "\n",
    "Students T distribution table\n",
    "\"to be study\"\n",
    "\n",
    "degree_of_freedom = n - 1 = 10 - 1 =9\n",
    "\n",
    "alpha = 0.01 map to T_value = 2.8214\n",
    "\n",
    "t = x_bar - u0 (hypothesised mean) / (s / squart(n))\n",
    "t = -4.22\n",
    "it's in the far left of -2.8214, in the rejection region. \n",
    "We should reject the H0"
   ]
  },
  {
   "cell_type": "markdown",
   "metadata": {},
   "source": [
    "P-Value Method For Hypothesis Testing\n",
    "https://www.youtube.com/watch?v=8Aw45HN5lnA\n",
    "\n",
    "1. \n",
    "H0: u0 = 168\n",
    "Ha: u0 <> 168\n",
    "\n",
    "n=36\n",
    "x_bar = 169.6\n",
    "s = 3.9\n",
    "\n",
    "C= 0.95, \n",
    "alpha = 1-C = 0.05\n",
    "\n",
    "if p_value < alpha then reject H0\n",
    "if p_vale > or equals to alpha  then fail to reject H0\n",
    "\n",
    "\"z-score table\" ???\n",
    "\n",
    "0.975 -> 1.9 + 0.06 = 1.96\n",
    "\n",
    "z = x_bar - u0 (hypothesised mean) / (s / squart(n))\n",
    "z = 2.31\n",
    "right of the critical value (1.96) , in the rejection region, reject H0\n",
    "\n",
    "--- p_value method in below---\n",
    "\n",
    "to put the calculated z value on the normal distribution. \n",
    "then to determine the area of the shaded region that total\n",
    "area the left side and the right side and that's going to \n",
    "correspond to our **p_value**. \n",
    "And then to compare it with alpha to see if we should reject\n",
    "or accept H0. \n",
    "the same \"z-score table\"??\n",
    "z=2.31 correspond to area 0.98956\n",
    "the area right of 2.31 = 1-0.98956 = 0.01044\n",
    "the area left of 2.31 also = 0.01044\n",
    "the region of not shaded = 0.97912\n",
    "\n",
    "the p_value = the left area + the right area = 0.02088\n",
    "\n",
    "p_value < alpha => reject H0\n",
    "\n",
    "2.\n",
    "H0: u equals to or larger than 5\n",
    "Ha: u<5\n",
    "\n",
    "n=40\n",
    "x_bar=4.8\n",
    "s = 0.50\n",
    "u0 = 5\n",
    "alpha = 0.02 => C=0.98\n",
    "\n",
    "z = x_bar - u0 (hypothesised mean) / (s / squart(n))\n",
    "z around equals to -2.53\n",
    "corresponds to 0.00570\n",
    "p_value = 0.00570 less than 0.02, reject H0\n"
   ]
  },
  {
   "cell_type": "markdown",
   "metadata": {},
   "source": [
    "Hypothesis Testing - Difference of Two Means - Student's -Distribution & Normal Distribution\n",
    "https://www.youtube.com/watch?v=UcZwyzwWU7o\n"
   ]
  },
  {
   "cell_type": "markdown",
   "metadata": {},
   "source": [
    "Confidence - Level of Significance - One Tail Test   - Two Tail Test  Table\n",
    "0.90           0.10                    1.28             +-1.645\n",
    "0.95           0.05                    1.645            +-1.96\n",
    "0.98           0.02                    2.05             +-2.33\n",
    "0.99           0.01                    2.33             +-2.575\n"
   ]
  },
  {
   "cell_type": "markdown",
   "metadata": {},
   "source": [
    "Calculate the P-Value in Statistics - Formula to Find the P-Value in Hypothesis Testing\n",
    "https://www.youtube.com/watch?v=KLnGOL_AUgA&t=60s\n",
    "P-Value: Probability of obtaining a sample \"more extreme\" than the ones observed in your data,\n",
    "assuming H0 is true.\n"
   ]
  },
  {
   "cell_type": "markdown",
   "metadata": {},
   "source": [
    "\"How to find the z-score given the confidence level of a normal distribution\""
   ]
  }
 ],
 "metadata": {
  "kernelspec": {
   "display_name": "Python 3",
   "language": "python",
   "name": "python3"
  },
  "language_info": {
   "codemirror_mode": {
    "name": "ipython",
    "version": 3
   },
   "file_extension": ".py",
   "mimetype": "text/x-python",
   "name": "python",
   "nbconvert_exporter": "python",
   "pygments_lexer": "ipython3",
   "version": "3.7.7"
  },
  "toc": {
   "base_numbering": 1,
   "nav_menu": {},
   "number_sections": true,
   "sideBar": true,
   "skip_h1_title": false,
   "title_cell": "Table of Contents",
   "title_sidebar": "Contents",
   "toc_cell": false,
   "toc_position": {},
   "toc_section_display": true,
   "toc_window_display": false
  }
 },
 "nbformat": 4,
 "nbformat_minor": 4
}
