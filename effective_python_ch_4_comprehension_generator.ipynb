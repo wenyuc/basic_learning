{
 "cells": [
  {
   "cell_type": "code",
   "execution_count": 20,
   "metadata": {},
   "outputs": [],
   "source": [
    "from IPython.core.interactiveshell import InteractiveShell\n",
    "InteractiveShell.ast_node_interactivity = \"all\""
   ]
  },
  {
   "cell_type": "markdown",
   "metadata": {},
   "source": [
    "### Item 27 Use Comprehension Instead of map and filter"
   ]
  },
  {
   "cell_type": "code",
   "execution_count": 2,
   "metadata": {},
   "outputs": [
    {
     "data": {
      "text/plain": [
       "[1, 4, 9, 16, 25, 36, 49, 64, 81]"
      ]
     },
     "execution_count": 2,
     "metadata": {},
     "output_type": "execute_result"
    }
   ],
   "source": [
    "a = [1,2,3,4,5,6,7,8,9]\n",
    "squares = []\n",
    "for x in a:\n",
    "    squares.append(x**2)\n",
    "squares"
   ]
  },
  {
   "cell_type": "code",
   "execution_count": 3,
   "metadata": {},
   "outputs": [
    {
     "data": {
      "text/plain": [
       "[1, 4, 9, 16, 25, 36, 49, 64, 81]"
      ]
     },
     "execution_count": 3,
     "metadata": {},
     "output_type": "execute_result"
    }
   ],
   "source": [
    "squares = [x ** 2 for x in a]\n",
    "squares"
   ]
  },
  {
   "cell_type": "code",
   "execution_count": 9,
   "metadata": {},
   "outputs": [
    {
     "name": "stdout",
     "output_type": "stream",
     "text": [
      "[1, 4, 9, 16, 25, 36, 49, 64, 81]\n"
     ]
    }
   ],
   "source": [
    "# the built-in map function requires the creation of a lambda function for the computation, which is visually noisy.\n",
    "\n",
    "squares = map(lambda x: x ** 2, a)\n",
    "print(list(squares))"
   ]
  },
  {
   "cell_type": "code",
   "execution_count": 6,
   "metadata": {},
   "outputs": [
    {
     "data": {
      "text/plain": [
       "[4, 16, 36, 64]"
      ]
     },
     "execution_count": 6,
     "metadata": {},
     "output_type": "execute_result"
    }
   ],
   "source": [
    "# filter by comprehension\n",
    "even_squares = [x ** 2 for x in a if x % 2 == 0]\n",
    "even_squares"
   ]
  },
  {
   "cell_type": "code",
   "execution_count": 8,
   "metadata": {},
   "outputs": [],
   "source": [
    "# the built-in filter function is much harder to read.\n",
    "alt = map(lambda x: x ** 2, filter(lambda x: x % 2 == 0, a))\n",
    "assert even_squares == list(alt)"
   ]
  },
  {
   "cell_type": "code",
   "execution_count": 10,
   "metadata": {},
   "outputs": [
    {
     "data": {
      "text/plain": [
       "{2: 4, 4: 16, 6: 36, 8: 64}"
      ]
     },
     "execution_count": 10,
     "metadata": {},
     "output_type": "execute_result"
    },
    {
     "data": {
      "text/plain": [
       "{27, 216, 729}"
      ]
     },
     "execution_count": 10,
     "metadata": {},
     "output_type": "execute_result"
    }
   ],
   "source": [
    "even_squares_dict = {x: x ** 2 for x in a if x % 2 == 0}\n",
    "threes_cubed_set = {x ** 3 for x in a if x % 3 == 0}\n",
    "even_squares_dict\n",
    "threes_cubed_set"
   ]
  },
  {
   "cell_type": "code",
   "execution_count": 13,
   "metadata": {},
   "outputs": [
    {
     "name": "stdout",
     "output_type": "stream",
     "text": [
      "{2: 4, 4: 16, 6: 36, 8: 64}\n",
      "{216, 729, 27}\n"
     ]
    }
   ],
   "source": [
    "alt_dict = dict(map(lambda x: (x, x ** 2),\n",
    "                   filter(lambda x: x % 2 == 0, a)))\n",
    "print(alt_dict)\n",
    "\n",
    "alt_set = set(map(lambda x: x ** 3,\n",
    "                  filter(lambda x: x % 3 == 0, a)))\n",
    "print(alt_set)"
   ]
  },
  {
   "cell_type": "markdown",
   "metadata": {},
   "source": [
    "**Things to remember**\n",
    "\n",
    "- *List Comprehensions* are clearer than the *map* and *filter* built-in functions because they don't require *lambda* expressions.\n",
    "\n",
    "- *List Comprehensions* allow you to easily skip items from the input list, a behavior that map doesn't support without help from *filter*.\n"
   ]
  },
  {
   "cell_type": "markdown",
   "metadata": {},
   "source": [
    "### Item 28 Avoid More than **Two** Control subexpressions in comprehensions"
   ]
  },
  {
   "cell_type": "code",
   "execution_count": 14,
   "metadata": {},
   "outputs": [
    {
     "data": {
      "text/plain": [
       "[1, 2, 3, 4, 5, 6, 7, 8, 9]"
      ]
     },
     "execution_count": 14,
     "metadata": {},
     "output_type": "execute_result"
    }
   ],
   "source": [
    "# a list comprehensions with two for subexpressions\n",
    "matrix = [[1,2,3], [4,5,6], [7,8,9]]\n",
    "flat = [x for row in matrix for x in row]\n",
    "flat"
   ]
  },
  {
   "cell_type": "code",
   "execution_count": 15,
   "metadata": {},
   "outputs": [
    {
     "data": {
      "text/plain": [
       "[[1, 4, 9], [16, 25, 36], [49, 64, 81]]"
      ]
     },
     "execution_count": 15,
     "metadata": {},
     "output_type": "execute_result"
    }
   ],
   "source": [
    "squared = [[x ** 2 for x in row] for row in matrix]\n",
    "squared"
   ]
  },
  {
   "cell_type": "code",
   "execution_count": 16,
   "metadata": {},
   "outputs": [
    {
     "data": {
      "text/plain": [
       "[1, 2, 3, 4, 5, 6, 7, 8, 9, 10, 11, 12, 13, 14, 15, 16, 17, 18]"
      ]
     },
     "execution_count": 16,
     "metadata": {},
     "output_type": "execute_result"
    }
   ],
   "source": [
    "my_lists = [\n",
    "    [[1,2,3], [4,5,6]],\n",
    "    [[7,8,9], [10,11,12]],\n",
    "    [[13,14,15], [16,17,18]],\n",
    "]\n",
    "\n",
    "flat = [x for sublist1 in my_lists\n",
    "       for sublist2 in sublist1\n",
    "       for x in sublist2]\n",
    "flat"
   ]
  },
  {
   "cell_type": "code",
   "execution_count": 18,
   "metadata": {},
   "outputs": [
    {
     "data": {
      "text/plain": [
       "[[1, 2, 3], [4, 5, 6], [7, 8, 9], [10, 11, 12], [13, 14, 15], [16, 17, 18]]"
      ]
     },
     "execution_count": 18,
     "metadata": {},
     "output_type": "execute_result"
    }
   ],
   "source": [
    "flat = []\n",
    "for sublist1 in my_lists:\n",
    "    for sublist2 in sublist1:\n",
    "        flat.extend(sublist2)    # not append()\n",
    "flat"
   ]
  },
  {
   "cell_type": "code",
   "execution_count": 20,
   "metadata": {},
   "outputs": [
    {
     "data": {
      "text/plain": [
       "[36, 64]"
      ]
     },
     "execution_count": 20,
     "metadata": {},
     "output_type": "execute_result"
    },
    {
     "data": {
      "text/plain": [
       "[216, 729]"
      ]
     },
     "execution_count": 20,
     "metadata": {},
     "output_type": "execute_result"
    }
   ],
   "source": [
    "# Multiple conditions at the same loop level have an implicit and expression\n",
    "a = [1,2,3,4,5,6,7,8,9]\n",
    "b = [x ** 2 for x in a if x > 4 if x % 2 == 0]\n",
    "c = [x ** 3 for x in a if x > 4 if x % 3 == 0]\n",
    "b\n",
    "c "
   ]
  },
  {
   "cell_type": "code",
   "execution_count": 21,
   "metadata": {},
   "outputs": [
    {
     "data": {
      "text/plain": [
       "[[6], [9]]"
      ]
     },
     "execution_count": 21,
     "metadata": {},
     "output_type": "execute_result"
    }
   ],
   "source": [
    "# Conditions can be specified at each level of looping after the for subexpression\n",
    "matrix = [[1,2,3], [4,5,6], [7,8,9]]\n",
    "filtered = [[x for x in row if x % 3 == 0]\n",
    "           for row in matrix if sum(row) >= 10]\n",
    "filtered"
   ]
  },
  {
   "cell_type": "markdown",
   "metadata": {},
   "source": [
    "### Item 29 Avoid Repeated Work in Comprehensions by Using Assignment Expressions\n",
    "\n",
    "A common pattern with comprehensions—including list, dict, and set variants—is the need to reference the same computation in multiple places."
   ]
  },
  {
   "cell_type": "code",
   "execution_count": 6,
   "metadata": {},
   "outputs": [
    {
     "data": {
      "text/plain": [
       "{'screws': 4, 'wingnuts': 1}"
      ]
     },
     "execution_count": 6,
     "metadata": {},
     "output_type": "execute_result"
    }
   ],
   "source": [
    "stock = {\n",
    "    'nails': 125,\n",
    "    'screws': 35,\n",
    "    'wingnuts': 8,\n",
    "    'washers': 24,\n",
    "}\n",
    "\n",
    "order = ['screws', 'wingnuts', 'clips']\n",
    "\n",
    "def get_butches(count, size):\n",
    "    return count // size\n",
    "\n",
    "result = {}\n",
    "\n",
    "for name in order:\n",
    "    count = stock.get(name, 0)\n",
    "    batches = get_butches(count, 8)\n",
    "    \n",
    "    if batches:\n",
    "        result[name] = batches\n",
    "result"
   ]
  },
  {
   "cell_type": "code",
   "execution_count": 10,
   "metadata": {},
   "outputs": [
    {
     "data": {
      "text/plain": [
       "{'screws': 4, 'wingnuts': 1}"
      ]
     },
     "execution_count": 10,
     "metadata": {},
     "output_type": "execute_result"
    }
   ],
   "source": [
    "# use dict comprehensions instead of loop\n",
    "stock = {\n",
    "    'nails': 125,\n",
    "    'screws': 35,\n",
    "    'wingnuts': 8,\n",
    "    'washers': 24,\n",
    "}\n",
    "\n",
    "order = ['screws', 'wingnuts', 'clips']\n",
    "\n",
    "def get_butches(count, size):\n",
    "    return count // size\n",
    "\n",
    "result = {name: get_butches(stock.get(name,0), 8)\n",
    "         for name in order\n",
    "         if get_butches(stock.get(name, 0),8)}\n",
    "result"
   ]
  },
  {
   "cell_type": "code",
   "execution_count": 12,
   "metadata": {},
   "outputs": [
    {
     "data": {
      "text/plain": [
       "{'screws': 4, 'wingnuts': 1}"
      ]
     },
     "execution_count": 12,
     "metadata": {},
     "output_type": "execute_result"
    }
   ],
   "source": [
    "# the problem with it is that the get_butches(stock.get(name, 0), 8) expression is repeated\n",
    "# An easy solution to these problems is to use the walrus operator (:=), which was introduced in Python 3.8, to form an assignment expression\n",
    "# as part of the comprehension\n",
    "\n",
    "stock = {\n",
    "    'nails': 125,\n",
    "    'screws': 35,\n",
    "    'wingnuts': 8,\n",
    "    'washers': 24,\n",
    "}\n",
    "\n",
    "order = ['screws', 'wingnuts', 'clips']\n",
    "\n",
    "def get_batches(count, size):\n",
    "    return count // size\n",
    "\n",
    "result = {name: batches for name in order\n",
    "         if (batches := get_batches(stock.get(name,0),8))}\n",
    "\n",
    "result"
   ]
  },
  {
   "cell_type": "code",
   "execution_count": 15,
   "metadata": {},
   "outputs": [
    {
     "data": {
      "text/plain": [
       "{'nails': 12, 'screws': 3, 'washers': 2}"
      ]
     },
     "execution_count": 15,
     "metadata": {},
     "output_type": "execute_result"
    }
   ],
   "source": [
    "result = {name: tenth for name, count in stock.items()\n",
    "         if (tenth := count // 10)> 0}\n",
    "result"
   ]
  },
  {
   "cell_type": "code",
   "execution_count": 16,
   "metadata": {},
   "outputs": [
    {
     "name": "stdout",
     "output_type": "stream",
     "text": [
      "Last item of [62, 17, 4, 12] is 12\n"
     ]
    }
   ],
   "source": [
    "# If a comprehension uses the walrus operator in the value part of the comprehension and doesn’t have a condition, \n",
    "# it’ll leak the loop variable into the containing scope\n",
    "half = [(last := count // 2) for count in stock.values()]\n",
    "print(f'Last item of {half} is {last}')"
   ]
  },
  {
   "cell_type": "code",
   "execution_count": 18,
   "metadata": {},
   "outputs": [
    {
     "name": "stdout",
     "output_type": "stream",
     "text": [
      "Last item of [125, 35, 8, 24] is 24\n"
     ]
    }
   ],
   "source": [
    "# same as a normal for loop \n",
    "for count in stock.values():    # leaks loop variable\n",
    "    pass\n",
    "\n",
    "print(f'Last item of {list(stock.values())} is {count}')\n"
   ]
  },
  {
   "cell_type": "code",
   "execution_count": 22,
   "metadata": {},
   "outputs": [
    {
     "name": "stdout",
     "output_type": "stream",
     "text": [
      "[62, 17, 4, 12]\n"
     ]
    },
    {
     "ename": "NameError",
     "evalue": "name 'count2' is not defined",
     "output_type": "error",
     "traceback": [
      "\u001b[1;31m---------------------------------------------------------------------------\u001b[0m",
      "\u001b[1;31mNameError\u001b[0m                                 Traceback (most recent call last)",
      "\u001b[1;32m<ipython-input-22-ce6f95f6b77a>\u001b[0m in \u001b[0;36m<module>\u001b[1;34m\u001b[0m\n\u001b[0;32m      2\u001b[0m \u001b[0mhalf\u001b[0m \u001b[1;33m=\u001b[0m \u001b[1;33m[\u001b[0m\u001b[0mcount2\u001b[0m \u001b[1;33m//\u001b[0m \u001b[1;36m2\u001b[0m \u001b[1;32mfor\u001b[0m \u001b[0mcount2\u001b[0m \u001b[1;32min\u001b[0m \u001b[0mstock\u001b[0m\u001b[1;33m.\u001b[0m\u001b[0mvalues\u001b[0m\u001b[1;33m(\u001b[0m\u001b[1;33m)\u001b[0m\u001b[1;33m]\u001b[0m\u001b[1;33m\u001b[0m\u001b[1;33m\u001b[0m\u001b[0m\n\u001b[0;32m      3\u001b[0m \u001b[0mprint\u001b[0m\u001b[1;33m(\u001b[0m\u001b[0mhalf\u001b[0m\u001b[1;33m)\u001b[0m\u001b[1;33m\u001b[0m\u001b[1;33m\u001b[0m\u001b[0m\n\u001b[1;32m----> 4\u001b[1;33m \u001b[0mprint\u001b[0m\u001b[1;33m(\u001b[0m\u001b[0mcount2\u001b[0m\u001b[1;33m)\u001b[0m\u001b[1;33m\u001b[0m\u001b[1;33m\u001b[0m\u001b[0m\n\u001b[0m",
      "\u001b[1;31mNameError\u001b[0m: name 'count2' is not defined"
     ]
    }
   ],
   "source": [
    "# However, similar leakage doesn't happen for the loop variables from comprehensions\n",
    "half = [count2 // 2 for count2 in stock.values()]\n",
    "print(half)\n",
    "print(count2)"
   ]
  },
  {
   "cell_type": "markdown",
   "metadata": {},
   "source": [
    "**THings to remember**\n",
    "\n",
    "- It’s better not to leak loop variables, so I recommend using assignment\n",
    "expressions only in the condition part of a comprehension."
   ]
  },
  {
   "cell_type": "code",
   "execution_count": 25,
   "metadata": {},
   "outputs": [
    {
     "data": {
      "text/plain": [
       "('screws', 4)"
      ]
     },
     "execution_count": 25,
     "metadata": {},
     "output_type": "execute_result"
    },
    {
     "data": {
      "text/plain": [
       "('wingnuts', 1)"
      ]
     },
     "execution_count": 25,
     "metadata": {},
     "output_type": "execute_result"
    },
    {
     "ename": "StopIteration",
     "evalue": "",
     "output_type": "error",
     "traceback": [
      "\u001b[1;31m---------------------------------------------------------------------------\u001b[0m",
      "\u001b[1;31mStopIteration\u001b[0m                             Traceback (most recent call last)",
      "\u001b[1;32m<ipython-input-25-52a56d4dd716>\u001b[0m in \u001b[0;36m<module>\u001b[1;34m\u001b[0m\n\u001b[0;32m     16\u001b[0m \u001b[0mnext\u001b[0m\u001b[1;33m(\u001b[0m\u001b[0mfound\u001b[0m\u001b[1;33m)\u001b[0m\u001b[1;33m\u001b[0m\u001b[1;33m\u001b[0m\u001b[0m\n\u001b[0;32m     17\u001b[0m \u001b[0mnext\u001b[0m\u001b[1;33m(\u001b[0m\u001b[0mfound\u001b[0m\u001b[1;33m)\u001b[0m\u001b[1;33m\u001b[0m\u001b[1;33m\u001b[0m\u001b[0m\n\u001b[1;32m---> 18\u001b[1;33m \u001b[0mnext\u001b[0m\u001b[1;33m(\u001b[0m\u001b[0mfound\u001b[0m\u001b[1;33m)\u001b[0m\u001b[1;33m\u001b[0m\u001b[1;33m\u001b[0m\u001b[0m\n\u001b[0m",
      "\u001b[1;31mStopIteration\u001b[0m: "
     ]
    }
   ],
   "source": [
    "# Using an assignment expression also works the same way in generator expressions.\n",
    "stock = {\n",
    "    'nails': 125,\n",
    "    'screws': 35,\n",
    "    'wingnuts': 8,\n",
    "    'washers': 24,\n",
    "}\n",
    "\n",
    "order = ['screws', 'wingnuts', 'clips']\n",
    "\n",
    "def get_batches(count, size):\n",
    "    return count // size\n",
    "\n",
    "found = ((name, batches) for name in order\n",
    "        if (batches := get_batches(stock.get(name, 0),8)))\n",
    "next(found)\n",
    "next(found)\n",
    "next(found)"
   ]
  },
  {
   "cell_type": "code",
   "execution_count": null,
   "metadata": {},
   "outputs": [],
   "source": []
  }
 ],
 "metadata": {
  "kernelspec": {
   "display_name": "Python 3",
   "language": "python",
   "name": "python3"
  },
  "language_info": {
   "codemirror_mode": {
    "name": "ipython",
    "version": 3
   },
   "file_extension": ".py",
   "mimetype": "text/x-python",
   "name": "python",
   "nbconvert_exporter": "python",
   "pygments_lexer": "ipython3",
   "version": "3.8.5"
  },
  "toc": {
   "base_numbering": 1,
   "nav_menu": {},
   "number_sections": true,
   "sideBar": true,
   "skip_h1_title": false,
   "title_cell": "Table of Contents",
   "title_sidebar": "Contents",
   "toc_cell": false,
   "toc_position": {},
   "toc_section_display": true,
   "toc_window_display": false
  }
 },
 "nbformat": 4,
 "nbformat_minor": 4
}
