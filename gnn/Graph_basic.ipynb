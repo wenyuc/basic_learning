{
 "cells": [
  {
   "cell_type": "code",
   "execution_count": 2,
   "metadata": {},
   "outputs": [],
   "source": [
    "from IPython.core.interactiveshell import InteractiveShell\n",
    "InteractiveShell.ast_node_interactivity = \"all\""
   ]
  },
  {
   "cell_type": "code",
   "execution_count": 6,
   "metadata": {},
   "outputs": [
    {
     "name": "stdout",
     "output_type": "stream",
     "text": [
      "Data(edge_index=[2, 156], train_mask=[34], x=[34, 34], y=[34])\n",
      "============\n",
      "Number of nodes: 34\n",
      "Number of edges: 156\n",
      "Number of node features: 34\n",
      "Number of node features: 34\n",
      "Number of edge features: 0\n",
      "Average node degree: 4.59\n",
      "if edge indices are ordered and do not contain duplicate entries.: True\n",
      "Number of training nodes: 4\n",
      "Training node label rate: 0.12\n",
      "Contains isolated nodes: False\n",
      "contains self-loops: False\n",
      "is undirected: True\n"
     ]
    }
   ],
   "source": [
    "from torch_geometric.datasets import KarateClub\n",
    "\n",
    "dataset = KarateClub()\n",
    "data = dataset[0]    #get the first graph object\n",
    "print(data)\n",
    "print(\"============\")\n",
    "\n",
    "# Caputre graph info\n",
    "print(f'Number of nodes: {data.num_nodes}')\n",
    "print(f'Number of edges: {data.num_edges}')\n",
    "print(f'Number of node features: {data.num_node_features}')\n",
    "print(f'Number of node features: {data.num_features}')\n",
    "print(f'Number of edge features: {data.num_edge_features}')\n",
    "print(f'Average node degree: {data.num_edges / data.num_nodes:.2f}')\n",
    "print(f'if edge indices are ordered and do not contain duplicate entries.: {data.is_coalesced()}')\n",
    "print(f'Number of training nodes: {data.train_mask.sum()}')\n",
    "print(f'Training node label rate: {int(data.train_mask.sum())/data.num_nodes:.2f}')\n",
    "print(f'Contains isolated nodes: {data.contains_isolated_nodes()}')\n",
    "print(f'contains self-loops: {data.contains_self_loops()}')\n",
    "print(f'is undirected: {data.is_undirected()}')"
   ]
  },
  {
   "cell_type": "code",
   "execution_count": 7,
   "metadata": {},
   "outputs": [
    {
     "name": "stdout",
     "output_type": "stream",
     "text": [
      "Downloading https://gitee.com/jiajiewu/planetoid/raw/master/data/ind.cora.x\n",
      "Downloading https://gitee.com/jiajiewu/planetoid/raw/master/data/ind.cora.tx\n",
      "Downloading https://gitee.com/jiajiewu/planetoid/raw/master/data/ind.cora.allx\n",
      "Downloading https://gitee.com/jiajiewu/planetoid/raw/master/data/ind.cora.y\n",
      "Downloading https://gitee.com/jiajiewu/planetoid/raw/master/data/ind.cora.ty\n",
      "Downloading https://gitee.com/jiajiewu/planetoid/raw/master/data/ind.cora.ally\n",
      "Downloading https://gitee.com/jiajiewu/planetoid/raw/master/data/ind.cora.graph\n",
      "Downloading https://gitee.com/jiajiewu/planetoid/raw/master/data/ind.cora.test.index\n",
      "Processing...\n",
      "Done!\n"
     ]
    },
    {
     "data": {
      "text/plain": [
       "1"
      ]
     },
     "execution_count": 7,
     "metadata": {},
     "output_type": "execute_result"
    },
    {
     "data": {
      "text/plain": [
       "7"
      ]
     },
     "execution_count": 7,
     "metadata": {},
     "output_type": "execute_result"
    },
    {
     "data": {
      "text/plain": [
       "1433"
      ]
     },
     "execution_count": 7,
     "metadata": {},
     "output_type": "execute_result"
    }
   ],
   "source": [
    "from torch_geometric.datasets import Planetoid\n",
    "\n",
    "dataset = Planetoid(root='/dataset/Cora', name='Cora')\n",
    "# Cora()\n",
    "len(dataset)\n",
    "#1\n",
    "dataset.num_classes\n",
    "#7\n",
    "dataset.num_node_features"
   ]
  },
  {
   "cell_type": "code",
   "execution_count": 9,
   "metadata": {},
   "outputs": [],
   "source": [
    "from torch_geometric.data import Data \n",
    "class MyData(Data):\n",
    "    def __init__(self, author = None, org = None, paper=None, a_o_edge=None, a_p_edge = None, **kwargs):\n",
    "        super.__init__()\n",
    "        self.author = author\n",
    "        self.org = org\n",
    "        self.paper = paper\n",
    "        self.a_o_edge = a_o_edge\n",
    "        self.a_p_edge = a_p_edge\n",
    "        for key, item in kwargs.items():\n",
    "            if key == 'num_authors':\n",
    "                self.__num_authors__ = item\n",
    "            elif key == \"num_papers\":\n",
    "                self.__num_papers__ = item\n",
    "            elif key == 'num_orgs':\n",
    "                self.__num_orgs__ = item\n",
    "            else:\n",
    "                self[key] = item\n",
    "    \n",
    "    @classmethod\n",
    "    def from_dict(cls, dictionary):\n",
    "        r\"\"\"Creates a data object from a python dictionary.\"\"\"\n",
    "        data = cls()\n",
    "\n",
    "        for key, item in dictionary.items():\n",
    "            data[key] = item\n",
    "\n",
    "        if torch_geometric.is_debug_enabled():\n",
    "            data.debug()\n",
    "\n",
    "        return data\n",
    "    \n",
    "    def from_dataframe(cls, dataframe):\n",
    "        r\"\"\"Creates a data object from a pandas dataframe\"\"\"\n",
    "        pass\n",
    "\n",
    "\n",
    "        "
   ]
  },
  {
   "cell_type": "code",
   "execution_count": 4,
   "metadata": {},
   "outputs": [],
   "source": [
    "from torch_geometric.data import Data\n",
    "import pandas as pd \n",
    "\n",
    "class MyData(Data):\n",
    "    def __init__(self, x=None, edge_index=None, edge_attr=None, y=None,\n",
    "                 pos=None, normal=None, face=None, **kwargs):\n",
    "        self.x = x\n",
    "        self.edge_index = edge_index\n",
    "        self.edge_attr = edge_attr\n",
    "        self.y = y\n",
    "        self.pos = pos\n",
    "        self.normal = normal\n",
    "        self.face = face\n",
    "        for key, item in kwargs.items():\n",
    "            if key == 'num_nodes':\n",
    "                self.__num_nodes__ = item\n",
    "            else:\n",
    "                self[key] = item\n",
    "\n",
    "        if edge_index is not None and edge_index.dtype != torch.long:\n",
    "            raise ValueError(\n",
    "                (f'Argument `edge_index` needs to be of type `torch.long` but '\n",
    "                 f'found type `{edge_index.dtype}`.'))\n",
    "\n",
    "        if face is not None and face.dtype != torch.long:\n",
    "            raise ValueError(\n",
    "                (f'Argument `face` needs to be of type `torch.long` but found '\n",
    "                 f'type `{face.dtype}`.'))\n",
    "\n",
    "        if torch_geometric.is_debug_enabled():\n",
    "            self.debug()\n",
    "\n",
    "    @classmethod\n",
    "    def from_df(cls, df):\n",
    "        r\"\"\"Creates a data object from a pandas dataframe.\"\"\"\n",
    "        \n",
    "        data = cls()\n",
    "        data.x = df\n",
    "        \n",
    "        return data\n",
    "    \n",
    "\n"
   ]
  },
  {
   "cell_type": "code",
   "execution_count": 6,
   "metadata": {},
   "outputs": [
    {
     "data": {
      "text/html": [
       "<div>\n",
       "<style scoped>\n",
       "    .dataframe tbody tr th:only-of-type {\n",
       "        vertical-align: middle;\n",
       "    }\n",
       "\n",
       "    .dataframe tbody tr th {\n",
       "        vertical-align: top;\n",
       "    }\n",
       "\n",
       "    .dataframe thead th {\n",
       "        text-align: right;\n",
       "    }\n",
       "</style>\n",
       "<table border=\"1\" class=\"dataframe\">\n",
       "  <thead>\n",
       "    <tr style=\"text-align: right;\">\n",
       "      <th></th>\n",
       "      <th>0</th>\n",
       "      <th>1</th>\n",
       "    </tr>\n",
       "  </thead>\n",
       "  <tbody>\n",
       "    <tr>\n",
       "      <th>0</th>\n",
       "      <td>1</td>\n",
       "      <td>1</td>\n",
       "    </tr>\n",
       "    <tr>\n",
       "      <th>1</th>\n",
       "      <td>0</td>\n",
       "      <td>2</td>\n",
       "    </tr>\n",
       "  </tbody>\n",
       "</table>\n",
       "</div>"
      ],
      "text/plain": [
       "   0  1\n",
       "0  1  1\n",
       "1  0  2"
      ]
     },
     "execution_count": 6,
     "metadata": {},
     "output_type": "execute_result"
    }
   ],
   "source": [
    "import pandas as pd \n",
    "\n",
    "x = pd.DataFrame([[0, \"math publisher\"], [1, \"Mike Chen\"], [2, \"DeepLearning on Graph\"]], columns=['Id','Name'])\n",
    "edge_index = pd.DataFrame([[1,1],[0,2]])\n",
    "edge_index"
   ]
  },
  {
   "cell_type": "code",
   "execution_count": 2,
   "metadata": {},
   "outputs": [
    {
     "data": {
      "text/html": [
       "<div>\n",
       "<style scoped>\n",
       "    .dataframe tbody tr th:only-of-type {\n",
       "        vertical-align: middle;\n",
       "    }\n",
       "\n",
       "    .dataframe tbody tr th {\n",
       "        vertical-align: top;\n",
       "    }\n",
       "\n",
       "    .dataframe thead th {\n",
       "        text-align: right;\n",
       "    }\n",
       "</style>\n",
       "<table border=\"1\" class=\"dataframe\">\n",
       "  <thead>\n",
       "    <tr style=\"text-align: right;\">\n",
       "      <th></th>\n",
       "      <th>Id</th>\n",
       "      <th>Name</th>\n",
       "    </tr>\n",
       "  </thead>\n",
       "  <tbody>\n",
       "    <tr>\n",
       "      <th>0</th>\n",
       "      <td>0</td>\n",
       "      <td>math publisher</td>\n",
       "    </tr>\n",
       "    <tr>\n",
       "      <th>1</th>\n",
       "      <td>1</td>\n",
       "      <td>Mike Chen</td>\n",
       "    </tr>\n",
       "    <tr>\n",
       "      <th>2</th>\n",
       "      <td>2</td>\n",
       "      <td>DeepLearning on Graph</td>\n",
       "    </tr>\n",
       "  </tbody>\n",
       "</table>\n",
       "</div>"
      ],
      "text/plain": [
       "   Id                   Name\n",
       "0   0         math publisher\n",
       "1   1              Mike Chen\n",
       "2   2  DeepLearning on Graph"
      ]
     },
     "execution_count": 2,
     "metadata": {},
     "output_type": "execute_result"
    }
   ],
   "source": [
    "import pandas as pd \n",
    "\n",
    "x =  pd.DataFrame([[0, \"math publisher\"], [1, \"Mike Chen\"], [2, \"DeepLearning on Graph\"]], columns=['Id','Name'])\n",
    "x"
   ]
  },
  {
   "cell_type": "code",
   "execution_count": 21,
   "metadata": {},
   "outputs": [
    {
     "data": {
      "text/plain": [
       "<Node_Class.org: 0>"
      ]
     },
     "execution_count": 21,
     "metadata": {},
     "output_type": "execute_result"
    },
    {
     "data": {
      "text/plain": [
       "<Node_Class.author: 1>"
      ]
     },
     "execution_count": 21,
     "metadata": {},
     "output_type": "execute_result"
    },
    {
     "data": {
      "text/plain": [
       "<Node_Class.paper: 2>"
      ]
     },
     "execution_count": 21,
     "metadata": {},
     "output_type": "execute_result"
    },
    {
     "data": {
      "text/plain": [
       "0"
      ]
     },
     "execution_count": 21,
     "metadata": {},
     "output_type": "execute_result"
    },
    {
     "data": {
      "text/plain": [
       "'org'"
      ]
     },
     "execution_count": 21,
     "metadata": {},
     "output_type": "execute_result"
    },
    {
     "data": {
      "text/plain": [
       "<Node_Class.org: 0>"
      ]
     },
     "execution_count": 21,
     "metadata": {},
     "output_type": "execute_result"
    },
    {
     "data": {
      "text/plain": [
       "<Node_Class.author: 1>"
      ]
     },
     "execution_count": 21,
     "metadata": {},
     "output_type": "execute_result"
    },
    {
     "data": {
      "text/plain": [
       "<Node_Class.paper: 2>"
      ]
     },
     "execution_count": 21,
     "metadata": {},
     "output_type": "execute_result"
    },
    {
     "data": {
      "text/plain": [
       "False"
      ]
     },
     "execution_count": 21,
     "metadata": {},
     "output_type": "execute_result"
    },
    {
     "data": {
      "text/plain": [
       "False"
      ]
     },
     "execution_count": 21,
     "metadata": {},
     "output_type": "execute_result"
    },
    {
     "name": "stdout",
     "output_type": "stream",
     "text": [
      "org => Node_Class.org\n",
      "author => Node_Class.author\n",
      "paper => Node_Class.paper\n"
     ]
    }
   ],
   "source": [
    "from enum import Enum\n",
    "class Node_Class(Enum):\n",
    "    r\"\"\"Node Class\"\"\"\n",
    "    org = 0\n",
    "    author = 1\n",
    "    paper = 2\n",
    "\n",
    "Node_Class.org\n",
    "Node_Class['author']\n",
    "Node_Class(2)\n",
    "\n",
    "Node_Class.org.value\n",
    "Node_Class.org.name\n",
    "\n",
    "for node in Node_Class:\n",
    "    node\n",
    "\n",
    "Node_Class.org == Node_Class.author\n",
    "Node_Class.org.name == Node_Class.author.name\n",
    "\n",
    "# __members__是一个包含枚举类中所有成员的字典，通过遍历该属性，也可以访问枚举类中的各个成员\n",
    "for name, member in Node_Class.__members__.items():\n",
    "    print(name,'=>',member)"
   ]
  },
  {
   "cell_type": "markdown",
   "metadata": {},
   "source": [
    "$\\mathcal G =\\{\\mathcal V, \\mathcal E \\}$"
   ]
  },
  {
   "cell_type": "code",
   "execution_count": null,
   "metadata": {},
   "outputs": [],
   "source": []
  }
 ],
 "metadata": {
  "kernelspec": {
   "display_name": "Python 3",
   "language": "python",
   "name": "python3"
  },
  "language_info": {
   "codemirror_mode": {
    "name": "ipython",
    "version": 3
   },
   "file_extension": ".py",
   "mimetype": "text/x-python",
   "name": "python",
   "nbconvert_exporter": "python",
   "pygments_lexer": "ipython3",
   "version": "3.8.5"
  },
  "toc": {
   "base_numbering": 1,
   "nav_menu": {},
   "number_sections": true,
   "sideBar": true,
   "skip_h1_title": false,
   "title_cell": "Table of Contents",
   "title_sidebar": "Contents",
   "toc_cell": false,
   "toc_position": {},
   "toc_section_display": true,
   "toc_window_display": false
  }
 },
 "nbformat": 4,
 "nbformat_minor": 4
}
