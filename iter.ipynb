{
 "cells": [
  {
   "cell_type": "markdown",
   "metadata": {},
   "source": [
    "https://docs.python.org/zh-cn/3/library/itertools.html"
   ]
  },
  {
   "cell_type": "code",
   "execution_count": 5,
   "metadata": {},
   "outputs": [],
   "source": [
    "import itertools\n"
   ]
  },
  {
   "cell_type": "markdown",
   "metadata": {},
   "source": [
    "### 排列组合迭代器"
   ]
  },
  {
   "cell_type": "code",
   "execution_count": 7,
   "metadata": {},
   "outputs": [
    {
     "name": "stdout",
     "output_type": "stream",
     "text": [
      "('A', 'A')\n",
      "('A', 'B')\n",
      "('A', 'C')\n",
      "('A', 'D')\n",
      "('B', 'A')\n",
      "('B', 'B')\n",
      "('B', 'C')\n",
      "('B', 'D')\n",
      "('C', 'A')\n",
      "('C', 'B')\n",
      "('C', 'C')\n",
      "('C', 'D')\n",
      "('D', 'A')\n",
      "('D', 'B')\n",
      "('D', 'C')\n",
      "('D', 'D')\n"
     ]
    }
   ],
   "source": [
    "# product 用于求多个可迭代对象的笛卡尔积，它跟嵌套for循环等价\n",
    "for each in itertools.product('ABCD',repeat = 2):\n",
    "    print(each)"
   ]
  },
  {
   "cell_type": "code",
   "execution_count": 8,
   "metadata": {},
   "outputs": [
    {
     "name": "stdout",
     "output_type": "stream",
     "text": [
      "('A', 'X')\n",
      "('A', 'Y')\n",
      "('B', 'X')\n",
      "('B', 'Y')\n",
      "('C', 'X')\n",
      "('C', 'Y')\n",
      "('D', 'X')\n",
      "('D', 'Y')\n"
     ]
    }
   ],
   "source": [
    "for each in itertools.product('ABCD','XY'):\n",
    "    print(each)"
   ]
  },
  {
   "cell_type": "code",
   "execution_count": 9,
   "metadata": {},
   "outputs": [
    {
     "data": {
      "text/plain": [
       "itertools.product"
      ]
     },
     "execution_count": 9,
     "metadata": {},
     "output_type": "execute_result"
    }
   ],
   "source": [
    "# itertools.permutations()将iterable中的元素以长度r进行排列。"
   ]
  },
  {
   "cell_type": "code",
   "execution_count": 11,
   "metadata": {},
   "outputs": [
    {
     "name": "stdout",
     "output_type": "stream",
     "text": [
      "('a', 'b')\n",
      "('a', 'a')\n",
      "('a', 'd')\n",
      "('b', 'a')\n",
      "('b', 'a')\n",
      "('b', 'd')\n",
      "('a', 'a')\n",
      "('a', 'b')\n",
      "('a', 'd')\n",
      "('d', 'a')\n",
      "('d', 'b')\n",
      "('d', 'a')\n"
     ]
    }
   ],
   "source": [
    "# itertools.permutations()将iterable中的元素以长度r进行排列。\n",
    "for each in itertools.permutations('abad',2):\n",
    "    print(each)"
   ]
  },
  {
   "cell_type": "code",
   "execution_count": 14,
   "metadata": {},
   "outputs": [
    {
     "name": "stdout",
     "output_type": "stream",
     "text": [
      "('A', 'B')\n",
      "('A', 'C')\n",
      "('A', 'D')\n",
      "('B', 'C')\n",
      "('B', 'D')\n",
      "('C', 'D')\n"
     ]
    }
   ],
   "source": [
    "# itertools.combinations()将iterable中的元素以长度为r进行组合\n",
    "for each in itertools.combinations('ABCD',2):\n",
    "    print(each)"
   ]
  },
  {
   "cell_type": "code",
   "execution_count": 15,
   "metadata": {},
   "outputs": [
    {
     "data": {
      "text/plain": [
       "[('A', 'B'), ('A', 'C'), ('B', 'A'), ('B', 'C'), ('C', 'A'), ('C', 'B')]"
      ]
     },
     "execution_count": 15,
     "metadata": {},
     "output_type": "execute_result"
    }
   ],
   "source": [
    "list(itertools.permutations('ABC',2))"
   ]
  },
  {
   "cell_type": "code",
   "execution_count": 16,
   "metadata": {},
   "outputs": [
    {
     "data": {
      "text/plain": [
       "[('A', 'B'), ('A', 'C'), ('B', 'C')]"
      ]
     },
     "execution_count": 16,
     "metadata": {},
     "output_type": "execute_result"
    }
   ],
   "source": [
    "list(itertools.combinations('ABC',2))"
   ]
  },
  {
   "cell_type": "code",
   "execution_count": 17,
   "metadata": {},
   "outputs": [
    {
     "data": {
      "text/plain": [
       "[('A', 'A'), ('A', 'B'), ('A', 'C'), ('B', 'B'), ('B', 'C'), ('C', 'C')]"
      ]
     },
     "execution_count": 17,
     "metadata": {},
     "output_type": "execute_result"
    }
   ],
   "source": [
    "# itertools.combinations_with_replacement(iterable, r), 返回指定长度的组合，组合内元素可重复\n",
    "list(itertools.combinations_with_replacement('ABC',2))"
   ]
  },
  {
   "cell_type": "markdown",
   "metadata": {},
   "source": [
    "### 无限迭代器\n",
    "这三个无限迭代器，使用它们的时候，要知道如何跳出这个循环，否则要陷入无限循环之中。在生产数字或遍历事先不知道长度的数据时非常有用。\n",
    "\n"
   ]
  },
  {
   "cell_type": "code",
   "execution_count": 19,
   "metadata": {},
   "outputs": [
    {
     "name": "stdout",
     "output_type": "stream",
     "text": [
      "110\n"
     ]
    }
   ],
   "source": [
    "# itertools.count(start=0, step=1)，以start开始，step递增的序列，无限递增\n",
    "sum = 0\n",
    "for each in itertools.count(start=0, step=2):\n",
    "    sum += each\n",
    "    if each >= 20:\n",
    "        break\n",
    "print(sum)"
   ]
  },
  {
   "cell_type": "code",
   "execution_count": 21,
   "metadata": {},
   "outputs": [
    {
     "name": "stdout",
     "output_type": "stream",
     "text": [
      "ABCABCABCABCA\n"
     ]
    }
   ],
   "source": [
    "# itertools.cycle()，将迭代器无限迭代\n",
    "test_str=''\n",
    "for i in itertools.cycle('ABC'):\n",
    "    test_str += i\n",
    "    if test_str.count('A') >= 5:    # 当取到第三个a时终止\n",
    "        break\n",
    "print(test_str)"
   ]
  },
  {
   "cell_type": "code",
   "execution_count": 22,
   "metadata": {},
   "outputs": [
    {
     "name": "stdout",
     "output_type": "stream",
     "text": [
      "opq\n",
      "opq\n"
     ]
    }
   ],
   "source": [
    "# itertools.repeat(object, [times]),不停地返回object，如果指定了times，则返回times次\n",
    "for each in itertools.repeat('opq',2):\n",
    "    print(each)"
   ]
  },
  {
   "cell_type": "markdown",
   "metadata": {},
   "source": [
    "### 有限迭代器\n"
   ]
  },
  {
   "cell_type": "code",
   "execution_count": 23,
   "metadata": {},
   "outputs": [
    {
     "data": {
      "text/plain": [
       "[1, 3, 6, 10, 15, 21]"
      ]
     },
     "execution_count": 23,
     "metadata": {},
     "output_type": "execute_result"
    }
   ],
   "source": [
    "# accumulate(iterable[, func,*,initial=None]) 创建一个迭代器，返回累积汇总值或其他双目运算函数的累积结果值，通过可选的func函数指定。\n",
    "list(itertools.accumulate([1,2,3,4,5,6]))\n"
   ]
  },
  {
   "cell_type": "code",
   "execution_count": 24,
   "metadata": {},
   "outputs": [
    {
     "data": {
      "text/plain": [
       "[3, 12, 72, 144, 144, 1296, 0, 0, 0, 0]"
      ]
     },
     "execution_count": 24,
     "metadata": {},
     "output_type": "execute_result"
    }
   ],
   "source": [
    "# 方法修改为累计的乘积\n",
    "import operator\n",
    "data = [3,4,6,2,1,9,0,7,5,8]\n",
    "list(itertools.accumulate(data, operator.mul))"
   ]
  },
  {
   "cell_type": "code",
   "execution_count": 25,
   "metadata": {},
   "outputs": [
    {
     "data": {
      "text/plain": [
       "[3, 4, 6, 6, 6, 9, 9, 9, 9, 9]"
      ]
     },
     "execution_count": 25,
     "metadata": {},
     "output_type": "execute_result"
    }
   ],
   "source": [
    "# 方法修改为计算累计的最大值\n",
    "list(itertools.accumulate(data,max))"
   ]
  },
  {
   "cell_type": "code",
   "execution_count": 26,
   "metadata": {},
   "outputs": [
    {
     "data": {
      "text/plain": [
       "[1000, 960.0, 918.0, 873.9000000000001, 827.5950000000001]"
      ]
     },
     "execution_count": 26,
     "metadata": {},
     "output_type": "execute_result"
    }
   ],
   "source": [
    "# Amortize a 5% loan of 1000 with 4 annual payments of 90\n",
    "cashflows = [1000, -90, -90, -90, -90]\n",
    "list(itertools.accumulate(cashflows, lambda bal, pmt: bal*1.05+pmt))"
   ]
  },
  {
   "cell_type": "code",
   "execution_count": 31,
   "metadata": {},
   "outputs": [
    {
     "data": {
      "text/plain": [
       "['0.40',\n",
       " '0.91',\n",
       " '0.30',\n",
       " '0.81',\n",
       " '0.60',\n",
       " '0.92',\n",
       " '0.29',\n",
       " '0.79',\n",
       " '0.63',\n",
       " '0.88',\n",
       " '0.39',\n",
       " '0.90',\n",
       " '0.33',\n",
       " '0.84',\n",
       " '0.52',\n",
       " '0.95',\n",
       " '0.18',\n",
       " '0.57',\n",
       " '0.93',\n",
       " '0.25',\n",
       " '0.71',\n",
       " '0.79',\n",
       " '0.63',\n",
       " '0.88',\n",
       " '0.39',\n",
       " '0.91',\n",
       " '0.32',\n",
       " '0.83',\n",
       " '0.54',\n",
       " '0.95',\n",
       " '0.20',\n",
       " '0.60',\n",
       " '0.91',\n",
       " '0.30',\n",
       " '0.80',\n",
       " '0.60']"
      ]
     },
     "execution_count": 31,
     "metadata": {},
     "output_type": "execute_result"
    }
   ],
   "source": [
    "# Chaotic recurrence relation\n",
    "# https://en.wikipedia.org/wiki/Logistic_map\n",
    "logistic_map = lambda x,_: r*x*(1-x)\n",
    "r = 3.8\n",
    "x0 = 0.4\n",
    "inputs = itertools.repeat(x0,36)    #Only the initial value is used 36 times\n",
    "\n",
    "[format(x,'.2f') for x in itertools.accumulate(inputs, logistic_map)]"
   ]
  },
  {
   "cell_type": "code",
   "execution_count": 33,
   "metadata": {},
   "outputs": [
    {
     "data": {
      "text/plain": [
       "[1, 2, 6, 24, 120]"
      ]
     },
     "execution_count": 33,
     "metadata": {},
     "output_type": "execute_result"
    }
   ],
   "source": [
    "# 在迭代器起始位置添加一个元素，方法不变，返回累计汇总值\n",
    "list(itertools.accumulate([1,2,3,4,5],lambda x,y: x*y))"
   ]
  },
  {
   "cell_type": "code",
   "execution_count": 34,
   "metadata": {},
   "outputs": [
    {
     "data": {
      "text/plain": [
       "[1, 2, 3, 'A', 'B', 'C']"
      ]
     },
     "execution_count": 34,
     "metadata": {},
     "output_type": "execute_result"
    }
   ],
   "source": [
    "# chain()接收多个可迭代对象作为参数，将它们“连接”起来，作为一个新的迭代器返回\n",
    "list(itertools.chain([1,2,3],['A','B','C']))"
   ]
  },
  {
   "cell_type": "code",
   "execution_count": 43,
   "metadata": {},
   "outputs": [
    {
     "data": {
      "text/plain": [
       "['1', '2', '3', '4', '5', '6']"
      ]
     },
     "execution_count": 43,
     "metadata": {},
     "output_type": "execute_result"
    }
   ],
   "source": [
    "# chain.from_iterable(),如果元素是一个可迭代对象，那么会将这个元素内的元素一一添加到一个新的迭代器中，降维\n",
    "list(itertools.chain.from_iterable(['1',['2','3'],('4','5','6')]))"
   ]
  },
  {
   "cell_type": "code",
   "execution_count": 44,
   "metadata": {},
   "outputs": [
    {
     "data": {
      "text/plain": [
       "['1', '2', '3', '4', ['5', '6']]"
      ]
     },
     "execution_count": 44,
     "metadata": {},
     "output_type": "execute_result"
    }
   ],
   "source": [
    "#只能降一层维度，三维降至二维\n",
    "list(itertools.chain.from_iterable(['1',['2','3'],('4',['5','6'])]))"
   ]
  },
  {
   "cell_type": "code",
   "execution_count": 45,
   "metadata": {},
   "outputs": [
    {
     "data": {
      "text/plain": [
       "['b', 'd']"
      ]
     },
     "execution_count": 45,
     "metadata": {},
     "output_type": "execute_result"
    }
   ],
   "source": [
    "# compress(data,selectors) 将data中经过selectors真值测试为True的元素保留。当两个可迭代对象中一个到达末尾时停止。\n",
    "list(itertools.compress('abcd',[0,1,0,1]))"
   ]
  },
  {
   "cell_type": "code",
   "execution_count": 46,
   "metadata": {},
   "outputs": [
    {
     "data": {
      "text/plain": [
       "['a', 'c']"
      ]
     },
     "execution_count": 46,
     "metadata": {},
     "output_type": "execute_result"
    }
   ],
   "source": [
    "# 只判断前三个元素，并且索引值为0和2的保留到新迭代器中返回\n",
    "list(itertools.compress(['a','b','c', 'd'], [1,0,1]))"
   ]
  },
  {
   "cell_type": "code",
   "execution_count": 47,
   "metadata": {},
   "outputs": [
    {
     "data": {
      "text/plain": [
       "[8, 1, 4]"
      ]
     },
     "execution_count": 47,
     "metadata": {},
     "output_type": "execute_result"
    }
   ],
   "source": [
    "#dropwhile(predicte, iterable) 直到元素predicate为False，就返回该元素和其后所有元素，其他元素都drop掉\n",
    "list(itertools.dropwhile(lambda x: x<5, [2,1,3,8,1,4]))"
   ]
  },
  {
   "cell_type": "code",
   "execution_count": 61,
   "metadata": {},
   "outputs": [
    {
     "data": {
      "text/plain": [
       "[1, 3]"
      ]
     },
     "execution_count": 61,
     "metadata": {},
     "output_type": "execute_result"
    }
   ],
   "source": [
    "# takewhile(predicate, iterable) 和dropwhile()相反，当结果为True时，其元素添加到新迭代器中，\n",
    "# 直到有元素为False，其元素和其后的所有元素都抛弃。\n",
    "list(itertools.takewhile(lambda x: x<5, [1,3,5,7]))"
   ]
  },
  {
   "cell_type": "code",
   "execution_count": 48,
   "metadata": {},
   "outputs": [
    {
     "data": {
      "text/plain": [
       "[3]"
      ]
     },
     "execution_count": 48,
     "metadata": {},
     "output_type": "execute_result"
    }
   ],
   "source": [
    "# filterfalse(predicate, iterable) 创建一个迭代器，仅保留iterable中在predicate中计算为False的元素。\n",
    "# 如果prediate 传入的是None，意味着做真值测试\n",
    "list(itertools.filterfalse(lambda x: x - 2 <=0, [2,1,0,3,-1,2]))"
   ]
  },
  {
   "cell_type": "code",
   "execution_count": 49,
   "metadata": {},
   "outputs": [
    {
     "data": {
      "text/plain": [
       "[0]"
      ]
     },
     "execution_count": 49,
     "metadata": {},
     "output_type": "execute_result"
    }
   ],
   "source": [
    "# 真值测试\n",
    "list(itertools.filterfalse(None, [1,2,3,0,1]))"
   ]
  },
  {
   "cell_type": "code",
   "execution_count": 54,
   "metadata": {},
   "outputs": [
    {
     "name": "stdout",
     "output_type": "stream",
     "text": [
      "a ['a', 'a']\n",
      "b ['b', 'b', 'b']\n",
      "c ['c', 'c', 'c', 'c']\n"
     ]
    }
   ],
   "source": [
    "# groupby(iterable[,key]),返回一组(key, itera), key为iterable的值，\n",
    "# itera为等于key的所有项\n",
    "for key,vale in itertools.groupby('aabbbcccc'):\n",
    "    print(key,list(vale))"
   ]
  },
  {
   "cell_type": "code",
   "execution_count": 56,
   "metadata": {},
   "outputs": [
    {
     "data": {
      "text/plain": [
       "['b', 'd']"
      ]
     },
     "execution_count": 56,
     "metadata": {},
     "output_type": "execute_result"
    }
   ],
   "source": [
    "# islice(iterable,start,stop[,step])相当于迭代器方式的切片操作\n",
    "list(itertools.islice('abcdefg',1,4,2))"
   ]
  },
  {
   "cell_type": "code",
   "execution_count": 62,
   "metadata": {},
   "outputs": [
    {
     "data": {
      "text/plain": [
       "[2, 20, 42]"
      ]
     },
     "execution_count": 62,
     "metadata": {},
     "output_type": "execute_result"
    }
   ],
   "source": [
    "# starmap(function, iterable)返回function(iter)的值，iter为iterable的值\n",
    "list(itertools.starmap(lambda x, y: x*y, [(1,2),(4,5),(6,7)]))"
   ]
  },
  {
   "cell_type": "code",
   "execution_count": null,
   "metadata": {},
   "outputs": [],
   "source": [
    "# tee(iterable, n=2) 从一个可迭代对象中分裂出n个独立的可迭代对象并返回"
   ]
  },
  {
   "cell_type": "code",
   "execution_count": 66,
   "metadata": {},
   "outputs": [
    {
     "name": "stdout",
     "output_type": "stream",
     "text": [
      "[1, 2, 3, 4, 5, 6]\n",
      "[1, 2, 3, 4, 5, 6]\n"
     ]
    }
   ],
   "source": [
    "for i in itertools.tee([1,2,3,4,5,6],2):\n",
    "    print(list(i))\n"
   ]
  },
  {
   "cell_type": "code",
   "execution_count": 67,
   "metadata": {},
   "outputs": [
    {
     "data": {
      "text/plain": [
       "[('1', 'a', '张'), ('2', 'b', '三'), ('3', 'c', '李'), ('*', '*', '四')]"
      ]
     },
     "execution_count": 67,
     "metadata": {},
     "output_type": "execute_result"
    }
   ],
   "source": [
    "# zip_longest(*iterables, fillvalue=None)从所有传入的可迭代对象中抽取一个元素，将它们组成一个元组，添加到迭代器中\n",
    "list(itertools.zip_longest('123','abc','张三李四',fillvalue='*'))"
   ]
  },
  {
   "cell_type": "code",
   "execution_count": null,
   "metadata": {},
   "outputs": [],
   "source": []
  },
  {
   "cell_type": "code",
   "execution_count": null,
   "metadata": {},
   "outputs": [],
   "source": []
  },
  {
   "cell_type": "code",
   "execution_count": null,
   "metadata": {},
   "outputs": [],
   "source": []
  },
  {
   "cell_type": "code",
   "execution_count": null,
   "metadata": {},
   "outputs": [],
   "source": []
  },
  {
   "cell_type": "code",
   "execution_count": null,
   "metadata": {},
   "outputs": [],
   "source": []
  },
  {
   "cell_type": "code",
   "execution_count": null,
   "metadata": {},
   "outputs": [],
   "source": []
  },
  {
   "cell_type": "code",
   "execution_count": null,
   "metadata": {},
   "outputs": [],
   "source": []
  },
  {
   "cell_type": "code",
   "execution_count": null,
   "metadata": {},
   "outputs": [],
   "source": []
  }
 ],
 "metadata": {
  "kernelspec": {
   "display_name": "Python 3",
   "language": "python",
   "name": "python3"
  },
  "language_info": {
   "codemirror_mode": {
    "name": "ipython",
    "version": 3
   },
   "file_extension": ".py",
   "mimetype": "text/x-python",
   "name": "python",
   "nbconvert_exporter": "python",
   "pygments_lexer": "ipython3",
   "version": "3.8.5"
  },
  "toc": {
   "base_numbering": 1,
   "nav_menu": {},
   "number_sections": true,
   "sideBar": true,
   "skip_h1_title": false,
   "title_cell": "Table of Contents",
   "title_sidebar": "Contents",
   "toc_cell": false,
   "toc_position": {},
   "toc_section_display": true,
   "toc_window_display": false
  }
 },
 "nbformat": 4,
 "nbformat_minor": 4
}
