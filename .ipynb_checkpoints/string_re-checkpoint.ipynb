{
 "cells": [
  {
   "cell_type": "markdown",
   "metadata": {},
   "source": [
    "字符串本质：字符序列\n",
    "**Python字符串是不能变的**，因此，无法对字符串进行修改。"
   ]
  },
  {
   "cell_type": "markdown",
   "metadata": {},
   "source": [
    "### 字符串比较\n",
    "\n",
    "- ==，!= :比较字符串a和字符串b，是否含有相同的字符；\n",
    "- is， not is 比较两个对象，是否是同一个对象；\n",
    "- in, not in 判断某个字符，是否存在于某个字符串中。"
   ]
  },
  {
   "cell_type": "code",
   "execution_count": 6,
   "metadata": {},
   "outputs": [
    {
     "name": "stdout",
     "output_type": "stream",
     "text": [
      "True\n",
      "True\n",
      "False\n",
      "True\n",
      "True\n",
      "2385319066992\n",
      "2385319066992\n"
     ]
    }
   ],
   "source": [
    "str1 = \"abcdefgh\"\n",
    "print('a' in str1)\n",
    "print('ab' in str1)\n",
    "print('ba' in str1)\n",
    "str2 = '123'\n",
    "str3 = '123'\n",
    "print(str2 == str3)\n",
    "print(str2 is str3)\n",
    "print(id(str2))\n",
    "print(id(str3))"
   ]
  },
  {
   "cell_type": "markdown",
   "metadata": {},
   "source": [
    "### 字符串驻留机制\n",
    "\n",
    "Python支持字符串驻留机制，对于**符合标识符的字符串（注意，仅包括下划线_, 字母、数字）**，才会启用字符串驻留机制。\n",
    "此时，保存一份想逃那个且不可变的字符串，不同的值被存在驻留池中，因此，他们还是同一个东西。\n"
   ]
  },
  {
   "cell_type": "code",
   "execution_count": 8,
   "metadata": {},
   "outputs": [
    {
     "name": "stdout",
     "output_type": "stream",
     "text": [
      "2385310931312 2385310931312\n",
      "True\n",
      "True\n"
     ]
    }
   ],
   "source": [
    "m = \"12_adv\"\n",
    "n = \"12_adv\"\n",
    "print(id(m), id(n))\n",
    "print(m==n)  # m和n含有相同的字符\n",
    "print(m is n) # m和n是同一个对象，存储地址相同才是同一个对象"
   ]
  },
  {
   "cell_type": "code",
   "execution_count": 9,
   "metadata": {},
   "outputs": [
    {
     "name": "stdout",
     "output_type": "stream",
     "text": [
      "2385314235952 2385314236528\n",
      "True\n",
      "False\n"
     ]
    }
   ],
   "source": [
    "m = \"ad#\"\n",
    "n = 'ad#'\n",
    "print(id(m), id(n))\n",
    "print(m==n) # m和n含有相同的字符\n",
    "print(m is n) # 这里的m和n不是同一个对象，存储地址相同才是同一个对象"
   ]
  },
  {
   "cell_type": "markdown",
   "metadata": {},
   "source": [
    "### 字符串使用函数"
   ]
  },
  {
   "cell_type": "code",
   "execution_count": 11,
   "metadata": {},
   "outputs": [
    {
     "name": "stdout",
     "output_type": "stream",
     "text": [
      "7\n",
      "-1\n"
     ]
    }
   ],
   "source": [
    "# 返回包含首次指定字符开始的索引，否则返回-1\n",
    "st = \"hello worldor\"\n",
    "print(st.find(\"or\"))\n",
    "print(st.find(\"ww\"))"
   ]
  },
  {
   "cell_type": "code",
   "execution_count": 12,
   "metadata": {},
   "outputs": [
    {
     "name": "stdout",
     "output_type": "stream",
     "text": [
      "7\n"
     ]
    },
    {
     "ename": "ValueError",
     "evalue": "substring not found",
     "output_type": "error",
     "traceback": [
      "\u001b[1;31m---------------------------------------------------------------------------\u001b[0m",
      "\u001b[1;31mValueError\u001b[0m                                Traceback (most recent call last)",
      "\u001b[1;32m<ipython-input-12-4fc9eb8dc407>\u001b[0m in \u001b[0;36m<module>\u001b[1;34m\u001b[0m\n\u001b[0;32m      2\u001b[0m \u001b[0mst\u001b[0m \u001b[1;33m=\u001b[0m \u001b[1;34m\"hello worldor\"\u001b[0m\u001b[1;33m\u001b[0m\u001b[1;33m\u001b[0m\u001b[0m\n\u001b[0;32m      3\u001b[0m \u001b[0mprint\u001b[0m\u001b[1;33m(\u001b[0m\u001b[0mst\u001b[0m\u001b[1;33m.\u001b[0m\u001b[0mindex\u001b[0m\u001b[1;33m(\u001b[0m\u001b[1;34m\"or\"\u001b[0m\u001b[1;33m)\u001b[0m\u001b[1;33m)\u001b[0m\u001b[1;33m\u001b[0m\u001b[1;33m\u001b[0m\u001b[0m\n\u001b[1;32m----> 4\u001b[1;33m \u001b[0mprint\u001b[0m\u001b[1;33m(\u001b[0m\u001b[0mst\u001b[0m\u001b[1;33m.\u001b[0m\u001b[0mindex\u001b[0m\u001b[1;33m(\u001b[0m\u001b[1;34m\"ww\"\u001b[0m\u001b[1;33m)\u001b[0m\u001b[1;33m)\u001b[0m\u001b[1;33m\u001b[0m\u001b[1;33m\u001b[0m\u001b[0m\n\u001b[0m",
      "\u001b[1;31mValueError\u001b[0m: substring not found"
     ]
    }
   ],
   "source": [
    "# 返回包含首次指定字符开始的索引，否则返回ValueError错误\n",
    "st = \"hello worldor\"\n",
    "print(st.index(\"or\"))\n",
    "print(st.index(\"ww\"))"
   ]
  },
  {
   "cell_type": "code",
   "execution_count": 19,
   "metadata": {},
   "outputs": [
    {
     "name": "stdout",
     "output_type": "stream",
     "text": [
      "3\n",
      "11\n",
      "0\n"
     ]
    }
   ],
   "source": [
    "# 统计字符串中，某指定字符在指定索引范围内出现的次数，索引范围是：左闭右开区间\n",
    "st = \"hello world\"\n",
    "print(st.count('l'))\n",
    "print(len(st))\n",
    "print(st.count('d',0,10))"
   ]
  },
  {
   "cell_type": "code",
   "execution_count": null,
   "metadata": {},
   "outputs": [],
   "source": []
  }
 ],
 "metadata": {
  "kernelspec": {
   "display_name": "Python 3",
   "language": "python",
   "name": "python3"
  },
  "language_info": {
   "codemirror_mode": {
    "name": "ipython",
    "version": 3
   },
   "file_extension": ".py",
   "mimetype": "text/x-python",
   "name": "python",
   "nbconvert_exporter": "python",
   "pygments_lexer": "ipython3",
   "version": "3.7.7"
  },
  "toc": {
   "base_numbering": 1,
   "nav_menu": {},
   "number_sections": true,
   "sideBar": true,
   "skip_h1_title": false,
   "title_cell": "Table of Contents",
   "title_sidebar": "Contents",
   "toc_cell": false,
   "toc_position": {},
   "toc_section_display": true,
   "toc_window_display": false
  }
 },
 "nbformat": 4,
 "nbformat_minor": 4
}
