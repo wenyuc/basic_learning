{
 "cells": [
  {
   "cell_type": "code",
   "execution_count": 1,
   "metadata": {},
   "outputs": [],
   "source": [
    "from IPython.core.interactiveshell import InteractiveShell\n",
    "InteractiveShell.ast_node_interactivity = \"all\""
   ]
  },
  {
   "cell_type": "markdown",
   "metadata": {},
   "source": [
    "### Item 11 Slicing\n",
    "\n",
    "The simplest use for slicing are the built-in type *list, str and bytes*.\n",
    "\n",
    "Slicing can be extended to any Python class that implements the __getitem__ and __setitem__ special methods.\n"
   ]
  },
  {
   "cell_type": "code",
   "execution_count": 2,
   "metadata": {},
   "outputs": [
    {
     "data": {
      "text/plain": [
       "['d', 'e', 'f', 'g', 'h']"
      ]
     },
     "execution_count": 2,
     "metadata": {},
     "output_type": "execute_result"
    },
    {
     "data": {
      "text/plain": [
       "['d', 99, 'f', 'g', 'h']"
      ]
     },
     "execution_count": 2,
     "metadata": {},
     "output_type": "execute_result"
    },
    {
     "data": {
      "text/plain": [
       "['a', 'b', 'c', 'd', 'e', 'f', 'g', 'h']"
      ]
     },
     "execution_count": 2,
     "metadata": {},
     "output_type": "execute_result"
    }
   ],
   "source": [
    "a = ['a', 'b', 'c', 'd', 'e', 'f', 'g', 'h']\n",
    "\n",
    "# The result of slicing a list is a whole new list\n",
    "b = a[3:]\n",
    "b\n",
    "b[1] = 99\n",
    "b\n",
    "a"
   ]
  },
  {
   "cell_type": "code",
   "execution_count": 3,
   "metadata": {},
   "outputs": [
    {
     "data": {
      "text/plain": [
       "['a', 'b', 'c', 'd', 'e', 'f', 'g', 'h']"
      ]
     },
     "execution_count": 3,
     "metadata": {},
     "output_type": "execute_result"
    },
    {
     "data": {
      "text/plain": [
       "['a', 'b', 99, 33, 44, 'h']"
      ]
     },
     "execution_count": 3,
     "metadata": {},
     "output_type": "execute_result"
    },
    {
     "data": {
      "text/plain": [
       "['a', 'b', 47, 11, 33, 44, 'h']"
      ]
     },
     "execution_count": 3,
     "metadata": {},
     "output_type": "execute_result"
    }
   ],
   "source": [
    "a\n",
    "# the lengths of slice assignments don't need to be the same\n",
    "a[2:7] = [99,33,44]\n",
    "a \n",
    "a[2:3] = [47,11]\n",
    "a"
   ]
  },
  {
   "cell_type": "code",
   "execution_count": 4,
   "metadata": {},
   "outputs": [
    {
     "data": {
      "text/plain": [
       "['a', 'b', 'c', 'd', 'e', 'f', 'g', 'h']"
      ]
     },
     "execution_count": 4,
     "metadata": {},
     "output_type": "execute_result"
    },
    {
     "data": {
      "text/plain": [
       "['a', 'b', 'c', 'd', 'e', 'f', 'g', 'h']"
      ]
     },
     "execution_count": 4,
     "metadata": {},
     "output_type": "execute_result"
    }
   ],
   "source": [
    "a = ['a', 'b', 'c', 'd', 'e', 'f', 'g', 'h']\n",
    "b = a[:]\n",
    "assert  b == a and b is not a\n",
    "a \n",
    "b "
   ]
  },
  {
   "cell_type": "code",
   "execution_count": 5,
   "metadata": {},
   "outputs": [
    {
     "data": {
      "text/plain": [
       "['a', 'b', 'c', 'd', 'e', 'f', 'g', 'h']"
      ]
     },
     "execution_count": 5,
     "metadata": {},
     "output_type": "execute_result"
    },
    {
     "data": {
      "text/plain": [
       "['a', 'b', 'c', 'd', 'e', 'f', 'g', 'h']"
      ]
     },
     "execution_count": 5,
     "metadata": {},
     "output_type": "execute_result"
    },
    {
     "data": {
      "text/plain": [
       "[11, 22, 33]"
      ]
     },
     "execution_count": 5,
     "metadata": {},
     "output_type": "execute_result"
    },
    {
     "data": {
      "text/plain": [
       "[11, 22, 33]"
      ]
     },
     "execution_count": 5,
     "metadata": {},
     "output_type": "execute_result"
    }
   ],
   "source": [
    "a = ['a', 'b', 'c', 'd', 'e', 'f', 'g', 'h']\n",
    "b = a \n",
    "assert a is b \n",
    "a\n",
    "b\n",
    "a[:] = [11,22,33]\n",
    "assert a is b \n",
    "a\n",
    "b"
   ]
  },
  {
   "cell_type": "markdown",
   "metadata": {},
   "source": [
    "### Item 12 Avoid striding and Slicing in a Single Expression"
   ]
  },
  {
   "cell_type": "code",
   "execution_count": 6,
   "metadata": {},
   "outputs": [
    {
     "data": {
      "text/plain": [
       "['red', 'yellow', 'blue']"
      ]
     },
     "execution_count": 6,
     "metadata": {},
     "output_type": "execute_result"
    },
    {
     "data": {
      "text/plain": [
       "['orange', 'green', 'purple']"
      ]
     },
     "execution_count": 6,
     "metadata": {},
     "output_type": "execute_result"
    }
   ],
   "source": [
    "x = ['red', 'orange', 'yellow', 'green', 'blue', 'purple']\n",
    "odds = x[::2]\n",
    "evens = x[1::2]\n",
    "odds\n",
    "evens"
   ]
  },
  {
   "cell_type": "markdown",
   "metadata": {},
   "source": [
    "Striding and then slicing creates an extra shallow copy of the data. The first operation should try to reduce the size of the resulting slice by as much as possible. If your program can’t afford the time or mem- ory required for two steps, consider using the itertools built-in mod- ule’s islice method (see Item 36: “Consider itertools for Working with Iterators and Generators”), which is clearer to read and doesn’t permit negative values for start, end, or stride."
   ]
  },
  {
   "cell_type": "markdown",
   "metadata": {},
   "source": [
    "### Item 13 Prefer Catch-All Unpacking Over Slicing\n",
    "\n",
    "Python also supports catch-all unpacking through a ***starred expression***.\n",
    "\n",
    "**Starred expression** become **list** instance in all cases. "
   ]
  },
  {
   "cell_type": "code",
   "execution_count": 12,
   "metadata": {},
   "outputs": [
    {
     "data": {
      "text/plain": [
       "[20, 19, 15, 9, 8, 7, 6, 4, 1, 0]"
      ]
     },
     "execution_count": 12,
     "metadata": {},
     "output_type": "execute_result"
    }
   ],
   "source": [
    "car_ages = [0,9,4,8,7,20,19,1,6,15 ]\n",
    "car_ages_descending = sorted(car_ages, reverse=True)\n",
    "car_ages_descending"
   ]
  },
  {
   "cell_type": "code",
   "execution_count": 13,
   "metadata": {},
   "outputs": [
    {
     "data": {
      "text/plain": [
       "(20, 19, [15, 9, 8, 7, 6, 4, 1, 0])"
      ]
     },
     "execution_count": 13,
     "metadata": {},
     "output_type": "execute_result"
    }
   ],
   "source": [
    "oldest, second_oldest, *others = car_ages_descending\n",
    "oldest, second_oldest,others"
   ]
  },
  {
   "cell_type": "code",
   "execution_count": 14,
   "metadata": {},
   "outputs": [
    {
     "data": {
      "text/plain": [
       "(20, 0, [19, 15, 9, 8, 7, 6, 4, 1])"
      ]
     },
     "execution_count": 14,
     "metadata": {},
     "output_type": "execute_result"
    }
   ],
   "source": [
    "oldest, *others, youngest = car_ages_descending\n",
    "oldest, youngest, others"
   ]
  },
  {
   "cell_type": "code",
   "execution_count": 15,
   "metadata": {},
   "outputs": [
    {
     "data": {
      "text/plain": [
       "([20, 19, 15, 9, 8, 7, 6, 4], 1, 0)"
      ]
     },
     "execution_count": 15,
     "metadata": {},
     "output_type": "execute_result"
    }
   ],
   "source": [
    "*others, second_youngest, youngest = car_ages_descending\n",
    "others, second_youngest,youngest"
   ]
  },
  {
   "cell_type": "code",
   "execution_count": 16,
   "metadata": {},
   "outputs": [
    {
     "ename": "SyntaxError",
     "evalue": "starred assignment target must be in a list or tuple (<ipython-input-16-945e2614d628>, line 4)",
     "output_type": "error",
     "traceback": [
      "\u001b[1;36m  File \u001b[1;32m\"<ipython-input-16-945e2614d628>\"\u001b[1;36m, line \u001b[1;32m4\u001b[0m\n\u001b[1;33m    *others = car_ages_descending\u001b[0m\n\u001b[1;37m    ^\u001b[0m\n\u001b[1;31mSyntaxError\u001b[0m\u001b[1;31m:\u001b[0m starred assignment target must be in a list or tuple\n"
     ]
    }
   ],
   "source": [
    "# must have at least one required part, or else you’ll get a\n",
    "# SyntaxError. You can’t use a catch-all expression on its own:\n",
    "\n",
    "*others = car_ages_descending"
   ]
  },
  {
   "cell_type": "code",
   "execution_count": 17,
   "metadata": {},
   "outputs": [
    {
     "ename": "SyntaxError",
     "evalue": "two starred expressions in assignment (<ipython-input-17-2becfeebc1e1>, line 3)",
     "output_type": "error",
     "traceback": [
      "\u001b[1;36m  File \u001b[1;32m\"<ipython-input-17-2becfeebc1e1>\"\u001b[1;36m, line \u001b[1;32m3\u001b[0m\n\u001b[1;33m    first, *middle, *third, last = [1,2,3,4]\u001b[0m\n\u001b[1;37m    ^\u001b[0m\n\u001b[1;31mSyntaxError\u001b[0m\u001b[1;31m:\u001b[0m two starred expressions in assignment\n"
     ]
    }
   ],
   "source": [
    "# You also can’t use multiple catch-all expressions in a single-level\n",
    "# unpacking pattern:\n",
    "first, *middle, *third, last = [1,2,3,4]"
   ]
  },
  {
   "cell_type": "code",
   "execution_count": 18,
   "metadata": {},
   "outputs": [
    {
     "name": "stdout",
     "output_type": "stream",
     "text": [
      "Best at Downtown is Silver Shadow, 2 others\n",
      "Best at Airport is Skyline, 3 others\n"
     ]
    }
   ],
   "source": [
    "# it is possible to use multiple starred expressions in an unpacking\n",
    "# assignment statement, as long as they’re catch-alls for different parts\n",
    "# of the multilevel structure being unpacked.\n",
    "\n",
    "car_inventory = {\n",
    "    'Downtown': ('Silver Shadow', 'Pinto', 'DMC'),\n",
    "    'Airport': ('Skyline', 'Viper', 'Gremlin', 'Nova'),\n",
    "}\n",
    "\n",
    "((loc1, (best1, *rest1)),\n",
    " (loc2, (best2, *rest2))) = car_inventory.items()\n",
    "\n",
    "print(f'Best at {loc1} is {best1}, {len(rest1)} others')\n",
    "print(f'Best at {loc2} is {best2}, {len(rest2)} others')"
   ]
  },
  {
   "cell_type": "code",
   "execution_count": 25,
   "metadata": {},
   "outputs": [],
   "source": [
    "def generate_csv():\n",
    "    yield ('Date', 'Make', 'Model', 'Year', 'Price')\n",
    "    yield ('2020-2-2','Tesla', 'Y3', '2020', '13,000')"
   ]
  },
  {
   "cell_type": "code",
   "execution_count": 29,
   "metadata": {},
   "outputs": [
    {
     "name": "stdout",
     "output_type": "stream",
     "text": [
      "Header: ('Date', 'Make', 'Model', 'Year', 'Price')\n",
      "Row Count: 1\n"
     ]
    }
   ],
   "source": [
    "all_csv_rows= list(generate_csv())\n",
    "header = all_csv_rows[0]\n",
    "rows = all_csv_rows[1:]\n",
    "print(f'Header: {header}')\n",
    "print(f'Row Count: {len(rows)}')"
   ]
  },
  {
   "cell_type": "code",
   "execution_count": 31,
   "metadata": {},
   "outputs": [
    {
     "name": "stdout",
     "output_type": "stream",
     "text": [
      "Header: ('Date', 'Make', 'Model', 'Year', 'Price')\n",
      "Row Count: 1\n"
     ]
    }
   ],
   "source": [
    "it = generate_csv()\n",
    "header, *rows = it\n",
    "print(f'Header: {header}')\n",
    "print(f'Row Count: {len(rows)}')"
   ]
  },
  {
   "cell_type": "markdown",
   "metadata": {},
   "source": [
    "### Item 14 Sort by Complex Criteria Using the *key* Parameter"
   ]
  },
  {
   "cell_type": "code",
   "execution_count": 33,
   "metadata": {},
   "outputs": [
    {
     "data": {
      "text/plain": [
       "[11, 68, 70, 85, 93]"
      ]
     },
     "execution_count": 33,
     "metadata": {},
     "output_type": "execute_result"
    },
    {
     "data": {
      "text/plain": [
       "[11, 68, 70, 85, 93]"
      ]
     },
     "execution_count": 33,
     "metadata": {},
     "output_type": "execute_result"
    }
   ],
   "source": [
    "numbers = [93, 85, 11, 68, 70]\n",
    "numbers.sort()\n",
    "numbers\n",
    "# numbers_descending = sorted(numbers)\n",
    "# numbers_descending"
   ]
  },
  {
   "cell_type": "code",
   "execution_count": 36,
   "metadata": {},
   "outputs": [],
   "source": [
    "class Tool:\n",
    "    def __init__(self, name, weight):\n",
    "        self.name = name\n",
    "        self.weight = weight\n",
    "    \n",
    "    def __repr__(self):\n",
    "        return f'Tool({self.name!r},{self.weight})'\n",
    "\n",
    "tools = [\n",
    "    Tool('level', 3.5),\n",
    "    Tool('hammer', 1.25),\n",
    "    Tool('screwdriver', 0.5),\n",
    "    Tool('chisel', 0.25),\n",
    "]\n"
   ]
  },
  {
   "cell_type": "code",
   "execution_count": 38,
   "metadata": {},
   "outputs": [
    {
     "name": "stdout",
     "output_type": "stream",
     "text": [
      "Unsorted:  [Tool('level',3.5), Tool('hammer',1.25), Tool('screwdriver',0.5), Tool('chisel',0.25)]\n",
      "\n",
      "Sorted:  [Tool('chisel',0.25), Tool('hammer',1.25), Tool('level',3.5), Tool('screwdriver',0.5)]\n"
     ]
    }
   ],
   "source": [
    "print('Unsorted: ', repr(tools))\n",
    "tools.sort(key= lambda x: x.name)\n",
    "print('\\nSorted: ', tools)"
   ]
  },
  {
   "cell_type": "code",
   "execution_count": 39,
   "metadata": {},
   "outputs": [
    {
     "name": "stdout",
     "output_type": "stream",
     "text": [
      "Unsorted:  [Tool('chisel',0.25), Tool('hammer',1.25), Tool('level',3.5), Tool('screwdriver',0.5)]\n",
      "\n",
      "Sorted:  [Tool('chisel',0.25), Tool('screwdriver',0.5), Tool('hammer',1.25), Tool('level',3.5)]\n"
     ]
    }
   ],
   "source": [
    "print('Unsorted: ', repr(tools))\n",
    "tools.sort(key= lambda x: x.weight)\n",
    "print('\\nSorted: ', tools)"
   ]
  },
  {
   "cell_type": "code",
   "execution_count": 41,
   "metadata": {},
   "outputs": [
    {
     "name": "stdout",
     "output_type": "stream",
     "text": [
      "Case Sensitive: ['New York', 'Paris', 'home', 'work'] \n",
      "Case insensitive: ['home', 'New York', 'Paris', 'work'] \n"
     ]
    }
   ],
   "source": [
    "places = ['home', 'work', 'New York', 'Paris']\n",
    "places.sort()\n",
    "print('Case Sensitive: %s ' % places)\n",
    "places.sort(key = lambda x: x.lower())\n",
    "print('Case insensitive: %s ' % places)"
   ]
  },
  {
   "cell_type": "code",
   "execution_count": 42,
   "metadata": {},
   "outputs": [
    {
     "data": {
      "text/plain": [
       "[Tool('drill',4),\n",
       " Tool('sander',4),\n",
       " Tool('circular saw',5),\n",
       " Tool('jackhammer',40)]"
      ]
     },
     "execution_count": 42,
     "metadata": {},
     "output_type": "execute_result"
    }
   ],
   "source": [
    "# multiple criteria for sorting\n",
    "power_tools = [\n",
    "    Tool('drill', 4),\n",
    "    Tool('circular saw', 5),\n",
    "    Tool('jackhammer', 40),\n",
    "    Tool('sander', 4),\n",
    "]\n",
    "\n",
    "power_tools.sort(key = lambda x: (x.weight, x.name))\n",
    "power_tools"
   ]
  },
  {
   "cell_type": "code",
   "execution_count": 43,
   "metadata": {},
   "outputs": [
    {
     "data": {
      "text/plain": [
       "[Tool('jackhammer',40),\n",
       " Tool('circular saw',5),\n",
       " Tool('sander',4),\n",
       " Tool('drill',4)]"
      ]
     },
     "execution_count": 43,
     "metadata": {},
     "output_type": "execute_result"
    }
   ],
   "source": [
    "# one limitation of having the key function return a tuple is that the\n",
    "# direction of sorting for all criteria must be the same (either all in\n",
    "# ascending order, or all in descending order).\n",
    "power_tools.sort(key = lambda x: (x.weight, x.name), reverse = True)\n",
    "power_tools"
   ]
  },
  {
   "cell_type": "code",
   "execution_count": 44,
   "metadata": {},
   "outputs": [
    {
     "data": {
      "text/plain": [
       "[Tool('jackhammer',40),\n",
       " Tool('circular saw',5),\n",
       " Tool('drill',4),\n",
       " Tool('sander',4)]"
      ]
     },
     "execution_count": 44,
     "metadata": {},
     "output_type": "execute_result"
    }
   ],
   "source": [
    "# sort by weight descending, and then by name ascending\n",
    "power_tools.sort(key = lambda x: (-x.weight, x.name))\n",
    "power_tools"
   ]
  },
  {
   "cell_type": "code",
   "execution_count": 45,
   "metadata": {},
   "outputs": [
    {
     "data": {
      "text/plain": [
       "[Tool('jackhammer',40),\n",
       " Tool('circular saw',5),\n",
       " Tool('drill',4),\n",
       " Tool('sander',4)]"
      ]
     },
     "execution_count": 45,
     "metadata": {},
     "output_type": "execute_result"
    }
   ],
   "source": [
    "# stable sorting algorithm\n",
    "\n",
    "# You just need to make sure that you execute the sorts in the opposite sequence\n",
    "# of what you want the final list to contain. \n",
    "\n",
    "# In this example, I wanted the sort order to be by weight descending and then by name ascending,\n",
    "# so I had to do the name sort first, followed by the weight sort.\n",
    "\n",
    "power_tools.sort(key = lambda x: x.name)\n",
    "power_tools.sort(key = lambda x: x.weight, reverse = True)\n",
    "power_tools"
   ]
  },
  {
   "cell_type": "code",
   "execution_count": null,
   "metadata": {},
   "outputs": [],
   "source": []
  }
 ],
 "metadata": {
  "kernelspec": {
   "display_name": "Python 3",
   "language": "python",
   "name": "python3"
  },
  "language_info": {
   "codemirror_mode": {
    "name": "ipython",
    "version": 3
   },
   "file_extension": ".py",
   "mimetype": "text/x-python",
   "name": "python",
   "nbconvert_exporter": "python",
   "pygments_lexer": "ipython3",
   "version": "3.8.5"
  },
  "toc": {
   "base_numbering": 1,
   "nav_menu": {},
   "number_sections": true,
   "sideBar": true,
   "skip_h1_title": false,
   "title_cell": "Table of Contents",
   "title_sidebar": "Contents",
   "toc_cell": false,
   "toc_position": {},
   "toc_section_display": true,
   "toc_window_display": false
  }
 },
 "nbformat": 4,
 "nbformat_minor": 4
}
