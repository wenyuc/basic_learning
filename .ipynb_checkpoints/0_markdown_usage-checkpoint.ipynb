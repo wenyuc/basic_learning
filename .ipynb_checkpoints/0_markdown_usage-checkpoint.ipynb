{
 "cells": [
  {
   "cell_type": "markdown",
   "metadata": {},
   "source": [
    "https://blog.csdn.net/weixin_35073408/article/details/100586583?utm_medium=distribute.pc_relevant.none-task-blog-2%7Edefault%7EOPENSEARCH%7Edefault-17.control&depth_1-utm_source=distribute.pc_relevant.none-task-blog-2%7Edefault%7EOPENSEARCH%7Edefault-17.control\n",
    "\n",
    "一个有用的文档在MacBook ~wenyuc/Documents/tools/Markdown*"
   ]
  },
  {
   "cell_type": "markdown",
   "metadata": {},
   "source": [
    "## Heading\n",
    "\n",
    "regular text\n",
    "\n",
    "**bold**\n",
    "\n",
    "*italic*\n",
    "\n",
    "~~delete~~\n",
    "\n",
    "<u>underline</u>\n",
    "\n",
    "hello^2^\n",
    "\n",
    "hello~2~\n",
    "\n",
    "\n",
    "- bullet1\n",
    "- bullet2\n",
    "\n",
    "① ② ③ ④ ⑤ ⑥ ⑦ ⑧ ⑨ ⑩\n",
    "\n",
    "⑪ ⑫ ⑬ ⑭ ⑮ ⑯ ⑰ ⑱ ⑲ ⑳"
   ]
  },
  {
   "cell_type": "markdown",
   "metadata": {},
   "source": [
    "## 带圈的数字\n",
    "\n",
    "带圆圈的数字：\n",
    "\n",
    "⓪ ① ② ③ ④ ⑤ ⑥ ⑦ ⑧ ⑨ ⑩ ⑪ ⑫ ⑬ ⑭ ⑮ ⑯ ⑰ ⑱ ⑲ ⑳ ㉑ ㉒ ㉓ ㉔ ㉕ ㉖ ㉗ ㉘ ㉙ ㉚ ㉛ ㉜ ㉝ ㉞ ㉟ ㊱ ㊲ ㊳ ㊴ ㊵ ㊶ ㊷ ㊸ ㊹ ㊺ ㊻ ㊼ ㊽ ㊾ ㊿\n",
    "These are specifically sans-serif:\n",
    "🄋 ➀ ➁ ➂ ➃ ➄ ➅ ➆ ➇ ➈ ➉\n",
    "\n",
    "Black Circled Number\n",
    "⓿ ❶ ❷ ❸ ❹ ❺ ❻ ❼ ❽ ❾ ❿⓫ ⓬ ⓭ ⓮ ⓯ ⓰ ⓱ ⓲ ⓳ ⓴\n",
    "\n",
    "These are specifically sans-serif:\n",
    "🄌 ➊ ➋ ➌ ➍ ➎ ➏ ➐ ➑ ➒ ➓\n",
    "\n",
    "ON BLACK SQUARE\n",
    "㉈ ㉉ ㉊ ㉋ ㉌ ㉍ ㉎ ㉏\n",
    "\n",
    "Double-Circled Number\n",
    "⓵ ⓶ ⓷ ⓸ ⓹ ⓺ ⓻ ⓼ ⓽ ⓾\n",
    "\n",
    "Number with Period\n",
    "🄀 ⒈ ⒉ ⒊ ⒋ ⒌ ⒍ ⒎ ⒏ ⒐ ⒑ ⒒ ⒓ ⒔ ⒕ ⒖ ⒗ ⒘ ⒙ ⒚ ⒛\n",
    "\n",
    "Number with Parenthesis\n",
    "⑴ ⑵ ⑶ ⑷ ⑸ ⑹ ⑺ ⑻ ⑼ ⑽ ⑾ ⑿ ⒀ ⒁ ⒂ ⒃ ⒄ ⒅ ⒆ ⒇\n",
    "\n",
    "Chinese Circled Number\n",
    "㊀ ㊁ ㊂ ㊃ ㊄ ㊅ ㊆ ㊇ ㊈ ㊉\n",
    "\n",
    "ⓐⓑⓒⓓⓔⓕⓖⓗⓘⓙⓚⓛⓜⓝⓞⓟⓠⓡⓢⓣⓤⓥⓦⓧⓨⓩ⓪\n",
    "ⒶⒷⒸⒹⒺⒻⒼⒽⒾⒿⓀⓁⓂⓃⓄⓅⓆⓇⓈⓉⓊⓋⓌⓍⓎⓏ"
   ]
  },
  {
   "cell_type": "markdown",
   "metadata": {},
   "source": [
    "- Ctrl-a begin of the line\n",
    "- Ctrl-e end of the line"
   ]
  },
  {
   "cell_type": "markdown",
   "metadata": {},
   "source": []
  }
 ],
 "metadata": {
  "kernelspec": {
   "display_name": "Python 3",
   "language": "python",
   "name": "python3"
  },
  "language_info": {
   "codemirror_mode": {
    "name": "ipython",
    "version": 3
   },
   "file_extension": ".py",
   "mimetype": "text/x-python",
   "name": "python",
   "nbconvert_exporter": "python",
   "pygments_lexer": "ipython3",
   "version": "3.8.5"
  },
  "toc": {
   "base_numbering": 1,
   "nav_menu": {},
   "number_sections": true,
   "sideBar": true,
   "skip_h1_title": false,
   "title_cell": "Table of Contents",
   "title_sidebar": "Contents",
   "toc_cell": false,
   "toc_position": {},
   "toc_section_display": true,
   "toc_window_display": false
  }
 },
 "nbformat": 4,
 "nbformat_minor": 4
}
