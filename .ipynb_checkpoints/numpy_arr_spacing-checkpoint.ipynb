{
 "cells": [
  {
   "cell_type": "code",
   "execution_count": 1,
   "metadata": {},
   "outputs": [],
   "source": [
    "import numpy as np\n"
   ]
  },
  {
   "cell_type": "code",
   "execution_count": 5,
   "metadata": {},
   "outputs": [
    {
     "data": {
      "text/plain": [
       "array([ 0.  ,  1.25,  2.5 ,  3.75,  5.  ,  6.25,  7.5 ,  8.75, 10.  ])"
      ]
     },
     "execution_count": 5,
     "metadata": {},
     "output_type": "execute_result"
    }
   ],
   "source": [
    "# 等距间隔\n",
    "arr = np.linspace(0,10,9)\n",
    "arr"
   ]
  },
  {
   "cell_type": "code",
   "execution_count": 15,
   "metadata": {},
   "outputs": [
    {
     "name": "stdout",
     "output_type": "stream",
     "text": [
      "[0.0, 1.0, 2.0, 3.0, 4.0, 5.0, 6.0, 7.0, 8.0, 9.0, 10.0]\n",
      "* *  *   *    *     *      *       *        *         *          *\n"
     ]
    }
   ],
   "source": [
    "def my_lin(lb,ub,steps):\n",
    "    dx = (ub - lb) / (steps -1)\n",
    "    return [lb + i * dx for i in range(steps)]\n",
    "arr = my_lin(0,10,11)\n",
    "print(arr)\n",
    "# visualize the spacing\n",
    "# print(''.join(' '*int(a)+'*' for a in arr))"
   ]
  },
  {
   "cell_type": "code",
   "execution_count": 11,
   "metadata": {},
   "outputs": [
    {
     "name": "stdout",
     "output_type": "stream",
     "text": [
      "[1.00000000e+001 7.94328235e+010 6.30957344e+020 5.01187234e+030\n",
      " 3.98107171e+040 3.16227766e+050 2.51188643e+060 1.99526231e+070\n",
      " 1.58489319e+080 1.25892541e+090 1.00000000e+100]\n"
     ]
    }
   ],
   "source": [
    "# 对数间隔\n",
    "arr = np.logspace(1,100,11)\n",
    "print(arr)\n",
    "# visualize the spacing\n",
    "#print(''.join(' '*int(2*a)+'*' for a in arr))"
   ]
  },
  {
   "cell_type": "code",
   "execution_count": 17,
   "metadata": {},
   "outputs": [
    {
     "name": "stdout",
     "output_type": "stream",
     "text": [
      "[1.0, 0.5, 0.3333333333333333, 0.25, 0.2, 0.16666666666666666, 0.14285714285714285, 0.125, 0.1111111111111111]\n",
      "  * ********\n"
     ]
    }
   ],
   "source": [
    "# Harmonic spacing\n",
    "def harmonic_series(lb,n):\n",
    "    return [float(lb)/float(i) for i in range(1,n)]\n",
    "arr = harmonic_series(1,10)\n",
    "print(arr)\n",
    "# visualize the spacing\n",
    "# print(''.join(' '*int(2*a)+'*' for a in arr))"
   ]
  },
  {
   "cell_type": "code",
   "execution_count": null,
   "metadata": {},
   "outputs": [],
   "source": []
  }
 ],
 "metadata": {
  "kernelspec": {
   "display_name": "Python 3",
   "language": "python",
   "name": "python3"
  },
  "language_info": {
   "codemirror_mode": {
    "name": "ipython",
    "version": 3
   },
   "file_extension": ".py",
   "mimetype": "text/x-python",
   "name": "python",
   "nbconvert_exporter": "python",
   "pygments_lexer": "ipython3",
   "version": "3.8.5"
  },
  "toc": {
   "base_numbering": 1,
   "nav_menu": {},
   "number_sections": true,
   "sideBar": true,
   "skip_h1_title": false,
   "title_cell": "Table of Contents",
   "title_sidebar": "Contents",
   "toc_cell": false,
   "toc_position": {},
   "toc_section_display": true,
   "toc_window_display": false
  }
 },
 "nbformat": 4,
 "nbformat_minor": 4
}
