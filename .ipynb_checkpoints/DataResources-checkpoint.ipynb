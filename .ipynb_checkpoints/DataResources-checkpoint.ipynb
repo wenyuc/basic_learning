{
 "cells": [
  {
   "cell_type": "markdown",
   "metadata": {},
   "source": [
    "https://blog.csdn.net/jake_tian/article/details/105987647?ops_request_misc=%257B%2522request%255Fid%2522%253A%2522162212473516780262535323%2522%252C%2522scm%2522%253A%252220140713.130102334.pc%255Fall.%2522%257D&request_id=162212473516780262535323&biz_id=0&utm_medium=distribute.pc_search_result.none-task-blog-2~all~first_rank_v2~rank_v29-4-105987647.first_rank_v2_pc_rank_v29&utm_term=%E6%9C%89%E7%94%A8%E7%9A%84%E6%95%B0%E6%8D%AE%E6%BA%90&spm=1018.2226.3001.4187"
   ]
  },
  {
   "cell_type": "markdown",
   "metadata": {},
   "source": [
    "### 国家数据\n",
    "\n",
    "链接：http://data.stats.gov.cn/index.htm (国家数据)\n",
    "\n",
    "数据来源于中国国家统计局，包含了我国经济民生等多个方面的数据，并且在月度、季度、年度都有覆盖，较为全面和权威，对于社会科学的研究不要太有帮助。最关键的是，网站简洁美观，还有专门的可视化读物。\n",
    "\n",
    "user: chenwenyu077@live.com\n",
    "\n",
    "pw:c\\**2**%4**"
   ]
  },
  {
   "cell_type": "markdown",
   "metadata": {},
   "source": [
    "### CEIC数据 (Global Economic Data, Indicators, Charts & Forecasts)\n",
    "https://www.ceicdata.com/zh-hans\n",
    "\n",
    "user: chenwenyu077@live.com\n",
    "\n",
    "pw:c*2*%4**"
   ]
  },
  {
   "cell_type": "markdown",
   "metadata": {},
   "source": [
    "### 联合国数据库\n",
    "https://data.un.org\n"
   ]
  },
  {
   "cell_type": "markdown",
   "metadata": {},
   "source": [
    "### 世界银行公开数据\n",
    "http://data.worldbank.org.cn/"
   ]
  },
  {
   "cell_type": "markdown",
   "metadata": {},
   "source": [
    "### 中国统计年鉴\n",
    "http://www.stats.gov.cn/tjsj/ndsj/"
   ]
  },
  {
   "cell_type": "markdown",
   "metadata": {},
   "source": [
    "### PM2.5\n",
    "http://pm25.in/"
   ]
  },
  {
   "cell_type": "code",
   "execution_count": null,
   "metadata": {},
   "outputs": [],
   "source": []
  }
 ],
 "metadata": {
  "kernelspec": {
   "display_name": "Python 3",
   "language": "python",
   "name": "python3"
  },
  "language_info": {
   "codemirror_mode": {
    "name": "ipython",
    "version": 3
   },
   "file_extension": ".py",
   "mimetype": "text/x-python",
   "name": "python",
   "nbconvert_exporter": "python",
   "pygments_lexer": "ipython3",
   "version": "3.8.5"
  },
  "toc": {
   "base_numbering": 1,
   "nav_menu": {},
   "number_sections": true,
   "sideBar": true,
   "skip_h1_title": false,
   "title_cell": "Table of Contents",
   "title_sidebar": "Contents",
   "toc_cell": false,
   "toc_position": {},
   "toc_section_display": true,
   "toc_window_display": false
  }
 },
 "nbformat": 4,
 "nbformat_minor": 4
}
