{
 "cells": [
  {
   "cell_type": "code",
   "execution_count": 1,
   "metadata": {},
   "outputs": [],
   "source": [
    "from IPython.core.interactiveshell import InteractiveShell\n",
    "InteractiveShell.ast_node_interactivity = \"all\""
   ]
  },
  {
   "cell_type": "markdown",
   "metadata": {},
   "source": [
    "### Basic"
   ]
  },
  {
   "cell_type": "code",
   "execution_count": 1,
   "metadata": {},
   "outputs": [
    {
     "name": "stdout",
     "output_type": "stream",
     "text": [
      "1.19.2\n",
      "[1 2 3 4 5 6] int32\n",
      "[ 7  8  9 10 11 12] int32\n"
     ]
    }
   ],
   "source": [
    "import numpy as np\n",
    "\n",
    "print(np.__version__)\n",
    "a = np.array([1,2,3,4,5,6])\n",
    "b = np.array([7,8,9,10,11,12])\n",
    "print(a, a.dtype)\n",
    "print(b, b.dtype)"
   ]
  },
  {
   "cell_type": "code",
   "execution_count": 2,
   "metadata": {},
   "outputs": [
    {
     "data": {
      "text/plain": [
       "dtype('float64')"
      ]
     },
     "execution_count": 2,
     "metadata": {},
     "output_type": "execute_result"
    }
   ],
   "source": [
    "B = np.array((5,6,7.8,3))\n",
    "B.dtype"
   ]
  },
  {
   "cell_type": "code",
   "execution_count": 3,
   "metadata": {},
   "outputs": [
    {
     "data": {
      "text/plain": [
       "1"
      ]
     },
     "execution_count": 3,
     "metadata": {},
     "output_type": "execute_result"
    }
   ],
   "source": [
    "a[0]"
   ]
  },
  {
   "cell_type": "code",
   "execution_count": 4,
   "metadata": {},
   "outputs": [
    {
     "data": {
      "text/plain": [
       "array([7, 2, 3, 4, 5, 6])"
      ]
     },
     "execution_count": 4,
     "metadata": {},
     "output_type": "execute_result"
    }
   ],
   "source": [
    "a[0] = 7.4\n",
    "a"
   ]
  },
  {
   "cell_type": "code",
   "execution_count": 5,
   "metadata": {},
   "outputs": [
    {
     "data": {
      "text/plain": [
       "dtype('int32')"
      ]
     },
     "execution_count": 5,
     "metadata": {},
     "output_type": "execute_result"
    }
   ],
   "source": [
    "# the element of numpy array can be changed. But the array's dtype is inchangeable.\n",
    "a.dtype\n"
   ]
  },
  {
   "cell_type": "code",
   "execution_count": 6,
   "metadata": {},
   "outputs": [
    {
     "name": "stdout",
     "output_type": "stream",
     "text": [
      "2\n",
      "[1 2 3]\n",
      "[4 5 6]\n",
      "2\n",
      "6\n"
     ]
    }
   ],
   "source": [
    "a = np.array([[1,2,3], [4,5,6]])\n",
    "print(a.ndim)\n",
    "print(a[0])\n",
    "print(a[1])\n",
    "print(a[0][1])\n",
    "print(a[1][2])"
   ]
  },
  {
   "cell_type": "code",
   "execution_count": 7,
   "metadata": {},
   "outputs": [
    {
     "name": "stdout",
     "output_type": "stream",
     "text": [
      "3\n",
      "(2, 2, 3)\n",
      "2 2 3\n"
     ]
    }
   ],
   "source": [
    "b = np.array([[[1,2,3], [4,5,6]], [[4,5,6], [1,2,3]]])\n",
    "print(b.ndim)\n",
    "print(b.shape)\n",
    "print(b.shape[0], b.shape[1], b.shape[2])"
   ]
  },
  {
   "cell_type": "code",
   "execution_count": 8,
   "metadata": {},
   "outputs": [
    {
     "data": {
      "text/plain": [
       "array([0, 1, 2, 3, 4, 5, 6, 7, 8, 9])"
      ]
     },
     "execution_count": 8,
     "metadata": {},
     "output_type": "execute_result"
    }
   ],
   "source": [
    "A = np.arange(10)\n",
    "A"
   ]
  },
  {
   "cell_type": "code",
   "execution_count": 9,
   "metadata": {},
   "outputs": [
    {
     "data": {
      "text/plain": [
       "array([9, 8, 7, 6, 5, 4, 3, 2, 1, 0])"
      ]
     },
     "execution_count": 9,
     "metadata": {},
     "output_type": "execute_result"
    }
   ],
   "source": [
    "A[::-1]"
   ]
  },
  {
   "cell_type": "markdown",
   "metadata": {},
   "source": [
    "### 常量"
   ]
  },
  {
   "cell_type": "markdown",
   "metadata": {},
   "source": [
    "np.nan, np.NaN, np.NAN表示空值\n",
    "**但是他们并不相等**"
   ]
  },
  {
   "cell_type": "code",
   "execution_count": 7,
   "metadata": {},
   "outputs": [
    {
     "name": "stdout",
     "output_type": "stream",
     "text": [
      "False\n",
      "True\n",
      "True\n"
     ]
    }
   ],
   "source": [
    "import numpy as np\n",
    "\n",
    "print(np.nan == np.nan)    #False\n",
    "print(np.nan != np.nan)    #True\n",
    "print(np.nan != np.NAN)    #True"
   ]
  },
  {
   "cell_type": "markdown",
   "metadata": {},
   "source": [
    "np.isnan(x, *args, *kwargs) Test element-wise for NaN and return result as a boolean array."
   ]
  },
  {
   "cell_type": "code",
   "execution_count": 10,
   "metadata": {},
   "outputs": [
    {
     "name": "stdout",
     "output_type": "stream",
     "text": [
      "[ 1.  1.  8. nan 10.]\n",
      "[False False False  True False]\n",
      "1\n"
     ]
    }
   ],
   "source": [
    "import numpy as np\n",
    "x = np.array([1,1,8,np.nan, 10])\n",
    "print(x)\n",
    "y = np.isnan(x)\n",
    "print(y)\n",
    "z = np.count_nonzero(y)\n",
    "print(z)"
   ]
  },
  {
   "cell_type": "markdown",
   "metadata": {},
   "source": [
    "numpy.inf 表示正无穷大\n",
    "numpy.pi 表示圆周率pi\n",
    "numpy.e 表示自然常数e"
   ]
  },
  {
   "cell_type": "markdown",
   "metadata": {},
   "source": [
    "### Numpy基本数据类型"
   ]
  },
  {
   "cell_type": "markdown",
   "metadata": {},
   "source": [
    "|类型       |备注  |说明   |\n",
    "|----------|----|------|\n",
    "|bool_=bool8|8位|布尔类型|\n",
    "|int8 = byte|8位|整型|\n",
    "|int16=short|16位|整型|\n",
    "|int32=intc|32位|整型|\n",
    "|int_=int64=long=int0=intp|64位|整型|\n",
    "|uint8=ubyte|8位|无符号整数|\n",
    "|uint16=ushort|16位|无符号整数|\n",
    "|uint32=uintc|32位|无符号整数|\n",
    "|uint64=uintp=unit0=uint|64位|无符号整数|\n",
    "|float16=half|16位|浮点型|\n",
    "|float32=single|32位|浮点型|\n",
    "|float_=float64=double|64位|浮点型|\n",
    "|str =*unicode* = str0=unicode|   |Unicode字符串|\n",
    "|datetime64    |  |日期时间类型|\n",
    "|timedelta64   |   | 表示二个时间之间的间隔|\n"
   ]
  },
  {
   "cell_type": "markdown",
   "metadata": {},
   "source": [
    "**每个内建类型都有一个唯一定义它的字符代码**\n",
    "\n",
    "|字符   |对应类型  |备注  |\n",
    "|------|---------|-----|\n",
    "|b      |boolean |‘b1’|\n",
    "|i     |signed integer|'i1','i2','i4', 'i8'|\n",
    "|u     |unsigned integer|'u1', 'u2', 'u4', 'u8'|\n",
    "|f     |floating-point| 'f2', 'f4', 'f8'|\n",
    "|c     |complex floating-point|         |\n",
    "|m     |timedelta64   |表示两个时间的间隔  |\n",
    "|M     |datetime64    |日期事件类型       |\n",
    "|O     |object        |                 |\n",
    "|S     |(byte-)string |S3表示长度为3的字符串|\n",
    "|U     |Unicode       |Unicode字符串     |\n",
    "|V     |Void          |                 |"
   ]
  },
  {
   "cell_type": "code",
   "execution_count": 19,
   "metadata": {},
   "outputs": [
    {
     "name": "stdout",
     "output_type": "stream",
     "text": [
      "<class 'numpy.bool_'>\n",
      "1\n",
      "<class 'numpy.int8'>\n",
      "1\n",
      "<class 'numpy.int16'>\n",
      "2\n",
      "<class 'numpy.int32'>\n",
      "4\n",
      "<class 'numpy.int64'>\n",
      "8\n",
      "<class 'numpy.uint8'>\n",
      "1\n",
      "<class 'numpy.uint16'>\n",
      "2\n",
      "<class 'numpy.uint32'>\n",
      "4\n",
      "<class 'numpy.uint64'>\n",
      "8\n",
      "<class 'numpy.float16'>\n",
      "2\n",
      "<class 'numpy.float32'>\n",
      "4\n",
      "<class 'numpy.float64'>\n",
      "8\n",
      "<class 'numpy.bytes_'>\n",
      "0\n",
      "<class 'numpy.bytes_'>\n",
      "3\n",
      "<class 'numpy.str_'>\n",
      "12\n"
     ]
    }
   ],
   "source": [
    "import numpy as np\n",
    "\n",
    "a = np.dtype('b1')\n",
    "print(a.type)    # <class 'numpy.bool_'>\n",
    "print(a.itemsize)    #1\n",
    "\n",
    "a = np.dtype('i1')\n",
    "print(a.type)    # <class 'numpy.int8'>\n",
    "print(a.itemsize)    #1\n",
    "a = np.dtype('i2')\n",
    "print(a.type)    # <class 'numpy.int16'>\n",
    "print(a.itemsize)    #2\n",
    "a = np.dtype('i4')\n",
    "print(a.type)    # <class 'numpy.int32'>\n",
    "print(a.itemsize)    #4\n",
    "a = np.dtype('i8')\n",
    "print(a.type)    # <class 'numpy.int64'>\n",
    "print(a.itemsize)    #8\n",
    "\n",
    "a = np.dtype('u1')\n",
    "print(a.type)    # <class 'numpy.uint8'>\n",
    "print(a.itemsize)    #1\n",
    "a = np.dtype('u2')\n",
    "print(a.type)    # <class 'numpy.uint16'>\n",
    "print(a.itemsize)    #2\n",
    "a = np.dtype('u4')\n",
    "print(a.type)    # <class 'numpy.uint32'>\n",
    "print(a.itemsize)    #4\n",
    "a = np.dtype('u8')\n",
    "print(a.type)    # <class 'numpy.uint64'>\n",
    "print(a.itemsize)    #8\n",
    "\n",
    "a = np.dtype('f2')\n",
    "print(a.type)    # <class 'numpy.float16'>\n",
    "print(a.itemsize)    #2\n",
    "a = np.dtype('f4')\n",
    "print(a.type)    # <class 'numpy.float32'>\n",
    "print(a.itemsize)    #4\n",
    "a = np.dtype('f8')\n",
    "print(a.type)    # <class 'numpy.float64'>\n",
    "print(a.itemsize)    #8\n",
    "\n",
    "a = np.dtype('S')\n",
    "print(a.type)    # <class 'numpy.bytes_'>\n",
    "print(a.itemsize)    #0\n",
    "a = np.dtype('S3')\n",
    "print(a.type)    # <class 'numpy.bytes_'>\n",
    "print(a.itemsize)    #3\n",
    "\n",
    "a = np.dtype('U3')\n",
    "print(a.type)    # <class 'numpy.str_'>\n",
    "print(a.itemsize)    #12\n"
   ]
  },
  {
   "cell_type": "code",
   "execution_count": 24,
   "metadata": {},
   "outputs": [
    {
     "name": "stdout",
     "output_type": "stream",
     "text": [
      "-32768\n",
      "32767\n",
      "-2147483648\n",
      "2147483647\n"
     ]
    }
   ],
   "source": [
    "class iinfo(object):\n",
    "    def __init__(self, int_type):\n",
    "        pass\n",
    "    def min(self):\n",
    "        pass\n",
    "    def max(self):\n",
    "        pass\n",
    "\n",
    "import numpy as np\n",
    "\n",
    "ii16 = np.iinfo(np.int16)\n",
    "print(ii16.min)    #-32768\n",
    "print(ii16.max)    #32767\n",
    "\n",
    "ii32 = np.iinfo(np.int32)\n",
    "print(ii32.min)    #-2147483648\n",
    "print(ii32.max)    #2147483647"
   ]
  },
  {
   "cell_type": "code",
   "execution_count": 26,
   "metadata": {},
   "outputs": [
    {
     "name": "stdout",
     "output_type": "stream",
     "text": [
      "16\n",
      "-65500.0\n",
      "65500.0\n",
      "0.000977\n",
      "32\n",
      "-3.4028235e+38\n",
      "3.4028235e+38\n",
      "1.1920929e-07\n"
     ]
    }
   ],
   "source": [
    "class finfo(object):\n",
    "    def __init__(self, int_type):\n",
    "        pass\n",
    "    def min(self):\n",
    "        pass\n",
    "    def max(self):\n",
    "        pass\n",
    "\n",
    "import numpy as np\n",
    "\n",
    "ff16 = np.finfo(np.float16)\n",
    "print(ff16.bits)\n",
    "print(ff16.min)    #-65500\n",
    "print(ff16.max)    #65500\n",
    "print(ff16.eps)\n",
    "\n",
    "ff32 = np.finfo(np.float32)\n",
    "print(ff32.bits)   #32\n",
    "print(ff32.min)    #-3.4028235e+38\n",
    "print(ff32.max)    #3.4028235e+38\n",
    "print(ff32.eps)    #1.1920929e-07"
   ]
  },
  {
   "cell_type": "markdown",
   "metadata": {},
   "source": [
    "### INDEX ARRAY"
   ]
  },
  {
   "cell_type": "code",
   "execution_count": 2,
   "metadata": {},
   "outputs": [
    {
     "name": "stdout",
     "output_type": "stream",
     "text": [
      "[4 3 5 3 3]\n",
      "(array([0, 1, 3, 4], dtype=int64),)\n"
     ]
    }
   ],
   "source": [
    "arr = np.random.randint(0,10,(5,))\n",
    "print(arr)\n",
    "index = np.where(arr<5)\n",
    "print(index)"
   ]
  },
  {
   "cell_type": "code",
   "execution_count": 10,
   "metadata": {},
   "outputs": [
    {
     "data": {
      "text/plain": [
       "array([1, 3, 7])"
      ]
     },
     "execution_count": 10,
     "metadata": {},
     "output_type": "execute_result"
    }
   ],
   "source": [
    "A[[1,3,7]]"
   ]
  },
  {
   "cell_type": "code",
   "execution_count": 11,
   "metadata": {},
   "outputs": [
    {
     "data": {
      "text/plain": [
       "array([3, 9, 5, 6, 2, 1, 7, 4, 0, 8])"
      ]
     },
     "execution_count": 11,
     "metadata": {},
     "output_type": "execute_result"
    }
   ],
   "source": [
    "A = np.random.permutation(np.arange(10))\n",
    "A"
   ]
  },
  {
   "cell_type": "code",
   "execution_count": 12,
   "metadata": {},
   "outputs": [
    {
     "data": {
      "text/plain": [
       "array([2, 6, 0])"
      ]
     },
     "execution_count": 12,
     "metadata": {},
     "output_type": "execute_result"
    }
   ],
   "source": [
    "A[[4,3,8]]"
   ]
  },
  {
   "cell_type": "code",
   "execution_count": 13,
   "metadata": {},
   "outputs": [
    {
     "data": {
      "text/plain": [
       "array([3, 9, 6, 7, 0, 8])"
      ]
     },
     "execution_count": 13,
     "metadata": {},
     "output_type": "execute_result"
    }
   ],
   "source": [
    "A[[True, True, False, True, False, False,True, False, True, True]]\n"
   ]
  },
  {
   "cell_type": "code",
   "execution_count": 14,
   "metadata": {},
   "outputs": [
    {
     "data": {
      "text/plain": [
       "array([3, 2, 1, 0])"
      ]
     },
     "execution_count": 14,
     "metadata": {},
     "output_type": "execute_result"
    }
   ],
   "source": [
    "A[A<4]"
   ]
  },
  {
   "cell_type": "code",
   "execution_count": 17,
   "metadata": {},
   "outputs": [
    {
     "data": {
      "text/plain": [
       "array([9, 5, 6, 7, 8])"
      ]
     },
     "execution_count": 17,
     "metadata": {},
     "output_type": "execute_result"
    }
   ],
   "source": [
    "A[(A>4)]"
   ]
  },
  {
   "cell_type": "code",
   "execution_count": null,
   "metadata": {},
   "outputs": [],
   "source": [
    "B = np.random.rand(1000000)\n",
    "%timeit np.sum(B)"
   ]
  },
  {
   "cell_type": "code",
   "execution_count": null,
   "metadata": {},
   "outputs": [],
   "source": [
    "%timeit B.sum()"
   ]
  },
  {
   "cell_type": "code",
   "execution_count": null,
   "metadata": {},
   "outputs": [],
   "source": [
    "%timeit sum(B)\n"
   ]
  },
  {
   "cell_type": "code",
   "execution_count": null,
   "metadata": {},
   "outputs": [],
   "source": [
    "%%timeit\n",
    "s = 0\n",
    "for x in B:\n",
    "    s += x"
   ]
  },
  {
   "cell_type": "markdown",
   "metadata": {},
   "source": [
    "**astype() to convert to another type **"
   ]
  },
  {
   "cell_type": "code",
   "execution_count": 19,
   "metadata": {},
   "outputs": [
    {
     "data": {
      "text/plain": [
       "array([ 1.2, -9.6, 42. ])"
      ]
     },
     "execution_count": 19,
     "metadata": {},
     "output_type": "execute_result"
    }
   ],
   "source": [
    "numeric_strings = np.array(['1.2', '-9.6', '42'], dtype = np.string_)\n",
    "numeric_strings.astype(float)"
   ]
  },
  {
   "cell_type": "code",
   "execution_count": 20,
   "metadata": {},
   "outputs": [
    {
     "data": {
      "text/plain": [
       "array([ 3, -1, -2,  0, 12, 10])"
      ]
     },
     "execution_count": 20,
     "metadata": {},
     "output_type": "execute_result"
    }
   ],
   "source": [
    "arr = np.array([3.7, -1.2, -2.6, 0.5, 12.9, 10.1])\n",
    "arr.astype(np.int32)"
   ]
  },
  {
   "cell_type": "code",
   "execution_count": 21,
   "metadata": {},
   "outputs": [
    {
     "data": {
      "text/plain": [
       "dtype('int32')"
      ]
     },
     "execution_count": 21,
     "metadata": {},
     "output_type": "execute_result"
    }
   ],
   "source": [
    "arr = np.array([1, 2, 3, 4, 5])\n",
    "arr.dtype"
   ]
  },
  {
   "cell_type": "code",
   "execution_count": 22,
   "metadata": {},
   "outputs": [
    {
     "data": {
      "text/plain": [
       "dtype('float64')"
      ]
     },
     "execution_count": 22,
     "metadata": {},
     "output_type": "execute_result"
    }
   ],
   "source": [
    "float_arr = arr.astype(np.float)\n",
    "float_arr.dtype"
   ]
  },
  {
   "cell_type": "code",
   "execution_count": 23,
   "metadata": {},
   "outputs": [
    {
     "data": {
      "text/plain": [
       "array([1., 2., 3., 4., 5.])"
      ]
     },
     "execution_count": 23,
     "metadata": {},
     "output_type": "execute_result"
    }
   ],
   "source": [
    "float_arr"
   ]
  },
  {
   "cell_type": "code",
   "execution_count": 24,
   "metadata": {},
   "outputs": [
    {
     "data": {
      "text/plain": [
       "array([0, 1, 2, 3, 4, 5, 6, 7, 8, 9])"
      ]
     },
     "execution_count": 24,
     "metadata": {},
     "output_type": "execute_result"
    }
   ],
   "source": [
    "int_array = np.arange(10)\n",
    "int_array"
   ]
  },
  {
   "cell_type": "code",
   "execution_count": 25,
   "metadata": {},
   "outputs": [
    {
     "data": {
      "text/plain": [
       "array([0., 1., 2., 3., 4., 5., 6., 7., 8., 9.])"
      ]
     },
     "execution_count": 25,
     "metadata": {},
     "output_type": "execute_result"
    }
   ],
   "source": [
    "calibers = np.array([.22, .270, .357, .380, .44, .50], dtype=np.float64)\n",
    "int_array.astype(calibers.dtype)"
   ]
  },
  {
   "cell_type": "code",
   "execution_count": 26,
   "metadata": {},
   "outputs": [
    {
     "data": {
      "text/plain": [
       "array([4391013, 7143535, 5439580, 6684769, 4391013, 7143535, 7471184,\n",
       "       7209065], dtype=uint32)"
      ]
     },
     "execution_count": 26,
     "metadata": {},
     "output_type": "execute_result"
    }
   ],
   "source": [
    "empty_uint32 = np.empty(8, dtype='u4')\n",
    "empty_uint32"
   ]
  },
  {
   "cell_type": "markdown",
   "metadata": {},
   "source": [
    "### Numpy array vs. Python list"
   ]
  },
  {
   "cell_type": "code",
   "execution_count": 14,
   "metadata": {},
   "outputs": [
    {
     "name": "stdout",
     "output_type": "stream",
     "text": [
      "[4, 10, 16]\n",
      "<class 'list'>\n"
     ]
    }
   ],
   "source": [
    "# list\n",
    "a = [2,5,8]\n",
    "a= [q * 2 for q in a]\n",
    "print(a)\n",
    "print(type(a))"
   ]
  },
  {
   "cell_type": "code",
   "execution_count": 10,
   "metadata": {},
   "outputs": [
    {
     "name": "stdout",
     "output_type": "stream",
     "text": [
      "[ 4 10 16]\n",
      "<class 'numpy.ndarray'>\n",
      "int32\n"
     ]
    }
   ],
   "source": [
    "# numpy array\n",
    "a = np.array([2,5,8])\n",
    "a= a * 2\n",
    "print(a)\n",
    "print(type(a))\n",
    "print(a.dtype)"
   ]
  },
  {
   "cell_type": "code",
   "execution_count": 11,
   "metadata": {},
   "outputs": [
    {
     "data": {
      "text/plain": [
       "[5, 7, 9]"
      ]
     },
     "execution_count": 11,
     "metadata": {},
     "output_type": "execute_result"
    }
   ],
   "source": [
    "# list\n",
    "a = [1,2,3]\n",
    "b = [4,5,6]\n",
    "l = [p + q for p,q in zip(a,b)]\n",
    "l"
   ]
  },
  {
   "cell_type": "code",
   "execution_count": 16,
   "metadata": {},
   "outputs": [
    {
     "name": "stdout",
     "output_type": "stream",
     "text": [
      "[5 7 9]\n",
      "<class 'numpy.ndarray'>\n"
     ]
    }
   ],
   "source": [
    "# numpy array\n",
    "\n",
    "a = np.array([1,2,3])\n",
    "b = np.array([4,5,6])\n",
    "l = a+b\n",
    "print(l)\n",
    "print(type(l))"
   ]
  },
  {
   "cell_type": "code",
   "execution_count": 5,
   "metadata": {},
   "outputs": [
    {
     "data": {
      "text/plain": [
       "numpy.ndarray"
      ]
     },
     "execution_count": 5,
     "metadata": {},
     "output_type": "execute_result"
    },
    {
     "data": {
      "text/plain": [
       "(5,)"
      ]
     },
     "execution_count": 5,
     "metadata": {},
     "output_type": "execute_result"
    },
    {
     "data": {
      "text/plain": [
       "1"
      ]
     },
     "execution_count": 5,
     "metadata": {},
     "output_type": "execute_result"
    },
    {
     "data": {
      "text/plain": [
       "numpy.ndarray"
      ]
     },
     "execution_count": 5,
     "metadata": {},
     "output_type": "execute_result"
    },
    {
     "data": {
      "text/plain": [
       "(5, 1)"
      ]
     },
     "execution_count": 5,
     "metadata": {},
     "output_type": "execute_result"
    },
    {
     "data": {
      "text/plain": [
       "2"
      ]
     },
     "execution_count": 5,
     "metadata": {},
     "output_type": "execute_result"
    }
   ],
   "source": [
    "# convert list to numpy ndarray\n",
    "import numpy as np\n",
    "\n",
    "d_array = np.array([1,2,3,4,5])\n",
    "type(d_array)\n",
    "d_array.shape\n",
    "d_array.ndim\n",
    "\n",
    "d_array2 = np.array([1,2,3,4,5]).reshape(5,1)\n",
    "type(d_array2)\n",
    "d_array2.shape\n",
    "d_array2.ndim\n"
   ]
  },
  {
   "cell_type": "markdown",
   "metadata": {},
   "source": [
    "### 向量初始化\n",
    "\n",
    "为了创建Numpy数组，一种方法是转换Python列表。**Numpy数组类型**可以直接从列表元素类型**推导**得到。\n",
    "\n",
    "Numpy数组不能像Python列表一样增长。数组的末端没有留下任何便于快速附加元素的空间。\n",
    "因此，常见的作法是要么先使用Python列表，准备好之后转化为numpy数组。\n",
    "要么是使用np.zeros or np.empty预先留下必要的空间。"
   ]
  },
  {
   "cell_type": "code",
   "execution_count": 24,
   "metadata": {},
   "outputs": [
    {
     "name": "stdout",
     "output_type": "stream",
     "text": [
      "float64\n",
      "(3,)\n"
     ]
    }
   ],
   "source": [
    "a = np.array([1., 2., 3.])\n",
    "print(a.dtype)\n",
    "print(a.shape)"
   ]
  },
  {
   "cell_type": "code",
   "execution_count": 27,
   "metadata": {},
   "outputs": [
    {
     "name": "stdout",
     "output_type": "stream",
     "text": [
      "float64\n",
      "(10,)\n",
      "[0. 0. 0. 0. 0. 0. 0. 0. 0. 0.]\n"
     ]
    }
   ],
   "source": [
    "b = np.zeros(10, float)\n",
    "print(b.dtype)\n",
    "print(b.shape)\n",
    "print(b)"
   ]
  },
  {
   "cell_type": "code",
   "execution_count": 28,
   "metadata": {},
   "outputs": [
    {
     "name": "stdout",
     "output_type": "stream",
     "text": [
      "float64\n",
      "(10,)\n",
      "[0. 0. 0. 0. 0. 0. 0. 0. 0. 0.]\n"
     ]
    }
   ],
   "source": [
    "c = np.zeros_like(b)\n",
    "print(c.dtype)\n",
    "print(c.shape)\n",
    "print(c)"
   ]
  },
  {
   "cell_type": "code",
   "execution_count": 29,
   "metadata": {},
   "outputs": [
    {
     "name": "stdout",
     "output_type": "stream",
     "text": [
      "[1. 1. 1. 1. 1. 1.]\n",
      "(6,)\n",
      "float64\n"
     ]
    }
   ],
   "source": [
    "c = np.ones(6)\n",
    "print(c)\n",
    "print(c.shape)\n",
    "print(c.dtype)"
   ]
  },
  {
   "cell_type": "code",
   "execution_count": 31,
   "metadata": {},
   "outputs": [
    {
     "name": "stdout",
     "output_type": "stream",
     "text": [
      "[1. 1. 1. 1. 1. 1.]\n",
      "(6,)\n",
      "float64\n"
     ]
    }
   ],
   "source": [
    "d = np.empty_like(c)\n",
    "print(d)\n",
    "print(d.shape)\n",
    "print(d.dtype)\n"
   ]
  },
  {
   "cell_type": "markdown",
   "metadata": {},
   "source": [
    "#### Numpy中由两个函数能用单调序列执行数组初始化\n",
    "\n",
    "np.arange(*stop*)\n",
    "\n",
    "np.arange(*start*, *stop*)\n",
    "\n",
    "np.arange(*start*, *stop*, *step*)\n",
    "\n"
   ]
  },
  {
   "cell_type": "code",
   "execution_count": 34,
   "metadata": {},
   "outputs": [
    {
     "name": "stdout",
     "output_type": "stream",
     "text": [
      "[1 2 3]\n",
      "<class 'numpy.ndarray'>\n"
     ]
    }
   ],
   "source": [
    "a = np.arange(1,4,1)\n",
    "print(a)\n",
    "print(type(a))"
   ]
  },
  {
   "cell_type": "code",
   "execution_count": 36,
   "metadata": {},
   "outputs": [
    {
     "name": "stdout",
     "output_type": "stream",
     "text": [
      "[1. 2. 3. 4. 5.]\n",
      "<class 'numpy.ndarray'>\n",
      "float64\n"
     ]
    }
   ],
   "source": [
    "# 类型转换\n",
    "b = np.arange(1,6,1).astype(float)\n",
    "print(b)\n",
    "print(type(b))\n",
    "print(b.dtype)"
   ]
  },
  {
   "cell_type": "markdown",
   "metadata": {},
   "source": [
    "arange并不擅长处理浮点数\n",
    "\n",
    "这时，用linspace"
   ]
  },
  {
   "cell_type": "code",
   "execution_count": 37,
   "metadata": {},
   "outputs": [
    {
     "name": "stdout",
     "output_type": "stream",
     "text": [
      "[0.         0.11111111 0.22222222 0.33333333 0.44444444 0.55555556\n",
      " 0.66666667 0.77777778 0.88888889 1.        ]\n",
      "<class 'numpy.ndarray'>\n"
     ]
    }
   ],
   "source": [
    "a = np.linspace(0.,1.,10)  #最后一个参数统计的是数据点的数量，而不是区间\n",
    "print(a)\n",
    "print(type(a))"
   ]
  },
  {
   "cell_type": "code",
   "execution_count": 39,
   "metadata": {},
   "outputs": [
    {
     "name": "stdout",
     "output_type": "stream",
     "text": [
      "[0.  0.1 0.2 0.3 0.4 0.5 0.6 0.7 0.8 0.9 1. ]\n",
      "<class 'numpy.ndarray'>\n"
     ]
    }
   ],
   "source": [
    "b = np.linspace(0.,1.,11)  #最后一个参数统计的是数据点的数量，而不是区间\n",
    "print(b)\n",
    "print(type(b))"
   ]
  },
  {
   "cell_type": "markdown",
   "metadata": {},
   "source": [
    "### 一维数组、 行向量、列向量"
   ]
  },
  {
   "cell_type": "code",
   "execution_count": 3,
   "metadata": {},
   "outputs": [],
   "source": [
    "from IPython.core.interactiveshell import InteractiveShell\n",
    "InteractiveShell.ast_node_interactivity = \"all\""
   ]
  },
  {
   "cell_type": "code",
   "execution_count": 8,
   "metadata": {},
   "outputs": [
    {
     "data": {
      "text/plain": [
       "numpy.ndarray"
      ]
     },
     "execution_count": 8,
     "metadata": {},
     "output_type": "execute_result"
    },
    {
     "data": {
      "text/plain": [
       "array([ 1.17542511, -0.4430374 , -0.33184927,  0.98419191, -0.01057279])"
      ]
     },
     "execution_count": 8,
     "metadata": {},
     "output_type": "execute_result"
    },
    {
     "data": {
      "text/plain": [
       "(5,)"
      ]
     },
     "execution_count": 8,
     "metadata": {},
     "output_type": "execute_result"
    },
    {
     "data": {
      "text/plain": [
       "array([ 1.17542511, -0.4430374 , -0.33184927,  0.98419191, -0.01057279])"
      ]
     },
     "execution_count": 8,
     "metadata": {},
     "output_type": "execute_result"
    },
    {
     "data": {
      "text/plain": [
       "2.6567757506859353"
      ]
     },
     "execution_count": 8,
     "metadata": {},
     "output_type": "execute_result"
    }
   ],
   "source": [
    "import numpy as np\n",
    "\n",
    "a = np.random.randn(5)    #生成了一个被称为a的一维数组。在执行逻辑回归和神经网络时，不需要使用这些一维数组\n",
    "type(a)\n",
    "a\n",
    "a.shape\n",
    "a.T\n",
    "np.dot(a,a.T)"
   ]
  },
  {
   "cell_type": "code",
   "execution_count": 15,
   "metadata": {},
   "outputs": [
    {
     "data": {
      "text/plain": [
       "(5, 1)"
      ]
     },
     "execution_count": 15,
     "metadata": {},
     "output_type": "execute_result"
    },
    {
     "data": {
      "text/plain": [
       "array([[-0.15622021],\n",
       "       [-1.23260494],\n",
       "       [ 0.55642602],\n",
       "       [-0.35611513],\n",
       "       [-1.04028741]])"
      ]
     },
     "execution_count": 15,
     "metadata": {},
     "output_type": "execute_result"
    },
    {
     "data": {
      "text/plain": [
       "array([[-0.15622021, -1.23260494,  0.55642602, -0.35611513, -1.04028741]])"
      ]
     },
     "execution_count": 15,
     "metadata": {},
     "output_type": "execute_result"
    },
    {
     "data": {
      "text/plain": [
       "array([[3.06234551]])"
      ]
     },
     "execution_count": 15,
     "metadata": {},
     "output_type": "execute_result"
    },
    {
     "data": {
      "text/plain": [
       "array([[ 0.02440475,  0.19255781, -0.08692499,  0.05563238,  0.16251392],\n",
       "       [ 0.19255781,  1.51931495, -0.68585347,  0.43894927,  1.28226341],\n",
       "       [-0.08692499, -0.68585347,  0.30960992, -0.19815173, -0.57884299],\n",
       "       [ 0.05563238,  0.43894927, -0.19815173,  0.12681799,  0.37046209],\n",
       "       [ 0.16251392,  1.28226341, -0.57884299,  0.37046209,  1.0821979 ]])"
      ]
     },
     "execution_count": 15,
     "metadata": {},
     "output_type": "execute_result"
    }
   ],
   "source": [
    "a = np.random.randn(5,1)    #产生一个(5,1)向量或者列向量\n",
    "a.shape\n",
    "a \n",
    "a.T\n",
    "np.dot(a.T, a)\n",
    "np.dot(a, a.T)"
   ]
  },
  {
   "cell_type": "code",
   "execution_count": 17,
   "metadata": {},
   "outputs": [
    {
     "data": {
      "text/plain": [
       "(1, 5)"
      ]
     },
     "execution_count": 17,
     "metadata": {},
     "output_type": "execute_result"
    },
    {
     "data": {
      "text/plain": [
       "array([[ 1.1128907 ,  1.67924002, -0.4937158 ,  0.53172569,  0.86530246]])"
      ]
     },
     "execution_count": 17,
     "metadata": {},
     "output_type": "execute_result"
    },
    {
     "data": {
      "text/plain": [
       "array([[ 1.1128907 ],\n",
       "       [ 1.67924002],\n",
       "       [-0.4937158 ],\n",
       "       [ 0.53172569],\n",
       "       [ 0.86530246]])"
      ]
     },
     "execution_count": 17,
     "metadata": {},
     "output_type": "execute_result"
    },
    {
     "data": {
      "text/plain": [
       "array([[ 1.23852572,  1.86881061, -0.54945173,  0.59175257,  0.96298706],\n",
       "       [ 1.86881061,  2.81984704, -0.82906733,  0.89289505,  1.45305052],\n",
       "       [-0.54945173, -0.82906733,  0.24375529, -0.26252137, -0.4272135 ],\n",
       "       [ 0.59175257,  0.89289505, -0.26252137,  0.28273221,  0.46010354],\n",
       "       [ 0.96298706,  1.45305052, -0.4272135 ,  0.46010354,  0.74874835]])"
      ]
     },
     "execution_count": 17,
     "metadata": {},
     "output_type": "execute_result"
    },
    {
     "data": {
      "text/plain": [
       "array([[5.3336086]])"
      ]
     },
     "execution_count": 17,
     "metadata": {},
     "output_type": "execute_result"
    }
   ],
   "source": [
    "a = np.random.randn(1,5)  #产生一个(1,5)向量或者行向量\n",
    "a.shape\n",
    "a \n",
    "a.T\n",
    "np.dot(a.T, a)\n",
    "np.dot(a, a.T)"
   ]
  },
  {
   "cell_type": "code",
   "execution_count": 22,
   "metadata": {},
   "outputs": [
    {
     "data": {
      "text/plain": [
       "array([-0.35479979,  0.01725271,  0.11744238,  0.23953191, -1.59198007,\n",
       "        0.15055281])"
      ]
     },
     "execution_count": 22,
     "metadata": {},
     "output_type": "execute_result"
    },
    {
     "data": {
      "text/plain": [
       "array([[-0.35479979],\n",
       "       [ 0.01725271],\n",
       "       [ 0.11744238],\n",
       "       [ 0.23953191],\n",
       "       [-1.59198007],\n",
       "       [ 0.15055281]])"
      ]
     },
     "execution_count": 22,
     "metadata": {},
     "output_type": "execute_result"
    }
   ],
   "source": [
    "a = np.random.randn(6)\n",
    "a\n",
    "assert a.shape == (6,)\n",
    "b = a.reshape(6,1)\n",
    "b\n",
    "assert b.shape == (6,1)"
   ]
  },
  {
   "cell_type": "markdown",
   "metadata": {},
   "source": [
    "### Numpy Broadcasting\n"
   ]
  },
  {
   "cell_type": "code",
   "execution_count": 37,
   "metadata": {},
   "outputs": [
    {
     "name": "stdout",
     "output_type": "stream",
     "text": [
      "[[ 56.    0.    4.4  68. ]\n",
      " [  1.2 104.   52.    8. ]\n",
      " [  1.8 135.   99.    0.9]]\n"
     ]
    }
   ],
   "source": [
    "import numpy as np\n",
    "\n",
    "A = np.array([[56.0, 0.0, 4.4, 68.0],\n",
    "             [1.2, 104.0, 52.0, 8.0],\n",
    "             [1.8, 135.0, 99.0, 0.9]])\n",
    "print(A) "
   ]
  },
  {
   "cell_type": "code",
   "execution_count": 38,
   "metadata": {},
   "outputs": [
    {
     "name": "stdout",
     "output_type": "stream",
     "text": [
      "[ 59.  239.  155.4  76.9]\n"
     ]
    },
    {
     "data": {
      "text/plain": [
       "(4,)"
      ]
     },
     "execution_count": 38,
     "metadata": {},
     "output_type": "execute_result"
    },
    {
     "data": {
      "text/plain": [
       "array([[94.91525424,  0.        ,  2.83140283, 88.42652796],\n",
       "       [ 2.03389831, 43.51464435, 33.46203346, 10.40312094],\n",
       "       [ 3.05084746, 56.48535565, 63.70656371,  1.17035111]])"
      ]
     },
     "execution_count": 38,
     "metadata": {},
     "output_type": "execute_result"
    }
   ],
   "source": [
    "cal = A.sum(axis = 0)    # axis 用来指明将要进行的运算沿哪个轴执行，在numpy中，0轴时垂直的，也就是列；而1轴是水平的，也就是行. 返回时一个一维数组\n",
    "# cal.reshape(1,4)\n",
    "print(cal)\n",
    "cal.shape\n",
    "assert cal.shape != (1,4)\n",
    "\n",
    "percentage = 100 * A / cal.reshape(1,4)\n",
    "percentage"
   ]
  },
  {
   "cell_type": "markdown",
   "metadata": {},
   "source": [
    "##### Numpy广播机制\n",
    "\n",
    "如果两个数组的后缘维度的周长度相符或其中一方的周长度为1，则认为它们时广播兼容的。广播会在缺失维度和周长度为1的维度上进行。\n"
   ]
  }
 ],
 "metadata": {
  "kernelspec": {
   "display_name": "Python 3",
   "language": "python",
   "name": "python3"
  },
  "language_info": {
   "codemirror_mode": {
    "name": "ipython",
    "version": 3
   },
   "file_extension": ".py",
   "mimetype": "text/x-python",
   "name": "python",
   "nbconvert_exporter": "python",
   "pygments_lexer": "ipython3",
   "version": "3.8.5"
  },
  "toc": {
   "base_numbering": 1,
   "nav_menu": {},
   "number_sections": true,
   "sideBar": true,
   "skip_h1_title": false,
   "title_cell": "Table of Contents",
   "title_sidebar": "Contents",
   "toc_cell": false,
   "toc_position": {},
   "toc_section_display": true,
   "toc_window_display": false
  }
 },
 "nbformat": 4,
 "nbformat_minor": 2
}
