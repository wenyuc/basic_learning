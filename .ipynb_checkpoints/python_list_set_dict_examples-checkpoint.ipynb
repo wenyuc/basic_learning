{
 "cells": [
  {
   "cell_type": "markdown",
   "metadata": {},
   "source": [
    "### Get default value of a dict key"
   ]
  },
  {
   "cell_type": "code",
   "execution_count": 20,
   "metadata": {},
   "outputs": [
    {
     "data": {
      "text/plain": [
       "'Not Found key'"
      ]
     },
     "execution_count": 20,
     "metadata": {},
     "output_type": "execute_result"
    }
   ],
   "source": [
    "d = {'a': 1, 'b': 2}\n",
    "d.get('c', \"Not Found key\")    # if 'c' key non-existent, returns default ‘3’"
   ]
  },
  {
   "cell_type": "markdown",
   "metadata": {},
   "source": [
    "### Extend a list of args, including its sub-list"
   ]
  },
  {
   "cell_type": "code",
   "execution_count": 57,
   "metadata": {},
   "outputs": [
    {
     "data": {
      "text/plain": [
       "[1, 2, 3, 'a', 'b', 'c', 8, 9, 'm', 8, 9]"
      ]
     },
     "execution_count": 57,
     "metadata": {},
     "output_type": "execute_result"
    }
   ],
   "source": [
    "def spread(*arg):\n",
    "    ret = []\n",
    "    for i in arg:\n",
    "        if isinstance(i, type(list)):    #dont understand why it works with type(list), rather list\n",
    "            ret.extend(i)     # extend() \n",
    "        else:\n",
    "            ret.append(i)     # append() \n",
    "    return ret\n",
    "\n",
    "spread(1,2,3, ['a', 'b', 'c'], [8], [9,'m'],8,9)"
   ]
  },
  {
   "cell_type": "code",
   "execution_count": 3,
   "metadata": {},
   "outputs": [
    {
     "data": {
      "text/plain": [
       "[1, 2, 3, 'a', 'b', 'c']"
      ]
     },
     "execution_count": 3,
     "metadata": {},
     "output_type": "execute_result"
    }
   ],
   "source": [
    "l = [1,2,3]\n",
    "m = ['a','b','c']\n",
    "l.extend(m)\n",
    "l"
   ]
  },
  {
   "cell_type": "markdown",
   "metadata": {},
   "source": [
    "### swap two variables"
   ]
  },
  {
   "cell_type": "code",
   "execution_count": 4,
   "metadata": {},
   "outputs": [
    {
     "name": "stdout",
     "output_type": "stream",
     "text": [
      "11 7\n"
     ]
    }
   ],
   "source": [
    "a = 7\n",
    "b = 11\n",
    "b,a = [a,b]\n",
    "print(a,b)"
   ]
  },
  {
   "cell_type": "markdown",
   "metadata": {},
   "source": [
    "### deepcopy() and copy()\n",
    "\n",
    "如果只是对\\[1,2,3,4]中的元素进行deepcopy(), copy()，则无差别。"
   ]
  },
  {
   "cell_type": "code",
   "execution_count": 52,
   "metadata": {},
   "outputs": [
    {
     "name": "stdout",
     "output_type": "stream",
     "text": [
      "[1, 2, [3, 4]]\n",
      "2728263819840 2728297864064\n"
     ]
    }
   ],
   "source": [
    "from copy import deepcopy\n",
    "foo = [1,2,[3,4]]\n",
    "\n",
    "bar = deepcopy(foo)\n",
    "print(bar)\n",
    "print(id(foo), id(bar))"
   ]
  },
  {
   "cell_type": "code",
   "execution_count": 53,
   "metadata": {},
   "outputs": [
    {
     "name": "stdout",
     "output_type": "stream",
     "text": [
      "[1, 2, [3, 4]]\n",
      "[1, 2, [99, 4]]\n",
      "2728263819840 2728297864064\n"
     ]
    }
   ],
   "source": [
    "bar[2][0] = 99\n",
    "print(foo)\n",
    "print(bar)\n",
    "print(id(foo),id(bar))"
   ]
  },
  {
   "cell_type": "code",
   "execution_count": 50,
   "metadata": {},
   "outputs": [
    {
     "name": "stdout",
     "output_type": "stream",
     "text": [
      "[1, 2, [3, 4]]\n",
      "2728304173760 2728300407936\n"
     ]
    }
   ],
   "source": [
    "from copy import copy\n",
    "m = [1,2,[3,4]]\n",
    "n = copy(m)\n",
    "print(n)\n",
    "print(id(m), id(n))"
   ]
  },
  {
   "cell_type": "code",
   "execution_count": 54,
   "metadata": {},
   "outputs": [
    {
     "name": "stdout",
     "output_type": "stream",
     "text": [
      "[1, 2, [77, 88]]\n",
      "[1, 2, [77, 88]]\n",
      "2728304173760 2728300407936\n"
     ]
    }
   ],
   "source": [
    "m[2][0]=77\n",
    "n[2][1]=88\n",
    "print(m)\n",
    "print(n)\n",
    "print(id(m), id(n))"
   ]
  },
  {
   "cell_type": "markdown",
   "metadata": {},
   "source": [
    "### Shuffle a list"
   ]
  },
  {
   "cell_type": "code",
   "execution_count": 4,
   "metadata": {},
   "outputs": [
    {
     "name": "stdout",
     "output_type": "stream",
     "text": [
      "[1, 3, 2, 4]\n",
      "2728300014336 2728300012736\n"
     ]
    }
   ],
   "source": [
    "from copy import deepcopy\n",
    "from random import randint\n",
    "\n",
    "def shuffle(lst):\n",
    "    temp_lst = deepcopy(lst)\n",
    "    m = len(temp_lst)\n",
    "    while(m):\n",
    "        m -= 1\n",
    "        i = randint(0,m)\n",
    "        temp_lst[m], temp_lst[i] = temp_lst[i], temp_lst[m]\n",
    "    return temp_lst\n",
    "\n",
    "foo = [1,2,3,4]\n",
    "foo2 = shuffle(foo)\n",
    "print(foo2)\n",
    "print(id(foo), id(foo2))"
   ]
  },
  {
   "cell_type": "markdown",
   "metadata": {},
   "source": [
    "### operand, no if-else"
   ]
  },
  {
   "cell_type": "code",
   "execution_count": 8,
   "metadata": {},
   "outputs": [
    {
     "name": "stdout",
     "output_type": "stream",
     "text": [
      "125\n"
     ]
    }
   ],
   "source": [
    "import operator\n",
    "action = {\n",
    "    '+': operator.add,\n",
    "    '-': operator.sub,\n",
    "    '*': operator.mul,\n",
    "    '/': operator.truediv,\n",
    "    '**': pow\n",
    "}\n",
    "\n",
    "print(action['**'](5,3))"
   ]
  },
  {
   "cell_type": "markdown",
   "metadata": {},
   "source": [
    "### check palindrome 回文序列"
   ]
  },
  {
   "cell_type": "code",
   "execution_count": 9,
   "metadata": {},
   "outputs": [
    {
     "data": {
      "text/plain": [
       "True"
      ]
     },
     "execution_count": 9,
     "metadata": {},
     "output_type": "execute_result"
    }
   ],
   "source": [
    "def palindrome(string):\n",
    "    from re import sub\n",
    "    s = sub('[\\W_]', '',string.lower())   # remove non-english character\n",
    "    return s == s[::-1]\n",
    "\n",
    "palindrome('tac0 cat')"
   ]
  },
  {
   "cell_type": "markdown",
   "metadata": {},
   "source": [
    "### Get the most frequent element"
   ]
  },
  {
   "cell_type": "code",
   "execution_count": 1,
   "metadata": {},
   "outputs": [
    {
     "data": {
      "text/plain": [
       "2"
      ]
     },
     "execution_count": 1,
     "metadata": {},
     "output_type": "execute_result"
    }
   ],
   "source": [
    "def most_frequent(lst):\n",
    "    return max(set(list), key = lst.count)\n",
    "\n",
    "list = [1,2,1,2,3,2,1,4,2]\n",
    "set(list)\n",
    "most_frequent(list)"
   ]
  },
  {
   "cell_type": "markdown",
   "metadata": {},
   "source": [
    "### Convert two lists to a dictionary\n"
   ]
  },
  {
   "cell_type": "code",
   "execution_count": 11,
   "metadata": {},
   "outputs": [
    {
     "name": "stdout",
     "output_type": "stream",
     "text": [
      "{'a': 1, 'b': 2, 'c': 3}\n"
     ]
    }
   ],
   "source": [
    "def to_dictionary(keys, values):\n",
    "    if len(keys) == len(values):\n",
    "        return dict(zip(keys, values))\n",
    "    else:\n",
    "        return {}\n",
    "\n",
    "mykeys = ['a', 'b', 'c']\n",
    "values = [1,2,3]\n",
    "print(to_dictionary(mykeys, values))\n",
    "    "
   ]
  },
  {
   "cell_type": "markdown",
   "metadata": {},
   "source": [
    "### Merge two dictionaries"
   ]
  },
  {
   "cell_type": "code",
   "execution_count": 12,
   "metadata": {},
   "outputs": [
    {
     "name": "stdout",
     "output_type": "stream",
     "text": [
      "{'x': 1, 'y': 3, 'z': 4}\n"
     ]
    }
   ],
   "source": [
    "def merge_two_dicts(a,b):\n",
    "    c = a.copy() # make a copy of a\n",
    "    c.update(b)  # modify keys and values of a with the once from b\n",
    "    return c\n",
    "a = {'x': 1, 'y': 2}\n",
    "b = {'y': 3, 'z': 4}\n",
    "print(merge_two_dicts(a,b))"
   ]
  },
  {
   "cell_type": "code",
   "execution_count": 13,
   "metadata": {},
   "outputs": [
    {
     "name": "stdout",
     "output_type": "stream",
     "text": [
      "{'x': 1, 'y': 3, 'z': 4}\n"
     ]
    }
   ],
   "source": [
    "# for python 3.5 or above\n",
    "def merge_dictionaries(a,b):\n",
    "    return {**a, **b}\n",
    "a = {'x': 1, 'y': 2}\n",
    "b = {'y': 3, 'z': 4}\n",
    "print(merge_dictionaries(a,b))\n"
   ]
  },
  {
   "cell_type": "markdown",
   "metadata": {},
   "source": [
    "### Check the duplicate elements in a list"
   ]
  },
  {
   "cell_type": "code",
   "execution_count": 14,
   "metadata": {},
   "outputs": [
    {
     "name": "stdout",
     "output_type": "stream",
     "text": [
      "True\n",
      "False\n"
     ]
    }
   ],
   "source": [
    "def has_duplicates(lst):\n",
    "    return len(lst) != len(set(lst))\n",
    "\n",
    "x = [1,2,3,3,4,5,5,7]\n",
    "y = [1,2,3,4,5,6]\n",
    "print(has_duplicates(x))\n",
    "print(has_duplicates(y))"
   ]
  },
  {
   "cell_type": "markdown",
   "metadata": {},
   "source": [
    "### enumerate a container"
   ]
  },
  {
   "cell_type": "code",
   "execution_count": 15,
   "metadata": {},
   "outputs": [
    {
     "name": "stdout",
     "output_type": "stream",
     "text": [
      "10 1\n",
      "11 2\n",
      "12 3\n",
      "13 4\n"
     ]
    }
   ],
   "source": [
    "x = [1,2,3,4]\n",
    "for index, item in enumerate(x, 10):    # the second parameter is starting value of index\n",
    "    print(index, item)"
   ]
  },
  {
   "cell_type": "markdown",
   "metadata": {},
   "source": [
    "### generator of list"
   ]
  },
  {
   "cell_type": "code",
   "execution_count": 16,
   "metadata": {},
   "outputs": [
    {
     "data": {
      "text/plain": [
       "([2, 6, 10], [6, 24])"
      ]
     },
     "execution_count": 16,
     "metadata": {},
     "output_type": "execute_result"
    }
   ],
   "source": [
    "x = [1,2,3,5,8]\n",
    "y = [i * 2 for i in x if i&1]   # i&1 is odd\n",
    "z = [i * 3 for i in x if i%2== 0]   # i is even\n",
    "y,z"
   ]
  },
  {
   "cell_type": "markdown",
   "metadata": {},
   "source": [
    "### Mutable vs. Immutable Object\n",
    "\n",
    "- id(X)函数。对 X 进行某种操作，比较操作前后的id, 如果不一样，则X不可更改，如果一样，则X可更改\n",
    "- hash(X)函数，只要不报错，说明X**可被哈希，即不可更改**；**反之不可被哈希，可更改**。"
   ]
  },
  {
   "cell_type": "code",
   "execution_count": 17,
   "metadata": {},
   "outputs": [
    {
     "name": "stdout",
     "output_type": "stream",
     "text": [
      "140725812830672\n",
      "140725812830768\n"
     ]
    }
   ],
   "source": [
    "# integer cannot be changed.\n",
    "i = 3\n",
    "print(id(i))\n",
    "i +=3\n",
    "print(id(i))"
   ]
  },
  {
   "cell_type": "code",
   "execution_count": 18,
   "metadata": {},
   "outputs": [
    {
     "name": "stdout",
     "output_type": "stream",
     "text": [
      "2018355818248\n",
      "2018355818248\n"
     ]
    }
   ],
   "source": [
    "# list can be changed\n",
    "ls = [1,10.3]\n",
    "print(id(ls))\n",
    "ls.append('python')\n",
    "print(id(ls))"
   ]
  },
  {
   "cell_type": "markdown",
   "metadata": {},
   "source": [
    "#### Python中，默认参数值只能被初始化一次\n",
    "\n",
    "**如果使用可更改对象作为默认参数，那么被更改后的值将一直保留**"
   ]
  },
  {
   "cell_type": "code",
   "execution_count": 19,
   "metadata": {},
   "outputs": [],
   "source": [
    "def f( x=[] ):\n",
    "    x.append(1)\n",
    "    return x"
   ]
  },
  {
   "cell_type": "code",
   "execution_count": 20,
   "metadata": {},
   "outputs": [],
   "source": [
    "# print(f())  #没有给参数值，则其用默认值[]\n",
    "# print(f())  #默认参数值已经变为[1],再添加[1], 变为[1,1\n",
    "\n",
    "# 等价于\n",
    "# x1 = f()\n",
    "# print(x1)\n",
    "# x2 = f()\n",
    "# print(x2)\n",
    "# print(x1) #此时再打印x1， 发现还是[1,1]"
   ]
  },
  {
   "cell_type": "markdown",
   "metadata": {},
   "source": [
    "print(f(), f())\n",
    "\n",
    "等价于\n",
    "\n",
    "x1 = f()\n",
    "x2 = f()\n",
    "print(x1, x2)\n",
    "\n",
    "第一次调用f()产生PyObject并赋值给x1时，x1指向PyObject而且其值为[1]\n",
    "第二次调用f()产生PyObject并赋值给x2时，PyObject里的值更新为[1,1], **而x1， x2都指向它，**，因此两个值都更新为[1,1]\n",
    "\n"
   ]
  },
  {
   "cell_type": "code",
   "execution_count": 21,
   "metadata": {},
   "outputs": [
    {
     "name": "stdout",
     "output_type": "stream",
     "text": [
      "2018355817480 2018355817480\n",
      "[1, 1] [1, 1]\n"
     ]
    }
   ],
   "source": [
    "x1 = f()\n",
    "x2 = f()\n",
    "print(id(x1), id(x2))\n",
    "print(x1, x2)\n"
   ]
  },
  {
   "cell_type": "markdown",
   "metadata": {},
   "source": [
    "#### None 和整数、浮点数、布尔一样，时一种数据类型，而且不可更改\n"
   ]
  },
  {
   "cell_type": "code",
   "execution_count": 22,
   "metadata": {},
   "outputs": [
    {
     "name": "stdout",
     "output_type": "stream",
     "text": [
      "[1] [1]\n"
     ]
    }
   ],
   "source": [
    "def f(x = None):\n",
    "    if x is None:\n",
    "        x = []\n",
    "    x.append(1)\n",
    "    return x \n",
    "\n",
    "print(f(), f())"
   ]
  },
  {
   "cell_type": "code",
   "execution_count": null,
   "metadata": {},
   "outputs": [],
   "source": []
  }
 ],
 "metadata": {
  "kernelspec": {
   "display_name": "Python 3",
   "language": "python",
   "name": "python3"
  },
  "language_info": {
   "codemirror_mode": {
    "name": "ipython",
    "version": 3
   },
   "file_extension": ".py",
   "mimetype": "text/x-python",
   "name": "python",
   "nbconvert_exporter": "python",
   "pygments_lexer": "ipython3",
   "version": "3.8.5"
  },
  "toc": {
   "base_numbering": 1,
   "nav_menu": {},
   "number_sections": true,
   "sideBar": true,
   "skip_h1_title": false,
   "title_cell": "Table of Contents",
   "title_sidebar": "Contents",
   "toc_cell": false,
   "toc_position": {},
   "toc_section_display": true,
   "toc_window_display": false
  }
 },
 "nbformat": 4,
 "nbformat_minor": 4
}
