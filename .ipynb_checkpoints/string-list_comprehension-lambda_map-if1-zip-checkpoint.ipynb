{
 "cells": [
  {
   "cell_type": "markdown",
   "metadata": {},
   "source": [
    "https://towardsdatascience.com/python-tricks-101-what-every-new-programmer-should-know-c512a9787022"
   ]
  },
  {
   "cell_type": "markdown",
   "metadata": {},
   "source": [
    "### format"
   ]
  },
  {
   "cell_type": "code",
   "execution_count": 6,
   "metadata": {},
   "outputs": [
    {
     "name": "stdout",
     "output_type": "stream",
     "text": [
      "My name is Lemon, and my age is 18.\n",
      "My name is Lemon, and my age is 18.\n",
      "My name is Lemon, and my age is 18.\n"
     ]
    }
   ],
   "source": [
    "name = 'Lemon'\n",
    "age = 18\n",
    "\n",
    "print('My name is {0}, and my age is {1}.'.format(name,age))\n",
    "print('My name is %s, and my age is %s.' % (name,age))\n",
    "\n",
    "# f-string, Python 3.6 or later\n",
    "print(f'My name is {name}, and my age is {age}.')"
   ]
  },
  {
   "cell_type": "code",
   "execution_count": 24,
   "metadata": {},
   "outputs": [
    {
     "name": "stdout",
     "output_type": "stream",
     "text": [
      "保留两位小数: 3.14\n",
      "保留两位小数: 3.14\n",
      "保留两位小数: 3.14\n"
     ]
    }
   ],
   "source": [
    "n1 = 3.1415926\n",
    "n2 = 31415.926\n",
    "n3 = 0.31415\n",
    "n4 = 21\n",
    "n5 = 231\n",
    "n6 = -7.66\n",
    "\n",
    "print('保留两位小数: %.2f' % (n1))\n",
    "print('保留两位小数: {:.2f}'.format(n1))\n",
    "print(f'保留两位小数: {n1:.2f}')"
   ]
  },
  {
   "cell_type": "code",
   "execution_count": 18,
   "metadata": {},
   "outputs": [
    {
     "name": "stdout",
     "output_type": "stream",
     "text": [
      "百分比格式: 31.41%\n",
      "既有千分位分隔符又有小数位数: 31,415.93\n"
     ]
    }
   ],
   "source": [
    "# 百分比格式\n",
    "print('百分比格式: {:.2%}'.format(n3))\n",
    "\n",
    "print('既有千分位分隔符又有小数位数: {:,.2f}'.format(n2))\n"
   ]
  },
  {
   "cell_type": "code",
   "execution_count": 19,
   "metadata": {},
   "outputs": [
    {
     "name": "stdout",
     "output_type": "stream",
     "text": [
      "      21\n",
      "     231\n",
      "21      \n",
      "231     \n",
      "   21   \n",
      "  231   \n"
     ]
    }
   ],
   "source": [
    "# 字符串对齐格式，设置默认宽度为8\n",
    "print('{:>8}'.format(n4)) # 右对齐\n",
    "print('{:>8}'.format(n5))\n",
    "print('{:<8}'.format(n4)) # 左对齐\n",
    "print('{:<8}'.format(n5))\n",
    "print('{:^8}'.format(n4)) # 居中\n",
    "print('{:^8}'.format(n5))"
   ]
  },
  {
   "cell_type": "code",
   "execution_count": 22,
   "metadata": {},
   "outputs": [
    {
     "name": "stdout",
     "output_type": "stream",
     "text": [
      "左边补零: 0021\n",
      "右边补x: 231xx\n"
     ]
    }
   ],
   "source": [
    "# 数字补零，或者补特定符号，比如'x'\n",
    "print('左边补零: {:0>4}'.format(n4)) # 宽度为4\n",
    "print('右边补x: {:x<5}'.format(n5)) # 宽度为5"
   ]
  },
  {
   "cell_type": "code",
   "execution_count": 27,
   "metadata": {},
   "outputs": [
    {
     "name": "stdout",
     "output_type": "stream",
     "text": [
      "正数前加正号，负数前加负号：\n",
      "+3.14\n",
      "-7.66\n",
      "正数前无符号，负数前加负号：\n",
      "3.14\n",
      "-7.66\n",
      "正数前加空格，负数前加负号：\n",
      " 3.14\n",
      "-7.66\n"
     ]
    }
   ],
   "source": [
    "# 带符号，保留小数点后两位\n",
    "\n",
    "# ‘+’\n",
    "print('正数前加正号，负数前加负号：')\n",
    "print('{:+.2f}'.format(n1))\n",
    "print('{:+.2f}'.format(n6))\n",
    "\n",
    "print('正数前无符号，负数前加负号：')\n",
    "print('{:-.2f}'.format(n1))\n",
    "print('{:-.2f}'.format(n6))\n",
    "\n",
    "print('正数前加空格，负数前加负号：')\n",
    "print('{: .2f}'.format(n1))\n",
    "print('{: .2f}'.format(n6))"
   ]
  },
  {
   "cell_type": "markdown",
   "metadata": {},
   "source": [
    "### Split"
   ]
  },
  {
   "cell_type": "code",
   "execution_count": 7,
   "metadata": {},
   "outputs": [
    {
     "name": "stdout",
     "output_type": "stream",
     "text": [
      "['hello,', 'welcome', 'to', 'PyDataLab']\n",
      "['h', 'llo, w', 'lcom', ' to PyDataLab']\n",
      "['h', 'llo, welcome to PyDataLab']\n",
      "['1+2', '3+4']\n"
     ]
    }
   ],
   "source": [
    "s = \"hello, welcome to PyDataLab\"\n",
    "\n",
    "# 按空格分割\n",
    "print(s.split())\n",
    "\n",
    "# 按某个字符分割\n",
    "print(s.split('e'))\n",
    "\n",
    "# 按某个字符分割,只分割一次\n",
    "print(s.split('e', 1))\n",
    "\n",
    "# 去掉换行符，以换行符分割成列表\n",
    "print('1+2\\n3+4'.splitlines())"
   ]
  },
  {
   "cell_type": "markdown",
   "metadata": {},
   "source": [
    "### partition\n"
   ]
  },
  {
   "cell_type": "code",
   "execution_count": 9,
   "metadata": {},
   "outputs": [
    {
     "name": "stdout",
     "output_type": "stream",
     "text": [
      "('h', 'e', 'llo, welcome to PyDataLab')\n",
      "('hello, welcome to PyDataLab', '', '')\n"
     ]
    }
   ],
   "source": [
    "# 遇到第一个分割符后就停止索引\n",
    "print(s.partition('e')) # 返回一个包含三个元素的元组(tuple),即（head,sep,tail)\n",
    "\n",
    "# 没有遇到分割符，返回原字符串和两个空字符串\n",
    "print(s.partition('f'))"
   ]
  },
  {
   "cell_type": "code",
   "execution_count": 11,
   "metadata": {},
   "outputs": [
    {
     "name": "stdout",
     "output_type": "stream",
     "text": [
      "('hello, welcom', 'e', ' to PyDataLab')\n",
      "('', '', 'hello, welcome to PyDataLab')\n"
     ]
    }
   ],
   "source": [
    "# rpartition()的功能与partition()类似，只不过是从字符串的右边开始分割\n",
    "print(s.rpartition('e'))\n",
    "\n",
    "# 没有遇到分割符，返回两个空字符串和原字符串\n",
    "print(s.rpartition('f'))"
   ]
  },
  {
   "cell_type": "markdown",
   "metadata": {},
   "source": [
    "**The difference between split() and partition() methods**\n",
    "\n",
    "|方法|返回类型|是否包含分割符|\n",
    "|----|----|----|\n",
    "|split系列方法|list | 否|\n",
    "|partition系列方法|tuple|是|"
   ]
  },
  {
   "cell_type": "code",
   "execution_count": 15,
   "metadata": {},
   "outputs": [
    {
     "name": "stdout",
     "output_type": "stream",
     "text": [
      "hello world!\n",
      "   hello world!\n",
      "hello world!  \n"
     ]
    }
   ],
   "source": [
    "# 去掉字符串两边的空白\n",
    "s = \"   hello world!  \"\n",
    "print(s.strip())\n",
    "# 去掉字符串右边的空格\n",
    "print(s.rstrip())\n",
    "# 去掉字符串左边的空格\n",
    "print(s.lstrip())\n",
    "\n"
   ]
  },
  {
   "cell_type": "markdown",
   "metadata": {},
   "source": [
    "### 编码和解码"
   ]
  },
  {
   "cell_type": "code",
   "execution_count": 18,
   "metadata": {},
   "outputs": [
    {
     "name": "stdout",
     "output_type": "stream",
     "text": [
      "b'Python\\xe6\\x95\\xb0\\xe6\\x8d\\xae\\xe4\\xb9\\x8b\\xe9\\x81\\x93'\n",
      "Python数据之道\n"
     ]
    }
   ],
   "source": [
    "s1 = \"Python数据之道\"\n",
    "#encode\n",
    "s2 = s1.encode('utf-8')\n",
    "print(s2)\n",
    "\n",
    "#decode\n",
    "print(s2.decode(encoding='utf-8'))"
   ]
  },
  {
   "cell_type": "markdown",
   "metadata": {},
   "source": [
    "### is...相关方法\n",
    "isdigit(), isnumeric(),isdecimal()"
   ]
  },
  {
   "cell_type": "code",
   "execution_count": 20,
   "metadata": {},
   "outputs": [
    {
     "name": "stdout",
     "output_type": "stream",
     "text": [
      "False\n",
      "False\n",
      "True\n",
      "False\n",
      "False\n",
      "True\n"
     ]
    }
   ],
   "source": [
    "s8 = \"贰拾\"\n",
    "print(s8.isdigit())\n",
    "print(s8.isdecimal())\n",
    "print(s8.isnumeric())  #居然返回True\n",
    "\n",
    "s9 = \"二十\"\n",
    "print(s9.isdigit())\n",
    "print(s9.isdecimal())\n",
    "print(s9.isnumeric())  #居然返回True\n"
   ]
  },
  {
   "cell_type": "markdown",
   "metadata": {},
   "source": [
    "|method| True | False| Error|\n",
    "|----|----|----|----|\n",
    "|isdigit()| Unicode数字，byte数字（单字节），全角数字（双字节），罗马数字|汉字数字|无|\n",
    "|isdecimal()| Unicode数字，全角数字（双字节）|罗马数字，汉字数字|byte数字（单字节）|\n",
    "|isnumeric()| Unicode数字，全角数字（双字节），罗马数字|汉字数字|byte数字（单字节）|"
   ]
  },
  {
   "cell_type": "code",
   "execution_count": 23,
   "metadata": {},
   "outputs": [
    {
     "name": "stdout",
     "output_type": "stream",
     "text": [
      "True\n",
      "True\n",
      "True\n",
      "True\n",
      "False\n"
     ]
    }
   ],
   "source": [
    "s4 = \"PyDataLab\"\n",
    "s5 = '2021'\n",
    "s6 = \"Lemon2021\"\n",
    "s7 = '   '\n",
    "s8 = 'Python数据之道'\n",
    "s9 = \"Lemon 2021\"\n",
    "\n",
    "print(s7.isspace())\n",
    "print(s4.isalpha())\n",
    "print(s8.isalpha())\n",
    "print(s6.isalnum())\n",
    "print(s9.isalnum())"
   ]
  },
  {
   "cell_type": "code",
   "execution_count": 26,
   "metadata": {},
   "outputs": [
    {
     "name": "stdout",
     "output_type": "stream",
     "text": [
      "1\n",
      "12\n",
      "heLLo worLd!\n",
      "heLLo world!\n"
     ]
    }
   ],
   "source": [
    "s = \"hello world!\"\n",
    "print(s.count('e'))\n",
    "print(len(s))\n",
    "print(s.replace('l',\"L\"))\n",
    "print(s.replace('l','L',2)) #第三个参数是max，替换的字符次数不超过max"
   ]
  },
  {
   "cell_type": "markdown",
   "metadata": {},
   "source": [
    "### string operation"
   ]
  },
  {
   "cell_type": "code",
   "execution_count": 1,
   "metadata": {},
   "outputs": [
    {
     "data": {
      "text/plain": [
       "'Hi Medium...Hi Medium...'"
      ]
     },
     "execution_count": 1,
     "metadata": {},
     "output_type": "execute_result"
    }
   ],
   "source": [
    "my_string = \"Hi Medium...\"\n",
    "my_string * 2"
   ]
  },
  {
   "cell_type": "code",
   "execution_count": 2,
   "metadata": {},
   "outputs": [
    {
     "data": {
      "text/plain": [
       "'Hi Medium... I love Python I love Python'"
      ]
     },
     "execution_count": 2,
     "metadata": {},
     "output_type": "execute_result"
    }
   ],
   "source": [
    "my_string + \" I love Python\" * 2"
   ]
  },
  {
   "cell_type": "code",
   "execution_count": 3,
   "metadata": {},
   "outputs": [
    {
     "data": {
      "text/plain": [
       "'...muideM iH'"
      ]
     },
     "execution_count": 3,
     "metadata": {},
     "output_type": "execute_result"
    }
   ],
   "source": [
    "my_string[::-1]"
   ]
  },
  {
   "cell_type": "code",
   "execution_count": 4,
   "metadata": {},
   "outputs": [
    {
     "data": {
      "text/plain": [
       "'this is awesome!'"
      ]
     },
     "execution_count": 4,
     "metadata": {},
     "output_type": "execute_result"
    }
   ],
   "source": [
    "word_list = ['awesome', 'is', 'this']\n",
    "' '.join(word_list[::-1]) + '!'"
   ]
  },
  {
   "cell_type": "code",
   "execution_count": 5,
   "metadata": {},
   "outputs": [
    {
     "data": {
      "text/plain": [
       "'awesome is this!'"
      ]
     },
     "execution_count": 5,
     "metadata": {},
     "output_type": "execute_result"
    }
   ],
   "source": [
    "' '.join(word_list) + '!'"
   ]
  },
  {
   "cell_type": "markdown",
   "metadata": {},
   "source": [
    "### List Comprehension\n"
   ]
  },
  {
   "cell_type": "code",
   "execution_count": 6,
   "metadata": {},
   "outputs": [],
   "source": [
    "def func(x):\n",
    "    return x**2 + 5"
   ]
  },
  {
   "cell_type": "code",
   "execution_count": 7,
   "metadata": {},
   "outputs": [
    {
     "data": {
      "text/plain": [
       "14"
      ]
     },
     "execution_count": 7,
     "metadata": {},
     "output_type": "execute_result"
    }
   ],
   "source": [
    "func(3)"
   ]
  },
  {
   "cell_type": "code",
   "execution_count": 8,
   "metadata": {},
   "outputs": [
    {
     "data": {
      "text/plain": [
       "14"
      ]
     },
     "execution_count": 8,
     "metadata": {},
     "output_type": "execute_result"
    }
   ],
   "source": [
    "func(-3)"
   ]
  },
  {
   "cell_type": "code",
   "execution_count": 10,
   "metadata": {},
   "outputs": [
    {
     "data": {
      "text/plain": [
       "[6, 14, 30]"
      ]
     },
     "execution_count": 10,
     "metadata": {},
     "output_type": "execute_result"
    }
   ],
   "source": [
    "my_list = [1,2,3,4,5]\n",
    "ls = [func(x) for x in my_list if x % 2 != 0]\n",
    "ls"
   ]
  },
  {
   "cell_type": "markdown",
   "metadata": {},
   "source": [
    "### Lambda"
   ]
  },
  {
   "cell_type": "code",
   "execution_count": 14,
   "metadata": {},
   "outputs": [
    {
     "data": {
      "text/plain": [
       "[6, 14, 30]"
      ]
     },
     "execution_count": 14,
     "metadata": {},
     "output_type": "execute_result"
    }
   ],
   "source": [
    "stupid_func = (lambda x: x ** 2 + 5)\n",
    "ls = [stupid_func(1), stupid_func(3), stupid_func(5)]\n",
    "ls"
   ]
  },
  {
   "cell_type": "code",
   "execution_count": 15,
   "metadata": {},
   "outputs": [
    {
     "data": {
      "text/plain": [
       "[-4, -2, -1, 0, 1, 2, 3, 5]"
      ]
     },
     "execution_count": 15,
     "metadata": {},
     "output_type": "execute_result"
    }
   ],
   "source": [
    "my_list = [-4, 5,1,2,0, -2, -1, 3]\n",
    "sorted(my_list)"
   ]
  },
  {
   "cell_type": "code",
   "execution_count": 16,
   "metadata": {},
   "outputs": [
    {
     "data": {
      "text/plain": [
       "[0, 1, -1, 2, -2, 3, -4, 5]"
      ]
     },
     "execution_count": 16,
     "metadata": {},
     "output_type": "execute_result"
    }
   ],
   "source": [
    "sorted(my_list, key = lambda x: x ** 2)"
   ]
  },
  {
   "cell_type": "markdown",
   "metadata": {},
   "source": [
    "##### Map 是一个简单的函数，它可以将某个函数应用到其他一些序列元素，例如列表。"
   ]
  },
  {
   "cell_type": "code",
   "execution_count": 17,
   "metadata": {},
   "outputs": [
    {
     "data": {
      "text/plain": [
       "[4, 10, 18]"
      ]
     },
     "execution_count": 17,
     "metadata": {},
     "output_type": "execute_result"
    }
   ],
   "source": [
    "list(map(lambda x, y: x * y, [1,2,3], [4,5,6]))"
   ]
  },
  {
   "cell_type": "markdown",
   "metadata": {},
   "source": [
    "### 单行条件语句"
   ]
  },
  {
   "cell_type": "code",
   "execution_count": 23,
   "metadata": {},
   "outputs": [
    {
     "name": "stdout",
     "output_type": "stream",
     "text": [
      "1\n",
      "Baguette\n"
     ]
    }
   ],
   "source": [
    "x = int(input())\n",
    "print('Horse' if x >= 10 else 'Duck' if 1<x<10 else 'Baguette')"
   ]
  },
  {
   "cell_type": "markdown",
   "metadata": {},
   "source": [
    "### zip()"
   ]
  },
  {
   "cell_type": "code",
   "execution_count": 26,
   "metadata": {},
   "outputs": [
    {
     "data": {
      "text/plain": [
       "['Peter Jensen', 'Christian Smith', 'Klaus Nistrup']"
      ]
     },
     "execution_count": 26,
     "metadata": {},
     "output_type": "execute_result"
    }
   ],
   "source": [
    "first_names = ['Peter', 'Christian', 'Klaus']\n",
    "last_names = ['Jensen', 'Smith', 'Nistrup']\n",
    "\n",
    "[' '.join(x) for x in zip(first_names, last_names)]"
   ]
  },
  {
   "cell_type": "code",
   "execution_count": null,
   "metadata": {},
   "outputs": [],
   "source": []
  }
 ],
 "metadata": {
  "kernelspec": {
   "display_name": "Python 3",
   "language": "python",
   "name": "python3"
  },
  "language_info": {
   "codemirror_mode": {
    "name": "ipython",
    "version": 3
   },
   "file_extension": ".py",
   "mimetype": "text/x-python",
   "name": "python",
   "nbconvert_exporter": "python",
   "pygments_lexer": "ipython3",
   "version": "3.7.9"
  },
  "toc": {
   "base_numbering": 1,
   "nav_menu": {},
   "number_sections": true,
   "sideBar": true,
   "skip_h1_title": false,
   "title_cell": "Table of Contents",
   "title_sidebar": "Contents",
   "toc_cell": false,
   "toc_position": {},
   "toc_section_display": true,
   "toc_window_display": false
  }
 },
 "nbformat": 4,
 "nbformat_minor": 4
}
