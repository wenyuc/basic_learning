{
 "cells": [
  {
   "cell_type": "code",
   "execution_count": 1,
   "metadata": {},
   "outputs": [],
   "source": [
    "from IPython.core.interactiveshell import InteractiveShell\n",
    "InteractiveShell.ast_node_interactivity = \"all\""
   ]
  },
  {
   "cell_type": "code",
   "execution_count": 2,
   "metadata": {},
   "outputs": [
    {
     "name": "stdout",
     "output_type": "stream",
     "text": [
      "('64bit', '')\n"
     ]
    }
   ],
   "source": [
    "import platform\n",
    "print(platform.architecture())"
   ]
  },
  {
   "cell_type": "markdown",
   "metadata": {},
   "source": [
    "### Tushare\n",
    "\n",
    "http://tushare.org\n",
    "\n",
    "username: 139****** pw: <usual pw>\n",
    "    \n",
    "token: ./data/tushare_token.txt"
   ]
  },
  {
   "cell_type": "code",
   "execution_count": 19,
   "metadata": {},
   "outputs": [
    {
     "name": "stdout",
     "output_type": "stream",
     "text": [
      "Requirement already satisfied: tushare in /Applications/anaconda3/envs/py38/lib/python3.8/site-packages (1.2.62)\n",
      "Requirement already satisfied: requests>=2.0.0 in /Applications/anaconda3/envs/py38/lib/python3.8/site-packages (from tushare) (2.24.0)\n",
      "Requirement already satisfied: simplejson>=3.16.0 in /Applications/anaconda3/envs/py38/lib/python3.8/site-packages (from tushare) (3.17.2)\n",
      "Requirement already satisfied: websocket-client>=0.57.0 in /Applications/anaconda3/envs/py38/lib/python3.8/site-packages (from tushare) (1.0.1)\n",
      "Requirement already satisfied: lxml>=3.8.0 in /Applications/anaconda3/envs/py38/lib/python3.8/site-packages (from tushare) (4.6.1)\n",
      "Requirement already satisfied: bs4>=0.0.1 in /Applications/anaconda3/envs/py38/lib/python3.8/site-packages (from tushare) (0.0.1)\n",
      "Requirement already satisfied: beautifulsoup4 in /Applications/anaconda3/envs/py38/lib/python3.8/site-packages (from bs4>=0.0.1->tushare) (4.9.3)\n",
      "Requirement already satisfied: chardet<4,>=3.0.2 in /Applications/anaconda3/envs/py38/lib/python3.8/site-packages (from requests>=2.0.0->tushare) (3.0.4)\n",
      "Requirement already satisfied: urllib3!=1.25.0,!=1.25.1,<1.26,>=1.21.1 in /Applications/anaconda3/envs/py38/lib/python3.8/site-packages (from requests>=2.0.0->tushare) (1.25.11)\n",
      "Requirement already satisfied: certifi>=2017.4.17 in /Applications/anaconda3/envs/py38/lib/python3.8/site-packages (from requests>=2.0.0->tushare) (2020.6.20)\n",
      "Requirement already satisfied: idna<3,>=2.5 in /Applications/anaconda3/envs/py38/lib/python3.8/site-packages (from requests>=2.0.0->tushare) (2.10)\n",
      "Requirement already satisfied: soupsieve>1.2 in /Applications/anaconda3/envs/py38/lib/python3.8/site-packages (from beautifulsoup4->bs4>=0.0.1->tushare) (2.0.1)\n"
     ]
    }
   ],
   "source": [
    "!pip install tushare"
   ]
  },
  {
   "cell_type": "code",
   "execution_count": 3,
   "metadata": {},
   "outputs": [
    {
     "data": {
      "text/plain": [
       "'1.2.62'"
      ]
     },
     "execution_count": 3,
     "metadata": {},
     "output_type": "execute_result"
    }
   ],
   "source": [
    "import tushare as ts\n",
    "ts.__version__"
   ]
  },
  {
   "cell_type": "code",
   "execution_count": 4,
   "metadata": {},
   "outputs": [],
   "source": [
    "# set token\n",
    "ts.set_token('0f02e3a72e9a28800e48d813a818473bb114dd48630f7a77736b34e5')\n",
    "pro = ts.pro_api()"
   ]
  },
  {
   "cell_type": "markdown",
   "metadata": {},
   "source": [
    "#### 股市基本信息"
   ]
  },
  {
   "cell_type": "code",
   "execution_count": 5,
   "metadata": {},
   "outputs": [
    {
     "data": {
      "text/html": [
       "<div>\n",
       "<style scoped>\n",
       "    .dataframe tbody tr th:only-of-type {\n",
       "        vertical-align: middle;\n",
       "    }\n",
       "\n",
       "    .dataframe tbody tr th {\n",
       "        vertical-align: top;\n",
       "    }\n",
       "\n",
       "    .dataframe thead th {\n",
       "        text-align: right;\n",
       "    }\n",
       "</style>\n",
       "<table border=\"1\" class=\"dataframe\">\n",
       "  <thead>\n",
       "    <tr style=\"text-align: right;\">\n",
       "      <th></th>\n",
       "      <th>pretrade_date</th>\n",
       "    </tr>\n",
       "  </thead>\n",
       "  <tbody>\n",
       "    <tr>\n",
       "      <th>0</th>\n",
       "      <td>20210604</td>\n",
       "    </tr>\n",
       "    <tr>\n",
       "      <th>1</th>\n",
       "      <td>20210604</td>\n",
       "    </tr>\n",
       "    <tr>\n",
       "      <th>2</th>\n",
       "      <td>20210611</td>\n",
       "    </tr>\n",
       "    <tr>\n",
       "      <th>3</th>\n",
       "      <td>20210611</td>\n",
       "    </tr>\n",
       "    <tr>\n",
       "      <th>4</th>\n",
       "      <td>20210611</td>\n",
       "    </tr>\n",
       "  </tbody>\n",
       "</table>\n",
       "</div>"
      ],
      "text/plain": [
       "  pretrade_date\n",
       "0      20210604\n",
       "1      20210604\n",
       "2      20210611\n",
       "3      20210611\n",
       "4      20210611"
      ]
     },
     "execution_count": 5,
     "metadata": {},
     "output_type": "execute_result"
    }
   ],
   "source": [
    "# 通过 trade_cal 可以便捷的获取所有的交易日的日期信息，代码如下：\n",
    "df = pro.trade_cal(exchange_id='', start_date='20210601', end_date='', \n",
    "                   fields='pretrade_date',is_open='0')\n",
    "df.head()"
   ]
  },
  {
   "cell_type": "markdown",
   "metadata": {},
   "source": [
    "画图\n",
    "https://mp.weixin.qq.com/s?__biz=MzI2NjY5NzI0NA==&mid=2247497147&idx=1&sn=f1a111fc7435fa76694fb00ee2174a9e&scene=21#wechat_redirect"
   ]
  },
  {
   "cell_type": "code",
   "execution_count": 6,
   "metadata": {},
   "outputs": [
    {
     "data": {
      "text/html": [
       "<div>\n",
       "<style scoped>\n",
       "    .dataframe tbody tr th:only-of-type {\n",
       "        vertical-align: middle;\n",
       "    }\n",
       "\n",
       "    .dataframe tbody tr th {\n",
       "        vertical-align: top;\n",
       "    }\n",
       "\n",
       "    .dataframe thead th {\n",
       "        text-align: right;\n",
       "    }\n",
       "</style>\n",
       "<table border=\"1\" class=\"dataframe\">\n",
       "  <thead>\n",
       "    <tr style=\"text-align: right;\">\n",
       "      <th></th>\n",
       "      <th>ts_code</th>\n",
       "      <th>symbol</th>\n",
       "      <th>name</th>\n",
       "      <th>area</th>\n",
       "      <th>industry</th>\n",
       "      <th>list_status</th>\n",
       "      <th>list_date</th>\n",
       "    </tr>\n",
       "  </thead>\n",
       "  <tbody>\n",
       "    <tr>\n",
       "      <th>0</th>\n",
       "      <td>000001.SZ</td>\n",
       "      <td>000001</td>\n",
       "      <td>平安银行</td>\n",
       "      <td>深圳</td>\n",
       "      <td>银行</td>\n",
       "      <td>L</td>\n",
       "      <td>19910403</td>\n",
       "    </tr>\n",
       "    <tr>\n",
       "      <th>1</th>\n",
       "      <td>000002.SZ</td>\n",
       "      <td>000002</td>\n",
       "      <td>万科A</td>\n",
       "      <td>深圳</td>\n",
       "      <td>全国地产</td>\n",
       "      <td>L</td>\n",
       "      <td>19910129</td>\n",
       "    </tr>\n",
       "    <tr>\n",
       "      <th>2</th>\n",
       "      <td>000004.SZ</td>\n",
       "      <td>000004</td>\n",
       "      <td>国华网安</td>\n",
       "      <td>深圳</td>\n",
       "      <td>软件服务</td>\n",
       "      <td>L</td>\n",
       "      <td>19910114</td>\n",
       "    </tr>\n",
       "    <tr>\n",
       "      <th>3</th>\n",
       "      <td>000005.SZ</td>\n",
       "      <td>000005</td>\n",
       "      <td>ST星源</td>\n",
       "      <td>深圳</td>\n",
       "      <td>环境保护</td>\n",
       "      <td>L</td>\n",
       "      <td>19901210</td>\n",
       "    </tr>\n",
       "    <tr>\n",
       "      <th>4</th>\n",
       "      <td>000006.SZ</td>\n",
       "      <td>000006</td>\n",
       "      <td>深振业A</td>\n",
       "      <td>深圳</td>\n",
       "      <td>区域地产</td>\n",
       "      <td>L</td>\n",
       "      <td>19920427</td>\n",
       "    </tr>\n",
       "  </tbody>\n",
       "</table>\n",
       "</div>"
      ],
      "text/plain": [
       "     ts_code  symbol  name area industry list_status list_date\n",
       "0  000001.SZ  000001  平安银行   深圳       银行           L  19910403\n",
       "1  000002.SZ  000002   万科A   深圳     全国地产           L  19910129\n",
       "2  000004.SZ  000004  国华网安   深圳     软件服务           L  19910114\n",
       "3  000005.SZ  000005  ST星源   深圳     环境保护           L  19901210\n",
       "4  000006.SZ  000006  深振业A   深圳     区域地产           L  19920427"
      ]
     },
     "execution_count": 6,
     "metadata": {},
     "output_type": "execute_result"
    }
   ],
   "source": [
    "# get stock list\n",
    "st_ls = pro.stock_basic(exchange_id='',list_status='L',\n",
    "                       fields = 'ts_code,symbol,name,area,industry,list_date,list_status')\n",
    "st_ls.head()"
   ]
  },
  {
   "cell_type": "code",
   "execution_count": 7,
   "metadata": {},
   "outputs": [
    {
     "data": {
      "text/html": [
       "<div>\n",
       "<style scoped>\n",
       "    .dataframe tbody tr th:only-of-type {\n",
       "        vertical-align: middle;\n",
       "    }\n",
       "\n",
       "    .dataframe tbody tr th {\n",
       "        vertical-align: top;\n",
       "    }\n",
       "\n",
       "    .dataframe thead th {\n",
       "        text-align: right;\n",
       "    }\n",
       "</style>\n",
       "<table border=\"1\" class=\"dataframe\">\n",
       "  <thead>\n",
       "    <tr style=\"text-align: right;\">\n",
       "      <th></th>\n",
       "      <th>ts_code</th>\n",
       "      <th>symbol</th>\n",
       "      <th>name</th>\n",
       "      <th>area</th>\n",
       "      <th>industry</th>\n",
       "      <th>list_status</th>\n",
       "      <th>list_date</th>\n",
       "    </tr>\n",
       "  </thead>\n",
       "  <tbody>\n",
       "    <tr>\n",
       "      <th>0</th>\n",
       "      <td>000001.SZ</td>\n",
       "      <td>000001</td>\n",
       "      <td>平安银行</td>\n",
       "      <td>深圳</td>\n",
       "      <td>银行</td>\n",
       "      <td>L</td>\n",
       "      <td>19910403</td>\n",
       "    </tr>\n",
       "    <tr>\n",
       "      <th>1</th>\n",
       "      <td>000002.SZ</td>\n",
       "      <td>000002</td>\n",
       "      <td>万科A</td>\n",
       "      <td>深圳</td>\n",
       "      <td>全国地产</td>\n",
       "      <td>L</td>\n",
       "      <td>19910129</td>\n",
       "    </tr>\n",
       "    <tr>\n",
       "      <th>2</th>\n",
       "      <td>000004.SZ</td>\n",
       "      <td>000004</td>\n",
       "      <td>国华网安</td>\n",
       "      <td>深圳</td>\n",
       "      <td>软件服务</td>\n",
       "      <td>L</td>\n",
       "      <td>19910114</td>\n",
       "    </tr>\n",
       "    <tr>\n",
       "      <th>3</th>\n",
       "      <td>000005.SZ</td>\n",
       "      <td>000005</td>\n",
       "      <td>ST星源</td>\n",
       "      <td>深圳</td>\n",
       "      <td>环境保护</td>\n",
       "      <td>L</td>\n",
       "      <td>19901210</td>\n",
       "    </tr>\n",
       "    <tr>\n",
       "      <th>4</th>\n",
       "      <td>000006.SZ</td>\n",
       "      <td>000006</td>\n",
       "      <td>深振业A</td>\n",
       "      <td>深圳</td>\n",
       "      <td>区域地产</td>\n",
       "      <td>L</td>\n",
       "      <td>19920427</td>\n",
       "    </tr>\n",
       "    <tr>\n",
       "      <th>...</th>\n",
       "      <td>...</td>\n",
       "      <td>...</td>\n",
       "      <td>...</td>\n",
       "      <td>...</td>\n",
       "      <td>...</td>\n",
       "      <td>...</td>\n",
       "      <td>...</td>\n",
       "    </tr>\n",
       "    <tr>\n",
       "      <th>4323</th>\n",
       "      <td>688777.SH</td>\n",
       "      <td>688777</td>\n",
       "      <td>中控技术</td>\n",
       "      <td>浙江</td>\n",
       "      <td>软件服务</td>\n",
       "      <td>L</td>\n",
       "      <td>20201124</td>\n",
       "    </tr>\n",
       "    <tr>\n",
       "      <th>4324</th>\n",
       "      <td>688788.SH</td>\n",
       "      <td>688788</td>\n",
       "      <td>科思科技</td>\n",
       "      <td>深圳</td>\n",
       "      <td>通信设备</td>\n",
       "      <td>L</td>\n",
       "      <td>20201022</td>\n",
       "    </tr>\n",
       "    <tr>\n",
       "      <th>4325</th>\n",
       "      <td>688819.SH</td>\n",
       "      <td>688819</td>\n",
       "      <td>天能股份</td>\n",
       "      <td>浙江</td>\n",
       "      <td>电气设备</td>\n",
       "      <td>L</td>\n",
       "      <td>20210118</td>\n",
       "    </tr>\n",
       "    <tr>\n",
       "      <th>4326</th>\n",
       "      <td>688981.SH</td>\n",
       "      <td>688981</td>\n",
       "      <td>中芯国际</td>\n",
       "      <td>上海</td>\n",
       "      <td>半导体</td>\n",
       "      <td>L</td>\n",
       "      <td>20200716</td>\n",
       "    </tr>\n",
       "    <tr>\n",
       "      <th>4327</th>\n",
       "      <td>689009.SH</td>\n",
       "      <td>689009</td>\n",
       "      <td>九号公司-WD</td>\n",
       "      <td>北京</td>\n",
       "      <td>摩托车</td>\n",
       "      <td>L</td>\n",
       "      <td>20201029</td>\n",
       "    </tr>\n",
       "  </tbody>\n",
       "</table>\n",
       "<p>4328 rows × 7 columns</p>\n",
       "</div>"
      ],
      "text/plain": [
       "        ts_code  symbol     name area industry list_status list_date\n",
       "0     000001.SZ  000001     平安银行   深圳       银行           L  19910403\n",
       "1     000002.SZ  000002      万科A   深圳     全国地产           L  19910129\n",
       "2     000004.SZ  000004     国华网安   深圳     软件服务           L  19910114\n",
       "3     000005.SZ  000005     ST星源   深圳     环境保护           L  19901210\n",
       "4     000006.SZ  000006     深振业A   深圳     区域地产           L  19920427\n",
       "...         ...     ...      ...  ...      ...         ...       ...\n",
       "4323  688777.SH  688777     中控技术   浙江     软件服务           L  20201124\n",
       "4324  688788.SH  688788     科思科技   深圳     通信设备           L  20201022\n",
       "4325  688819.SH  688819     天能股份   浙江     电气设备           L  20210118\n",
       "4326  688981.SH  688981     中芯国际   上海      半导体           L  20200716\n",
       "4327  689009.SH  689009  九号公司-WD   北京      摩托车           L  20201029\n",
       "\n",
       "[4328 rows x 7 columns]"
      ]
     },
     "execution_count": 7,
     "metadata": {},
     "output_type": "execute_result"
    }
   ],
   "source": [
    "# get stock list (2)\n",
    "data = pro.query(\n",
    "    'stock_basic', exchange='', list_status='L', \n",
    "    fields='ts_code,symbol,name,area,industry,list_date,list_status')\n",
    "data"
   ]
  },
  {
   "cell_type": "markdown",
   "metadata": {},
   "source": [
    "#### 股票行情日线数据"
   ]
  },
  {
   "cell_type": "code",
   "execution_count": 10,
   "metadata": {},
   "outputs": [
    {
     "data": {
      "text/html": [
       "<div>\n",
       "<style scoped>\n",
       "    .dataframe tbody tr th:only-of-type {\n",
       "        vertical-align: middle;\n",
       "    }\n",
       "\n",
       "    .dataframe tbody tr th {\n",
       "        vertical-align: top;\n",
       "    }\n",
       "\n",
       "    .dataframe thead th {\n",
       "        text-align: right;\n",
       "    }\n",
       "</style>\n",
       "<table border=\"1\" class=\"dataframe\">\n",
       "  <thead>\n",
       "    <tr style=\"text-align: right;\">\n",
       "      <th></th>\n",
       "      <th>ts_code</th>\n",
       "      <th>trade_date</th>\n",
       "      <th>open</th>\n",
       "      <th>high</th>\n",
       "      <th>low</th>\n",
       "      <th>close</th>\n",
       "      <th>pre_close</th>\n",
       "      <th>change</th>\n",
       "      <th>pct_chg</th>\n",
       "      <th>vol</th>\n",
       "      <th>amount</th>\n",
       "    </tr>\n",
       "  </thead>\n",
       "  <tbody>\n",
       "    <tr>\n",
       "      <th>0</th>\n",
       "      <td>600519.SH</td>\n",
       "      <td>20210607</td>\n",
       "      <td>2265.0</td>\n",
       "      <td>2279.00</td>\n",
       "      <td>2240.01</td>\n",
       "      <td>2271.00</td>\n",
       "      <td>2251.50</td>\n",
       "      <td>19.50</td>\n",
       "      <td>0.8661</td>\n",
       "      <td>25466.27</td>\n",
       "      <td>5756592.694</td>\n",
       "    </tr>\n",
       "    <tr>\n",
       "      <th>1</th>\n",
       "      <td>600519.SH</td>\n",
       "      <td>20210604</td>\n",
       "      <td>2215.0</td>\n",
       "      <td>2288.00</td>\n",
       "      <td>2214.04</td>\n",
       "      <td>2251.50</td>\n",
       "      <td>2222.22</td>\n",
       "      <td>29.28</td>\n",
       "      <td>1.3176</td>\n",
       "      <td>31422.19</td>\n",
       "      <td>7058715.115</td>\n",
       "    </tr>\n",
       "    <tr>\n",
       "      <th>2</th>\n",
       "      <td>600519.SH</td>\n",
       "      <td>20210603</td>\n",
       "      <td>2220.0</td>\n",
       "      <td>2260.34</td>\n",
       "      <td>2210.08</td>\n",
       "      <td>2222.22</td>\n",
       "      <td>2222.00</td>\n",
       "      <td>0.22</td>\n",
       "      <td>0.0099</td>\n",
       "      <td>23450.31</td>\n",
       "      <td>5242453.019</td>\n",
       "    </tr>\n",
       "    <tr>\n",
       "      <th>3</th>\n",
       "      <td>600519.SH</td>\n",
       "      <td>20210602</td>\n",
       "      <td>2250.0</td>\n",
       "      <td>2264.00</td>\n",
       "      <td>2208.18</td>\n",
       "      <td>2222.00</td>\n",
       "      <td>2240.95</td>\n",
       "      <td>-18.95</td>\n",
       "      <td>-0.8456</td>\n",
       "      <td>22862.77</td>\n",
       "      <td>5088908.384</td>\n",
       "    </tr>\n",
       "    <tr>\n",
       "      <th>4</th>\n",
       "      <td>600519.SH</td>\n",
       "      <td>20210601</td>\n",
       "      <td>2222.0</td>\n",
       "      <td>2248.95</td>\n",
       "      <td>2206.00</td>\n",
       "      <td>2240.95</td>\n",
       "      <td>2218.00</td>\n",
       "      <td>22.95</td>\n",
       "      <td>1.0347</td>\n",
       "      <td>30616.34</td>\n",
       "      <td>6832594.466</td>\n",
       "    </tr>\n",
       "  </tbody>\n",
       "</table>\n",
       "</div>"
      ],
      "text/plain": [
       "     ts_code trade_date    open     high      low    close  pre_close  change  \\\n",
       "0  600519.SH   20210607  2265.0  2279.00  2240.01  2271.00    2251.50   19.50   \n",
       "1  600519.SH   20210604  2215.0  2288.00  2214.04  2251.50    2222.22   29.28   \n",
       "2  600519.SH   20210603  2220.0  2260.34  2210.08  2222.22    2222.00    0.22   \n",
       "3  600519.SH   20210602  2250.0  2264.00  2208.18  2222.00    2240.95  -18.95   \n",
       "4  600519.SH   20210601  2222.0  2248.95  2206.00  2240.95    2218.00   22.95   \n",
       "\n",
       "   pct_chg       vol       amount  \n",
       "0   0.8661  25466.27  5756592.694  \n",
       "1   1.3176  31422.19  7058715.115  \n",
       "2   0.0099  23450.31  5242453.019  \n",
       "3  -0.8456  22862.77  5088908.384  \n",
       "4   1.0347  30616.34  6832594.466  "
      ]
     },
     "execution_count": 10,
     "metadata": {},
     "output_type": "execute_result"
    }
   ],
   "source": [
    "# get MaoTai daily trend\n",
    "data = pro.daily(ts_code='600519.SH',start_date='20210601', end_date='20210607')\n",
    "data"
   ]
  },
  {
   "cell_type": "code",
   "execution_count": 11,
   "metadata": {},
   "outputs": [
    {
     "data": {
      "text/html": [
       "<div>\n",
       "<style scoped>\n",
       "    .dataframe tbody tr th:only-of-type {\n",
       "        vertical-align: middle;\n",
       "    }\n",
       "\n",
       "    .dataframe tbody tr th {\n",
       "        vertical-align: top;\n",
       "    }\n",
       "\n",
       "    .dataframe thead th {\n",
       "        text-align: right;\n",
       "    }\n",
       "</style>\n",
       "<table border=\"1\" class=\"dataframe\">\n",
       "  <thead>\n",
       "    <tr style=\"text-align: right;\">\n",
       "      <th></th>\n",
       "      <th>ts_code</th>\n",
       "      <th>trade_date</th>\n",
       "      <th>open</th>\n",
       "      <th>high</th>\n",
       "      <th>low</th>\n",
       "      <th>close</th>\n",
       "      <th>pre_close</th>\n",
       "      <th>change</th>\n",
       "      <th>pct_chg</th>\n",
       "      <th>vol</th>\n",
       "      <th>amount</th>\n",
       "    </tr>\n",
       "  </thead>\n",
       "  <tbody>\n",
       "    <tr>\n",
       "      <th>0</th>\n",
       "      <td>300433.SZ</td>\n",
       "      <td>20210607</td>\n",
       "      <td>28.50</td>\n",
       "      <td>28.90</td>\n",
       "      <td>28.11</td>\n",
       "      <td>28.33</td>\n",
       "      <td>28.50</td>\n",
       "      <td>-0.17</td>\n",
       "      <td>-0.5965</td>\n",
       "      <td>174281.26</td>\n",
       "      <td>494794.349</td>\n",
       "    </tr>\n",
       "    <tr>\n",
       "      <th>1</th>\n",
       "      <td>600519.SH</td>\n",
       "      <td>20210607</td>\n",
       "      <td>2265.00</td>\n",
       "      <td>2279.00</td>\n",
       "      <td>2240.01</td>\n",
       "      <td>2271.00</td>\n",
       "      <td>2251.50</td>\n",
       "      <td>19.50</td>\n",
       "      <td>0.8661</td>\n",
       "      <td>25466.27</td>\n",
       "      <td>5756592.694</td>\n",
       "    </tr>\n",
       "    <tr>\n",
       "      <th>2</th>\n",
       "      <td>300433.SZ</td>\n",
       "      <td>20210604</td>\n",
       "      <td>28.75</td>\n",
       "      <td>29.09</td>\n",
       "      <td>28.37</td>\n",
       "      <td>28.50</td>\n",
       "      <td>28.96</td>\n",
       "      <td>-0.46</td>\n",
       "      <td>-1.5884</td>\n",
       "      <td>241055.19</td>\n",
       "      <td>691405.550</td>\n",
       "    </tr>\n",
       "    <tr>\n",
       "      <th>3</th>\n",
       "      <td>600519.SH</td>\n",
       "      <td>20210604</td>\n",
       "      <td>2215.00</td>\n",
       "      <td>2288.00</td>\n",
       "      <td>2214.04</td>\n",
       "      <td>2251.50</td>\n",
       "      <td>2222.22</td>\n",
       "      <td>29.28</td>\n",
       "      <td>1.3176</td>\n",
       "      <td>31422.19</td>\n",
       "      <td>7058715.115</td>\n",
       "    </tr>\n",
       "    <tr>\n",
       "      <th>4</th>\n",
       "      <td>300433.SZ</td>\n",
       "      <td>20210603</td>\n",
       "      <td>28.31</td>\n",
       "      <td>29.59</td>\n",
       "      <td>28.31</td>\n",
       "      <td>28.96</td>\n",
       "      <td>28.50</td>\n",
       "      <td>0.46</td>\n",
       "      <td>1.6140</td>\n",
       "      <td>346103.79</td>\n",
       "      <td>1011277.753</td>\n",
       "    </tr>\n",
       "    <tr>\n",
       "      <th>5</th>\n",
       "      <td>600519.SH</td>\n",
       "      <td>20210603</td>\n",
       "      <td>2220.00</td>\n",
       "      <td>2260.34</td>\n",
       "      <td>2210.08</td>\n",
       "      <td>2222.22</td>\n",
       "      <td>2222.00</td>\n",
       "      <td>0.22</td>\n",
       "      <td>0.0099</td>\n",
       "      <td>23450.31</td>\n",
       "      <td>5242453.019</td>\n",
       "    </tr>\n",
       "    <tr>\n",
       "      <th>6</th>\n",
       "      <td>300433.SZ</td>\n",
       "      <td>20210602</td>\n",
       "      <td>29.02</td>\n",
       "      <td>29.18</td>\n",
       "      <td>28.50</td>\n",
       "      <td>28.50</td>\n",
       "      <td>29.01</td>\n",
       "      <td>-0.51</td>\n",
       "      <td>-1.7580</td>\n",
       "      <td>284944.39</td>\n",
       "      <td>820476.580</td>\n",
       "    </tr>\n",
       "    <tr>\n",
       "      <th>7</th>\n",
       "      <td>600519.SH</td>\n",
       "      <td>20210602</td>\n",
       "      <td>2250.00</td>\n",
       "      <td>2264.00</td>\n",
       "      <td>2208.18</td>\n",
       "      <td>2222.00</td>\n",
       "      <td>2240.95</td>\n",
       "      <td>-18.95</td>\n",
       "      <td>-0.8456</td>\n",
       "      <td>22862.77</td>\n",
       "      <td>5088908.384</td>\n",
       "    </tr>\n",
       "    <tr>\n",
       "      <th>8</th>\n",
       "      <td>300433.SZ</td>\n",
       "      <td>20210601</td>\n",
       "      <td>29.25</td>\n",
       "      <td>29.50</td>\n",
       "      <td>28.87</td>\n",
       "      <td>29.01</td>\n",
       "      <td>29.18</td>\n",
       "      <td>-0.17</td>\n",
       "      <td>-0.5826</td>\n",
       "      <td>248300.70</td>\n",
       "      <td>723128.336</td>\n",
       "    </tr>\n",
       "    <tr>\n",
       "      <th>9</th>\n",
       "      <td>600519.SH</td>\n",
       "      <td>20210601</td>\n",
       "      <td>2222.00</td>\n",
       "      <td>2248.95</td>\n",
       "      <td>2206.00</td>\n",
       "      <td>2240.95</td>\n",
       "      <td>2218.00</td>\n",
       "      <td>22.95</td>\n",
       "      <td>1.0347</td>\n",
       "      <td>30616.34</td>\n",
       "      <td>6832594.466</td>\n",
       "    </tr>\n",
       "  </tbody>\n",
       "</table>\n",
       "</div>"
      ],
      "text/plain": [
       "     ts_code trade_date     open     high      low    close  pre_close  \\\n",
       "0  300433.SZ   20210607    28.50    28.90    28.11    28.33      28.50   \n",
       "1  600519.SH   20210607  2265.00  2279.00  2240.01  2271.00    2251.50   \n",
       "2  300433.SZ   20210604    28.75    29.09    28.37    28.50      28.96   \n",
       "3  600519.SH   20210604  2215.00  2288.00  2214.04  2251.50    2222.22   \n",
       "4  300433.SZ   20210603    28.31    29.59    28.31    28.96      28.50   \n",
       "5  600519.SH   20210603  2220.00  2260.34  2210.08  2222.22    2222.00   \n",
       "6  300433.SZ   20210602    29.02    29.18    28.50    28.50      29.01   \n",
       "7  600519.SH   20210602  2250.00  2264.00  2208.18  2222.00    2240.95   \n",
       "8  300433.SZ   20210601    29.25    29.50    28.87    29.01      29.18   \n",
       "9  600519.SH   20210601  2222.00  2248.95  2206.00  2240.95    2218.00   \n",
       "\n",
       "   change  pct_chg        vol       amount  \n",
       "0   -0.17  -0.5965  174281.26   494794.349  \n",
       "1   19.50   0.8661   25466.27  5756592.694  \n",
       "2   -0.46  -1.5884  241055.19   691405.550  \n",
       "3   29.28   1.3176   31422.19  7058715.115  \n",
       "4    0.46   1.6140  346103.79  1011277.753  \n",
       "5    0.22   0.0099   23450.31  5242453.019  \n",
       "6   -0.51  -1.7580  284944.39   820476.580  \n",
       "7  -18.95  -0.8456   22862.77  5088908.384  \n",
       "8   -0.17  -0.5826  248300.70   723128.336  \n",
       "9   22.95   1.0347   30616.34  6832594.466  "
      ]
     },
     "execution_count": 11,
     "metadata": {},
     "output_type": "execute_result"
    }
   ],
   "source": [
    "# get multiple stocks daily trend\n",
    "data = pro.daily(ts_code='600519.SH,300433.SZ',start_date='20210601', end_date='20210607')\n",
    "data "
   ]
  },
  {
   "cell_type": "code",
   "execution_count": 12,
   "metadata": {},
   "outputs": [
    {
     "data": {
      "text/html": [
       "<div>\n",
       "<style scoped>\n",
       "    .dataframe tbody tr th:only-of-type {\n",
       "        vertical-align: middle;\n",
       "    }\n",
       "\n",
       "    .dataframe tbody tr th {\n",
       "        vertical-align: top;\n",
       "    }\n",
       "\n",
       "    .dataframe thead th {\n",
       "        text-align: right;\n",
       "    }\n",
       "</style>\n",
       "<table border=\"1\" class=\"dataframe\">\n",
       "  <thead>\n",
       "    <tr style=\"text-align: right;\">\n",
       "      <th></th>\n",
       "      <th>ts_code</th>\n",
       "      <th>trade_date</th>\n",
       "      <th>open</th>\n",
       "      <th>high</th>\n",
       "      <th>low</th>\n",
       "      <th>close</th>\n",
       "      <th>pre_close</th>\n",
       "      <th>change</th>\n",
       "      <th>pct_chg</th>\n",
       "      <th>vol</th>\n",
       "      <th>amount</th>\n",
       "    </tr>\n",
       "  </thead>\n",
       "  <tbody>\n",
       "    <tr>\n",
       "      <th>0</th>\n",
       "      <td>000001.SZ</td>\n",
       "      <td>20210607</td>\n",
       "      <td>24.48</td>\n",
       "      <td>24.48</td>\n",
       "      <td>23.93</td>\n",
       "      <td>24.30</td>\n",
       "      <td>24.54</td>\n",
       "      <td>-0.24</td>\n",
       "      <td>-0.9780</td>\n",
       "      <td>447914.10</td>\n",
       "      <td>1081738.832</td>\n",
       "    </tr>\n",
       "    <tr>\n",
       "      <th>1</th>\n",
       "      <td>000002.SZ</td>\n",
       "      <td>20210607</td>\n",
       "      <td>26.12</td>\n",
       "      <td>26.18</td>\n",
       "      <td>25.78</td>\n",
       "      <td>25.94</td>\n",
       "      <td>26.33</td>\n",
       "      <td>-0.39</td>\n",
       "      <td>-1.4812</td>\n",
       "      <td>647452.80</td>\n",
       "      <td>1676861.164</td>\n",
       "    </tr>\n",
       "    <tr>\n",
       "      <th>2</th>\n",
       "      <td>000004.SZ</td>\n",
       "      <td>20210607</td>\n",
       "      <td>16.29</td>\n",
       "      <td>17.89</td>\n",
       "      <td>15.76</td>\n",
       "      <td>17.89</td>\n",
       "      <td>16.26</td>\n",
       "      <td>1.63</td>\n",
       "      <td>10.0246</td>\n",
       "      <td>84239.39</td>\n",
       "      <td>145238.631</td>\n",
       "    </tr>\n",
       "    <tr>\n",
       "      <th>3</th>\n",
       "      <td>000005.SZ</td>\n",
       "      <td>20210607</td>\n",
       "      <td>1.83</td>\n",
       "      <td>1.92</td>\n",
       "      <td>1.81</td>\n",
       "      <td>1.90</td>\n",
       "      <td>1.83</td>\n",
       "      <td>0.07</td>\n",
       "      <td>3.8251</td>\n",
       "      <td>179735.76</td>\n",
       "      <td>33831.971</td>\n",
       "    </tr>\n",
       "    <tr>\n",
       "      <th>4</th>\n",
       "      <td>000006.SZ</td>\n",
       "      <td>20210607</td>\n",
       "      <td>5.28</td>\n",
       "      <td>5.29</td>\n",
       "      <td>5.22</td>\n",
       "      <td>5.22</td>\n",
       "      <td>5.25</td>\n",
       "      <td>-0.03</td>\n",
       "      <td>-0.5714</td>\n",
       "      <td>57162.40</td>\n",
       "      <td>29941.166</td>\n",
       "    </tr>\n",
       "    <tr>\n",
       "      <th>...</th>\n",
       "      <td>...</td>\n",
       "      <td>...</td>\n",
       "      <td>...</td>\n",
       "      <td>...</td>\n",
       "      <td>...</td>\n",
       "      <td>...</td>\n",
       "      <td>...</td>\n",
       "      <td>...</td>\n",
       "      <td>...</td>\n",
       "      <td>...</td>\n",
       "      <td>...</td>\n",
       "    </tr>\n",
       "    <tr>\n",
       "      <th>4314</th>\n",
       "      <td>688777.SH</td>\n",
       "      <td>20210607</td>\n",
       "      <td>93.80</td>\n",
       "      <td>96.62</td>\n",
       "      <td>92.53</td>\n",
       "      <td>94.45</td>\n",
       "      <td>93.82</td>\n",
       "      <td>0.63</td>\n",
       "      <td>0.6715</td>\n",
       "      <td>9655.02</td>\n",
       "      <td>91122.539</td>\n",
       "    </tr>\n",
       "    <tr>\n",
       "      <th>4315</th>\n",
       "      <td>688788.SH</td>\n",
       "      <td>20210607</td>\n",
       "      <td>135.81</td>\n",
       "      <td>139.99</td>\n",
       "      <td>135.18</td>\n",
       "      <td>136.00</td>\n",
       "      <td>134.60</td>\n",
       "      <td>1.40</td>\n",
       "      <td>1.0401</td>\n",
       "      <td>5512.15</td>\n",
       "      <td>75650.072</td>\n",
       "    </tr>\n",
       "    <tr>\n",
       "      <th>4316</th>\n",
       "      <td>688819.SH</td>\n",
       "      <td>20210607</td>\n",
       "      <td>44.85</td>\n",
       "      <td>45.34</td>\n",
       "      <td>44.10</td>\n",
       "      <td>44.48</td>\n",
       "      <td>44.84</td>\n",
       "      <td>-0.36</td>\n",
       "      <td>-0.8029</td>\n",
       "      <td>46479.61</td>\n",
       "      <td>207158.069</td>\n",
       "    </tr>\n",
       "    <tr>\n",
       "      <th>4317</th>\n",
       "      <td>688981.SH</td>\n",
       "      <td>20210607</td>\n",
       "      <td>56.00</td>\n",
       "      <td>56.88</td>\n",
       "      <td>56.00</td>\n",
       "      <td>56.18</td>\n",
       "      <td>55.14</td>\n",
       "      <td>1.04</td>\n",
       "      <td>1.8861</td>\n",
       "      <td>227528.47</td>\n",
       "      <td>1282246.127</td>\n",
       "    </tr>\n",
       "    <tr>\n",
       "      <th>4318</th>\n",
       "      <td>689009.SH</td>\n",
       "      <td>20210607</td>\n",
       "      <td>75.36</td>\n",
       "      <td>79.99</td>\n",
       "      <td>75.02</td>\n",
       "      <td>79.64</td>\n",
       "      <td>75.36</td>\n",
       "      <td>4.28</td>\n",
       "      <td>5.6794</td>\n",
       "      <td>21950.52</td>\n",
       "      <td>172864.544</td>\n",
       "    </tr>\n",
       "  </tbody>\n",
       "</table>\n",
       "<p>4319 rows × 11 columns</p>\n",
       "</div>"
      ],
      "text/plain": [
       "        ts_code trade_date    open    high     low   close  pre_close  change  \\\n",
       "0     000001.SZ   20210607   24.48   24.48   23.93   24.30      24.54   -0.24   \n",
       "1     000002.SZ   20210607   26.12   26.18   25.78   25.94      26.33   -0.39   \n",
       "2     000004.SZ   20210607   16.29   17.89   15.76   17.89      16.26    1.63   \n",
       "3     000005.SZ   20210607    1.83    1.92    1.81    1.90       1.83    0.07   \n",
       "4     000006.SZ   20210607    5.28    5.29    5.22    5.22       5.25   -0.03   \n",
       "...         ...        ...     ...     ...     ...     ...        ...     ...   \n",
       "4314  688777.SH   20210607   93.80   96.62   92.53   94.45      93.82    0.63   \n",
       "4315  688788.SH   20210607  135.81  139.99  135.18  136.00     134.60    1.40   \n",
       "4316  688819.SH   20210607   44.85   45.34   44.10   44.48      44.84   -0.36   \n",
       "4317  688981.SH   20210607   56.00   56.88   56.00   56.18      55.14    1.04   \n",
       "4318  689009.SH   20210607   75.36   79.99   75.02   79.64      75.36    4.28   \n",
       "\n",
       "      pct_chg        vol       amount  \n",
       "0     -0.9780  447914.10  1081738.832  \n",
       "1     -1.4812  647452.80  1676861.164  \n",
       "2     10.0246   84239.39   145238.631  \n",
       "3      3.8251  179735.76    33831.971  \n",
       "4     -0.5714   57162.40    29941.166  \n",
       "...       ...        ...          ...  \n",
       "4314   0.6715    9655.02    91122.539  \n",
       "4315   1.0401    5512.15    75650.072  \n",
       "4316  -0.8029   46479.61   207158.069  \n",
       "4317   1.8861  227528.47  1282246.127  \n",
       "4318   5.6794   21950.52   172864.544  \n",
       "\n",
       "[4319 rows x 11 columns]"
      ]
     },
     "execution_count": 12,
     "metadata": {},
     "output_type": "execute_result"
    }
   ],
   "source": [
    "# 获取某个交易日，整个沪深市场所有股票的日线行情数据，如下：\n",
    "df = pro.daily(trade_date='20210607')\n",
    "df"
   ]
  },
  {
   "cell_type": "markdown",
   "metadata": {},
   "source": [
    "#### 指数信息"
   ]
  },
  {
   "cell_type": "code",
   "execution_count": 17,
   "metadata": {},
   "outputs": [
    {
     "data": {
      "text/html": [
       "<div>\n",
       "<style scoped>\n",
       "    .dataframe tbody tr th:only-of-type {\n",
       "        vertical-align: middle;\n",
       "    }\n",
       "\n",
       "    .dataframe tbody tr th {\n",
       "        vertical-align: top;\n",
       "    }\n",
       "\n",
       "    .dataframe thead th {\n",
       "        text-align: right;\n",
       "    }\n",
       "</style>\n",
       "<table border=\"1\" class=\"dataframe\">\n",
       "  <thead>\n",
       "    <tr style=\"text-align: right;\">\n",
       "      <th></th>\n",
       "      <th>ts_code</th>\n",
       "      <th>name</th>\n",
       "      <th>market</th>\n",
       "      <th>publisher</th>\n",
       "      <th>category</th>\n",
       "      <th>base_date</th>\n",
       "      <th>base_point</th>\n",
       "      <th>list_date</th>\n",
       "    </tr>\n",
       "  </thead>\n",
       "  <tbody>\n",
       "    <tr>\n",
       "      <th>0</th>\n",
       "      <td>000171.CSI</td>\n",
       "      <td>新兴成指</td>\n",
       "      <td>CSI</td>\n",
       "      <td>中证公司</td>\n",
       "      <td>主题指数</td>\n",
       "      <td>20101231</td>\n",
       "      <td>1000.0</td>\n",
       "      <td>20170125</td>\n",
       "    </tr>\n",
       "    <tr>\n",
       "      <th>1</th>\n",
       "      <td>000188.CSI</td>\n",
       "      <td>中国波指</td>\n",
       "      <td>CSI</td>\n",
       "      <td>中证公司</td>\n",
       "      <td>主题指数</td>\n",
       "      <td>None</td>\n",
       "      <td>NaN</td>\n",
       "      <td>20161128</td>\n",
       "    </tr>\n",
       "    <tr>\n",
       "      <th>2</th>\n",
       "      <td>000300HKD00.CSI</td>\n",
       "      <td>沪深300HKD</td>\n",
       "      <td>CSI</td>\n",
       "      <td>中证公司</td>\n",
       "      <td>规模指数</td>\n",
       "      <td>20041231</td>\n",
       "      <td>1000.0</td>\n",
       "      <td>20200720</td>\n",
       "    </tr>\n",
       "    <tr>\n",
       "      <th>3</th>\n",
       "      <td>000300HKD01.CSI</td>\n",
       "      <td>沪深300(全)HKD</td>\n",
       "      <td>CSI</td>\n",
       "      <td>中证公司</td>\n",
       "      <td>规模指数</td>\n",
       "      <td>20041231</td>\n",
       "      <td>1000.0</td>\n",
       "      <td>20200720</td>\n",
       "    </tr>\n",
       "    <tr>\n",
       "      <th>4</th>\n",
       "      <td>000300HKD02.CSI</td>\n",
       "      <td>沪深300(净)HKD</td>\n",
       "      <td>CSI</td>\n",
       "      <td>中证公司</td>\n",
       "      <td>规模指数</td>\n",
       "      <td>20041231</td>\n",
       "      <td>1000.0</td>\n",
       "      <td>20200720</td>\n",
       "    </tr>\n",
       "    <tr>\n",
       "      <th>...</th>\n",
       "      <td>...</td>\n",
       "      <td>...</td>\n",
       "      <td>...</td>\n",
       "      <td>...</td>\n",
       "      <td>...</td>\n",
       "      <td>...</td>\n",
       "      <td>...</td>\n",
       "      <td>...</td>\n",
       "    </tr>\n",
       "    <tr>\n",
       "      <th>3694</th>\n",
       "      <td>n99306.CSI</td>\n",
       "      <td>三板研发全收益</td>\n",
       "      <td>CSI</td>\n",
       "      <td>中证公司</td>\n",
       "      <td>主题指数</td>\n",
       "      <td>20181220</td>\n",
       "      <td>1000.0</td>\n",
       "      <td>20190422</td>\n",
       "    </tr>\n",
       "    <tr>\n",
       "      <th>3695</th>\n",
       "      <td>n99307.CSI</td>\n",
       "      <td>三板活跃全收益</td>\n",
       "      <td>CSI</td>\n",
       "      <td>中证公司</td>\n",
       "      <td>主题指数</td>\n",
       "      <td>20181220</td>\n",
       "      <td>1000.0</td>\n",
       "      <td>20190422</td>\n",
       "    </tr>\n",
       "    <tr>\n",
       "      <th>3696</th>\n",
       "      <td>s00817.CSI</td>\n",
       "      <td>生态100全收益</td>\n",
       "      <td>CSI</td>\n",
       "      <td>中证公司</td>\n",
       "      <td>主题指数</td>\n",
       "      <td>20120629</td>\n",
       "      <td>1000.0</td>\n",
       "      <td>20151021</td>\n",
       "    </tr>\n",
       "    <tr>\n",
       "      <th>3697</th>\n",
       "      <td>s00972.CSI</td>\n",
       "      <td>300深市全收益</td>\n",
       "      <td>CSI</td>\n",
       "      <td>中证公司</td>\n",
       "      <td>主题指数</td>\n",
       "      <td>20041231</td>\n",
       "      <td>1000.0</td>\n",
       "      <td>20120621</td>\n",
       "    </tr>\n",
       "    <tr>\n",
       "      <th>3698</th>\n",
       "      <td>SHHKSI.CSI</td>\n",
       "      <td>沪港通AH股精明</td>\n",
       "      <td>CSI</td>\n",
       "      <td>中证公司</td>\n",
       "      <td>主题指数</td>\n",
       "      <td>20140409</td>\n",
       "      <td>5000.0</td>\n",
       "      <td>20141117</td>\n",
       "    </tr>\n",
       "  </tbody>\n",
       "</table>\n",
       "<p>3699 rows × 8 columns</p>\n",
       "</div>"
      ],
      "text/plain": [
       "              ts_code         name market publisher category base_date  \\\n",
       "0          000171.CSI         新兴成指    CSI      中证公司     主题指数  20101231   \n",
       "1          000188.CSI         中国波指    CSI      中证公司     主题指数      None   \n",
       "2     000300HKD00.CSI     沪深300HKD    CSI      中证公司     规模指数  20041231   \n",
       "3     000300HKD01.CSI  沪深300(全)HKD    CSI      中证公司     规模指数  20041231   \n",
       "4     000300HKD02.CSI  沪深300(净)HKD    CSI      中证公司     规模指数  20041231   \n",
       "...               ...          ...    ...       ...      ...       ...   \n",
       "3694       n99306.CSI      三板研发全收益    CSI      中证公司     主题指数  20181220   \n",
       "3695       n99307.CSI      三板活跃全收益    CSI      中证公司     主题指数  20181220   \n",
       "3696       s00817.CSI     生态100全收益    CSI      中证公司     主题指数  20120629   \n",
       "3697       s00972.CSI     300深市全收益    CSI      中证公司     主题指数  20041231   \n",
       "3698       SHHKSI.CSI     沪港通AH股精明    CSI      中证公司     主题指数  20140409   \n",
       "\n",
       "      base_point list_date  \n",
       "0         1000.0  20170125  \n",
       "1            NaN  20161128  \n",
       "2         1000.0  20200720  \n",
       "3         1000.0  20200720  \n",
       "4         1000.0  20200720  \n",
       "...          ...       ...  \n",
       "3694      1000.0  20190422  \n",
       "3695      1000.0  20190422  \n",
       "3696      1000.0  20151021  \n",
       "3697      1000.0  20120621  \n",
       "3698      5000.0  20141117  \n",
       "\n",
       "[3699 rows x 8 columns]"
      ]
     },
     "execution_count": 17,
     "metadata": {},
     "output_type": "execute_result"
    }
   ],
   "source": [
    "df = pro.index_basic(market='CSI')\n",
    "df"
   ]
  },
  {
   "cell_type": "markdown",
   "metadata": {},
   "source": [
    "### Baostock\n",
    "\n",
    "无需注册\n",
    "\n",
    "http://www.baostock.com\n"
   ]
  },
  {
   "cell_type": "code",
   "execution_count": 18,
   "metadata": {},
   "outputs": [
    {
     "name": "stdout",
     "output_type": "stream",
     "text": [
      "Requirement already satisfied: baostock in /Applications/anaconda3/envs/py38/lib/python3.8/site-packages (0.8.8)\r\n",
      "Requirement already satisfied: pandas>=0.18.0 in /Applications/anaconda3/envs/py38/lib/python3.8/site-packages (from baostock) (1.2.3)\r\n",
      "Requirement already satisfied: python-dateutil>=2.7.3 in /Applications/anaconda3/envs/py38/lib/python3.8/site-packages (from pandas>=0.18.0->baostock) (2.8.1)\r\n",
      "Requirement already satisfied: pytz>=2017.3 in /Applications/anaconda3/envs/py38/lib/python3.8/site-packages (from pandas>=0.18.0->baostock) (2020.1)\r\n",
      "Requirement already satisfied: numpy>=1.16.5 in /Applications/anaconda3/envs/py38/lib/python3.8/site-packages (from pandas>=0.18.0->baostock) (1.20.2)\r\n",
      "Requirement already satisfied: six>=1.5 in /Applications/anaconda3/envs/py38/lib/python3.8/site-packages (from python-dateutil>=2.7.3->pandas>=0.18.0->baostock) (1.15.0)\r\n"
     ]
    }
   ],
   "source": [
    "!pip install baostock"
   ]
  },
  {
   "cell_type": "markdown",
   "metadata": {},
   "source": [
    "#### Hello World"
   ]
  },
  {
   "cell_type": "code",
   "execution_count": 3,
   "metadata": {},
   "outputs": [
    {
     "name": "stdout",
     "output_type": "stream",
     "text": [
      "login success!\n",
      "login respond error_code:0\n",
      "login respond error_msg:success\n",
      "bs_history_k_data_plus respond error_code:0\n",
      "bs_history_k_data_plus respond error_msg:success\n",
      "         date       code       open       high        low      close  \\\n",
      "0  2021-06-01  sh.600519  2222.0000  2248.9500  2206.0000  2240.9500   \n",
      "1  2021-06-02  sh.600519  2250.0000  2264.0000  2208.1800  2222.0000   \n",
      "2  2021-06-03  sh.600519  2220.0000  2260.3400  2210.0800  2222.2200   \n",
      "3  2021-06-04  sh.600519  2215.0000  2288.0000  2214.0400  2251.5000   \n",
      "4  2021-06-07  sh.600519  2265.0000  2279.0000  2240.0100  2271.0000   \n",
      "5  2021-06-08  sh.600519  2260.0000  2279.9900  2161.1500  2191.0000   \n",
      "\n",
      "    preclose   volume            amount adjustflag      turn tradestatus  \\\n",
      "0  2218.0000  3061634   6832594465.5000          3  0.243700           1   \n",
      "1  2240.9500  2286277   5088908383.9800          3  0.182000           1   \n",
      "2  2222.0000  2345031   5242453018.5000          3  0.186700           1   \n",
      "3  2222.2200  3142219   7058715114.6800          3  0.250100           1   \n",
      "4  2251.5000  2546627   5756592694.1700          3  0.202700           1   \n",
      "5  2271.0000  4731363  10479943156.1000          3  0.376600           1   \n",
      "\n",
      "      pctChg      peTTM      pbMRQ      psTTM   pcfNcfTTM isST  \n",
      "0   1.034700  59.192519  16.060981  27.938576  131.827086    0  \n",
      "1  -0.845600  58.691973  15.925166  27.702320  130.712325    0  \n",
      "2   0.009900  58.697784  15.926742  27.705063  130.725267    0  \n",
      "3   1.317600  59.471187  16.136593  28.070105  132.447705    0  \n",
      "4   0.866100  59.986260  16.276351  28.313218  133.594820    0  \n",
      "5  -3.522700  57.873138  15.702987  27.315834  128.888706    0  \n",
      "logout success!\n"
     ]
    },
    {
     "data": {
      "text/plain": [
       "<baostock.data.resultset.ResultData at 0x7fa250470910>"
      ]
     },
     "execution_count": 3,
     "metadata": {},
     "output_type": "execute_result"
    }
   ],
   "source": [
    "import baostock as bs\n",
    "import pandas as pd \n",
    "\n",
    "bs.__version__\n",
    "## login to baostock ##\n",
    "lg = bs.login()\n",
    "## show login info\n",
    "print('login respond error_code:'+ lg.error_code)  # 0 success; \n",
    "print('login respond error_msg:'+ lg.error_msg)\n",
    "\n",
    "## get history K-line data\n",
    "rs = bs.query_history_k_data_plus('sh.600519',\n",
    "    fields= \"date,code,open,high,low,close,preclose,volume,amount,adjustflag,turn,tradestatus,pctChg,peTTM,pbMRQ,psTTM,pcfNcfTTM,isST\",\n",
    "    start_date = \"2021-06-01\", end_date=\"2021-06-08\",\n",
    "    frequency = \"d\", adjustflag=\"3\") # frequency = \"d\" 取日k线，adjustflag=\"3\" 默认不复权\n",
    "\n",
    "print('bs_history_k_data_plus respond error_code:'+ lg.error_code)  # 0 success; \n",
    "print('bs_history_k_data_plus respond error_msg:'+ lg.error_msg)\n",
    "\n",
    "# print result set\n",
    "df = rs.get_data()\n",
    "print(df)\n",
    "\n",
    "# save result set to csv\n",
    "df.to_csv('./data/600519_history_k_data.csv', encoding='gbk', index=False)\n",
    "\n",
    "bs.logout()"
   ]
  },
  {
   "cell_type": "markdown",
   "metadata": {},
   "source": [
    "### Akshare\n",
    "\n",
    "https://www.akshare.xyz/\n"
   ]
  },
  {
   "cell_type": "code",
   "execution_count": 1,
   "metadata": {},
   "outputs": [
    {
     "name": "stdout",
     "output_type": "stream",
     "text": [
      "Collecting akshare\n",
      "  Downloading akshare-0.9.65-py3-none-any.whl (549 kB)\n",
      "Requirement already satisfied, skipping upgrade: lxml>=4.2.1 in c:\\work2\\anaconda3\\envs\\py38\\lib\\site-packages (from akshare) (4.6.1)\n",
      "Requirement already satisfied, skipping upgrade: openpyxl>=3.0.3 in c:\\work2\\anaconda3\\envs\\py38\\lib\\site-packages (from akshare) (3.0.7)\n",
      "Collecting py-mini-racer>=0.4.0\n",
      "  Downloading py_mini_racer-0.6.0-py2.py3-none-win_amd64.whl (4.8 MB)\n",
      "Collecting tabulate>=0.8.6\n",
      "  Downloading tabulate-0.8.9-py3-none-any.whl (25 kB)\n",
      "Requirement already satisfied, skipping upgrade: beautifulsoup4>=4.9.1 in c:\\work2\\anaconda3\\envs\\py38\\lib\\site-packages (from akshare) (4.9.3)\n",
      "Requirement already satisfied, skipping upgrade: websocket-client>=0.56.0 in c:\\work2\\anaconda3\\envs\\py38\\lib\\site-packages (from akshare) (1.0.1)\n",
      "Requirement already satisfied, skipping upgrade: decorator>=4.4.2 in c:\\work2\\anaconda3\\envs\\py38\\lib\\site-packages (from akshare) (4.4.2)\n",
      "Requirement already satisfied, skipping upgrade: matplotlib>=3.1.1 in c:\\work2\\anaconda3\\envs\\py38\\lib\\site-packages (from akshare) (3.3.2)\n",
      "Collecting demjson>=2.2.4\n",
      "  Using cached demjson-2.2.4.tar.gz (131 kB)\n",
      "Requirement already satisfied, skipping upgrade: xlrd==1.2.0 in c:\\work2\\anaconda3\\envs\\py38\\lib\\site-packages (from akshare) (1.2.0)\n",
      "Requirement already satisfied, skipping upgrade: numpy>=1.15.4 in c:\\work2\\anaconda3\\envs\\py38\\lib\\site-packages (from akshare) (1.19.2)\n",
      "Requirement already satisfied, skipping upgrade: pillow>=6.2.0 in c:\\work2\\anaconda3\\envs\\py38\\lib\\site-packages (from akshare) (8.0.1)\n",
      "Requirement already satisfied, skipping upgrade: tqdm>=4.43.0 in c:\\work2\\anaconda3\\envs\\py38\\lib\\site-packages (from akshare) (4.50.2)\n",
      "Collecting jsonpath>=0.82\n",
      "  Using cached jsonpath-0.82.tar.gz (9.6 kB)\n",
      "Collecting pypinyin>=0.35.0\n",
      "  Downloading pypinyin-0.41.0-py2.py3-none-any.whl (1.3 MB)\n",
      "Requirement already satisfied, skipping upgrade: html5lib>=1.0.1 in c:\\work2\\anaconda3\\envs\\py38\\lib\\site-packages (from akshare) (1.1)\n",
      "Requirement already satisfied, skipping upgrade: requests>=2.22.0 in c:\\work2\\anaconda3\\envs\\py38\\lib\\site-packages (from akshare) (2.24.0)\n",
      "Requirement already satisfied, skipping upgrade: pandas>=0.25 in c:\\work2\\anaconda3\\envs\\py38\\lib\\site-packages (from akshare) (1.1.3)\n",
      "Requirement already satisfied, skipping upgrade: et-xmlfile in c:\\work2\\anaconda3\\envs\\py38\\lib\\site-packages (from openpyxl>=3.0.3->akshare) (1.0.1)\n",
      "Requirement already satisfied, skipping upgrade: soupsieve>1.2; python_version >= \"3.0\" in c:\\work2\\anaconda3\\envs\\py38\\lib\\site-packages (from beautifulsoup4>=4.9.1->akshare) (2.0.1)\n",
      "Requirement already satisfied, skipping upgrade: pyparsing!=2.0.4,!=2.1.2,!=2.1.6,>=2.0.3 in c:\\work2\\anaconda3\\envs\\py38\\lib\\site-packages (from matplotlib>=3.1.1->akshare) (2.4.7)\n",
      "Requirement already satisfied, skipping upgrade: cycler>=0.10 in c:\\work2\\anaconda3\\envs\\py38\\lib\\site-packages (from matplotlib>=3.1.1->akshare) (0.10.0)\n",
      "Requirement already satisfied, skipping upgrade: python-dateutil>=2.1 in c:\\work2\\anaconda3\\envs\\py38\\lib\\site-packages (from matplotlib>=3.1.1->akshare) (2.8.1)\n",
      "Requirement already satisfied, skipping upgrade: kiwisolver>=1.0.1 in c:\\work2\\anaconda3\\envs\\py38\\lib\\site-packages (from matplotlib>=3.1.1->akshare) (1.3.0)\n",
      "Requirement already satisfied, skipping upgrade: certifi>=2020.06.20 in c:\\work2\\anaconda3\\envs\\py38\\lib\\site-packages (from matplotlib>=3.1.1->akshare) (2020.12.5)\n",
      "Requirement already satisfied, skipping upgrade: webencodings in c:\\work2\\anaconda3\\envs\\py38\\lib\\site-packages (from html5lib>=1.0.1->akshare) (0.5.1)\n",
      "Requirement already satisfied, skipping upgrade: six>=1.9 in c:\\work2\\anaconda3\\envs\\py38\\lib\\site-packages (from html5lib>=1.0.1->akshare) (1.15.0)\n",
      "Requirement already satisfied, skipping upgrade: chardet<4,>=3.0.2 in c:\\work2\\anaconda3\\envs\\py38\\lib\\site-packages (from requests>=2.22.0->akshare) (3.0.4)\n",
      "Requirement already satisfied, skipping upgrade: idna<3,>=2.5 in c:\\work2\\anaconda3\\envs\\py38\\lib\\site-packages (from requests>=2.22.0->akshare) (2.10)\n",
      "Requirement already satisfied, skipping upgrade: urllib3!=1.25.0,!=1.25.1,<1.26,>=1.21.1 in c:\\work2\\anaconda3\\envs\\py38\\lib\\site-packages (from requests>=2.22.0->akshare) (1.25.11)\n",
      "Requirement already satisfied, skipping upgrade: pytz>=2017.2 in c:\\work2\\anaconda3\\envs\\py38\\lib\\site-packages (from pandas>=0.25->akshare) (2020.1)\n",
      "Building wheels for collected packages: demjson, jsonpath\n",
      "  Building wheel for demjson (setup.py): started\n",
      "  Building wheel for demjson (setup.py): finished with status 'done'\n",
      "  Created wheel for demjson: filename=demjson-2.2.4-py3-none-any.whl size=73547 sha256=85a2280462c1167a2f633d0e8c977cfbf06e15fd94d0e20dc1811ad918d3e948\n",
      "  Stored in directory: c:\\users\\wenyuc\\appdata\\local\\pip\\cache\\wheels\\9c\\c3\\a5\\ad09d152d6b4b24c3f3b6fe2793092ac03e2521e08240d28cf\n",
      "  Building wheel for jsonpath (setup.py): started\n",
      "  Building wheel for jsonpath (setup.py): finished with status 'done'\n",
      "  Created wheel for jsonpath: filename=jsonpath-0.82-py3-none-any.whl size=5617 sha256=6bf93490caf2603a1b7d075e46a6042f7deae51d5a18ce2c4ade5dfa4e14c5af\n",
      "  Stored in directory: c:\\users\\wenyuc\\appdata\\local\\pip\\cache\\wheels\\7e\\83\\91\\92d0d11261cc021516b867b5b2fe66591aa7a1dd9561c66395\n",
      "Successfully built demjson jsonpath\n",
      "Installing collected packages: py-mini-racer, tabulate, demjson, jsonpath, pypinyin, akshare\n",
      "Successfully installed akshare-0.9.65 demjson-2.2.4 jsonpath-0.82 py-mini-racer-0.6.0 pypinyin-0.41.0 tabulate-0.8.9\n"
     ]
    }
   ],
   "source": [
    "!pip install akshare --upgrade"
   ]
  },
  {
   "cell_type": "markdown",
   "metadata": {},
   "source": [
    "### Yfinance"
   ]
  },
  {
   "cell_type": "code",
   "execution_count": 20,
   "metadata": {},
   "outputs": [
    {
     "name": "stdout",
     "output_type": "stream",
     "text": [
      "Collecting yfinance\n",
      "  Downloading yfinance-0.1.59.tar.gz (25 kB)\n",
      "Requirement already satisfied: pandas>=0.24 in /Applications/anaconda3/envs/py38/lib/python3.8/site-packages (from yfinance) (1.2.3)\n",
      "Requirement already satisfied: numpy>=1.15 in /Applications/anaconda3/envs/py38/lib/python3.8/site-packages (from yfinance) (1.20.2)\n",
      "Requirement already satisfied: requests>=2.20 in /Applications/anaconda3/envs/py38/lib/python3.8/site-packages (from yfinance) (2.24.0)\n",
      "Collecting multitasking>=0.0.7\n",
      "  Downloading multitasking-0.0.9.tar.gz (8.1 kB)\n",
      "Requirement already satisfied: lxml>=4.5.1 in /Applications/anaconda3/envs/py38/lib/python3.8/site-packages (from yfinance) (4.6.1)\n",
      "Requirement already satisfied: pytz>=2017.3 in /Applications/anaconda3/envs/py38/lib/python3.8/site-packages (from pandas>=0.24->yfinance) (2020.1)\n",
      "Requirement already satisfied: python-dateutil>=2.7.3 in /Applications/anaconda3/envs/py38/lib/python3.8/site-packages (from pandas>=0.24->yfinance) (2.8.1)\n",
      "Requirement already satisfied: six>=1.5 in /Applications/anaconda3/envs/py38/lib/python3.8/site-packages (from python-dateutil>=2.7.3->pandas>=0.24->yfinance) (1.15.0)\n",
      "Requirement already satisfied: idna<3,>=2.5 in /Applications/anaconda3/envs/py38/lib/python3.8/site-packages (from requests>=2.20->yfinance) (2.10)\n",
      "Requirement already satisfied: urllib3!=1.25.0,!=1.25.1,<1.26,>=1.21.1 in /Applications/anaconda3/envs/py38/lib/python3.8/site-packages (from requests>=2.20->yfinance) (1.25.11)\n",
      "Requirement already satisfied: chardet<4,>=3.0.2 in /Applications/anaconda3/envs/py38/lib/python3.8/site-packages (from requests>=2.20->yfinance) (3.0.4)\n",
      "Requirement already satisfied: certifi>=2017.4.17 in /Applications/anaconda3/envs/py38/lib/python3.8/site-packages (from requests>=2.20->yfinance) (2020.6.20)\n",
      "Building wheels for collected packages: yfinance, multitasking\n",
      "  Building wheel for yfinance (setup.py) ... \u001b[?25ldone\n",
      "\u001b[?25h  Created wheel for yfinance: filename=yfinance-0.1.59-py2.py3-none-any.whl size=23442 sha256=424f77593ede06ca6863bef0bf8d9e091352bc08524396294ce59df05ccc0fa7\n",
      "  Stored in directory: /Users/wenyuc/Library/Caches/pip/wheels/7e/d5/f4/f628965651f61ae35c2bdc73571ce1a2026e1550a336b5ad4b\n",
      "  Building wheel for multitasking (setup.py) ... \u001b[?25ldone\n",
      "\u001b[?25h  Created wheel for multitasking: filename=multitasking-0.0.9-py3-none-any.whl size=8367 sha256=987f16abc569630b8c9293d68955a44f67e832ba1d49105eb051cf83108f0e06\n",
      "  Stored in directory: /Users/wenyuc/Library/Caches/pip/wheels/57/6d/a3/a39b839cc75274d2acfb1c58bfead2f726c6577fe8c4723f13\n",
      "Successfully built yfinance multitasking\n",
      "Installing collected packages: multitasking, yfinance\n",
      "Successfully installed multitasking-0.0.9 yfinance-0.1.59\n"
     ]
    }
   ],
   "source": [
    "!pip install yfinance"
   ]
  },
  {
   "cell_type": "code",
   "execution_count": 26,
   "metadata": {},
   "outputs": [
    {
     "data": {
      "text/plain": [
       "'0.1.59'"
      ]
     },
     "execution_count": 26,
     "metadata": {},
     "output_type": "execute_result"
    },
    {
     "ename": "AttributeError",
     "evalue": "'NoneType' object has no attribute 'head'",
     "output_type": "error",
     "traceback": [
      "\u001b[0;31m---------------------------------------------------------------------------\u001b[0m",
      "\u001b[0;31mAttributeError\u001b[0m                            Traceback (most recent call last)",
      "\u001b[0;32m<ipython-input-26-74286036ffce>\u001b[0m in \u001b[0;36m<module>\u001b[0;34m\u001b[0m\n\u001b[1;32m      8\u001b[0m \u001b[0;34m\u001b[0m\u001b[0m\n\u001b[1;32m      9\u001b[0m \u001b[0mdataset\u001b[0m\u001b[0;34m=\u001b[0m\u001b[0myf\u001b[0m\u001b[0;34m.\u001b[0m\u001b[0mpdr_override\u001b[0m\u001b[0;34m(\u001b[0m\u001b[0;34m)\u001b[0m\u001b[0;34m\u001b[0m\u001b[0;34m\u001b[0m\u001b[0m\n\u001b[0;32m---> 10\u001b[0;31m \u001b[0mdataset\u001b[0m\u001b[0;34m.\u001b[0m\u001b[0mhead\u001b[0m\u001b[0;34m(\u001b[0m\u001b[0;34m)\u001b[0m\u001b[0;34m\u001b[0m\u001b[0;34m\u001b[0m\u001b[0m\n\u001b[0m",
      "\u001b[0;31mAttributeError\u001b[0m: 'NoneType' object has no attribute 'head'"
     ]
    }
   ],
   "source": [
    "import yfinance as yf\n",
    "\n",
    "yf.__version__\n",
    "\n",
    "symbol = 'AMD'\n",
    "start = '2021-06-07'\n",
    "end = '2021-06-07'\n",
    "\n",
    "dataset=yf.pdr_override()\n",
    "dataset.head()"
   ]
  },
  {
   "cell_type": "markdown",
   "metadata": {},
   "source": [
    "### Plotly and Dash\n",
    "https://mp.weixin.qq.com/s?__biz=MzI2NjY5NzI0NA==&mid=2247497147&idx=1&sn=f1a111fc7435fa76694fb00ee2174a9e&scene=21#wechat_redirect\n"
   ]
  },
  {
   "cell_type": "code",
   "execution_count": null,
   "metadata": {},
   "outputs": [],
   "source": [
    "from IPython.core.interactiveshell import InteractiveShell\n",
    "InteractiveShell.ast_node_interactivity = \"all\""
   ]
  },
  {
   "cell_type": "code",
   "execution_count": 26,
   "metadata": {},
   "outputs": [
    {
     "name": "stdout",
     "output_type": "stream",
     "text": [
      "00.8.80\n",
      "login success!\n",
      "login respond error_code:0\n",
      "login respond  error_msg:success\n",
      "query_history_k_data_plus respond error_code:0\n",
      "query_history_k_data_plus respond  error_msg:success\n",
      "         date       code       open       high        low      close  \\\n",
      "0  2021-06-01  sh.000300  5320.4745  5343.7529  5269.2590  5341.6798   \n",
      "1  2021-06-02  sh.000300  5348.3440  5352.6404  5266.7852  5289.9736   \n",
      "2  2021-06-03  sh.000300  5285.7098  5314.3691  5255.0719  5255.2855   \n",
      "3  2021-06-04  sh.000300  5228.2761  5334.4899  5221.2291  5282.2772   \n",
      "4  2021-06-07  sh.000300  5284.8907  5286.8424  5242.9481  5277.6271   \n",
      "5  2021-06-08  sh.000300  5276.9711  5319.0406  5201.1404  5232.1165   \n",
      "6  2021-06-09  sh.000300  5224.9496  5253.3555  5215.3506  5236.4493   \n",
      "\n",
      "    preclose       volume             amount     pctChg  \n",
      "0  5331.5696  14383147400  321845842153.4000   0.189629  \n",
      "1  5341.6798  13775431900  296176177153.5000  -0.967976  \n",
      "2  5289.9736  14196887800  285448632488.9000  -0.655733  \n",
      "3  5255.2855  14473208700  292326048775.5000   0.513611  \n",
      "4  5282.2772  12770497100  280463260583.2000  -0.088032  \n",
      "5  5277.6271  13055953200  304042218266.2000  -0.862331  \n",
      "6  5232.1165  12182032100  255075448703.0000   0.082812  \n",
      "logout success!\n"
     ]
    },
    {
     "data": {
      "text/plain": [
       "<baostock.data.resultset.ResultData at 0x7fa24fd471f0>"
      ]
     },
     "execution_count": 26,
     "metadata": {},
     "output_type": "execute_result"
    }
   ],
   "source": [
    "# get data\n",
    "import baostock as bs\n",
    "import pandas as pd \n",
    "import numpy as np\n",
    "\n",
    "print(bs.__version__)\n",
    "bs.login()\n",
    "print('login respond error_code:'+rs.error_code)\n",
    "print('login respond  error_msg:'+rs.error_msg)\n",
    "\n",
    "# get 300 Index\n",
    "rs = bs.query_history_k_data_plus(\"sh.000300\",\n",
    "                                  fields = \"date,code,open,high,low,close,preclose,volume,amount,pctChg\",\n",
    "                                  start_date='2021-06-01', end_date='2021-06-09', frequency=\"d\")\n",
    "print('query_history_k_data_plus respond error_code:'+rs.error_code)\n",
    "print('query_history_k_data_plus respond  error_msg:'+rs.error_msg)\n",
    "\n",
    "df_300 = rs.get_data()\n",
    "print(df_300)\n",
    "bs.logout()"
   ]
  },
  {
   "cell_type": "code",
   "execution_count": 27,
   "metadata": {},
   "outputs": [
    {
     "data": {
      "text/html": [
       "<div>\n",
       "<style scoped>\n",
       "    .dataframe tbody tr th:only-of-type {\n",
       "        vertical-align: middle;\n",
       "    }\n",
       "\n",
       "    .dataframe tbody tr th {\n",
       "        vertical-align: top;\n",
       "    }\n",
       "\n",
       "    .dataframe thead th {\n",
       "        text-align: right;\n",
       "    }\n",
       "</style>\n",
       "<table border=\"1\" class=\"dataframe\">\n",
       "  <thead>\n",
       "    <tr style=\"text-align: right;\">\n",
       "      <th></th>\n",
       "      <th>code</th>\n",
       "      <th>open</th>\n",
       "      <th>high</th>\n",
       "      <th>low</th>\n",
       "      <th>close</th>\n",
       "      <th>preclose</th>\n",
       "      <th>volume</th>\n",
       "      <th>amount</th>\n",
       "      <th>pctChg</th>\n",
       "    </tr>\n",
       "    <tr>\n",
       "      <th>trade_date</th>\n",
       "      <th></th>\n",
       "      <th></th>\n",
       "      <th></th>\n",
       "      <th></th>\n",
       "      <th></th>\n",
       "      <th></th>\n",
       "      <th></th>\n",
       "      <th></th>\n",
       "      <th></th>\n",
       "    </tr>\n",
       "  </thead>\n",
       "  <tbody>\n",
       "    <tr>\n",
       "      <th>2021-06-01</th>\n",
       "      <td>sh.000300</td>\n",
       "      <td>5320.4745</td>\n",
       "      <td>5343.7529</td>\n",
       "      <td>5269.2590</td>\n",
       "      <td>5341.6798</td>\n",
       "      <td>5331.5696</td>\n",
       "      <td>14383147400</td>\n",
       "      <td>321845842153.4000</td>\n",
       "      <td>0.189629</td>\n",
       "    </tr>\n",
       "    <tr>\n",
       "      <th>2021-06-02</th>\n",
       "      <td>sh.000300</td>\n",
       "      <td>5348.3440</td>\n",
       "      <td>5352.6404</td>\n",
       "      <td>5266.7852</td>\n",
       "      <td>5289.9736</td>\n",
       "      <td>5341.6798</td>\n",
       "      <td>13775431900</td>\n",
       "      <td>296176177153.5000</td>\n",
       "      <td>-0.967976</td>\n",
       "    </tr>\n",
       "    <tr>\n",
       "      <th>2021-06-03</th>\n",
       "      <td>sh.000300</td>\n",
       "      <td>5285.7098</td>\n",
       "      <td>5314.3691</td>\n",
       "      <td>5255.0719</td>\n",
       "      <td>5255.2855</td>\n",
       "      <td>5289.9736</td>\n",
       "      <td>14196887800</td>\n",
       "      <td>285448632488.9000</td>\n",
       "      <td>-0.655733</td>\n",
       "    </tr>\n",
       "    <tr>\n",
       "      <th>2021-06-04</th>\n",
       "      <td>sh.000300</td>\n",
       "      <td>5228.2761</td>\n",
       "      <td>5334.4899</td>\n",
       "      <td>5221.2291</td>\n",
       "      <td>5282.2772</td>\n",
       "      <td>5255.2855</td>\n",
       "      <td>14473208700</td>\n",
       "      <td>292326048775.5000</td>\n",
       "      <td>0.513611</td>\n",
       "    </tr>\n",
       "    <tr>\n",
       "      <th>2021-06-07</th>\n",
       "      <td>sh.000300</td>\n",
       "      <td>5284.8907</td>\n",
       "      <td>5286.8424</td>\n",
       "      <td>5242.9481</td>\n",
       "      <td>5277.6271</td>\n",
       "      <td>5282.2772</td>\n",
       "      <td>12770497100</td>\n",
       "      <td>280463260583.2000</td>\n",
       "      <td>-0.088032</td>\n",
       "    </tr>\n",
       "  </tbody>\n",
       "</table>\n",
       "</div>"
      ],
      "text/plain": [
       "                 code       open       high        low      close   preclose  \\\n",
       "trade_date                                                                     \n",
       "2021-06-01  sh.000300  5320.4745  5343.7529  5269.2590  5341.6798  5331.5696   \n",
       "2021-06-02  sh.000300  5348.3440  5352.6404  5266.7852  5289.9736  5341.6798   \n",
       "2021-06-03  sh.000300  5285.7098  5314.3691  5255.0719  5255.2855  5289.9736   \n",
       "2021-06-04  sh.000300  5228.2761  5334.4899  5221.2291  5282.2772  5255.2855   \n",
       "2021-06-07  sh.000300  5284.8907  5286.8424  5242.9481  5277.6271  5282.2772   \n",
       "\n",
       "                 volume             amount     pctChg  \n",
       "trade_date                                             \n",
       "2021-06-01  14383147400  321845842153.4000   0.189629  \n",
       "2021-06-02  13775431900  296176177153.5000  -0.967976  \n",
       "2021-06-03  14196887800  285448632488.9000  -0.655733  \n",
       "2021-06-04  14473208700  292326048775.5000   0.513611  \n",
       "2021-06-07  12770497100  280463260583.2000  -0.088032  "
      ]
     },
     "execution_count": 27,
     "metadata": {},
     "output_type": "execute_result"
    }
   ],
   "source": [
    "# manipulate data\n",
    "df_300['trade_date'] = pd.to_datetime(df_300['date'])\n",
    "df_300 = df_300.set_index(['trade_date'])\n",
    "df_300.drop('date',axis = 1,inplace = True)\n",
    "df_300.head()"
   ]
  },
  {
   "cell_type": "code",
   "execution_count": 28,
   "metadata": {},
   "outputs": [
    {
     "data": {
      "application/vnd.plotly.v1+json": {
       "config": {
        "plotlyServerURL": "https://plot.ly"
       },
       "data": [
        {
         "hovertemplate": "variable=close<br>trade_date=%{x}<br>value=%{y}<extra></extra>",
         "legendgroup": "close",
         "line": {
          "color": "#636efa"
         },
         "mode": "lines",
         "name": "close",
         "orientation": "v",
         "showlegend": true,
         "stackgroup": "1",
         "type": "scatter",
         "x": [
          "2021-06-01T00:00:00",
          "2021-06-02T00:00:00",
          "2021-06-03T00:00:00",
          "2021-06-04T00:00:00",
          "2021-06-07T00:00:00",
          "2021-06-08T00:00:00",
          "2021-06-09T00:00:00"
         ],
         "xaxis": "x",
         "y": [
          "5341.6798",
          "5289.9736",
          "5255.2855",
          "5282.2772",
          "5277.6271",
          "5232.1165",
          "5236.4493"
         ],
         "yaxis": "y"
        }
       ],
       "layout": {
        "legend": {
         "title": {
          "text": "variable"
         },
         "tracegroupgap": 0
        },
        "showlegend": false,
        "template": {
         "data": {
          "bar": [
           {
            "error_x": {
             "color": "#2a3f5f"
            },
            "error_y": {
             "color": "#2a3f5f"
            },
            "marker": {
             "line": {
              "color": "#E5ECF6",
              "width": 0.5
             }
            },
            "type": "bar"
           }
          ],
          "barpolar": [
           {
            "marker": {
             "line": {
              "color": "#E5ECF6",
              "width": 0.5
             }
            },
            "type": "barpolar"
           }
          ],
          "carpet": [
           {
            "aaxis": {
             "endlinecolor": "#2a3f5f",
             "gridcolor": "white",
             "linecolor": "white",
             "minorgridcolor": "white",
             "startlinecolor": "#2a3f5f"
            },
            "baxis": {
             "endlinecolor": "#2a3f5f",
             "gridcolor": "white",
             "linecolor": "white",
             "minorgridcolor": "white",
             "startlinecolor": "#2a3f5f"
            },
            "type": "carpet"
           }
          ],
          "choropleth": [
           {
            "colorbar": {
             "outlinewidth": 0,
             "ticks": ""
            },
            "type": "choropleth"
           }
          ],
          "contour": [
           {
            "colorbar": {
             "outlinewidth": 0,
             "ticks": ""
            },
            "colorscale": [
             [
              0,
              "#0d0887"
             ],
             [
              0.1111111111111111,
              "#46039f"
             ],
             [
              0.2222222222222222,
              "#7201a8"
             ],
             [
              0.3333333333333333,
              "#9c179e"
             ],
             [
              0.4444444444444444,
              "#bd3786"
             ],
             [
              0.5555555555555556,
              "#d8576b"
             ],
             [
              0.6666666666666666,
              "#ed7953"
             ],
             [
              0.7777777777777778,
              "#fb9f3a"
             ],
             [
              0.8888888888888888,
              "#fdca26"
             ],
             [
              1,
              "#f0f921"
             ]
            ],
            "type": "contour"
           }
          ],
          "contourcarpet": [
           {
            "colorbar": {
             "outlinewidth": 0,
             "ticks": ""
            },
            "type": "contourcarpet"
           }
          ],
          "heatmap": [
           {
            "colorbar": {
             "outlinewidth": 0,
             "ticks": ""
            },
            "colorscale": [
             [
              0,
              "#0d0887"
             ],
             [
              0.1111111111111111,
              "#46039f"
             ],
             [
              0.2222222222222222,
              "#7201a8"
             ],
             [
              0.3333333333333333,
              "#9c179e"
             ],
             [
              0.4444444444444444,
              "#bd3786"
             ],
             [
              0.5555555555555556,
              "#d8576b"
             ],
             [
              0.6666666666666666,
              "#ed7953"
             ],
             [
              0.7777777777777778,
              "#fb9f3a"
             ],
             [
              0.8888888888888888,
              "#fdca26"
             ],
             [
              1,
              "#f0f921"
             ]
            ],
            "type": "heatmap"
           }
          ],
          "heatmapgl": [
           {
            "colorbar": {
             "outlinewidth": 0,
             "ticks": ""
            },
            "colorscale": [
             [
              0,
              "#0d0887"
             ],
             [
              0.1111111111111111,
              "#46039f"
             ],
             [
              0.2222222222222222,
              "#7201a8"
             ],
             [
              0.3333333333333333,
              "#9c179e"
             ],
             [
              0.4444444444444444,
              "#bd3786"
             ],
             [
              0.5555555555555556,
              "#d8576b"
             ],
             [
              0.6666666666666666,
              "#ed7953"
             ],
             [
              0.7777777777777778,
              "#fb9f3a"
             ],
             [
              0.8888888888888888,
              "#fdca26"
             ],
             [
              1,
              "#f0f921"
             ]
            ],
            "type": "heatmapgl"
           }
          ],
          "histogram": [
           {
            "marker": {
             "colorbar": {
              "outlinewidth": 0,
              "ticks": ""
             }
            },
            "type": "histogram"
           }
          ],
          "histogram2d": [
           {
            "colorbar": {
             "outlinewidth": 0,
             "ticks": ""
            },
            "colorscale": [
             [
              0,
              "#0d0887"
             ],
             [
              0.1111111111111111,
              "#46039f"
             ],
             [
              0.2222222222222222,
              "#7201a8"
             ],
             [
              0.3333333333333333,
              "#9c179e"
             ],
             [
              0.4444444444444444,
              "#bd3786"
             ],
             [
              0.5555555555555556,
              "#d8576b"
             ],
             [
              0.6666666666666666,
              "#ed7953"
             ],
             [
              0.7777777777777778,
              "#fb9f3a"
             ],
             [
              0.8888888888888888,
              "#fdca26"
             ],
             [
              1,
              "#f0f921"
             ]
            ],
            "type": "histogram2d"
           }
          ],
          "histogram2dcontour": [
           {
            "colorbar": {
             "outlinewidth": 0,
             "ticks": ""
            },
            "colorscale": [
             [
              0,
              "#0d0887"
             ],
             [
              0.1111111111111111,
              "#46039f"
             ],
             [
              0.2222222222222222,
              "#7201a8"
             ],
             [
              0.3333333333333333,
              "#9c179e"
             ],
             [
              0.4444444444444444,
              "#bd3786"
             ],
             [
              0.5555555555555556,
              "#d8576b"
             ],
             [
              0.6666666666666666,
              "#ed7953"
             ],
             [
              0.7777777777777778,
              "#fb9f3a"
             ],
             [
              0.8888888888888888,
              "#fdca26"
             ],
             [
              1,
              "#f0f921"
             ]
            ],
            "type": "histogram2dcontour"
           }
          ],
          "mesh3d": [
           {
            "colorbar": {
             "outlinewidth": 0,
             "ticks": ""
            },
            "type": "mesh3d"
           }
          ],
          "parcoords": [
           {
            "line": {
             "colorbar": {
              "outlinewidth": 0,
              "ticks": ""
             }
            },
            "type": "parcoords"
           }
          ],
          "pie": [
           {
            "automargin": true,
            "type": "pie"
           }
          ],
          "scatter": [
           {
            "marker": {
             "colorbar": {
              "outlinewidth": 0,
              "ticks": ""
             }
            },
            "type": "scatter"
           }
          ],
          "scatter3d": [
           {
            "line": {
             "colorbar": {
              "outlinewidth": 0,
              "ticks": ""
             }
            },
            "marker": {
             "colorbar": {
              "outlinewidth": 0,
              "ticks": ""
             }
            },
            "type": "scatter3d"
           }
          ],
          "scattercarpet": [
           {
            "marker": {
             "colorbar": {
              "outlinewidth": 0,
              "ticks": ""
             }
            },
            "type": "scattercarpet"
           }
          ],
          "scattergeo": [
           {
            "marker": {
             "colorbar": {
              "outlinewidth": 0,
              "ticks": ""
             }
            },
            "type": "scattergeo"
           }
          ],
          "scattergl": [
           {
            "marker": {
             "colorbar": {
              "outlinewidth": 0,
              "ticks": ""
             }
            },
            "type": "scattergl"
           }
          ],
          "scattermapbox": [
           {
            "marker": {
             "colorbar": {
              "outlinewidth": 0,
              "ticks": ""
             }
            },
            "type": "scattermapbox"
           }
          ],
          "scatterpolar": [
           {
            "marker": {
             "colorbar": {
              "outlinewidth": 0,
              "ticks": ""
             }
            },
            "type": "scatterpolar"
           }
          ],
          "scatterpolargl": [
           {
            "marker": {
             "colorbar": {
              "outlinewidth": 0,
              "ticks": ""
             }
            },
            "type": "scatterpolargl"
           }
          ],
          "scatterternary": [
           {
            "marker": {
             "colorbar": {
              "outlinewidth": 0,
              "ticks": ""
             }
            },
            "type": "scatterternary"
           }
          ],
          "surface": [
           {
            "colorbar": {
             "outlinewidth": 0,
             "ticks": ""
            },
            "colorscale": [
             [
              0,
              "#0d0887"
             ],
             [
              0.1111111111111111,
              "#46039f"
             ],
             [
              0.2222222222222222,
              "#7201a8"
             ],
             [
              0.3333333333333333,
              "#9c179e"
             ],
             [
              0.4444444444444444,
              "#bd3786"
             ],
             [
              0.5555555555555556,
              "#d8576b"
             ],
             [
              0.6666666666666666,
              "#ed7953"
             ],
             [
              0.7777777777777778,
              "#fb9f3a"
             ],
             [
              0.8888888888888888,
              "#fdca26"
             ],
             [
              1,
              "#f0f921"
             ]
            ],
            "type": "surface"
           }
          ],
          "table": [
           {
            "cells": {
             "fill": {
              "color": "#EBF0F8"
             },
             "line": {
              "color": "white"
             }
            },
            "header": {
             "fill": {
              "color": "#C8D4E3"
             },
             "line": {
              "color": "white"
             }
            },
            "type": "table"
           }
          ]
         },
         "layout": {
          "annotationdefaults": {
           "arrowcolor": "#2a3f5f",
           "arrowhead": 0,
           "arrowwidth": 1
          },
          "autotypenumbers": "strict",
          "coloraxis": {
           "colorbar": {
            "outlinewidth": 0,
            "ticks": ""
           }
          },
          "colorscale": {
           "diverging": [
            [
             0,
             "#8e0152"
            ],
            [
             0.1,
             "#c51b7d"
            ],
            [
             0.2,
             "#de77ae"
            ],
            [
             0.3,
             "#f1b6da"
            ],
            [
             0.4,
             "#fde0ef"
            ],
            [
             0.5,
             "#f7f7f7"
            ],
            [
             0.6,
             "#e6f5d0"
            ],
            [
             0.7,
             "#b8e186"
            ],
            [
             0.8,
             "#7fbc41"
            ],
            [
             0.9,
             "#4d9221"
            ],
            [
             1,
             "#276419"
            ]
           ],
           "sequential": [
            [
             0,
             "#0d0887"
            ],
            [
             0.1111111111111111,
             "#46039f"
            ],
            [
             0.2222222222222222,
             "#7201a8"
            ],
            [
             0.3333333333333333,
             "#9c179e"
            ],
            [
             0.4444444444444444,
             "#bd3786"
            ],
            [
             0.5555555555555556,
             "#d8576b"
            ],
            [
             0.6666666666666666,
             "#ed7953"
            ],
            [
             0.7777777777777778,
             "#fb9f3a"
            ],
            [
             0.8888888888888888,
             "#fdca26"
            ],
            [
             1,
             "#f0f921"
            ]
           ],
           "sequentialminus": [
            [
             0,
             "#0d0887"
            ],
            [
             0.1111111111111111,
             "#46039f"
            ],
            [
             0.2222222222222222,
             "#7201a8"
            ],
            [
             0.3333333333333333,
             "#9c179e"
            ],
            [
             0.4444444444444444,
             "#bd3786"
            ],
            [
             0.5555555555555556,
             "#d8576b"
            ],
            [
             0.6666666666666666,
             "#ed7953"
            ],
            [
             0.7777777777777778,
             "#fb9f3a"
            ],
            [
             0.8888888888888888,
             "#fdca26"
            ],
            [
             1,
             "#f0f921"
            ]
           ]
          },
          "colorway": [
           "#636efa",
           "#EF553B",
           "#00cc96",
           "#ab63fa",
           "#FFA15A",
           "#19d3f3",
           "#FF6692",
           "#B6E880",
           "#FF97FF",
           "#FECB52"
          ],
          "font": {
           "color": "#2a3f5f"
          },
          "geo": {
           "bgcolor": "white",
           "lakecolor": "white",
           "landcolor": "#E5ECF6",
           "showlakes": true,
           "showland": true,
           "subunitcolor": "white"
          },
          "hoverlabel": {
           "align": "left"
          },
          "hovermode": "closest",
          "mapbox": {
           "style": "light"
          },
          "paper_bgcolor": "white",
          "plot_bgcolor": "#E5ECF6",
          "polar": {
           "angularaxis": {
            "gridcolor": "white",
            "linecolor": "white",
            "ticks": ""
           },
           "bgcolor": "#E5ECF6",
           "radialaxis": {
            "gridcolor": "white",
            "linecolor": "white",
            "ticks": ""
           }
          },
          "scene": {
           "xaxis": {
            "backgroundcolor": "#E5ECF6",
            "gridcolor": "white",
            "gridwidth": 2,
            "linecolor": "white",
            "showbackground": true,
            "ticks": "",
            "zerolinecolor": "white"
           },
           "yaxis": {
            "backgroundcolor": "#E5ECF6",
            "gridcolor": "white",
            "gridwidth": 2,
            "linecolor": "white",
            "showbackground": true,
            "ticks": "",
            "zerolinecolor": "white"
           },
           "zaxis": {
            "backgroundcolor": "#E5ECF6",
            "gridcolor": "white",
            "gridwidth": 2,
            "linecolor": "white",
            "showbackground": true,
            "ticks": "",
            "zerolinecolor": "white"
           }
          },
          "shapedefaults": {
           "line": {
            "color": "#2a3f5f"
           }
          },
          "ternary": {
           "aaxis": {
            "gridcolor": "white",
            "linecolor": "white",
            "ticks": ""
           },
           "baxis": {
            "gridcolor": "white",
            "linecolor": "white",
            "ticks": ""
           },
           "bgcolor": "#E5ECF6",
           "caxis": {
            "gridcolor": "white",
            "linecolor": "white",
            "ticks": ""
           }
          },
          "title": {
           "x": 0.05
          },
          "xaxis": {
           "automargin": true,
           "gridcolor": "white",
           "linecolor": "white",
           "ticks": "",
           "title": {
            "standoff": 15
           },
           "zerolinecolor": "white",
           "zerolinewidth": 2
          },
          "yaxis": {
           "automargin": true,
           "gridcolor": "white",
           "linecolor": "white",
           "ticks": "",
           "title": {
            "standoff": 15
           },
           "zerolinecolor": "white",
           "zerolinewidth": 2
          }
         }
        },
        "title": {
         "text": "沪深300"
        },
        "xaxis": {
         "anchor": "y",
         "domain": [
          0,
          1
         ],
         "title": {
          "text": "日期"
         }
        },
        "yaxis": {
         "anchor": "x",
         "domain": [
          0,
          1
         ],
         "title": {
          "text": "沪深300收盘价"
         }
        }
       }
      },
      "text/html": [
       "<div>                            <div id=\"a49eda92-c7f3-4475-aecb-0ebae4f15c3f\" class=\"plotly-graph-div\" style=\"height:525px; width:100%;\"></div>            <script type=\"text/javascript\">                require([\"plotly\"], function(Plotly) {                    window.PLOTLYENV=window.PLOTLYENV || {};                                    if (document.getElementById(\"a49eda92-c7f3-4475-aecb-0ebae4f15c3f\")) {                    Plotly.newPlot(                        \"a49eda92-c7f3-4475-aecb-0ebae4f15c3f\",                        [{\"hovertemplate\": \"variable=close<br>trade_date=%{x}<br>value=%{y}<extra></extra>\", \"legendgroup\": \"close\", \"line\": {\"color\": \"#636efa\"}, \"mode\": \"lines\", \"name\": \"close\", \"orientation\": \"v\", \"showlegend\": true, \"stackgroup\": \"1\", \"type\": \"scatter\", \"x\": [\"2021-06-01T00:00:00\", \"2021-06-02T00:00:00\", \"2021-06-03T00:00:00\", \"2021-06-04T00:00:00\", \"2021-06-07T00:00:00\", \"2021-06-08T00:00:00\", \"2021-06-09T00:00:00\"], \"xaxis\": \"x\", \"y\": [\"5341.6798\", \"5289.9736\", \"5255.2855\", \"5282.2772\", \"5277.6271\", \"5232.1165\", \"5236.4493\"], \"yaxis\": \"y\"}],                        {\"legend\": {\"title\": {\"text\": \"variable\"}, \"tracegroupgap\": 0}, \"showlegend\": false, \"template\": {\"data\": {\"bar\": [{\"error_x\": {\"color\": \"#2a3f5f\"}, \"error_y\": {\"color\": \"#2a3f5f\"}, \"marker\": {\"line\": {\"color\": \"#E5ECF6\", \"width\": 0.5}}, \"type\": \"bar\"}], \"barpolar\": [{\"marker\": {\"line\": {\"color\": \"#E5ECF6\", \"width\": 0.5}}, \"type\": \"barpolar\"}], \"carpet\": [{\"aaxis\": {\"endlinecolor\": \"#2a3f5f\", \"gridcolor\": \"white\", \"linecolor\": \"white\", \"minorgridcolor\": \"white\", \"startlinecolor\": \"#2a3f5f\"}, \"baxis\": {\"endlinecolor\": \"#2a3f5f\", \"gridcolor\": \"white\", \"linecolor\": \"white\", \"minorgridcolor\": \"white\", \"startlinecolor\": \"#2a3f5f\"}, \"type\": \"carpet\"}], \"choropleth\": [{\"colorbar\": {\"outlinewidth\": 0, \"ticks\": \"\"}, \"type\": \"choropleth\"}], \"contour\": [{\"colorbar\": {\"outlinewidth\": 0, \"ticks\": \"\"}, \"colorscale\": [[0.0, \"#0d0887\"], [0.1111111111111111, \"#46039f\"], [0.2222222222222222, \"#7201a8\"], [0.3333333333333333, \"#9c179e\"], [0.4444444444444444, \"#bd3786\"], [0.5555555555555556, \"#d8576b\"], [0.6666666666666666, \"#ed7953\"], [0.7777777777777778, \"#fb9f3a\"], [0.8888888888888888, \"#fdca26\"], [1.0, \"#f0f921\"]], \"type\": \"contour\"}], \"contourcarpet\": [{\"colorbar\": {\"outlinewidth\": 0, \"ticks\": \"\"}, \"type\": \"contourcarpet\"}], \"heatmap\": [{\"colorbar\": {\"outlinewidth\": 0, \"ticks\": \"\"}, \"colorscale\": [[0.0, \"#0d0887\"], [0.1111111111111111, \"#46039f\"], [0.2222222222222222, \"#7201a8\"], [0.3333333333333333, \"#9c179e\"], [0.4444444444444444, \"#bd3786\"], [0.5555555555555556, \"#d8576b\"], [0.6666666666666666, \"#ed7953\"], [0.7777777777777778, \"#fb9f3a\"], [0.8888888888888888, \"#fdca26\"], [1.0, \"#f0f921\"]], \"type\": \"heatmap\"}], \"heatmapgl\": [{\"colorbar\": {\"outlinewidth\": 0, \"ticks\": \"\"}, \"colorscale\": [[0.0, \"#0d0887\"], [0.1111111111111111, \"#46039f\"], [0.2222222222222222, \"#7201a8\"], [0.3333333333333333, \"#9c179e\"], [0.4444444444444444, \"#bd3786\"], [0.5555555555555556, \"#d8576b\"], [0.6666666666666666, \"#ed7953\"], [0.7777777777777778, \"#fb9f3a\"], [0.8888888888888888, \"#fdca26\"], [1.0, \"#f0f921\"]], \"type\": \"heatmapgl\"}], \"histogram\": [{\"marker\": {\"colorbar\": {\"outlinewidth\": 0, \"ticks\": \"\"}}, \"type\": \"histogram\"}], \"histogram2d\": [{\"colorbar\": {\"outlinewidth\": 0, \"ticks\": \"\"}, \"colorscale\": [[0.0, \"#0d0887\"], [0.1111111111111111, \"#46039f\"], [0.2222222222222222, \"#7201a8\"], [0.3333333333333333, \"#9c179e\"], [0.4444444444444444, \"#bd3786\"], [0.5555555555555556, \"#d8576b\"], [0.6666666666666666, \"#ed7953\"], [0.7777777777777778, \"#fb9f3a\"], [0.8888888888888888, \"#fdca26\"], [1.0, \"#f0f921\"]], \"type\": \"histogram2d\"}], \"histogram2dcontour\": [{\"colorbar\": {\"outlinewidth\": 0, \"ticks\": \"\"}, \"colorscale\": [[0.0, \"#0d0887\"], [0.1111111111111111, \"#46039f\"], [0.2222222222222222, \"#7201a8\"], [0.3333333333333333, \"#9c179e\"], [0.4444444444444444, \"#bd3786\"], [0.5555555555555556, \"#d8576b\"], [0.6666666666666666, \"#ed7953\"], [0.7777777777777778, \"#fb9f3a\"], [0.8888888888888888, \"#fdca26\"], [1.0, \"#f0f921\"]], \"type\": \"histogram2dcontour\"}], \"mesh3d\": [{\"colorbar\": {\"outlinewidth\": 0, \"ticks\": \"\"}, \"type\": \"mesh3d\"}], \"parcoords\": [{\"line\": {\"colorbar\": {\"outlinewidth\": 0, \"ticks\": \"\"}}, \"type\": \"parcoords\"}], \"pie\": [{\"automargin\": true, \"type\": \"pie\"}], \"scatter\": [{\"marker\": {\"colorbar\": {\"outlinewidth\": 0, \"ticks\": \"\"}}, \"type\": \"scatter\"}], \"scatter3d\": [{\"line\": {\"colorbar\": {\"outlinewidth\": 0, \"ticks\": \"\"}}, \"marker\": {\"colorbar\": {\"outlinewidth\": 0, \"ticks\": \"\"}}, \"type\": \"scatter3d\"}], \"scattercarpet\": [{\"marker\": {\"colorbar\": {\"outlinewidth\": 0, \"ticks\": \"\"}}, \"type\": \"scattercarpet\"}], \"scattergeo\": [{\"marker\": {\"colorbar\": {\"outlinewidth\": 0, \"ticks\": \"\"}}, \"type\": \"scattergeo\"}], \"scattergl\": [{\"marker\": {\"colorbar\": {\"outlinewidth\": 0, \"ticks\": \"\"}}, \"type\": \"scattergl\"}], \"scattermapbox\": [{\"marker\": {\"colorbar\": {\"outlinewidth\": 0, \"ticks\": \"\"}}, \"type\": \"scattermapbox\"}], \"scatterpolar\": [{\"marker\": {\"colorbar\": {\"outlinewidth\": 0, \"ticks\": \"\"}}, \"type\": \"scatterpolar\"}], \"scatterpolargl\": [{\"marker\": {\"colorbar\": {\"outlinewidth\": 0, \"ticks\": \"\"}}, \"type\": \"scatterpolargl\"}], \"scatterternary\": [{\"marker\": {\"colorbar\": {\"outlinewidth\": 0, \"ticks\": \"\"}}, \"type\": \"scatterternary\"}], \"surface\": [{\"colorbar\": {\"outlinewidth\": 0, \"ticks\": \"\"}, \"colorscale\": [[0.0, \"#0d0887\"], [0.1111111111111111, \"#46039f\"], [0.2222222222222222, \"#7201a8\"], [0.3333333333333333, \"#9c179e\"], [0.4444444444444444, \"#bd3786\"], [0.5555555555555556, \"#d8576b\"], [0.6666666666666666, \"#ed7953\"], [0.7777777777777778, \"#fb9f3a\"], [0.8888888888888888, \"#fdca26\"], [1.0, \"#f0f921\"]], \"type\": \"surface\"}], \"table\": [{\"cells\": {\"fill\": {\"color\": \"#EBF0F8\"}, \"line\": {\"color\": \"white\"}}, \"header\": {\"fill\": {\"color\": \"#C8D4E3\"}, \"line\": {\"color\": \"white\"}}, \"type\": \"table\"}]}, \"layout\": {\"annotationdefaults\": {\"arrowcolor\": \"#2a3f5f\", \"arrowhead\": 0, \"arrowwidth\": 1}, \"autotypenumbers\": \"strict\", \"coloraxis\": {\"colorbar\": {\"outlinewidth\": 0, \"ticks\": \"\"}}, \"colorscale\": {\"diverging\": [[0, \"#8e0152\"], [0.1, \"#c51b7d\"], [0.2, \"#de77ae\"], [0.3, \"#f1b6da\"], [0.4, \"#fde0ef\"], [0.5, \"#f7f7f7\"], [0.6, \"#e6f5d0\"], [0.7, \"#b8e186\"], [0.8, \"#7fbc41\"], [0.9, \"#4d9221\"], [1, \"#276419\"]], \"sequential\": [[0.0, \"#0d0887\"], [0.1111111111111111, \"#46039f\"], [0.2222222222222222, \"#7201a8\"], [0.3333333333333333, \"#9c179e\"], [0.4444444444444444, \"#bd3786\"], [0.5555555555555556, \"#d8576b\"], [0.6666666666666666, \"#ed7953\"], [0.7777777777777778, \"#fb9f3a\"], [0.8888888888888888, \"#fdca26\"], [1.0, \"#f0f921\"]], \"sequentialminus\": [[0.0, \"#0d0887\"], [0.1111111111111111, \"#46039f\"], [0.2222222222222222, \"#7201a8\"], [0.3333333333333333, \"#9c179e\"], [0.4444444444444444, \"#bd3786\"], [0.5555555555555556, \"#d8576b\"], [0.6666666666666666, \"#ed7953\"], [0.7777777777777778, \"#fb9f3a\"], [0.8888888888888888, \"#fdca26\"], [1.0, \"#f0f921\"]]}, \"colorway\": [\"#636efa\", \"#EF553B\", \"#00cc96\", \"#ab63fa\", \"#FFA15A\", \"#19d3f3\", \"#FF6692\", \"#B6E880\", \"#FF97FF\", \"#FECB52\"], \"font\": {\"color\": \"#2a3f5f\"}, \"geo\": {\"bgcolor\": \"white\", \"lakecolor\": \"white\", \"landcolor\": \"#E5ECF6\", \"showlakes\": true, \"showland\": true, \"subunitcolor\": \"white\"}, \"hoverlabel\": {\"align\": \"left\"}, \"hovermode\": \"closest\", \"mapbox\": {\"style\": \"light\"}, \"paper_bgcolor\": \"white\", \"plot_bgcolor\": \"#E5ECF6\", \"polar\": {\"angularaxis\": {\"gridcolor\": \"white\", \"linecolor\": \"white\", \"ticks\": \"\"}, \"bgcolor\": \"#E5ECF6\", \"radialaxis\": {\"gridcolor\": \"white\", \"linecolor\": \"white\", \"ticks\": \"\"}}, \"scene\": {\"xaxis\": {\"backgroundcolor\": \"#E5ECF6\", \"gridcolor\": \"white\", \"gridwidth\": 2, \"linecolor\": \"white\", \"showbackground\": true, \"ticks\": \"\", \"zerolinecolor\": \"white\"}, \"yaxis\": {\"backgroundcolor\": \"#E5ECF6\", \"gridcolor\": \"white\", \"gridwidth\": 2, \"linecolor\": \"white\", \"showbackground\": true, \"ticks\": \"\", \"zerolinecolor\": \"white\"}, \"zaxis\": {\"backgroundcolor\": \"#E5ECF6\", \"gridcolor\": \"white\", \"gridwidth\": 2, \"linecolor\": \"white\", \"showbackground\": true, \"ticks\": \"\", \"zerolinecolor\": \"white\"}}, \"shapedefaults\": {\"line\": {\"color\": \"#2a3f5f\"}}, \"ternary\": {\"aaxis\": {\"gridcolor\": \"white\", \"linecolor\": \"white\", \"ticks\": \"\"}, \"baxis\": {\"gridcolor\": \"white\", \"linecolor\": \"white\", \"ticks\": \"\"}, \"bgcolor\": \"#E5ECF6\", \"caxis\": {\"gridcolor\": \"white\", \"linecolor\": \"white\", \"ticks\": \"\"}}, \"title\": {\"x\": 0.05}, \"xaxis\": {\"automargin\": true, \"gridcolor\": \"white\", \"linecolor\": \"white\", \"ticks\": \"\", \"title\": {\"standoff\": 15}, \"zerolinecolor\": \"white\", \"zerolinewidth\": 2}, \"yaxis\": {\"automargin\": true, \"gridcolor\": \"white\", \"linecolor\": \"white\", \"ticks\": \"\", \"title\": {\"standoff\": 15}, \"zerolinecolor\": \"white\", \"zerolinewidth\": 2}}}, \"title\": {\"text\": \"\\u6caa\\u6df1300\"}, \"xaxis\": {\"anchor\": \"y\", \"domain\": [0.0, 1.0], \"title\": {\"text\": \"\\u65e5\\u671f\"}}, \"yaxis\": {\"anchor\": \"x\", \"domain\": [0.0, 1.0], \"title\": {\"text\": \"\\u6caa\\u6df1300\\u6536\\u76d8\\u4ef7\"}}},                        {\"responsive\": true}                    ).then(function(){\n",
       "                            \n",
       "var gd = document.getElementById('a49eda92-c7f3-4475-aecb-0ebae4f15c3f');\n",
       "var x = new MutationObserver(function (mutations, observer) {{\n",
       "        var display = window.getComputedStyle(gd).display;\n",
       "        if (!display || display === 'none') {{\n",
       "            console.log([gd, 'removed!']);\n",
       "            Plotly.purge(gd);\n",
       "            observer.disconnect();\n",
       "        }}\n",
       "}});\n",
       "\n",
       "// Listen for the removal of the full notebook cells\n",
       "var notebookContainer = gd.closest('#notebook-container');\n",
       "if (notebookContainer) {{\n",
       "    x.observe(notebookContainer, {childList: true});\n",
       "}}\n",
       "\n",
       "// Listen for the clearing of the current output cell\n",
       "var outputEl = gd.closest('.output');\n",
       "if (outputEl) {{\n",
       "    x.observe(outputEl, {childList: true});\n",
       "}}\n",
       "\n",
       "                        })                };                });            </script>        </div>"
      ]
     },
     "metadata": {},
     "output_type": "display_data"
    }
   ],
   "source": [
    "import plotly.express as px\n",
    "\n",
    "area_chart = px.area(df_300['close'], title = '沪深300')\n",
    "\n",
    "area_chart.update_xaxes(title_text = '日期')\n",
    "area_chart.update_yaxes(\n",
    "    title_text = '沪深300收盘价', \n",
    "    # tickprefix = '$'\n",
    "    )\n",
    "area_chart.update_layout(showlegend = False)\n",
    "\n",
    "# Pycharm，VS Code， Spider 等模式下\n",
    "# Jupyter Notebook 下也可以用\n",
    "# plot(area_chart,filename='tmp/hushen300-area.html')\n",
    "\n",
    "# 在 Jupyter Notebook 中，直接使用 show()  来查看结果\n",
    "area_chart.show()"
   ]
  },
  {
   "cell_type": "code",
   "execution_count": null,
   "metadata": {},
   "outputs": [],
   "source": []
  }
 ],
 "metadata": {
  "kernelspec": {
   "display_name": "Python 3",
   "language": "python",
   "name": "python3"
  },
  "language_info": {
   "codemirror_mode": {
    "name": "ipython",
    "version": 3
   },
   "file_extension": ".py",
   "mimetype": "text/x-python",
   "name": "python",
   "nbconvert_exporter": "python",
   "pygments_lexer": "ipython3",
   "version": "3.8.5"
  },
  "toc": {
   "base_numbering": 1,
   "nav_menu": {},
   "number_sections": true,
   "sideBar": true,
   "skip_h1_title": false,
   "title_cell": "Table of Contents",
   "title_sidebar": "Contents",
   "toc_cell": false,
   "toc_position": {},
   "toc_section_display": true,
   "toc_window_display": true
  }
 },
 "nbformat": 4,
 "nbformat_minor": 4
}
