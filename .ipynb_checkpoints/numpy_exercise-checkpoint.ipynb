{
 "cells": [
  {
   "cell_type": "markdown",
   "metadata": {},
   "source": [
    "https://mp.weixin.qq.com/s/eAeydgAgtr5ULL5W_xzDcg"
   ]
  },
  {
   "cell_type": "code",
   "execution_count": 1,
   "metadata": {},
   "outputs": [],
   "source": [
    "from IPython.core.interactiveshell import InteractiveShell\n",
    "InteractiveShell.ast_node_interactivity = \"all\""
   ]
  },
  {
   "cell_type": "code",
   "execution_count": 2,
   "metadata": {},
   "outputs": [
    {
     "name": "stdout",
     "output_type": "stream",
     "text": [
      "1.19.2\n",
      "blas_mkl_info:\n",
      "    libraries = ['mkl_rt']\n",
      "    library_dirs = ['C:/work2/anaconda3/envs/py38\\\\Library\\\\lib']\n",
      "    define_macros = [('SCIPY_MKL_H', None), ('HAVE_CBLAS', None)]\n",
      "    include_dirs = ['C:/work2/anaconda3/envs/py38\\\\Library\\\\include']\n",
      "blas_opt_info:\n",
      "    libraries = ['mkl_rt']\n",
      "    library_dirs = ['C:/work2/anaconda3/envs/py38\\\\Library\\\\lib']\n",
      "    define_macros = [('SCIPY_MKL_H', None), ('HAVE_CBLAS', None)]\n",
      "    include_dirs = ['C:/work2/anaconda3/envs/py38\\\\Library\\\\include']\n",
      "lapack_mkl_info:\n",
      "    libraries = ['mkl_rt']\n",
      "    library_dirs = ['C:/work2/anaconda3/envs/py38\\\\Library\\\\lib']\n",
      "    define_macros = [('SCIPY_MKL_H', None), ('HAVE_CBLAS', None)]\n",
      "    include_dirs = ['C:/work2/anaconda3/envs/py38\\\\Library\\\\include']\n",
      "lapack_opt_info:\n",
      "    libraries = ['mkl_rt']\n",
      "    library_dirs = ['C:/work2/anaconda3/envs/py38\\\\Library\\\\lib']\n",
      "    define_macros = [('SCIPY_MKL_H', None), ('HAVE_CBLAS', None)]\n",
      "    include_dirs = ['C:/work2/anaconda3/envs/py38\\\\Library\\\\include']\n",
      "None\n"
     ]
    }
   ],
   "source": [
    "# 1. numpy alias np\n",
    "import numpy as np\n",
    "\n",
    "# 2. show numpy version and configuration\n",
    "print(np.__version__)\n",
    "print(np.show_config())"
   ]
  },
  {
   "cell_type": "code",
   "execution_count": 5,
   "metadata": {},
   "outputs": [
    {
     "name": "stdout",
     "output_type": "stream",
     "text": [
      "[0. 0. 0. 0. 0. 0. 0. 0. 0. 0.]\n",
      "8\n",
      "80 bytes\n"
     ]
    }
   ],
   "source": [
    "# 3. create an empty array with length=10\n",
    "arr = np.zeros(10)\n",
    "print(arr)\n",
    "# 4. get array size\n",
    "print(\"{} bytes\".format(arr.size * arr.itemsize))    # 10 * 8"
   ]
  },
  {
   "cell_type": "code",
   "execution_count": 7,
   "metadata": {},
   "outputs": [
    {
     "name": "stdout",
     "output_type": "stream",
     "text": [
      "add(x1, x2, /, out=None, *, where=True, casting='same_kind', order='K', dtype=None, subok=True[, signature, extobj])\n",
      "\n",
      "Add arguments element-wise.\n",
      "\n",
      "Parameters\n",
      "----------\n",
      "x1, x2 : array_like\n",
      "    The arrays to be added.\n",
      "    If ``x1.shape != x2.shape``, they must be broadcastable to a common\n",
      "    shape (which becomes the shape of the output).\n",
      "out : ndarray, None, or tuple of ndarray and None, optional\n",
      "    A location into which the result is stored. If provided, it must have\n",
      "    a shape that the inputs broadcast to. If not provided or None,\n",
      "    a freshly-allocated array is returned. A tuple (possible only as a\n",
      "    keyword argument) must have length equal to the number of outputs.\n",
      "where : array_like, optional\n",
      "    This condition is broadcast over the input. At locations where the\n",
      "    condition is True, the `out` array will be set to the ufunc result.\n",
      "    Elsewhere, the `out` array will retain its original value.\n",
      "    Note that if an uninitialized `out` array is created via the default\n",
      "    ``out=None``, locations within it where the condition is False will\n",
      "    remain uninitialized.\n",
      "**kwargs\n",
      "    For other keyword-only arguments, see the\n",
      "    :ref:`ufunc docs <ufuncs.kwargs>`.\n",
      "\n",
      "Returns\n",
      "-------\n",
      "add : ndarray or scalar\n",
      "    The sum of `x1` and `x2`, element-wise.\n",
      "    This is a scalar if both `x1` and `x2` are scalars.\n",
      "\n",
      "Notes\n",
      "-----\n",
      "Equivalent to `x1` + `x2` in terms of array broadcasting.\n",
      "\n",
      "Examples\n",
      "--------\n",
      ">>> np.add(1.0, 4.0)\n",
      "5.0\n",
      ">>> x1 = np.arange(9.0).reshape((3, 3))\n",
      ">>> x2 = np.arange(3.0)\n",
      ">>> np.add(x1, x2)\n",
      "array([[  0.,   2.,   4.],\n",
      "       [  3.,   5.,   7.],\n",
      "       [  6.,   8.,  10.]])\n"
     ]
    }
   ],
   "source": [
    "# 5. show add function doc\n",
    "np.info(np.add)"
   ]
  },
  {
   "cell_type": "code",
   "execution_count": 8,
   "metadata": {},
   "outputs": [
    {
     "name": "stdout",
     "output_type": "stream",
     "text": [
      "[0. 0. 0. 0. 1. 0. 0. 0. 0. 0.]\n"
     ]
    }
   ],
   "source": [
    "# 6. create an empty array with length 10 but fifth value is 1\n",
    "arr = np.zeros(10)\n",
    "arr[4] = 1 \n",
    "print(arr)"
   ]
  },
  {
   "cell_type": "code",
   "execution_count": 10,
   "metadata": {},
   "outputs": [
    {
     "name": "stdout",
     "output_type": "stream",
     "text": [
      "[10 11 12 13 14 15 16 17 18 19 20 21 22 23 24 25 26 27 28 29 30 31 32 33\n",
      " 34 35 36 37 38 39 40 41 42 43 44 45 46 47 48 49]\n",
      "[49 48 47 46 45 44 43 42 41 40 39 38 37 36 35 34 33 32 31 30 29 28 27 26\n",
      " 25 24 23 22 21 20 19 18 17 16 15 14 13 12 11 10]\n"
     ]
    }
   ],
   "source": [
    "# 7. create an array with value from 10 to 49\n",
    "arr = np.arange(10,50)\n",
    "print(arr)\n",
    "\n",
    "# 8. reverse an array\n",
    "arr = arr[::-1]\n",
    "print(arr)"
   ]
  },
  {
   "cell_type": "code",
   "execution_count": 11,
   "metadata": {},
   "outputs": [
    {
     "data": {
      "text/plain": [
       "array([[0, 1, 2],\n",
       "       [3, 4, 5],\n",
       "       [6, 7, 8]])"
      ]
     },
     "execution_count": 11,
     "metadata": {},
     "output_type": "execute_result"
    }
   ],
   "source": [
    "# 9. create an array 3x3 with 0 to 8\n",
    "arr = np.arange(0, 9).reshape(3,3)\n",
    "arr"
   ]
  },
  {
   "cell_type": "code",
   "execution_count": 16,
   "metadata": {},
   "outputs": [
    {
     "name": "stdout",
     "output_type": "stream",
     "text": [
      "(array([0, 1, 4], dtype=int64),)\n"
     ]
    },
    {
     "data": {
      "text/plain": [
       "tuple"
      ]
     },
     "execution_count": 16,
     "metadata": {},
     "output_type": "execute_result"
    }
   ],
   "source": [
    "# 10. get a non-zero item index of array [1,2,0,0,4,0] \n",
    "arr = [1,2,0,0,4,0]\n",
    "idx = np.nonzero(arr)    # a tuple\n",
    "print(idx)"
   ]
  },
  {
   "cell_type": "code",
   "execution_count": 13,
   "metadata": {},
   "outputs": [
    {
     "data": {
      "text/plain": [
       "array([[1., 0., 0.],\n",
       "       [0., 1., 0.],\n",
       "       [0., 0., 1.]])"
      ]
     },
     "execution_count": 13,
     "metadata": {},
     "output_type": "execute_result"
    }
   ],
   "source": [
    "# 11. create 3x3 identity matrix\n",
    "I = np.eye(3)\n",
    "I "
   ]
  },
  {
   "cell_type": "code",
   "execution_count": 2,
   "metadata": {},
   "outputs": [
    {
     "data": {
      "text/plain": [
       "array([[[0.51679835, 0.75280934, 0.20147784],\n",
       "        [0.93987966, 0.09424735, 0.31749475],\n",
       "        [0.70043389, 0.6840405 , 0.57150443]],\n",
       "\n",
       "       [[0.20878125, 0.78291923, 0.97018211],\n",
       "        [0.00400942, 0.50237528, 0.0947316 ],\n",
       "        [0.55283479, 0.33412069, 0.05664783]],\n",
       "\n",
       "       [[0.58015102, 0.60548867, 0.28212965],\n",
       "        [0.33879662, 0.1168242 , 0.94537477],\n",
       "        [0.04299653, 0.03218384, 0.75237353]]])"
      ]
     },
     "execution_count": 2,
     "metadata": {},
     "output_type": "execute_result"
    }
   ],
   "source": [
    "# 12. create a 3x3x3 random matrix\n",
    "Z = np.random.random((3,3,3))\n",
    "Z"
   ]
  },
  {
   "cell_type": "code",
   "execution_count": 3,
   "metadata": {},
   "outputs": [
    {
     "name": "stdout",
     "output_type": "stream",
     "text": [
      "0.003505552603636497 0.9958213169549236\n"
     ]
    }
   ],
   "source": [
    "# 13. create a 10x10 random matrix and find maximum and minimum\n",
    "Z = np.random.random((10,10))\n",
    "z_min, z_max = Z.min(), Z.max()\n",
    "print(z_min, z_max)"
   ]
  },
  {
   "cell_type": "code",
   "execution_count": 6,
   "metadata": {},
   "outputs": [
    {
     "data": {
      "text/plain": [
       "(0.04502165538070635, 0.9902996690385935, 0.5552614486319446)"
      ]
     },
     "execution_count": 6,
     "metadata": {},
     "output_type": "execute_result"
    }
   ],
   "source": [
    "# 14. create a vector with length 30 and find its mean\n",
    "Z = np.random.random(30)\n",
    "Z.min(), Z.max(), Z.mean()"
   ]
  },
  {
   "cell_type": "code",
   "execution_count": 7,
   "metadata": {},
   "outputs": [
    {
     "data": {
      "text/plain": [
       "array([[1., 1., 1., 1., 1., 1., 1., 1., 1., 1.],\n",
       "       [1., 0., 0., 0., 0., 0., 0., 0., 0., 1.],\n",
       "       [1., 0., 0., 0., 0., 0., 0., 0., 0., 1.],\n",
       "       [1., 0., 0., 0., 0., 0., 0., 0., 0., 1.],\n",
       "       [1., 0., 0., 0., 0., 0., 0., 0., 0., 1.],\n",
       "       [1., 0., 0., 0., 0., 0., 0., 0., 0., 1.],\n",
       "       [1., 0., 0., 0., 0., 0., 0., 0., 0., 1.],\n",
       "       [1., 0., 0., 0., 0., 0., 0., 0., 0., 1.],\n",
       "       [1., 0., 0., 0., 0., 0., 0., 0., 0., 1.],\n",
       "       [1., 1., 1., 1., 1., 1., 1., 1., 1., 1.]])"
      ]
     },
     "execution_count": 7,
     "metadata": {},
     "output_type": "execute_result"
    }
   ],
   "source": [
    "# 15. create a 10x10 matrix, edge is 1, others 0\n",
    "Z = np.ones((10,10))\n",
    "Z[1:-1, 1:-1] = 0 \n",
    "Z"
   ]
  },
  {
   "cell_type": "code",
   "execution_count": 12,
   "metadata": {},
   "outputs": [
    {
     "data": {
      "text/plain": [
       "array([[0., 0., 0., 0., 0., 0., 0., 0., 0., 0., 0., 0.],\n",
       "       [0., 1., 1., 1., 1., 1., 1., 1., 1., 1., 1., 0.],\n",
       "       [0., 1., 1., 1., 1., 1., 1., 1., 1., 1., 1., 0.],\n",
       "       [0., 1., 1., 1., 1., 1., 1., 1., 1., 1., 1., 0.],\n",
       "       [0., 1., 1., 1., 1., 1., 1., 1., 1., 1., 1., 0.],\n",
       "       [0., 1., 1., 1., 1., 1., 1., 1., 1., 1., 1., 0.],\n",
       "       [0., 1., 1., 1., 1., 1., 1., 1., 1., 1., 1., 0.],\n",
       "       [0., 1., 1., 1., 1., 1., 1., 1., 1., 1., 1., 0.],\n",
       "       [0., 1., 1., 1., 1., 1., 1., 1., 1., 1., 1., 0.],\n",
       "       [0., 1., 1., 1., 1., 1., 1., 1., 1., 1., 1., 0.],\n",
       "       [0., 1., 1., 1., 1., 1., 1., 1., 1., 1., 1., 0.],\n",
       "       [0., 0., 0., 0., 0., 0., 0., 0., 0., 0., 0., 0.]])"
      ]
     },
     "execution_count": 12,
     "metadata": {},
     "output_type": "execute_result"
    }
   ],
   "source": [
    "# 16. create a 10x10 matrix, pad a edge with 0\n",
    "Z = np.ones((10,10))\n",
    "Z = np.pad(Z, pad_width = 1, mode='constant', constant_values = 0,)\n",
    "Z"
   ]
  },
  {
   "cell_type": "code",
   "execution_count": 20,
   "metadata": {},
   "outputs": [
    {
     "data": {
      "text/plain": [
       "array([[0, 0, 0, 0, 0],\n",
       "       [1, 0, 0, 0, 0],\n",
       "       [0, 2, 0, 0, 0],\n",
       "       [0, 0, 3, 0, 0],\n",
       "       [0, 0, 0, 4, 0]])"
      ]
     },
     "execution_count": 20,
     "metadata": {},
     "output_type": "execute_result"
    }
   ],
   "source": [
    "# 17. fill line after 5x5 diagonal with 1,2,3,4 \n",
    "Z = np.zeros((5,5))\n",
    "Z = np.diag(1+ np.arange(4), k = -1)\n",
    "Z "
   ]
  },
  {
   "cell_type": "markdown",
   "metadata": {},
   "source": [
    "\n",
    "----\n",
    "\n"
   ]
  },
  {
   "cell_type": "code",
   "execution_count": 19,
   "metadata": {},
   "outputs": [
    {
     "data": {
      "text/plain": [
       "nan"
      ]
     },
     "execution_count": 19,
     "metadata": {},
     "output_type": "execute_result"
    },
    {
     "data": {
      "text/plain": [
       "False"
      ]
     },
     "execution_count": 19,
     "metadata": {},
     "output_type": "execute_result"
    },
    {
     "data": {
      "text/plain": [
       "False"
      ]
     },
     "execution_count": 19,
     "metadata": {},
     "output_type": "execute_result"
    },
    {
     "data": {
      "text/plain": [
       "nan"
      ]
     },
     "execution_count": 19,
     "metadata": {},
     "output_type": "execute_result"
    },
    {
     "data": {
      "text/plain": [
       "False"
      ]
     },
     "execution_count": 19,
     "metadata": {},
     "output_type": "execute_result"
    }
   ],
   "source": [
    "# 18. expression\n",
    "0 * np.nan \n",
    "np.nan == np.nan \n",
    "np.inf > np.nan\n",
    "np.nan - np.nan \n",
    "0.3 == 3 * 0.1 "
   ]
  },
  {
   "cell_type": "code",
   "execution_count": 21,
   "metadata": {},
   "outputs": [
    {
     "data": {
      "text/plain": [
       "array([[0, 1, 0, 1, 0, 1, 0, 1],\n",
       "       [1, 0, 1, 0, 1, 0, 1, 0],\n",
       "       [0, 1, 0, 1, 0, 1, 0, 1],\n",
       "       [1, 0, 1, 0, 1, 0, 1, 0],\n",
       "       [0, 1, 0, 1, 0, 1, 0, 1],\n",
       "       [1, 0, 1, 0, 1, 0, 1, 0],\n",
       "       [0, 1, 0, 1, 0, 1, 0, 1],\n",
       "       [1, 0, 1, 0, 1, 0, 1, 0]])"
      ]
     },
     "execution_count": 21,
     "metadata": {},
     "output_type": "execute_result"
    }
   ],
   "source": [
    "# 19. create 8x8 matrix, return a 棋盘样式\n",
    "Z = np.zeros((8,8), dtype=int)\n",
    "Z[1::2, ::2] =1\n",
    "Z[::2, 1::2] = 1\n",
    "Z "
   ]
  },
  {
   "cell_type": "code",
   "execution_count": 24,
   "metadata": {},
   "outputs": [
    {
     "data": {
      "text/plain": [
       "(1, 5, 4)"
      ]
     },
     "execution_count": 24,
     "metadata": {},
     "output_type": "execute_result"
    }
   ],
   "source": [
    "# 20. for an 6x7x8 matrix, what is the index of #100\n",
    "np.unravel_index(100, (6,7,8))"
   ]
  },
  {
   "cell_type": "code",
   "execution_count": 25,
   "metadata": {},
   "outputs": [
    {
     "data": {
      "text/plain": [
       "array([[0, 1, 0, 1, 0, 1, 0, 1],\n",
       "       [1, 0, 1, 0, 1, 0, 1, 0],\n",
       "       [0, 1, 0, 1, 0, 1, 0, 1],\n",
       "       [1, 0, 1, 0, 1, 0, 1, 0],\n",
       "       [0, 1, 0, 1, 0, 1, 0, 1],\n",
       "       [1, 0, 1, 0, 1, 0, 1, 0],\n",
       "       [0, 1, 0, 1, 0, 1, 0, 1],\n",
       "       [1, 0, 1, 0, 1, 0, 1, 0]])"
      ]
     },
     "execution_count": 25,
     "metadata": {},
     "output_type": "execute_result"
    }
   ],
   "source": [
    "# 21. use tile function to create a 8x8 棋盘矩阵\n",
    "Z = np.tile(np.array([[0,1],[1,0]]), (4,4))\n",
    "Z "
   ]
  },
  {
   "cell_type": "code",
   "execution_count": 4,
   "metadata": {},
   "outputs": [
    {
     "data": {
      "text/plain": [
       "array([[0.98824867, 0.95156061, 0.09915584, 0.003535  , 0.45109061],\n",
       "       [0.97532019, 0.40949475, 0.31859239, 0.53775999, 0.08094655],\n",
       "       [0.85191572, 0.66438775, 0.80041749, 0.00117213, 0.        ],\n",
       "       [0.74746246, 0.72675581, 0.62271537, 0.91318624, 0.73760564],\n",
       "       [0.78814287, 0.10704454, 0.45975049, 1.        , 0.58057936]])"
      ]
     },
     "execution_count": 4,
     "metadata": {},
     "output_type": "execute_result"
    }
   ],
   "source": [
    "# 22. 将一个5x5的随机矩阵做大小值归一化\n",
    "Z = np.random.random((5,5))\n",
    "Z_min, Z_max = Z.min(), Z.max()\n",
    "Z = (Z-Z_min) / (Z_max - Z_min)\n",
    "Z "
   ]
  },
  {
   "cell_type": "code",
   "execution_count": 5,
   "metadata": {},
   "outputs": [
    {
     "name": "stderr",
     "output_type": "stream",
     "text": [
      "<ipython-input-5-89b278b8d20f>:2: FutureWarning: Passing (type, 1) or '1type' as a synonym of type is deprecated; in a future version of numpy, it will be understood as (type, (1,)) / '(1,)type'.\n",
      "  color = np.dtype([(\"r\",np.ubyte,1),\n"
     ]
    },
    {
     "data": {
      "text/plain": [
       "dtype([('r', 'u1'), ('g', 'u1'), ('b', 'u1'), ('a', 'u1')])"
      ]
     },
     "execution_count": 5,
     "metadata": {},
     "output_type": "execute_result"
    }
   ],
   "source": [
    "# 23. 创建一个将颜色描述为RGBA四个无符号字节的自定义dtype\n",
    "color = np.dtype([(\"r\",np.ubyte,1),\n",
    "                 ('g',np.ubyte,1),\n",
    "                 ('b',np.ubyte,1),\n",
    "                 ('a',np.ubyte,1)])\n",
    "color "
   ]
  },
  {
   "cell_type": "code",
   "execution_count": 6,
   "metadata": {},
   "outputs": [
    {
     "data": {
      "text/plain": [
       "array([[3., 3.],\n",
       "       [3., 3.],\n",
       "       [3., 3.],\n",
       "       [3., 3.],\n",
       "       [3., 3.]])"
      ]
     },
     "execution_count": 6,
     "metadata": {},
     "output_type": "execute_result"
    }
   ],
   "source": [
    "# 24. the product of 5x3 matrix and 3x2 matrix\n",
    "Z = np.dot(np.ones((5,3)), np.ones((3,2)))\n",
    "Z "
   ]
  },
  {
   "cell_type": "code",
   "execution_count": 7,
   "metadata": {},
   "outputs": [
    {
     "data": {
      "text/plain": [
       "array([ 1,  2,  3, -4, -5, -6, -7, -8,  9, 10])"
      ]
     },
     "execution_count": 7,
     "metadata": {},
     "output_type": "execute_result"
    }
   ],
   "source": [
    "# 25. 给定一个一维数组，数值在3和8之间的元素取反\n",
    "Z = np.arange(1,11)\n",
    "Z[(3<Z) & (Z <=8)] *= -1\n",
    "Z "
   ]
  },
  {
   "cell_type": "code",
   "execution_count": 12,
   "metadata": {},
   "outputs": [
    {
     "name": "stdout",
     "output_type": "stream",
     "text": [
      "10 -1\n",
      "10 -1\n"
     ]
    }
   ],
   "source": [
    "# 26. \n",
    "print(sum(range(5)),-1)\n",
    "from numpy import *\n",
    "print(sum(np.arange(5)),-1)"
   ]
  },
  {
   "cell_type": "code",
   "execution_count": 14,
   "metadata": {},
   "outputs": [
    {
     "name": "stderr",
     "output_type": "stream",
     "text": [
      "<ipython-input-14-cd809174da5d>:1: RuntimeWarning: invalid value encountered in true_divide\n",
      "  np.array(0) / np.array(0)\n"
     ]
    },
    {
     "data": {
      "text/plain": [
       "nan"
      ]
     },
     "execution_count": 14,
     "metadata": {},
     "output_type": "execute_result"
    },
    {
     "name": "stderr",
     "output_type": "stream",
     "text": [
      "<ipython-input-14-cd809174da5d>:2: RuntimeWarning: divide by zero encountered in floor_divide\n",
      "  np.array(0) // np.array(0)\n"
     ]
    },
    {
     "data": {
      "text/plain": [
       "0"
      ]
     },
     "execution_count": 14,
     "metadata": {},
     "output_type": "execute_result"
    },
    {
     "data": {
      "text/plain": [
       "array([-2.14748365e+09])"
      ]
     },
     "execution_count": 14,
     "metadata": {},
     "output_type": "execute_result"
    }
   ],
   "source": [
    "# 27. np.nan expression\n",
    "np.array(0) / np.array(0)\n",
    "np.array(0) // np.array(0)\n",
    "np.array([np.nan]).astype(int).astype(float)"
   ]
  },
  {
   "cell_type": "code",
   "execution_count": 16,
   "metadata": {},
   "outputs": [
    {
     "data": {
      "text/plain": [
       "array([ 8.52566454,  2.67952373,  6.93401689,  7.39969618,  5.00617644,\n",
       "        7.2109873 ,  2.51241341,  0.70773591,  2.16003609, -5.82328424])"
      ]
     },
     "execution_count": 16,
     "metadata": {},
     "output_type": "execute_result"
    },
    {
     "data": {
      "text/plain": [
       "array([ 9.,  3.,  7.,  8.,  6.,  8.,  3.,  1.,  3., -6.])"
      ]
     },
     "execution_count": 16,
     "metadata": {},
     "output_type": "execute_result"
    }
   ],
   "source": [
    "# 28. 从零位开始舍入浮点数组\n",
    "Z = np.random.uniform(-10,10,10)\n",
    "Z \n",
    "np.copysign(np.ceil(np.abs(Z)),Z)"
   ]
  },
  {
   "cell_type": "code",
   "execution_count": 17,
   "metadata": {},
   "outputs": [
    {
     "data": {
      "text/plain": [
       "array([1, 4, 5, 7, 8])"
      ]
     },
     "execution_count": 17,
     "metadata": {},
     "output_type": "execute_result"
    }
   ],
   "source": [
    "#29. find common elements of two arrays\n",
    "Z1 = np.random.randint(0,10,10)\n",
    "Z2 = np.random.randint(0,10,10)\n",
    "np.intersect1d(Z1,Z2)"
   ]
  },
  {
   "cell_type": "code",
   "execution_count": 21,
   "metadata": {},
   "outputs": [],
   "source": [
    "# 30. ignore warnings\n",
    "# suicide mode on\n",
    "defaults = np.seterr(all=\"ignore\")\n",
    "Z = np.ones(1) / 0 \n",
    "\n",
    "# back to sanity\n",
    "_ = np.seterr(**defaults)\n",
    "Z = np.ones(1) / 0\n",
    "\n",
    "# alternative way\n",
    "with np.errstate(divide = \"ignore\"):\n",
    "    Z = np.ones(1) / 0 "
   ]
  },
  {
   "cell_type": "code",
   "execution_count": 23,
   "metadata": {},
   "outputs": [
    {
     "data": {
      "text/plain": [
       "array([[1., 1., 1.],\n",
       "       [1., 1., 1.],\n",
       "       [1., 1., 1.]])"
      ]
     },
     "execution_count": 23,
     "metadata": {},
     "output_type": "execute_result"
    }
   ],
   "source": [
    "np.ones((3,3))"
   ]
  },
  {
   "cell_type": "code",
   "execution_count": 25,
   "metadata": {},
   "outputs": [
    {
     "data": {
      "text/plain": [
       "False"
      ]
     },
     "execution_count": 25,
     "metadata": {},
     "output_type": "execute_result"
    }
   ],
   "source": [
    "# 31. 虚数\n",
    "np.sqrt(-1) == np.emath.sqrt(-1)"
   ]
  },
  {
   "cell_type": "code",
   "execution_count": 4,
   "metadata": {},
   "outputs": [
    {
     "name": "stdout",
     "output_type": "stream",
     "text": [
      "2021-06-29 2021-06-30 2021-07-01\n"
     ]
    }
   ],
   "source": [
    "# get date of yesterday, today and tomorrow\n",
    "\n",
    "yesterday = np.datetime64('today','D') - np.timedelta64(1,'D')\n",
    "today = np.datetime64('today','D')\n",
    "tomorrow = np.datetime64('today','D') + np.timedelta64(1,'D')\n",
    "print(yesterday, today, tomorrow)"
   ]
  },
  {
   "cell_type": "code",
   "execution_count": 5,
   "metadata": {},
   "outputs": [
    {
     "data": {
      "text/plain": [
       "array(['2021-07-01', '2021-07-02', '2021-07-03', '2021-07-04',\n",
       "       '2021-07-05', '2021-07-06', '2021-07-07', '2021-07-08',\n",
       "       '2021-07-09', '2021-07-10', '2021-07-11', '2021-07-12',\n",
       "       '2021-07-13', '2021-07-14', '2021-07-15', '2021-07-16',\n",
       "       '2021-07-17', '2021-07-18', '2021-07-19', '2021-07-20',\n",
       "       '2021-07-21', '2021-07-22', '2021-07-23', '2021-07-24',\n",
       "       '2021-07-25', '2021-07-26', '2021-07-27', '2021-07-28',\n",
       "       '2021-07-29', '2021-07-30', '2021-07-31'], dtype='datetime64[D]')"
      ]
     },
     "execution_count": 5,
     "metadata": {},
     "output_type": "execute_result"
    }
   ],
   "source": [
    "# get ALL dates of July 2021\n",
    "Z = np.arange('2021-07', '2021-08', dtype = 'datetime64[D]')\n",
    "Z "
   ]
  },
  {
   "cell_type": "code",
   "execution_count": 10,
   "metadata": {},
   "outputs": [
    {
     "data": {
      "text/plain": [
       "array([2., 2., 2.])"
      ]
     },
     "execution_count": 10,
     "metadata": {},
     "output_type": "execute_result"
    },
    {
     "data": {
      "text/plain": [
       "array([0.5, 0.5, 0.5])"
      ]
     },
     "execution_count": 10,
     "metadata": {},
     "output_type": "execute_result"
    },
    {
     "data": {
      "text/plain": [
       "array([-0.5, -0.5, -0.5])"
      ]
     },
     "execution_count": 10,
     "metadata": {},
     "output_type": "execute_result"
    },
    {
     "data": {
      "text/plain": [
       "array([-1., -1., -1.])"
      ]
     },
     "execution_count": 10,
     "metadata": {},
     "output_type": "execute_result"
    }
   ],
   "source": [
    "# calculate ((A+B) * (-A / 2)), dont use intermediate variable\n",
    "A = np.ones(3) * 1\n",
    "B = np.ones(3) * 1\n",
    "C = np.ones(3) * 1\n",
    "np.add(A, B, out = B)\n",
    "np.divide(A, 2, out = A)\n",
    "np.negative(A, out = A)\n",
    "np.multiply(A, B, out = A)\n"
   ]
  },
  {
   "cell_type": "code",
   "execution_count": 21,
   "metadata": {},
   "outputs": [
    {
     "data": {
      "text/plain": [
       "array([5., 7., 1., 4., 0., 6., 6., 3., 2., 4.])"
      ]
     },
     "execution_count": 21,
     "metadata": {},
     "output_type": "execute_result"
    },
    {
     "data": {
      "text/plain": [
       "array([5., 7., 1., 4., 0., 6., 6., 3., 2., 4.])"
      ]
     },
     "execution_count": 21,
     "metadata": {},
     "output_type": "execute_result"
    },
    {
     "data": {
      "text/plain": [
       "array([6., 8., 2., 5., 1., 7., 7., 4., 3., 5.])"
      ]
     },
     "execution_count": 21,
     "metadata": {},
     "output_type": "execute_result"
    },
    {
     "data": {
      "text/plain": [
       "array([5, 7, 1, 4, 0, 6, 6, 3, 2, 4])"
      ]
     },
     "execution_count": 21,
     "metadata": {},
     "output_type": "execute_result"
    },
    {
     "data": {
      "text/plain": [
       "array([5., 7., 1., 4., 0., 6., 6., 3., 2., 4.])"
      ]
     },
     "execution_count": 21,
     "metadata": {},
     "output_type": "execute_result"
    }
   ],
   "source": [
    "# 36. five ways to trunc dicimal part of a random number\n",
    "Z = np.random.uniform(0, 10, size = 10)\n",
    "Z - Z % 1 \n",
    "np.floor(Z)\n",
    "np.ceil(Z)\n",
    "Z.astype(int)\n",
    "np.trunc(Z)"
   ]
  },
  {
   "cell_type": "code",
   "execution_count": 24,
   "metadata": {},
   "outputs": [
    {
     "data": {
      "text/plain": [
       "array([[0., 1., 2., 3., 4.],\n",
       "       [0., 1., 2., 3., 4.],\n",
       "       [0., 1., 2., 3., 4.],\n",
       "       [0., 1., 2., 3., 4.],\n",
       "       [0., 1., 2., 3., 4.]])"
      ]
     },
     "execution_count": 24,
     "metadata": {},
     "output_type": "execute_result"
    },
    {
     "data": {
      "text/plain": [
       "array([[0., 0., 0., 0., 0.],\n",
       "       [0., 0., 0., 0., 0.],\n",
       "       [0., 0., 0., 0., 0.],\n",
       "       [0., 0., 0., 0., 0.],\n",
       "       [0., 0., 0., 0., 0.]])"
      ]
     },
     "execution_count": 24,
     "metadata": {},
     "output_type": "execute_result"
    }
   ],
   "source": [
    "# 37. create a 5x5 matrix with each row range(0,4)\n",
    "Z = np.zeros((5,5))\n",
    "Z + np.arange(5)\n",
    "Z"
   ]
  },
  {
   "cell_type": "code",
   "execution_count": 29,
   "metadata": {},
   "outputs": [
    {
     "data": {
      "text/plain": [
       "array([0.13127392, 0.20037777, 0.43525246, 0.35971613, 0.8833814 ,\n",
       "       0.96319724, 0.52117433, 0.33336702, 0.4491002 , 0.87520839])"
      ]
     },
     "execution_count": 29,
     "metadata": {},
     "output_type": "execute_result"
    }
   ],
   "source": [
    "# 38. create an array with generator\n",
    "def generator():\n",
    "    for _ in range(10):\n",
    "        yield np.random.random(1) \n",
    "Z = np.fromiter(generator(), dtype=float, count=-1)\n",
    "Z "
   ]
  },
  {
   "cell_type": "code",
   "execution_count": 30,
   "metadata": {},
   "outputs": [
    {
     "data": {
      "text/plain": [
       "array([0.09090909, 0.18181818, 0.27272727, 0.36363636, 0.45454545,\n",
       "       0.54545455, 0.63636364, 0.72727273, 0.81818182, 0.90909091])"
      ]
     },
     "execution_count": 30,
     "metadata": {},
     "output_type": "execute_result"
    }
   ],
   "source": [
    "# 39. create a vector with size=10, value (0,1)\n",
    "Z = np.linspace(0, 1, 12, endpoint=True)[1:-1]\n",
    "Z "
   ]
  },
  {
   "cell_type": "code",
   "execution_count": 31,
   "metadata": {},
   "outputs": [
    {
     "data": {
      "text/plain": [
       "array([0.07314389, 0.1289157 , 0.15040951, 0.15864313, 0.16883352,\n",
       "       0.29125027, 0.47448461, 0.53331486, 0.76008239, 0.85866265])"
      ]
     },
     "execution_count": 31,
     "metadata": {},
     "output_type": "execute_result"
    }
   ],
   "source": [
    "# 40. create a random vector size=10, sort it\n",
    "Z = np.random.random(10)\n",
    "Z.sort()\n",
    "Z "
   ]
  },
  {
   "cell_type": "code",
   "execution_count": 33,
   "metadata": {},
   "outputs": [
    {
     "data": {
      "text/plain": [
       "45"
      ]
     },
     "execution_count": 33,
     "metadata": {},
     "output_type": "execute_result"
    }
   ],
   "source": [
    "# 41. sum a small size array and the speed is faster than np.sum\n",
    "Z = np.arange(10)\n",
    "np.add.reduce(Z)\n",
    "# np.add.reduce 是numpy.add模块中的一个ufunc， universal function，C语言实现"
   ]
  },
  {
   "cell_type": "code",
   "execution_count": 8,
   "metadata": {},
   "outputs": [
    {
     "data": {
      "text/plain": [
       "False"
      ]
     },
     "execution_count": 8,
     "metadata": {},
     "output_type": "execute_result"
    },
    {
     "data": {
      "text/plain": [
       "False"
      ]
     },
     "execution_count": 8,
     "metadata": {},
     "output_type": "execute_result"
    }
   ],
   "source": [
    "# check whether two random array equals\n",
    "A = np.random.randint(0,2,size=5)\n",
    "B = np.random.randint(0,2, size=5)\n",
    "equal = np.allclose(A, B)    # shape and value with tolerance\n",
    "equal\n",
    "equal = np.array_equal(A,B)    #shape and value without tolerance\n",
    "equal"
   ]
  },
  {
   "cell_type": "code",
   "execution_count": 12,
   "metadata": {},
   "outputs": [
    {
     "ename": "ValueError",
     "evalue": "assignment destination is read-only",
     "output_type": "error",
     "traceback": [
      "\u001b[1;31m---------------------------------------------------------------------------\u001b[0m",
      "\u001b[1;31mValueError\u001b[0m                                Traceback (most recent call last)",
      "\u001b[1;32m<ipython-input-12-df783c185055>\u001b[0m in \u001b[0;36m<module>\u001b[1;34m\u001b[0m\n\u001b[0;32m      2\u001b[0m \u001b[0mZ\u001b[0m \u001b[1;33m=\u001b[0m \u001b[0mnp\u001b[0m\u001b[1;33m.\u001b[0m\u001b[0mones\u001b[0m\u001b[1;33m(\u001b[0m\u001b[1;33m(\u001b[0m\u001b[1;36m5\u001b[0m\u001b[1;33m,\u001b[0m\u001b[1;36m5\u001b[0m\u001b[1;33m)\u001b[0m\u001b[1;33m)\u001b[0m\u001b[1;33m\u001b[0m\u001b[1;33m\u001b[0m\u001b[0m\n\u001b[0;32m      3\u001b[0m \u001b[0mZ\u001b[0m\u001b[1;33m.\u001b[0m\u001b[0mflags\u001b[0m\u001b[1;33m.\u001b[0m\u001b[0mwriteable\u001b[0m \u001b[1;33m=\u001b[0m \u001b[1;32mFalse\u001b[0m\u001b[1;33m\u001b[0m\u001b[1;33m\u001b[0m\u001b[0m\n\u001b[1;32m----> 4\u001b[1;33m \u001b[0mZ\u001b[0m\u001b[1;33m[\u001b[0m\u001b[1;36m0\u001b[0m\u001b[1;33m,\u001b[0m\u001b[1;36m0\u001b[0m\u001b[1;33m]\u001b[0m\u001b[1;33m=\u001b[0m\u001b[1;36m0\u001b[0m\u001b[1;33m\u001b[0m\u001b[1;33m\u001b[0m\u001b[0m\n\u001b[0m",
      "\u001b[1;31mValueError\u001b[0m: assignment destination is read-only"
     ]
    }
   ],
   "source": [
    "# array readable\n",
    "Z = np.ones((5,5))\n",
    "Z.flags.writeable = False\n",
    "Z[0,0]=0 "
   ]
  },
  {
   "cell_type": "code",
   "execution_count": 14,
   "metadata": {},
   "outputs": [
    {
     "data": {
      "text/plain": [
       "array([0.2191406 , 0.63896836, 0.39829614, 0.31150246, 0.74546215,\n",
       "       0.54347912, 0.63928021, 1.0705519 , 0.48629243, 0.58193247])"
      ]
     },
     "execution_count": 14,
     "metadata": {},
     "output_type": "execute_result"
    },
    {
     "data": {
      "text/plain": [
       "array([1.40484214, 0.93426033, 0.39899146, 0.59862124, 0.83781785,\n",
       "       0.82759274, 0.47858386, 1.10507267, 1.38487508, 0.82704639])"
      ]
     },
     "execution_count": 14,
     "metadata": {},
     "output_type": "execute_result"
    }
   ],
   "source": [
    "# 44. change Cartesian coordination to polar coordination\n",
    "# refer http://www.ab126.com/Geography/3753.html\n",
    "Z = np.random.random((10,2))\n",
    "X, Y = Z[:,0], Z[:,1]\n",
    "R = np.sqrt(X ** 2 + Y ** 2)\n",
    "T = np.arctan2(Y,X)\n",
    "R\n",
    "T "
   ]
  },
  {
   "cell_type": "code",
   "execution_count": 21,
   "metadata": {},
   "outputs": [
    {
     "data": {
      "text/plain": [
       "array([0.02914398, 0.25659869, 0.25711277, 0.51445486, 0.6003934 ,\n",
       "       0.21743197, 0.        , 0.22983246, 0.42336834, 0.63194183])"
      ]
     },
     "execution_count": 21,
     "metadata": {},
     "output_type": "execute_result"
    }
   ],
   "source": [
    "# 45. create a random vector with size 10, change the maximum value with 0\n",
    "Z = np.random.rand(10)\n",
    "Z[Z.argmax()] = 0 \n",
    "Z"
   ]
  },
  {
   "cell_type": "code",
   "execution_count": 23,
   "metadata": {},
   "outputs": [
    {
     "data": {
      "text/plain": [
       "array([[(0.  , 0.  ), (0.25, 0.  ), (0.5 , 0.  ), (0.75, 0.  ),\n",
       "        (1.  , 0.  )],\n",
       "       [(0.  , 0.25), (0.25, 0.25), (0.5 , 0.25), (0.75, 0.25),\n",
       "        (1.  , 0.25)],\n",
       "       [(0.  , 0.5 ), (0.25, 0.5 ), (0.5 , 0.5 ), (0.75, 0.5 ),\n",
       "        (1.  , 0.5 )],\n",
       "       [(0.  , 0.75), (0.25, 0.75), (0.5 , 0.75), (0.75, 0.75),\n",
       "        (1.  , 0.75)],\n",
       "       [(0.  , 1.  ), (0.25, 1.  ), (0.5 , 1.  ), (0.75, 1.  ),\n",
       "        (1.  , 1.  )]], dtype=[('x', '<f8'), ('y', '<f8')])"
      ]
     },
     "execution_count": 23,
     "metadata": {},
     "output_type": "execute_result"
    }
   ],
   "source": [
    "#46. create a structural array which cover[0,1]x[1,0] area\n",
    "Z = np.zeros((5,5),[('x', float), ('y', float)])\n",
    "Z['x'], Z['y'] = np.meshgrid(np.linspace(0, 1, 5), np.linspace(0, 1, 5))\n",
    "Z "
   ]
  },
  {
   "cell_type": "code",
   "execution_count": 27,
   "metadata": {},
   "outputs": [
    {
     "data": {
      "text/plain": [
       "(array([0, 1, 2, 3, 4, 5, 6, 7]),\n",
       " array([0.5, 1.5, 2.5, 3.5, 4.5, 5.5, 6.5, 7.5]))"
      ]
     },
     "execution_count": 27,
     "metadata": {},
     "output_type": "execute_result"
    },
    {
     "data": {
      "text/plain": [
       "array([[ 2.        , -2.        , -0.66666667, -0.4       , -0.28571429,\n",
       "        -0.22222222, -0.18181818, -0.15384615],\n",
       "       [ 0.66666667,  2.        , -2.        , -0.66666667, -0.4       ,\n",
       "        -0.28571429, -0.22222222, -0.18181818],\n",
       "       [ 0.4       ,  0.66666667,  2.        , -2.        , -0.66666667,\n",
       "        -0.4       , -0.28571429, -0.22222222],\n",
       "       [ 0.28571429,  0.4       ,  0.66666667,  2.        , -2.        ,\n",
       "        -0.66666667, -0.4       , -0.28571429],\n",
       "       [ 0.22222222,  0.28571429,  0.4       ,  0.66666667,  2.        ,\n",
       "        -2.        , -0.66666667, -0.4       ],\n",
       "       [ 0.18181818,  0.22222222,  0.28571429,  0.4       ,  0.66666667,\n",
       "         2.        , -2.        , -0.66666667],\n",
       "       [ 0.15384615,  0.18181818,  0.22222222,  0.28571429,  0.4       ,\n",
       "         0.66666667,  2.        , -2.        ],\n",
       "       [ 0.13333333,  0.15384615,  0.18181818,  0.22222222,  0.28571429,\n",
       "         0.4       ,  0.66666667,  2.        ]])"
      ]
     },
     "execution_count": 27,
     "metadata": {},
     "output_type": "execute_result"
    }
   ],
   "source": [
    "# 47. create two array X, Y, create C_ij = 1/(X_i - Y_j)\n",
    "X = np.arange(8)\n",
    "Y = X + 0.5\n",
    "X, Y\n",
    "Z = 1.0 / np.subtract.outer(Y, X)\n",
    "Z "
   ]
  },
  {
   "cell_type": "code",
   "execution_count": 32,
   "metadata": {},
   "outputs": [
    {
     "name": "stdout",
     "output_type": "stream",
     "text": [
      "<class 'int'> min: -2147483648\n",
      "<class 'int'> max: 2147483647\n",
      "<class 'numpy.int64'> min: -9223372036854775808\n",
      "<class 'numpy.int64'> max: 9223372036854775807\n",
      "<class 'numpy.int8'> min: -128\n",
      "<class 'numpy.int8'> max: 127\n",
      "<class 'numpy.int16'> min: -32768\n",
      "<class 'numpy.int16'> max: 32767\n",
      "<class 'numpy.int32'> min: -2147483648\n",
      "<class 'numpy.int32'> max: 2147483647\n",
      "<class 'numpy.int64'> min: -9223372036854775808\n",
      "<class 'numpy.int64'> max: 9223372036854775807\n",
      "<class 'float'> min: -1.7976931348623157e+308\n",
      "<class 'float'> max: 1.7976931348623157e+308\n",
      "<class 'numpy.float16'> min: -65504.0\n",
      "<class 'numpy.float16'> max: 65504.0\n",
      "<class 'numpy.float32'> min: -3.4028234663852886e+38\n",
      "<class 'numpy.float32'> max: 3.4028234663852886e+38\n",
      "<class 'numpy.float64'> min: -1.7976931348623157e+308\n",
      "<class 'numpy.float64'> max: 1.7976931348623157e+308\n"
     ]
    }
   ],
   "source": [
    "# 48. print a type's maximum and minimum\n",
    "for dtype in [np.int, np.int0, np.int8,np.int16, np.int32, np.int64]:\n",
    "    print(f'{dtype} min: {np.iinfo(dtype).min}')\n",
    "    print(f'{dtype} max: {np.iinfo(dtype).max}')\n",
    "for dtype in [np.float, np.float16, np.float32, np.float64]:\n",
    "    print(f'{dtype} min: {np.finfo(dtype).min}')\n",
    "    print(f'{dtype} max: {np.finfo(dtype).max}')"
   ]
  },
  {
   "cell_type": "code",
   "execution_count": 35,
   "metadata": {},
   "outputs": [
    {
     "ename": "ValueError",
     "evalue": "threshold must be non-NAN, try sys.maxsize for untruncated representation",
     "output_type": "error",
     "traceback": [
      "\u001b[1;31m---------------------------------------------------------------------------\u001b[0m",
      "\u001b[1;31mValueError\u001b[0m                                Traceback (most recent call last)",
      "\u001b[1;32m<ipython-input-35-8d2d92b8c5ba>\u001b[0m in \u001b[0;36m<module>\u001b[1;34m\u001b[0m\n\u001b[0;32m      1\u001b[0m \u001b[1;31m#49. print all items of an array\u001b[0m\u001b[1;33m\u001b[0m\u001b[1;33m\u001b[0m\u001b[1;33m\u001b[0m\u001b[0m\n\u001b[1;32m----> 2\u001b[1;33m \u001b[0mnp\u001b[0m\u001b[1;33m.\u001b[0m\u001b[0mset_printoptions\u001b[0m\u001b[1;33m(\u001b[0m\u001b[0mthreshold\u001b[0m\u001b[1;33m=\u001b[0m \u001b[0mnp\u001b[0m\u001b[1;33m.\u001b[0m\u001b[0mnan\u001b[0m\u001b[1;33m)\u001b[0m\u001b[1;33m\u001b[0m\u001b[1;33m\u001b[0m\u001b[0m\n\u001b[0m\u001b[0;32m      3\u001b[0m \u001b[0mZ\u001b[0m \u001b[1;33m=\u001b[0m \u001b[0mnp\u001b[0m\u001b[1;33m.\u001b[0m\u001b[0mzeros\u001b[0m\u001b[1;33m(\u001b[0m\u001b[1;33m(\u001b[0m\u001b[1;36m5\u001b[0m\u001b[1;33m,\u001b[0m\u001b[1;36m5\u001b[0m\u001b[1;33m)\u001b[0m\u001b[1;33m)\u001b[0m\u001b[1;33m\u001b[0m\u001b[1;33m\u001b[0m\u001b[0m\n\u001b[0;32m      4\u001b[0m \u001b[0mprint\u001b[0m\u001b[1;33m(\u001b[0m\u001b[0mZ\u001b[0m\u001b[1;33m)\u001b[0m\u001b[1;33m\u001b[0m\u001b[1;33m\u001b[0m\u001b[0m\n",
      "\u001b[1;32mC:\\work2\\anaconda3\\envs\\py38\\lib\\site-packages\\numpy\\core\\arrayprint.py\u001b[0m in \u001b[0;36mset_printoptions\u001b[1;34m(precision, threshold, edgeitems, linewidth, suppress, nanstr, infstr, formatter, sign, floatmode, legacy)\u001b[0m\n\u001b[0;32m    241\u001b[0m \u001b[1;33m\u001b[0m\u001b[0m\n\u001b[0;32m    242\u001b[0m     \"\"\"\n\u001b[1;32m--> 243\u001b[1;33m     opt = _make_options_dict(precision, threshold, edgeitems, linewidth,\n\u001b[0m\u001b[0;32m    244\u001b[0m                              \u001b[0msuppress\u001b[0m\u001b[1;33m,\u001b[0m \u001b[0mnanstr\u001b[0m\u001b[1;33m,\u001b[0m \u001b[0minfstr\u001b[0m\u001b[1;33m,\u001b[0m \u001b[0msign\u001b[0m\u001b[1;33m,\u001b[0m \u001b[0mformatter\u001b[0m\u001b[1;33m,\u001b[0m\u001b[1;33m\u001b[0m\u001b[1;33m\u001b[0m\u001b[0m\n\u001b[0;32m    245\u001b[0m                              floatmode, legacy)\n",
      "\u001b[1;32mC:\\work2\\anaconda3\\envs\\py38\\lib\\site-packages\\numpy\\core\\arrayprint.py\u001b[0m in \u001b[0;36m_make_options_dict\u001b[1;34m(precision, threshold, edgeitems, linewidth, suppress, nanstr, infstr, sign, formatter, floatmode, legacy)\u001b[0m\n\u001b[0;32m     84\u001b[0m             \u001b[1;32mraise\u001b[0m \u001b[0mTypeError\u001b[0m\u001b[1;33m(\u001b[0m\u001b[1;34m\"threshold must be numeric\"\u001b[0m\u001b[1;33m)\u001b[0m\u001b[1;33m\u001b[0m\u001b[1;33m\u001b[0m\u001b[0m\n\u001b[0;32m     85\u001b[0m         \u001b[1;32mif\u001b[0m \u001b[0mnp\u001b[0m\u001b[1;33m.\u001b[0m\u001b[0misnan\u001b[0m\u001b[1;33m(\u001b[0m\u001b[0mthreshold\u001b[0m\u001b[1;33m)\u001b[0m\u001b[1;33m:\u001b[0m\u001b[1;33m\u001b[0m\u001b[1;33m\u001b[0m\u001b[0m\n\u001b[1;32m---> 86\u001b[1;33m             raise ValueError(\"threshold must be non-NAN, try \"\n\u001b[0m\u001b[0;32m     87\u001b[0m                              \"sys.maxsize for untruncated representation\")\n\u001b[0;32m     88\u001b[0m     \u001b[1;32mreturn\u001b[0m \u001b[0moptions\u001b[0m\u001b[1;33m\u001b[0m\u001b[1;33m\u001b[0m\u001b[0m\n",
      "\u001b[1;31mValueError\u001b[0m: threshold must be non-NAN, try sys.maxsize for untruncated representation"
     ]
    }
   ],
   "source": [
    "#49. print all items of an array\n",
    "np.set_printoptions(threshold= np.nan)\n",
    "Z = np.zeros((5,5))\n",
    "print(Z)"
   ]
  },
  {
   "cell_type": "code",
   "execution_count": 40,
   "metadata": {},
   "outputs": [
    {
     "data": {
      "text/plain": [
       "(63.64989259511521, 64)"
      ]
     },
     "execution_count": 40,
     "metadata": {},
     "output_type": "execute_result"
    }
   ],
   "source": [
    "# 50, find the nearest index to a set value\n",
    "Z = np.arange(100)\n",
    "v = np.random.uniform(0,100)\n",
    "index = (np.abs(Z-v)).argmin()\n",
    "v, index"
   ]
  },
  {
   "cell_type": "code",
   "execution_count": 41,
   "metadata": {},
   "outputs": [
    {
     "name": "stderr",
     "output_type": "stream",
     "text": [
      "<ipython-input-41-d4affaaa2154>:2: FutureWarning: Passing (type, 1) or '1type' as a synonym of type is deprecated; in a future version of numpy, it will be understood as (type, (1,)) / '(1,)type'.\n",
      "  Z = np.zeros(10, [('position', [('x',float,1),\n"
     ]
    },
    {
     "data": {
      "text/plain": [
       "array([((0., 0.), (0., 0., 0.)), ((0., 0.), (0., 0., 0.)),\n",
       "       ((0., 0.), (0., 0., 0.)), ((0., 0.), (0., 0., 0.)),\n",
       "       ((0., 0.), (0., 0., 0.)), ((0., 0.), (0., 0., 0.)),\n",
       "       ((0., 0.), (0., 0., 0.)), ((0., 0.), (0., 0., 0.)),\n",
       "       ((0., 0.), (0., 0., 0.)), ((0., 0.), (0., 0., 0.))],\n",
       "      dtype=[('position', [('x', '<f8'), ('y', '<f8')]), ('color', [('r', '<f8'), ('g', '<f8'), ('b', '<f8')])])"
      ]
     },
     "execution_count": 41,
     "metadata": {},
     "output_type": "execute_result"
    }
   ],
   "source": [
    "# 51. create a structural array with positioin(x,y), and color(r,g,b)\n",
    "Z = np.zeros(10, [('position', [('x',float,1),\n",
    "                             ('y',float, 1)]),\n",
    "                  ('color', [('r', float, 1),\n",
    "                            ('g', float, 1),\n",
    "                            ('b', float, 1)])])\n",
    "Z "
   ]
  },
  {
   "cell_type": "code",
   "execution_count": null,
   "metadata": {},
   "outputs": [],
   "source": []
  }
 ],
 "metadata": {
  "kernelspec": {
   "display_name": "Python 3",
   "language": "python",
   "name": "python3"
  },
  "language_info": {
   "codemirror_mode": {
    "name": "ipython",
    "version": 3
   },
   "file_extension": ".py",
   "mimetype": "text/x-python",
   "name": "python",
   "nbconvert_exporter": "python",
   "pygments_lexer": "ipython3",
   "version": "3.8.5"
  },
  "toc": {
   "base_numbering": 1,
   "nav_menu": {},
   "number_sections": true,
   "sideBar": true,
   "skip_h1_title": false,
   "title_cell": "Table of Contents",
   "title_sidebar": "Contents",
   "toc_cell": false,
   "toc_position": {},
   "toc_section_display": true,
   "toc_window_display": false
  }
 },
 "nbformat": 4,
 "nbformat_minor": 4
}
