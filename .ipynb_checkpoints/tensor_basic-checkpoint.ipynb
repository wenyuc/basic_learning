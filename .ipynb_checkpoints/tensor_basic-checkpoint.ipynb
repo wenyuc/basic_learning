{
 "cells": [
  {
   "cell_type": "markdown",
   "metadata": {},
   "source": [
    "### Tensor\n",
    "\n",
    "**A tensor is defined by three attributes:**\n",
    "\n",
    "- **Number of axes (rank)** - a 3D tensor has three axes, and a matrix has two axes. This is also called the tensor's **ndim** in Python libraries such as Numpy.\n",
    "\n",
    "- **Shape** - This is a tuple of integers that describes how many dimensions the tensor has along each axis. For example, a **matrix** may have a shape (3,5), and a **3D tensor** may have (3,3,5). A **vector** has a shape with a single element, such as (5,), where a **scalar** has a empty shape, (). \n",
    "\n",
    "- **Data type (usually called dtype in Python libraries)** - This is the type of the data contained in the tensor, such as float32, uint8, float64, and so on. "
   ]
  },
  {
   "cell_type": "code",
   "execution_count": 2,
   "metadata": {},
   "outputs": [
    {
     "name": "stdout",
     "output_type": "stream",
     "text": [
      "[ 1  2  3  6 14]\n",
      "1\n"
     ]
    }
   ],
   "source": [
    "import numpy as np\n",
    "\n",
    "x = np.array([1,2,3,6,14])\n",
    "print(x)\n",
    "print(x.ndim)"
   ]
  },
  {
   "cell_type": "markdown",
   "metadata": {},
   "source": [
    "This vector has five entries and so is called a **5-dimensional vector**.\n",
    "\n",
    "**Don’t confuse a 5D vector with a 5D tensor!**\n",
    "\n",
    "A 5D vector has only one axis and has five dimensions along its axis, whereas a 5D tensor has five axes (and may have any number of dimensions along each axis). \n",
    "\n",
    "Dimensionality can denote either the number of entries along a specific\n",
    "axis (as in the case of our 5D vector) or the number of axes in a tensor (such as a\n",
    "5D tensor), which can be confusing at times.\n",
    "\n",
    "In the latter case, **it’s technically more correct to talk about a tensor of rank 5 (the rank of a tensor being the number of axes),**\n",
    "but the ambiguous notation 5D tensor is common regardless."
   ]
  },
  {
   "cell_type": "code",
   "execution_count": 4,
   "metadata": {},
   "outputs": [],
   "source": [
    "from keras.datasets import mnist\n",
    "(train_images, train_labels), (test_images, test_labels) = mnist.load_data()"
   ]
  },
  {
   "cell_type": "code",
   "execution_count": 5,
   "metadata": {},
   "outputs": [
    {
     "name": "stdout",
     "output_type": "stream",
     "text": [
      "(60000, 28, 28)\n"
     ]
    }
   ],
   "source": [
    "print(train_images.shape)"
   ]
  },
  {
   "cell_type": "code",
   "execution_count": 6,
   "metadata": {},
   "outputs": [
    {
     "name": "stdout",
     "output_type": "stream",
     "text": [
      "uint8\n"
     ]
    }
   ],
   "source": [
    "print(train_images.dtype)"
   ]
  },
  {
   "cell_type": "markdown",
   "metadata": {},
   "source": [
    "What we have here is a 3D tensor of 8-bit integers. \n",
    "\n",
    "More precisely, it’s an array of 60,000 matrices of 28 × 8 integers. Each such matrix is a grayscale image, with coefficients between 0 and 255."
   ]
  },
  {
   "cell_type": "code",
   "execution_count": 7,
   "metadata": {},
   "outputs": [
    {
     "data": {
      "image/png": "[encoded data removed]",
      "text/plain": [
       "<Figure size 432x288 with 1 Axes>"
      ]
     },
     "metadata": {
      "needs_background": "light"
     },
     "output_type": "display_data"
    }
   ],
   "source": [
    "digit = train_images[4]\n",
    "import matplotlib.pyplot as plt\n",
    "plt.imshow(digit, cmap = plt.cm.binary)\n",
    "plt.show()"
   ]
  },
  {
   "cell_type": "code",
   "execution_count": 8,
   "metadata": {},
   "outputs": [
    {
     "data": {
      "text/plain": [
       "(28, 28)"
      ]
     },
     "execution_count": 8,
     "metadata": {},
     "output_type": "execute_result"
    }
   ],
   "source": [
    "digit.shape"
   ]
  },
  {
   "cell_type": "code",
   "execution_count": 9,
   "metadata": {},
   "outputs": [
    {
     "data": {
      "text/plain": [
       "(90, 28, 28)"
      ]
     },
     "execution_count": 9,
     "metadata": {},
     "output_type": "execute_result"
    }
   ],
   "source": [
    "my_slice = train_images[10:100]\n",
    "my_slice.shape"
   ]
  },
  {
   "cell_type": "markdown",
   "metadata": {},
   "source": [
    "In general, the first axis (axis 0) in all data tensors you'll come across in deep learning will be the **samples axis** (sometimes called the samples dimension). In the MNIST example, sampes are images of digits.\n",
    "\n",
    "In addition, deep-learning models don't process an entire dataset at once; rather, they break the data into small **batches**. "
   ]
  },
  {
   "cell_type": "code",
   "execution_count": 10,
   "metadata": {},
   "outputs": [],
   "source": [
    "batch1 = train_images[:128]\n",
    "\n",
    "# And the nth batch\n",
    "# batch = train_images[128 * n : 128 * (n+1)]"
   ]
  },
  {
   "cell_type": "markdown",
   "metadata": {},
   "source": [
    "When considering such a batch tensor, the first axis (axis 0) is called the **batch axis** or **batch dimension**.\n"
   ]
  },
  {
   "cell_type": "markdown",
   "metadata": {},
   "source": [
    "### Real-world examples of data tensors\n",
    "\n",
    "#### Vector data - 2D tensors of shape (samples, features)\n",
    "\n",
    "The first axis is the samples axis and the second axis is the features axis.\n",
    "\n",
    "Let’s take a look at two examples:\n",
    " - An actuarial dataset of people, where we consider each person’s age, ZIP code,\n",
    "and income. Each person can be characterized as a vector of 3 values, and thus\n",
    "an entire dataset of 100,000 people can be stored in a 2D tensor of shape\n",
    "(100000, 3).\n",
    "\n",
    "- A dataset of text documents, where we represent each document by the counts\n",
    "of how many times each word appears in it (out of a dictionary of 20,000 common\n",
    "words). Each document can be encoded as a vector of 20,000 values (one\n",
    "count per word in the dictionary), and thus an entire dataset of 500 documents\n",
    "can be stored in a tensor of shape (500, 20000)."
   ]
  },
  {
   "attachments": {
    "image.png": {
     "image/png": "[encoded data removed]"
    }
   },
   "cell_type": "markdown",
   "metadata": {},
   "source": [
    "#### Timeseries data or sequence data\n",
    "\n",
    "Whenever time matters in your data (or the notion of sequence order), it makes sure to store it in a 3D tensor with an explicit time axis. \n",
    "\n",
    "![image.png](attachment:image.png)\n",
    "\n",
    "**The time axis is always the second axis (axis of index 1), by convention**. Let’s look at a few examples:\n",
    "- A dataset of stock prices. Every minute, we store the current price of the stock,\n",
    "the highest price in the past minute, and the lowest price in the past minute.\n",
    "Thus every minute is encoded as a 3D vector, an entire day of trading is\n",
    "encoded as a 2D tensor of shape (390, 3) (there are 390 minutes in a trading\n",
    "day), and 250 days’ worth of data can be stored in a 3D tensor of shape (250,\n",
    "390, 3). Here, each sample would be one day’s worth of data.\n",
    "- A dataset of tweets, where we encode each tweet as a sequence of 280 characters\n",
    "out of an alphabet of 128 unique characters. In this setting, each character can\n",
    "be encoded as a binary vector of size 128 (an all-zeros vector except for a 1 entry\n",
    "at the index corresponding to the character). Then each tweet can be encoded\n",
    "as a 2D tensor of shape (280, 128), and a dataset of 1 million tweets can be\n",
    "stored in a tensor of shape (1000000, 280, 128)."
   ]
  },
  {
   "attachments": {
    "image.png": {
     "image/png": "[encoded data removed]"
    }
   },
   "cell_type": "markdown",
   "metadata": {},
   "source": [
    "#### Image Data\n",
    "\n",
    "Images typically have three dimensions: height, width, and color depth. \n",
    "\n",
    "Although grayscale images (like our MNIST digits) have only a single color channel and could\n",
    "thus be stored in 2D tensors, by convention image tensors are always 3D, with a onedimensional\n",
    "color channel for grayscale images. \n",
    "\n",
    "A batch of 128 grayscale images of size 256 × 256 could thus be stored in a tensor of shape (128, 256, 256, 1), and a\n",
    "batch of 128 color images could be stored in a tensor of shape (128, 256, 256, 3).\n",
    "\n",
    "![image.png](attachment:image.png)\n",
    "\n",
    "There are two conventions for shapes of images tensors: the **channels-last** convention (used by TensorFlow) and the **channels-first** convention (used by Theano).\n",
    "\n",
    "The TensorFlow machine-learning framework, places the color-depth axis at the end: (samples, height, width, color-depth).\n",
    "Meanwhile, Theano places the color depth axis right after the batch axis: (samples, color-depth, height, width). \n",
    "\n",
    "The Keras framework provides support for both formats."
   ]
  },
  {
   "cell_type": "markdown",
   "metadata": {},
   "source": [
    "#### Video data\n",
    "\n",
    "A batch of different videos can be stored in a 5D tensor of shape: (samples, frames, height, width, color-depth)\n",
    "\n",
    "For instance, a 60-second, 144 × 256 YouTube video clip sampled at 4 frames per second would have 240 frames. A batch of four such video clips would be stored in a tensor of shape (4, 240, 144, 256, 3).\n",
    "\n"
   ]
  },
  {
   "cell_type": "markdown",
   "metadata": {},
   "source": [
    "### Tensor Operations\n",
    "\n",
    "To build network by stacking **Dense** layers on top of each other. A Keras layer instance looks like this:\n",
    "\n",
    "    keras.layers.Dense(512, activation='relu')\n",
    "\n",
    "This layer can be interpreted as a function, which takes as input as a 2D tensor and returns another 2D tensor - a new representation for the input tensor. \n",
    "\n",
    "Specially, the function is as follows (where W is a 2D tensor and b is an vector, both attributes of the layer):\n",
    "    \n",
    "    output = relu(dot(W, input) + b)\n",
    "    \n",
    "    relu(x) is max(x, 0)\n",
    "\n"
   ]
  },
  {
   "cell_type": "markdown",
   "metadata": {},
   "source": [
    "#### Element-wise operations\n",
    "\n",
    "The *relu* operation and *addition(+)* are **element-wise** operations: operations that are applied independently to each entry in the tensor being considered. "
   ]
  },
  {
   "cell_type": "markdown",
   "metadata": {},
   "source": [
    "#### Broadcasting"
   ]
  },
  {
   "cell_type": "code",
   "execution_count": 11,
   "metadata": {},
   "outputs": [
    {
     "data": {
      "text/plain": [
       "(6,)"
      ]
     },
     "execution_count": 11,
     "metadata": {},
     "output_type": "execute_result"
    }
   ],
   "source": [
    "a = np.array([1,2,3,4,5,6])\n",
    "a.shape"
   ]
  },
  {
   "cell_type": "code",
   "execution_count": 17,
   "metadata": {},
   "outputs": [
    {
     "data": {
      "text/plain": [
       "(6,)"
      ]
     },
     "execution_count": 17,
     "metadata": {},
     "output_type": "execute_result"
    }
   ],
   "source": [
    "a_transpose = a.transpose()\n",
    "a_transpose.shape"
   ]
  },
  {
   "cell_type": "code",
   "execution_count": 15,
   "metadata": {},
   "outputs": [
    {
     "data": {
      "text/plain": [
       "array([1, 2, 3, 4, 5, 6])"
      ]
     },
     "execution_count": 15,
     "metadata": {},
     "output_type": "execute_result"
    }
   ],
   "source": [
    "a_transpose"
   ]
  },
  {
   "cell_type": "markdown",
   "metadata": {},
   "source": [
    "#### Tensor dot\n",
    "\n",
    "The dot operation, also called a **tensor product**, is the most common, most useful tensor operation. Contrary to element-wise operations, it combines entries in the input tensors. \n",
    "\n",
    "    import numpy as np\n",
    "    z = np.dot(x,y)\n",
    "    \n",
    "    z = x . y\n",
    "\n"
   ]
  },
  {
   "cell_type": "markdown",
   "metadata": {},
   "source": [
    "#### Tensor reshaping"
   ]
  },
  {
   "cell_type": "code",
   "execution_count": null,
   "metadata": {},
   "outputs": [],
   "source": []
  }
 ],
 "metadata": {
  "kernelspec": {
   "display_name": "Python 3",
   "language": "python",
   "name": "python3"
  },
  "language_info": {
   "codemirror_mode": {
    "name": "ipython",
    "version": 3
   },
   "file_extension": ".py",
   "mimetype": "text/x-python",
   "name": "python",
   "nbconvert_exporter": "python",
   "pygments_lexer": "ipython3",
   "version": "3.7.7"
  },
  "toc": {
   "base_numbering": 1,
   "nav_menu": {},
   "number_sections": true,
   "sideBar": true,
   "skip_h1_title": false,
   "title_cell": "Table of Contents",
   "title_sidebar": "Contents",
   "toc_cell": false,
   "toc_position": {},
   "toc_section_display": true,
   "toc_window_display": false
  }
 },
 "nbformat": 4,
 "nbformat_minor": 4
}
