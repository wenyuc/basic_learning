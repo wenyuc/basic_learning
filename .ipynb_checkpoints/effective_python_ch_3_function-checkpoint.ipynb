{
 "cells": [
  {
   "cell_type": "code",
   "execution_count": 1,
   "metadata": {},
   "outputs": [],
   "source": [
    "from IPython.core.interactiveshell import InteractiveShell\n",
    "InteractiveShell.ast_node_interactivity = \"all\""
   ]
  },
  {
   "cell_type": "code",
   "execution_count": 2,
   "metadata": {},
   "outputs": [],
   "source": [
    "def get_avg_ratio(numbers):\n",
    "    average = sum(numbers) / len(numbers)\n",
    "    scaled = [x / average for x in numbers]\n",
    "    scaled.sort(reverse=True)\n",
    "    return scaled"
   ]
  },
  {
   "cell_type": "code",
   "execution_count": 3,
   "metadata": {},
   "outputs": [],
   "source": [
    "lengths = [63, 73, 72, 60, 67, 66, 71, 61, 72, 70]\n",
    "\n",
    "longest, *middle, shortest = get_avg_ratio(lengths)\n",
    "\n",
    "print(f'Longest: {longest:>4.0%}')\n",
    "print(f'Shortest: {shortest:>4.0%}')"
   ]
  },
  {
   "cell_type": "markdown",
   "metadata": {},
   "source": [
    "### Item 20 Prefer Raising Exceptions to Returning *None*"
   ]
  },
  {
   "cell_type": "code",
   "execution_count": 4,
   "metadata": {},
   "outputs": [],
   "source": [
    "def careful_divide(a,b):\n",
    "    try:\n",
    "        return True, a / b\n",
    "    except ZeroDivisionError:\n",
    "        return False, None\n",
    "    "
   ]
  },
  {
   "cell_type": "code",
   "execution_count": 5,
   "metadata": {},
   "outputs": [
    {
     "name": "stdout",
     "output_type": "stream",
     "text": [
      "Result is 0.0\n"
     ]
    }
   ],
   "source": [
    "success, result = careful_divide(0,5)\n",
    "\n",
    "if not success:\n",
    "    print('invalid inputs')\n",
    "else:\n",
    "    print('Result is %.1f' % result)"
   ]
  },
  {
   "cell_type": "code",
   "execution_count": 6,
   "metadata": {},
   "outputs": [],
   "source": [
    "def careful_division(a: float, b: float) -> float:\n",
    "    \"\"\"Divides a by b.\n",
    "    Raises:\n",
    "        ValueError: When the inputs cannot be divided.\"\"\"\n",
    "    \n",
    "    try:\n",
    "        return a / b\n",
    "    except ZeroDivisionError as e:\n",
    "        raise ValueError('Invalid inputs')"
   ]
  },
  {
   "cell_type": "code",
   "execution_count": 7,
   "metadata": {},
   "outputs": [
    {
     "data": {
      "text/plain": [
       "0.0"
      ]
     },
     "execution_count": 7,
     "metadata": {},
     "output_type": "execute_result"
    }
   ],
   "source": [
    "careful_division(0,5)"
   ]
  },
  {
   "cell_type": "markdown",
   "metadata": {},
   "source": [
    "### Item 21 Know How Closures Interact with Vairable Scope"
   ]
  },
  {
   "cell_type": "code",
   "execution_count": 8,
   "metadata": {},
   "outputs": [],
   "source": [
    "def sort_priority(values, group):\n",
    "    def helper(x):\n",
    "        if x in group:\n",
    "            return (0, x)\n",
    "        return (1, x)\n",
    "    values.sort(key = helper)"
   ]
  },
  {
   "cell_type": "code",
   "execution_count": 9,
   "metadata": {},
   "outputs": [
    {
     "name": "stdout",
     "output_type": "stream",
     "text": [
      "[2, 3, 5, 7, 1, 4, 6, 8]\n"
     ]
    }
   ],
   "source": [
    "numbers = [8, 3, 1, 2, 5, 4, 7, 6]\n",
    "group = [3,2,7,5]\n",
    "sort_priority(numbers, group)\n",
    "print(numbers)"
   ]
  },
  {
   "cell_type": "code",
   "execution_count": 10,
   "metadata": {},
   "outputs": [],
   "source": [
    "def sort_priority3(values, group):\n",
    "    found = False\n",
    "    def helper(x):\n",
    "        nonlocal found    # Added\n",
    "        if x in group:\n",
    "            found = True\n",
    "            return(0,x)\n",
    "        return(1,x)\n",
    "    values.sort(key=helper)\n",
    "    return found\n"
   ]
  },
  {
   "cell_type": "code",
   "execution_count": 11,
   "metadata": {},
   "outputs": [
    {
     "name": "stdout",
     "output_type": "stream",
     "text": [
      "Found: True\n",
      "[2, 3, 5, 7, 1, 4, 6, 8]\n"
     ]
    }
   ],
   "source": [
    "numbers = [8, 3, 1, 2, 5, 4, 7, 6]\n",
    "group = [3,2,7,5]\n",
    "found = sort_priority3(numbers, group)\n",
    "print(f'Found: {found}')\n",
    "print(numbers)"
   ]
  },
  {
   "cell_type": "code",
   "execution_count": 12,
   "metadata": {},
   "outputs": [],
   "source": [
    "# When your usage of nonlocal starts getting complicated, it’s better to\n",
    "# wrap your state in a helper class.\n",
    "\n",
    "class Sorter:\n",
    "    def __init__(self, group):\n",
    "        self.group = group\n",
    "        self.found = False\n",
    "    \n",
    "    def __call__(self, x):\n",
    "        if x in self.group:\n",
    "            self.found = True\n",
    "            return (0, x)\n",
    "        return (1, x)\n"
   ]
  },
  {
   "cell_type": "code",
   "execution_count": 13,
   "metadata": {},
   "outputs": [
    {
     "data": {
      "text/plain": [
       "[2, 3, 6, 8, 1, 4, 5, 7]"
      ]
     },
     "execution_count": 13,
     "metadata": {},
     "output_type": "execute_result"
    }
   ],
   "source": [
    "numbers = [8, 3, 1, 2, 5, 4, 7, 6]\n",
    "group = [3,2,8,6]\n",
    "\n",
    "sorter = Sorter(group)\n",
    "numbers.sort(key=sorter)\n",
    "numbers\n",
    "assert sorter.found is True"
   ]
  },
  {
   "cell_type": "markdown",
   "metadata": {},
   "source": [
    "### Item 22 Reduce Visual Noise with Variable Positional Arguments"
   ]
  },
  {
   "cell_type": "code",
   "execution_count": 14,
   "metadata": {},
   "outputs": [],
   "source": [
    "def log1(message, values):\n",
    "    if not values:\n",
    "        print(message)\n",
    "    else:\n",
    "        values_str = ', '.join(str(x) for x in values)\n",
    "        print(f'{message}: {values_str}')\n"
   ]
  },
  {
   "cell_type": "code",
   "execution_count": 15,
   "metadata": {},
   "outputs": [
    {
     "name": "stdout",
     "output_type": "stream",
     "text": [
      "My numbers are: 1, 2, 3\n",
      "Hi there\n"
     ]
    }
   ],
   "source": [
    "log1('My numbers are',[1,2,3])\n",
    "log1('Hi there', [])"
   ]
  },
  {
   "cell_type": "markdown",
   "metadata": {},
   "source": [
    "The bersome and noisy point in *log1* func is to pass an empty list when have no values to log. \n",
    "can do this in Python by prefixing the last positional\n",
    "parameter name with \\*. The first parameter for the log message is required, whereas any number of subsequent positional arguments are optional."
   ]
  },
  {
   "cell_type": "code",
   "execution_count": 16,
   "metadata": {},
   "outputs": [],
   "source": [
    "def log2(message, *values):\n",
    "    if not values:\n",
    "        print(message)\n",
    "    else:\n",
    "        values_str = ', '.join(str(x) for x in values)\n",
    "        print(f'{message}: {values_str}')"
   ]
  },
  {
   "cell_type": "code",
   "execution_count": 17,
   "metadata": {},
   "outputs": [
    {
     "name": "stdout",
     "output_type": "stream",
     "text": [
      "My numbers are: 1, 2, 3, 5\n",
      "Hi there\n"
     ]
    }
   ],
   "source": [
    "log2('My numbers are',1,2,3,5)\n",
    "log2('Hi there')"
   ]
  },
  {
   "cell_type": "markdown",
   "metadata": {},
   "source": [
    "If I already have a sequence (like a list) and want to call a variadic\n",
    "function like log, I can do this by using the \\* operator."
   ]
  },
  {
   "cell_type": "code",
   "execution_count": 18,
   "metadata": {},
   "outputs": [
    {
     "name": "stdout",
     "output_type": "stream",
     "text": [
      "Favoriate colors: 7, 33, 99\n"
     ]
    }
   ],
   "source": [
    "favorites = [7,33,99]\n",
    "log2('Favoriate colors', *favorites)"
   ]
  },
  {
   "cell_type": "markdown",
   "metadata": {},
   "source": [
    "There are two problems with accepting a variable number of positional arguments.\n",
    "\n",
    "- The first issue is that these optional positional arguments are always\n",
    "turned into a tuple before they are passed to a function. This means\n",
    "that if the caller of a function uses the \\* operator on a generator, it\n",
    "will be iterated until it’s exhausted"
   ]
  },
  {
   "cell_type": "code",
   "execution_count": 19,
   "metadata": {},
   "outputs": [],
   "source": [
    "def my_generator():\n",
    "    for i in range(10):\n",
    "        yield i\n",
    "\n",
    "def my_func(*args):\n",
    "    print(args)\n"
   ]
  },
  {
   "cell_type": "code",
   "execution_count": 20,
   "metadata": {},
   "outputs": [
    {
     "name": "stdout",
     "output_type": "stream",
     "text": [
      "(0, 1, 2, 3, 4, 5, 6, 7, 8, 9)\n"
     ]
    }
   ],
   "source": [
    "it = my_generator()\n",
    "my_func(*it)"
   ]
  },
  {
   "cell_type": "markdown",
   "metadata": {},
   "source": [
    "Functions that accept \\*args are best for situations where you know\n",
    "the number of inputs in the argument list will be reasonably small.\n",
    "\\*args is ideal for function calls that pass many literals or variable\n",
    "names together. It’s primarily for the convenience of the programmer\n",
    "and the readability of the code.\n",
    "\n",
    "- The second issue with *args is that you can’t add new positional\n",
    "arguments to a function in the future without migrating every caller."
   ]
  },
  {
   "cell_type": "code",
   "execution_count": 21,
   "metadata": {},
   "outputs": [],
   "source": [
    "def log3(sequence, message, *values):\n",
    "    if not values:\n",
    "        print(f'{sequence} - {message}')\n",
    "    else:\n",
    "        values_str = ', '.join(str(x) for x in values)\n",
    "        print(f'{sequence} - {message}: {values_str}')"
   ]
  },
  {
   "cell_type": "code",
   "execution_count": 22,
   "metadata": {},
   "outputs": [
    {
     "name": "stdout",
     "output_type": "stream",
     "text": [
      "1 - Favorites: 7, 33\n",
      "1 - Hi there\n",
      "Favorite numbers - 7: 33\n"
     ]
    }
   ],
   "source": [
    "log3(1, 'Favorites', 7, 33) # New with *args OK\n",
    "log3(1, 'Hi there') # New message only OK\n",
    "log3('Favorite numbers', 7, 33) # Old usage breaks"
   ]
  },
  {
   "cell_type": "markdown",
   "metadata": {},
   "source": [
    "Bugs like this are hard to track down because the code still runs without raising exceptions. To avoid this possibility entirely, you should use **keyword-only arguments** when you want to extend functions that accept \\*args (see **Item 25**: “Enforce Clarity with Keyword-Only and Positional-Only Arguments”). To be even more defensive, you could also consider using type annotations (see **Item 90**: “Consider Static Analysis via typing to Obviate Bugs”)."
   ]
  },
  {
   "cell_type": "markdown",
   "metadata": {},
   "source": [
    "**Things to Remember**\n",
    "\n",
    "- Functions can accept a variable number of positional arguments by using \\*args in the def statement.\n",
    "\n",
    "- You can use the items from a sequence as the positional arguments for a function with the \\* operator.\n",
    "\n",
    "- Using the \\* operator with a generator may cause a program to run out of memory and crash.\n",
    "\n",
    "- Adding new positional parameters to functions that accept \\*args can introduce hard-to-detect bugs."
   ]
  },
  {
   "cell_type": "markdown",
   "metadata": {},
   "source": [
    "### Item 23 Provide Optional Behavior with Keyword Arguments"
   ]
  },
  {
   "cell_type": "code",
   "execution_count": 23,
   "metadata": {},
   "outputs": [],
   "source": [
    "def quotient(number, divisor):\n",
    "    return number // divisor\n",
    "\n",
    "assert quotient(20, 7) == 2\n",
    "\n",
    "def remainder(number, divisor):\n",
    "    return number % divisor\n",
    "\n",
    "assert remainder(20, 7) == 6"
   ]
  },
  {
   "cell_type": "markdown",
   "metadata": {},
   "source": [
    "The \\** operator instructs Python to pass the values from a dictionary as the corresponding keyword arguments of the function"
   ]
  },
  {
   "cell_type": "code",
   "execution_count": 24,
   "metadata": {},
   "outputs": [],
   "source": [
    "my_kwargs = {\n",
    "    'number': 20,\n",
    "    'divisor': 7,\n",
    "}\n",
    "assert remainder(**my_kwargs) == 6"
   ]
  },
  {
   "cell_type": "code",
   "execution_count": 25,
   "metadata": {},
   "outputs": [],
   "source": [
    "# can use the ** operator multiple times if you know that the dic don't contain overlapping keys.\n",
    "my_kwargs = {\n",
    "    'number': 20\n",
    "}\n",
    "other_kwargs = {\n",
    "    'divisor': 7\n",
    "}\n",
    "\n",
    "assert remainder(**my_kwargs, **other_kwargs) == 6"
   ]
  },
  {
   "cell_type": "code",
   "execution_count": 26,
   "metadata": {},
   "outputs": [
    {
     "name": "stdout",
     "output_type": "stream",
     "text": [
      "alpha = 1.5\n",
      "beta = 9\n",
      "gamma = 4\n"
     ]
    }
   ],
   "source": [
    "# use the **kwargs catch-all parameter to collect those arguments into a dict that you can then process.\n",
    "def print_parameters(**kwargs):\n",
    "    for key, value in kwargs.items():\n",
    "        print(f'{key} = {value}')\n",
    "print_parameters(alpha=1.5, beta=9, gamma=4)"
   ]
  },
  {
   "cell_type": "markdown",
   "metadata": {},
   "source": [
    "### Item 24 Use *None* and Docstrings to Specify Dynamic Default Arguments"
   ]
  },
  {
   "cell_type": "code",
   "execution_count": 27,
   "metadata": {},
   "outputs": [],
   "source": [
    "from time import sleep\n",
    "from datetime import datetime\n",
    "\n",
    "def log(message, when = datetime.now()):\n",
    "    print(f'{when}: {message}')"
   ]
  },
  {
   "cell_type": "code",
   "execution_count": 28,
   "metadata": {},
   "outputs": [
    {
     "name": "stdout",
     "output_type": "stream",
     "text": [
      "2021-03-05 09:24:31.309824: Hi there!\n",
      "2021-03-05 09:24:31.309824: Hello again!\n"
     ]
    }
   ],
   "source": [
    "log('Hi there!')\n",
    "sleep(3)\n",
    "log('Hello again!')"
   ]
  },
  {
   "cell_type": "markdown",
   "metadata": {},
   "source": [
    "When the function is defined. The *default argument value* is evaluated only once per module load, which usually happens when a program starts up. \n",
    "\n",
    "After the module containing this code is loaded, the *datetime.now()* default argument will never be evaluated again."
   ]
  },
  {
   "cell_type": "code",
   "execution_count": 29,
   "metadata": {},
   "outputs": [],
   "source": [
    "def log2(message, when = None):\n",
    "    \"\"\"Log a message with a timestamp.\n",
    "    \n",
    "    Args:\n",
    "        message: Message to print.\n",
    "        when: datetime of when the message occurred.\n",
    "            Defaults to the present time.\n",
    "    \"\"\"\n",
    "    if when is None:\n",
    "        when = datetime.now()\n",
    "    print(f'{when}: {message}')"
   ]
  },
  {
   "cell_type": "code",
   "execution_count": 30,
   "metadata": {},
   "outputs": [
    {
     "name": "stdout",
     "output_type": "stream",
     "text": [
      "2021-03-05 09:30:05.422487: Hi there!\n",
      "2021-03-05 09:30:08.422823: Hello again!\n"
     ]
    }
   ],
   "source": [
    "log2('Hi there!')\n",
    "sleep(3)\n",
    "log2('Hello again!')"
   ]
  },
  {
   "cell_type": "markdown",
   "metadata": {},
   "source": [
    "Using *None* for default argument values is especially important when the arguments are mutable.\n"
   ]
  },
  {
   "cell_type": "code",
   "execution_count": 36,
   "metadata": {},
   "outputs": [],
   "source": [
    "import json\n",
    "\n",
    "def decode(data, default = {}):\n",
    "    try:\n",
    "        return json.loads(data)\n",
    "    except ValueError:\n",
    "        return default"
   ]
  },
  {
   "cell_type": "markdown",
   "metadata": {},
   "source": [
    "The problem here is that the dictionary specified for *default* will be **shared by all calls to decode** because\n",
    "\n",
    "default argument values are evaluated only once (at module load time).\n"
   ]
  },
  {
   "cell_type": "code",
   "execution_count": 39,
   "metadata": {},
   "outputs": [
    {
     "name": "stdout",
     "output_type": "stream",
     "text": [
      "Foo:  {'stuff': 5, 'meep': 3}\n",
      "Bar: {'stuff': 5, 'meep': 3}\n"
     ]
    }
   ],
   "source": [
    "foo = decode('bad data')\n",
    "foo['stuff'] = 5\n",
    "bar = decode('also bad')\n",
    "bar['meep'] = 3\n",
    "print('Foo: ', foo)\n",
    "print('Bar:', bar)\n",
    "assert foo is bar "
   ]
  },
  {
   "cell_type": "markdown",
   "metadata": {},
   "source": [
    "The fix is to set the keyword argument default value to *None* and then document the behavior in the function's docstring."
   ]
  },
  {
   "cell_type": "code",
   "execution_count": 40,
   "metadata": {},
   "outputs": [],
   "source": [
    "def decode2(data, default = None):\n",
    "    \"\"\"Load JSON data from a string\n",
    "    \n",
    "    Args:\n",
    "        data: JSON data to decode.\n",
    "        default: Value to return if decoding fails.\n",
    "            Defaults to an empty dictionary.\"\"\"\n",
    "    try:\n",
    "        return json.loads(data)\n",
    "    except ValueError:\n",
    "        if default is None:\n",
    "            default = {}\n",
    "        return default"
   ]
  },
  {
   "cell_type": "code",
   "execution_count": 41,
   "metadata": {},
   "outputs": [
    {
     "name": "stdout",
     "output_type": "stream",
     "text": [
      "Foo:  {'stuff': 5}\n",
      "Bar: {'meep': 3}\n"
     ]
    }
   ],
   "source": [
    "foo = decode2('bad data')\n",
    "foo['stuff'] = 5\n",
    "bar = decode2('also bad')\n",
    "bar['meep'] = 3\n",
    "print('Foo: ', foo)\n",
    "print('Bar:', bar)\n",
    "assert foo is not bar "
   ]
  },
  {
   "cell_type": "markdown",
   "metadata": {},
   "source": [
    "This approach also works with type annotations. \n",
    "\n",
    "Here, the *when* argument is marked as having an *Optional* vlaue that is datetime. \n",
    "\n",
    "Thus, the only two valid choices for *when* are *None* or a *datetime* object。"
   ]
  },
  {
   "cell_type": "code",
   "execution_count": 42,
   "metadata": {},
   "outputs": [],
   "source": [
    "from typing import Optional\n",
    "\n",
    "def log_typed(message: str, \n",
    "             when: Optional[datetime] = None) -> None:\n",
    "    \"\"\"Log a message with a timestamp.\n",
    "    \n",
    "    Args:\n",
    "        message: Message to print.\n",
    "        when: datetime of when the message Occurred.\n",
    "            Defaults to the present time.\"\"\"\n",
    "    if when is None:\n",
    "        when = datetime.now()\n",
    "    print(f'{when}: {message}')"
   ]
  },
  {
   "cell_type": "code",
   "execution_count": 43,
   "metadata": {},
   "outputs": [
    {
     "name": "stdout",
     "output_type": "stream",
     "text": [
      "2021-03-05 09:56:29.673899: Hi there!\n",
      "2021-03-05 09:56:32.674183: Hello again!\n"
     ]
    }
   ],
   "source": [
    "log_typed('Hi there!')\n",
    "sleep(3)\n",
    "log_typed('Hello again!')"
   ]
  },
  {
   "cell_type": "markdown",
   "metadata": {},
   "source": [
    "### Item 25 Enforce Clarity with Keyword-Only and Positional-Only Arguments"
   ]
  },
  {
   "cell_type": "code",
   "execution_count": 44,
   "metadata": {},
   "outputs": [],
   "source": [
    "def safe_division(number, divisor,\n",
    "                 ignore_overflow,\n",
    "                 ignore_zero_division):\n",
    "    try:\n",
    "        return number / divisor\n",
    "    except OverflowError:\n",
    "        if ignore_overflow:\n",
    "            return 0 \n",
    "        else: \n",
    "            raise\n",
    "    except ZeroDivisionError:\n",
    "        if ignore_zero_division:\n",
    "            return float('inf')\n",
    "        else:\n",
    "            raise"
   ]
  },
  {
   "cell_type": "code",
   "execution_count": 49,
   "metadata": {},
   "outputs": [
    {
     "data": {
      "text/plain": [
       "0"
      ]
     },
     "execution_count": 49,
     "metadata": {},
     "output_type": "execute_result"
    },
    {
     "data": {
      "text/plain": [
       "inf"
      ]
     },
     "execution_count": 49,
     "metadata": {},
     "output_type": "execute_result"
    }
   ],
   "source": [
    "result = safe_division(1.0, 10**500, True, False)\n",
    "result\n",
    "result = safe_division(1.0, 0, True, True)\n",
    "result"
   ]
  },
  {
   "cell_type": "markdown",
   "metadata": {},
   "source": [
    "It is better to require that callers are clear about their intentions by defining functions with ***keyword-only*** arguments. \n",
    "\n",
    "The **\\*** symbol in the argument list indicates ***the end of positional arguments and the beginning of keyword-only arguments***. "
   ]
  },
  {
   "cell_type": "code",
   "execution_count": 52,
   "metadata": {},
   "outputs": [],
   "source": [
    "def safe_division_1(number, divisor, *,   # CHANGED\n",
    "                 ignore_overflow = False,\n",
    "                 ignore_zero_division = False):\n",
    "    try:\n",
    "        return number / divisor\n",
    "    except OverflowError:\n",
    "        if ignore_overflow:\n",
    "            return 0 \n",
    "        else: \n",
    "            raise\n",
    "    except ZeroDivisionError:\n",
    "        if ignore_zero_division:\n",
    "            return float('inf')\n",
    "        else:\n",
    "            raise"
   ]
  },
  {
   "cell_type": "code",
   "execution_count": 69,
   "metadata": {},
   "outputs": [
    {
     "data": {
      "text/plain": [
       "0"
      ]
     },
     "execution_count": 69,
     "metadata": {},
     "output_type": "execute_result"
    }
   ],
   "source": [
    "result = safe_division_1(1.0, 10**500, ignore_overflow = True, )\n",
    "result\n",
    "assert safe_division_1(1, 10**500) == 0"
   ]
  },
  {
   "cell_type": "markdown",
   "metadata": {},
   "source": [
    "**Python 3.8** introduces a solution to this problem, called positional-only arguments. \n",
    "\n",
    "These arguments can be supplied only by position and never by keyword (the opposite of the keyword-only arguments demonstrated above).\n",
    "\n",
    "The **\\/** symbol in the argument list indicates where positional-only arguments end."
   ]
  },
  {
   "cell_type": "code",
   "execution_count": 65,
   "metadata": {},
   "outputs": [],
   "source": [
    "def safe_division_2(number, divisor, /, *,   # CHANGED\n",
    "                 ignore_overflow = False,\n",
    "                 ignore_zero_division = False):\n",
    "    try:\n",
    "        return number / divisor\n",
    "    except OverflowError:\n",
    "        if ignore_overflow:\n",
    "            return 0 \n",
    "        else: \n",
    "            raise\n",
    "    except ZeroDivisionError:\n",
    "        if ignore_zero_division:\n",
    "            return float('inf')\n",
    "        else:\n",
    "            raise"
   ]
  },
  {
   "cell_type": "code",
   "execution_count": 66,
   "metadata": {},
   "outputs": [],
   "source": [
    "assert safe_division_2(2, 5) == 0.4"
   ]
  },
  {
   "cell_type": "markdown",
   "metadata": {},
   "source": [
    "One notable consequence of keywork- and positional-only arguments is that any parameter name **between \\/ and \\* symbols in the argument list** may be passed either by position or by keyword (which is the default for all function arguments in Python). "
   ]
  },
  {
   "cell_type": "code",
   "execution_count": 71,
   "metadata": {},
   "outputs": [],
   "source": [
    "def safe_division_3(numerator, denominator, /, \n",
    "                    ndigits = 10, *,   # CHANGED\n",
    "                 ignore_overflow = False,\n",
    "                 ignore_zero_division = False):\n",
    "    try:\n",
    "        fraction = numerator / denominator\n",
    "        return round(fraction, ndigits)\n",
    "    except OverflowError:\n",
    "        if ignore_overflow:\n",
    "            return 0 \n",
    "        else: \n",
    "            raise\n",
    "    except ZeroDivisionError:\n",
    "        if ignore_zero_division:\n",
    "            return float('inf')\n",
    "        else:\n",
    "            raise"
   ]
  },
  {
   "cell_type": "code",
   "execution_count": 75,
   "metadata": {},
   "outputs": [
    {
     "data": {
      "text/plain": [
       "3.1428571429"
      ]
     },
     "execution_count": 75,
     "metadata": {},
     "output_type": "execute_result"
    },
    {
     "data": {
      "text/plain": [
       "3.14286"
      ]
     },
     "execution_count": 75,
     "metadata": {},
     "output_type": "execute_result"
    },
    {
     "data": {
      "text/plain": [
       "3.14"
      ]
     },
     "execution_count": 75,
     "metadata": {},
     "output_type": "execute_result"
    }
   ],
   "source": [
    "result = safe_division_3(22,7)\n",
    "result\n",
    "result = safe_division_3(22,7,5)\n",
    "result\n",
    "result = safe_division_3(22,7,ndigits=2)\n",
    "result"
   ]
  },
  {
   "cell_type": "markdown",
   "metadata": {},
   "source": [
    "### Item 26 Define Function Decorators with *functools.wraps*\n",
    "\n",
    "Python has special syntax for decorators that can be applied to functions. \n",
    "\n",
    "A decorator has the ability to run additional code before and after each call to a function it wraps. \n",
    "\n",
    "This means decorators can access and modify input arguments, return values, and raised exceptions."
   ]
  }
 ],
 "metadata": {
  "kernelspec": {
   "display_name": "Python 3",
   "language": "python",
   "name": "python3"
  },
  "language_info": {
   "codemirror_mode": {
    "name": "ipython",
    "version": 3
   },
   "file_extension": ".py",
   "mimetype": "text/x-python",
   "name": "python",
   "nbconvert_exporter": "python",
   "pygments_lexer": "ipython3",
   "version": "3.8.5"
  },
  "toc": {
   "base_numbering": 1,
   "nav_menu": {},
   "number_sections": true,
   "sideBar": true,
   "skip_h1_title": false,
   "title_cell": "Table of Contents",
   "title_sidebar": "Contents",
   "toc_cell": false,
   "toc_position": {},
   "toc_section_display": true,
   "toc_window_display": false
  }
 },
 "nbformat": 4,
 "nbformat_minor": 4
}
