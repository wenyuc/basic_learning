{
 "cells": [
  {
   "cell_type": "code",
   "execution_count": 8,
   "metadata": {},
   "outputs": [],
   "source": [
    "from IPython.core.interactiveshell import InteractiveShell\n",
    "InteractiveShell.ast_node_interactivity = \"all\""
   ]
  },
  {
   "cell_type": "markdown",
   "metadata": {},
   "source": [
    "### python built-in Module about time\n",
    "https://mp.weixin.qq.com/s/9jr_QoM1xgYPe_unizfqSw\n",
    "\n",
    "**时间戳（特指 unix 时间戳) Timestamp** 是指在一连串的数据中加入辨识文字，如时间或者日期等，用以保障本地数据更新顺序和远程的一致。\n",
    "\n",
    "unix时间戳是指从1970年1月1日（UTC/GMT的午夜）开始所经过的秒数，不包括闰秒。1970-01-01就是经常我们在MySQL中时间为空的时候，转化空的时间戳之后得到的时间。\n",
    "\n",
    "|时间|秒|\n",
    "|---|---|\n",
    "|1分钟| 60 |\n",
    "|1小时| 3600|\n",
    "|1天| 86400|\n",
    "|1周| 604800|\n",
    "|1月(30.44天）|2629743|\n",
    "|1年(365.24天）|31556763|\n",
    "\n",
    "#### 时间戳转换网站\n",
    "https://tool.chinaz.com/tools/unixtime.aspx\n",
    "\n",
    "https://tool.lu/timestamp/\n",
    "\n",
    "https://www.sojson.com/unixtime.html\n",
    "\n",
    "https://c.runoob.com/front-end/852\n",
    "\n",
    "http://www.beijing-time.org/shijianchuo"
   ]
  },
  {
   "cell_type": "markdown",
   "metadata": {},
   "source": [
    "#### calendar"
   ]
  },
  {
   "cell_type": "code",
   "execution_count": 5,
   "metadata": {},
   "outputs": [
    {
     "name": "stdout",
     "output_type": "stream",
     "text": [
      "                                               2021\n",
      "\n",
      "          January                            February                            March\n",
      "Mon Tue Wed Thu Fri Sat Sun        Mon Tue Wed Thu Fri Sat Sun        Mon Tue Wed Thu Fri Sat Sun\n",
      "                  1   2   3          1   2   3   4   5   6   7          1   2   3   4   5   6   7\n",
      "  4   5   6   7   8   9  10          8   9  10  11  12  13  14          8   9  10  11  12  13  14\n",
      " 11  12  13  14  15  16  17         15  16  17  18  19  20  21         15  16  17  18  19  20  21\n",
      " 18  19  20  21  22  23  24         22  23  24  25  26  27  28         22  23  24  25  26  27  28\n",
      " 25  26  27  28  29  30  31                                            29  30  31\n",
      "\n",
      "           April                               May                                June\n",
      "Mon Tue Wed Thu Fri Sat Sun        Mon Tue Wed Thu Fri Sat Sun        Mon Tue Wed Thu Fri Sat Sun\n",
      "              1   2   3   4                              1   2              1   2   3   4   5   6\n",
      "  5   6   7   8   9  10  11          3   4   5   6   7   8   9          7   8   9  10  11  12  13\n",
      " 12  13  14  15  16  17  18         10  11  12  13  14  15  16         14  15  16  17  18  19  20\n",
      " 19  20  21  22  23  24  25         17  18  19  20  21  22  23         21  22  23  24  25  26  27\n",
      " 26  27  28  29  30                 24  25  26  27  28  29  30         28  29  30\n",
      "                                    31\n",
      "\n",
      "            July                              August                           September\n",
      "Mon Tue Wed Thu Fri Sat Sun        Mon Tue Wed Thu Fri Sat Sun        Mon Tue Wed Thu Fri Sat Sun\n",
      "              1   2   3   4                                  1                  1   2   3   4   5\n",
      "  5   6   7   8   9  10  11          2   3   4   5   6   7   8          6   7   8   9  10  11  12\n",
      " 12  13  14  15  16  17  18          9  10  11  12  13  14  15         13  14  15  16  17  18  19\n",
      " 19  20  21  22  23  24  25         16  17  18  19  20  21  22         20  21  22  23  24  25  26\n",
      " 26  27  28  29  30  31             23  24  25  26  27  28  29         27  28  29  30\n",
      "                                    30  31\n",
      "\n",
      "          October                            November                           December\n",
      "Mon Tue Wed Thu Fri Sat Sun        Mon Tue Wed Thu Fri Sat Sun        Mon Tue Wed Thu Fri Sat Sun\n",
      "                  1   2   3          1   2   3   4   5   6   7                  1   2   3   4   5\n",
      "  4   5   6   7   8   9  10          8   9  10  11  12  13  14          6   7   8   9  10  11  12\n",
      " 11  12  13  14  15  16  17         15  16  17  18  19  20  21         13  14  15  16  17  18  19\n",
      " 18  19  20  21  22  23  24         22  23  24  25  26  27  28         20  21  22  23  24  25  26\n",
      " 25  26  27  28  29  30  31         29  30                             27  28  29  30  31\n",
      "\n"
     ]
    }
   ],
   "source": [
    "import calendar\n",
    "\n",
    "# c: 每月间隔距离；w:每日宽度间隔（日期左右宽度）， l:每星期行数(上下宽度）， 每行宽度= 21*w+18+3*c, 3个月1行\n",
    "year = calendar.calendar(2021, w = 3, l = 1, c = 8)\n",
    "print(year)"
   ]
  },
  {
   "cell_type": "code",
   "execution_count": 6,
   "metadata": {},
   "outputs": [
    {
     "name": "stdout",
     "output_type": "stream",
     "text": [
      "True\n",
      "True\n",
      "False\n"
     ]
    }
   ],
   "source": [
    "# determine the leap year\n",
    "print(calendar.isleap(2020))\n",
    "print(calendar.isleap(2000))\n",
    "print(calendar.isleap(1900))"
   ]
  },
  {
   "cell_type": "code",
   "execution_count": 9,
   "metadata": {},
   "outputs": [
    {
     "data": {
      "text/plain": [
       "5"
      ]
     },
     "execution_count": 9,
     "metadata": {},
     "output_type": "execute_result"
    },
    {
     "data": {
      "text/plain": [
       "6"
      ]
     },
     "execution_count": 9,
     "metadata": {},
     "output_type": "execute_result"
    }
   ],
   "source": [
    "# how many leap years between y1(incl.) and y2(not incl.)\n",
    "calendar.leapdays(2000,2020)    # 2000， 04， 08， 12， 16\n",
    "calendar.leapdays(2000,2021)    # 2000， 04， 08， 12， 16， 2020"
   ]
  },
  {
   "cell_type": "code",
   "execution_count": 13,
   "metadata": {},
   "outputs": [
    {
     "name": "stdout",
     "output_type": "stream",
     "text": [
      "            March 2021\n",
      "\n",
      "Mon  Tue  Wed  Thu  Fri  Sat  Sun\n",
      "\n",
      "  1    2    3    4    5    6    7\n",
      "\n",
      "  8    9   10   11   12   13   14\n",
      "\n",
      " 15   16   17   18   19   20   21\n",
      "\n",
      " 22   23   24   25   26   27   28\n",
      "\n",
      " 29   30   31\n",
      "\n",
      "\n"
     ]
    }
   ],
   "source": [
    "# month(year, month, w, l)\n",
    "print(calendar.month(2021, 3, w=4, l=2))"
   ]
  },
  {
   "cell_type": "code",
   "execution_count": 18,
   "metadata": {},
   "outputs": [
    {
     "data": {
      "text/plain": [
       "[1, 2, 3, 4, 5, 6, 7]"
      ]
     },
     "execution_count": 18,
     "metadata": {},
     "output_type": "execute_result"
    }
   ],
   "source": [
    "# monthcalendar(year, month)\n",
    "# 通过列表形式返回某年某月日历。每个子列表是一个星期，从星期一开始\n",
    "#如果没有出现本月的日期用 0 表示。\n",
    "ls = calendar.monthcalendar(2021,3)\n",
    "ls[0]"
   ]
  },
  {
   "cell_type": "code",
   "execution_count": 21,
   "metadata": {},
   "outputs": [
    {
     "data": {
      "text/plain": [
       "(5, 29)"
      ]
     },
     "execution_count": 21,
     "metadata": {},
     "output_type": "execute_result"
    }
   ],
   "source": [
    "# monthrange(year, month)\n",
    "# 返回一个元组，两个数值(a,b), a 表示该月从星期几开始，0-6， 6表示星期天，\n",
    "# b 表示该月总共有多少天\n",
    "calendar.monthrange(2020, 2)"
   ]
  },
  {
   "cell_type": "code",
   "execution_count": 22,
   "metadata": {},
   "outputs": [
    {
     "data": {
      "text/plain": [
       "6"
      ]
     },
     "execution_count": 22,
     "metadata": {},
     "output_type": "execute_result"
    }
   ],
   "source": [
    "# weekday(year, month, day)\n",
    "# 输入年月日，得到星期几，0-6,6表示星期天\n",
    "calendar.weekday(2021, 3, 7)"
   ]
  },
  {
   "cell_type": "markdown",
   "metadata": {},
   "source": [
    "#### time"
   ]
  },
  {
   "cell_type": "code",
   "execution_count": 33,
   "metadata": {},
   "outputs": [
    {
     "data": {
      "text/plain": [
       "1615091767.9242094"
      ]
     },
     "execution_count": 33,
     "metadata": {},
     "output_type": "execute_result"
    }
   ],
   "source": [
    "# time.time() 获取当前时间的时间戳\n",
    "import time \n",
    "time.time()"
   ]
  },
  {
   "cell_type": "code",
   "execution_count": 34,
   "metadata": {},
   "outputs": [
    {
     "data": {
      "text/plain": [
       "time.struct_time(tm_year=2021, tm_mon=3, tm_mday=7, tm_hour=12, tm_min=36, tm_sec=8, tm_wday=6, tm_yday=66, tm_isdst=0)"
      ]
     },
     "execution_count": 34,
     "metadata": {},
     "output_type": "execute_result"
    }
   ],
   "source": [
    "# time.localtime() 打印当前的时间，结果是时间元组\n",
    "time.localtime()"
   ]
  },
  {
   "cell_type": "code",
   "execution_count": 35,
   "metadata": {},
   "outputs": [
    {
     "data": {
      "text/plain": [
       "2021"
      ]
     },
     "execution_count": 35,
     "metadata": {},
     "output_type": "execute_result"
    },
    {
     "data": {
      "text/plain": [
       "3"
      ]
     },
     "execution_count": 35,
     "metadata": {},
     "output_type": "execute_result"
    },
    {
     "data": {
      "text/plain": [
       "7"
      ]
     },
     "execution_count": 35,
     "metadata": {},
     "output_type": "execute_result"
    },
    {
     "data": {
      "text/plain": [
       "6"
      ]
     },
     "execution_count": 35,
     "metadata": {},
     "output_type": "execute_result"
    }
   ],
   "source": [
    "t = time.localtime()\n",
    "t.tm_year\n",
    "t.tm_mon\n",
    "t.tm_mday\n",
    "t.tm_wday"
   ]
  },
  {
   "cell_type": "code",
   "execution_count": 36,
   "metadata": {},
   "outputs": [
    {
     "data": {
      "text/plain": [
       "time.struct_time(tm_year=2001, tm_mon=9, tm_mday=9, tm_hour=9, tm_min=46, tm_sec=40, tm_wday=6, tm_yday=252, tm_isdst=0)"
      ]
     },
     "execution_count": 36,
     "metadata": {},
     "output_type": "execute_result"
    }
   ],
   "source": [
    "# 指定某个时间戳\n",
    "t = time.localtime(1000000000)\n",
    "t"
   ]
  },
  {
   "cell_type": "code",
   "execution_count": 56,
   "metadata": {},
   "outputs": [
    {
     "data": {
      "text/plain": [
       "1615094941.0"
      ]
     },
     "execution_count": 56,
     "metadata": {},
     "output_type": "execute_result"
    }
   ],
   "source": [
    "# mktime() 以时间元组为参数，返回时间戳，是localtime()的逆过程\n",
    "tsp = time.localtime()\n",
    "time.mktime(tsp)"
   ]
  },
  {
   "cell_type": "code",
   "execution_count": 39,
   "metadata": {},
   "outputs": [
    {
     "data": {
      "text/plain": [
       "time.struct_time(tm_year=2021, tm_mon=3, tm_mday=7, tm_hour=4, tm_min=36, tm_sec=50, tm_wday=6, tm_yday=66, tm_isdst=0)"
      ]
     },
     "execution_count": 39,
     "metadata": {},
     "output_type": "execute_result"
    },
    {
     "data": {
      "text/plain": [
       "time.struct_time(tm_year=2021, tm_mon=3, tm_mday=7, tm_hour=12, tm_min=36, tm_sec=50, tm_wday=6, tm_yday=66, tm_isdst=0)"
      ]
     },
     "execution_count": 39,
     "metadata": {},
     "output_type": "execute_result"
    }
   ],
   "source": [
    "# gmtime() 国际时间，最好是格林威治时间\n",
    "time.gmtime()\n",
    "time.localtime()"
   ]
  },
  {
   "cell_type": "code",
   "execution_count": 50,
   "metadata": {},
   "outputs": [
    {
     "data": {
      "text/plain": [
       "'Sun Mar  7 13:24:20 2021'"
      ]
     },
     "execution_count": 50,
     "metadata": {},
     "output_type": "execute_result"
    },
    {
     "data": {
      "text/plain": [
       "'Sun Sep  9 09:46:40 2001'"
      ]
     },
     "execution_count": 50,
     "metadata": {},
     "output_type": "execute_result"
    },
    {
     "data": {
      "text/plain": [
       "'Sun Mar  7 13:24:20 2021'"
      ]
     },
     "execution_count": 50,
     "metadata": {},
     "output_type": "execute_result"
    },
    {
     "data": {
      "text/plain": [
       "'Sun Mar  7 13:24:20 2021'"
      ]
     },
     "execution_count": 50,
     "metadata": {},
     "output_type": "execute_result"
    }
   ],
   "source": [
    "# asctime() 参数为空时，默认时以time.localtime()的值为参数，返回当前日期、时间、星期。\n",
    "# 参数为时间元组\n",
    "time.asctime()\n",
    "\n",
    "# 指定参数，通过localtime()方法得到一个时间元组\n",
    "dt = time.localtime(1000000000)\n",
    "time.asctime(dt)\n",
    "\n",
    "# 当前时间戳转换为时间元组，时间元组再通过asctime()转换为具体日期\n",
    "time.asctime(time.localtime(time.time()))\n",
    "\n",
    "time.asctime(time.localtime())"
   ]
  },
  {
   "cell_type": "code",
   "execution_count": 53,
   "metadata": {},
   "outputs": [
    {
     "data": {
      "text/plain": [
       "'Sun Mar  7 13:25:32 2021'"
      ]
     },
     "execution_count": 53,
     "metadata": {},
     "output_type": "execute_result"
    },
    {
     "data": {
      "text/plain": [
       "'Wed Jun 27 11:33:20 1973'"
      ]
     },
     "execution_count": 53,
     "metadata": {},
     "output_type": "execute_result"
    }
   ],
   "source": [
    "# ctime()的参数默认是一个时间戳\n",
    "time.ctime()\n",
    "time.ctime(110000000)"
   ]
  },
  {
   "cell_type": "code",
   "execution_count": null,
   "metadata": {},
   "outputs": [],
   "source": [
    "# strftime() 按照指定的格式将时间元组转化为字符串，缺省为当前时间localtime()"
   ]
  },
  {
   "cell_type": "markdown",
   "metadata": {},
   "source": [
    "|格式|含义|取值范围(样式)|\n",
    "|---|---|---|\n",
    "|%y|去掉世纪的年份| 00-99,如\"21\"|\n",
    "|%Y|完整的年份| 如\"2021\"|\n",
    "|%j|指定的日期是一年中的第几天|001-366|\n",
    "|%m|月份| 01-12,如\"03\"|\n",
    "|%b|本地简化月份名称|简写的英文月份|\n",
    "|%B|本地完整月份名称|完整的英文月份|\n",
    "|%d|改月的第几日|每月1日为“01”|\n",
    "|%H|第几小时，24小时制|00-23|\n",
    "|%h|第几小时，12小时制|00-12|\n",
    "|%M|分钟|00-59|\n",
    "|%S|秒|00-59|\n",
    "|%p|上下午|AM, PM|\n",
    "|%U|该年中第几个星期，周日为一周的起点|00-53|\n",
    "|%W|同上，周一为一周的起点|00-53|\n",
    "|%w|一个星期中第几天|0-6|\n",
    "|%Z|时区|大陆是CST|\n",
    "|%x|日期|日/月/年|\n",
    "|%X|日期时间|日/月/年时/分/秒|\n",
    "|%%|%字符|%|"
   ]
  },
  {
   "cell_type": "code",
   "execution_count": 75,
   "metadata": {},
   "outputs": [
    {
     "data": {
      "text/plain": [
       "'2021-March-07 066'"
      ]
     },
     "execution_count": 75,
     "metadata": {},
     "output_type": "execute_result"
    },
    {
     "data": {
      "text/plain": [
       "'2021-03-07 066 22:09:54'"
      ]
     },
     "execution_count": 75,
     "metadata": {},
     "output_type": "execute_result"
    },
    {
     "data": {
      "text/plain": [
       "'2021-03-07 09 22:09:54'"
      ]
     },
     "execution_count": 75,
     "metadata": {},
     "output_type": "execute_result"
    }
   ],
   "source": [
    "time.strftime(\"%Y-%B-%d %j\")\n",
    "time.strftime(\"%Y-%m-%d %j %H:%M:%S\")\n",
    "time.strftime(\"%Y-%m-%d %W %H:%M:%S\")"
   ]
  },
  {
   "cell_type": "code",
   "execution_count": 60,
   "metadata": {},
   "outputs": [
    {
     "data": {
      "text/plain": [
       "'21-03-07'"
      ]
     },
     "execution_count": 60,
     "metadata": {},
     "output_type": "execute_result"
    },
    {
     "data": {
      "text/plain": [
       "time.struct_time(tm_year=2021, tm_mon=3, tm_mday=7, tm_hour=0, tm_min=0, tm_sec=0, tm_wday=6, tm_yday=66, tm_isdst=-1)"
      ]
     },
     "execution_count": 60,
     "metadata": {},
     "output_type": "execute_result"
    }
   ],
   "source": [
    "# strptime 将字符串转化为时间元组\n",
    "dt2 = time.strftime(\"%y-%m-%d\")\n",
    "dt2\n",
    "time.strptime(dt2,\"%y-%m-%d\")"
   ]
  },
  {
   "cell_type": "markdown",
   "metadata": {},
   "source": [
    "#### datetime\n",
    "\n",
    "datetime 模块中几个常用的类如下：\n",
    "\n",
    "- date: 日期类，常用属性: year/month/day\n",
    "\n",
    "- time: 时间类，常用属性: hour/minute/second/microsecond\n",
    "\n",
    "- datetime: 日期时间类\n",
    "\n",
    "- timedelta: 时间间隔\n",
    "\n",
    "- tzinfo: 时区类"
   ]
  },
  {
   "cell_type": "markdown",
   "metadata": {},
   "source": [
    "##### date 类"
   ]
  },
  {
   "cell_type": "code",
   "execution_count": 19,
   "metadata": {},
   "outputs": [
    {
     "data": {
      "text/plain": [
       "datetime.date(2021, 3, 7)"
      ]
     },
     "execution_count": 19,
     "metadata": {},
     "output_type": "execute_result"
    },
    {
     "name": "stdout",
     "output_type": "stream",
     "text": [
      "当前日期：2021-03-07\n",
      "当前日期(字符串)：Sun Mar  7 00:00:00 2021\n",
      "时间元组信息：time.struct_time(tm_year=2021, tm_mon=3, tm_mday=7, tm_hour=0, tm_min=0, tm_sec=0, tm_wday=6, tm_yday=66, tm_isdst=-1)\n",
      "当前日期(字符串)：2021-03-07 00:00:00\n",
      "年: 2021\n",
      "月: 3\n",
      "日: 7\n",
      "星期: 6\n",
      "公历序数: 737856\n",
      "年/周数/星期: (2021, 9, 7)\n"
     ]
    }
   ],
   "source": [
    "import datetime\n",
    "\n",
    "today = datetime.date.today()\n",
    "today     #today是一个日期对象(date object)\n",
    "\n",
    "print(f\"当前日期：{today}\")\n",
    "print(f'当前日期(字符串)：{today.ctime()}')\n",
    "print(f'时间元组信息：{today.timetuple()}')\n",
    "print(f'当前日期(字符串)：{today.strftime(\"%Y-%m-%d %H:%M:%S\")}')\n",
    "print(f'年: {today.year}')\n",
    "print(f'月: {today.month}')\n",
    "print(f'日: {today.day}')\n",
    "print(f'星期: {today.weekday()}')\n",
    "print(f'公历序数: {today.toordinal()}')\n",
    "print(f'年/周数/星期: {today.isocalendar()}')    #返回一个元组（年，周数，星期）"
   ]
  },
  {
   "cell_type": "code",
   "execution_count": 11,
   "metadata": {},
   "outputs": [
    {
     "data": {
      "text/plain": [
       "737856"
      ]
     },
     "execution_count": 11,
     "metadata": {},
     "output_type": "execute_result"
    },
    {
     "name": "stdout",
     "output_type": "stream",
     "text": [
      "2021-03-07\n"
     ]
    }
   ],
   "source": [
    "tdy_ordinal = today.toordinal()\n",
    "tdy_ordinal\n",
    "print(datetime.date.fromordinal(tdy_ordinal))"
   ]
  },
  {
   "cell_type": "code",
   "execution_count": 12,
   "metadata": {},
   "outputs": [
    {
     "name": "stdout",
     "output_type": "stream",
     "text": [
      "2021-03-07\n"
     ]
    }
   ],
   "source": [
    "import time\n",
    "tsp = time.time()\n",
    "print(datetime.date.fromtimestamp(tsp))"
   ]
  },
  {
   "cell_type": "code",
   "execution_count": 25,
   "metadata": {},
   "outputs": [
    {
     "name": "stdout",
     "output_type": "stream",
     "text": [
      "2021-03-07\n",
      "2021-08-08\n",
      "2022-02-28\n"
     ]
    }
   ],
   "source": [
    "# 修改日期用replace方法\n",
    "d1 = datetime.date(2021,3,7)\n",
    "print(d1)\n",
    "d2 = d1.replace(2021,8,8)\n",
    "print(d2)\n",
    "d3 = d1.replace(year = 2022, month = 2, day = 28)\n",
    "print(d3)"
   ]
  },
  {
   "cell_type": "markdown",
   "metadata": {},
   "source": [
    "##### time 类"
   ]
  },
  {
   "cell_type": "code",
   "execution_count": 26,
   "metadata": {},
   "outputs": [
    {
     "data": {
      "text/plain": [
       "10"
      ]
     },
     "execution_count": 26,
     "metadata": {},
     "output_type": "execute_result"
    },
    {
     "data": {
      "text/plain": [
       "20"
      ]
     },
     "execution_count": 26,
     "metadata": {},
     "output_type": "execute_result"
    },
    {
     "data": {
      "text/plain": [
       "30"
      ]
     },
     "execution_count": 26,
     "metadata": {},
     "output_type": "execute_result"
    },
    {
     "data": {
      "text/plain": [
       "40"
      ]
     },
     "execution_count": 26,
     "metadata": {},
     "output_type": "execute_result"
    }
   ],
   "source": [
    "from datetime import time\n",
    "t = time(10,20,30,40)\n",
    "t.hour\n",
    "t.minute\n",
    "t.second\n",
    "t.microsecond"
   ]
  },
  {
   "cell_type": "markdown",
   "metadata": {},
   "source": [
    "##### datetime 类\n",
    "\n",
    "datetime类包含date类和time类的全部信息"
   ]
  },
  {
   "cell_type": "code",
   "execution_count": 36,
   "metadata": {},
   "outputs": [
    {
     "name": "stdout",
     "output_type": "stream",
     "text": [
      "2021-03-07 20:40:24.174652\n",
      "2021-03-07 20:40:24.175033\n",
      "2021-03-07 12:40:24.175106\n",
      "2020-09-13 20:26:40\n",
      "2021-04-20 00:00:00\n",
      "2021-03-07 20:36:01\n",
      "2021-03-07 00:00:00\n"
     ]
    }
   ],
   "source": [
    "from datetime import datetime\n",
    "from datetime import date \n",
    "\n",
    "print(datetime.today())\n",
    "print(datetime.now())\n",
    "print(datetime.utcnow())    # 返回当前UTC日期和时间的datetime对象\n",
    "print(datetime.fromtimestamp(1600000000))    #时间戳的datetime对象\n",
    "print(datetime.fromordinal(737900)) \n",
    "print(datetime.combine(date(2021,3,7), time(20,36,1)))\n",
    "print(datetime.strptime(\"2021-03-07\", \"%Y-%m-%d\"))"
   ]
  },
  {
   "cell_type": "code",
   "execution_count": 1,
   "metadata": {},
   "outputs": [
    {
     "data": {
      "text/plain": [
       "datetime.datetime(2020, 9, 8, 0, 0)"
      ]
     },
     "execution_count": 1,
     "metadata": {},
     "output_type": "execute_result"
    }
   ],
   "source": [
    "from datetime import datetime\n",
    "datetime(year = 2020, month = 9, day = 8)"
   ]
  },
  {
   "cell_type": "code",
   "execution_count": 2,
   "metadata": {},
   "outputs": [
    {
     "data": {
      "text/plain": [
       "datetime.datetime(2020, 9, 8, 11, 1)"
      ]
     },
     "execution_count": 2,
     "metadata": {},
     "output_type": "execute_result"
    }
   ],
   "source": [
    "datetime(2020, 9,8, 11,1)"
   ]
  },
  {
   "cell_type": "markdown",
   "metadata": {},
   "source": [
    "##### timedelta 类\n",
    "\n",
    "两个日期（date）或者日期时间（datetime）之间的差；\n",
    "支持参数：weeks, days, hours, minutes, seconds, milliseconds, microseconds"
   ]
  },
  {
   "cell_type": "code",
   "execution_count": 37,
   "metadata": {},
   "outputs": [
    {
     "name": "stdout",
     "output_type": "stream",
     "text": [
      "2021-03-14\n"
     ]
    }
   ],
   "source": [
    "from datetime import timedelta, date, time\n",
    "\n",
    "d = date.today()\n",
    "print(d + timedelta(days = 7))"
   ]
  },
  {
   "cell_type": "code",
   "execution_count": 42,
   "metadata": {},
   "outputs": [
    {
     "name": "stdout",
     "output_type": "stream",
     "text": [
      "2021-03-07 20:51:47.830560\n",
      "2021-03-07 20:51:47.830660\n",
      "2021-03-07 20:51:47.880560\n",
      "2021-03-21 20:51:47.830560\n"
     ]
    }
   ],
   "source": [
    "now = datetime.today()\n",
    "print(now)\n",
    "print(now + timedelta(microseconds = 100))\n",
    "print(now + timedelta(milliseconds = 50))\n",
    "print(now + timedelta(weeks=2))"
   ]
  },
  {
   "cell_type": "code",
   "execution_count": 47,
   "metadata": {},
   "outputs": [
    {
     "name": "stdout",
     "output_type": "stream",
     "text": [
      "6 days, 3:48:00\n"
     ]
    },
    {
     "data": {
      "text/plain": [
       "6"
      ]
     },
     "execution_count": 47,
     "metadata": {},
     "output_type": "execute_result"
    },
    {
     "data": {
      "text/plain": [
       "13680"
      ]
     },
     "execution_count": 47,
     "metadata": {},
     "output_type": "execute_result"
    },
    {
     "data": {
      "text/plain": [
       "532080.0"
      ]
     },
     "execution_count": 47,
     "metadata": {},
     "output_type": "execute_result"
    }
   ],
   "source": [
    "delta = datetime(2021,3,7) - datetime(2021,2,28,20,12)\n",
    "print(delta)\n",
    "delta.days\n",
    "delta.seconds\n",
    "delta.total_seconds()    #全部转成秒"
   ]
  },
  {
   "cell_type": "markdown",
   "metadata": {},
   "source": [
    "##### tzinfo 类\n",
    "\n",
    "datetime类有一个时区属性tzinfo。\n",
    "\n",
    "tzinfo是一个关于时区信息的类，是一个抽象的类，不能直接被实例化来使用。\n",
    "\n",
    "它的默认值是None，无法区分具体是哪个时区，需要我们强制指定一个后才能使用。\n"
   ]
  },
  {
   "cell_type": "code",
   "execution_count": 48,
   "metadata": {},
   "outputs": [
    {
     "name": "stdout",
     "output_type": "stream",
     "text": [
      "UTC+08:00\n"
     ]
    }
   ],
   "source": [
    "from datetime import date, datetime, timedelta, timezone\n",
    "\n",
    "tz_utc_8 = timezone(timedelta(hours = 8))    #创建时区\n",
    "print(tz_utc_8)"
   ]
  },
  {
   "cell_type": "code",
   "execution_count": 49,
   "metadata": {},
   "outputs": [
    {
     "name": "stdout",
     "output_type": "stream",
     "text": [
      "2021-03-07 21:01:21.016816\n",
      "2021-03-07 21:01:21.016816+08:00\n"
     ]
    }
   ],
   "source": [
    "now = datetime.now()\n",
    "print(now)\n",
    "new_time = now.replace(tzinfo = tz_utc_8)\n",
    "print(new_time)"
   ]
  },
  {
   "cell_type": "markdown",
   "metadata": {},
   "source": [
    "##### 时区的切换"
   ]
  },
  {
   "cell_type": "code",
   "execution_count": 54,
   "metadata": {},
   "outputs": [
    {
     "name": "stdout",
     "output_type": "stream",
     "text": [
      "2021-03-07 13:09:56.140474+00:00\n",
      "2021-03-07 21:09:56.140474+08:00\n",
      "2021-03-07 22:09:56.140474+09:00\n",
      "2021-03-07 22:09:56.140474+09:00\n"
     ]
    }
   ],
   "source": [
    "# utcnow()获取到当前的utc时间\n",
    "utc_now = datetime.utcnow().replace(tzinfo = timezone.utc)    #指定utc时区\n",
    "print(utc_now)\n",
    "\n",
    "# astimezone() 切换到东八区\n",
    "beijing = utc_now.astimezone(timezone(timedelta(hours=8)))\n",
    "print(beijing)\n",
    "\n",
    "# 同样地切到东九区\n",
    "tokyo = utc_now.astimezone(timezone(timedelta(hours = 9)))\n",
    "print(tokyo)\n",
    "\n",
    "# 北京时间直接切到东京时间\n",
    "tokyo_new = beijing.astimezone(timezone(timedelta(hours = 9)))\n",
    "print(tokyo_new)"
   ]
  },
  {
   "cell_type": "markdown",
   "metadata": {},
   "source": [
    "#### 常用时间转化\n",
    "\n",
    "##### 时间戳转化为日期\n",
    "\n",
    "- time.localtime() : 将时间戳转成时间元组形式\n",
    "\n",
    "- time.strftime() : 将时间元组数据转成需要的形式"
   ]
  },
  {
   "cell_type": "code",
   "execution_count": 57,
   "metadata": {},
   "outputs": [
    {
     "data": {
      "text/plain": [
       "'2021/March/07 21:26:28'"
      ]
     },
     "execution_count": 57,
     "metadata": {},
     "output_type": "execute_result"
    }
   ],
   "source": [
    "import time\n",
    "now_tsp = time.time()    #获取当前时间的时间戳\n",
    "\n",
    "now_tuple = time.localtime(now_tsp)    #转成时间元组\n",
    "time.strftime(\"%Y/%B/%d %H:%M:%S\",now_tuple)    #转成指定格式"
   ]
  },
  {
   "cell_type": "code",
   "execution_count": 66,
   "metadata": {},
   "outputs": [
    {
     "name": "stdout",
     "output_type": "stream",
     "text": [
      "时间元组数据：time.struct_time(tm_year=2021, tm_mon=5, tm_mday=3, tm_hour=16, tm_min=20, tm_sec=0, tm_wday=0, tm_yday=123, tm_isdst=0)\n"
     ]
    },
    {
     "data": {
      "text/plain": [
       "'2021/May/03 16:20:00'"
      ]
     },
     "execution_count": 66,
     "metadata": {},
     "output_type": "execute_result"
    }
   ],
   "source": [
    "tsp = 1620030000    #指定时间戳\n",
    "\n",
    "t_tuple = time.localtime(tsp)    #获取时间元组形式数据\n",
    "print(f\"时间元组数据：{t_tuple}\")\n",
    "time.strftime(\"%Y/%B/%d %H:%M:%S\",t_tuple)    #格式化"
   ]
  },
  {
   "cell_type": "code",
   "execution_count": 68,
   "metadata": {},
   "outputs": [
    {
     "data": {
      "text/plain": [
       "'Wed Dec  6 16:52:21 2023'"
      ]
     },
     "execution_count": 68,
     "metadata": {},
     "output_type": "execute_result"
    }
   ],
   "source": [
    "# 如果不想指定具体的格式，只想获取时间戳对应的时间，直接通过time.ctime()\n",
    "time.ctime(1701852741)\n"
   ]
  },
  {
   "cell_type": "markdown",
   "metadata": {},
   "source": [
    "##### 日期时间转化成时间戳\n",
    "\n",
    "- strptime() : 将date转换成时间元组形式\n",
    "\n",
    "- mktime() : 将时间元组转换成时间戳"
   ]
  },
  {
   "cell_type": "code",
   "execution_count": 70,
   "metadata": {},
   "outputs": [
    {
     "name": "stdout",
     "output_type": "stream",
     "text": [
      "时间元组：time.struct_time(tm_year=2021, tm_mon=3, tm_mday=7, tm_hour=21, tm_min=44, tm_sec=40, tm_wday=6, tm_yday=66, tm_isdst=-1)\n"
     ]
    },
    {
     "data": {
      "text/plain": [
       "1615124680.0"
      ]
     },
     "execution_count": 70,
     "metadata": {},
     "output_type": "execute_result"
    }
   ],
   "source": [
    "date = \"2021-3-7 21:44:40\"\n",
    "\n",
    "date_array = time.strptime(date, \"%Y-%m-%d %H:%M:%S\")\n",
    "print(f\"时间元组：{date_array}\")\n",
    "time.mktime(date_array)"
   ]
  },
  {
   "cell_type": "markdown",
   "metadata": {},
   "source": [
    "##### 格式化时间\n",
    "\n",
    "- strptime() : 将时间转化为时间元组\n",
    "\n",
    "- strftime() : 重新格式化时间"
   ]
  },
  {
   "cell_type": "code",
   "execution_count": 78,
   "metadata": {},
   "outputs": [
    {
     "name": "stdout",
     "output_type": "stream",
     "text": [
      "原格式时间：2021-1-1 21:50:50\n",
      "新格式时间：20210101 00 21:50:50\n"
     ]
    }
   ],
   "source": [
    "old = \"2021-1-1 21:50:50\"\n",
    "time_tuple = time.strptime(old,\"%Y-%m-%d %H:%M:%S\")    # 转化为时间元组\n",
    "new = time.strftime(\"%Y%m%d %U %H:%M:%S\", time_tuple)\n",
    "\n",
    "print(f\"原格式时间：{old}\")\n",
    "print(f\"新格式时间：{new}\")"
   ]
  },
  {
   "cell_type": "markdown",
   "metadata": {},
   "source": [
    "##### 指定格式获取当前时间"
   ]
  },
  {
   "cell_type": "code",
   "execution_count": 73,
   "metadata": {},
   "outputs": [
    {
     "name": "stdout",
     "output_type": "stream",
     "text": [
      "2021/03/07 21:56:18\n"
     ]
    }
   ],
   "source": [
    "old_time = time.time()\n",
    "time_tuple = time.localtime(old_time)\n",
    "new_time = time.strftime(\"%Y/%m%/%d %H:%M:%S\", time_tuple)\n",
    "print(new_time)"
   ]
  },
  {
   "cell_type": "code",
   "execution_count": null,
   "metadata": {},
   "outputs": [],
   "source": []
  },
  {
   "cell_type": "code",
   "execution_count": null,
   "metadata": {},
   "outputs": [],
   "source": []
  },
  {
   "cell_type": "markdown",
   "metadata": {},
   "source": [
    "#### python dateutil module"
   ]
  },
  {
   "cell_type": "code",
   "execution_count": 3,
   "metadata": {},
   "outputs": [
    {
     "data": {
      "text/plain": [
       "datetime.datetime(2020, 9, 8, 0, 0)"
      ]
     },
     "execution_count": 3,
     "metadata": {},
     "output_type": "execute_result"
    }
   ],
   "source": [
    "from dateutil import parser\n",
    "date = parser.parse('8th of September, 2020')    # parse to a datetime.datetime object\n",
    "date"
   ]
  },
  {
   "cell_type": "markdown",
   "metadata": {},
   "source": [
    "Complete strftime() behavior\n",
    "\n",
    "file:///C:/work2/python-3.7.7-docs-html/library/datetime.html?highlight=datetime#strftime-strptime-behavior"
   ]
  },
  {
   "cell_type": "markdown",
   "metadata": {},
   "source": [
    "### Numpy datetime64\n",
    "\n",
    "- datetime64数据类型将日期时间编码成一个64位整数。"
   ]
  },
  {
   "cell_type": "code",
   "execution_count": 6,
   "metadata": {},
   "outputs": [
    {
     "data": {
      "text/plain": [
       "array('2020-09-08', dtype='datetime64[D]')"
      ]
     },
     "execution_count": 6,
     "metadata": {},
     "output_type": "execute_result"
    }
   ],
   "source": [
    "import numpy as np\n",
    "\n",
    "date= np.array('2020-09-08', dtype=np.datetime64)\n",
    "date"
   ]
  },
  {
   "cell_type": "code",
   "execution_count": 7,
   "metadata": {},
   "outputs": [
    {
     "data": {
      "text/plain": [
       "array(['2020-09-08', '2020-09-09', '2020-09-10', '2020-09-11',\n",
       "       '2020-09-12', '2020-09-13', '2020-09-14', '2020-09-15',\n",
       "       '2020-09-16', '2020-09-17', '2020-09-18', '2020-09-19'],\n",
       "      dtype='datetime64[D]')"
      ]
     },
     "execution_count": 7,
     "metadata": {},
     "output_type": "execute_result"
    }
   ],
   "source": [
    "date + np.arange(12)"
   ]
  },
  {
   "cell_type": "markdown",
   "metadata": {},
   "source": [
    "### Pandas Timestamp"
   ]
  },
  {
   "cell_type": "code",
   "execution_count": 8,
   "metadata": {},
   "outputs": [
    {
     "data": {
      "text/plain": [
       "Timestamp('2020-09-08 00:00:00')"
      ]
     },
     "execution_count": 8,
     "metadata": {},
     "output_type": "execute_result"
    }
   ],
   "source": [
    "import pandas as pd \n",
    "date = pd.to_datetime('8th of September, 2020')\n",
    "date"
   ]
  },
  {
   "cell_type": "code",
   "execution_count": 9,
   "metadata": {},
   "outputs": [
    {
     "data": {
      "text/plain": [
       "'Tuesday'"
      ]
     },
     "execution_count": 9,
     "metadata": {},
     "output_type": "execute_result"
    }
   ],
   "source": [
    "date.strftime('%A')"
   ]
  },
  {
   "cell_type": "code",
   "execution_count": 10,
   "metadata": {},
   "outputs": [
    {
     "data": {
      "text/plain": [
       "DatetimeIndex(['2020-09-08', '2020-09-09', '2020-09-10', '2020-09-11',\n",
       "               '2020-09-12', '2020-09-13', '2020-09-14', '2020-09-15',\n",
       "               '2020-09-16', '2020-09-17', '2020-09-18', '2020-09-19',\n",
       "               '2020-09-20', '2020-09-21'],\n",
       "              dtype='datetime64[ns]', freq=None)"
      ]
     },
     "execution_count": 10,
     "metadata": {},
     "output_type": "execute_result"
    }
   ],
   "source": [
    "date + pd.to_timedelta(np.arange(14), 'D')"
   ]
  },
  {
   "cell_type": "markdown",
   "metadata": {},
   "source": [
    "#### 时间索引"
   ]
  },
  {
   "cell_type": "code",
   "execution_count": 11,
   "metadata": {},
   "outputs": [
    {
     "data": {
      "text/plain": [
       "2020-09-06    0\n",
       "2020-09-07    1\n",
       "2020-09-08    2\n",
       "2020-09-09    3\n",
       "dtype: int64"
      ]
     },
     "execution_count": 11,
     "metadata": {},
     "output_type": "execute_result"
    }
   ],
   "source": [
    "t_index = pd.DatetimeIndex(['2020-09-06', '2020-09-07','2020-09-08','2020-09-09'])\n",
    "data = pd.Series([0,1,2,3], index=t_index)\n",
    "data"
   ]
  },
  {
   "cell_type": "code",
   "execution_count": 12,
   "metadata": {},
   "outputs": [
    {
     "data": {
      "text/plain": [
       "2020-09-06    0\n",
       "2020-09-07    1\n",
       "2020-09-08    2\n",
       "dtype: int64"
      ]
     },
     "execution_count": 12,
     "metadata": {},
     "output_type": "execute_result"
    }
   ],
   "source": [
    "data['2020-09-05':'2020-09-08']    #时间切片的数据"
   ]
  },
  {
   "cell_type": "code",
   "execution_count": 13,
   "metadata": {},
   "outputs": [
    {
     "data": {
      "text/plain": [
       "2020-09-06    0\n",
       "2020-09-07    1\n",
       "2020-09-08    2\n",
       "2020-09-09    3\n",
       "dtype: int64"
      ]
     },
     "execution_count": 13,
     "metadata": {},
     "output_type": "execute_result"
    }
   ],
   "source": [
    "data['2020']    #得到全年数据"
   ]
  },
  {
   "cell_type": "markdown",
   "metadata": {},
   "source": [
    "#### Pandas 时间序列数据结构\n",
    "\n",
    "- 时间戳： Pandas提供**Timestamp数据类型**。它是构建在numpy.datetime64数据类型之上的。**对应的索引结构是DatetimeIndex**。\n",
    "- 时间周期： Pandas提供了**Period数据类型**。它是构建在numpy.datetime64基础上编码了一个固定周期间隔的时间。**对应的索引结构是PeriodIndex**.\n",
    "- 时间差或持续时间： Pandas提供了**Timedelta数据类型**。构建于numpy.datetime64基础上。**对应的索引结构是TimedeltaIndex**。\n",
    "\n",
    "- 虽然这些对象可以直接被创建，但是更通用的做法是使用pd.to_datetime()函数，改函数可以将多种格式的字符串解析成日期时间。\n",
    "\n",
    "- 将一个日期时间传递给pd.to_datetime()函数会得到一个Timestamp对象，将系一列日期时间传递过去得到DatetimeIndex对象。"
   ]
  },
  {
   "cell_type": "code",
   "execution_count": 14,
   "metadata": {},
   "outputs": [
    {
     "data": {
      "text/plain": [
       "DatetimeIndex(['2020-09-06', '2020-09-07', '2020-09-08', '2020-09-09',\n",
       "               '2020-09-11'],\n",
       "              dtype='datetime64[ns]', freq=None)"
      ]
     },
     "execution_count": 14,
     "metadata": {},
     "output_type": "execute_result"
    }
   ],
   "source": [
    "dates = pd.to_datetime([datetime(2020,9,6), '7th Sep, 2020', '2020-September-8', '20200909', '9/11/2020'])\n",
    "dates"
   ]
  },
  {
   "cell_type": "markdown",
   "metadata": {},
   "source": [
    "- 任何DatetimeIndex对象都能使用to_period()函数转换成PeriodIndex对象，需要额外指定一个频率的参数码。"
   ]
  },
  {
   "cell_type": "code",
   "execution_count": 15,
   "metadata": {},
   "outputs": [
    {
     "data": {
      "text/plain": [
       "PeriodIndex(['2020-09-06', '2020-09-07', '2020-09-08', '2020-09-09',\n",
       "             '2020-09-11'],\n",
       "            dtype='period[D]', freq='D')"
      ]
     },
     "execution_count": 15,
     "metadata": {},
     "output_type": "execute_result"
    }
   ],
   "source": [
    "dates.to_period('D')"
   ]
  },
  {
   "cell_type": "markdown",
   "metadata": {},
   "source": [
    "- TimedeltaIndex对象可以通过日期时间相减来创建，例如：\n"
   ]
  },
  {
   "cell_type": "code",
   "execution_count": 16,
   "metadata": {},
   "outputs": [
    {
     "data": {
      "text/plain": [
       "TimedeltaIndex(['0 days', '1 days', '2 days', '3 days', '5 days'], dtype='timedelta64[ns]', freq=None)"
      ]
     },
     "execution_count": 16,
     "metadata": {},
     "output_type": "execute_result"
    }
   ],
   "source": [
    "dates - dates[0]"
   ]
  },
  {
   "cell_type": "markdown",
   "metadata": {},
   "source": [
    "#### Pandas 规则的日期时间序列\n",
    "\n",
    "- pd.date_range()创建时间戳序列；\n",
    "- pd.period_range()创建周期序列；\n",
    "- pd.timedelta_range()创建时间差序列。"
   ]
  },
  {
   "cell_type": "code",
   "execution_count": 17,
   "metadata": {},
   "outputs": [
    {
     "data": {
      "text/plain": [
       "DatetimeIndex(['2020-09-07', '2020-09-08', '2020-09-09', '2020-09-10',\n",
       "               '2020-09-11'],\n",
       "              dtype='datetime64[ns]', freq='D')"
      ]
     },
     "execution_count": 17,
     "metadata": {},
     "output_type": "execute_result"
    }
   ],
   "source": [
    "pd.date_range('2020-09-07', '2020-09-11')    #默认的周期为1天"
   ]
  },
  {
   "cell_type": "code",
   "execution_count": 18,
   "metadata": {},
   "outputs": [
    {
     "data": {
      "text/plain": [
       "DatetimeIndex(['2020-09-06', '2020-09-07', '2020-09-08', '2020-09-09',\n",
       "               '2020-09-10', '2020-09-11', '2020-09-12', '2020-09-13'],\n",
       "              dtype='datetime64[ns]', freq='D')"
      ]
     },
     "execution_count": 18,
     "metadata": {},
     "output_type": "execute_result"
    }
   ],
   "source": [
    "pd.date_range('2020-09-06', periods = 8)    #开始时间和持续值"
   ]
  },
  {
   "cell_type": "code",
   "execution_count": 19,
   "metadata": {},
   "outputs": [
    {
     "data": {
      "text/plain": [
       "DatetimeIndex(['2020-09-08 00:00:00', '2020-09-08 01:00:00',\n",
       "               '2020-09-08 02:00:00', '2020-09-08 03:00:00',\n",
       "               '2020-09-08 04:00:00', '2020-09-08 05:00:00',\n",
       "               '2020-09-08 06:00:00', '2020-09-08 07:00:00',\n",
       "               '2020-09-08 08:00:00', '2020-09-08 09:00:00',\n",
       "               '2020-09-08 10:00:00', '2020-09-08 11:00:00'],\n",
       "              dtype='datetime64[ns]', freq='H')"
      ]
     },
     "execution_count": 19,
     "metadata": {},
     "output_type": "execute_result"
    }
   ],
   "source": [
    "pd.date_range('2020-09-08', periods=12, freq='H')    #以小时为间隔单位的时间范围"
   ]
  },
  {
   "cell_type": "code",
   "execution_count": 20,
   "metadata": {},
   "outputs": [
    {
     "data": {
      "text/plain": [
       "PeriodIndex(['2020-09', '2020-10', '2020-11', '2020-12', '2021-01', '2021-02',\n",
       "             '2021-03', '2021-04', '2021-05', '2021-06', '2021-07', '2021-08'],\n",
       "            dtype='period[M]', freq='M')"
      ]
     },
     "execution_count": 20,
     "metadata": {},
     "output_type": "execute_result"
    }
   ],
   "source": [
    "pd.period_range('2020-09', periods =12, freq = 'M')    #以月为单位的时间周期序列"
   ]
  },
  {
   "cell_type": "code",
   "execution_count": 21,
   "metadata": {},
   "outputs": [
    {
     "data": {
      "text/plain": [
       "TimedeltaIndex(['00:00:00', '01:00:00', '02:00:00', '03:00:00', '04:00:00',\n",
       "                '05:00:00', '06:00:00', '07:00:00', '08:00:00', '09:00:00',\n",
       "                '10:00:00', '11:00:00', '12:00:00'],\n",
       "               dtype='timedelta64[ns]', freq='H')"
      ]
     },
     "execution_count": 21,
     "metadata": {},
     "output_type": "execute_result"
    }
   ],
   "source": [
    "pd.timedelta_range(0, periods = 13, freq= 'H')      #以小时为单位的持续时间序列"
   ]
  },
  {
   "cell_type": "markdown",
   "metadata": {},
   "source": [
    "#### 频率和偏移值"
   ]
  },
  {
   "cell_type": "code",
   "execution_count": 22,
   "metadata": {},
   "outputs": [
    {
     "data": {
      "text/plain": [
       "TimedeltaIndex(['00:00:00', '02:30:00', '05:00:00', '07:30:00', '10:00:00',\n",
       "                '12:30:00', '15:00:00', '17:30:00', '20:00:00'],\n",
       "               dtype='timedelta64[ns]', freq='150T')"
      ]
     },
     "execution_count": 22,
     "metadata": {},
     "output_type": "execute_result"
    }
   ],
   "source": [
    "pd.timedelta_range(0, periods = 9, freq = '2H30T')"
   ]
  },
  {
   "cell_type": "markdown",
   "metadata": {},
   "source": [
    "- 上述短的符号码实际上是**Pandas时间序列偏移值**的对象实例的别名。可以在pd.tseries.offsets模块中找到这些偏移值实例。"
   ]
  },
  {
   "cell_type": "code",
   "execution_count": 23,
   "metadata": {},
   "outputs": [
    {
     "data": {
      "text/plain": [
       "DatetimeIndex(['2020-09-30', '2020-10-01', '2020-10-02', '2020-10-05',\n",
       "               '2020-10-06', '2020-10-07', '2020-10-08'],\n",
       "              dtype='datetime64[ns]', freq='B')"
      ]
     },
     "execution_count": 23,
     "metadata": {},
     "output_type": "execute_result"
    }
   ],
   "source": [
    "from pandas.tseries.offsets import BDay\n",
    "pd.date_range('2020-09-30', periods = 7, freq= BDay())"
   ]
  },
  {
   "cell_type": "markdown",
   "metadata": {},
   "source": [
    "#### 重新取样、移动和窗口"
   ]
  },
  {
   "cell_type": "code",
   "execution_count": 24,
   "metadata": {},
   "outputs": [],
   "source": [
    "from pandas_datareader import data"
   ]
  },
  {
   "cell_type": "code",
   "execution_count": 25,
   "metadata": {},
   "outputs": [
    {
     "data": {
      "text/plain": [
       "<bound method NDFrame.tail of                    High          Low         Open        Close      Volume  \\\n",
       "Date                                                                         \n",
       "2009-12-31   311.532288   308.832428   311.208527   308.832428   2448700.0   \n",
       "2010-01-04   313.579620   310.954468   312.304413   312.204773   3927000.0   \n",
       "2010-01-05   312.747742   309.609497   312.418976   310.829926   6031900.0   \n",
       "2010-01-06   311.761444   302.047852   311.761444   302.994293   7987100.0   \n",
       "2010-01-07   303.861053   295.218445   303.562164   295.940735  12876600.0   \n",
       "...                 ...          ...          ...          ...         ...   \n",
       "2020-09-01  1665.729980  1632.219971  1636.630005  1660.709961   1826700.0   \n",
       "2020-09-02  1733.180054  1666.329956  1673.775024  1728.280029   2511200.0   \n",
       "2020-09-03  1709.713989  1615.060059  1709.713989  1641.839966   3107800.0   \n",
       "2020-09-04  1645.109985  1547.613037  1624.260010  1591.040039   2608600.0   \n",
       "2020-09-08  1563.864990  1528.010010  1533.510010  1532.390015   2608000.0   \n",
       "\n",
       "              Adj Close  \n",
       "Date                     \n",
       "2009-12-31   308.832428  \n",
       "2010-01-04   312.204773  \n",
       "2010-01-05   310.829926  \n",
       "2010-01-06   302.994293  \n",
       "2010-01-07   295.940735  \n",
       "...                 ...  \n",
       "2020-09-01  1660.709961  \n",
       "2020-09-02  1728.280029  \n",
       "2020-09-03  1641.839966  \n",
       "2020-09-04  1591.040039  \n",
       "2020-09-08  1532.390015  \n",
       "\n",
       "[2690 rows x 6 columns]>"
      ]
     },
     "execution_count": 25,
     "metadata": {},
     "output_type": "execute_result"
    }
   ],
   "source": [
    "goog = data.DataReader('GOOG', start= '2010', end = '2021', data_source='yahoo')\n",
    "goog.tail"
   ]
  },
  {
   "cell_type": "code",
   "execution_count": 26,
   "metadata": {},
   "outputs": [
    {
     "data": {
      "text/plain": [
       "<bound method NDFrame.tail of Date\n",
       "2009-12-31     308.832428\n",
       "2010-01-04     312.204773\n",
       "2010-01-05     310.829926\n",
       "2010-01-06     302.994293\n",
       "2010-01-07     295.940735\n",
       "                 ...     \n",
       "2020-09-01    1660.709961\n",
       "2020-09-02    1728.280029\n",
       "2020-09-03    1641.839966\n",
       "2020-09-04    1591.040039\n",
       "2020-09-08    1532.390015\n",
       "Name: Close, Length: 2690, dtype: float64>"
      ]
     },
     "execution_count": 26,
     "metadata": {},
     "output_type": "execute_result"
    }
   ],
   "source": [
    "goog = goog['Close']\n",
    "goog.tail"
   ]
  },
  {
   "cell_type": "code",
   "execution_count": 28,
   "metadata": {},
   "outputs": [
    {
     "data": {
      "text/plain": [
       "<matplotlib.axes._subplots.AxesSubplot at 0x25be1a20648>"
      ]
     },
     "execution_count": 28,
     "metadata": {},
     "output_type": "execute_result"
    },
    {
     "data": {
      "image/png": "[encoded data removed]",
      "text/plain": [
       "<Figure size 432x288 with 1 Axes>"
      ]
     },
     "metadata": {},
     "output_type": "display_data"
    }
   ],
   "source": [
    "%matplotlib inline\n",
    "import matplotlib.pyplot as plt\n",
    "import seaborn\n",
    "seaborn.set()\n",
    "goog.plot()"
   ]
  },
  {
   "cell_type": "markdown",
   "metadata": {},
   "source": [
    "#### 重新采样和改变频率\n",
    "\n",
    "对数据根据更高或更低的频率重新取样。这可以通过resample()或更简单的asfreq()方法来实现。\n",
    "resample()主要进行**数据聚合**操作，而asfreq()主要进行**数据选择**操作。"
   ]
  },
  {
   "cell_type": "code",
   "execution_count": 30,
   "metadata": {},
   "outputs": [
    {
     "data": {
      "text/plain": [
       "<matplotlib.legend.Legend at 0x25be40ede48>"
      ]
     },
     "execution_count": 30,
     "metadata": {},
     "output_type": "execute_result"
    },
    {
     "data": {
      "image/png": "[encoded data removed]",
      "text/plain": [
       "<Figure size 432x288 with 1 Axes>"
      ]
     },
     "metadata": {},
     "output_type": "display_data"
    }
   ],
   "source": [
    "goog.plot(alpha = 0.5, style = '-')\n",
    "goog.resample('BA').mean().plot(style=':')    # resample()返回了这一年度的平均值\n",
    "goog.asfreq('BA').plot(style = '--')    #asfreq()返回了年末的收市值\n",
    "plt.legend(['input', 'resample', 'asfreq'], loc = 'upper left')"
   ]
  },
  {
   "cell_type": "code",
   "execution_count": 32,
   "metadata": {},
   "outputs": [
    {
     "data": {
      "text/plain": [
       "Date\n",
       "2009-12-31     308.832428\n",
       "2010-12-31     266.811472\n",
       "2011-12-30     283.424738\n",
       "2012-12-31     320.208021\n",
       "2013-12-31     440.470378\n",
       "2014-12-31     559.803290\n",
       "2015-12-31     602.005681\n",
       "2016-12-30     743.486707\n",
       "2017-12-29     921.780837\n",
       "2018-12-31    1113.225134\n",
       "2019-12-31    1188.393057\n",
       "2020-12-31    1405.043262\n",
       "Freq: BA-DEC, Name: Close, dtype: float64"
      ]
     },
     "execution_count": 32,
     "metadata": {},
     "output_type": "execute_result"
    }
   ],
   "source": [
    "goog_resample = goog.resample('BA').mean()\n",
    "goog_resample"
   ]
  },
  {
   "cell_type": "code",
   "execution_count": 33,
   "metadata": {},
   "outputs": [
    {
     "data": {
      "text/plain": [
       "Date\n",
       "2009-12-31     308.832428\n",
       "2010-12-31     295.875977\n",
       "2011-12-30     321.744019\n",
       "2012-12-31     352.369232\n",
       "2013-12-31     558.262512\n",
       "2014-12-31     524.958740\n",
       "2015-12-31     758.880005\n",
       "2016-12-30     771.820007\n",
       "2017-12-29    1046.400024\n",
       "2018-12-31    1035.609985\n",
       "2019-12-31    1337.020020\n",
       "Freq: BA-DEC, Name: Close, dtype: float64"
      ]
     },
     "execution_count": 33,
     "metadata": {},
     "output_type": "execute_result"
    }
   ],
   "source": [
    "goog_asfreq = goog.asfreq('BA')\n",
    "goog_asfreq"
   ]
  },
  {
   "cell_type": "markdown",
   "metadata": {},
   "source": [
    "#### 将工作日频率扩展为自然日频率（包括周末）"
   ]
  },
  {
   "cell_type": "code",
   "execution_count": 34,
   "metadata": {},
   "outputs": [
    {
     "name": "stderr",
     "output_type": "stream",
     "text": [
      "C:\\work2\\anaconda3\\lib\\site-packages\\ipykernel_launcher.py:7: UserWarning: Legend does not support 'b' instances.\n",
      "A proxy artist may be used instead.\n",
      "See: http://matplotlib.org/users/legend_guide.html#creating-artists-specifically-for-adding-to-the-legend-aka-proxy-artists\n",
      "  import sys\n",
      "C:\\work2\\anaconda3\\lib\\site-packages\\ipykernel_launcher.py:7: UserWarning: Legend does not support 'a' instances.\n",
      "A proxy artist may be used instead.\n",
      "See: http://matplotlib.org/users/legend_guide.html#creating-artists-specifically-for-adding-to-the-legend-aka-proxy-artists\n",
      "  import sys\n",
      "C:\\work2\\anaconda3\\lib\\site-packages\\ipykernel_launcher.py:7: UserWarning: Legend does not support 'c' instances.\n",
      "A proxy artist may be used instead.\n",
      "See: http://matplotlib.org/users/legend_guide.html#creating-artists-specifically-for-adding-to-the-legend-aka-proxy-artists\n",
      "  import sys\n",
      "C:\\work2\\anaconda3\\lib\\site-packages\\ipykernel_launcher.py:7: UserWarning: Legend does not support 'k' instances.\n",
      "A proxy artist may be used instead.\n",
      "See: http://matplotlib.org/users/legend_guide.html#creating-artists-specifically-for-adding-to-the-legend-aka-proxy-artists\n",
      "  import sys\n",
      "C:\\work2\\anaconda3\\lib\\site-packages\\ipykernel_launcher.py:7: UserWarning: Legend does not support '-' instances.\n",
      "A proxy artist may be used instead.\n",
      "See: http://matplotlib.org/users/legend_guide.html#creating-artists-specifically-for-adding-to-the-legend-aka-proxy-artists\n",
      "  import sys\n",
      "C:\\work2\\anaconda3\\lib\\site-packages\\ipykernel_launcher.py:7: UserWarning: Legend does not support 'f' instances.\n",
      "A proxy artist may be used instead.\n",
      "See: http://matplotlib.org/users/legend_guide.html#creating-artists-specifically-for-adding-to-the-legend-aka-proxy-artists\n",
      "  import sys\n",
      "C:\\work2\\anaconda3\\lib\\site-packages\\ipykernel_launcher.py:7: UserWarning: Legend does not support 'i' instances.\n",
      "A proxy artist may be used instead.\n",
      "See: http://matplotlib.org/users/legend_guide.html#creating-artists-specifically-for-adding-to-the-legend-aka-proxy-artists\n",
      "  import sys\n",
      "C:\\work2\\anaconda3\\lib\\site-packages\\ipykernel_launcher.py:7: UserWarning: Legend does not support 'l' instances.\n",
      "A proxy artist may be used instead.\n",
      "See: http://matplotlib.org/users/legend_guide.html#creating-artists-specifically-for-adding-to-the-legend-aka-proxy-artists\n",
      "  import sys\n"
     ]
    },
    {
     "data": {
      "text/plain": [
       "<matplotlib.legend.Legend at 0x25be6ed2fc8>"
      ]
     },
     "execution_count": 34,
     "metadata": {},
     "output_type": "execute_result"
    },
    {
     "data": {
      "image/png": "[encoded data removed]",
      "text/plain": [
       "<Figure size 432x288 with 2 Axes>"
      ]
     },
     "metadata": {},
     "output_type": "display_data"
    }
   ],
   "source": [
    "fig, ax = plt.subplots(2, sharex = True)\n",
    "data = goog.tail(10)\n",
    "\n",
    "data.asfreq('D').plot(ax=ax[0], marker = 'o')\n",
    "data.asfreq('D', method = 'bfill').plot(ax = ax[1], style = '-o')\n",
    "data.asfreq('D', method = 'ffill').plot(ax = ax[1], style = '--o')\n",
    "ax[1].legend(\"back-fill\", \"forward-fill\")"
   ]
  },
  {
   "cell_type": "code",
   "execution_count": null,
   "metadata": {},
   "outputs": [],
   "source": []
  }
 ],
 "metadata": {
  "kernelspec": {
   "display_name": "Python 3",
   "language": "python",
   "name": "python3"
  },
  "language_info": {
   "codemirror_mode": {
    "name": "ipython",
    "version": 3
   },
   "file_extension": ".py",
   "mimetype": "text/x-python",
   "name": "python",
   "nbconvert_exporter": "python",
   "pygments_lexer": "ipython3",
   "version": "3.8.5"
  },
  "toc": {
   "base_numbering": 1,
   "nav_menu": {},
   "number_sections": true,
   "sideBar": true,
   "skip_h1_title": false,
   "title_cell": "Table of Contents",
   "title_sidebar": "Contents",
   "toc_cell": false,
   "toc_position": {},
   "toc_section_display": true,
   "toc_window_display": true
  }
 },
 "nbformat": 4,
 "nbformat_minor": 4
}
