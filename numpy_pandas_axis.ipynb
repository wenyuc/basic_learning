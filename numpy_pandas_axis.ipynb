{
 "cells": [
  {
   "cell_type": "markdown",
   "metadata": {},
   "source": [
    "https://mp.weixin.qq.com/s/RsRbV9dleqkzdzy2xrcYMQ"
   ]
  },
  {
   "cell_type": "markdown",
   "metadata": {},
   "source": [
    "### axis=0与axis =1的含义\n",
    "axis指的就是“**轴**”，轴的取值一般是0,1,2,...其中0表示最高维，1表示次高维，...，依次推算下去。\n",
    "\n",
    "以二维结构为例：\n",
    "\n",
    "**当axis=0**, 由于0代表最高维度，因此数据中高维发生变化，而低维没有变化（但是低维相同）的数据，会自动成为一组。如:\n",
    "\n",
    "a\\[0][0],a[1][0],a[2][0],...,a[*][0]成为一组\n",
    "\n",
    "a[0][1],a[1][1],a[2][1],...,a[*][1]成为一组\n",
    "\n",
    "...\n",
    "\n",
    "**当axis=0的时候，相当于沿着列的方向，进行函数运算**。\n",
    "\n",
    "**当axis=1**, 由于1代表次高维度，因此数据中低维发生变化，而高维没有变化（但是高维相同）的数据，会自动成为一组。如:\n",
    "\n",
    "a[0][0],a[0][1],a[0][2],...,a[0][*]成为一组\n",
    "\n",
    "a[1][0],a[1][1],a[1][2],...,a[1][*]成为一组\n",
    "\n",
    "...\n",
    "\n",
    "**当axis=1的时候，相当于沿着行的方向，进行函数运算**。\n"
   ]
  },
  {
   "cell_type": "code",
   "execution_count": 3,
   "metadata": {},
   "outputs": [
    {
     "data": {
      "text/plain": [
       "array([[ 0,  1,  2,  3],\n",
       "       [ 4,  5,  6,  7],\n",
       "       [ 8,  9, 10, 11],\n",
       "       [12, 13, 14, 15]])"
      ]
     },
     "execution_count": 3,
     "metadata": {},
     "output_type": "execute_result"
    }
   ],
   "source": [
    "import numpy as np\n",
    "\n",
    "x = np.arange(16).reshape(4,4)\n",
    "xa"
   ]
  },
  {
   "cell_type": "code",
   "execution_count": 4,
   "metadata": {},
   "outputs": [
    {
     "data": {
      "text/plain": [
       "array([24, 28, 32, 36])"
      ]
     },
     "metadata": {},
     "output_type": "display_data"
    },
    {
     "data": {
      "text/plain": [
       "array([ 6, 22, 38, 54])"
      ]
     },
     "metadata": {},
     "output_type": "display_data"
    }
   ],
   "source": [
    "display(x.sum(axis=0))\n",
    "display(x.sum(axis=1))"
   ]
  },
  {
   "cell_type": "code",
   "execution_count": null,
   "metadata": {},
   "outputs": [],
   "source": []
  }
 ],
 "metadata": {
  "kernelspec": {
   "display_name": "Python 3",
   "language": "python",
   "name": "python3"
  },
  "language_info": {
   "codemirror_mode": {
    "name": "ipython",
    "version": 3
   },
   "file_extension": ".py",
   "mimetype": "text/x-python",
   "name": "python",
   "nbconvert_exporter": "python",
   "pygments_lexer": "ipython3",
   "version": "3.8.5"
  },
  "toc": {
   "base_numbering": 1,
   "nav_menu": {},
   "number_sections": true,
   "sideBar": true,
   "skip_h1_title": false,
   "title_cell": "Table of Contents",
   "title_sidebar": "Contents",
   "toc_cell": false,
   "toc_position": {},
   "toc_section_display": true,
   "toc_window_display": false
  }
 },
 "nbformat": 4,
 "nbformat_minor": 4
}
