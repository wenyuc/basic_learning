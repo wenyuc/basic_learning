{
 "cells": [
  {
   "cell_type": "markdown",
   "metadata": {},
   "source": [
    "## Pandas 库\n",
    "\n",
    "Numpy库在处理向量化数值计算时性能优异，\n",
    "\n",
    "但是在处理更灵活、更复杂的数据时显得力不从心。\n",
    "\n",
    "如为数据加标签、处理缺失值、分组和透视表方面。\n",
    "\n",
    "基于Numpy构建的Pandas库，提供了使得数据分析更快、更简单高效的工具。\n"
   ]
  },
  {
   "cell_type": "code",
   "execution_count": 1,
   "metadata": {},
   "outputs": [],
   "source": [
    "import pandas as pd "
   ]
  },
  {
   "cell_type": "code",
   "execution_count": 2,
   "metadata": {},
   "outputs": [
    {
     "data": {
      "text/plain": [
       "a    1\n",
       "b    2\n",
       "c    3\n",
       "d    4\n",
       "dtype: object"
      ]
     },
     "execution_count": 2,
     "metadata": {},
     "output_type": "execute_result"
    }
   ],
   "source": [
    "pd.Series([1, 2, \"3\", 4], index=[\"a\", \"b\", \"c\", \"d\"])"
   ]
  },
  {
   "cell_type": "code",
   "execution_count": 3,
   "metadata": {},
   "outputs": [
    {
     "data": {
      "text/plain": [
       "a    1.0\n",
       "b    2.0\n",
       "c    3.0\n",
       "d    4.0\n",
       "dtype: float64"
      ]
     },
     "execution_count": 3,
     "metadata": {},
     "output_type": "execute_result"
    }
   ],
   "source": [
    "pd.Series([1, 2, \"3\", 4], index=[\"a\", \"b\", \"c\", \"d\"], dtype=float)"
   ]
  },
  {
   "cell_type": "code",
   "execution_count": 4,
   "metadata": {},
   "outputs": [
    {
     "data": {
      "text/plain": [
       "100    5\n",
       "200    5\n",
       "300    5\n",
       "dtype: int64"
      ]
     },
     "execution_count": 4,
     "metadata": {},
     "output_type": "execute_result"
    }
   ],
   "source": [
    "pd.Series(5, index=[100, 200, 300])"
   ]
  },
  {
   "cell_type": "code",
   "execution_count": 5,
   "metadata": {},
   "outputs": [
    {
     "data": {
      "text/plain": [
       "{'Beijing': 2154, 'Shanghai': 2454, 'Shenzhen': 2017, 'Chengdu': 2019}"
      ]
     },
     "execution_count": 5,
     "metadata": {},
     "output_type": "execute_result"
    }
   ],
   "source": [
    "population_dict = {\"Beijing\": 2154, \"Shanghai\":2454, \"Shenzhen\":2017, \"Chengdu\":2019}\n",
    "population_dict"
   ]
  },
  {
   "cell_type": "code",
   "execution_count": 6,
   "metadata": {},
   "outputs": [
    {
     "data": {
      "text/plain": [
       "Beijing     2154\n",
       "Shanghai    2454\n",
       "Shenzhen    2017\n",
       "Chengdu     2019\n",
       "dtype: int64"
      ]
     },
     "execution_count": 6,
     "metadata": {},
     "output_type": "execute_result"
    }
   ],
   "source": [
    "population_ser= pd.Series(population_dict)\n",
    "population_ser"
   ]
  },
  {
   "cell_type": "code",
   "execution_count": 7,
   "metadata": {},
   "outputs": [
    {
     "data": {
      "text/html": [
       "<div>\n",
       "<style scoped>\n",
       "    .dataframe tbody tr th:only-of-type {\n",
       "        vertical-align: middle;\n",
       "    }\n",
       "\n",
       "    .dataframe tbody tr th {\n",
       "        vertical-align: top;\n",
       "    }\n",
       "\n",
       "    .dataframe thead th {\n",
       "        text-align: right;\n",
       "    }\n",
       "</style>\n",
       "<table border=\"1\" class=\"dataframe\">\n",
       "  <thead>\n",
       "    <tr style=\"text-align: right;\">\n",
       "      <th></th>\n",
       "      <th>population</th>\n",
       "    </tr>\n",
       "  </thead>\n",
       "  <tbody>\n",
       "    <tr>\n",
       "      <th>Beijing</th>\n",
       "      <td>2154</td>\n",
       "    </tr>\n",
       "    <tr>\n",
       "      <th>Shanghai</th>\n",
       "      <td>2454</td>\n",
       "    </tr>\n",
       "    <tr>\n",
       "      <th>Shenzhen</th>\n",
       "      <td>2017</td>\n",
       "    </tr>\n",
       "    <tr>\n",
       "      <th>Chengdu</th>\n",
       "      <td>2019</td>\n",
       "    </tr>\n",
       "  </tbody>\n",
       "</table>\n",
       "</div>"
      ],
      "text/plain": [
       "          population\n",
       "Beijing         2154\n",
       "Shanghai        2454\n",
       "Shenzhen        2017\n",
       "Chengdu         2019"
      ]
     },
     "execution_count": 7,
     "metadata": {},
     "output_type": "execute_result"
    }
   ],
   "source": [
    "pd.DataFrame({\"population\": population_ser})"
   ]
  },
  {
   "cell_type": "code",
   "execution_count": 12,
   "metadata": {},
   "outputs": [
    {
     "data": {
      "text/plain": [
       "{'Beijing': 465780, 'Shanghai': 48654, 'Chengdu': 32189, 'Shenzhen': 39865}"
      ]
     },
     "execution_count": 12,
     "metadata": {},
     "output_type": "execute_result"
    }
   ],
   "source": [
    "gdp_dict={\"Beijing\":465780, \"Shanghai\":48654, \"Chengdu\":32189, \"Shenzhen\":39865}\n",
    "gdp_dict"
   ]
  },
  {
   "cell_type": "code",
   "execution_count": 13,
   "metadata": {},
   "outputs": [
    {
     "data": {
      "text/plain": [
       "Beijing     465780\n",
       "Shanghai     48654\n",
       "Chengdu      32189\n",
       "Shenzhen     39865\n",
       "dtype: int64"
      ]
     },
     "execution_count": 13,
     "metadata": {},
     "output_type": "execute_result"
    }
   ],
   "source": [
    "gdp_ser = pd.Series(gdp_dict)\n",
    "gdp_ser"
   ]
  },
  {
   "cell_type": "code",
   "execution_count": 21,
   "metadata": {},
   "outputs": [
    {
     "data": {
      "text/html": [
       "<div>\n",
       "<style scoped>\n",
       "    .dataframe tbody tr th:only-of-type {\n",
       "        vertical-align: middle;\n",
       "    }\n",
       "\n",
       "    .dataframe tbody tr th {\n",
       "        vertical-align: top;\n",
       "    }\n",
       "\n",
       "    .dataframe thead th {\n",
       "        text-align: right;\n",
       "    }\n",
       "</style>\n",
       "<table border=\"1\" class=\"dataframe\">\n",
       "  <thead>\n",
       "    <tr style=\"text-align: right;\">\n",
       "      <th></th>\n",
       "      <th>population</th>\n",
       "      <th>gdp</th>\n",
       "    </tr>\n",
       "  </thead>\n",
       "  <tbody>\n",
       "    <tr>\n",
       "      <th>Beijing</th>\n",
       "      <td>2154</td>\n",
       "      <td>465780</td>\n",
       "    </tr>\n",
       "    <tr>\n",
       "      <th>Chengdu</th>\n",
       "      <td>2019</td>\n",
       "      <td>32189</td>\n",
       "    </tr>\n",
       "    <tr>\n",
       "      <th>Shanghai</th>\n",
       "      <td>2454</td>\n",
       "      <td>48654</td>\n",
       "    </tr>\n",
       "    <tr>\n",
       "      <th>Shenzhen</th>\n",
       "      <td>2017</td>\n",
       "      <td>39865</td>\n",
       "    </tr>\n",
       "  </tbody>\n",
       "</table>\n",
       "</div>"
      ],
      "text/plain": [
       "          population     gdp\n",
       "Beijing         2154  465780\n",
       "Chengdu         2019   32189\n",
       "Shanghai        2454   48654\n",
       "Shenzhen        2017   39865"
      ]
     },
     "execution_count": 21,
     "metadata": {},
     "output_type": "execute_result"
    }
   ],
   "source": [
    "df1 = pd.DataFrame({\"population\":population_ser, \"gdp\": gdp_ser})\n",
    "df1 "
   ]
  },
  {
   "cell_type": "code",
   "execution_count": 22,
   "metadata": {},
   "outputs": [
    {
     "data": {
      "text/html": [
       "<div>\n",
       "<style scoped>\n",
       "    .dataframe tbody tr th:only-of-type {\n",
       "        vertical-align: middle;\n",
       "    }\n",
       "\n",
       "    .dataframe tbody tr th {\n",
       "        vertical-align: top;\n",
       "    }\n",
       "\n",
       "    .dataframe thead th {\n",
       "        text-align: right;\n",
       "    }\n",
       "</style>\n",
       "<table border=\"1\" class=\"dataframe\">\n",
       "  <thead>\n",
       "    <tr style=\"text-align: right;\">\n",
       "      <th></th>\n",
       "      <th>population</th>\n",
       "      <th>gdp</th>\n",
       "      <th>country</th>\n",
       "    </tr>\n",
       "  </thead>\n",
       "  <tbody>\n",
       "    <tr>\n",
       "      <th>Beijing</th>\n",
       "      <td>2154</td>\n",
       "      <td>465780</td>\n",
       "      <td>China</td>\n",
       "    </tr>\n",
       "    <tr>\n",
       "      <th>Chengdu</th>\n",
       "      <td>2019</td>\n",
       "      <td>32189</td>\n",
       "      <td>China</td>\n",
       "    </tr>\n",
       "    <tr>\n",
       "      <th>Shanghai</th>\n",
       "      <td>2454</td>\n",
       "      <td>48654</td>\n",
       "      <td>China</td>\n",
       "    </tr>\n",
       "    <tr>\n",
       "      <th>Shenzhen</th>\n",
       "      <td>2017</td>\n",
       "      <td>39865</td>\n",
       "      <td>China</td>\n",
       "    </tr>\n",
       "  </tbody>\n",
       "</table>\n",
       "</div>"
      ],
      "text/plain": [
       "          population     gdp country\n",
       "Beijing         2154  465780   China\n",
       "Chengdu         2019   32189   China\n",
       "Shanghai        2454   48654   China\n",
       "Shenzhen        2017   39865   China"
      ]
     },
     "execution_count": 22,
     "metadata": {},
     "output_type": "execute_result"
    }
   ],
   "source": [
    "df2 = pd.DataFrame({\"population\":population_ser, \"gdp\": gdp_ser, \"country\":\"China\"})\n",
    "df2"
   ]
  },
  {
   "cell_type": "code",
   "execution_count": 23,
   "metadata": {},
   "outputs": [
    {
     "data": {
      "text/plain": [
       "array([[  2154, 465780],\n",
       "       [  2019,  32189],\n",
       "       [  2454,  48654],\n",
       "       [  2017,  39865]])"
      ]
     },
     "execution_count": 23,
     "metadata": {},
     "output_type": "execute_result"
    }
   ],
   "source": [
    "df1.values"
   ]
  },
  {
   "cell_type": "code",
   "execution_count": 27,
   "metadata": {},
   "outputs": [
    {
     "data": {
      "text/plain": [
       "Index(['Beijing', 'Chengdu', 'Shanghai', 'Shenzhen'], dtype='object')"
      ]
     },
     "execution_count": 27,
     "metadata": {},
     "output_type": "execute_result"
    }
   ],
   "source": [
    "df1.index"
   ]
  },
  {
   "cell_type": "code",
   "execution_count": 26,
   "metadata": {},
   "outputs": [
    {
     "data": {
      "text/plain": [
       "Index(['population', 'gdp'], dtype='object')"
      ]
     },
     "execution_count": 26,
     "metadata": {},
     "output_type": "execute_result"
    }
   ],
   "source": [
    "df1.columns"
   ]
  },
  {
   "cell_type": "code",
   "execution_count": 28,
   "metadata": {},
   "outputs": [
    {
     "data": {
      "text/plain": [
       "population    int64\n",
       "gdp           int64\n",
       "dtype: object"
      ]
     },
     "execution_count": 28,
     "metadata": {},
     "output_type": "execute_result"
    }
   ],
   "source": [
    "df1.dtypes"
   ]
  },
  {
   "cell_type": "code",
   "execution_count": 29,
   "metadata": {},
   "outputs": [
    {
     "data": {
      "text/plain": [
       "8"
      ]
     },
     "execution_count": 29,
     "metadata": {},
     "output_type": "execute_result"
    }
   ],
   "source": [
    "df1.size"
   ]
  },
  {
   "cell_type": "code",
   "execution_count": 30,
   "metadata": {},
   "outputs": [
    {
     "data": {
      "text/plain": [
       "(4, 2)"
      ]
     },
     "execution_count": 30,
     "metadata": {},
     "output_type": "execute_result"
    }
   ],
   "source": [
    "df1.shape"
   ]
  },
  {
   "cell_type": "markdown",
   "metadata": {},
   "source": [
    "**获取列**"
   ]
  },
  {
   "cell_type": "code",
   "execution_count": 31,
   "metadata": {},
   "outputs": [
    {
     "data": {
      "text/html": [
       "<div>\n",
       "<style scoped>\n",
       "    .dataframe tbody tr th:only-of-type {\n",
       "        vertical-align: middle;\n",
       "    }\n",
       "\n",
       "    .dataframe tbody tr th {\n",
       "        vertical-align: top;\n",
       "    }\n",
       "\n",
       "    .dataframe thead th {\n",
       "        text-align: right;\n",
       "    }\n",
       "</style>\n",
       "<table border=\"1\" class=\"dataframe\">\n",
       "  <thead>\n",
       "    <tr style=\"text-align: right;\">\n",
       "      <th></th>\n",
       "      <th>population</th>\n",
       "      <th>gdp</th>\n",
       "    </tr>\n",
       "  </thead>\n",
       "  <tbody>\n",
       "    <tr>\n",
       "      <th>Beijing</th>\n",
       "      <td>2154</td>\n",
       "      <td>465780</td>\n",
       "    </tr>\n",
       "    <tr>\n",
       "      <th>Chengdu</th>\n",
       "      <td>2019</td>\n",
       "      <td>32189</td>\n",
       "    </tr>\n",
       "    <tr>\n",
       "      <th>Shanghai</th>\n",
       "      <td>2454</td>\n",
       "      <td>48654</td>\n",
       "    </tr>\n",
       "    <tr>\n",
       "      <th>Shenzhen</th>\n",
       "      <td>2017</td>\n",
       "      <td>39865</td>\n",
       "    </tr>\n",
       "  </tbody>\n",
       "</table>\n",
       "</div>"
      ],
      "text/plain": [
       "          population     gdp\n",
       "Beijing         2154  465780\n",
       "Chengdu         2019   32189\n",
       "Shanghai        2454   48654\n",
       "Shenzhen        2017   39865"
      ]
     },
     "execution_count": 31,
     "metadata": {},
     "output_type": "execute_result"
    }
   ],
   "source": [
    "df1[[\"population\", \"gdp\"]]"
   ]
  },
  {
   "cell_type": "code",
   "execution_count": 34,
   "metadata": {},
   "outputs": [
    {
     "data": {
      "text/plain": [
       "Beijing     465780\n",
       "Chengdu      32189\n",
       "Shanghai     48654\n",
       "Shenzhen     39865\n",
       "Name: gdp, dtype: int64"
      ]
     },
     "execution_count": 34,
     "metadata": {},
     "output_type": "execute_result"
    }
   ],
   "source": [
    "df1.gdp"
   ]
  },
  {
   "cell_type": "markdown",
   "metadata": {},
   "source": [
    "**获取行**"
   ]
  },
  {
   "cell_type": "code",
   "execution_count": 36,
   "metadata": {},
   "outputs": [
    {
     "data": {
      "text/plain": [
       "population      2154\n",
       "gdp           465780\n",
       "Name: Beijing, dtype: int64"
      ]
     },
     "execution_count": 36,
     "metadata": {},
     "output_type": "execute_result"
    }
   ],
   "source": [
    "df1.loc['Beijing']"
   ]
  },
  {
   "cell_type": "code",
   "execution_count": 37,
   "metadata": {},
   "outputs": [
    {
     "data": {
      "text/html": [
       "<div>\n",
       "<style scoped>\n",
       "    .dataframe tbody tr th:only-of-type {\n",
       "        vertical-align: middle;\n",
       "    }\n",
       "\n",
       "    .dataframe tbody tr th {\n",
       "        vertical-align: top;\n",
       "    }\n",
       "\n",
       "    .dataframe thead th {\n",
       "        text-align: right;\n",
       "    }\n",
       "</style>\n",
       "<table border=\"1\" class=\"dataframe\">\n",
       "  <thead>\n",
       "    <tr style=\"text-align: right;\">\n",
       "      <th></th>\n",
       "      <th>population</th>\n",
       "      <th>gdp</th>\n",
       "    </tr>\n",
       "  </thead>\n",
       "  <tbody>\n",
       "    <tr>\n",
       "      <th>Beijing</th>\n",
       "      <td>2154</td>\n",
       "      <td>465780</td>\n",
       "    </tr>\n",
       "    <tr>\n",
       "      <th>Chengdu</th>\n",
       "      <td>2019</td>\n",
       "      <td>32189</td>\n",
       "    </tr>\n",
       "  </tbody>\n",
       "</table>\n",
       "</div>"
      ],
      "text/plain": [
       "         population     gdp\n",
       "Beijing        2154  465780\n",
       "Chengdu        2019   32189"
      ]
     },
     "execution_count": 37,
     "metadata": {},
     "output_type": "execute_result"
    }
   ],
   "source": [
    "df1.loc[[\"Beijing\", \"Chengdu\"]]"
   ]
  },
  {
   "cell_type": "code",
   "execution_count": 38,
   "metadata": {},
   "outputs": [
    {
     "data": {
      "text/html": [
       "<div>\n",
       "<style scoped>\n",
       "    .dataframe tbody tr th:only-of-type {\n",
       "        vertical-align: middle;\n",
       "    }\n",
       "\n",
       "    .dataframe tbody tr th {\n",
       "        vertical-align: top;\n",
       "    }\n",
       "\n",
       "    .dataframe thead th {\n",
       "        text-align: right;\n",
       "    }\n",
       "</style>\n",
       "<table border=\"1\" class=\"dataframe\">\n",
       "  <thead>\n",
       "    <tr style=\"text-align: right;\">\n",
       "      <th></th>\n",
       "      <th>population</th>\n",
       "      <th>gdp</th>\n",
       "    </tr>\n",
       "  </thead>\n",
       "  <tbody>\n",
       "    <tr>\n",
       "      <th>Beijing</th>\n",
       "      <td>2154</td>\n",
       "      <td>465780</td>\n",
       "    </tr>\n",
       "    <tr>\n",
       "      <th>Chengdu</th>\n",
       "      <td>2019</td>\n",
       "      <td>32189</td>\n",
       "    </tr>\n",
       "    <tr>\n",
       "      <th>Shanghai</th>\n",
       "      <td>2454</td>\n",
       "      <td>48654</td>\n",
       "    </tr>\n",
       "    <tr>\n",
       "      <th>Shenzhen</th>\n",
       "      <td>2017</td>\n",
       "      <td>39865</td>\n",
       "    </tr>\n",
       "  </tbody>\n",
       "</table>\n",
       "</div>"
      ],
      "text/plain": [
       "          population     gdp\n",
       "Beijing         2154  465780\n",
       "Chengdu         2019   32189\n",
       "Shanghai        2454   48654\n",
       "Shenzhen        2017   39865"
      ]
     },
     "execution_count": 38,
     "metadata": {},
     "output_type": "execute_result"
    }
   ],
   "source": [
    "df1.iloc[[0,1,2,3]]"
   ]
  },
  {
   "cell_type": "code",
   "execution_count": 40,
   "metadata": {},
   "outputs": [
    {
     "data": {
      "text/plain": [
       "2019"
      ]
     },
     "execution_count": 40,
     "metadata": {},
     "output_type": "execute_result"
    }
   ],
   "source": [
    "df1.loc['Chengdu',\"population\"]"
   ]
  },
  {
   "cell_type": "code",
   "execution_count": 41,
   "metadata": {},
   "outputs": [
    {
     "data": {
      "text/plain": [
       "2019"
      ]
     },
     "execution_count": 41,
     "metadata": {},
     "output_type": "execute_result"
    }
   ],
   "source": [
    "df1.iloc[1,0]"
   ]
  },
  {
   "cell_type": "code",
   "execution_count": 45,
   "metadata": {},
   "outputs": [
    {
     "data": {
      "text/plain": [
       "2019"
      ]
     },
     "execution_count": 45,
     "metadata": {},
     "output_type": "execute_result"
    }
   ],
   "source": [
    "df1.values[1][0]"
   ]
  },
  {
   "cell_type": "code",
   "execution_count": 46,
   "metadata": {},
   "outputs": [
    {
     "data": {
      "text/plain": [
       "Beijing     465780\n",
       "Chengdu      32189\n",
       "Shanghai     48654\n",
       "Shenzhen     39865\n",
       "Name: gdp, dtype: int64"
      ]
     },
     "execution_count": 46,
     "metadata": {},
     "output_type": "execute_result"
    }
   ],
   "source": [
    "df1.gdp"
   ]
  },
  {
   "cell_type": "code",
   "execution_count": 49,
   "metadata": {},
   "outputs": [
    {
     "data": {
      "text/plain": [
       "32189"
      ]
     },
     "execution_count": 49,
     "metadata": {},
     "output_type": "execute_result"
    }
   ],
   "source": [
    "df1.gdp['Chengdu']"
   ]
  },
  {
   "cell_type": "markdown",
   "metadata": {},
   "source": [
    "**切片**"
   ]
  },
  {
   "cell_type": "code",
   "execution_count": 50,
   "metadata": {},
   "outputs": [
    {
     "data": {
      "text/plain": [
       "DatetimeIndex(['2021-09-01', '2021-09-02', '2021-09-03', '2021-09-04',\n",
       "               '2021-09-05', '2021-09-06', '2021-09-07'],\n",
       "              dtype='datetime64[ns]', freq='D')"
      ]
     },
     "execution_count": 50,
     "metadata": {},
     "output_type": "execute_result"
    }
   ],
   "source": [
    "dates = pd.date_range(\"2021-09-01\", periods=7)\n",
    "dates"
   ]
  },
  {
   "cell_type": "code",
   "execution_count": 52,
   "metadata": {},
   "outputs": [
    {
     "data": {
      "text/html": [
       "<div>\n",
       "<style scoped>\n",
       "    .dataframe tbody tr th:only-of-type {\n",
       "        vertical-align: middle;\n",
       "    }\n",
       "\n",
       "    .dataframe tbody tr th {\n",
       "        vertical-align: top;\n",
       "    }\n",
       "\n",
       "    .dataframe thead th {\n",
       "        text-align: right;\n",
       "    }\n",
       "</style>\n",
       "<table border=\"1\" class=\"dataframe\">\n",
       "  <thead>\n",
       "    <tr style=\"text-align: right;\">\n",
       "      <th></th>\n",
       "      <th>A</th>\n",
       "      <th>B</th>\n",
       "      <th>C</th>\n",
       "      <th>D</th>\n",
       "    </tr>\n",
       "  </thead>\n",
       "  <tbody>\n",
       "    <tr>\n",
       "      <th>2021-09-01</th>\n",
       "      <td>-0.573962</td>\n",
       "      <td>-1.261348</td>\n",
       "      <td>-1.340880</td>\n",
       "      <td>2.248228</td>\n",
       "    </tr>\n",
       "    <tr>\n",
       "      <th>2021-09-02</th>\n",
       "      <td>-0.607340</td>\n",
       "      <td>0.324767</td>\n",
       "      <td>1.381333</td>\n",
       "      <td>0.326401</td>\n",
       "    </tr>\n",
       "    <tr>\n",
       "      <th>2021-09-03</th>\n",
       "      <td>0.759956</td>\n",
       "      <td>-0.402003</td>\n",
       "      <td>0.205071</td>\n",
       "      <td>0.568046</td>\n",
       "    </tr>\n",
       "    <tr>\n",
       "      <th>2021-09-04</th>\n",
       "      <td>-0.743258</td>\n",
       "      <td>-2.377915</td>\n",
       "      <td>-0.640160</td>\n",
       "      <td>0.610901</td>\n",
       "    </tr>\n",
       "    <tr>\n",
       "      <th>2021-09-05</th>\n",
       "      <td>1.012022</td>\n",
       "      <td>0.298562</td>\n",
       "      <td>0.679321</td>\n",
       "      <td>0.660535</td>\n",
       "    </tr>\n",
       "    <tr>\n",
       "      <th>2021-09-06</th>\n",
       "      <td>0.003410</td>\n",
       "      <td>-0.732401</td>\n",
       "      <td>-0.235786</td>\n",
       "      <td>2.305059</td>\n",
       "    </tr>\n",
       "    <tr>\n",
       "      <th>2021-09-07</th>\n",
       "      <td>-1.151633</td>\n",
       "      <td>1.547033</td>\n",
       "      <td>1.782118</td>\n",
       "      <td>0.212563</td>\n",
       "    </tr>\n",
       "  </tbody>\n",
       "</table>\n",
       "</div>"
      ],
      "text/plain": [
       "                   A         B         C         D\n",
       "2021-09-01 -0.573962 -1.261348 -1.340880  2.248228\n",
       "2021-09-02 -0.607340  0.324767  1.381333  0.326401\n",
       "2021-09-03  0.759956 -0.402003  0.205071  0.568046\n",
       "2021-09-04 -0.743258 -2.377915 -0.640160  0.610901\n",
       "2021-09-05  1.012022  0.298562  0.679321  0.660535\n",
       "2021-09-06  0.003410 -0.732401 -0.235786  2.305059\n",
       "2021-09-07 -1.151633  1.547033  1.782118  0.212563"
      ]
     },
     "execution_count": 52,
     "metadata": {},
     "output_type": "execute_result"
    }
   ],
   "source": [
    "import numpy as np\n",
    "\n",
    "df = pd.DataFrame(np.random.randn(7,4), index = dates, columns = [\"A\", \"B\", \"C\", \"D\"])\n",
    "df "
   ]
  },
  {
   "cell_type": "code",
   "execution_count": 57,
   "metadata": {},
   "outputs": [
    {
     "data": {
      "text/html": [
       "<div>\n",
       "<style scoped>\n",
       "    .dataframe tbody tr th:only-of-type {\n",
       "        vertical-align: middle;\n",
       "    }\n",
       "\n",
       "    .dataframe tbody tr th {\n",
       "        vertical-align: top;\n",
       "    }\n",
       "\n",
       "    .dataframe thead th {\n",
       "        text-align: right;\n",
       "    }\n",
       "</style>\n",
       "<table border=\"1\" class=\"dataframe\">\n",
       "  <thead>\n",
       "    <tr style=\"text-align: right;\">\n",
       "      <th></th>\n",
       "      <th>A</th>\n",
       "      <th>B</th>\n",
       "      <th>C</th>\n",
       "      <th>D</th>\n",
       "    </tr>\n",
       "  </thead>\n",
       "  <tbody>\n",
       "    <tr>\n",
       "      <th>2021-09-01</th>\n",
       "      <td>-0.573962</td>\n",
       "      <td>-1.261348</td>\n",
       "      <td>-1.340880</td>\n",
       "      <td>2.248228</td>\n",
       "    </tr>\n",
       "    <tr>\n",
       "      <th>2021-09-02</th>\n",
       "      <td>-0.607340</td>\n",
       "      <td>0.324767</td>\n",
       "      <td>1.381333</td>\n",
       "      <td>0.326401</td>\n",
       "    </tr>\n",
       "    <tr>\n",
       "      <th>2021-09-03</th>\n",
       "      <td>0.759956</td>\n",
       "      <td>-0.402003</td>\n",
       "      <td>0.205071</td>\n",
       "      <td>0.568046</td>\n",
       "    </tr>\n",
       "  </tbody>\n",
       "</table>\n",
       "</div>"
      ],
      "text/plain": [
       "                   A         B         C         D\n",
       "2021-09-01 -0.573962 -1.261348 -1.340880  2.248228\n",
       "2021-09-02 -0.607340  0.324767  1.381333  0.326401\n",
       "2021-09-03  0.759956 -0.402003  0.205071  0.568046"
      ]
     },
     "execution_count": 57,
     "metadata": {},
     "output_type": "execute_result"
    }
   ],
   "source": [
    "df['2021-09-01':'2021-09-03']"
   ]
  },
  {
   "cell_type": "code",
   "execution_count": 58,
   "metadata": {},
   "outputs": [
    {
     "data": {
      "text/html": [
       "<div>\n",
       "<style scoped>\n",
       "    .dataframe tbody tr th:only-of-type {\n",
       "        vertical-align: middle;\n",
       "    }\n",
       "\n",
       "    .dataframe tbody tr th {\n",
       "        vertical-align: top;\n",
       "    }\n",
       "\n",
       "    .dataframe thead th {\n",
       "        text-align: right;\n",
       "    }\n",
       "</style>\n",
       "<table border=\"1\" class=\"dataframe\">\n",
       "  <thead>\n",
       "    <tr style=\"text-align: right;\">\n",
       "      <th></th>\n",
       "      <th>A</th>\n",
       "      <th>B</th>\n",
       "      <th>C</th>\n",
       "      <th>D</th>\n",
       "    </tr>\n",
       "  </thead>\n",
       "  <tbody>\n",
       "    <tr>\n",
       "      <th>2021-09-01</th>\n",
       "      <td>-0.573962</td>\n",
       "      <td>-1.261348</td>\n",
       "      <td>-1.340880</td>\n",
       "      <td>2.248228</td>\n",
       "    </tr>\n",
       "    <tr>\n",
       "      <th>2021-09-02</th>\n",
       "      <td>-0.607340</td>\n",
       "      <td>0.324767</td>\n",
       "      <td>1.381333</td>\n",
       "      <td>0.326401</td>\n",
       "    </tr>\n",
       "    <tr>\n",
       "      <th>2021-09-03</th>\n",
       "      <td>0.759956</td>\n",
       "      <td>-0.402003</td>\n",
       "      <td>0.205071</td>\n",
       "      <td>0.568046</td>\n",
       "    </tr>\n",
       "  </tbody>\n",
       "</table>\n",
       "</div>"
      ],
      "text/plain": [
       "                   A         B         C         D\n",
       "2021-09-01 -0.573962 -1.261348 -1.340880  2.248228\n",
       "2021-09-02 -0.607340  0.324767  1.381333  0.326401\n",
       "2021-09-03  0.759956 -0.402003  0.205071  0.568046"
      ]
     },
     "execution_count": 58,
     "metadata": {},
     "output_type": "execute_result"
    }
   ],
   "source": [
    "df.loc[\"2021-09-01\":\"2021-09-03\",:]"
   ]
  },
  {
   "cell_type": "code",
   "execution_count": 59,
   "metadata": {},
   "outputs": [
    {
     "data": {
      "text/html": [
       "<div>\n",
       "<style scoped>\n",
       "    .dataframe tbody tr th:only-of-type {\n",
       "        vertical-align: middle;\n",
       "    }\n",
       "\n",
       "    .dataframe tbody tr th {\n",
       "        vertical-align: top;\n",
       "    }\n",
       "\n",
       "    .dataframe thead th {\n",
       "        text-align: right;\n",
       "    }\n",
       "</style>\n",
       "<table border=\"1\" class=\"dataframe\">\n",
       "  <thead>\n",
       "    <tr style=\"text-align: right;\">\n",
       "      <th></th>\n",
       "      <th>A</th>\n",
       "      <th>B</th>\n",
       "      <th>C</th>\n",
       "      <th>D</th>\n",
       "    </tr>\n",
       "  </thead>\n",
       "  <tbody>\n",
       "    <tr>\n",
       "      <th>2021-09-01</th>\n",
       "      <td>-0.573962</td>\n",
       "      <td>-1.261348</td>\n",
       "      <td>-1.340880</td>\n",
       "      <td>2.248228</td>\n",
       "    </tr>\n",
       "    <tr>\n",
       "      <th>2021-09-02</th>\n",
       "      <td>-0.607340</td>\n",
       "      <td>0.324767</td>\n",
       "      <td>1.381333</td>\n",
       "      <td>0.326401</td>\n",
       "    </tr>\n",
       "    <tr>\n",
       "      <th>2021-09-03</th>\n",
       "      <td>0.759956</td>\n",
       "      <td>-0.402003</td>\n",
       "      <td>0.205071</td>\n",
       "      <td>0.568046</td>\n",
       "    </tr>\n",
       "  </tbody>\n",
       "</table>\n",
       "</div>"
      ],
      "text/plain": [
       "                   A         B         C         D\n",
       "2021-09-01 -0.573962 -1.261348 -1.340880  2.248228\n",
       "2021-09-02 -0.607340  0.324767  1.381333  0.326401\n",
       "2021-09-03  0.759956 -0.402003  0.205071  0.568046"
      ]
     },
     "execution_count": 59,
     "metadata": {},
     "output_type": "execute_result"
    }
   ],
   "source": [
    "df.iloc[0:3,:]"
   ]
  },
  {
   "cell_type": "code",
   "execution_count": 60,
   "metadata": {},
   "outputs": [
    {
     "data": {
      "text/html": [
       "<div>\n",
       "<style scoped>\n",
       "    .dataframe tbody tr th:only-of-type {\n",
       "        vertical-align: middle;\n",
       "    }\n",
       "\n",
       "    .dataframe tbody tr th {\n",
       "        vertical-align: top;\n",
       "    }\n",
       "\n",
       "    .dataframe thead th {\n",
       "        text-align: right;\n",
       "    }\n",
       "</style>\n",
       "<table border=\"1\" class=\"dataframe\">\n",
       "  <thead>\n",
       "    <tr style=\"text-align: right;\">\n",
       "      <th></th>\n",
       "      <th>A</th>\n",
       "      <th>B</th>\n",
       "      <th>C</th>\n",
       "    </tr>\n",
       "  </thead>\n",
       "  <tbody>\n",
       "    <tr>\n",
       "      <th>2021-09-01</th>\n",
       "      <td>-0.573962</td>\n",
       "      <td>-1.261348</td>\n",
       "      <td>-1.340880</td>\n",
       "    </tr>\n",
       "    <tr>\n",
       "      <th>2021-09-02</th>\n",
       "      <td>-0.607340</td>\n",
       "      <td>0.324767</td>\n",
       "      <td>1.381333</td>\n",
       "    </tr>\n",
       "    <tr>\n",
       "      <th>2021-09-03</th>\n",
       "      <td>0.759956</td>\n",
       "      <td>-0.402003</td>\n",
       "      <td>0.205071</td>\n",
       "    </tr>\n",
       "    <tr>\n",
       "      <th>2021-09-04</th>\n",
       "      <td>-0.743258</td>\n",
       "      <td>-2.377915</td>\n",
       "      <td>-0.640160</td>\n",
       "    </tr>\n",
       "    <tr>\n",
       "      <th>2021-09-05</th>\n",
       "      <td>1.012022</td>\n",
       "      <td>0.298562</td>\n",
       "      <td>0.679321</td>\n",
       "    </tr>\n",
       "    <tr>\n",
       "      <th>2021-09-06</th>\n",
       "      <td>0.003410</td>\n",
       "      <td>-0.732401</td>\n",
       "      <td>-0.235786</td>\n",
       "    </tr>\n",
       "    <tr>\n",
       "      <th>2021-09-07</th>\n",
       "      <td>-1.151633</td>\n",
       "      <td>1.547033</td>\n",
       "      <td>1.782118</td>\n",
       "    </tr>\n",
       "  </tbody>\n",
       "</table>\n",
       "</div>"
      ],
      "text/plain": [
       "                   A         B         C\n",
       "2021-09-01 -0.573962 -1.261348 -1.340880\n",
       "2021-09-02 -0.607340  0.324767  1.381333\n",
       "2021-09-03  0.759956 -0.402003  0.205071\n",
       "2021-09-04 -0.743258 -2.377915 -0.640160\n",
       "2021-09-05  1.012022  0.298562  0.679321\n",
       "2021-09-06  0.003410 -0.732401 -0.235786\n",
       "2021-09-07 -1.151633  1.547033  1.782118"
      ]
     },
     "execution_count": 60,
     "metadata": {},
     "output_type": "execute_result"
    }
   ],
   "source": [
    "df.loc[:, \"A\":\"C\"]"
   ]
  },
  {
   "cell_type": "code",
   "execution_count": 61,
   "metadata": {},
   "outputs": [
    {
     "data": {
      "text/html": [
       "<div>\n",
       "<style scoped>\n",
       "    .dataframe tbody tr th:only-of-type {\n",
       "        vertical-align: middle;\n",
       "    }\n",
       "\n",
       "    .dataframe tbody tr th {\n",
       "        vertical-align: top;\n",
       "    }\n",
       "\n",
       "    .dataframe thead th {\n",
       "        text-align: right;\n",
       "    }\n",
       "</style>\n",
       "<table border=\"1\" class=\"dataframe\">\n",
       "  <thead>\n",
       "    <tr style=\"text-align: right;\">\n",
       "      <th></th>\n",
       "      <th>A</th>\n",
       "      <th>B</th>\n",
       "      <th>C</th>\n",
       "    </tr>\n",
       "  </thead>\n",
       "  <tbody>\n",
       "    <tr>\n",
       "      <th>2021-09-01</th>\n",
       "      <td>-0.573962</td>\n",
       "      <td>-1.261348</td>\n",
       "      <td>-1.340880</td>\n",
       "    </tr>\n",
       "    <tr>\n",
       "      <th>2021-09-02</th>\n",
       "      <td>-0.607340</td>\n",
       "      <td>0.324767</td>\n",
       "      <td>1.381333</td>\n",
       "    </tr>\n",
       "    <tr>\n",
       "      <th>2021-09-03</th>\n",
       "      <td>0.759956</td>\n",
       "      <td>-0.402003</td>\n",
       "      <td>0.205071</td>\n",
       "    </tr>\n",
       "    <tr>\n",
       "      <th>2021-09-04</th>\n",
       "      <td>-0.743258</td>\n",
       "      <td>-2.377915</td>\n",
       "      <td>-0.640160</td>\n",
       "    </tr>\n",
       "    <tr>\n",
       "      <th>2021-09-05</th>\n",
       "      <td>1.012022</td>\n",
       "      <td>0.298562</td>\n",
       "      <td>0.679321</td>\n",
       "    </tr>\n",
       "    <tr>\n",
       "      <th>2021-09-06</th>\n",
       "      <td>0.003410</td>\n",
       "      <td>-0.732401</td>\n",
       "      <td>-0.235786</td>\n",
       "    </tr>\n",
       "    <tr>\n",
       "      <th>2021-09-07</th>\n",
       "      <td>-1.151633</td>\n",
       "      <td>1.547033</td>\n",
       "      <td>1.782118</td>\n",
       "    </tr>\n",
       "  </tbody>\n",
       "</table>\n",
       "</div>"
      ],
      "text/plain": [
       "                   A         B         C\n",
       "2021-09-01 -0.573962 -1.261348 -1.340880\n",
       "2021-09-02 -0.607340  0.324767  1.381333\n",
       "2021-09-03  0.759956 -0.402003  0.205071\n",
       "2021-09-04 -0.743258 -2.377915 -0.640160\n",
       "2021-09-05  1.012022  0.298562  0.679321\n",
       "2021-09-06  0.003410 -0.732401 -0.235786\n",
       "2021-09-07 -1.151633  1.547033  1.782118"
      ]
     },
     "execution_count": 61,
     "metadata": {},
     "output_type": "execute_result"
    }
   ],
   "source": [
    "df.iloc[:,0:3]"
   ]
  },
  {
   "cell_type": "code",
   "execution_count": 62,
   "metadata": {},
   "outputs": [
    {
     "data": {
      "text/html": [
       "<div>\n",
       "<style scoped>\n",
       "    .dataframe tbody tr th:only-of-type {\n",
       "        vertical-align: middle;\n",
       "    }\n",
       "\n",
       "    .dataframe tbody tr th {\n",
       "        vertical-align: top;\n",
       "    }\n",
       "\n",
       "    .dataframe thead th {\n",
       "        text-align: right;\n",
       "    }\n",
       "</style>\n",
       "<table border=\"1\" class=\"dataframe\">\n",
       "  <thead>\n",
       "    <tr style=\"text-align: right;\">\n",
       "      <th></th>\n",
       "      <th>A</th>\n",
       "      <th>D</th>\n",
       "    </tr>\n",
       "  </thead>\n",
       "  <tbody>\n",
       "    <tr>\n",
       "      <th>2021-09-04</th>\n",
       "      <td>-0.743258</td>\n",
       "      <td>0.610901</td>\n",
       "    </tr>\n",
       "    <tr>\n",
       "      <th>2021-09-05</th>\n",
       "      <td>1.012022</td>\n",
       "      <td>0.660535</td>\n",
       "    </tr>\n",
       "    <tr>\n",
       "      <th>2021-09-06</th>\n",
       "      <td>0.003410</td>\n",
       "      <td>2.305059</td>\n",
       "    </tr>\n",
       "    <tr>\n",
       "      <th>2021-09-07</th>\n",
       "      <td>-1.151633</td>\n",
       "      <td>0.212563</td>\n",
       "    </tr>\n",
       "  </tbody>\n",
       "</table>\n",
       "</div>"
      ],
      "text/plain": [
       "                   A         D\n",
       "2021-09-04 -0.743258  0.610901\n",
       "2021-09-05  1.012022  0.660535\n",
       "2021-09-06  0.003410  2.305059\n",
       "2021-09-07 -1.151633  0.212563"
      ]
     },
     "execution_count": 62,
     "metadata": {},
     "output_type": "execute_result"
    }
   ],
   "source": [
    "df.loc[\"2021-09-04\":\"2021-09-07\", [\"A\",\"D\"]]"
   ]
  },
  {
   "cell_type": "code",
   "execution_count": 63,
   "metadata": {},
   "outputs": [
    {
     "data": {
      "text/html": [
       "<div>\n",
       "<style scoped>\n",
       "    .dataframe tbody tr th:only-of-type {\n",
       "        vertical-align: middle;\n",
       "    }\n",
       "\n",
       "    .dataframe tbody tr th {\n",
       "        vertical-align: top;\n",
       "    }\n",
       "\n",
       "    .dataframe thead th {\n",
       "        text-align: right;\n",
       "    }\n",
       "</style>\n",
       "<table border=\"1\" class=\"dataframe\">\n",
       "  <thead>\n",
       "    <tr style=\"text-align: right;\">\n",
       "      <th></th>\n",
       "      <th>A</th>\n",
       "      <th>B</th>\n",
       "      <th>C</th>\n",
       "      <th>D</th>\n",
       "    </tr>\n",
       "  </thead>\n",
       "  <tbody>\n",
       "    <tr>\n",
       "      <th>2021-09-01</th>\n",
       "      <td>-0.573962</td>\n",
       "      <td>-1.261348</td>\n",
       "      <td>-1.340880</td>\n",
       "      <td>2.248228</td>\n",
       "    </tr>\n",
       "    <tr>\n",
       "      <th>2021-09-02</th>\n",
       "      <td>-0.607340</td>\n",
       "      <td>0.324767</td>\n",
       "      <td>1.381333</td>\n",
       "      <td>0.326401</td>\n",
       "    </tr>\n",
       "    <tr>\n",
       "      <th>2021-09-03</th>\n",
       "      <td>0.759956</td>\n",
       "      <td>-0.402003</td>\n",
       "      <td>0.205071</td>\n",
       "      <td>0.568046</td>\n",
       "    </tr>\n",
       "    <tr>\n",
       "      <th>2021-09-04</th>\n",
       "      <td>-0.743258</td>\n",
       "      <td>-2.377915</td>\n",
       "      <td>-0.640160</td>\n",
       "      <td>0.610901</td>\n",
       "    </tr>\n",
       "    <tr>\n",
       "      <th>2021-09-05</th>\n",
       "      <td>1.012022</td>\n",
       "      <td>0.298562</td>\n",
       "      <td>0.679321</td>\n",
       "      <td>0.660535</td>\n",
       "    </tr>\n",
       "    <tr>\n",
       "      <th>2021-09-06</th>\n",
       "      <td>0.003410</td>\n",
       "      <td>-0.732401</td>\n",
       "      <td>-0.235786</td>\n",
       "      <td>2.305059</td>\n",
       "    </tr>\n",
       "    <tr>\n",
       "      <th>2021-09-07</th>\n",
       "      <td>-1.151633</td>\n",
       "      <td>1.547033</td>\n",
       "      <td>1.782118</td>\n",
       "      <td>0.212563</td>\n",
       "    </tr>\n",
       "  </tbody>\n",
       "</table>\n",
       "</div>"
      ],
      "text/plain": [
       "                   A         B         C         D\n",
       "2021-09-01 -0.573962 -1.261348 -1.340880  2.248228\n",
       "2021-09-02 -0.607340  0.324767  1.381333  0.326401\n",
       "2021-09-03  0.759956 -0.402003  0.205071  0.568046\n",
       "2021-09-04 -0.743258 -2.377915 -0.640160  0.610901\n",
       "2021-09-05  1.012022  0.298562  0.679321  0.660535\n",
       "2021-09-06  0.003410 -0.732401 -0.235786  2.305059\n",
       "2021-09-07 -1.151633  1.547033  1.782118  0.212563"
      ]
     },
     "execution_count": 63,
     "metadata": {},
     "output_type": "execute_result"
    }
   ],
   "source": [
    "df"
   ]
  },
  {
   "cell_type": "code",
   "execution_count": 64,
   "metadata": {},
   "outputs": [
    {
     "data": {
      "text/html": [
       "<div>\n",
       "<style scoped>\n",
       "    .dataframe tbody tr th:only-of-type {\n",
       "        vertical-align: middle;\n",
       "    }\n",
       "\n",
       "    .dataframe tbody tr th {\n",
       "        vertical-align: top;\n",
       "    }\n",
       "\n",
       "    .dataframe thead th {\n",
       "        text-align: right;\n",
       "    }\n",
       "</style>\n",
       "<table border=\"1\" class=\"dataframe\">\n",
       "  <thead>\n",
       "    <tr style=\"text-align: right;\">\n",
       "      <th></th>\n",
       "      <th>A</th>\n",
       "      <th>B</th>\n",
       "      <th>C</th>\n",
       "      <th>D</th>\n",
       "    </tr>\n",
       "  </thead>\n",
       "  <tbody>\n",
       "    <tr>\n",
       "      <th>2021-09-01</th>\n",
       "      <td>False</td>\n",
       "      <td>False</td>\n",
       "      <td>False</td>\n",
       "      <td>True</td>\n",
       "    </tr>\n",
       "    <tr>\n",
       "      <th>2021-09-02</th>\n",
       "      <td>False</td>\n",
       "      <td>True</td>\n",
       "      <td>True</td>\n",
       "      <td>True</td>\n",
       "    </tr>\n",
       "    <tr>\n",
       "      <th>2021-09-03</th>\n",
       "      <td>True</td>\n",
       "      <td>False</td>\n",
       "      <td>True</td>\n",
       "      <td>True</td>\n",
       "    </tr>\n",
       "    <tr>\n",
       "      <th>2021-09-04</th>\n",
       "      <td>False</td>\n",
       "      <td>False</td>\n",
       "      <td>False</td>\n",
       "      <td>True</td>\n",
       "    </tr>\n",
       "    <tr>\n",
       "      <th>2021-09-05</th>\n",
       "      <td>True</td>\n",
       "      <td>True</td>\n",
       "      <td>True</td>\n",
       "      <td>True</td>\n",
       "    </tr>\n",
       "    <tr>\n",
       "      <th>2021-09-06</th>\n",
       "      <td>True</td>\n",
       "      <td>False</td>\n",
       "      <td>False</td>\n",
       "      <td>True</td>\n",
       "    </tr>\n",
       "    <tr>\n",
       "      <th>2021-09-07</th>\n",
       "      <td>False</td>\n",
       "      <td>True</td>\n",
       "      <td>True</td>\n",
       "      <td>True</td>\n",
       "    </tr>\n",
       "  </tbody>\n",
       "</table>\n",
       "</div>"
      ],
      "text/plain": [
       "                A      B      C     D\n",
       "2021-09-01  False  False  False  True\n",
       "2021-09-02  False   True   True  True\n",
       "2021-09-03   True  False   True  True\n",
       "2021-09-04  False  False  False  True\n",
       "2021-09-05   True   True   True  True\n",
       "2021-09-06   True  False  False  True\n",
       "2021-09-07  False   True   True  True"
      ]
     },
     "execution_count": 64,
     "metadata": {},
     "output_type": "execute_result"
    }
   ],
   "source": [
    "df>0"
   ]
  },
  {
   "cell_type": "code",
   "execution_count": 65,
   "metadata": {},
   "outputs": [
    {
     "data": {
      "text/html": [
       "<div>\n",
       "<style scoped>\n",
       "    .dataframe tbody tr th:only-of-type {\n",
       "        vertical-align: middle;\n",
       "    }\n",
       "\n",
       "    .dataframe tbody tr th {\n",
       "        vertical-align: top;\n",
       "    }\n",
       "\n",
       "    .dataframe thead th {\n",
       "        text-align: right;\n",
       "    }\n",
       "</style>\n",
       "<table border=\"1\" class=\"dataframe\">\n",
       "  <thead>\n",
       "    <tr style=\"text-align: right;\">\n",
       "      <th></th>\n",
       "      <th>A</th>\n",
       "      <th>B</th>\n",
       "      <th>C</th>\n",
       "      <th>D</th>\n",
       "    </tr>\n",
       "  </thead>\n",
       "  <tbody>\n",
       "    <tr>\n",
       "      <th>2021-09-01</th>\n",
       "      <td>NaN</td>\n",
       "      <td>NaN</td>\n",
       "      <td>NaN</td>\n",
       "      <td>2.248228</td>\n",
       "    </tr>\n",
       "    <tr>\n",
       "      <th>2021-09-02</th>\n",
       "      <td>NaN</td>\n",
       "      <td>0.324767</td>\n",
       "      <td>1.381333</td>\n",
       "      <td>0.326401</td>\n",
       "    </tr>\n",
       "    <tr>\n",
       "      <th>2021-09-03</th>\n",
       "      <td>0.759956</td>\n",
       "      <td>NaN</td>\n",
       "      <td>0.205071</td>\n",
       "      <td>0.568046</td>\n",
       "    </tr>\n",
       "    <tr>\n",
       "      <th>2021-09-04</th>\n",
       "      <td>NaN</td>\n",
       "      <td>NaN</td>\n",
       "      <td>NaN</td>\n",
       "      <td>0.610901</td>\n",
       "    </tr>\n",
       "    <tr>\n",
       "      <th>2021-09-05</th>\n",
       "      <td>1.012022</td>\n",
       "      <td>0.298562</td>\n",
       "      <td>0.679321</td>\n",
       "      <td>0.660535</td>\n",
       "    </tr>\n",
       "    <tr>\n",
       "      <th>2021-09-06</th>\n",
       "      <td>0.003410</td>\n",
       "      <td>NaN</td>\n",
       "      <td>NaN</td>\n",
       "      <td>2.305059</td>\n",
       "    </tr>\n",
       "    <tr>\n",
       "      <th>2021-09-07</th>\n",
       "      <td>NaN</td>\n",
       "      <td>1.547033</td>\n",
       "      <td>1.782118</td>\n",
       "      <td>0.212563</td>\n",
       "    </tr>\n",
       "  </tbody>\n",
       "</table>\n",
       "</div>"
      ],
      "text/plain": [
       "                   A         B         C         D\n",
       "2021-09-01       NaN       NaN       NaN  2.248228\n",
       "2021-09-02       NaN  0.324767  1.381333  0.326401\n",
       "2021-09-03  0.759956       NaN  0.205071  0.568046\n",
       "2021-09-04       NaN       NaN       NaN  0.610901\n",
       "2021-09-05  1.012022  0.298562  0.679321  0.660535\n",
       "2021-09-06  0.003410       NaN       NaN  2.305059\n",
       "2021-09-07       NaN  1.547033  1.782118  0.212563"
      ]
     },
     "execution_count": 65,
     "metadata": {},
     "output_type": "execute_result"
    }
   ],
   "source": [
    "df[df > 0]"
   ]
  },
  {
   "cell_type": "code",
   "execution_count": 66,
   "metadata": {},
   "outputs": [
    {
     "data": {
      "text/plain": [
       "2021-09-01    False\n",
       "2021-09-02    False\n",
       "2021-09-03     True\n",
       "2021-09-04    False\n",
       "2021-09-05     True\n",
       "2021-09-06     True\n",
       "2021-09-07    False\n",
       "Freq: D, Name: A, dtype: bool"
      ]
     },
     "execution_count": 66,
     "metadata": {},
     "output_type": "execute_result"
    }
   ],
   "source": [
    "df.A > 0"
   ]
  },
  {
   "cell_type": "code",
   "execution_count": 67,
   "metadata": {},
   "outputs": [
    {
     "data": {
      "text/html": [
       "<div>\n",
       "<style scoped>\n",
       "    .dataframe tbody tr th:only-of-type {\n",
       "        vertical-align: middle;\n",
       "    }\n",
       "\n",
       "    .dataframe tbody tr th {\n",
       "        vertical-align: top;\n",
       "    }\n",
       "\n",
       "    .dataframe thead th {\n",
       "        text-align: right;\n",
       "    }\n",
       "</style>\n",
       "<table border=\"1\" class=\"dataframe\">\n",
       "  <thead>\n",
       "    <tr style=\"text-align: right;\">\n",
       "      <th></th>\n",
       "      <th>A</th>\n",
       "      <th>B</th>\n",
       "      <th>C</th>\n",
       "      <th>D</th>\n",
       "    </tr>\n",
       "  </thead>\n",
       "  <tbody>\n",
       "    <tr>\n",
       "      <th>2021-09-03</th>\n",
       "      <td>0.759956</td>\n",
       "      <td>-0.402003</td>\n",
       "      <td>0.205071</td>\n",
       "      <td>0.568046</td>\n",
       "    </tr>\n",
       "    <tr>\n",
       "      <th>2021-09-05</th>\n",
       "      <td>1.012022</td>\n",
       "      <td>0.298562</td>\n",
       "      <td>0.679321</td>\n",
       "      <td>0.660535</td>\n",
       "    </tr>\n",
       "    <tr>\n",
       "      <th>2021-09-06</th>\n",
       "      <td>0.003410</td>\n",
       "      <td>-0.732401</td>\n",
       "      <td>-0.235786</td>\n",
       "      <td>2.305059</td>\n",
       "    </tr>\n",
       "  </tbody>\n",
       "</table>\n",
       "</div>"
      ],
      "text/plain": [
       "                   A         B         C         D\n",
       "2021-09-03  0.759956 -0.402003  0.205071  0.568046\n",
       "2021-09-05  1.012022  0.298562  0.679321  0.660535\n",
       "2021-09-06  0.003410 -0.732401 -0.235786  2.305059"
      ]
     },
     "execution_count": 67,
     "metadata": {},
     "output_type": "execute_result"
    }
   ],
   "source": [
    "df[df.A > 0]    #常用"
   ]
  },
  {
   "cell_type": "code",
   "execution_count": 68,
   "metadata": {},
   "outputs": [
    {
     "data": {
      "text/html": [
       "<div>\n",
       "<style scoped>\n",
       "    .dataframe tbody tr th:only-of-type {\n",
       "        vertical-align: middle;\n",
       "    }\n",
       "\n",
       "    .dataframe tbody tr th {\n",
       "        vertical-align: top;\n",
       "    }\n",
       "\n",
       "    .dataframe thead th {\n",
       "        text-align: right;\n",
       "    }\n",
       "</style>\n",
       "<table border=\"1\" class=\"dataframe\">\n",
       "  <thead>\n",
       "    <tr style=\"text-align: right;\">\n",
       "      <th></th>\n",
       "      <th>A</th>\n",
       "      <th>B</th>\n",
       "      <th>C</th>\n",
       "      <th>D</th>\n",
       "      <th>E</th>\n",
       "    </tr>\n",
       "  </thead>\n",
       "  <tbody>\n",
       "    <tr>\n",
       "      <th>2021-09-01</th>\n",
       "      <td>-0.573962</td>\n",
       "      <td>-1.261348</td>\n",
       "      <td>-1.340880</td>\n",
       "      <td>2.248228</td>\n",
       "      <td>one</td>\n",
       "    </tr>\n",
       "    <tr>\n",
       "      <th>2021-09-02</th>\n",
       "      <td>-0.607340</td>\n",
       "      <td>0.324767</td>\n",
       "      <td>1.381333</td>\n",
       "      <td>0.326401</td>\n",
       "      <td>two</td>\n",
       "    </tr>\n",
       "    <tr>\n",
       "      <th>2021-09-03</th>\n",
       "      <td>0.759956</td>\n",
       "      <td>-0.402003</td>\n",
       "      <td>0.205071</td>\n",
       "      <td>0.568046</td>\n",
       "      <td>one</td>\n",
       "    </tr>\n",
       "    <tr>\n",
       "      <th>2021-09-04</th>\n",
       "      <td>-0.743258</td>\n",
       "      <td>-2.377915</td>\n",
       "      <td>-0.640160</td>\n",
       "      <td>0.610901</td>\n",
       "      <td>two</td>\n",
       "    </tr>\n",
       "    <tr>\n",
       "      <th>2021-09-05</th>\n",
       "      <td>1.012022</td>\n",
       "      <td>0.298562</td>\n",
       "      <td>0.679321</td>\n",
       "      <td>0.660535</td>\n",
       "      <td>three</td>\n",
       "    </tr>\n",
       "    <tr>\n",
       "      <th>2021-09-06</th>\n",
       "      <td>0.003410</td>\n",
       "      <td>-0.732401</td>\n",
       "      <td>-0.235786</td>\n",
       "      <td>2.305059</td>\n",
       "      <td>three</td>\n",
       "    </tr>\n",
       "    <tr>\n",
       "      <th>2021-09-07</th>\n",
       "      <td>-1.151633</td>\n",
       "      <td>1.547033</td>\n",
       "      <td>1.782118</td>\n",
       "      <td>0.212563</td>\n",
       "      <td>four</td>\n",
       "    </tr>\n",
       "  </tbody>\n",
       "</table>\n",
       "</div>"
      ],
      "text/plain": [
       "                   A         B         C         D      E\n",
       "2021-09-01 -0.573962 -1.261348 -1.340880  2.248228    one\n",
       "2021-09-02 -0.607340  0.324767  1.381333  0.326401    two\n",
       "2021-09-03  0.759956 -0.402003  0.205071  0.568046    one\n",
       "2021-09-04 -0.743258 -2.377915 -0.640160  0.610901    two\n",
       "2021-09-05  1.012022  0.298562  0.679321  0.660535  three\n",
       "2021-09-06  0.003410 -0.732401 -0.235786  2.305059  three\n",
       "2021-09-07 -1.151633  1.547033  1.782118  0.212563   four"
      ]
     },
     "execution_count": 68,
     "metadata": {},
     "output_type": "execute_result"
    }
   ],
   "source": [
    "df2 = df.copy()\n",
    "df2['E'] = [\"one\", \"two\",\"one\", \"two\",\"three\", \"three\", \"four\"]\n",
    "df2"
   ]
  },
  {
   "cell_type": "code",
   "execution_count": 69,
   "metadata": {},
   "outputs": [
    {
     "data": {
      "text/plain": [
       "2021-09-01    False\n",
       "2021-09-02     True\n",
       "2021-09-03    False\n",
       "2021-09-04     True\n",
       "2021-09-05     True\n",
       "2021-09-06     True\n",
       "2021-09-07    False\n",
       "Freq: D, Name: E, dtype: bool"
      ]
     },
     "execution_count": 69,
     "metadata": {},
     "output_type": "execute_result"
    }
   ],
   "source": [
    "ind = df2['E'].isin(['two',\"three\"])\n",
    "ind "
   ]
  },
  {
   "cell_type": "code",
   "execution_count": 70,
   "metadata": {},
   "outputs": [
    {
     "data": {
      "text/html": [
       "<div>\n",
       "<style scoped>\n",
       "    .dataframe tbody tr th:only-of-type {\n",
       "        vertical-align: middle;\n",
       "    }\n",
       "\n",
       "    .dataframe tbody tr th {\n",
       "        vertical-align: top;\n",
       "    }\n",
       "\n",
       "    .dataframe thead th {\n",
       "        text-align: right;\n",
       "    }\n",
       "</style>\n",
       "<table border=\"1\" class=\"dataframe\">\n",
       "  <thead>\n",
       "    <tr style=\"text-align: right;\">\n",
       "      <th></th>\n",
       "      <th>A</th>\n",
       "      <th>B</th>\n",
       "      <th>C</th>\n",
       "      <th>D</th>\n",
       "      <th>E</th>\n",
       "    </tr>\n",
       "  </thead>\n",
       "  <tbody>\n",
       "    <tr>\n",
       "      <th>2021-09-02</th>\n",
       "      <td>-0.607340</td>\n",
       "      <td>0.324767</td>\n",
       "      <td>1.381333</td>\n",
       "      <td>0.326401</td>\n",
       "      <td>two</td>\n",
       "    </tr>\n",
       "    <tr>\n",
       "      <th>2021-09-04</th>\n",
       "      <td>-0.743258</td>\n",
       "      <td>-2.377915</td>\n",
       "      <td>-0.640160</td>\n",
       "      <td>0.610901</td>\n",
       "      <td>two</td>\n",
       "    </tr>\n",
       "    <tr>\n",
       "      <th>2021-09-05</th>\n",
       "      <td>1.012022</td>\n",
       "      <td>0.298562</td>\n",
       "      <td>0.679321</td>\n",
       "      <td>0.660535</td>\n",
       "      <td>three</td>\n",
       "    </tr>\n",
       "    <tr>\n",
       "      <th>2021-09-06</th>\n",
       "      <td>0.003410</td>\n",
       "      <td>-0.732401</td>\n",
       "      <td>-0.235786</td>\n",
       "      <td>2.305059</td>\n",
       "      <td>three</td>\n",
       "    </tr>\n",
       "  </tbody>\n",
       "</table>\n",
       "</div>"
      ],
      "text/plain": [
       "                   A         B         C         D      E\n",
       "2021-09-02 -0.607340  0.324767  1.381333  0.326401    two\n",
       "2021-09-04 -0.743258 -2.377915 -0.640160  0.610901    two\n",
       "2021-09-05  1.012022  0.298562  0.679321  0.660535  three\n",
       "2021-09-06  0.003410 -0.732401 -0.235786  2.305059  three"
      ]
     },
     "execution_count": 70,
     "metadata": {},
     "output_type": "execute_result"
    }
   ],
   "source": [
    "df2[ind]"
   ]
  },
  {
   "cell_type": "markdown",
   "metadata": {},
   "source": [
    "**增加列**"
   ]
  },
  {
   "cell_type": "code",
   "execution_count": 71,
   "metadata": {},
   "outputs": [
    {
     "data": {
      "text/html": [
       "<div>\n",
       "<style scoped>\n",
       "    .dataframe tbody tr th:only-of-type {\n",
       "        vertical-align: middle;\n",
       "    }\n",
       "\n",
       "    .dataframe tbody tr th {\n",
       "        vertical-align: top;\n",
       "    }\n",
       "\n",
       "    .dataframe thead th {\n",
       "        text-align: right;\n",
       "    }\n",
       "</style>\n",
       "<table border=\"1\" class=\"dataframe\">\n",
       "  <thead>\n",
       "    <tr style=\"text-align: right;\">\n",
       "      <th></th>\n",
       "      <th>A</th>\n",
       "      <th>B</th>\n",
       "      <th>C</th>\n",
       "      <th>D</th>\n",
       "    </tr>\n",
       "  </thead>\n",
       "  <tbody>\n",
       "    <tr>\n",
       "      <th>2021-09-01</th>\n",
       "      <td>-0.573962</td>\n",
       "      <td>-1.261348</td>\n",
       "      <td>-1.340880</td>\n",
       "      <td>2.248228</td>\n",
       "    </tr>\n",
       "    <tr>\n",
       "      <th>2021-09-02</th>\n",
       "      <td>-0.607340</td>\n",
       "      <td>0.324767</td>\n",
       "      <td>1.381333</td>\n",
       "      <td>0.326401</td>\n",
       "    </tr>\n",
       "    <tr>\n",
       "      <th>2021-09-03</th>\n",
       "      <td>0.759956</td>\n",
       "      <td>-0.402003</td>\n",
       "      <td>0.205071</td>\n",
       "      <td>0.568046</td>\n",
       "    </tr>\n",
       "    <tr>\n",
       "      <th>2021-09-04</th>\n",
       "      <td>-0.743258</td>\n",
       "      <td>-2.377915</td>\n",
       "      <td>-0.640160</td>\n",
       "      <td>0.610901</td>\n",
       "    </tr>\n",
       "    <tr>\n",
       "      <th>2021-09-05</th>\n",
       "      <td>1.012022</td>\n",
       "      <td>0.298562</td>\n",
       "      <td>0.679321</td>\n",
       "      <td>0.660535</td>\n",
       "    </tr>\n",
       "    <tr>\n",
       "      <th>2021-09-06</th>\n",
       "      <td>0.003410</td>\n",
       "      <td>-0.732401</td>\n",
       "      <td>-0.235786</td>\n",
       "      <td>2.305059</td>\n",
       "    </tr>\n",
       "    <tr>\n",
       "      <th>2021-09-07</th>\n",
       "      <td>-1.151633</td>\n",
       "      <td>1.547033</td>\n",
       "      <td>1.782118</td>\n",
       "      <td>0.212563</td>\n",
       "    </tr>\n",
       "  </tbody>\n",
       "</table>\n",
       "</div>"
      ],
      "text/plain": [
       "                   A         B         C         D\n",
       "2021-09-01 -0.573962 -1.261348 -1.340880  2.248228\n",
       "2021-09-02 -0.607340  0.324767  1.381333  0.326401\n",
       "2021-09-03  0.759956 -0.402003  0.205071  0.568046\n",
       "2021-09-04 -0.743258 -2.377915 -0.640160  0.610901\n",
       "2021-09-05  1.012022  0.298562  0.679321  0.660535\n",
       "2021-09-06  0.003410 -0.732401 -0.235786  2.305059\n",
       "2021-09-07 -1.151633  1.547033  1.782118  0.212563"
      ]
     },
     "execution_count": 71,
     "metadata": {},
     "output_type": "execute_result"
    }
   ],
   "source": [
    "df "
   ]
  },
  {
   "cell_type": "code",
   "execution_count": 72,
   "metadata": {},
   "outputs": [
    {
     "data": {
      "text/plain": [
       "2021-09-01    1\n",
       "2021-09-02    2\n",
       "2021-09-03    3\n",
       "2021-09-04    4\n",
       "2021-09-05    5\n",
       "2021-09-06    6\n",
       "2021-09-07    7\n",
       "Freq: D, dtype: int64"
      ]
     },
     "execution_count": 72,
     "metadata": {},
     "output_type": "execute_result"
    }
   ],
   "source": [
    "ser = pd.Series(np.arange(1,8), index=pd.date_range(\"2021-09-01\", periods=7))\n",
    "ser"
   ]
  },
  {
   "cell_type": "code",
   "execution_count": 73,
   "metadata": {},
   "outputs": [
    {
     "data": {
      "text/html": [
       "<div>\n",
       "<style scoped>\n",
       "    .dataframe tbody tr th:only-of-type {\n",
       "        vertical-align: middle;\n",
       "    }\n",
       "\n",
       "    .dataframe tbody tr th {\n",
       "        vertical-align: top;\n",
       "    }\n",
       "\n",
       "    .dataframe thead th {\n",
       "        text-align: right;\n",
       "    }\n",
       "</style>\n",
       "<table border=\"1\" class=\"dataframe\">\n",
       "  <thead>\n",
       "    <tr style=\"text-align: right;\">\n",
       "      <th></th>\n",
       "      <th>A</th>\n",
       "      <th>B</th>\n",
       "      <th>C</th>\n",
       "      <th>D</th>\n",
       "      <th>E</th>\n",
       "    </tr>\n",
       "  </thead>\n",
       "  <tbody>\n",
       "    <tr>\n",
       "      <th>2021-09-01</th>\n",
       "      <td>-0.573962</td>\n",
       "      <td>-1.261348</td>\n",
       "      <td>-1.340880</td>\n",
       "      <td>2.248228</td>\n",
       "      <td>1</td>\n",
       "    </tr>\n",
       "    <tr>\n",
       "      <th>2021-09-02</th>\n",
       "      <td>-0.607340</td>\n",
       "      <td>0.324767</td>\n",
       "      <td>1.381333</td>\n",
       "      <td>0.326401</td>\n",
       "      <td>2</td>\n",
       "    </tr>\n",
       "    <tr>\n",
       "      <th>2021-09-03</th>\n",
       "      <td>0.759956</td>\n",
       "      <td>-0.402003</td>\n",
       "      <td>0.205071</td>\n",
       "      <td>0.568046</td>\n",
       "      <td>3</td>\n",
       "    </tr>\n",
       "    <tr>\n",
       "      <th>2021-09-04</th>\n",
       "      <td>-0.743258</td>\n",
       "      <td>-2.377915</td>\n",
       "      <td>-0.640160</td>\n",
       "      <td>0.610901</td>\n",
       "      <td>4</td>\n",
       "    </tr>\n",
       "    <tr>\n",
       "      <th>2021-09-05</th>\n",
       "      <td>1.012022</td>\n",
       "      <td>0.298562</td>\n",
       "      <td>0.679321</td>\n",
       "      <td>0.660535</td>\n",
       "      <td>5</td>\n",
       "    </tr>\n",
       "    <tr>\n",
       "      <th>2021-09-06</th>\n",
       "      <td>0.003410</td>\n",
       "      <td>-0.732401</td>\n",
       "      <td>-0.235786</td>\n",
       "      <td>2.305059</td>\n",
       "      <td>6</td>\n",
       "    </tr>\n",
       "    <tr>\n",
       "      <th>2021-09-07</th>\n",
       "      <td>-1.151633</td>\n",
       "      <td>1.547033</td>\n",
       "      <td>1.782118</td>\n",
       "      <td>0.212563</td>\n",
       "      <td>7</td>\n",
       "    </tr>\n",
       "  </tbody>\n",
       "</table>\n",
       "</div>"
      ],
      "text/plain": [
       "                   A         B         C         D  E\n",
       "2021-09-01 -0.573962 -1.261348 -1.340880  2.248228  1\n",
       "2021-09-02 -0.607340  0.324767  1.381333  0.326401  2\n",
       "2021-09-03  0.759956 -0.402003  0.205071  0.568046  3\n",
       "2021-09-04 -0.743258 -2.377915 -0.640160  0.610901  4\n",
       "2021-09-05  1.012022  0.298562  0.679321  0.660535  5\n",
       "2021-09-06  0.003410 -0.732401 -0.235786  2.305059  6\n",
       "2021-09-07 -1.151633  1.547033  1.782118  0.212563  7"
      ]
     },
     "execution_count": 73,
     "metadata": {},
     "output_type": "execute_result"
    }
   ],
   "source": [
    "df['E'] = ser\n",
    "df "
   ]
  },
  {
   "cell_type": "markdown",
   "metadata": {},
   "source": [
    "**修改列**"
   ]
  },
  {
   "cell_type": "code",
   "execution_count": 74,
   "metadata": {},
   "outputs": [
    {
     "data": {
      "text/html": [
       "<div>\n",
       "<style scoped>\n",
       "    .dataframe tbody tr th:only-of-type {\n",
       "        vertical-align: middle;\n",
       "    }\n",
       "\n",
       "    .dataframe tbody tr th {\n",
       "        vertical-align: top;\n",
       "    }\n",
       "\n",
       "    .dataframe thead th {\n",
       "        text-align: right;\n",
       "    }\n",
       "</style>\n",
       "<table border=\"1\" class=\"dataframe\">\n",
       "  <thead>\n",
       "    <tr style=\"text-align: right;\">\n",
       "      <th></th>\n",
       "      <th>A</th>\n",
       "      <th>B</th>\n",
       "      <th>C</th>\n",
       "      <th>D</th>\n",
       "      <th>E</th>\n",
       "    </tr>\n",
       "  </thead>\n",
       "  <tbody>\n",
       "    <tr>\n",
       "      <th>2021-09-01</th>\n",
       "      <td>-0.573962</td>\n",
       "      <td>-1.261348</td>\n",
       "      <td>-1.340880</td>\n",
       "      <td>5</td>\n",
       "      <td>1</td>\n",
       "    </tr>\n",
       "    <tr>\n",
       "      <th>2021-09-02</th>\n",
       "      <td>-0.607340</td>\n",
       "      <td>0.324767</td>\n",
       "      <td>1.381333</td>\n",
       "      <td>5</td>\n",
       "      <td>2</td>\n",
       "    </tr>\n",
       "    <tr>\n",
       "      <th>2021-09-03</th>\n",
       "      <td>0.759956</td>\n",
       "      <td>-0.402003</td>\n",
       "      <td>0.205071</td>\n",
       "      <td>5</td>\n",
       "      <td>3</td>\n",
       "    </tr>\n",
       "    <tr>\n",
       "      <th>2021-09-04</th>\n",
       "      <td>-0.743258</td>\n",
       "      <td>-2.377915</td>\n",
       "      <td>-0.640160</td>\n",
       "      <td>5</td>\n",
       "      <td>4</td>\n",
       "    </tr>\n",
       "    <tr>\n",
       "      <th>2021-09-05</th>\n",
       "      <td>1.012022</td>\n",
       "      <td>0.298562</td>\n",
       "      <td>0.679321</td>\n",
       "      <td>5</td>\n",
       "      <td>5</td>\n",
       "    </tr>\n",
       "    <tr>\n",
       "      <th>2021-09-06</th>\n",
       "      <td>0.003410</td>\n",
       "      <td>-0.732401</td>\n",
       "      <td>-0.235786</td>\n",
       "      <td>5</td>\n",
       "      <td>6</td>\n",
       "    </tr>\n",
       "    <tr>\n",
       "      <th>2021-09-07</th>\n",
       "      <td>-1.151633</td>\n",
       "      <td>1.547033</td>\n",
       "      <td>1.782118</td>\n",
       "      <td>5</td>\n",
       "      <td>7</td>\n",
       "    </tr>\n",
       "  </tbody>\n",
       "</table>\n",
       "</div>"
      ],
      "text/plain": [
       "                   A         B         C  D  E\n",
       "2021-09-01 -0.573962 -1.261348 -1.340880  5  1\n",
       "2021-09-02 -0.607340  0.324767  1.381333  5  2\n",
       "2021-09-03  0.759956 -0.402003  0.205071  5  3\n",
       "2021-09-04 -0.743258 -2.377915 -0.640160  5  4\n",
       "2021-09-05  1.012022  0.298562  0.679321  5  5\n",
       "2021-09-06  0.003410 -0.732401 -0.235786  5  6\n",
       "2021-09-07 -1.151633  1.547033  1.782118  5  7"
      ]
     },
     "execution_count": 74,
     "metadata": {},
     "output_type": "execute_result"
    }
   ],
   "source": [
    "df['D'] = np.array([5] * len(df))\n",
    "df "
   ]
  },
  {
   "cell_type": "code",
   "execution_count": 76,
   "metadata": {},
   "outputs": [
    {
     "data": {
      "text/html": [
       "<div>\n",
       "<style scoped>\n",
       "    .dataframe tbody tr th:only-of-type {\n",
       "        vertical-align: middle;\n",
       "    }\n",
       "\n",
       "    .dataframe tbody tr th {\n",
       "        vertical-align: top;\n",
       "    }\n",
       "\n",
       "    .dataframe thead th {\n",
       "        text-align: right;\n",
       "    }\n",
       "</style>\n",
       "<table border=\"1\" class=\"dataframe\">\n",
       "  <thead>\n",
       "    <tr style=\"text-align: right;\">\n",
       "      <th></th>\n",
       "      <th>A</th>\n",
       "      <th>B</th>\n",
       "      <th>C</th>\n",
       "      <th>D</th>\n",
       "      <th>E</th>\n",
       "    </tr>\n",
       "  </thead>\n",
       "  <tbody>\n",
       "    <tr>\n",
       "      <th>0</th>\n",
       "      <td>-0.573962</td>\n",
       "      <td>-1.261348</td>\n",
       "      <td>-1.340880</td>\n",
       "      <td>2.248228</td>\n",
       "      <td>one</td>\n",
       "    </tr>\n",
       "    <tr>\n",
       "      <th>1</th>\n",
       "      <td>-0.607340</td>\n",
       "      <td>0.324767</td>\n",
       "      <td>1.381333</td>\n",
       "      <td>0.326401</td>\n",
       "      <td>two</td>\n",
       "    </tr>\n",
       "    <tr>\n",
       "      <th>2</th>\n",
       "      <td>0.759956</td>\n",
       "      <td>-0.402003</td>\n",
       "      <td>0.205071</td>\n",
       "      <td>0.568046</td>\n",
       "      <td>one</td>\n",
       "    </tr>\n",
       "    <tr>\n",
       "      <th>3</th>\n",
       "      <td>-0.743258</td>\n",
       "      <td>-2.377915</td>\n",
       "      <td>-0.640160</td>\n",
       "      <td>0.610901</td>\n",
       "      <td>two</td>\n",
       "    </tr>\n",
       "    <tr>\n",
       "      <th>4</th>\n",
       "      <td>1.012022</td>\n",
       "      <td>0.298562</td>\n",
       "      <td>0.679321</td>\n",
       "      <td>0.660535</td>\n",
       "      <td>three</td>\n",
       "    </tr>\n",
       "    <tr>\n",
       "      <th>5</th>\n",
       "      <td>0.003410</td>\n",
       "      <td>-0.732401</td>\n",
       "      <td>-0.235786</td>\n",
       "      <td>2.305059</td>\n",
       "      <td>three</td>\n",
       "    </tr>\n",
       "    <tr>\n",
       "      <th>6</th>\n",
       "      <td>-1.151633</td>\n",
       "      <td>1.547033</td>\n",
       "      <td>1.782118</td>\n",
       "      <td>0.212563</td>\n",
       "      <td>four</td>\n",
       "    </tr>\n",
       "  </tbody>\n",
       "</table>\n",
       "</div>"
      ],
      "text/plain": [
       "          A         B         C         D      E\n",
       "0 -0.573962 -1.261348 -1.340880  2.248228    one\n",
       "1 -0.607340  0.324767  1.381333  0.326401    two\n",
       "2  0.759956 -0.402003  0.205071  0.568046    one\n",
       "3 -0.743258 -2.377915 -0.640160  0.610901    two\n",
       "4  1.012022  0.298562  0.679321  0.660535  three\n",
       "5  0.003410 -0.732401 -0.235786  2.305059  three\n",
       "6 -1.151633  1.547033  1.782118  0.212563   four"
      ]
     },
     "execution_count": 76,
     "metadata": {},
     "output_type": "execute_result"
    }
   ],
   "source": [
    "df2.index = [i for i in range(len(df2))]\n",
    "df2 "
   ]
  },
  {
   "cell_type": "code",
   "execution_count": 77,
   "metadata": {},
   "outputs": [
    {
     "data": {
      "text/html": [
       "<div>\n",
       "<style scoped>\n",
       "    .dataframe tbody tr th:only-of-type {\n",
       "        vertical-align: middle;\n",
       "    }\n",
       "\n",
       "    .dataframe tbody tr th {\n",
       "        vertical-align: top;\n",
       "    }\n",
       "\n",
       "    .dataframe thead th {\n",
       "        text-align: right;\n",
       "    }\n",
       "</style>\n",
       "<table border=\"1\" class=\"dataframe\">\n",
       "  <thead>\n",
       "    <tr style=\"text-align: right;\">\n",
       "      <th></th>\n",
       "      <th>0</th>\n",
       "      <th>1</th>\n",
       "      <th>2</th>\n",
       "      <th>3</th>\n",
       "      <th>4</th>\n",
       "    </tr>\n",
       "  </thead>\n",
       "  <tbody>\n",
       "    <tr>\n",
       "      <th>0</th>\n",
       "      <td>-0.573962</td>\n",
       "      <td>-1.261348</td>\n",
       "      <td>-1.340880</td>\n",
       "      <td>2.248228</td>\n",
       "      <td>one</td>\n",
       "    </tr>\n",
       "    <tr>\n",
       "      <th>1</th>\n",
       "      <td>-0.607340</td>\n",
       "      <td>0.324767</td>\n",
       "      <td>1.381333</td>\n",
       "      <td>0.326401</td>\n",
       "      <td>two</td>\n",
       "    </tr>\n",
       "    <tr>\n",
       "      <th>2</th>\n",
       "      <td>0.759956</td>\n",
       "      <td>-0.402003</td>\n",
       "      <td>0.205071</td>\n",
       "      <td>0.568046</td>\n",
       "      <td>one</td>\n",
       "    </tr>\n",
       "    <tr>\n",
       "      <th>3</th>\n",
       "      <td>-0.743258</td>\n",
       "      <td>-2.377915</td>\n",
       "      <td>-0.640160</td>\n",
       "      <td>0.610901</td>\n",
       "      <td>two</td>\n",
       "    </tr>\n",
       "    <tr>\n",
       "      <th>4</th>\n",
       "      <td>1.012022</td>\n",
       "      <td>0.298562</td>\n",
       "      <td>0.679321</td>\n",
       "      <td>0.660535</td>\n",
       "      <td>three</td>\n",
       "    </tr>\n",
       "    <tr>\n",
       "      <th>5</th>\n",
       "      <td>0.003410</td>\n",
       "      <td>-0.732401</td>\n",
       "      <td>-0.235786</td>\n",
       "      <td>2.305059</td>\n",
       "      <td>three</td>\n",
       "    </tr>\n",
       "    <tr>\n",
       "      <th>6</th>\n",
       "      <td>-1.151633</td>\n",
       "      <td>1.547033</td>\n",
       "      <td>1.782118</td>\n",
       "      <td>0.212563</td>\n",
       "      <td>four</td>\n",
       "    </tr>\n",
       "  </tbody>\n",
       "</table>\n",
       "</div>"
      ],
      "text/plain": [
       "          0         1         2         3      4\n",
       "0 -0.573962 -1.261348 -1.340880  2.248228    one\n",
       "1 -0.607340  0.324767  1.381333  0.326401    two\n",
       "2  0.759956 -0.402003  0.205071  0.568046    one\n",
       "3 -0.743258 -2.377915 -0.640160  0.610901    two\n",
       "4  1.012022  0.298562  0.679321  0.660535  three\n",
       "5  0.003410 -0.732401 -0.235786  2.305059  three\n",
       "6 -1.151633  1.547033  1.782118  0.212563   four"
      ]
     },
     "execution_count": 77,
     "metadata": {},
     "output_type": "execute_result"
    }
   ],
   "source": [
    "df2.columns = [i for i in range(df2.shape[1])]\n",
    "df2 "
   ]
  },
  {
   "cell_type": "markdown",
   "metadata": {},
   "source": [
    "**数值运算及统计分析**\n",
    "\n",
    "**数据的查看**"
   ]
  },
  {
   "cell_type": "code",
   "execution_count": 79,
   "metadata": {},
   "outputs": [
    {
     "data": {
      "text/html": [
       "<div>\n",
       "<style scoped>\n",
       "    .dataframe tbody tr th:only-of-type {\n",
       "        vertical-align: middle;\n",
       "    }\n",
       "\n",
       "    .dataframe tbody tr th {\n",
       "        vertical-align: top;\n",
       "    }\n",
       "\n",
       "    .dataframe thead th {\n",
       "        text-align: right;\n",
       "    }\n",
       "</style>\n",
       "<table border=\"1\" class=\"dataframe\">\n",
       "  <thead>\n",
       "    <tr style=\"text-align: right;\">\n",
       "      <th></th>\n",
       "      <th>A</th>\n",
       "      <th>B</th>\n",
       "      <th>C</th>\n",
       "      <th>D</th>\n",
       "    </tr>\n",
       "  </thead>\n",
       "  <tbody>\n",
       "    <tr>\n",
       "      <th>2021-09-01</th>\n",
       "      <td>0.833570</td>\n",
       "      <td>1.123485</td>\n",
       "      <td>-0.198066</td>\n",
       "      <td>-0.990053</td>\n",
       "    </tr>\n",
       "    <tr>\n",
       "      <th>2021-09-02</th>\n",
       "      <td>1.358083</td>\n",
       "      <td>0.021782</td>\n",
       "      <td>-0.116204</td>\n",
       "      <td>-0.478483</td>\n",
       "    </tr>\n",
       "    <tr>\n",
       "      <th>2021-09-03</th>\n",
       "      <td>-1.867148</td>\n",
       "      <td>-2.019402</td>\n",
       "      <td>0.305374</td>\n",
       "      <td>0.424939</td>\n",
       "    </tr>\n",
       "    <tr>\n",
       "      <th>2021-09-04</th>\n",
       "      <td>-0.007706</td>\n",
       "      <td>1.369419</td>\n",
       "      <td>0.333742</td>\n",
       "      <td>-1.283127</td>\n",
       "    </tr>\n",
       "    <tr>\n",
       "      <th>2021-09-05</th>\n",
       "      <td>-0.692552</td>\n",
       "      <td>1.415740</td>\n",
       "      <td>0.809994</td>\n",
       "      <td>-0.489880</td>\n",
       "    </tr>\n",
       "    <tr>\n",
       "      <th>2021-09-06</th>\n",
       "      <td>-1.926937</td>\n",
       "      <td>0.720577</td>\n",
       "      <td>-0.996797</td>\n",
       "      <td>0.156819</td>\n",
       "    </tr>\n",
       "    <tr>\n",
       "      <th>2021-09-07</th>\n",
       "      <td>-1.356093</td>\n",
       "      <td>-2.198209</td>\n",
       "      <td>-0.926177</td>\n",
       "      <td>-0.503798</td>\n",
       "    </tr>\n",
       "  </tbody>\n",
       "</table>\n",
       "</div>"
      ],
      "text/plain": [
       "                   A         B         C         D\n",
       "2021-09-01  0.833570  1.123485 -0.198066 -0.990053\n",
       "2021-09-02  1.358083  0.021782 -0.116204 -0.478483\n",
       "2021-09-03 -1.867148 -2.019402  0.305374  0.424939\n",
       "2021-09-04 -0.007706  1.369419  0.333742 -1.283127\n",
       "2021-09-05 -0.692552  1.415740  0.809994 -0.489880\n",
       "2021-09-06 -1.926937  0.720577 -0.996797  0.156819\n",
       "2021-09-07 -1.356093 -2.198209 -0.926177 -0.503798"
      ]
     },
     "execution_count": 79,
     "metadata": {},
     "output_type": "execute_result"
    }
   ],
   "source": [
    "dates = pd.date_range(\"2021-09-01\", periods=7)\n",
    "df = pd.DataFrame(np.random.randn(7,4), index=dates, columns = [\"A\", \"B\", \"C\", \"D\"])\n",
    "df "
   ]
  },
  {
   "cell_type": "code",
   "execution_count": null,
   "metadata": {},
   "outputs": [],
   "source": []
  }
 ],
 "metadata": {
  "kernelspec": {
   "display_name": "Python 3",
   "language": "python",
   "name": "python3"
  },
  "language_info": {
   "codemirror_mode": {
    "name": "ipython",
    "version": 3
   },
   "file_extension": ".py",
   "mimetype": "text/x-python",
   "name": "python",
   "nbconvert_exporter": "python",
   "pygments_lexer": "ipython3",
   "version": "3.7.9"
  },
  "toc": {
   "base_numbering": 1,
   "nav_menu": {},
   "number_sections": true,
   "sideBar": true,
   "skip_h1_title": false,
   "title_cell": "Table of Contents",
   "title_sidebar": "Contents",
   "toc_cell": false,
   "toc_position": {},
   "toc_section_display": true,
   "toc_window_display": false
  }
 },
 "nbformat": 4,
 "nbformat_minor": 4
}
