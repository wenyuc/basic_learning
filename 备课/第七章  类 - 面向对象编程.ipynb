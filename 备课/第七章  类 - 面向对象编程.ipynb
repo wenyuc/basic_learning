{
 "cells": [
  {
   "cell_type": "markdown",
   "metadata": {},
   "source": [
    "## 面向对象编程\n",
    "\n",
    "**为什么要用面向对象**\n",
    "\n",
    "- 一切皆对象\n",
    "一把椅子、一只小狗、一块巧克力、一张信用卡\n",
    "\n",
    "- 一切对象，都有自己内在的属性\n",
    "狗的品种、椅子的质地、信用卡的额度、巧克力的口味\n",
    "\n",
    "- 一切行为，皆是对象的行为\n",
    "狗叫、椅子移动、刷信用卡、巧克力融化\n",
    "\n",
    "**计算机语言怎样表达对象：类时对象的载体**\n",
    "\n",
    "不同年龄、肤色、品质的猫，每一只都是一个对象。\n",
    "\n",
    "他们都有一个共同的特征：都是猫\n",
    "\n",
    "我们可以把一类对象的公共特征抽象出来，创建通用的类。"
   ]
  },
  {
   "cell_type": "code",
   "execution_count": 1,
   "metadata": {},
   "outputs": [],
   "source": [
    "# create a class\n",
    "class Cat:\n",
    "    \"\"\"Simulate Cat\"\"\"\n",
    "    \n",
    "    \n",
    "    def __init__(self, name):\n",
    "        \"\"\"init attribute\"\"\"\n",
    "        self.name = name\n",
    "    \n",
    "    \n",
    "    def jump(self):\n",
    "        \"\"\"Jump\"\"\"\n",
    "        print(self.name + \" is jumping.\")"
   ]
  },
  {
   "cell_type": "code",
   "execution_count": 2,
   "metadata": {},
   "outputs": [],
   "source": [
    "# create an instance\n",
    "my_cat = Cat(\"Lucy\")\n",
    "your_cat = Cat(\"Yummy\")\n"
   ]
  },
  {
   "cell_type": "code",
   "execution_count": 3,
   "metadata": {},
   "outputs": [
    {
     "name": "stdout",
     "output_type": "stream",
     "text": [
      "Lucy\n",
      "Yummy\n"
     ]
    }
   ],
   "source": [
    "# call attributes\n",
    "print(my_cat.name)\n",
    "print(your_cat.name)"
   ]
  },
  {
   "cell_type": "code",
   "execution_count": 6,
   "metadata": {},
   "outputs": [
    {
     "name": "stdout",
     "output_type": "stream",
     "text": [
      "Lucy is jumping.\n",
      "Yummy is jumping.\n"
     ]
    }
   ],
   "source": [
    "my_cat.jump()\n",
    "your_cat.jump()"
   ]
  },
  {
   "cell_type": "markdown",
   "metadata": {},
   "source": [
    "### 类的定义\n",
    "\n",
    "**三要素：类名、属性、方法**\n",
    "\n",
    "#### 类的命名\n",
    "\n",
    "- 要有实际意义\n",
    "\n",
    "- 驼峰法，首字母大写，Cat， CreditCard，ElectricCar\n",
    "\n",
    "#### 类的属性\n"
   ]
  },
  {
   "cell_type": "code",
   "execution_count": 7,
   "metadata": {},
   "outputs": [],
   "source": [
    "# def __init__(self, 要传递的参数):初始化类的属性"
   ]
  },
  {
   "cell_type": "code",
   "execution_count": 8,
   "metadata": {},
   "outputs": [],
   "source": [
    "# create a class Car\n",
    "class Car:\n",
    "    \"\"\"Simulate Car\"\"\"\n",
    "    \n",
    "    def __init__(self, brand, model, year):\n",
    "        \"\"\"初始化汽车属性\"\"\"    # 相当于类的内部属性\n",
    "        self.brand = brand\n",
    "        self.model = model\n",
    "        self.year = year\n",
    "        self.mileage = 0"
   ]
  },
  {
   "cell_type": "markdown",
   "metadata": {},
   "source": [
    "#### 类的方法\n",
    "\n",
    "相对于类内部定义的函数"
   ]
  },
  {
   "cell_type": "code",
   "execution_count": 10,
   "metadata": {},
   "outputs": [],
   "source": [
    "class Car:\n",
    "    \"\"\"Simulate Car\"\"\"\n",
    "    \n",
    "    def __init__(self, brand, model, year):    # self不能去掉\n",
    "        \"\"\"初始化汽车属性\"\"\"    # 相当于类的内部属性\n",
    "        self.brand = brand\n",
    "        self.model = model\n",
    "        self.year = year\n",
    "        self.mileage = 0\n",
    "        \n",
    "    \n",
    "    def get_main_info(self):    # self不能去掉\n",
    "        \"\"\"Get main information of A car\"\"\"\n",
    "        print(\"Brand: {}, Model: {}, Year: {}\".format(self.brand, self.model, self.year))\n",
    "    \n",
    "    def get_mileage(self):\n",
    "        \"\"\"Get the mileage\"\"\"\n",
    "        return \"Total Mileage: {}\".format(self.mileage)"
   ]
  },
  {
   "cell_type": "markdown",
   "metadata": {},
   "source": [
    "### 创建实例\n",
    "\n",
    "### 实例的创建\n",
    "\n",
    "将实例赋值给对象，实例化过程中，传入相应的参数\n",
    "\n",
    "v = 类名（必要的初始化参数）"
   ]
  },
  {
   "cell_type": "code",
   "execution_count": 11,
   "metadata": {},
   "outputs": [],
   "source": [
    "# 初始化的参数就是该实例区别于其他实例的特性\n",
    "my_new_car = Car(\"Audi\", \"A6\", 2019)\n"
   ]
  },
  {
   "cell_type": "markdown",
   "metadata": {},
   "source": [
    "#### 访问属性\n",
    "\n",
    "实例名.属性名"
   ]
  },
  {
   "cell_type": "code",
   "execution_count": 12,
   "metadata": {},
   "outputs": [
    {
     "name": "stdout",
     "output_type": "stream",
     "text": [
      "Audi\n",
      "A6\n",
      "2019\n"
     ]
    }
   ],
   "source": [
    "print(my_new_car.brand)\n",
    "print(my_new_car.model)\n",
    "print(my_new_car.year)"
   ]
  },
  {
   "cell_type": "markdown",
   "metadata": {},
   "source": [
    "#### 方法的调用\n",
    "\n",
    "实例名.方法名(必要的参数)"
   ]
  },
  {
   "cell_type": "code",
   "execution_count": 13,
   "metadata": {},
   "outputs": [
    {
     "name": "stdout",
     "output_type": "stream",
     "text": [
      "Brand: Audi, Model: A6, Year: 2019\n"
     ]
    }
   ],
   "source": [
    "my_new_car.get_main_info()"
   ]
  },
  {
   "cell_type": "code",
   "execution_count": 14,
   "metadata": {},
   "outputs": [
    {
     "data": {
      "text/plain": [
       "'Total Mileage: 0'"
      ]
     },
     "execution_count": 14,
     "metadata": {},
     "output_type": "execute_result"
    }
   ],
   "source": [
    "mileage = my_new_car.get_mileage()\n",
    "mileage "
   ]
  },
  {
   "cell_type": "markdown",
   "metadata": {},
   "source": [
    "#### 修改属性\n",
    "\n",
    "##### 直接修改"
   ]
  },
  {
   "cell_type": "code",
   "execution_count": 15,
   "metadata": {},
   "outputs": [],
   "source": [
    "my_old_car = Car(\"BYD\", \"宋\", 2016)"
   ]
  },
  {
   "cell_type": "code",
   "execution_count": 17,
   "metadata": {},
   "outputs": [
    {
     "name": "stdout",
     "output_type": "stream",
     "text": [
      "Total Mileage: 0\n",
      "Total Mileage: 12000\n"
     ]
    }
   ],
   "source": [
    "print(my_old_car.get_mileage())\n",
    "my_old_car.mileage = 12000\n",
    "print(my_old_car.get_mileage())"
   ]
  },
  {
   "cell_type": "code",
   "execution_count": 18,
   "metadata": {},
   "outputs": [
    {
     "name": "stdout",
     "output_type": "stream",
     "text": [
      "Total Mileage: 12000\n"
     ]
    }
   ],
   "source": [
    "print(my_old_car.get_mileage())"
   ]
  },
  {
   "cell_type": "markdown",
   "metadata": {},
   "source": [
    "##### 通过方法修改属性（推荐使用）"
   ]
  },
  {
   "cell_type": "code",
   "execution_count": 19,
   "metadata": {},
   "outputs": [],
   "source": [
    "class Car:\n",
    "    \"\"\"Simulate Car\"\"\"\n",
    "    \n",
    "    def __init__(self, brand, model, year):    # self不能去掉\n",
    "        \"\"\"初始化汽车属性\"\"\"    # 相当于类的内部属性\n",
    "        self.brand = brand\n",
    "        self.model = model\n",
    "        self.year = year\n",
    "        self.mileage = 0\n",
    "        \n",
    "    \n",
    "    def get_main_info(self):    # self不能去掉\n",
    "        \"\"\"Get main information of A car\"\"\"\n",
    "        print(\"Brand: {}, Model: {}, Year: {}\".format(self.brand, self.model, self.year))\n",
    "    \n",
    "    def get_mileage(self):\n",
    "        \"\"\"Get the mileage\"\"\"\n",
    "        return \"Total Mileage: {}\".format(self.mileage)\n",
    "    \n",
    "    \n",
    "    def set_mileage(self, distance):\n",
    "        \"\"\"Set mileage\"\"\"\n",
    "        self.mileage = distance"
   ]
  },
  {
   "cell_type": "code",
   "execution_count": 20,
   "metadata": {},
   "outputs": [],
   "source": [
    "my_old_car = Car(\"BYD\", \"宋\", 2016)"
   ]
  },
  {
   "cell_type": "code",
   "execution_count": 22,
   "metadata": {},
   "outputs": [
    {
     "name": "stdout",
     "output_type": "stream",
     "text": [
      "Total Mileage: 0\n",
      "Total Mileage: 18000\n"
     ]
    }
   ],
   "source": [
    "print(my_old_car.get_mileage())\n",
    "my_old_car.set_mileage(18000)\n",
    "print(my_old_car.get_mileage())"
   ]
  },
  {
   "cell_type": "markdown",
   "metadata": {},
   "source": [
    "##### 继续拓展\n",
    "\n",
    "- 禁止设置负里程\n",
    "\n",
    "- 将每次里程数累加"
   ]
  },
  {
   "cell_type": "code",
   "execution_count": 24,
   "metadata": {},
   "outputs": [],
   "source": [
    "class Car:\n",
    "    \"\"\"Simulate Car\"\"\"\n",
    "    \n",
    "    def __init__(self, brand, model, year):    # self不能去掉\n",
    "        \"\"\"初始化汽车属性\"\"\"    # 相当于类的内部属性\n",
    "        self.brand = brand\n",
    "        self.model = model\n",
    "        self.year = year\n",
    "        self.mileage = 0\n",
    "        \n",
    "    \n",
    "    def get_main_info(self):    # self不能去掉\n",
    "        \"\"\"Get main information of A car\"\"\"\n",
    "        print(\"Brand: {}, Model: {}, Year: {}\".format(self.brand, self.model, self.year))\n",
    "    \n",
    "    def get_mileage(self):\n",
    "        \"\"\"Get the mileage\"\"\"\n",
    "        return \"Total Mileage: {}\".format(self.mileage)\n",
    "    \n",
    "    \n",
    "    def set_mileage(self, distance):\n",
    "        \"\"\"Set mileage\"\"\"\n",
    "        if distance > 0:\n",
    "            self.mileage = distance\n",
    "        else:\n",
    "            print(\"里程数不能为负\")\n",
    "    \n",
    "    def increment_mileage(self, distance_delta):\n",
    "        \"\"\"Increment mileage\"\"\"\n",
    "        if distance_delta > 0:\n",
    "            self.mileage += distance_delta\n",
    "        else:\n",
    "            print(\"增加里程数不能为负\")\n"
   ]
  },
  {
   "cell_type": "code",
   "execution_count": 27,
   "metadata": {},
   "outputs": [
    {
     "data": {
      "text/plain": [
       "'Total Mileage: 10800'"
      ]
     },
     "execution_count": 27,
     "metadata": {},
     "output_type": "execute_result"
    }
   ],
   "source": [
    "my_old_car = Car(\"BYD\", \"宋\", 2016)\n",
    "my_old_car.set_mileage(10000)\n",
    "my_old_car.increment_mileage(800)\n",
    "s = my_old_car.get_mileage()\n",
    "s "
   ]
  },
  {
   "cell_type": "markdown",
   "metadata": {},
   "source": [
    "#### 小结\n"
   ]
  },
  {
   "cell_type": "code",
   "execution_count": 28,
   "metadata": {},
   "outputs": [
    {
     "data": {
      "text/plain": [
       "[<__main__.Car at 0x2875a601220>, <__main__.Car at 0x2875b0fb670>]"
      ]
     },
     "execution_count": 28,
     "metadata": {},
     "output_type": "execute_result"
    }
   ],
   "source": [
    "my_new_car = Car(\"Audi\", \"A6\", 2018)\n",
    "cars = [my_old_car, my_new_car]\n",
    "cars "
   ]
  },
  {
   "cell_type": "markdown",
   "metadata": {},
   "source": [
    "- 包含的信息量可以是极大的，可以创建无穷多的实例\n",
    "\n",
    "- 高度的拟人（物）化，符合人类对客观世界的抽象和理解"
   ]
  },
  {
   "cell_type": "markdown",
   "metadata": {},
   "source": [
    "### 类的继承\n",
    "\n",
    "**引子**\n",
    "\n",
    "人类在生物界的分支链\n",
    "\n",
    "生物 - 自然界 - 脊索动物门 - 哺乳动物纲 - 灵长目 - 人科 - 人属 - 智人种\n",
    "\n",
    "**公共特征逐渐增加的过程**\n",
    "\n",
    "【问题】\n",
    "\n",
    "假设二元系统： 人属 = {A人种, B人种, C人种， ...}\n",
    "\n",
    "方案一： 各自独立，分别构造各自人种的类\n",
    "\n",
    "方案二：\n",
    "\n",
    "1. 将各人种**公共特征提取出来**， 建立人属的类；\n",
    "\n",
    "2. 各人种**继承上一级（人属）的公共特征，然后添加自身特殊特征，** 构建各自人种的类。\n",
    "\n",
    "通常，我们选择方案二，因为他避免了过多的重复劳动。\n",
    "\n",
    "**所谓继承，就是低层抽象继承搞成抽象的过程。**\n",
    "\n",
    "#### 简单的继承\n",
    "\n",
    "**父类**"
   ]
  },
  {
   "cell_type": "code",
   "execution_count": 29,
   "metadata": {},
   "outputs": [],
   "source": [
    "class Car:\n",
    "    \"\"\"Simulate Car\"\"\"\n",
    "    \n",
    "    def __init__(self, brand, model, year):    # self不能去掉\n",
    "        \"\"\"初始化汽车属性\"\"\"    # 相当于类的内部属性\n",
    "        self.brand = brand\n",
    "        self.model = model\n",
    "        self.year = year\n",
    "        self.mileage = 0\n",
    "        \n",
    "    \n",
    "    def get_main_info(self):    # self不能去掉\n",
    "        \"\"\"Get main information of A car\"\"\"\n",
    "        print(\"Brand: {}, Model: {}, Year: {}\".format(self.brand, self.model, self.year))\n",
    "    \n",
    "    def get_mileage(self):\n",
    "        \"\"\"Get the mileage\"\"\"\n",
    "        return \"Total Mileage: {}\".format(self.mileage)\n",
    "    \n",
    "    \n",
    "    def set_mileage(self, distance):\n",
    "        \"\"\"Set mileage\"\"\"\n",
    "        if distance > 0:\n",
    "            self.mileage = distance\n",
    "        else:\n",
    "            print(\"里程数不能为负\")\n",
    "    \n",
    "    def increment_mileage(self, distance_delta):\n",
    "        \"\"\"Increment mileage\"\"\"\n",
    "        if distance_delta > 0:\n",
    "            self.mileage += distance_delta\n",
    "        else:\n",
    "            print(\"增加里程数不能为负\")"
   ]
  },
  {
   "cell_type": "markdown",
   "metadata": {},
   "source": [
    "**子类**\n",
    "\n",
    "class 子类名（父类名）:\n",
    "\n",
    "- 新建一个电动汽车的类"
   ]
  },
  {
   "cell_type": "code",
   "execution_count": 34,
   "metadata": {},
   "outputs": [],
   "source": [
    "class ElectricCar(Car):    # ElectricCar 继承父类Car\n",
    "    \"\"\"Simulate Electric Car\"\"\"\n",
    "    def __init__(self, brand, model, year):\n",
    "        \"\"\"Init Electric Car attributes\"\"\"\n",
    "        super().__init__(brand, model, year)    #声明继承父类的属性\n",
    "        s"
   ]
  },
  {
   "cell_type": "code",
   "execution_count": 35,
   "metadata": {},
   "outputs": [
    {
     "name": "stdout",
     "output_type": "stream",
     "text": [
      "Brand: Tesla, Model: Y5, Year: 2020\n"
     ]
    }
   ],
   "source": []
  },
  {
   "cell_type": "markdown",
   "metadata": {},
   "source": [
    "- 自动继承父类的所有方法"
   ]
  },
  {
   "cell_type": "code",
   "execution_count": 37,
   "metadata": {},
   "outputs": [
    {
     "name": "stdout",
     "output_type": "stream",
     "text": [
      "Brand: Tesla, Model: Y5, Year: 2020\n"
     ]
    }
   ],
   "source": [
    "my_electric_car = ElectricCar(\"Tesla\", \"Y5\", 2020)\n",
    "my_electric_car.get_main_info()"
   ]
  },
  {
   "cell_type": "markdown",
   "metadata": {},
   "source": [
    "#### 子类添加属性和方法"
   ]
  },
  {
   "cell_type": "code",
   "execution_count": 38,
   "metadata": {},
   "outputs": [],
   "source": [
    "class ElectricCar(Car):    # ElectricCar 继承父类Car\n",
    "    \"\"\"Simulate Electric Car\"\"\"\n",
    "    def __init__(self, brand, model, year, battery_size):\n",
    "        \"\"\"Init Electric Car attributes\"\"\"\n",
    "        super().__init__(brand, model, year)    # 声明继承父类的属性\n",
    "        self.battery_size = battery_size        # 电池容量\n",
    "        self.electric_quantity = battery_size   # 电池剩余电量\n",
    "        self.electric2distance_ratio = 5        # 电池距离换算系数 5公里/ KW.h\n",
    "        self.remainder_range = self.electric_quantity * self.electric2distance_ratio    # 剩余可行使里程\n",
    "        \n",
    "    \n",
    "    def get_electric_quantity(self):\n",
    "        \"\"\"Check battery size\"\"\"\n",
    "        print(\"当前电池剩余电量: {} KW.h\".format(self.electric_quantity))\n",
    "    \n",
    "    \n",
    "    def set_electric_quantity(self, electric_quantity):\n",
    "        \"\"\"Set battery electric, recalculate remainer mileage\"\"\"\n",
    "        if electric_quantity > 0 and electric_quantity <= self.battery_size:\n",
    "            self.electric_quantity = electric_quantity\n",
    "            self.remainder_range = self.electric2distance_ratio * self.electric_quantity\n",
    "        else:\n",
    "            print(\"Electric Quantity is not reasonable.\")\n",
    "    \n",
    "    \n",
    "    def get_remainder_range(self):\n",
    "        \"\"\"Check remainer mileage\"\"\"\n",
    "        print(\"Electric Quantity can drive {} Km.\".format(self.remainder_range))\n"
   ]
  },
  {
   "cell_type": "code",
   "execution_count": 44,
   "metadata": {},
   "outputs": [
    {
     "name": "stdout",
     "output_type": "stream",
     "text": [
      "当前电池剩余电量: 80 KW.h\n",
      "None\n",
      "Electric Quantity can drive 400 Km.\n",
      "None\n",
      "当前电池剩余电量: 50 KW.h\n",
      "None\n",
      "Electric Quantity can drive 250 Km.\n",
      "None\n"
     ]
    }
   ],
   "source": [
    "my_electric_car = ElectricCar(\"Tesla\", \"Y5\", 2020, 80)\n",
    "print(my_electric_car.get_electric_quantity())\n",
    "print(my_electric_car.get_remainder_range())\n",
    "my_electric_car.set_electric_quantity(50)\n",
    "print(my_electric_car.get_electric_quantity())\n",
    "print(my_electric_car.get_remainder_range())"
   ]
  },
  {
   "cell_type": "markdown",
   "metadata": {},
   "source": [
    "#### 重写父类的方法 - 多态"
   ]
  },
  {
   "cell_type": "code",
   "execution_count": 54,
   "metadata": {},
   "outputs": [],
   "source": [
    "class ElectricCar(Car):    # ElectricCar 继承父类Car\n",
    "    \"\"\"Simulate Electric Car\"\"\"\n",
    "    def __init__(self, brand, model, year, battery_size):\n",
    "        \"\"\"Init Electric Car attributes\"\"\"\n",
    "        super().__init__(brand, model, year)    # 声明继承父类的属性\n",
    "        self.battery_size = battery_size        # 电池容量\n",
    "        self.electric_quantity = battery_size   # 电池剩余电量\n",
    "        self.electric2distance_ratio = 5        # 电池距离换算系数 5公里/ KW.h\n",
    "        self.remainder_range = self.electric_quantity * self.electric2distance_ratio    # 剩余可行使里程\n",
    "        \n",
    "    \n",
    "    def get_electric_quantity(self):\n",
    "        \"\"\"Check battery size\"\"\"\n",
    "        print(\"当前电池剩余电量: {} KW.h\".format(self.electric_quantity))\n",
    "    \n",
    "    \n",
    "    def set_electric_quantity(self, electric_quantity):\n",
    "        \"\"\"Set battery electric, recalculate remainer mileage\"\"\"\n",
    "        if electric_quantity > 0 and electric_quantity <= self.battery_size:\n",
    "            self.electric_quantity = electric_quantity\n",
    "            self.remainder_range = self.electric2distance_ratio * self.electric_quantity\n",
    "        else:\n",
    "            print(\"Electric Quantity is not reasonable.\")\n",
    "    \n",
    "    \n",
    "    def get_remainder_range(self):\n",
    "        \"\"\"Check remainer mileage\"\"\"\n",
    "        print(\"Electric Quantity can drive {} Km.\".format(self.remainder_range))\n",
    "\n",
    "\n",
    "    def get_main_info(self):\n",
    "        \"\"\"Get main information of A electric car\"\"\"\n",
    "        print(\"Brand: {}, Model: {}, Manufacture Year: {}, Cruising Mileage {}\".format(self.brand, self.model, \\\n",
    "                                                                                       self.year, self.battery_size * self.electric2distance_ratio))"
   ]
  },
  {
   "cell_type": "code",
   "execution_count": 55,
   "metadata": {},
   "outputs": [
    {
     "name": "stdout",
     "output_type": "stream",
     "text": [
      "Brand: Tesla, Model: Y5, Manufacture Year: 2020, Cruising Mileage 400\n"
     ]
    }
   ],
   "source": [
    "my_electric_car = ElectricCar(\"Tesla\", \"Y5\", 2020, 80)\n",
    "my_electric_car.get_main_info()"
   ]
  },
  {
   "cell_type": "markdown",
   "metadata": {},
   "source": [
    "#### 用在类中的实例\n",
    "\n",
    "将电池抽象成一个对象\n",
    "\n",
    "逻辑更加清晰\n"
   ]
  },
  {
   "cell_type": "code",
   "execution_count": 64,
   "metadata": {},
   "outputs": [],
   "source": [
    "class Battery():\n",
    "    \"\"\"Simulate Battery in Electric Car\"\"\"\n",
    "    \n",
    "    \n",
    "    def __init__(self, battery_size = 70):\n",
    "        self.battery_size = battery_size         #电池容量\n",
    "        self.electric_quantity = battery_size    # 电池剩余电量\n",
    "        self.electric2distance_ratio = 5         #电量距离换算系数 5公里/Kw.h\n",
    "        self.remainder_range = self.electric_quantity * self.electric2distance_ratio    #剩余可行使里程\n",
    "    \n",
    "    \n",
    "    def get_electric_quantity(self):\n",
    "        \"\"\"Get battery electric quantity\"\"\"\n",
    "        print(\"Battery electric quantity: {} Kw.h\".format(self.electric_quantity))\n",
    "    \n",
    "    \n",
    "    def set_electric_quantity(self, electric_quantity):\n",
    "        \"\"\"Set battery electric, recalculate remainer mileage\"\"\"\n",
    "        if electric_quantity > 0 and electric_quantity <= self.battery_size:\n",
    "            self.electric_quantity = electric_quantity\n",
    "            self.remainder_range = self.electric2distance_ratio * self.electric_quantity\n",
    "        else:\n",
    "            print(\"Setting quantity is not reasonable.\")\n",
    "    \n",
    "    \n",
    "    def get_remainder_range(self):\n",
    "        \"\"\"Check remainer mileage\"\"\"\n",
    "        print(\"Car can drive {} Km.\".format(self.remainder_range))  \n",
    "   \n",
    "    "
   ]
  },
  {
   "cell_type": "markdown",
   "metadata": {},
   "source": [
    "- Electric Car 类中使用电池类\n"
   ]
  },
  {
   "cell_type": "code",
   "execution_count": 65,
   "metadata": {},
   "outputs": [],
   "source": [
    "class ElectricCar(Car):    # ElectricCar 继承父类Car\n",
    "    \"\"\"Simulate Electric Car\"\"\"\n",
    "    def __init__(self, brand, model, year, battery_size):\n",
    "        \"\"\"Init Electric Car attributes\"\"\"\n",
    "        super().__init__(brand, model, year)    # 声明继承父类的属性\n",
    "        self.battery = Battery(battery_size)    # 电池\n",
    "        \n",
    "    \n",
    "    def get_main_info(self):\n",
    "        \"\"\"Get main information of A electric car\"\"\"\n",
    "        print(\"Brand: {}, Model: {}, Manufacture Year: {}, Cruising Mileage {}\".format(self.brand, self.model, self.year, \\\n",
    "                                                                                       self.battery.battery_size * self.battery.electric2distance_ratio))"
   ]
  },
  {
   "cell_type": "code",
   "execution_count": 69,
   "metadata": {},
   "outputs": [
    {
     "name": "stdout",
     "output_type": "stream",
     "text": [
      "Brand: Tesla, Model: S, Manufacture Year: 2019, Cruising Mileage 400\n",
      "Battery electric quantity: 80 Kw.h\n",
      "Battery electric quantity: 50 Kw.h\n",
      "Car can drive 250 Km.\n"
     ]
    }
   ],
   "source": [
    "my_electric_car = ElectricCar(\"Tesla\", \"S\", 2019, 80)\n",
    "my_electric_car.get_main_info()                       # 获取电动车对象的主要信息\n",
    "my_electric_car.battery.get_electric_quantity()       # 获取当前电池电量\n",
    "my_electric_car.battery.set_electric_quantity(50)     # 重设电池电量\n",
    "my_electric_car.battery.get_electric_quantity()       # 获取当前电池电量\n",
    "my_electric_car.battery.get_remainder_range()         # 获取当前剩余可行使里程"
   ]
  },
  {
   "cell_type": "code",
   "execution_count": null,
   "metadata": {},
   "outputs": [],
   "source": []
  }
 ],
 "metadata": {
  "kernelspec": {
   "display_name": "Python 3",
   "language": "python",
   "name": "python3"
  },
  "language_info": {
   "codemirror_mode": {
    "name": "ipython",
    "version": 3
   },
   "file_extension": ".py",
   "mimetype": "text/x-python",
   "name": "python",
   "nbconvert_exporter": "python",
   "pygments_lexer": "ipython3",
   "version": "3.8.5"
  },
  "toc": {
   "base_numbering": 1,
   "nav_menu": {},
   "number_sections": true,
   "sideBar": true,
   "skip_h1_title": false,
   "title_cell": "Table of Contents",
   "title_sidebar": "Contents",
   "toc_cell": false,
   "toc_position": {},
   "toc_section_display": true,
   "toc_window_display": false
  }
 },
 "nbformat": 4,
 "nbformat_minor": 4
}
