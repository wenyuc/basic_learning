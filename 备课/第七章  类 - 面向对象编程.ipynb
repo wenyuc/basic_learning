{
 "cells": [
  {
   "cell_type": "markdown",
   "metadata": {},
   "source": [
    "## 面向对象编程\n",
    "\n",
    "**为什么要用面向对象**\n",
    "\n",
    "- 一切皆对象\n",
    "一把椅子、一只小狗、一块巧克力、一张信用卡\n",
    "\n",
    "- 一切对象，都有自己内在的属性\n",
    "狗的品种、椅子的质地、信用卡的额度、巧克力的口味\n",
    "\n",
    "- 一切行为，皆是对象的行为\n",
    "狗叫、椅子移动、刷信用卡、巧克力融化\n",
    "\n",
    "**计算机语言怎样表达对象：类时对象的载体**\n",
    "\n",
    "不同年龄、肤色、品质的猫，每一只都是一个对象。\n",
    "\n",
    "他们都有一个共同的特征：都是猫\n",
    "\n",
    "我们可以把一类对象的公共特征抽象出来，创建通用的类。"
   ]
  },
  {
   "cell_type": "code",
   "execution_count": 1,
   "metadata": {},
   "outputs": [],
   "source": [
    "# create a class\n",
    "class Cat:\n",
    "    \"\"\"Simulate Cat\"\"\"\n",
    "    \n",
    "    \n",
    "    def __init__(self, name):\n",
    "        \"\"\"init attribute\"\"\"\n",
    "        self.name = name\n",
    "    \n",
    "    \n",
    "    def jump(self):\n",
    "        \"\"\"Jump\"\"\"\n",
    "        print(self.name + \" is jumping.\")"
   ]
  },
  {
   "cell_type": "code",
   "execution_count": 2,
   "metadata": {},
   "outputs": [],
   "source": [
    "# create an instance\n",
    "my_cat = Cat(\"Lucy\")\n",
    "your_cat = Cat(\"Yummy\")\n"
   ]
  },
  {
   "cell_type": "code",
   "execution_count": 3,
   "metadata": {},
   "outputs": [
    {
     "name": "stdout",
     "output_type": "stream",
     "text": [
      "Lucy\n",
      "Yummy\n"
     ]
    }
   ],
   "source": [
    "# call attributes\n",
    "print(my_cat.name)\n",
    "print(your_cat.name)"
   ]
  },
  {
   "cell_type": "code",
   "execution_count": 6,
   "metadata": {},
   "outputs": [
    {
     "name": "stdout",
     "output_type": "stream",
     "text": [
      "Lucy is jumping.\n",
      "Yummy is jumping.\n"
     ]
    }
   ],
   "source": [
    "my_cat.jump()\n",
    "your_cat.jump()"
   ]
  },
  {
   "cell_type": "markdown",
   "metadata": {},
   "source": [
    "### 类的定义\n",
    "\n",
    "**三要素：类名、属性、方法**\n",
    "\n",
    "#### 类的命名\n",
    "\n",
    "- 要有实际意义\n",
    "\n",
    "- 驼峰法，首字母大写，Cat， CreditCard，ElectricCar\n",
    "\n",
    "#### 类的属性\n"
   ]
  },
  {
   "cell_type": "code",
   "execution_count": 7,
   "metadata": {},
   "outputs": [],
   "source": [
    "# def __init__(self, 要传递的参数):初始化类的属性"
   ]
  },
  {
   "cell_type": "code",
   "execution_count": 8,
   "metadata": {},
   "outputs": [],
   "source": [
    "# create a class Car\n",
    "class Car:\n",
    "    \"\"\"Simulate Car\"\"\"\n",
    "    \n",
    "    def __init__(self, brand, model, year):\n",
    "        \"\"\"初始化汽车属性\"\"\"    # 相当于类的内部属性\n",
    "        self.brand = brand\n",
    "        self.model = model\n",
    "        self.year = year\n",
    "        self.milage = 0"
   ]
  },
  {
   "cell_type": "markdown",
   "metadata": {},
   "source": [
    "#### 类的方法\n",
    "\n",
    "相对于类内部定义的函数"
   ]
  },
  {
   "cell_type": "code",
   "execution_count": null,
   "metadata": {},
   "outputs": [],
   "source": [
    "class Car:\n",
    "    \"\"\"Simulate Car\"\"\"\n",
    "    \n",
    "    def __init__(self, brand, model, year):\n",
    "        \"\"\"初始化汽车属性\"\"\"    # 相当于类的内部属性\n",
    "        self.brand = brand\n",
    "        self.model = model\n",
    "        self.year = year\n",
    "        self.milage = 0"
   ]
  }
 ],
 "metadata": {
  "kernelspec": {
   "display_name": "Python 3",
   "language": "python",
   "name": "python3"
  },
  "language_info": {
   "codemirror_mode": {
    "name": "ipython",
    "version": 3
   },
   "file_extension": ".py",
   "mimetype": "text/x-python",
   "name": "python",
   "nbconvert_exporter": "python",
   "pygments_lexer": "ipython3",
   "version": "3.7.9"
  },
  "toc": {
   "base_numbering": 1,
   "nav_menu": {},
   "number_sections": true,
   "sideBar": true,
   "skip_h1_title": false,
   "title_cell": "Table of Contents",
   "title_sidebar": "Contents",
   "toc_cell": false,
   "toc_position": {},
   "toc_section_display": true,
   "toc_window_display": false
  }
 },
 "nbformat": 4,
 "nbformat_minor": 4
}
