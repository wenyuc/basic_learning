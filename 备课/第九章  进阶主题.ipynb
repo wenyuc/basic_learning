{
 "cells": [
  {
   "cell_type": "markdown",
   "metadata": {},
   "source": [
    "## 进阶主题\n",
    "\n",
    "### 数据类型的底层实现\n",
    "\n",
    "#### 从奇怪的列表说起\n",
    "\n",
    "##### 错综复杂的赋值"
   ]
  },
  {
   "cell_type": "code",
   "execution_count": 1,
   "metadata": {},
   "outputs": [
    {
     "data": {
      "text/plain": [
       "[1, [22, 33, 44], (5, 6, 7), {'Age': 19}]"
      ]
     },
     "execution_count": 1,
     "metadata": {},
     "output_type": "execute_result"
    }
   ],
   "source": [
    "list_1 = [1,[22, 33, 44], (5, 6, 7), {\"Age\": 19}]\n",
    "list_1"
   ]
  },
  {
   "cell_type": "markdown",
   "metadata": {},
   "source": [
    "##### 浅拷贝"
   ]
  },
  {
   "cell_type": "code",
   "execution_count": 2,
   "metadata": {},
   "outputs": [],
   "source": [
    "# list_3 = list_1    #只是给list_1起了一个别名\n",
    "list_2 = list_1.copy()    #或者 = list_1[:], = list(list_1) 都是浅拷贝"
   ]
  },
  {
   "cell_type": "markdown",
   "metadata": {},
   "source": [
    "- 对浅拷贝后的列表进行操作"
   ]
  },
  {
   "cell_type": "code",
   "execution_count": 3,
   "metadata": {},
   "outputs": [
    {
     "name": "stdout",
     "output_type": "stream",
     "text": [
      "[1, [22, 33, 44, 55], (5, 6, 7), {'Age': 19}]\n",
      "[1, [22, 33, 44, 55], (5, 6, 7), {'Age': 19}]\n"
     ]
    }
   ],
   "source": [
    "list_2[1].append(55)\n",
    "print(list_1)\n",
    "print(list_2)"
   ]
  },
  {
   "cell_type": "markdown",
   "metadata": {},
   "source": [
    "注意list_2中的第一项元素进行了修改，\n",
    "\n",
    "但是list_1中的第一项元素也进行了修改。\n",
    "\n",
    "为什么？\n",
    "\n",
    "我们不是已经进行浅拷贝了吗"
   ]
  },
  {
   "cell_type": "markdown",
   "metadata": {},
   "source": [
    "##### 列表的底层实现\n",
    "\n",
    "**引用数组的概念**\n",
    "\n",
    "列表内的元素可以分散地存储在内存中的不同位置。\n",
    "\n",
    "列表中存储的，实际上是这些**元素的地址** -**地址的存储在内存中是连续的**"
   ]
  },
  {
   "cell_type": "code",
   "execution_count": 4,
   "metadata": {},
   "outputs": [],
   "source": [
    "list_1\n",
    "list_2 = list(list_1)    #浅拷贝"
   ]
  },
  {
   "cell_type": "markdown",
   "metadata": {},
   "source": [
    "- 新增元素"
   ]
  },
  {
   "cell_type": "code",
   "execution_count": 5,
   "metadata": {},
   "outputs": [],
   "source": [
    "list_1.append(100)\n",
    "list_2.append(\"Harry Potter\")"
   ]
  },
  {
   "cell_type": "code",
   "execution_count": 6,
   "metadata": {},
   "outputs": [
    {
     "name": "stdout",
     "output_type": "stream",
     "text": [
      "[1, [22, 33, 44, 55], (5, 6, 7), {'Age': 19}, 100]\n",
      "[1, [22, 33, 44, 55], (5, 6, 7), {'Age': 19}, 'Harry Potter']\n"
     ]
    }
   ],
   "source": [
    "print(list_1)\n",
    "print(list_2)"
   ]
  },
  {
   "cell_type": "markdown",
   "metadata": {},
   "source": [
    "- 修改元素"
   ]
  },
  {
   "cell_type": "code",
   "execution_count": 7,
   "metadata": {},
   "outputs": [],
   "source": [
    "list_1[0] = 10\n",
    "list_2[0] = 20\n"
   ]
  },
  {
   "cell_type": "code",
   "execution_count": 8,
   "metadata": {},
   "outputs": [
    {
     "name": "stdout",
     "output_type": "stream",
     "text": [
      "[10, [22, 33, 44, 55], (5, 6, 7), {'Age': 19}, 100]\n",
      "[20, [22, 33, 44, 55], (5, 6, 7), {'Age': 19}, 'Harry Potter']\n"
     ]
    }
   ],
   "source": [
    "print(list_1)\n",
    "print(list_2)"
   ]
  },
  {
   "cell_type": "markdown",
   "metadata": {},
   "source": [
    "- **对列表型元素进行操作**"
   ]
  },
  {
   "cell_type": "code",
   "execution_count": 9,
   "metadata": {},
   "outputs": [],
   "source": [
    "list_1[1].remove(44)\n",
    "list_2[1] += [77, 88]"
   ]
  },
  {
   "cell_type": "code",
   "execution_count": 10,
   "metadata": {},
   "outputs": [
    {
     "name": "stdout",
     "output_type": "stream",
     "text": [
      "[10, [22, 33, 55, 77, 88], (5, 6, 7), {'Age': 19}, 100]\n",
      "[20, [22, 33, 55, 77, 88], (5, 6, 7), {'Age': 19}, 'Harry Potter']\n"
     ]
    }
   ],
   "source": [
    "print(list_1)\n",
    "print(list_2)"
   ]
  },
  {
   "cell_type": "markdown",
   "metadata": {},
   "source": [
    "- **对元组型元素进行操作**"
   ]
  },
  {
   "cell_type": "code",
   "execution_count": 11,
   "metadata": {},
   "outputs": [],
   "source": [
    "list_2[2] += (8,9)"
   ]
  },
  {
   "cell_type": "code",
   "execution_count": 12,
   "metadata": {},
   "outputs": [
    {
     "name": "stdout",
     "output_type": "stream",
     "text": [
      "[10, [22, 33, 55, 77, 88], (5, 6, 7), {'Age': 19}, 100]\n",
      "[20, [22, 33, 55, 77, 88], (5, 6, 7, 8, 9), {'Age': 19}, 'Harry Potter']\n"
     ]
    }
   ],
   "source": [
    "print(list_1)\n",
    "print(list_2)"
   ]
  },
  {
   "cell_type": "markdown",
   "metadata": {},
   "source": [
    "**从结果来看，元组是不可改变的**\n",
    "\n",
    "**元组如果改变后，就产生了一个新的元组。**"
   ]
  },
  {
   "cell_type": "markdown",
   "metadata": {},
   "source": [
    "- 对字典元素进行操作"
   ]
  },
  {
   "cell_type": "code",
   "execution_count": 13,
   "metadata": {},
   "outputs": [],
   "source": [
    "list_2[-2][\"Name\"] = \"Sarah\"\n"
   ]
  },
  {
   "cell_type": "code",
   "execution_count": 14,
   "metadata": {},
   "outputs": [
    {
     "name": "stdout",
     "output_type": "stream",
     "text": [
      "[10, [22, 33, 55, 77, 88], (5, 6, 7), {'Age': 19, 'Name': 'Sarah'}, 100]\n",
      "[20, [22, 33, 55, 77, 88], (5, 6, 7, 8, 9), {'Age': 19, 'Name': 'Sarah'}, 'Harry Potter']\n"
     ]
    }
   ],
   "source": [
    "print(list_1)\n",
    "print(list_2)"
   ]
  },
  {
   "cell_type": "markdown",
   "metadata": {},
   "source": [
    "- **总结**\n",
    "\n",
    "列表和字典数据结构是可变类型，地址可以不变，但是内容发生变化。\n",
    "\n",
    "元组，数字和字符串类型是不可变类型，只要内容发生变化，地址就发生变化。\n",
    "\n",
    "如果列表中存储了列表或字典这些可变数据类型，又要进行**安全的复制**，就需要**深拷贝**。"
   ]
  },
  {
   "cell_type": "markdown",
   "metadata": {},
   "source": [
    "##### 深拷贝\n",
    "\n",
    "深拷贝将所有层级的相关元素全部复制，完全分开，泾渭分明，避免了浅拷贝的问题"
   ]
  },
  {
   "cell_type": "code",
   "execution_count": 15,
   "metadata": {},
   "outputs": [],
   "source": [
    "import copy\n",
    "\n",
    "list_1 = [1,[22, 33, 44], (5, 6, 7), {\"Age\": 19}]\n",
    "list_2 = copy.deepcopy(list_1)\n",
    "\n",
    "list_1[-1][\"Name\"] = \"Sarah\"\n",
    "list_2[1].append(55)\n"
   ]
  },
  {
   "cell_type": "code",
   "execution_count": 16,
   "metadata": {},
   "outputs": [
    {
     "name": "stdout",
     "output_type": "stream",
     "text": [
      "[1, [22, 33, 44], (5, 6, 7), {'Age': 19, 'Name': 'Sarah'}]\n",
      "[1, [22, 33, 44, 55], (5, 6, 7), {'Age': 19}]\n"
     ]
    }
   ],
   "source": [
    "print(list_1)\n",
    "print(list_2)"
   ]
  },
  {
   "cell_type": "markdown",
   "metadata": {},
   "source": [
    "#### 神秘的字典\n",
    "\n",
    "##### 快速的查找"
   ]
  },
  {
   "cell_type": "code",
   "execution_count": 17,
   "metadata": {},
   "outputs": [],
   "source": [
    "import time \n",
    "ls_1 = list(range(1000000))\n",
    "ls_2 = list(range(500)) + [-10]*500"
   ]
  },
  {
   "cell_type": "code",
   "execution_count": 18,
   "metadata": {},
   "outputs": [
    {
     "name": "stdout",
     "output_type": "stream",
     "text": [
      "查找1000个元素，在ls_1中的有500个，共用时13.1秒.\n"
     ]
    }
   ],
   "source": [
    "start = time.time()\n",
    "count = 0\n",
    "\n",
    "for n in ls_2:\n",
    "    if n in ls_1:\n",
    "        count += 1\n",
    "\n",
    "end = time.time()\n",
    "print(\"查找{}个元素，在ls_1中的有{}个，共用时{}秒.\".format(len(ls_2), count, round((end - start),2)))"
   ]
  },
  {
   "cell_type": "code",
   "execution_count": 19,
   "metadata": {},
   "outputs": [
    {
     "name": "stdout",
     "output_type": "stream",
     "text": [
      "查找1000个元素，在ls_1中的有500个，共用时0.0秒.\n"
     ]
    }
   ],
   "source": [
    "import time\n",
    "\n",
    "d = {i:1 for i in range(1000000)}\n",
    "ls_2 = list(range(500)) + [-10]*500\n",
    "\n",
    "start = time.time()\n",
    "count = 0\n",
    "\n",
    "for n in ls_2:\n",
    "    try:\n",
    "        d[n]\n",
    "    except:\n",
    "        pass\n",
    "    else:\n",
    "        count += 1\n",
    "\n",
    "end = time.time()\n",
    "print(\"查找{}个元素，在ls_1中的有{}个，共用时{}秒.\".format(len(ls_2), count, round((end - start),5)))"
   ]
  },
  {
   "cell_type": "markdown",
   "metadata": {},
   "source": [
    "##### 字典的底层实现\n",
    "\n",
    "通过**稀疏数组**来实现值的存储与访问。\n",
    "\n",
    "**字典的创建过程**\n",
    "\n",
    "第一步： 创建一个散列表（稀疏数组N>>n)"
   ]
  },
  {
   "cell_type": "code",
   "execution_count": 20,
   "metadata": {},
   "outputs": [],
   "source": [
    "d = {}"
   ]
  },
  {
   "cell_type": "markdown",
   "metadata": {},
   "source": [
    "第二步： 通过hash()计算键的散列值"
   ]
  },
  {
   "cell_type": "code",
   "execution_count": 21,
   "metadata": {},
   "outputs": [
    {
     "name": "stdout",
     "output_type": "stream",
     "text": [
      "-4016825373593068610\n",
      "1024\n",
      "7020746624873249165\n"
     ]
    }
   ],
   "source": [
    "print(hash('python'))\n",
    "print(hash(1024))    # 整数的散列值就是其本身\n",
    "print(hash((1,43)))"
   ]
  },
  {
   "cell_type": "code",
   "execution_count": 22,
   "metadata": {},
   "outputs": [
    {
     "name": "stdout",
     "output_type": "stream",
     "text": [
      "8337860092475284148\n"
     ]
    }
   ],
   "source": [
    "d['Age'] = 19    #增加键值对的操作，首先计算键值的散列值hash('Age')\n",
    "print(hash('Age'))"
   ]
  },
  {
   "cell_type": "markdown",
   "metadata": {},
   "source": [
    "第二步 根据计算的散列值确定其在散列表中的位置\n",
    "\n",
    "极个别的时候，散列值会发生冲突，则内部有相应的解决冲突的办法\n",
    "\n",
    "第三步 在该位置上存入值\n",
    "\n",
    "**键值对的访问过程**"
   ]
  },
  {
   "cell_type": "code",
   "execution_count": 23,
   "metadata": {},
   "outputs": [
    {
     "data": {
      "text/plain": [
       "19"
      ]
     },
     "execution_count": 23,
     "metadata": {},
     "output_type": "execute_result"
    }
   ],
   "source": [
    "d['Age']"
   ]
  },
  {
   "cell_type": "markdown",
   "metadata": {},
   "source": [
    "第一步： 计算要访问的键的散列值\n",
    "\n",
    "第二步： 根据计算的散列值，通过一定的不i则，确定其在散列表中的位置\n",
    "\n",
    "第三步：读取该位置上存储的值\n",
    "\n",
    "如果存在，则返回该值\n",
    "\n",
    "如果步存在，报错KeyError\n",
    "\n",
    "**小结**\n",
    "\n",
    "- 字典数据类型，通过空间换时间，实现了快速的数据查找。\n",
    "\n",
    "也说明了字典的空间利用效率低下\n",
    "\n",
    "- 因为散列值对应位置的顺序与键在字典中显示的顺序可能不通，因此表现出来的**字典是无序的**。\n",
    "\n",
    "N >> n, 如果N = n, 会产生很多位置冲突\n",
    "\n",
    "#### 紧凑的字符串\n",
    "\n",
    "通过**紧凑数组**实现字符串的存储。\n",
    "\n",
    "- 数组在内存中是连续存放的，效率更高，节省空间。\n",
    "\n",
    "- **采用引用数组，字符串采用紧凑数组**\n",
    "\n",
    "#### 是否可变\n",
    "\n",
    "- 不可变的类型：数字、字符串和元组\n",
    "\n",
    "在声明周期中保持内容不变\n",
    "\n",
    "- 换句话说，改变了就不是它自己了（id变了）\n",
    "\n",
    "- 不可变对象的 += 操作，实际上创建了一个**新的对象**。"
   ]
  },
  {
   "cell_type": "code",
   "execution_count": 24,
   "metadata": {},
   "outputs": [
    {
     "name": "stdout",
     "output_type": "stream",
     "text": [
      "140712719820768\n",
      "3141689264432\n"
     ]
    }
   ],
   "source": [
    "x = 7\n",
    "y = \"Python\"\n",
    "\n",
    "print(id(x))\n",
    "print(id(y))"
   ]
  },
  {
   "cell_type": "code",
   "execution_count": 25,
   "metadata": {},
   "outputs": [
    {
     "name": "stdout",
     "output_type": "stream",
     "text": [
      "140712719820864\n",
      "3139626289456\n"
     ]
    }
   ],
   "source": [
    "x += 3\n",
    "y += \" v3.8\"\n",
    "\n",
    "print(id(x))\n",
    "print(id(y))"
   ]
  },
  {
   "cell_type": "markdown",
   "metadata": {},
   "source": [
    "- 元组并不总是不可变的。\n",
    "\n",
    "当它中的元素是不可变的，元组才是不可变的；如果有元素是可变的，那元组也是可变的。"
   ]
  },
  {
   "cell_type": "code",
   "execution_count": 26,
   "metadata": {},
   "outputs": [
    {
     "name": "stdout",
     "output_type": "stream",
     "text": [
      "3141731574592\n",
      "3139626320256\n"
     ]
    }
   ],
   "source": [
    "t = (1,2)\n",
    "print(id(t))\n",
    "t += (3,4)\n",
    "print(id(t))"
   ]
  },
  {
   "cell_type": "code",
   "execution_count": 27,
   "metadata": {},
   "outputs": [
    {
     "name": "stdout",
     "output_type": "stream",
     "text": [
      "3141692541056\n",
      "3141692541056\n",
      "(1, [2, 3])\n"
     ]
    }
   ],
   "source": [
    "# mutable tuple\n",
    "t = (1,[2])\n",
    "print(id(t))\n",
    "t[1].append(3)\n",
    "print(id(t))\n",
    "print(t)"
   ]
  },
  {
   "cell_type": "markdown",
   "metadata": {},
   "source": [
    "#### 可变数据类型： 列表，字典、集合\n",
    "\n",
    "- id保持不变，但是里面的内容可以变\n",
    "\n",
    "- 可变对象的+= 操作，实际上再原对象的基础上就地修改"
   ]
  },
  {
   "cell_type": "code",
   "execution_count": 28,
   "metadata": {},
   "outputs": [
    {
     "name": "stdout",
     "output_type": "stream",
     "text": [
      "ls id:  3139626288512\n",
      "d id:  3141732942272\n"
     ]
    }
   ],
   "source": [
    "ls = [1,2,3]\n",
    "d = {'Name':'Sarah', \"Age\": 18}\n",
    "\n",
    "print(\"ls id: \", id(ls))\n",
    "print(\"d id: \", id(d))"
   ]
  },
  {
   "cell_type": "code",
   "execution_count": 29,
   "metadata": {},
   "outputs": [
    {
     "name": "stdout",
     "output_type": "stream",
     "text": [
      "ls id:  3139626288512\n",
      "d id:  3141732942272\n"
     ]
    }
   ],
   "source": [
    "ls += [4,5]\n",
    "d_2 = {'Gender': 'Female'}\n",
    "\n",
    "d.update(d_2)    # 把d_2中的元素更新到d中\n",
    "print(\"ls id: \", id(ls))\n",
    "print(\"d id: \", id(d))"
   ]
  },
  {
   "cell_type": "code",
   "execution_count": 30,
   "metadata": {},
   "outputs": [
    {
     "data": {
      "text/plain": [
       "{'Name': 'Sarah', 'Age': 18, 'Gender': 'Female'}"
      ]
     },
     "execution_count": 30,
     "metadata": {},
     "output_type": "execute_result"
    }
   ],
   "source": [
    "d "
   ]
  },
  {
   "cell_type": "markdown",
   "metadata": {},
   "source": [
    "#### 列表操作的几个例子\n",
    "\n",
    "##### 例1 删除列表内的特定元素\n",
    "\n",
    "- 方法一 存在运算删除法\n",
    "\n",
    "缺点：每次存在运算，都从头对列表进行遍历、查找，效率低。"
   ]
  },
  {
   "cell_type": "code",
   "execution_count": 31,
   "metadata": {},
   "outputs": [
    {
     "data": {
      "text/plain": [
       "['a', 'c', 'd', 'e', 'f', 'g', 'h']"
      ]
     },
     "execution_count": 31,
     "metadata": {},
     "output_type": "execute_result"
    }
   ],
   "source": [
    "a_list = ['a', 'b', 'c', 'b', 'd', 'e', 'f', 'b', 'g', 'h', 'b']\n",
    "s = 'b'\n",
    "while True:\n",
    "    if s in a_list:\n",
    "        a_list.remove(s)\n",
    "    else:\n",
    "        break\n",
    "a_list"
   ]
  },
  {
   "cell_type": "markdown",
   "metadata": {},
   "source": [
    "- 方法2： 一次性遍历元素执行删除"
   ]
  },
  {
   "cell_type": "code",
   "execution_count": 32,
   "metadata": {},
   "outputs": [
    {
     "data": {
      "text/plain": [
       "['c', 'd', 'e', 'f', 'g', 'h', 'b']"
      ]
     },
     "execution_count": 32,
     "metadata": {},
     "output_type": "execute_result"
    }
   ],
   "source": [
    "a_list = ['b', 'b', 'c', 'b', 'd', 'e', 'f', 'b', 'g', 'h', 'b']\n",
    "for s in a_list:\n",
    "    if s == 'b':\n",
    "        a_list.remove(s)    # 删除列表中第一次出现的元素\n",
    "a_list "
   ]
  },
  {
   "cell_type": "markdown",
   "metadata": {},
   "source": [
    "列表中还有没有删除完的'b'元素。\n",
    "\n",
    "正向列表的删除可能导致后一个元素跨过去，造成遗漏"
   ]
  },
  {
   "cell_type": "markdown",
   "metadata": {},
   "source": [
    "- 方法3： 使用负向索引"
   ]
  },
  {
   "cell_type": "code",
   "execution_count": 33,
   "metadata": {},
   "outputs": [
    {
     "data": {
      "text/plain": [
       "['c', 'd', 'e', 'f', 'g', 'h']"
      ]
     },
     "execution_count": 33,
     "metadata": {},
     "output_type": "execute_result"
    }
   ],
   "source": [
    "a_list = ['b', 'b', 'c', 'b', 'd', 'e', 'f', 'b', 'g', 'h', 'b']\n",
    "\n",
    "for i in range(-len(a_list), 0):\n",
    "    if a_list[i] == 'b':\n",
    "        a_list.remove(a_list[i])\n",
    "a_list"
   ]
  },
  {
   "cell_type": "markdown",
   "metadata": {},
   "source": [
    "全部删除完毕 "
   ]
  },
  {
   "cell_type": "markdown",
   "metadata": {},
   "source": [
    "###### 例2 多维列表的创建"
   ]
  },
  {
   "cell_type": "code",
   "execution_count": 34,
   "metadata": {},
   "outputs": [
    {
     "data": {
      "text/plain": [
       "[[0, 0], [0, 0], [0, 0]]"
      ]
     },
     "execution_count": 34,
     "metadata": {},
     "output_type": "execute_result"
    }
   ],
   "source": [
    "ls = [[0]*2]*3\n",
    "ls "
   ]
  },
  {
   "cell_type": "code",
   "execution_count": 35,
   "metadata": {},
   "outputs": [
    {
     "data": {
      "text/plain": [
       "[[1, 0], [1, 0], [1, 0]]"
      ]
     },
     "execution_count": 35,
     "metadata": {},
     "output_type": "execute_result"
    }
   ],
   "source": [
    "ls[0][0] = 1\n",
    "ls "
   ]
  },
  {
   "cell_type": "markdown",
   "metadata": {},
   "source": [
    "因为把\\[0,0\\]复制了3遍，所以修改一个，其实都修改了"
   ]
  },
  {
   "cell_type": "markdown",
   "metadata": {},
   "source": [
    "#### 解析语法\n",
    "\n",
    "解决上面的问题"
   ]
  },
  {
   "cell_type": "code",
   "execution_count": 36,
   "metadata": {},
   "outputs": [
    {
     "data": {
      "text/plain": [
       "[[0, 0, 0], [0, 0, 0], [0, 0, 0], [0, 0, 0], [0, 0, 0]]"
      ]
     },
     "execution_count": 36,
     "metadata": {},
     "output_type": "execute_result"
    }
   ],
   "source": [
    "ls = [[0] * 3 for _ in range(5)]\n",
    "ls "
   ]
  },
  {
   "cell_type": "code",
   "execution_count": 37,
   "metadata": {},
   "outputs": [
    {
     "data": {
      "text/plain": [
       "[[1, 0, 0], [0, 0, 0], [0, 0, 0], [0, 0, 0], [0, 0, 0]]"
      ]
     },
     "execution_count": 37,
     "metadata": {},
     "output_type": "execute_result"
    }
   ],
   "source": [
    "ls[0][0] = 1    # 每次都是独立创建的，所以相互间没有关系\n",
    "ls "
   ]
  },
  {
   "cell_type": "markdown",
   "metadata": {},
   "source": [
    "##### 解析语法的结构 - 以列表解析为例（也称列表解析式）\n",
    "\n",
    "\\[expression for value in iterable if condition]\n",
    "\n",
    "三要素: 表达式、可迭代对象，if条件（可选）\n",
    "\n",
    "**执行过程**\n",
    "\n",
    "(1) 从可迭代对象中拿出一个元素\n",
    "\n",
    "(2) 通过if条件（如果有），对元素进行筛选\n",
    "\n",
    "若通过筛选，则把元素传递给表达式；\n",
    "\n",
    "若未通过，则进入(1)步骤，进入下一次迭代\n",
    "\n",
    "(3) 将传递给表达式的元素，带入表达式进行处理，产生一个结果\n",
    "\n",
    "(4)将(3)步产生的结果作为列表的一个元素进行存储\n",
    "\n",
    "(5) 重复步骤(1)-(4)，直至迭代对象迭代结束，返回新创建的列表\n",
    "\n",
    "等价如下代码\n",
    "\n",
    "result = []\n",
    "\n",
    "for value in iterable:\n",
    "    if condition:\n",
    "        result.append(expression(value))\n",
    "\n",
    "**例**求20以内奇数的平方"
   ]
  },
  {
   "cell_type": "code",
   "execution_count": 38,
   "metadata": {},
   "outputs": [
    {
     "data": {
      "text/plain": [
       "[1, 9, 25, 49, 81, 121, 169, 225, 289, 361]"
      ]
     },
     "execution_count": 38,
     "metadata": {},
     "output_type": "execute_result"
    }
   ],
   "source": [
    "ls = [pow(a, 2) for a in range(21) if a % 2 == 1]\n",
    "ls "
   ]
  },
  {
   "cell_type": "markdown",
   "metadata": {},
   "source": [
    "**支持多变量**"
   ]
  },
  {
   "cell_type": "code",
   "execution_count": 39,
   "metadata": {},
   "outputs": [
    {
     "data": {
      "text/plain": [
       "[7, 16, 27]"
      ]
     },
     "execution_count": 39,
     "metadata": {},
     "output_type": "execute_result"
    }
   ],
   "source": [
    "x = [1,2,3]\n",
    "y = [7,8,9]\n",
    "\n",
    "results = [i * j for i, j in zip(x, y)]\n",
    "results"
   ]
  },
  {
   "cell_type": "markdown",
   "metadata": {},
   "source": [
    "**支持循环嵌套**"
   ]
  },
  {
   "cell_type": "code",
   "execution_count": 40,
   "metadata": {},
   "outputs": [
    {
     "data": {
      "text/plain": [
       "['black M',\n",
       " 'black S',\n",
       " 'black XX',\n",
       " 'green M',\n",
       " 'green S',\n",
       " 'green XX',\n",
       " 'red M',\n",
       " 'red S',\n",
       " 'red XX']"
      ]
     },
     "execution_count": 40,
     "metadata": {},
     "output_type": "execute_result"
    }
   ],
   "source": [
    "colors = ['black', 'green', 'red']\n",
    "sizes = ['M', 'S','XX']\n",
    "tshirts = []\n",
    "tshirts = [\"{} {}\".format(color, size) for color in colors for size in sizes]\n",
    "tshirts"
   ]
  },
  {
   "cell_type": "markdown",
   "metadata": {},
   "source": [
    "##### 字典推导"
   ]
  },
  {
   "cell_type": "code",
   "execution_count": 41,
   "metadata": {},
   "outputs": [
    {
     "name": "stdout",
     "output_type": "stream",
     "text": [
      "0  : 0\n",
      "1  : 1\n",
      "2  : 4\n",
      "3  : 9\n",
      "4  : 16\n",
      "5  : 25\n"
     ]
    }
   ],
   "source": [
    "squares = {i: pow(i, 2) for i in range(6)}\n",
    "for k, v in squares.items():\n",
    "    print(k,\" :\",v)"
   ]
  },
  {
   "cell_type": "markdown",
   "metadata": {},
   "source": [
    "##### 生成器表达式"
   ]
  },
  {
   "cell_type": "code",
   "execution_count": 42,
   "metadata": {},
   "outputs": [
    {
     "data": {
      "text/plain": [
       "<generator object <genexpr> at 0x000002DB7DE16510>"
      ]
     },
     "execution_count": 42,
     "metadata": {},
     "output_type": "execute_result"
    }
   ],
   "source": [
    "squares = (pow(i, 2) for i in range(6))\n",
    "squares "
   ]
  },
  {
   "cell_type": "code",
   "execution_count": 43,
   "metadata": {},
   "outputs": [
    {
     "name": "stdout",
     "output_type": "stream",
     "text": [
      "0 1 4 9 16 25 "
     ]
    }
   ],
   "source": [
    "# 对生成器类型进行迭代\n",
    "for i in squares:\n",
    "    print(i, end=\" \")"
   ]
  },
  {
   "cell_type": "markdown",
   "metadata": {},
   "source": [
    "#### 条件表达式\n",
    "\n",
    "expr1 if condition else expr2\n",
    "\n",
    "**例 将变量n的绝对值赋值给变量x**"
   ]
  },
  {
   "cell_type": "code",
   "execution_count": 44,
   "metadata": {},
   "outputs": [
    {
     "data": {
      "text/plain": [
       "8"
      ]
     },
     "execution_count": 44,
     "metadata": {},
     "output_type": "execute_result"
    }
   ],
   "source": [
    "n = -8\n",
    "\n",
    "x = -n if n <= 0 else n \n",
    "x "
   ]
  },
  {
   "cell_type": "markdown",
   "metadata": {},
   "source": [
    "条件表达式和解析语法非常简单实用，运行速度相对较快"
   ]
  },
  {
   "cell_type": "markdown",
   "metadata": {},
   "source": [
    "#### 三大神器\n",
    "\n",
    "##### 生成器"
   ]
  },
  {
   "cell_type": "code",
   "execution_count": 45,
   "metadata": {},
   "outputs": [],
   "source": [
    "ls = [pow(i, 2) for i in range(100)]\n",
    "for i in ls:\n",
    "    pass "
   ]
  },
  {
   "cell_type": "markdown",
   "metadata": {},
   "source": [
    "缺点： 占用大量内存\n",
    "\n",
    "**生成器**\n",
    "(1) 采用惰性计算的方式\n",
    "\n",
    "(2)无需一次性存储海量数据\n",
    "\n",
    "(3) 一边执行一边计算，只计算每次需要的值\n",
    "\n",
    "(4)实际上一直在执行next()操作，知道无值可取\n",
    "\n",
    "1. 生成器表达式\n",
    "- 海量数据，不需保存\n"
   ]
  },
  {
   "cell_type": "code",
   "execution_count": 46,
   "metadata": {},
   "outputs": [],
   "source": [
    "squares = (pow(i, 2) for i in range(101))\n",
    "for i in squares:\n",
    "    pass "
   ]
  },
  {
   "cell_type": "markdown",
   "metadata": {},
   "source": [
    "**例 求1到100的和**\n",
    "\n",
    "无需显示存储全部数据，节省内存"
   ]
  },
  {
   "cell_type": "code",
   "execution_count": 47,
   "metadata": {},
   "outputs": [
    {
     "data": {
      "text/plain": [
       "5050"
      ]
     },
     "execution_count": 47,
     "metadata": {},
     "output_type": "execute_result"
    }
   ],
   "source": [
    "sum((i for i in range(101)))"
   ]
  },
  {
   "cell_type": "markdown",
   "metadata": {},
   "source": [
    "2. 生成器函数 - yield\n",
    "\n",
    "产生斐波那契数列\n",
    "\n",
    "数列前两个元素为1，1，后面的元素为其前两个元素之和\n",
    "\n",
    "- 显示生成数列列表"
   ]
  },
  {
   "cell_type": "code",
   "execution_count": 48,
   "metadata": {},
   "outputs": [
    {
     "data": {
      "text/plain": [
       "[1, 1, 2, 3, 5, 8, 13, 21, 34, 55]"
      ]
     },
     "execution_count": 48,
     "metadata": {},
     "output_type": "execute_result"
    }
   ],
   "source": [
    "def fib(max):\n",
    "    ls = []\n",
    "    n, a, b= 0, 1,1\n",
    "    while n < max:\n",
    "        ls.append(a)\n",
    "        a, b = b, a+b \n",
    "        n = n + 1\n",
    "    return ls \n",
    "\n",
    "fib(10)"
   ]
  },
  {
   "cell_type": "markdown",
   "metadata": {},
   "source": [
    "中间函数\n"
   ]
  },
  {
   "cell_type": "code",
   "execution_count": 49,
   "metadata": {},
   "outputs": [
    {
     "name": "stdout",
     "output_type": "stream",
     "text": [
      "1\n",
      "1\n",
      "2\n",
      "3\n",
      "5\n",
      "8\n",
      "13\n",
      "21\n",
      "34\n",
      "55\n"
     ]
    }
   ],
   "source": [
    "def fib(max):\n",
    "    ls = []\n",
    "    n, a, b= 0, 1,1\n",
    "    while n < max:\n",
    "        print(a)\n",
    "        a, b = b, a+b \n",
    "        n = n + 1\n",
    "\n",
    "fib(10)"
   ]
  },
  {
   "cell_type": "markdown",
   "metadata": {},
   "source": [
    "构造生成器函数\n",
    "\n",
    "在每次调用next()的时候执行，遇到yield语句返回，在此执行时从上次返回的yield语句处继续执行。\n"
   ]
  },
  {
   "cell_type": "code",
   "execution_count": 50,
   "metadata": {},
   "outputs": [
    {
     "data": {
      "text/plain": [
       "<generator object fib at 0x000002DB004D9580>"
      ]
     },
     "execution_count": 50,
     "metadata": {},
     "output_type": "execute_result"
    }
   ],
   "source": [
    "def fib(max):\n",
    "    ls = []\n",
    "    n, a, b= 0, 1,1\n",
    "    while n < max:\n",
    "        yield a\n",
    "        a, b = b, a+b \n",
    "        n = n + 1\n",
    "\n",
    "fib(10)"
   ]
  },
  {
   "cell_type": "code",
   "execution_count": 51,
   "metadata": {},
   "outputs": [
    {
     "name": "stdout",
     "output_type": "stream",
     "text": [
      "1 1 2 3 5 8 13 21 34 55 "
     ]
    }
   ],
   "source": [
    "for i in fib(10):\n",
    "    print(i, end=\" \")"
   ]
  },
  {
   "cell_type": "markdown",
   "metadata": {},
   "source": [
    "##### 迭代器\n",
    "\n",
    "1. 可迭代对象\n",
    "\n",
    "可直接作用于for循环的对象统称为可迭代对象: Iterable.\n",
    "\n",
    "(1) 列表、元组、字符串、字典、集合、文件\n",
    "\n",
    "可以使用isinstance()判断一个对象是否是Iterable.\n",
    "\n"
   ]
  },
  {
   "cell_type": "code",
   "execution_count": 52,
   "metadata": {},
   "outputs": [
    {
     "data": {
      "text/plain": [
       "True"
      ]
     },
     "execution_count": 52,
     "metadata": {},
     "output_type": "execute_result"
    }
   ],
   "source": [
    "from collections.abc import Iterable\n",
    "\n",
    "isinstance([1,2,3], Iterable)"
   ]
  },
  {
   "cell_type": "code",
   "execution_count": 53,
   "metadata": {},
   "outputs": [
    {
     "data": {
      "text/plain": [
       "True"
      ]
     },
     "execution_count": 53,
     "metadata": {},
     "output_type": "execute_result"
    }
   ],
   "source": [
    "isinstance({'name': \"Sarah\"}, Iterable)"
   ]
  },
  {
   "cell_type": "code",
   "execution_count": 54,
   "metadata": {},
   "outputs": [
    {
     "data": {
      "text/plain": [
       "True"
      ]
     },
     "execution_count": 54,
     "metadata": {},
     "output_type": "execute_result"
    }
   ],
   "source": [
    "isinstance(\"Python\", Iterable)"
   ]
  },
  {
   "cell_type": "markdown",
   "metadata": {},
   "source": [
    "(2) 生成器"
   ]
  },
  {
   "cell_type": "code",
   "execution_count": 55,
   "metadata": {},
   "outputs": [
    {
     "data": {
      "text/plain": [
       "True"
      ]
     },
     "execution_count": 55,
     "metadata": {},
     "output_type": "execute_result"
    }
   ],
   "source": [
    "squares = (pow(i, 2) for i in range(5))\n",
    "isinstance(squares, Iterable)"
   ]
  },
  {
   "cell_type": "markdown",
   "metadata": {},
   "source": [
    "生成器不但可以用于for循环，还可以被next()函数调用"
   ]
  },
  {
   "cell_type": "code",
   "execution_count": 56,
   "metadata": {},
   "outputs": [
    {
     "name": "stdout",
     "output_type": "stream",
     "text": [
      "0\n",
      "1\n",
      "4\n",
      "9\n",
      "16\n"
     ]
    }
   ],
   "source": [
    "print(next(squares))\n",
    "print(next(squares))\n",
    "print(next(squares))\n",
    "print(next(squares))\n",
    "print(next(squares))\n",
    "#print(next(squares))"
   ]
  },
  {
   "cell_type": "markdown",
   "metadata": {},
   "source": [
    "直到没有数据可取，抛出StopIterable\n",
    "\n",
    "可以被next()函数调用并不断返回下一个值，直至没有数据可取的对象称为迭代器:\n",
    "\n",
    "(1) 生成器是迭代器"
   ]
  },
  {
   "cell_type": "code",
   "execution_count": 57,
   "metadata": {},
   "outputs": [
    {
     "data": {
      "text/plain": [
       "True"
      ]
     },
     "execution_count": 57,
     "metadata": {},
     "output_type": "execute_result"
    }
   ],
   "source": [
    "from collections.abc import Iterator\n",
    "\n",
    "isinstance(squares, Iterator)"
   ]
  },
  {
   "cell_type": "markdown",
   "metadata": {},
   "source": [
    "(2) 列表、元组、字符串、字典、集合不是迭代器"
   ]
  },
  {
   "cell_type": "code",
   "execution_count": 58,
   "metadata": {},
   "outputs": [
    {
     "data": {
      "text/plain": [
       "False"
      ]
     },
     "execution_count": 58,
     "metadata": {},
     "output_type": "execute_result"
    }
   ],
   "source": [
    "isinstance([1,2,3],Iterator)"
   ]
  },
  {
   "cell_type": "markdown",
   "metadata": {},
   "source": [
    "可以通过iter(Iterable)创建迭代器"
   ]
  },
  {
   "cell_type": "code",
   "execution_count": 59,
   "metadata": {},
   "outputs": [
    {
     "data": {
      "text/plain": [
       "True"
      ]
     },
     "execution_count": 59,
     "metadata": {},
     "output_type": "execute_result"
    }
   ],
   "source": [
    "isinstance(iter([1,2,3]),Iterator)"
   ]
  },
  {
   "cell_type": "markdown",
   "metadata": {},
   "source": [
    "for item in Iterable 等价于：\n",
    "\n",
    "- 先通过iter()函数获取可迭代对象Iterable的迭代器；\n",
    "\n",
    "- 然后对获取的迭代器不断调用next()方法获取下一个值并将其赋值给item\n",
    "\n",
    "- 当遇到StopIteration的异常后循环结束\n",
    "\n",
    "（3） zip enumerate等itertools里的函数是迭代器"
   ]
  },
  {
   "cell_type": "code",
   "execution_count": 60,
   "metadata": {},
   "outputs": [
    {
     "name": "stdout",
     "output_type": "stream",
     "text": [
      "True\n",
      "(1, 'a')\n",
      "(3, 'b')\n"
     ]
    }
   ],
   "source": [
    "x = [1,3]\n",
    "y = [\"a\", \"b\"]\n",
    "\n",
    "print(isinstance(zip(x,y), Iterator))\n",
    "\n",
    "for i in zip(x,y):\n",
    "    print(i)"
   ]
  },
  {
   "cell_type": "code",
   "execution_count": 61,
   "metadata": {},
   "outputs": [
    {
     "name": "stdout",
     "output_type": "stream",
     "text": [
      "(0, 1)\n",
      "(1, 2)\n",
      "(2, 3)\n",
      "(3, 4)\n",
      "(4, 5)\n"
     ]
    }
   ],
   "source": [
    "numbers = [1,2,3,4,5]\n",
    "\n",
    "isinstance(enumerate(numbers), Iterator)\n",
    "\n",
    "for i in enumerate(numbers):\n",
    "    print(i)"
   ]
  },
  {
   "cell_type": "markdown",
   "metadata": {},
   "source": [
    "(4) 文件是迭代器"
   ]
  },
  {
   "cell_type": "code",
   "execution_count": 62,
   "metadata": {},
   "outputs": [
    {
     "name": "stdout",
     "output_type": "stream",
     "text": [
      "True\n"
     ]
    }
   ],
   "source": [
    "with open(\"../data/浪淘沙.txt\", mode=\"r\", encoding=\"utf-8\") as f:\n",
    "    print(isinstance(f, Iterator))"
   ]
  },
  {
   "cell_type": "markdown",
   "metadata": {},
   "source": [
    "(5) 迭代器是可耗尽的\n"
   ]
  },
  {
   "cell_type": "code",
   "execution_count": 63,
   "metadata": {},
   "outputs": [
    {
     "name": "stdout",
     "output_type": "stream",
     "text": [
      "0 1 4 9 16 "
     ]
    }
   ],
   "source": [
    "squares = [pow(i, 2) for i in range(5)]\n",
    "for square in squares:\n",
    "    print(square, end=\" \")"
   ]
  },
  {
   "cell_type": "markdown",
   "metadata": {},
   "source": [
    "(6) range()不是迭代器"
   ]
  },
  {
   "cell_type": "code",
   "execution_count": 64,
   "metadata": {},
   "outputs": [
    {
     "data": {
      "text/plain": [
       "False"
      ]
     },
     "execution_count": 64,
     "metadata": {},
     "output_type": "execute_result"
    }
   ],
   "source": [
    "numbers = range(10)\n",
    "isinstance(numbers, Iterator)"
   ]
  },
  {
   "cell_type": "code",
   "execution_count": 65,
   "metadata": {},
   "outputs": [
    {
     "name": "stdout",
     "output_type": "stream",
     "text": [
      "10\n",
      "0\n",
      "True\n"
     ]
    }
   ],
   "source": [
    "print(len(numbers))    #有长度\n",
    "print(numbers[0])      #可索引\n",
    "print(9 in numbers)    #有存在运算\n",
    "# next(numbers)          #不可被next()调用"
   ]
  },
  {
   "cell_type": "code",
   "execution_count": 66,
   "metadata": {},
   "outputs": [
    {
     "name": "stdout",
     "output_type": "stream",
     "text": [
      "0 1 2 3 4 5 6 7 8 9 "
     ]
    }
   ],
   "source": [
    "# 不可被耗尽\n",
    "for number in numbers:\n",
    "    print(number, end=\" \")"
   ]
  },
  {
   "cell_type": "code",
   "execution_count": 67,
   "metadata": {},
   "outputs": [
    {
     "name": "stdout",
     "output_type": "stream",
     "text": [
      "0 1 2 3 4 5 6 7 8 9 "
     ]
    }
   ],
   "source": [
    "for number in numbers:\n",
    "    print(number, end=\" \")"
   ]
  },
  {
   "cell_type": "markdown",
   "metadata": {},
   "source": [
    "可以称range()为懒序列\n",
    "\n",
    "它是一种序列\n",
    "\n",
    "但并不包含任何内存中的内容\n",
    "\n",
    "而是通过计算来回答问题"
   ]
  },
  {
   "cell_type": "markdown",
   "metadata": {},
   "source": [
    "##### 装饰器\n",
    "\n",
    "1. 需求的提出\n",
    "\n",
    "(1) 需要对已开发上线的程序添加某种功能；\n",
    "\n",
    "(2) 不能对程序中的源代码进行修改\n",
    "\n",
    "(3) 不能改变程序中函数的调用方式\n",
    "\n",
    "**例如**统计每个函数的运行时间"
   ]
  },
  {
   "cell_type": "code",
   "execution_count": 68,
   "metadata": {},
   "outputs": [],
   "source": [
    "def f1():\n",
    "    pass\n",
    "\n",
    "def f2():\n",
    "    pass\n",
    "\n",
    "def f3():\n",
    "    pass\n",
    "\n",
    "f1()\n",
    "f2()\n",
    "f3()"
   ]
  },
  {
   "cell_type": "markdown",
   "metadata": {},
   "source": [
    "用装饰器"
   ]
  },
  {
   "cell_type": "code",
   "execution_count": 69,
   "metadata": {},
   "outputs": [
    {
     "data": {
      "text/plain": [
       "function"
      ]
     },
     "execution_count": 69,
     "metadata": {},
     "output_type": "execute_result"
    }
   ],
   "source": [
    "def square(x):\n",
    "    return x ** 2\n",
    "type(square)    # square是function类的一个实例"
   ]
  },
  {
   "cell_type": "code",
   "execution_count": 70,
   "metadata": {},
   "outputs": [
    {
     "name": "stdout",
     "output_type": "stream",
     "text": [
      "25\n",
      "25\n"
     ]
    }
   ],
   "source": [
    "pow_2 = square    # 给函数square起了一个别名pow_2\n",
    "print(pow_2(5))\n",
    "print(square(5))"
   ]
  },
  {
   "cell_type": "markdown",
   "metadata": {},
   "source": [
    "可以将函数作为参数进行传递\n",
    "\n",
    "2. 高阶函数\n",
    "\n",
    "- 接收函数作为参数\n",
    "\n",
    "- 或者返回一个函数\n",
    "\n",
    "**满足上述条件之一的函数称之为高阶函数**。\n"
   ]
  },
  {
   "cell_type": "code",
   "execution_count": 71,
   "metadata": {},
   "outputs": [
    {
     "data": {
      "text/plain": [
       "64"
      ]
     },
     "execution_count": 71,
     "metadata": {},
     "output_type": "execute_result"
    }
   ],
   "source": [
    "def square(x):\n",
    "    return x**2\n",
    "\n",
    "def pow_2(func):\n",
    "    return func\n",
    "\n",
    "f = pow_2(square)\n",
    "f(8)"
   ]
  },
  {
   "cell_type": "code",
   "execution_count": 72,
   "metadata": {},
   "outputs": [
    {
     "data": {
      "text/plain": [
       "True"
      ]
     },
     "execution_count": 72,
     "metadata": {},
     "output_type": "execute_result"
    }
   ],
   "source": [
    "f==square"
   ]
  },
  {
   "cell_type": "markdown",
   "metadata": {},
   "source": [
    "3. 嵌套函数\n",
    "\n",
    "在函数内部定义一个函数"
   ]
  },
  {
   "cell_type": "code",
   "execution_count": 73,
   "metadata": {},
   "outputs": [
    {
     "name": "stdout",
     "output_type": "stream",
     "text": [
      "outer is running.\n",
      "inner is running\n"
     ]
    }
   ],
   "source": [
    "def outer():\n",
    "    print(\"outer is running.\")\n",
    "    \n",
    "    def inner():\n",
    "        print(\"inner is running\")\n",
    "    \n",
    "    inner()\n",
    "    \n",
    "outer()"
   ]
  },
  {
   "cell_type": "markdown",
   "metadata": {},
   "source": [
    "4. 闭包\n"
   ]
  },
  {
   "cell_type": "code",
   "execution_count": 74,
   "metadata": {},
   "outputs": [
    {
     "name": "stdout",
     "output_type": "stream",
     "text": [
      "<function outer.<locals>.inner at 0x000002DB7DDF33A0>\n",
      "(<cell at 0x000002DB7DE124F0: int object at 0x00007FFA3BAE2720>, <cell at 0x000002DB7DE12C10: int object at 0x00007FFA3BAE2840>)\n",
      "1\n",
      "10\n"
     ]
    }
   ],
   "source": [
    "def outer():\n",
    "    x = 1\n",
    "    z = 10\n",
    "    \n",
    "    def inner():\n",
    "        y = x+100\n",
    "        return y, z\n",
    "    \n",
    "    return inner\n",
    "\n",
    "f = outer()    #实际上f包含了inner函数本身+ outer函数环境\n",
    "print(f)\n",
    "print(f.__closure__)    # __closure__属性中包含了来自外部函数的信息\n",
    "for i in f.__closure__:\n",
    "    print(i.cell_contents)    # 包含外部函数定义的参数1，10"
   ]
  },
  {
   "cell_type": "code",
   "execution_count": 75,
   "metadata": {},
   "outputs": [
    {
     "data": {
      "text/plain": [
       "(101, 10)"
      ]
     },
     "execution_count": 75,
     "metadata": {},
     "output_type": "execute_result"
    }
   ],
   "source": [
    "res = f()\n",
    "res "
   ]
  },
  {
   "cell_type": "markdown",
   "metadata": {},
   "source": [
    "闭包：\n",
    "\n",
    "延伸了作用域的函数\n",
    "\n",
    "如果一个函数定义在另一个函数的作用域内，并且引用了外城函数的变量，则称改函数为闭包。\n",
    "\n",
    "闭包是由函数及其相关的引用环境组合而成的实体（即：闭包= 函数+引用环境）\n",
    "\n",
    "- 一旦在内层函数重新定义了相同名字的变量，则变量成为局部变量。"
   ]
  },
  {
   "cell_type": "code",
   "execution_count": 76,
   "metadata": {},
   "outputs": [],
   "source": [
    "def outer():\n",
    "    x = 1\n",
    "    \n",
    "    def inner():\n",
    "        x = x + 100\n",
    "        return x \n",
    "    \n",
    "    return inner\n",
    "\n",
    "f = outer()\n",
    "#f()    # 报错，因为inner()中的局部变量x未定义"
   ]
  },
  {
   "cell_type": "markdown",
   "metadata": {},
   "source": [
    "nonlocal允许内嵌的函数来修改闭包变量"
   ]
  },
  {
   "cell_type": "code",
   "execution_count": 77,
   "metadata": {},
   "outputs": [
    {
     "data": {
      "text/plain": [
       "101"
      ]
     },
     "execution_count": 77,
     "metadata": {},
     "output_type": "execute_result"
    }
   ],
   "source": [
    "def outer():\n",
    "    x = 1\n",
    "    \n",
    "    def inner():\n",
    "        nonlocal x\n",
    "        x = x + 100\n",
    "        return x\n",
    "    \n",
    "    return inner\n",
    "\n",
    "f = outer()\n",
    "f()"
   ]
  },
  {
   "cell_type": "markdown",
   "metadata": {},
   "source": [
    "5. 一个简单的装饰器\n"
   ]
  },
  {
   "cell_type": "markdown",
   "metadata": {},
   "source": [
    "嵌套函数实现 "
   ]
  },
  {
   "cell_type": "code",
   "execution_count": 78,
   "metadata": {},
   "outputs": [
    {
     "name": "stdout",
     "output_type": "stream",
     "text": [
      "inner is running.\n",
      "f1 is running.\n",
      "f1 cost 1.01 seconds.\n"
     ]
    }
   ],
   "source": [
    "import time\n",
    "\n",
    "def timer(func):\n",
    "    \n",
    "    def inner():\n",
    "        print(\"inner is running.\")\n",
    "        start = time.time()\n",
    "        func()\n",
    "        end = time.time()\n",
    "        print(\"{} cost {:.2f} seconds.\".format(func.__name__, (end-start)))\n",
    "    \n",
    "    return inner\n",
    "\n",
    "def f1():\n",
    "    print(\"f1 is running.\")\n",
    "    time.sleep(1)\n",
    "\n",
    "f1 = timer(f1)    # 包含inner()和timer()环境，如传递过来的参数f1\n",
    "f1()"
   ]
  },
  {
   "cell_type": "code",
   "execution_count": 79,
   "metadata": {},
   "outputs": [
    {
     "ename": "NameError",
     "evalue": "name 'f1_decorated' is not defined",
     "output_type": "error",
     "traceback": [
      "\u001b[1;31m---------------------------------------------------------------------------\u001b[0m",
      "\u001b[1;31mNameError\u001b[0m                                 Traceback (most recent call last)",
      "\u001b[1;32m<ipython-input-79-e14253e8fc3c>\u001b[0m in \u001b[0;36m<module>\u001b[1;34m\u001b[0m\n\u001b[1;32m----> 1\u001b[1;33m \u001b[0mf1_decorated\u001b[0m \u001b[1;33m==\u001b[0m \u001b[0mf1\u001b[0m\u001b[1;33m\u001b[0m\u001b[1;33m\u001b[0m\u001b[0m\n\u001b[0m",
      "\u001b[1;31mNameError\u001b[0m: name 'f1_decorated' is not defined"
     ]
    }
   ],
   "source": [
    "f1_decorated == f1 "
   ]
  },
  {
   "cell_type": "markdown",
   "metadata": {},
   "source": [
    "Python 语法糖\n"
   ]
  },
  {
   "cell_type": "code",
   "execution_count": null,
   "metadata": {},
   "outputs": [],
   "source": [
    "import time\n",
    "\n",
    "def timer(func):\n",
    "    \n",
    "    def inner():\n",
    "        print(\"inner is running.\")\n",
    "        start = time.time()\n",
    "        func()\n",
    "        end = time.time()\n",
    "        print(\"{} cost {:.2f} seconds.\".format(func.__name__, (end-start)))\n",
    "    \n",
    "    return inner\n",
    "\n",
    "@timer        #相当于上例中的f1=timer(f1)\n",
    "def f1():\n",
    "    print(\"f1 is running.\")\n",
    "    time.sleep(1)\n",
    "\n",
    "f1()"
   ]
  },
  {
   "cell_type": "markdown",
   "metadata": {},
   "source": [
    "被修饰函数有参数的情况\n"
   ]
  },
  {
   "cell_type": "code",
   "execution_count": null,
   "metadata": {},
   "outputs": [],
   "source": [
    "import time\n",
    "\n",
    "def timer(func):\n",
    "    \n",
    "    def inner(*args, **kwargs):\n",
    "        print(\"inner is running.\")\n",
    "        start = time.time()\n",
    "        func(*args, **kwargs)\n",
    "        end = time.time()\n",
    "        print(\"{} cost {:.2f} seconds.\".format(func.__name__, (end-start)))\n",
    "    \n",
    "    return inner\n",
    "\n",
    "@timer        #相当于上例中的f1=timer(f1)\n",
    "def f1(n):\n",
    "    print(\"f1 is running.\")\n",
    "    time.sleep(n)\n",
    "\n",
    "f1(2)"
   ]
  },
  {
   "cell_type": "markdown",
   "metadata": {},
   "source": [
    "被修饰函数有返回值的情况"
   ]
  },
  {
   "cell_type": "code",
   "execution_count": null,
   "metadata": {},
   "outputs": [],
   "source": [
    "import time\n",
    "\n",
    "def timer(func):\n",
    "    \n",
    "    def inner(*args, **kwargs):\n",
    "        print(\"inner is running.\")\n",
    "        start = time.time()\n",
    "        res = func(*args, **kwargs)\n",
    "        end = time.time()\n",
    "        print(\"{} cost {:.2f} seconds.\".format(func.__name__, (end-start)))\n",
    "        return res\n",
    "    \n",
    "    return inner\n",
    "\n",
    "@timer        #相当于上例中的f1=timer(f1)\n",
    "def f1(n):\n",
    "    print(\"f1 is running.\")\n",
    "    time.sleep(n)\n",
    "    return \"wake up.\"\n",
    "\n",
    "f1(2)"
   ]
  },
  {
   "cell_type": "markdown",
   "metadata": {},
   "source": [
    "7. 带参数的装饰器\n",
    "\n",
    "装饰器本身需要传递一些额外的参数\n",
    "\n",
    "需求：有时要统计绝对时间，有时统计绝对时间的2倍\n"
   ]
  },
  {
   "cell_type": "code",
   "execution_count": 82,
   "metadata": {},
   "outputs": [
    {
     "name": "stdout",
     "output_type": "stream",
     "text": [
      "inner is running.\n",
      "double_inner is running.\n",
      "f1 is running.\n",
      "f1 cost 4.01 seconds.\n",
      "inner is running.\n",
      "origin_inner is running.\n",
      "f2 is running.\n",
      "f2 cost 1.00 seconds.\n"
     ]
    },
    {
     "data": {
      "text/plain": [
       "'wake up f2.'"
      ]
     },
     "execution_count": 82,
     "metadata": {},
     "output_type": "execute_result"
    }
   ],
   "source": [
    "import time\n",
    "\n",
    "def timer(method):\n",
    "    \n",
    "    def outer(func):\n",
    "    \n",
    "        def inner(*args, **kwargs):\n",
    "            print(\"inner is running.\")\n",
    "            if method == \"original\":\n",
    "                print(\"origin_inner is running.\")\n",
    "                start = time.time()\n",
    "                res = func(*args, **kwargs)\n",
    "                end = time.time()\n",
    "                print(\"{} cost {:.2f} seconds.\".format(func.__name__, (end-start)))\n",
    "            elif method == \"double\":\n",
    "                print(\"double_inner is running.\")\n",
    "                start = time.time()\n",
    "                res = func(*args, **kwargs)\n",
    "                end = time.time()\n",
    "                print(\"{} cost {:.2f} seconds.\".format(func.__name__, 2 * (end-start)))\n",
    "            return res\n",
    "        return inner\n",
    "    return outer\n",
    "\n",
    "@timer(method = \"double\")        #相当于上例中的timer = timer(method=\"double\") f1=timer(f1)\n",
    "\n",
    "def f1(n):\n",
    "    print(\"f1 is running.\")\n",
    "    time.sleep(n)\n",
    "    return \"wake up.\"\n",
    "\n",
    "@timer(method=\"original\")    #相当于timer=timer(method=\"origin\") f2=timer(f2)\n",
    "\n",
    "def f2(n):\n",
    "    print(\"f2 is running.\")\n",
    "    time.sleep(n)\n",
    "    return \"wake up f2.\"\n",
    "\n",
    "f1(2)\n",
    "f2(1)"
   ]
  },
  {
   "cell_type": "markdown",
   "metadata": {},
   "source": [
    "8. 何时执行装饰器\n",
    "\n",
    "一装饰就执行，不必等调用\n",
    "\n"
   ]
  },
  {
   "cell_type": "code",
   "execution_count": 83,
   "metadata": {},
   "outputs": [
    {
     "name": "stdout",
     "output_type": "stream",
     "text": [
      "run\n",
      "run\n",
      "run\n"
     ]
    }
   ],
   "source": [
    "func_names = []\n",
    "\n",
    "def find_function(func):\n",
    "    print(\"run\")\n",
    "    func_names.append(func)\n",
    "    return func\n",
    "\n",
    "@find_function\n",
    "def f1():\n",
    "    print(\"f1 run\")\n",
    "\n",
    "@find_function\n",
    "def f2():\n",
    "    print(\"f2 run\")\n",
    "    \n",
    "@find_function\n",
    "def f3():\n",
    "    print(\"f3 run\")\n",
    "    "
   ]
  },
  {
   "cell_type": "code",
   "execution_count": 86,
   "metadata": {},
   "outputs": [
    {
     "name": "stdout",
     "output_type": "stream",
     "text": [
      "f1 run\n",
      "f2 run\n",
      "f3 run\n"
     ]
    }
   ],
   "source": [
    "for func in func_names:\n",
    "    func()"
   ]
  },
  {
   "cell_type": "code",
   "execution_count": 87,
   "metadata": {},
   "outputs": [
    {
     "name": "stdout",
     "output_type": "stream",
     "text": [
      "f1 run\n",
      "f2 run\n",
      "f3 run\n"
     ]
    }
   ],
   "source": [
    "for func in func_names:\n",
    "    func()"
   ]
  },
  {
   "cell_type": "markdown",
   "metadata": {},
   "source": [
    "9. 回归本源\n",
    "\n",
    "原函数的属性被掩盖了"
   ]
  },
  {
   "cell_type": "code",
   "execution_count": 89,
   "metadata": {},
   "outputs": [
    {
     "name": "stdout",
     "output_type": "stream",
     "text": [
      "inner is running.\n",
      "f1 is running.\n",
      "f1 cost 1.01 seconds.\n"
     ]
    }
   ],
   "source": [
    "import time\n",
    "\n",
    "def timer(func):\n",
    "    def inner():\n",
    "        print(\"inner is running.\")\n",
    "        start = time.time()\n",
    "        func()\n",
    "        end = time.time()\n",
    "        print(\"{} cost {:.2f} seconds.\".format(func.__name__,(end - start)))\n",
    "    return inner\n",
    "\n",
    "@timer\n",
    "def f1():\n",
    "    time.sleep(1)\n",
    "    print(\"f1 is running.\")\n",
    "\n",
    "f1()"
   ]
  },
  {
   "cell_type": "code",
   "execution_count": 90,
   "metadata": {},
   "outputs": [
    {
     "data": {
      "text/plain": [
       "'inner'"
      ]
     },
     "execution_count": 90,
     "metadata": {},
     "output_type": "execute_result"
    }
   ],
   "source": [
    "f1.__name__"
   ]
  },
  {
   "cell_type": "markdown",
   "metadata": {},
   "source": [
    "将装饰器后的f1还是f1"
   ]
  },
  {
   "cell_type": "code",
   "execution_count": 91,
   "metadata": {},
   "outputs": [
    {
     "name": "stdout",
     "output_type": "stream",
     "text": [
      "f1\n",
      "inner is running.\n",
      "f1 is running.\n",
      "f1 costs 1.00 seconds.\n"
     ]
    }
   ],
   "source": [
    "import time\n",
    "from functools import wraps\n",
    "\n",
    "def timer(func):\n",
    "    @wraps(func)\n",
    "    def inner():\n",
    "        print(\"inner is running.\")\n",
    "        start = time.time()\n",
    "        func()\n",
    "        end = time.time()\n",
    "        print(\"{} costs {:.2f} seconds.\".format(func.__name__,(end - start)))\n",
    "        \n",
    "    return inner\n",
    "\n",
    "@timer\n",
    "def f1():\n",
    "    time.sleep(1)\n",
    "    print(\"f1 is running.\")\n",
    "\n",
    "print(f1.__name__)\n",
    "f1()"
   ]
  },
  {
   "cell_type": "code",
   "execution_count": null,
   "metadata": {},
   "outputs": [],
   "source": []
  }
 ],
 "metadata": {
  "kernelspec": {
   "display_name": "Python 3",
   "language": "python",
   "name": "python3"
  },
  "language_info": {
   "codemirror_mode": {
    "name": "ipython",
    "version": 3
   },
   "file_extension": ".py",
   "mimetype": "text/x-python",
   "name": "python",
   "nbconvert_exporter": "python",
   "pygments_lexer": "ipython3",
   "version": "3.8.5"
  },
  "toc": {
   "base_numbering": 1,
   "nav_menu": {},
   "number_sections": true,
   "sideBar": true,
   "skip_h1_title": false,
   "title_cell": "Table of Contents",
   "title_sidebar": "Contents",
   "toc_cell": false,
   "toc_position": {},
   "toc_section_display": true,
   "toc_window_display": false
  }
 },
 "nbformat": 4,
 "nbformat_minor": 4
}
