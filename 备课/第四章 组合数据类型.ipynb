{
 "cells": [
  {
   "cell_type": "markdown",
   "metadata": {},
   "source": [
    "## 组合数据结构\n",
    "\n",
    "### 列表\n",
    "\n",
    "#### 列表的创建\n",
    "\n",
    "- 序列类型: 内部元素有位置关系，能通过位置序号访问其数据\n",
    "- 列表是一个可以使用多种数据类型,可以是整型、浮点型，字符串、元组、字典，甚至列表。支持元素的增、删，查，改操作的序列类型"
   ]
  },
  {
   "cell_type": "code",
   "execution_count": 1,
   "metadata": {},
   "outputs": [
    {
     "data": {
      "text/plain": [
       "['Python', 123, 12.6, True, ['Hello', 'Python']]"
      ]
     },
     "execution_count": 1,
     "metadata": {},
     "output_type": "execute_result"
    }
   ],
   "source": [
    "ls = ['Python', 123, 12.6, True, ['Hello', 'Python']]\n",
    "ls \n"
   ]
  },
  {
   "cell_type": "markdown",
   "metadata": {},
   "source": [
    "- 另一种创建方式: list(可迭代对象）\n",
    "- 可迭代对象包括: 字符串，元组，列表，集合，range()等\n",
    "\n",
    "**字符串转列表**"
   ]
  },
  {
   "cell_type": "code",
   "execution_count": 2,
   "metadata": {},
   "outputs": [
    {
     "data": {
      "text/plain": [
       "['成', '都', '是', '一', '座', '美', '丽', '的', '城', '市', '。']"
      ]
     },
     "execution_count": 2,
     "metadata": {},
     "output_type": "execute_result"
    }
   ],
   "source": [
    "ls = list(\"成都是一座美丽的城市。\")\n",
    "ls"
   ]
  },
  {
   "cell_type": "code",
   "execution_count": 4,
   "metadata": {},
   "outputs": [
    {
     "data": {
      "text/plain": [
       "[1, 2, 3]"
      ]
     },
     "execution_count": 4,
     "metadata": {},
     "output_type": "execute_result"
    }
   ],
   "source": [
    "ls = list([1,2,3])\n",
    "ls "
   ]
  },
  {
   "cell_type": "markdown",
   "metadata": {},
   "source": [
    "**元组转列表**"
   ]
  },
  {
   "cell_type": "code",
   "execution_count": 6,
   "metadata": {},
   "outputs": [
    {
     "data": {
      "text/plain": [
       "['a', 'b', 'c', 'd']"
      ]
     },
     "execution_count": 6,
     "metadata": {},
     "output_type": "execute_result"
    }
   ],
   "source": [
    "ls = list((\"a\", \"b\", \"c\", \"d\"))\n",
    "ls"
   ]
  },
  {
   "cell_type": "markdown",
   "metadata": {},
   "source": [
    "**集合转列表**"
   ]
  },
  {
   "cell_type": "code",
   "execution_count": 7,
   "metadata": {},
   "outputs": [
    {
     "data": {
      "text/plain": [
       "[True, 'n', 123, 'm']"
      ]
     },
     "execution_count": 7,
     "metadata": {},
     "output_type": "execute_result"
    }
   ],
   "source": [
    "ls = list({\"m\", \"n\",123, True})\n",
    "ls "
   ]
  },
  {
   "cell_type": "markdown",
   "metadata": {},
   "source": [
    "**range()**\n",
    "\n",
    "range(起始数字，中止数字，数字间隔）\n",
    "\n",
    "如果起始数字缺省，默认为0\n",
    "\n",
    "不包含中止数字\n",
    "\n",
    "数字步长缺省，默认为1"
   ]
  },
  {
   "cell_type": "code",
   "execution_count": 8,
   "metadata": {},
   "outputs": [
    {
     "name": "stdout",
     "output_type": "stream",
     "text": [
      "0\n",
      "1\n",
      "2\n",
      "3\n",
      "4\n",
      "5\n"
     ]
    }
   ],
   "source": [
    "for i in [0,1,2,3,4,5]:\n",
    "    print(i)"
   ]
  },
  {
   "cell_type": "code",
   "execution_count": 9,
   "metadata": {},
   "outputs": [
    {
     "name": "stdout",
     "output_type": "stream",
     "text": [
      "0\n",
      "1\n",
      "2\n",
      "3\n",
      "4\n",
      "5\n"
     ]
    }
   ],
   "source": [
    "for i in range(6):\n",
    "    print(i)"
   ]
  },
  {
   "cell_type": "code",
   "execution_count": 10,
   "metadata": {},
   "outputs": [
    {
     "name": "stdout",
     "output_type": "stream",
     "text": [
      "sum= 100\n"
     ]
    }
   ],
   "source": [
    "res = 0\n",
    "for i in range(1,21,2):\n",
    "    res += i\n",
    "print(\"sum=\", res)"
   ]
  },
  {
   "cell_type": "markdown",
   "metadata": {},
   "source": [
    "**range() 转列表\n"
   ]
  },
  {
   "cell_type": "code",
   "execution_count": 11,
   "metadata": {},
   "outputs": [
    {
     "data": {
      "text/plain": [
       "[1, 3, 5, 7, 9]"
      ]
     },
     "execution_count": 11,
     "metadata": {},
     "output_type": "execute_result"
    }
   ],
   "source": [
    "ls = list(range(1, 11,2))\n",
    "ls"
   ]
  },
  {
   "cell_type": "markdown",
   "metadata": {},
   "source": [
    "#### 列表的性质\n",
    "\n",
    "- 列表的长度\n",
    "len(列表）"
   ]
  },
  {
   "cell_type": "code",
   "execution_count": 12,
   "metadata": {},
   "outputs": [
    {
     "data": {
      "text/plain": [
       "11"
      ]
     },
     "execution_count": 12,
     "metadata": {},
     "output_type": "execute_result"
    }
   ],
   "source": [
    "ls = list(range(0,22,2))\n",
    "len(ls)"
   ]
  },
  {
   "cell_type": "markdown",
   "metadata": {},
   "source": [
    "- 列表的索引 - 与同为序列类型的字符串完全相同\n",
    "\n",
    "变量名\\[位置编号]"
   ]
  },
  {
   "cell_type": "code",
   "execution_count": 13,
   "metadata": {},
   "outputs": [
    {
     "name": "stdout",
     "output_type": "stream",
     "text": [
      "BYD\n",
      "TOYOTA\n"
     ]
    }
   ],
   "source": [
    "cars = ['BYD', 'BMW', \"AUDI\", \"TOYOTA\"]\n",
    "print(cars[0])\n",
    "print(cars[-1])"
   ]
  },
  {
   "cell_type": "markdown",
   "metadata": {},
   "source": [
    "- 列表的切片\n",
    "\n",
    "变量名\\[开始位置:结束位置:步长]\n",
    "\n",
    "- 正向切片"
   ]
  },
  {
   "cell_type": "code",
   "execution_count": 14,
   "metadata": {},
   "outputs": [
    {
     "name": "stdout",
     "output_type": "stream",
     "text": [
      "['BYD', 'BMW', 'AUDI']\n",
      "['BMW', 'TOYOTA']\n",
      "['BYD', 'BMW', 'AUDI', 'TOYOTA']\n",
      "['BYD', 'BMW']\n"
     ]
    }
   ],
   "source": [
    "print(cars[:3])\n",
    "print(cars[1:4:2])\n",
    "print(cars[:])\n",
    "print(cars[-4:-2])"
   ]
  },
  {
   "cell_type": "markdown",
   "metadata": {},
   "source": [
    "- 反向切片"
   ]
  },
  {
   "cell_type": "code",
   "execution_count": 15,
   "metadata": {},
   "outputs": [
    {
     "name": "stdout",
     "output_type": "stream",
     "text": [
      "['TOYOTA', 'AUDI', 'BMW']\n",
      "['TOYOTA', 'AUDI', 'BMW', 'BYD']\n"
     ]
    }
   ],
   "source": [
    "print(cars[:-4:-1])\n",
    "print(cars[::-1])"
   ]
  },
  {
   "cell_type": "markdown",
   "metadata": {},
   "source": [
    "#### 列表操作符\n",
    "\n",
    "- 用 list1 + list2 实现列表的拼接\n",
    "\n",
    "**改方法用的不多**"
   ]
  },
  {
   "cell_type": "code",
   "execution_count": 16,
   "metadata": {},
   "outputs": [
    {
     "data": {
      "text/plain": [
       "[1, 2, 3, 4]"
      ]
     },
     "execution_count": 16,
     "metadata": {},
     "output_type": "execute_result"
    }
   ],
   "source": [
    "a = [1,2]\n",
    "b = [3,4]\n",
    "a+b"
   ]
  },
  {
   "cell_type": "markdown",
   "metadata": {},
   "source": [
    "- 用n * list 或list * n实现列表的成倍复制"
   ]
  },
  {
   "cell_type": "code",
   "execution_count": 17,
   "metadata": {},
   "outputs": [
    {
     "data": {
      "text/plain": [
       "[1, 2, 1, 2, 1, 2]"
      ]
     },
     "execution_count": 17,
     "metadata": {},
     "output_type": "execute_result"
    }
   ],
   "source": [
    "a = [1,2]\n",
    "a*3"
   ]
  },
  {
   "cell_type": "markdown",
   "metadata": {},
   "source": [
    "**初始化列表的一种方式**"
   ]
  },
  {
   "cell_type": "code",
   "execution_count": 18,
   "metadata": {},
   "outputs": [
    {
     "data": {
      "text/plain": [
       "[0, 0, 0, 0, 0, 0, 0, 0, 0, 0]"
      ]
     },
     "execution_count": 18,
     "metadata": {},
     "output_type": "execute_result"
    }
   ],
   "source": [
    "[0]* 10"
   ]
  },
  {
   "cell_type": "markdown",
   "metadata": {},
   "source": [
    "#### 列表的操作方法\n",
    "\n",
    "#####  增加元素\n",
    "\n",
    "- 在末尾增加元素 \n",
    "\n",
    "列表.append(待增元素）\n"
   ]
  },
  {
   "cell_type": "code",
   "execution_count": 26,
   "metadata": {},
   "outputs": [
    {
     "data": {
      "text/plain": [
       "['China', 'Germany', 'America', 'France']"
      ]
     },
     "execution_count": 26,
     "metadata": {},
     "output_type": "execute_result"
    }
   ],
   "source": [
    "nations = [\"China\", \"Germany\", \"America\"]\n",
    "nations.append(\"France\")\n",
    "nations"
   ]
  },
  {
   "cell_type": "markdown",
   "metadata": {},
   "source": [
    "- 在任意位置插入元素 \n",
    "列表.insert(位置编号，待增元素)\n",
    "\n",
    "在位置编号相应元素**前**插入待增元素"
   ]
  },
  {
   "cell_type": "code",
   "execution_count": 27,
   "metadata": {},
   "outputs": [
    {
     "data": {
      "text/plain": [
       "['Brazil', 'China', 'Germany', 'America', 'France']"
      ]
     },
     "execution_count": 27,
     "metadata": {},
     "output_type": "execute_result"
    }
   ],
   "source": [
    "nations.insert(0, \"Brazil\")\n",
    "nations"
   ]
  },
  {
   "cell_type": "markdown",
   "metadata": {},
   "source": [
    "- 在末尾整体并入另一个列表 \n",
    "列表1.extend(列表2)  %%javascript列表2内的元素逐个添加到列表1的模为"
   ]
  },
  {
   "cell_type": "code",
   "execution_count": 29,
   "metadata": {},
   "outputs": [
    {
     "data": {
      "text/plain": [
       "['Brazil',\n",
       " 'China',\n",
       " 'Germany',\n",
       " 'America',\n",
       " 'France',\n",
       " 'Japan',\n",
       " 'Korea',\n",
       " 'England',\n",
       " 'Japan',\n",
       " 'Korea',\n",
       " 'England']"
      ]
     },
     "execution_count": 29,
     "metadata": {},
     "output_type": "execute_result"
    }
   ],
   "source": [
    "nations2 = ['Japan', \"Korea\", \"England\"]\n",
    "nations.extend(nations2)\n",
    "nations "
   ]
  },
  {
   "cell_type": "markdown",
   "metadata": {},
   "source": [
    "列表1.append(列表2）\n",
    "\n",
    "将列表2作为一个整体加到列表1的尾部"
   ]
  },
  {
   "cell_type": "code",
   "execution_count": 30,
   "metadata": {},
   "outputs": [
    {
     "data": {
      "text/plain": [
       "['Brazil',\n",
       " 'China',\n",
       " 'Germany',\n",
       " 'America',\n",
       " 'France',\n",
       " 'Japan',\n",
       " 'Korea',\n",
       " 'England',\n",
       " 'Japan',\n",
       " 'Korea',\n",
       " 'England',\n",
       " ['Canada', 'Italy']]"
      ]
     },
     "execution_count": 30,
     "metadata": {},
     "output_type": "execute_result"
    }
   ],
   "source": [
    "nations3 = ['Canada', 'Italy']\n",
    "nations.append(nations3)\n",
    "nations "
   ]
  },
  {
   "cell_type": "code",
   "execution_count": null,
   "metadata": {},
   "outputs": [],
   "source": []
  }
 ],
 "metadata": {
  "kernelspec": {
   "display_name": "Python 3",
   "language": "python",
   "name": "python3"
  },
  "language_info": {
   "codemirror_mode": {
    "name": "ipython",
    "version": 3
   },
   "file_extension": ".py",
   "mimetype": "text/x-python",
   "name": "python",
   "nbconvert_exporter": "python",
   "pygments_lexer": "ipython3",
   "version": "3.8.5"
  },
  "toc": {
   "base_numbering": 1,
   "nav_menu": {},
   "number_sections": true,
   "sideBar": true,
   "skip_h1_title": false,
   "title_cell": "Table of Contents",
   "title_sidebar": "Contents",
   "toc_cell": false,
   "toc_position": {},
   "toc_section_display": true,
   "toc_window_display": true
  }
 },
 "nbformat": 4,
 "nbformat_minor": 4
}
