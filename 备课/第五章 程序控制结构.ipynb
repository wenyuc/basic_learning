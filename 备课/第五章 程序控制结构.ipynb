{
 "cells": [
  {
   "cell_type": "markdown",
   "metadata": {},
   "source": [
    "## 程序控制结构\n",
    "\n",
    "非顺序式的程序控制，往往需要根据一定的条件，决定程序的运行路线。因此，我们首先认识一下什么叫条件测试。\n",
    "\n",
    "### 条件测试\n",
    "\n",
    "#### 比较运算"
   ]
  },
  {
   "cell_type": "code",
   "execution_count": 1,
   "metadata": {},
   "outputs": [
    {
     "name": "stdout",
     "output_type": "stream",
     "text": [
      "True\n",
      "True\n",
      "False\n",
      "False\n",
      "False\n",
      "True\n"
     ]
    }
   ],
   "source": [
    "a = 10\n",
    "b = 8\n",
    "print(a > b)\n",
    "print(a >= b)\n",
    "print(a < b)\n",
    "print(a <= b)\n",
    "print(a == b)\n",
    "print(a != b)"
   ]
  },
  {
   "cell_type": "markdown",
   "metadata": {},
   "source": [
    "- 非空"
   ]
  },
  {
   "cell_type": "code",
   "execution_count": 2,
   "metadata": {},
   "outputs": [
    {
     "name": "stdout",
     "output_type": "stream",
     "text": [
      "空\n"
     ]
    }
   ],
   "source": [
    "ls = []\n",
    "if ls:    #数据结构不为空，变量不为 0， False, None,则条件成立\n",
    "    print(\"非空\")\n",
    "else:\n",
    "    print(\"空\")"
   ]
  },
  {
   "cell_type": "markdown",
   "metadata": {},
   "source": [
    "#### 逻辑运算\n",
    "\n",
    "- 与、或、非"
   ]
  },
  {
   "cell_type": "code",
   "execution_count": 4,
   "metadata": {},
   "outputs": [
    {
     "name": "stdout",
     "output_type": "stream",
     "text": [
      "False\n",
      "True\n",
      "False\n"
     ]
    }
   ],
   "source": [
    "a = 10\n",
    "b = 8\n",
    "c = 12\n",
    "\n",
    "print((a > b) and (b > c))    # 与\n",
    "print((a > b) or (b > c))    # 或\n",
    "print(not (a > b))    # 非"
   ]
  },
  {
   "cell_type": "markdown",
   "metadata": {},
   "source": [
    "- 符合逻辑运算优先级\n",
    "\n",
    "非 > 与 > 或"
   ]
  },
  {
   "cell_type": "code",
   "execution_count": 5,
   "metadata": {},
   "outputs": [
    {
     "name": "stdout",
     "output_type": "stream",
     "text": [
      "True\n"
     ]
    }
   ],
   "source": [
    "print(True or True and False)"
   ]
  },
  {
   "cell_type": "code",
   "execution_count": 6,
   "metadata": {},
   "outputs": [
    {
     "name": "stdout",
     "output_type": "stream",
     "text": [
      "False\n"
     ]
    }
   ],
   "source": [
    "print((True or True) and False)"
   ]
  },
  {
   "cell_type": "markdown",
   "metadata": {},
   "source": [
    "#### 存在运算\n",
    "\n",
    "元素 in 列表或字符串\n",
    "\n",
    "元素 not in 列表或字符串"
   ]
  },
  {
   "cell_type": "code",
   "execution_count": 7,
   "metadata": {},
   "outputs": [
    {
     "name": "stdout",
     "output_type": "stream",
     "text": [
      "True\n",
      "False\n"
     ]
    }
   ],
   "source": [
    "cars = [\"BYD\", \"BMW\", \"AUDI\", \"TOYOTA\"]\n",
    "print(\"BMW\" in cars)\n",
    "print(\"BENZ\" in cars)"
   ]
  },
  {
   "cell_type": "code",
   "execution_count": 8,
   "metadata": {},
   "outputs": [
    {
     "name": "stdout",
     "output_type": "stream",
     "text": [
      "False\n",
      "True\n"
     ]
    }
   ],
   "source": [
    "print(\"BMW\" not in cars)\n",
    "print(\"BENZ\" not in cars)"
   ]
  },
  {
   "cell_type": "markdown",
   "metadata": {},
   "source": [
    "### 分支结构 - if 语句\n",
    "\n",
    "#### 单分支\n",
    "\n",
    "if 条件:\n",
    "    缩进的代码块"
   ]
  },
  {
   "cell_type": "code",
   "execution_count": 9,
   "metadata": {},
   "outputs": [
    {
     "name": "stdout",
     "output_type": "stream",
     "text": [
      "上学！\n"
     ]
    }
   ],
   "source": [
    "age = 8\n",
    "if age > 7:\n",
    "    print(\"上学！\")"
   ]
  },
  {
   "cell_type": "markdown",
   "metadata": {},
   "source": [
    "#### 二分支\n",
    "\n",
    "if 条件：\n",
    "    条件为真的代码块\n",
    "else:\n",
    "    条件为假的代码块\n",
    "    "
   ]
  },
  {
   "cell_type": "code",
   "execution_count": 10,
   "metadata": {},
   "outputs": [
    {
     "name": "stdout",
     "output_type": "stream",
     "text": [
      "可以不上学！\n"
     ]
    }
   ],
   "source": [
    "age = 6\n",
    "if age > 7:\n",
    "    print(\"上学！\")\n",
    "else:\n",
    "    print(\"可以不上学！\")"
   ]
  },
  {
   "cell_type": "markdown",
   "metadata": {},
   "source": [
    "#### 多分支\n",
    "\n",
    "if 条件1:\n",
    "\n",
    "    满足条件1 缩进的代码块\n",
    "\n",
    "elif 条件2:\n",
    "\n",
    "    满足条件2 缩进的代码块\n",
    "\n",
    "elif 条件3:\n",
    "\n",
    "    满足条件2 缩进的代码块\n",
    "\n",
    "else:\n",
    "\n",
    "    以上条件均不满足的代码块\n",
    "    "
   ]
  },
  {
   "cell_type": "code",
   "execution_count": null,
   "metadata": {},
   "outputs": [],
   "source": []
  }
 ],
 "metadata": {
  "kernelspec": {
   "display_name": "Python 3",
   "language": "python",
   "name": "python3"
  },
  "language_info": {
   "codemirror_mode": {
    "name": "ipython",
    "version": 3
   },
   "file_extension": ".py",
   "mimetype": "text/x-python",
   "name": "python",
   "nbconvert_exporter": "python",
   "pygments_lexer": "ipython3",
   "version": "3.8.5"
  },
  "toc": {
   "base_numbering": 1,
   "nav_menu": {},
   "number_sections": true,
   "sideBar": true,
   "skip_h1_title": false,
   "title_cell": "Table of Contents",
   "title_sidebar": "Contents",
   "toc_cell": false,
   "toc_position": {},
   "toc_section_display": true,
   "toc_window_display": true
  }
 },
 "nbformat": 4,
 "nbformat_minor": 4
}
