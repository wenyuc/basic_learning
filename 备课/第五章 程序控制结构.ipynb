{
 "cells": [
  {
   "cell_type": "markdown",
   "metadata": {},
   "source": [
    "## 程序控制结构\n",
    "\n",
    "非顺序式的程序控制，往往需要根据一定的条件，决定程序的运行路线。因此，我们首先认识一下什么叫条件测试。\n",
    "\n",
    "### 条件测试\n",
    "\n",
    "#### 比较运算"
   ]
  },
  {
   "cell_type": "code",
   "execution_count": 1,
   "metadata": {},
   "outputs": [
    {
     "name": "stdout",
     "output_type": "stream",
     "text": [
      "True\n",
      "True\n",
      "False\n",
      "False\n",
      "False\n",
      "True\n"
     ]
    }
   ],
   "source": [
    "a = 10\n",
    "b = 8\n",
    "print(a > b)\n",
    "print(a >= b)\n",
    "print(a < b)\n",
    "print(a <= b)\n",
    "print(a == b)\n",
    "print(a != b)"
   ]
  },
  {
   "cell_type": "markdown",
   "metadata": {},
   "source": [
    "- 非空"
   ]
  },
  {
   "cell_type": "code",
   "execution_count": 2,
   "metadata": {},
   "outputs": [
    {
     "name": "stdout",
     "output_type": "stream",
     "text": [
      "空\n"
     ]
    }
   ],
   "source": [
    "ls = []\n",
    "if ls:    #数据结构不为空，变量不为 0， False, None,则条件成立\n",
    "    print(\"非空\")\n",
    "else:\n",
    "    print(\"空\")"
   ]
  },
  {
   "cell_type": "markdown",
   "metadata": {},
   "source": [
    "#### 逻辑运算\n",
    "\n",
    "- 与、或、非"
   ]
  },
  {
   "cell_type": "code",
   "execution_count": 4,
   "metadata": {},
   "outputs": [
    {
     "name": "stdout",
     "output_type": "stream",
     "text": [
      "False\n",
      "True\n",
      "False\n"
     ]
    }
   ],
   "source": [
    "a = 10\n",
    "b = 8\n",
    "c = 12\n",
    "\n",
    "print((a > b) and (b > c))    # 与\n",
    "print((a > b) or (b > c))    # 或\n",
    "print(not (a > b))    # 非"
   ]
  },
  {
   "cell_type": "markdown",
   "metadata": {},
   "source": [
    "- 符合逻辑运算优先级\n",
    "\n",
    "非 > 与 > 或"
   ]
  },
  {
   "cell_type": "code",
   "execution_count": 5,
   "metadata": {},
   "outputs": [
    {
     "name": "stdout",
     "output_type": "stream",
     "text": [
      "True\n"
     ]
    }
   ],
   "source": [
    "print(True or True and False)"
   ]
  },
  {
   "cell_type": "code",
   "execution_count": 6,
   "metadata": {},
   "outputs": [
    {
     "name": "stdout",
     "output_type": "stream",
     "text": [
      "False\n"
     ]
    }
   ],
   "source": [
    "print((True or True) and False)"
   ]
  },
  {
   "cell_type": "markdown",
   "metadata": {},
   "source": [
    "#### 存在运算\n",
    "\n",
    "元素 in 列表或字符串\n",
    "\n",
    "元素 not in 列表或字符串"
   ]
  },
  {
   "cell_type": "code",
   "execution_count": 7,
   "metadata": {},
   "outputs": [
    {
     "name": "stdout",
     "output_type": "stream",
     "text": [
      "True\n",
      "False\n"
     ]
    }
   ],
   "source": [
    "cars = [\"BYD\", \"BMW\", \"AUDI\", \"TOYOTA\"]\n",
    "print(\"BMW\" in cars)\n",
    "print(\"BENZ\" in cars)"
   ]
  },
  {
   "cell_type": "code",
   "execution_count": 8,
   "metadata": {},
   "outputs": [
    {
     "name": "stdout",
     "output_type": "stream",
     "text": [
      "False\n",
      "True\n"
     ]
    }
   ],
   "source": [
    "print(\"BMW\" not in cars)\n",
    "print(\"BENZ\" not in cars)"
   ]
  },
  {
   "cell_type": "markdown",
   "metadata": {},
   "source": [
    "### 分支结构 - if 语句\n",
    "\n",
    "#### 单分支\n",
    "\n",
    "if 条件:\n",
    "    缩进的代码块"
   ]
  },
  {
   "cell_type": "code",
   "execution_count": 9,
   "metadata": {},
   "outputs": [
    {
     "name": "stdout",
     "output_type": "stream",
     "text": [
      "上学！\n"
     ]
    }
   ],
   "source": [
    "age = 8\n",
    "if age > 7:\n",
    "    print(\"上学！\")"
   ]
  },
  {
   "cell_type": "markdown",
   "metadata": {},
   "source": [
    "#### 二分支\n",
    "\n",
    "if 条件：\n",
    "    条件为真的代码块\n",
    "else:\n",
    "    条件为假的代码块\n",
    "    "
   ]
  },
  {
   "cell_type": "code",
   "execution_count": 10,
   "metadata": {},
   "outputs": [
    {
     "name": "stdout",
     "output_type": "stream",
     "text": [
      "可以不上学！\n"
     ]
    }
   ],
   "source": [
    "age = 6\n",
    "if age > 7:\n",
    "    print(\"上学！\")\n",
    "else:\n",
    "    print(\"可以不上学！\")"
   ]
  },
  {
   "cell_type": "markdown",
   "metadata": {},
   "source": [
    "#### 多分支\n",
    "\n",
    "if 条件1:\n",
    "\n",
    "    满足条件1 缩进的代码块\n",
    "\n",
    "elif 条件2:\n",
    "\n",
    "    满足条件2 缩进的代码块\n",
    "\n",
    "elif 条件3:\n",
    "\n",
    "    满足条件2 缩进的代码块\n",
    "\n",
    "else:\n",
    "\n",
    "    以上条件均不满足的代码块\n",
    "    "
   ]
  },
  {
   "cell_type": "code",
   "execution_count": 1,
   "metadata": {},
   "outputs": [
    {
     "name": "stdout",
     "output_type": "stream",
     "text": [
      "辛苦了，打工人\n"
     ]
    }
   ],
   "source": [
    "age = 38\n",
    "\n",
    "if age < 7:\n",
    "    print(\"上幼儿园\")\n",
    "elif age < 13:\n",
    "    print(\"上小学\")\n",
    "elif age < 16:\n",
    "    print(\"上初中\")\n",
    "elif age < 19:\n",
    "    print(\"上高中\")\n",
    "elif age < 22:\n",
    "    print(\"上大学\")\n",
    "elif age < 60:\n",
    "    print(\"辛苦了，打工人\")\n",
    "else:\n",
    "    print(\"退休了\")\n"
   ]
  },
  {
   "cell_type": "markdown",
   "metadata": {},
   "source": [
    "#### 嵌套语句\n",
    "\n",
    "年满18周岁，在非公共场合才能抽烟。"
   ]
  },
  {
   "cell_type": "code",
   "execution_count": 5,
   "metadata": {},
   "outputs": [
    {
     "name": "stdout",
     "output_type": "stream",
     "text": [
      "Please input your age: 19\n",
      "Public Space input 1, Not Public Space input 0: 0\n",
      "You can smoke here.\n"
     ]
    }
   ],
   "source": [
    "age = eval(input(\"Please input your age: \"))\n",
    "if age >= 18: \n",
    "    is_public_space = bool(eval(input(\"Public Space input 1, Not Public Space input 0: \")))\n",
    "    if is_public_space:\n",
    "        print(\"You cannot smoke here.\")\n",
    "    else:\n",
    "        print(\"You can smoke here.\")\n",
    "else:\n",
    "    print(\"You cannot smoke here.\")"
   ]
  },
  {
   "cell_type": "markdown",
   "metadata": {},
   "source": [
    "### 遍历循环 - for循环\n",
    "\n",
    "#### 主要形式\n",
    "for 元素 in 可迭代对象：\n",
    "    缩进执行语句\n",
    "\n",
    "##### 直接迭代 - 列表\\[\\], 元组(), 字符串“” \n"
   ]
  },
  {
   "cell_type": "code",
   "execution_count": 14,
   "metadata": {},
   "outputs": [
    {
     "name": "stdout",
     "output_type": "stream",
     "text": [
      "Congratulation Peter.\n",
      "Congratulation Paul.\n",
      "Congratulation Mary.\n"
     ]
    }
   ],
   "source": [
    "singers = [\"Peter\", \"Paul\", \"Mary\"]\n",
    "for singer in singers:\n",
    "    print(\"Congratulation {}.\".format(singer))\n",
    "    "
   ]
  },
  {
   "cell_type": "markdown",
   "metadata": {},
   "source": [
    "##### 变换迭代 - 字典{}"
   ]
  },
  {
   "cell_type": "code",
   "execution_count": 15,
   "metadata": {},
   "outputs": [
    {
     "name": "stdout",
     "output_type": "stream",
     "text": [
      "20210901 Peter\n",
      "20210902 Paul\n",
      "20210903 Mary\n",
      "20210901\n",
      "20210902\n",
      "20210903\n",
      "Peter\n",
      "Paul\n",
      "Mary\n"
     ]
    }
   ],
   "source": [
    "students = {20210901:\"Peter\", 20210902:\"Paul\", 20210903:\"Mary\"}\n",
    "for k, v in students.items():\n",
    "    print(k, v)\n",
    "for key in students.keys():\n",
    "    print(key)\n",
    "for value in students.values():\n",
    "    print(value)"
   ]
  },
  {
   "cell_type": "markdown",
   "metadata": {},
   "source": [
    "##### range()对象"
   ]
  },
  {
   "cell_type": "code",
   "execution_count": 16,
   "metadata": {},
   "outputs": [
    {
     "data": {
      "text/plain": [
       "[0, 1, 4, 9, 16, 25, 36, 49, 64, 81, 100]"
      ]
     },
     "execution_count": 16,
     "metadata": {},
     "output_type": "execute_result"
    }
   ],
   "source": [
    "res = []\n",
    "for i in range(11):\n",
    "    res.append(i**2)\n",
    "res "
   ]
  },
  {
   "cell_type": "code",
   "execution_count": 17,
   "metadata": {},
   "outputs": [
    {
     "data": {
      "text/plain": [
       "[1, 9, 25, 49, 81]"
      ]
     },
     "execution_count": 17,
     "metadata": {},
     "output_type": "execute_result"
    }
   ],
   "source": [
    "res = []\n",
    "for i in range(1,11,2):\n",
    "    res.append(i**2)\n",
    "res "
   ]
  },
  {
   "cell_type": "markdown",
   "metadata": {},
   "source": [
    "#### 循环控制 -  break continue\n",
    "\n",
    "##### break 结束整个循环"
   ]
  },
  {
   "cell_type": "code",
   "execution_count": 23,
   "metadata": {},
   "outputs": [
    {
     "name": "stdout",
     "output_type": "stream",
     "text": [
      "成绩合格\n"
     ]
    }
   ],
   "source": [
    "student_scores = [78,96,75,89,88,34,76,91]    #如果有两门成绩低于60分则不合格\n",
    "i = 0 \n",
    "for score in student_scores:\n",
    "    if score < 60:\n",
    "        i += 1\n",
    "    if i == 2:\n",
    "        print(\"成绩不合格\")\n",
    "        break\n",
    "if i != 2:\n",
    "    print(\"成绩合格\")"
   ]
  },
  {
   "cell_type": "markdown",
   "metadata": {},
   "source": [
    "##### continue 结束本次循环\n",
    "\n",
    "成绩低于75分，输出警告；不低于75分，不输出警告。"
   ]
  },
  {
   "cell_type": "code",
   "execution_count": 28,
   "metadata": {},
   "outputs": [
    {
     "name": "stdout",
     "output_type": "stream",
     "text": [
      "科目2 成绩为75,加强复习。\n",
      "科目5 成绩为34,加强复习。\n"
     ]
    }
   ],
   "source": [
    "student_scores = [78,96,75,89,88,34,76,91] \n",
    "\n",
    "for score in student_scores:\n",
    "    if score > 75:\n",
    "        continue\n",
    "    print(\"科目{} 成绩为{},加强复习。\".format(student_scores.index(score), score))"
   ]
  },
  {
   "cell_type": "code",
   "execution_count": 30,
   "metadata": {},
   "outputs": [
    {
     "name": "stdout",
     "output_type": "stream",
     "text": [
      "科目2 成绩为75,加强复习。\n",
      "科目5 成绩为34,加强复习。\n"
     ]
    }
   ],
   "source": [
    "student_scores = [78,96,75,89,88,34,76,91] \n",
    "length = len(student_scores)\n",
    "for i in range(length - 1):\n",
    "    if student_scores[i] > 75:\n",
    "        continue\n",
    "    print(\"科目{} 成绩为{},加强复习。\".format(i, student_scores[i]))"
   ]
  },
  {
   "cell_type": "markdown",
   "metadata": {},
   "source": [
    "##### for 与else的配合\n",
    "如果for循环全部执行完毕没有被break，则执行else块（可以看作是一个奖励）"
   ]
  },
  {
   "cell_type": "code",
   "execution_count": 35,
   "metadata": {},
   "outputs": [
    {
     "name": "stdout",
     "output_type": "stream",
     "text": [
      "成绩不合格\n"
     ]
    }
   ],
   "source": [
    "student_scores = [78,96,66,89,88,94,56,91]\n",
    "i = 0\n",
    "for score in student_scores:\n",
    "    if score < 75:\n",
    "        i += 1\n",
    "    if i == 2:\n",
    "        print(\"成绩不合格\")\n",
    "        break\n",
    "else:\n",
    "    print(\"成绩合格，奖励！\")"
   ]
  },
  {
   "cell_type": "markdown",
   "metadata": {},
   "source": [
    "### 无限循环 - while循环\n",
    "\n",
    "#### 为什么要用while 循环\n",
    "\n",
    "经典题目：猜数字"
   ]
  },
  {
   "cell_type": "code",
   "execution_count": null,
   "metadata": {},
   "outputs": [],
   "source": []
  },
  {
   "cell_type": "code",
   "execution_count": null,
   "metadata": {},
   "outputs": [],
   "source": []
  }
 ],
 "metadata": {
  "kernelspec": {
   "display_name": "Python 3",
   "language": "python",
   "name": "python3"
  },
  "language_info": {
   "codemirror_mode": {
    "name": "ipython",
    "version": 3
   },
   "file_extension": ".py",
   "mimetype": "text/x-python",
   "name": "python",
   "nbconvert_exporter": "python",
   "pygments_lexer": "ipython3",
   "version": "3.7.9"
  },
  "toc": {
   "base_numbering": 1,
   "nav_menu": {},
   "number_sections": true,
   "sideBar": true,
   "skip_h1_title": false,
   "title_cell": "Table of Contents",
   "title_sidebar": "Contents",
   "toc_cell": false,
   "toc_position": {},
   "toc_section_display": true,
   "toc_window_display": true
  }
 },
 "nbformat": 4,
 "nbformat_minor": 4
}
