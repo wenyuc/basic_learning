{
 "cells": [
  {
   "cell_type": "markdown",
   "metadata": {},
   "source": [
    "## 函数\n",
    "\n",
    "### 函数的定义及调用\n",
    "\n",
    "#### 为什么要用函数\n",
    "\n",
    "- 提高代码复用性 - 抽象出来，封装为函数\n",
    "\n",
    "- 将复杂的大问题分解为一系列小问题 - 分而治之， 模块化设计思想\n",
    "\n",
    "- 利于代码维护和管理\n",
    "\n",
    "**顺序式**"
   ]
  },
  {
   "cell_type": "code",
   "execution_count": 1,
   "metadata": {},
   "outputs": [
    {
     "name": "stdout",
     "output_type": "stream",
     "text": [
      "120\n",
      "3628800\n"
     ]
    }
   ],
   "source": [
    "# 5 的阶乘\n",
    "n = 5\n",
    "res = 1\n",
    "for i in range(1, n + 1):\n",
    "    res *= i\n",
    "print(res)\n",
    "\n",
    "# 20的阶乘\n",
    "\n",
    "n = 10\n",
    "res = 1\n",
    "for i in range(1, n + 1):\n",
    "    res *= i\n",
    "print(res)\n"
   ]
  },
  {
   "cell_type": "markdown",
   "metadata": {},
   "source": [
    "**抽象成函数**"
   ]
  },
  {
   "cell_type": "code",
   "execution_count": 2,
   "metadata": {},
   "outputs": [],
   "source": [
    "def factoria(n):\n",
    "    res = 1\n",
    "    for i in range(1, n + 1):\n",
    "        res *= i\n",
    "    return res"
   ]
  },
  {
   "cell_type": "code",
   "execution_count": 3,
   "metadata": {},
   "outputs": [
    {
     "data": {
      "text/plain": [
       "3628800"
      ]
     },
     "execution_count": 3,
     "metadata": {},
     "output_type": "execute_result"
    }
   ],
   "source": [
    "factoria(10)"
   ]
  },
  {
   "cell_type": "markdown",
   "metadata": {},
   "source": [
    "#### 函数的定义和调用\n",
    "\n",
    "白盒：输入、处理、输出\n",
    "\n",
    "三要素：参数、函数体、返回值\n",
    "\n",
    "##### 定义\n",
    "\n",
    "def 函数名(参数):\n",
    "    '''函数说明‘’‘\n",
    "    函数体\n",
    "    return 返回值"
   ]
  },
  {
   "cell_type": "code",
   "execution_count": 4,
   "metadata": {},
   "outputs": [],
   "source": [
    "# 求正方形的面积\n",
    "def area_of_square(length_of_side):\n",
    "    '''Return the area of a square.'''\n",
    "    return pow(length_of_side, 2)"
   ]
  },
  {
   "cell_type": "markdown",
   "metadata": {},
   "source": [
    "##### 调用\n",
    "函数名(参数)"
   ]
  },
  {
   "cell_type": "code",
   "execution_count": 5,
   "metadata": {},
   "outputs": [
    {
     "data": {
      "text/plain": [
       "25"
      ]
     },
     "execution_count": 5,
     "metadata": {},
     "output_type": "execute_result"
    }
   ],
   "source": [
    "area_of_square(5)"
   ]
  },
  {
   "cell_type": "markdown",
   "metadata": {},
   "source": [
    "#### 参数传递\n",
    "\n",
    "##### 形参与实参\n",
    "\n",
    "- 形参（形式参数）：函数定义的参数，实际上就是变量名\n",
    "\n",
    "- 实参（实际参数）：函数调用时的参数，实际上就是变量的值\n",
    "\n",
    "###### 位置参数\n",
    "\n",
    "- 严格按照参数顺序，将实参赋值给形参（关联）\n",
    "\n",
    "- 实参与形参必须一一对应，不能多也不能少\n",
    "\n",
    "- 一般用于参数较少的时候"
   ]
  },
  {
   "cell_type": "code",
   "execution_count": 6,
   "metadata": {},
   "outputs": [],
   "source": [
    "def function(x, y, z):\n",
    "    \"\"\"Print x, y, z\"\"\"\n",
    "    print(\"x={}, y={}, z={}\".format(x, y, z))\n"
   ]
  },
  {
   "cell_type": "code",
   "execution_count": 7,
   "metadata": {},
   "outputs": [
    {
     "name": "stdout",
     "output_type": "stream",
     "text": [
      "x=1, y=2, z=3\n"
     ]
    }
   ],
   "source": [
    "function(1, 2, 3)"
   ]
  },
  {
   "cell_type": "code",
   "execution_count": 8,
   "metadata": {},
   "outputs": [],
   "source": [
    "#function(1,2)\n",
    "#function(1,2,3,4)"
   ]
  },
  {
   "cell_type": "markdown",
   "metadata": {},
   "source": [
    "###### 关键字参数\n",
    "\n",
    "- 打破位置限制，用直呼其名的方式进行值的传递（形参=实参）\n",
    "\n",
    "- 必须遵守形参和实参上**数量上**的相同\n",
    "\n",
    "- 多用在参数比较多的场合"
   ]
  },
  {
   "cell_type": "code",
   "execution_count": 9,
   "metadata": {},
   "outputs": [
    {
     "name": "stdout",
     "output_type": "stream",
     "text": [
      "x=3, y=2, z=1\n"
     ]
    }
   ],
   "source": [
    "function(z = 1, x = 3, y = 2)\n",
    "    "
   ]
  },
  {
   "cell_type": "markdown",
   "metadata": {},
   "source": [
    "- 位置参数可以与关键字参数混合使用\n",
    "\n",
    "- 但是，位置参数必须要放在关键字参数前面\n",
    "\n",
    "- 开始使用关键字参数后，不能再回到位置参数传递\n",
    "\n",
    "- 不能为同一个形参重复传实参"
   ]
  },
  {
   "cell_type": "code",
   "execution_count": 10,
   "metadata": {},
   "outputs": [
    {
     "name": "stdout",
     "output_type": "stream",
     "text": [
      "x=3, y=2, z=1\n"
     ]
    }
   ],
   "source": [
    "function(3, z = 1, y = 2)"
   ]
  },
  {
   "cell_type": "code",
   "execution_count": 11,
   "metadata": {},
   "outputs": [],
   "source": [
    "# function(3, z = 1, x = 2)"
   ]
  },
  {
   "cell_type": "markdown",
   "metadata": {},
   "source": [
    "###### 默认参数\n",
    "\n",
    "- 在定义阶段就给形参赋值 - 该形参的常用值\n",
    "\n",
    "- 机器学习库中类的方法非常常见\n",
    "\n",
    "- 调用函数时，可以不对该形参赋值"
   ]
  },
  {
   "cell_type": "code",
   "execution_count": 12,
   "metadata": {},
   "outputs": [],
   "source": [
    "def register(name, age, gender = \"male\"):\n",
    "    \"\"\"Print student's name, age, and gender.\"\"\"\n",
    "    print(f\"Name: {name}, Age: {age}, Gender: {gender}\")"
   ]
  },
  {
   "cell_type": "code",
   "execution_count": 13,
   "metadata": {},
   "outputs": [
    {
     "name": "stdout",
     "output_type": "stream",
     "text": [
      "Name: Tom, Age: 18, Gender: male\n"
     ]
    }
   ],
   "source": [
    "register(\"Tom\", 18)"
   ]
  },
  {
   "cell_type": "markdown",
   "metadata": {},
   "source": [
    "- 可以按正常的形参进行传值"
   ]
  },
  {
   "cell_type": "code",
   "execution_count": 14,
   "metadata": {},
   "outputs": [
    {
     "name": "stdout",
     "output_type": "stream",
     "text": [
      "Name: Sally, Age: 17, Gender: female\n"
     ]
    }
   ],
   "source": [
    "register(\"Sally\", 17, \"female\")"
   ]
  },
  {
   "cell_type": "markdown",
   "metadata": {},
   "source": [
    "- 位置形参必须要在默认形参的前面"
   ]
  },
  {
   "cell_type": "code",
   "execution_count": 15,
   "metadata": {},
   "outputs": [],
   "source": [
    "#def register(gender = \"male\", name, age):\n",
    "#    \"\"\"Print student's name, age, and gender.\"\"\"\n",
    "#    print(f\"Name: {name}, Age: {age}, Gender: {gender}\")"
   ]
  },
  {
   "cell_type": "markdown",
   "metadata": {},
   "source": [
    "- **默认参数应该设置为不可变类型（数字、字符串和元组)**"
   ]
  },
  {
   "cell_type": "code",
   "execution_count": 16,
   "metadata": {},
   "outputs": [],
   "source": [
    "def function2(ls=[]):\n",
    "    print(id(ls))\n",
    "    ls.append(1)\n",
    "    print(id(ls))\n",
    "    print(ls)\n",
    "    "
   ]
  },
  {
   "cell_type": "code",
   "execution_count": 17,
   "metadata": {},
   "outputs": [
    {
     "name": "stdout",
     "output_type": "stream",
     "text": [
      "2702296811200\n",
      "2702296811200\n",
      "[1]\n"
     ]
    }
   ],
   "source": [
    "function2()"
   ]
  },
  {
   "cell_type": "code",
   "execution_count": 18,
   "metadata": {},
   "outputs": [
    {
     "name": "stdout",
     "output_type": "stream",
     "text": [
      "2702296811200\n",
      "2702296811200\n",
      "[1, 1]\n"
     ]
    }
   ],
   "source": [
    "function2()"
   ]
  },
  {
   "cell_type": "code",
   "execution_count": 19,
   "metadata": {},
   "outputs": [
    {
     "name": "stdout",
     "output_type": "stream",
     "text": [
      "2702296811200\n",
      "2702296811200\n",
      "[1, 1, 1]\n"
     ]
    }
   ],
   "source": [
    "function2()"
   ]
  },
  {
   "cell_type": "markdown",
   "metadata": {},
   "source": [
    "**该列表内容发生了变化，但地址没有发生变化**\n",
    "\n",
    "**如果我们用不可变数据类型，如字符串，会怎样？**"
   ]
  },
  {
   "cell_type": "code",
   "execution_count": 20,
   "metadata": {},
   "outputs": [],
   "source": [
    "def function3(str = \"Python \"):\n",
    "    print(id(str))\n",
    "    str += \"3.7\"\n",
    "    print(id(str))\n",
    "    print(str)\n",
    "    "
   ]
  },
  {
   "cell_type": "code",
   "execution_count": 21,
   "metadata": {},
   "outputs": [
    {
     "name": "stdout",
     "output_type": "stream",
     "text": [
      "2702296967600\n",
      "2702296968304\n",
      "Python 3.7\n"
     ]
    }
   ],
   "source": [
    "function3()"
   ]
  },
  {
   "cell_type": "code",
   "execution_count": 22,
   "metadata": {},
   "outputs": [
    {
     "name": "stdout",
     "output_type": "stream",
     "text": [
      "2702296967600\n",
      "2702296885808\n",
      "Python 3.7\n"
     ]
    }
   ],
   "source": [
    "function3()"
   ]
  },
  {
   "cell_type": "code",
   "execution_count": 23,
   "metadata": {},
   "outputs": [
    {
     "name": "stdout",
     "output_type": "stream",
     "text": [
      "2702296967600\n",
      "2702296967088\n",
      "Python 3.7\n"
     ]
    }
   ],
   "source": [
    "function3()"
   ]
  },
  {
   "cell_type": "markdown",
   "metadata": {},
   "source": [
    "- 让参数变成可选的"
   ]
  },
  {
   "cell_type": "code",
   "execution_count": 24,
   "metadata": {},
   "outputs": [],
   "source": [
    "def get_full_name(first_name, last_name, middle_name = None):\n",
    "    if middle_name:\n",
    "        #return first_name + \" \" + middle_name + \" \" + last_name\n",
    "        return \" \".join([first_name, middle_name, last_name])\n",
    "    else:\n",
    "        #return first_name + \" \" + last_name\n",
    "        return \" \".join([first_name, last_name])\n",
    "    "
   ]
  },
  {
   "cell_type": "code",
   "execution_count": 25,
   "metadata": {},
   "outputs": [
    {
     "data": {
      "text/plain": [
       "'Stephen Daze'"
      ]
     },
     "execution_count": 25,
     "metadata": {},
     "output_type": "execute_result"
    }
   ],
   "source": [
    "get_full_name(\"Stephen\", \"Daze\")"
   ]
  },
  {
   "cell_type": "code",
   "execution_count": 26,
   "metadata": {},
   "outputs": [
    {
     "data": {
      "text/plain": [
       "'Stephen Jr.  Daze'"
      ]
     },
     "execution_count": 26,
     "metadata": {},
     "output_type": "execute_result"
    }
   ],
   "source": [
    "get_full_name(\"Stephen\", \"Daze\", \"Jr. \")"
   ]
  },
  {
   "cell_type": "markdown",
   "metadata": {},
   "source": [
    "###### 可变长参数 *args\n",
    "\n",
    "- 不知道会传过来多少参数 *args\n",
    "\n",
    "- 该形参必须放在参数列表的最后（如果前面有形参的话）"
   ]
  },
  {
   "cell_type": "code",
   "execution_count": 27,
   "metadata": {},
   "outputs": [],
   "source": [
    "def foo(x, y, z, *args):\n",
    "    \"\"\"Print x,y,z. Print *args together.\"\"\"\n",
    "    print(x, y, z)\n",
    "    print(args)"
   ]
  },
  {
   "cell_type": "code",
   "execution_count": 28,
   "metadata": {},
   "outputs": [
    {
     "name": "stdout",
     "output_type": "stream",
     "text": [
      "7 8 9\n",
      "('Hello', 'World')\n"
     ]
    }
   ],
   "source": [
    "foo(7,8,9, \"Hello\", \"World\")    # 除了前三个实参一一对应传给形参外，其余作为元组，打包传给args"
   ]
  },
  {
   "cell_type": "code",
   "execution_count": 29,
   "metadata": {},
   "outputs": [
    {
     "name": "stdout",
     "output_type": "stream",
     "text": [
      "7 8 9\n",
      "([100, 101, 102],)\n"
     ]
    }
   ],
   "source": [
    "foo(7,8,9, [100, 101, 102])    # [100,101,102] 打包成元组，传给args"
   ]
  },
  {
   "cell_type": "markdown",
   "metadata": {},
   "source": [
    "- 实参打散"
   ]
  },
  {
   "cell_type": "code",
   "execution_count": 30,
   "metadata": {},
   "outputs": [
    {
     "name": "stdout",
     "output_type": "stream",
     "text": [
      "1 2 3\n",
      "(7, 8, 9)\n"
     ]
    }
   ],
   "source": [
    "foo(1, 2, 3,*[7, 8, 9])    # 打散列表，字符串、元组或集合，打散的元素打包成一个元组，传给args"
   ]
  },
  {
   "cell_type": "markdown",
   "metadata": {},
   "source": [
    "###### 可变长参数  **kwargs\n",
    "\n",
    "- 和字典有关\n",
    "\n",
    "- 也必须放在位置参数后面\n",
    "\n",
    "- 以字典的形式传递给kwargs"
   ]
  },
  {
   "cell_type": "code",
   "execution_count": 31,
   "metadata": {},
   "outputs": [],
   "source": [
    "def foo2(x, y, z, **kwargs):\n",
    "    \"\"\"Print x,y,z. Print kwargs.\"\"\"\n",
    "    print(x, y, z)\n",
    "    #print(type(kwargs))\n",
    "    print(kwargs)\n",
    "    #print(list(kwargs.keys()), list(kwargs.values()))"
   ]
  },
  {
   "cell_type": "code",
   "execution_count": 32,
   "metadata": {},
   "outputs": [
    {
     "name": "stdout",
     "output_type": "stream",
     "text": [
      "1 2 3\n",
      "{'a': 4, 'b': 5, 'c': 6}\n"
     ]
    }
   ],
   "source": [
    "foo2(1,2,3,a = 4, b = 5, c = 6)"
   ]
  },
  {
   "cell_type": "markdown",
   "metadata": {},
   "source": [
    "- 字典实参打散"
   ]
  },
  {
   "cell_type": "code",
   "execution_count": 33,
   "metadata": {},
   "outputs": [
    {
     "name": "stdout",
     "output_type": "stream",
     "text": [
      "1 2 3\n",
      "{'a': 7, 'b': 8, 'c': 9}\n"
     ]
    }
   ],
   "source": [
    "foo2(1,2,3, **{\"a\":7, \"b\":8, \"c\":9})"
   ]
  },
  {
   "cell_type": "markdown",
   "metadata": {},
   "source": [
    "###### 可变长参数的组合使用"
   ]
  },
  {
   "cell_type": "code",
   "execution_count": 34,
   "metadata": {},
   "outputs": [],
   "source": [
    "def foo3(*args, **kwargs):\n",
    "    \"\"\"Print args and kwargs.\"\"\"\n",
    "    print(args)\n",
    "    print(kwargs)"
   ]
  },
  {
   "cell_type": "code",
   "execution_count": 35,
   "metadata": {},
   "outputs": [
    {
     "name": "stdout",
     "output_type": "stream",
     "text": [
      "(7, 8, 9, 10)\n",
      "{'a': 1, 'c': 2, 'b': 5, 'd': 'hello'}\n"
     ]
    }
   ],
   "source": [
    "foo3(7,8,9,10, a = 1, c = 2, b = 5, d =\"hello\")"
   ]
  },
  {
   "cell_type": "markdown",
   "metadata": {},
   "source": [
    "### 函数体与变量作用域\n",
    "\n",
    "- 函数体就是一段只在函数被调用时，才会执行的代码，代码构成与其他并无不同；\n",
    "\n",
    "- **局部变量** 仅在函数体内部定义和发挥作用。"
   ]
  },
  {
   "cell_type": "code",
   "execution_count": 36,
   "metadata": {},
   "outputs": [],
   "source": [
    "def multiply(x, y):\n",
    "    z = x * y\n",
    "    print(\"in def, z= \",z)\n",
    "    return z \n"
   ]
  },
  {
   "cell_type": "code",
   "execution_count": 37,
   "metadata": {},
   "outputs": [
    {
     "name": "stdout",
     "output_type": "stream",
     "text": [
      "in def, z=  6\n"
     ]
    },
    {
     "data": {
      "text/plain": [
       "6"
      ]
     },
     "execution_count": 37,
     "metadata": {},
     "output_type": "execute_result"
    }
   ],
   "source": [
    "multiply(2,3)\n",
    "#print(z)    # 函数执行完毕，局部变量已经被释放掉了"
   ]
  },
  {
   "cell_type": "code",
   "execution_count": 38,
   "metadata": {},
   "outputs": [],
   "source": [
    "def multiply_any(*args):\n",
    "    res = 1\n",
    "    for i in args:\n",
    "        res *= i \n",
    "    return res "
   ]
  },
  {
   "cell_type": "code",
   "execution_count": 39,
   "metadata": {},
   "outputs": [
    {
     "data": {
      "text/plain": [
       "210"
      ]
     },
     "execution_count": 39,
     "metadata": {},
     "output_type": "execute_result"
    }
   ],
   "source": [
    "multiply_any(3,5,7,2)\n"
   ]
  },
  {
   "cell_type": "markdown",
   "metadata": {},
   "source": [
    "- **全局变量** 外部定义的都是全局变量\n",
    "\n",
    "- 全局变量可以在函数体内直接被使用\n",
    "\n",
    "- 通过global在函数体内定义全局变量"
   ]
  },
  {
   "cell_type": "code",
   "execution_count": 40,
   "metadata": {},
   "outputs": [
    {
     "name": "stdout",
     "output_type": "stream",
     "text": [
      "30\n"
     ]
    },
    {
     "data": {
      "text/plain": [
       "[0, 30]"
      ]
     },
     "execution_count": 40,
     "metadata": {},
     "output_type": "execute_result"
    }
   ],
   "source": [
    "n = 3\n",
    "ls = [0]\n",
    "def multiply(x, y):\n",
    "    global z\n",
    "    z = n * x * y\n",
    "    ls.append(z)\n",
    "    return z\n",
    "print(multiply(2,5))\n",
    "ls "
   ]
  },
  {
   "cell_type": "markdown",
   "metadata": {},
   "source": [
    "### 返回值\n",
    "\n",
    "#### 单个返回值"
   ]
  },
  {
   "cell_type": "code",
   "execution_count": 41,
   "metadata": {},
   "outputs": [
    {
     "data": {
      "text/plain": [
       "100"
      ]
     },
     "execution_count": 41,
     "metadata": {},
     "output_type": "execute_result"
    }
   ],
   "source": [
    "def foo(x):\n",
    "    return pow(x, 2)\n",
    "res = foo(10)\n",
    "res "
   ]
  },
  {
   "cell_type": "markdown",
   "metadata": {},
   "source": [
    "#### 多个返回值 - 以元组的形式"
   ]
  },
  {
   "cell_type": "code",
   "execution_count": 42,
   "metadata": {},
   "outputs": [],
   "source": [
    "def function4(x=1):\n",
    "    return 1, x, pow(x,2), pow(x, 3)    #逗号分开，打包返回"
   ]
  },
  {
   "cell_type": "code",
   "execution_count": 43,
   "metadata": {},
   "outputs": [
    {
     "name": "stdout",
     "output_type": "stream",
     "text": [
      "1\n",
      "3\n",
      "9\n",
      "27\n"
     ]
    }
   ],
   "source": [
    "a, b, c, d = function4(3)    # 解包赋值\n",
    "print(a)\n",
    "print(b)\n",
    "print(c)\n",
    "print(d) "
   ]
  },
  {
   "cell_type": "markdown",
   "metadata": {},
   "source": [
    "#### 可以有多个return语句，一旦其中一个执行，代表函数运行的结束"
   ]
  },
  {
   "cell_type": "code",
   "execution_count": 44,
   "metadata": {},
   "outputs": [],
   "source": [
    "def is_holiday(day):\n",
    "    if day in [\"Sunday\", \"Saturday\"]:\n",
    "        return \"is holiday\"\n",
    "    else:\n",
    "        return \"not holiday\"\n",
    "    print(\"hahahaha\")    # 没机会运行"
   ]
  },
  {
   "cell_type": "code",
   "execution_count": 45,
   "metadata": {},
   "outputs": [
    {
     "name": "stdout",
     "output_type": "stream",
     "text": [
      "is holiday\n",
      "is holiday\n",
      "not holiday\n"
     ]
    }
   ],
   "source": [
    "print(is_holiday(\"Sunday\"))\n",
    "print(is_holiday(\"Saturday\"))\n",
    "print(is_holiday(\"Monday\"))"
   ]
  },
  {
   "cell_type": "markdown",
   "metadata": {},
   "source": [
    "#### 没有return语句，返回值为None"
   ]
  },
  {
   "cell_type": "code",
   "execution_count": 46,
   "metadata": {},
   "outputs": [],
   "source": [
    "def foo5():\n",
    "    print(\"Hello World!\")\n"
   ]
  },
  {
   "cell_type": "code",
   "execution_count": 47,
   "metadata": {},
   "outputs": [
    {
     "name": "stdout",
     "output_type": "stream",
     "text": [
      "Hello World!\n",
      "None\n"
     ]
    }
   ],
   "source": [
    "res = foo5()\n",
    "print(res)"
   ]
  },
  {
   "cell_type": "markdown",
   "metadata": {},
   "source": [
    "### 几点建议\n",
    "\n",
    "#### 函数及其参数名的明明参照变量的命名\n",
    "\n",
    "- 字母小写及下划线组合\n",
    "\n",
    "- 有实际意义\n",
    "\n",
    "#### 应包含简要阐述函数功能的注释，注释紧跟函数定义后面\n",
    "\n",
    "#### 函数定义前后各空两行\n",
    "\n",
    "#### 默认参数赋值等号两侧不需加空格"
   ]
  },
  {
   "cell_type": "markdown",
   "metadata": {},
   "source": [
    "### 函数式编程\n",
    "\n",
    "**模块化编程思想**\n",
    "\n",
    "- 自顶向下，分而治之\n",
    "\n",
    "【问题描述】\n",
    "\n",
    "- 小丹和小伟羽毛球都打得不错，水平也差不多，小丹略胜一筹，基本上，打100个球，小丹能赢55次，小伟赢45次。\n",
    "\n",
    "- 但是每次正式比赛（1局定胜负，谁先赢到21分，谁就获胜），小丹赢的概率远远大于小伟，小伟很不服气。\n",
    "\n",
    "**通过模拟实验，揭示原因**"
   ]
  },
  {
   "cell_type": "markdown",
   "metadata": {},
   "source": [
    "【问题抽象】\n",
    "\n",
    "1. 在小丹和小伟的二元比赛系统中，小丹每球获胜概率55%, 小伟每球获胜概率45%;\n",
    "\n",
    "2. 每局比赛，先赢21球（21分）；\n",
    "\n",
    "3. 假设进行n = 1000场独立的比赛，小丹会获胜多少场？(n 较大的时候，实验结果=真实结果）"
   ]
  },
  {
   "cell_type": "code",
   "execution_count": 48,
   "metadata": {},
   "outputs": [],
   "source": [
    "def main():\n",
    "    # 主要逻辑\n",
    "    prob_A, prob_B, number_of_games = get_inputs()    # 获取原始数据\n",
    "    win_A, win_B = sim_n_games(prob_A, prob_B, number_of_games)    # 获取模拟结果\n",
    "    print_summary(win_A, win_B, number_of_games)    #结果汇总输出\n",
    "    "
   ]
  },
  {
   "cell_type": "markdown",
   "metadata": {},
   "source": [
    "1. 输入原始数据"
   ]
  },
  {
   "cell_type": "code",
   "execution_count": 49,
   "metadata": {},
   "outputs": [],
   "source": [
    "def get_inputs():\n",
    "    \"\"\"Get primary data for the simulate test.\"\"\"\n",
    "    prob_A = eval(input(\"Please input Player A winning probability(0..1)>>> \"))\n",
    "    if (prob_A > 0) and (prob_A < 1):\n",
    "        prob_B = round(1 - prob_A, 2)\n",
    "    else:\n",
    "        print(\"Player A winning probability error.\")\n",
    "        return -1\n",
    "    number_of_games = eval(input(\"Please input simulated games.>>> \"))\n",
    "    print(\"Simulated games: \", number_of_games)\n",
    "    print(\"Player A winning probability: \", prob_A)\n",
    "    print(\"Player B winning probability: \", prob_B)\n",
    "    return prob_A, prob_B, number_of_games"
   ]
  },
  {
   "cell_type": "code",
   "execution_count": 50,
   "metadata": {},
   "outputs": [
    {
     "name": "stdout",
     "output_type": "stream",
     "text": [
      "Please input Player A winning probability(0..1)>>> 0.55\n",
      "Please input simulated games.>>> 10\n",
      "Simulated games:  10\n",
      "Player A winning probability:  0.55\n",
      "Player B winning probability:  0.45\n"
     ]
    },
    {
     "data": {
      "text/plain": [
       "(0.55, 0.45, 10)"
      ]
     },
     "execution_count": 50,
     "metadata": {},
     "output_type": "execute_result"
    }
   ],
   "source": [
    "prob_A, prob_B, number_of_games = get_inputs()\n",
    "prob_A, prob_B, number_of_games"
   ]
  },
  {
   "cell_type": "markdown",
   "metadata": {},
   "source": [
    "**2. 模拟n场比赛**"
   ]
  },
  {
   "cell_type": "code",
   "execution_count": 57,
   "metadata": {},
   "outputs": [],
   "source": [
    "def sim_n_games(prob_A, prob_B, number_of_games):\n",
    "    \"\"\"Result of simulating n games. \"\"\"\n",
    "    win_A, win_B = 0, 0    # 初始化A， B的获胜场次\n",
    "    for i in range(number_of_games):    # iterate number_of_games \n",
    "        score_A, score_B = sim_one_game(prob_A, prob_B)\n",
    "        if score_A > score_B:\n",
    "            win_A += 1\n",
    "        else:\n",
    "            win_B += 1\n",
    "    return win_A, win_B"
   ]
  },
  {
   "cell_type": "code",
   "execution_count": 58,
   "metadata": {},
   "outputs": [],
   "source": [
    "import random\n",
    "\n",
    "def sim_one_game(prob_A, prob_B):\n",
    "    \"\"\"The result of A game\"\"\"\n",
    "    score_A, score_B = 0, 0    # score of A, B in a game\n",
    "    while not game_over(score_A, score_B):\n",
    "        if random.random() < prob_A:    #random.random()产生[0,1)之间的随机小数，均匀分布\n",
    "            score_A += 1\n",
    "        else:\n",
    "            score_B += 1\n",
    "    return score_A, score_B"
   ]
  },
  {
   "cell_type": "code",
   "execution_count": 59,
   "metadata": {},
   "outputs": [],
   "source": [
    "def game_over(s_A, s_B):\n",
    "    \"\"\"Determine whether the game is over or not\"\"\"\n",
    "    return (s_A == 21) or (s_B == 21)"
   ]
  },
  {
   "cell_type": "markdown",
   "metadata": {},
   "source": [
    "**Unit Test 单元测试 用assert**\n",
    "\n",
    "assert expression\n",
    "\n",
    "表达式为假时触发异常"
   ]
  },
  {
   "cell_type": "markdown",
   "metadata": {},
   "source": [
    "- 测试函数game_over(score_A, score_B)"
   ]
  },
  {
   "cell_type": "code",
   "execution_count": 60,
   "metadata": {},
   "outputs": [],
   "source": [
    "assert game_over(21,20) == True\n",
    "assert game_over(9, 21) == True\n",
    "assert game_over(11,10) == False"
   ]
  },
  {
   "cell_type": "markdown",
   "metadata": {},
   "source": [
    "- 测试函数sim_one_game(porb_A, prob_B)"
   ]
  },
  {
   "cell_type": "code",
   "execution_count": 68,
   "metadata": {},
   "outputs": [
    {
     "name": "stdout",
     "output_type": "stream",
     "text": [
      "(20, 21)\n",
      "(21, 12)\n",
      "(15, 21)\n"
     ]
    }
   ],
   "source": [
    "print(sim_one_game(0.55, 0.45))\n",
    "print(sim_one_game(0.6, 0.4))\n",
    "print(sim_one_game(0.45,0.55))"
   ]
  },
  {
   "cell_type": "markdown",
   "metadata": {},
   "source": [
    "- 测试函数sim_n_games(prob_A, prob_B, number_of_games)"
   ]
  },
  {
   "cell_type": "code",
   "execution_count": 70,
   "metadata": {},
   "outputs": [
    {
     "data": {
      "text/plain": [
       "(75, 25)"
      ]
     },
     "execution_count": 70,
     "metadata": {},
     "output_type": "execute_result"
    }
   ],
   "source": [
    "win_A, win_B = sim_n_games(0.55,0.45, 100)\n",
    "win_A, win_B"
   ]
  },
  {
   "cell_type": "markdown",
   "metadata": {},
   "source": [
    "**结果汇总输出**"
   ]
  },
  {
   "cell_type": "code",
   "execution_count": 73,
   "metadata": {},
   "outputs": [],
   "source": [
    "def print_summary(win_A, win_B, number_of_games):\n",
    "    \"\"\"Output the Simulation Summary\"\"\"\n",
    "    print(\"Total {} games \".format(number_of_games))\n",
    "    print(\"Player A won {0:<4} games, {1:.2%}\".format(win_A, win_A / number_of_games))\n",
    "    print(\"Player B won {0:<4} games, {1:.2%}\".format(win_B, win_B / number_of_games))"
   ]
  },
  {
   "cell_type": "markdown",
   "metadata": {},
   "source": [
    "**单元测试print_summary()**"
   ]
  },
  {
   "cell_type": "code",
   "execution_count": 75,
   "metadata": {},
   "outputs": [
    {
     "name": "stdout",
     "output_type": "stream",
     "text": [
      "Total 100 games \n",
      "Player A won 88   games, 88.00%\n",
      "Player B won 12   games, 12.00%\n"
     ]
    }
   ],
   "source": [
    "print_summary(88,12,100)"
   ]
  },
  {
   "cell_type": "markdown",
   "metadata": {},
   "source": [
    "#### 完整代码"
   ]
  },
  {
   "cell_type": "code",
   "execution_count": null,
   "metadata": {},
   "outputs": [],
   "source": [
    "import random\n",
    "\n",
    "\n",
    "def get_inputs():\n",
    "    \"\"\"Get primary data for the simulate test.\"\"\"\n",
    "    prob_A = eval(input(\"Please input Player A winning probability(0..1)>>> \"))\n",
    "    if (prob_A > 0) and (prob_A < 1):\n",
    "        prob_B = round(1 - prob_A, 2)\n",
    "    else:\n",
    "        print(\"Player A winning probability error.\")\n",
    "        return -1\n",
    "    number_of_games = eval(input(\"Please input simulated games.>>> \"))\n",
    "    print(\"Simulated games: \", number_of_games)\n",
    "    print(\"Player A winning probability: \", prob_A)\n",
    "    print(\"Player B winning probability: \", prob_B)\n",
    "    return prob_A, prob_B, number_of_games\n",
    "\n",
    "\n",
    "def sim_n_games(prob_A, prob_B, number_of_games):\n",
    "    \"\"\"Result of simulating n games. \"\"\"\n",
    "    win_A, win_B = 0, 0    # 初始化A， B的获胜场次\n",
    "    for i in range(number_of_games):    # iterate number_of_games \n",
    "        score_A, score_B = sim_one_game(prob_A, prob_B)\n",
    "        if score_A > score_B:\n",
    "            win_A += 1\n",
    "        else:\n",
    "            win_B += 1\n",
    "    return win_A, win_B\n",
    "\n",
    "\n",
    "def sim_one_game(prob_A, prob_B):\n",
    "    \"\"\"The result of A game\"\"\"\n",
    "    score_A, score_B = 0, 0    # score of A, B in a game\n",
    "    while not game_over(score_A, score_B):\n",
    "        if random.random() < prob_A:    #random.random()产生[0,1)之间的随机小数，均匀分布\n",
    "            score_A += 1\n",
    "        else:\n",
    "            score_B += 1\n",
    "    return score_A, score_B\n",
    "\n",
    "\n",
    "def game_over(s_A, s_B):\n",
    "    \"\"\"Determine whether the game is over or not\"\"\"\n",
    "    return (s_A == 21) or (s_B == 21)\n",
    "\n",
    "\n",
    "def print_summary(win_A, win_B, number_of_games):\n",
    "    \"\"\"Output the Simulation Summary\"\"\"\n",
    "    print(\"Total {} games \".format(number_of_games))\n",
    "    print(\"Player A won {0:<4} games, {1:.2%}\".format(win_A, win_A / number_of_games))\n",
    "    print(\"Player B won {0:<4} games, {1:.2%}\".format(win_B, win_B / number_of_games))\n",
    "\n",
    "\n",
    "def main():\n",
    "    # 主要逻辑\n",
    "    prob_A, prob_B, number_of_games = get_inputs()    # 获取原始数据\n",
    "    win_A, win_B = sim_n_games(prob_A, prob_B, number_of_games)    # 获取模拟结果\n",
    "    print_summary(win_A, win_B, number_of_games)    #结果汇总输出\n",
    "\n",
    "if __name__ == \"main\":    #程序入口\n",
    "    main()"
   ]
  },
  {
   "cell_type": "markdown",
   "metadata": {},
   "source": [
    "## 匿名函数\n",
    "\n",
    "### 基本形式\n",
    "\n",
    "lambda 变量: 函数体（一行)\n",
    "\n",
    "### 常用用法\n",
    "在参数列表中最适合使用匿名函数，尤其是与 key = 搭配\n",
    "\n",
    "- 排序sort(), sorted()\n"
   ]
  },
  {
   "cell_type": "code",
   "execution_count": 76,
   "metadata": {},
   "outputs": [
    {
     "data": {
      "text/plain": [
       "[(76, 94), (79, 100), (85, 85), (86, 71), (93, 88)]"
      ]
     },
     "execution_count": 76,
     "metadata": {},
     "output_type": "execute_result"
    }
   ],
   "source": [
    "ls = [(93, 88), (79, 100), (86,71), (85, 85), (76, 94)]\n",
    "ls.sort()\n",
    "ls "
   ]
  },
  {
   "cell_type": "code",
   "execution_count": 77,
   "metadata": {},
   "outputs": [
    {
     "data": {
      "text/plain": [
       "[(86, 71), (85, 85), (93, 88), (76, 94), (79, 100)]"
      ]
     },
     "execution_count": 77,
     "metadata": {},
     "output_type": "execute_result"
    }
   ],
   "source": [
    "ls.sort(key = lambda x: x[1])\n",
    "ls "
   ]
  },
  {
   "cell_type": "code",
   "execution_count": 78,
   "metadata": {},
   "outputs": [
    {
     "data": {
      "text/plain": [
       "[(86, 71), (85, 85), (93, 88), (76, 94), (79, 100)]"
      ]
     },
     "execution_count": 78,
     "metadata": {},
     "output_type": "execute_result"
    }
   ],
   "source": [
    "temp = sorted(ls, key = lambda x: x[1])\n",
    "temp"
   ]
  },
  {
   "cell_type": "code",
   "execution_count": 80,
   "metadata": {},
   "outputs": [
    {
     "data": {
      "text/plain": [
       "[(93, 88), (79, 100), (85, 85), (76, 94), (86, 71)]"
      ]
     },
     "execution_count": 80,
     "metadata": {},
     "output_type": "execute_result"
    }
   ],
   "source": [
    "temp = sorted(ls, key = lambda x: x[0] + x[1], reverse=True)\n",
    "temp "
   ]
  },
  {
   "cell_type": "markdown",
   "metadata": {},
   "source": [
    "- max() min()"
   ]
  },
  {
   "cell_type": "code",
   "execution_count": 81,
   "metadata": {},
   "outputs": [
    {
     "data": {
      "text/plain": [
       "(86, 71)"
      ]
     },
     "execution_count": 81,
     "metadata": {},
     "output_type": "execute_result"
    }
   ],
   "source": [
    "math_min = min(ls, key = lambda x: x[1])\n",
    "math_min"
   ]
  },
  {
   "cell_type": "code",
   "execution_count": 82,
   "metadata": {},
   "outputs": [
    {
     "data": {
      "text/plain": [
       "(93, 88)"
      ]
     },
     "execution_count": 82,
     "metadata": {},
     "output_type": "execute_result"
    }
   ],
   "source": [
    "chinese_max = max(ls, key = lambda x: x[0])\n",
    "chinese_max"
   ]
  },
  {
   "cell_type": "markdown",
   "metadata": {},
   "source": [
    "## 面向过程和面向对象编程\n",
    "\n",
    "**面向过程** - 以过程为中心的编程思想，以“什么正在发生”为主要目标进行编程。**程序化的**\n",
    "\n",
    "**面向对象** - 将现实世界抽象为对象，更关注“谁在受影响”，更加贴近现实。拟人化的\n",
    "\n",
    "- 以公共汽车为例\n",
    "\n",
    "**面向过程** 汽车启动是一个事件，汽车到站是另一个事件， ...\n",
    "\n",
    "在编程的时候我们关心的是某一个事件，而不是汽车本身。\n",
    "\n",
    "我们分别对启动和到站编写程序。\n",
    "\n",
    "**面向对象** 构造汽车这个对象\n",
    "\n",
    "对象包含动力、服役时间、生产厂家等一系列的“属性”。\n",
    "\n",
    "也包含加油、启动、加速、刹车、拐弯、鸣喇叭、到站、维修等一系列的“方法”"
   ]
  }
 ],
 "metadata": {
  "kernelspec": {
   "display_name": "Python 3",
   "language": "python",
   "name": "python3"
  },
  "language_info": {
   "codemirror_mode": {
    "name": "ipython",
    "version": 3
   },
   "file_extension": ".py",
   "mimetype": "text/x-python",
   "name": "python",
   "nbconvert_exporter": "python",
   "pygments_lexer": "ipython3",
   "version": "3.8.5"
  },
  "toc": {
   "base_numbering": 1,
   "nav_menu": {},
   "number_sections": true,
   "sideBar": true,
   "skip_h1_title": false,
   "title_cell": "Table of Contents",
   "title_sidebar": "Contents",
   "toc_cell": false,
   "toc_position": {},
   "toc_section_display": true,
   "toc_window_display": false
  }
 },
 "nbformat": 4,
 "nbformat_minor": 4
}
