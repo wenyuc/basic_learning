{
 "cells": [
  {
   "cell_type": "markdown",
   "metadata": {},
   "source": [
    "## 函数\n",
    "\n",
    "### 函数的定义及调用\n",
    "\n",
    "#### 为什么要用函数\n",
    "\n",
    "- 提高代码复用性 - 抽象出来，封装为函数\n",
    "\n",
    "- 将复杂的大问题分解为一系列小问题 - 分而治之， 模块化设计思想\n",
    "\n",
    "- 利于代码维护和管理\n",
    "\n",
    "**顺序式**"
   ]
  },
  {
   "cell_type": "code",
   "execution_count": 4,
   "metadata": {},
   "outputs": [
    {
     "name": "stdout",
     "output_type": "stream",
     "text": [
      "120\n",
      "3628800\n"
     ]
    }
   ],
   "source": [
    "# 5 的阶乘\n",
    "n = 5\n",
    "res = 1\n",
    "for i in range(1, n + 1):\n",
    "    res *= i\n",
    "print(res)\n",
    "\n",
    "# 20的阶乘\n",
    "\n",
    "n = 10\n",
    "res = 1\n",
    "for i in range(1, n + 1):\n",
    "    res *= i\n",
    "print(res)\n"
   ]
  },
  {
   "cell_type": "markdown",
   "metadata": {},
   "source": [
    "**抽象成函数**"
   ]
  },
  {
   "cell_type": "code",
   "execution_count": 2,
   "metadata": {},
   "outputs": [],
   "source": [
    "def factoria(n):\n",
    "    res = 1\n",
    "    for i in range(1, n + 1):\n",
    "        res *= i\n",
    "    return res"
   ]
  },
  {
   "cell_type": "code",
   "execution_count": 3,
   "metadata": {},
   "outputs": [
    {
     "data": {
      "text/plain": [
       "3628800"
      ]
     },
     "execution_count": 3,
     "metadata": {},
     "output_type": "execute_result"
    }
   ],
   "source": [
    "factoria(10)"
   ]
  },
  {
   "cell_type": "markdown",
   "metadata": {},
   "source": [
    "#### 函数的定义和调用\n",
    "\n",
    "白盒：输入、处理、输出\n",
    "\n",
    "三要素：参数、函数体、返回值\n",
    "\n",
    "##### 定义\n",
    "\n",
    "def 函数名(参数):\n",
    "    '''函数说明‘’‘\n",
    "    函数体\n",
    "    return 返回值"
   ]
  },
  {
   "cell_type": "code",
   "execution_count": 11,
   "metadata": {},
   "outputs": [],
   "source": [
    "# 求正方形的面积\n",
    "def area_of_square(length_of_side):\n",
    "    '''Return the area of a square.'''\n",
    "    return pow(length_of_side, 2)"
   ]
  },
  {
   "cell_type": "markdown",
   "metadata": {},
   "source": [
    "##### 调用\n",
    "函数名(参数)"
   ]
  },
  {
   "cell_type": "code",
   "execution_count": 12,
   "metadata": {},
   "outputs": [
    {
     "data": {
      "text/plain": [
       "25"
      ]
     },
     "execution_count": 12,
     "metadata": {},
     "output_type": "execute_result"
    }
   ],
   "source": [
    "area_of_square(5)"
   ]
  },
  {
   "cell_type": "markdown",
   "metadata": {},
   "source": [
    "#### 参数传递\n",
    "\n",
    "##### 形参与实参\n",
    "\n",
    "- 形参（形式参数）：函数定义的参数，实际上就是变量名\n",
    "\n",
    "- 实参（实际参数）：函数调用时的参数，实际上就是变量的值\n",
    "\n",
    "###### 位置参数\n",
    "\n",
    "- 严格按照参数顺序，将实参赋值给形参（关联）\n",
    "\n",
    "- 实参与形参必须一一对应，不能多也不能少\n",
    "\n",
    "- 一般用于参数较少的时候"
   ]
  },
  {
   "cell_type": "code",
   "execution_count": 18,
   "metadata": {},
   "outputs": [],
   "source": [
    "def function(x, y, z):\n",
    "    \"\"\"Print x, y, z\"\"\"\n",
    "    print(\"x={}, y={}, z={}\".format(x, y, z))\n"
   ]
  },
  {
   "cell_type": "code",
   "execution_count": 19,
   "metadata": {},
   "outputs": [
    {
     "name": "stdout",
     "output_type": "stream",
     "text": [
      "x=1, y=2, z=3\n"
     ]
    }
   ],
   "source": [
    "function(1, 2, 3)"
   ]
  },
  {
   "cell_type": "code",
   "execution_count": 21,
   "metadata": {},
   "outputs": [],
   "source": [
    "#function(1,2)\n",
    "#function(1,2,3,4)"
   ]
  },
  {
   "cell_type": "markdown",
   "metadata": {},
   "source": [
    "###### 关键字参数\n",
    "\n",
    "- 打破位置限制，用直呼其名的方式进行值的传递（形参=实参）\n",
    "\n",
    "- 必须遵守形参和实参上**数量上**的相同\n",
    "\n",
    "- 多用在参数比较多的场合"
   ]
  },
  {
   "cell_type": "code",
   "execution_count": null,
   "metadata": {},
   "outputs": [],
   "source": []
  }
 ],
 "metadata": {
  "kernelspec": {
   "display_name": "Python 3",
   "language": "python",
   "name": "python3"
  },
  "language_info": {
   "codemirror_mode": {
    "name": "ipython",
    "version": 3
   },
   "file_extension": ".py",
   "mimetype": "text/x-python",
   "name": "python",
   "nbconvert_exporter": "python",
   "pygments_lexer": "ipython3",
   "version": "3.7.9"
  },
  "toc": {
   "base_numbering": 1,
   "nav_menu": {},
   "number_sections": true,
   "sideBar": true,
   "skip_h1_title": false,
   "title_cell": "Table of Contents",
   "title_sidebar": "Contents",
   "toc_cell": false,
   "toc_position": {},
   "toc_section_display": true,
   "toc_window_display": true
  }
 },
 "nbformat": 4,
 "nbformat_minor": 4
}
