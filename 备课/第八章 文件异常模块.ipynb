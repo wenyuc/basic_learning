{
 "cells": [
  {
   "cell_type": "markdown",
   "metadata": {},
   "source": [
    "## 第八章 文件、异常和模块\n",
    "\n",
    "**在实际应用中，我们绝大多数的数据都是通过与文件的交互完成的。**\n",
    "\n",
    "### 文件的读写\n",
    "\n",
    "#### 文件的打开\n",
    "\n",
    "- 文件打开的通用格式\n",
    "\n",
    "with open(\"文件路径\", \"打开模式\", encoding = \"操作文件的字符编码\") as f:\n",
    "    对文件进行读写操作块\n",
    "\n",
    "使用with块的好处：执行完毕后，**自动**对打开的文件进行close操作。\n",
    "\n",
    "**一个简单的文件读**\n",
    "\n",
    "##### 文件路径\n",
    "\n",
    "全路径，如下例\n",
    "\n",
    "当文件在当前路径，可简化为文件名\n",
    "\n",
    "##### 打开模式\n",
    "\n",
    "\"r\"    只读模式，**缺省模式**，如文件不存在，报错\n",
    "\"w\"    覆盖写模式，如果文件不存在，则创建；如文件已存在，则完全覆盖\n",
    "\"x\"    创建写模式，如果文件不存在，则创建；如文件已存在，则报错\n",
    "\"a\"    追加写模式，如果文件不存在，则创建；如文件已存在，则在后面添加内容\n",
    "\"b\"    二进制文件模式，该模式不能单独存在，要结合一起用\"rb\",\"wb\",\"ab\",**这个模式不需要指定encoding**\n",
    "\"t\"    文本文件模式，默认值，一般省略\n",
    "\"+\"    添加模式，与\"r\", \"w\", \"x\", \"a\"结合使用。\n",
    "\n",
    "##### 字符编码\n",
    "\n",
    "**万国码 utf-8 **\n",
    "\n",
    "包括全世界国家所需要使用的字符\n",
    "\n",
    "**中文码 gbk**\n",
    "\n",
    "专门解决中文编码问题\n",
    "\n"
   ]
  },
  {
   "cell_type": "code",
   "execution_count": 1,
   "metadata": {},
   "outputs": [
    {
     "name": "stdout",
     "output_type": "stream",
     "text": [
      "     \t    A         B \tC\n",
      "aaa -0.264438 -1.026059 -0.619500\n",
      "bbb  0.927272  0.302904 -0.032399\n",
      "ccc -0.264273 -0.386314 -0.217601\n",
      "ddd -0.871858 -0.348382 1.100491\n"
     ]
    }
   ],
   "source": [
    "with open('../data/ex3.txt', mode='r', encoding = 'gbk') as f: \n",
    "    text = f.read()\n",
    "    print(text)"
   ]
  },
  {
   "cell_type": "markdown",
   "metadata": {},
   "source": [
    "#### 文件的读取\n",
    "\n",
    "- 读取整个文件的内容 f.read()\n",
    "\n"
   ]
  },
  {
   "cell_type": "code",
   "execution_count": 2,
   "metadata": {},
   "outputs": [
    {
     "name": "stdout",
     "output_type": "stream",
     "text": [
      "这是一个测试文件\n",
      "用来测试python的读写文件。\n",
      "  \n",
      "上一行是空行\n",
      "\n"
     ]
    }
   ],
   "source": [
    "with open('../data/test1.txt', mode='r', encoding = 'utf-8') as f:\n",
    "    text = f.read()\n",
    "    print(text)"
   ]
  },
  {
   "cell_type": "markdown",
   "metadata": {},
   "source": [
    "- 逐行进行读取 f.readline()"
   ]
  },
  {
   "cell_type": "code",
   "execution_count": 3,
   "metadata": {},
   "outputs": [
    {
     "name": "stdout",
     "output_type": "stream",
     "text": [
      "这是一个测试文件\n",
      "\n"
     ]
    }
   ],
   "source": [
    "with open('../data/test1.txt', mode='r', encoding = 'utf-8') as f:\n",
    "    text = f.readline()\n",
    "    print(text)"
   ]
  },
  {
   "cell_type": "code",
   "execution_count": 4,
   "metadata": {},
   "outputs": [
    {
     "name": "stdout",
     "output_type": "stream",
     "text": [
      "这是一个测试文件\n",
      "用来测试python的读写文件。\n",
      "  \n",
      "上一行是空行\n"
     ]
    }
   ],
   "source": [
    "with open('../data/test1.txt', mode= 'r', encoding = 'utf-8') as f:\n",
    "    while True:\n",
    "        text = f.readline()\n",
    "        if not text:\n",
    "            #print(text is \"\")    #文件到最后是“”，即空字符串\n",
    "            break\n",
    "        else:\n",
    "            #print(\"\\n\")    # 空行是\"\\n\"\n",
    "            print(text, end=\"\")    # 保留原文的换行，使print()的换行不起作用\n",
    "            "
   ]
  },
  {
   "cell_type": "markdown",
   "metadata": {},
   "source": [
    "- 读入所有的行，以每行为一个元素形成一个列表 - f.readlines()"
   ]
  },
  {
   "cell_type": "code",
   "execution_count": 5,
   "metadata": {},
   "outputs": [
    {
     "name": "stdout",
     "output_type": "stream",
     "text": [
      "['这是一个测试文件\\n', '用来测试python的读写文件。\\n', '  \\n', '上一行是空行\\n'] "
     ]
    }
   ],
   "source": [
    "with open('../data/test1.txt', mode='r', encoding = 'utf-8') as f:\n",
    "    text = f.readlines()\n",
    "    print(text, end = \" \")"
   ]
  },
  {
   "cell_type": "markdown",
   "metadata": {},
   "source": [
    "- 小结\n",
    "\n",
    "文件比较大时，read()和readlines()占用内存较大，不建议使用。\n",
    "readline又不太方便。\n",
    "\n",
    "可以用以下方法，"
   ]
  },
  {
   "cell_type": "code",
   "execution_count": 6,
   "metadata": {},
   "outputs": [
    {
     "name": "stdout",
     "output_type": "stream",
     "text": [
      "这是一个测试文件\n",
      "用来测试python的读写文件。\n",
      "  \n",
      "上一行是空行\n"
     ]
    }
   ],
   "source": [
    "with open('../data/test1.txt', mode='r', encoding = 'utf-8') as f:\n",
    "    for text in f:\n",
    "        print(text, end = \"\")"
   ]
  },
  {
   "cell_type": "markdown",
   "metadata": {},
   "source": [
    "- 读取二进制文件\n"
   ]
  },
  {
   "cell_type": "code",
   "execution_count": 7,
   "metadata": {},
   "outputs": [
    {
     "name": "stdout",
     "output_type": "stream",
     "text": [
      "40\n"
     ]
    }
   ],
   "source": [
    "with open('../figs/normal.png', mode='rb') as f:\n",
    "    print(len(f.readlines()))"
   ]
  },
  {
   "cell_type": "markdown",
   "metadata": {},
   "source": [
    "#### 文件的写入\n",
    "\n",
    "- 向一个文件写入字符串或二进制流 - f.write()"
   ]
  },
  {
   "cell_type": "code",
   "execution_count": 8,
   "metadata": {},
   "outputs": [],
   "source": [
    "with open('../data/恋曲1980.txt', mode = 'w', encoding='utf-8') as f: \n",
    "    f.write('你曾经对我说\\n')    # 文件不存在，则创建一个\n",
    "    f.write('你永远爱着我\\n')\n",
    "    f.write('爱情这东西我明白\\n')\n",
    "    f.write('但永远是什么\\n')"
   ]
  },
  {
   "cell_type": "markdown",
   "metadata": {},
   "source": [
    "**如果文件存在，则新写的内容会完全覆盖原来的内容**"
   ]
  },
  {
   "cell_type": "markdown",
   "metadata": {},
   "source": [
    "- 追加模式 \"a\""
   ]
  },
  {
   "cell_type": "code",
   "execution_count": 9,
   "metadata": {},
   "outputs": [],
   "source": [
    "with open('../data/恋曲1980.txt', mode='a', encoding='utf-8') as f:\n",
    "    f.write(\"姑娘你别哭泣\\n\")\n",
    "    f.write(\"我两还在一起\\n\")\n",
    "    f.write(\"今天的欢乐\\n\")\n",
    "    f.write(\"将是明天永恒的回忆\\n\")"
   ]
  },
  {
   "cell_type": "markdown",
   "metadata": {},
   "source": [
    "- 将一个元素是字符串的列表整体写入文 f.writelines(ls)"
   ]
  },
  {
   "cell_type": "code",
   "execution_count": 10,
   "metadata": {},
   "outputs": [],
   "source": [
    "ls = ['春天刮着风\\n', '秋天下着雨\\n', '春风秋雨多少海誓山盟随风而逝\\n']\n",
    "\n",
    "with open('../data/恋曲1980.txt', mode='a', encoding='utf-8') as f: \n",
    "    f.writelines(ls)"
   ]
  },
  {
   "cell_type": "markdown",
   "metadata": {},
   "source": [
    "#### 即读又写\n",
    "\n",
    "- \"r+\"\n",
    "\n",
    "如果文件名不存在，则报错\n",
    "\n",
    "指针在开始\n",
    "\n",
    "要把指针移到末尾才能开始写，否则要覆盖前面的内容"
   ]
  },
  {
   "cell_type": "code",
   "execution_count": 11,
   "metadata": {},
   "outputs": [],
   "source": [
    "with open('../data/浪淘沙.txt', mode='r+', encoding='utf-8') as f:\n",
    "    #for text in f:\n",
    "    #    print(text,end=\"\")    #全部读一遍，指针到达末尾\n",
    "    f.seek(0,2)    #或者可以将指针移到文件末尾，f.seek(偏移字节数，位置（0:开始，1:当前位置，2:结尾))\n",
    "    text = ['萧瑟秋风今又是，\\n','换了人间。\\n']\n",
    "    f.writelines(text)\n",
    "    "
   ]
  },
  {
   "cell_type": "markdown",
   "metadata": {},
   "source": [
    "- \"w+\"\n",
    "\n",
    "若文件不存在，则创建 \n",
    "\n",
    "若文件存在，会立刻清空原内容 "
   ]
  },
  {
   "cell_type": "code",
   "execution_count": 12,
   "metadata": {},
   "outputs": [],
   "source": [
    "with open('../data/浪淘沙.txt', mode=\"w+\", encoding =\"utf-8\") as f:\n",
    "    pass"
   ]
  },
  {
   "cell_type": "code",
   "execution_count": 13,
   "metadata": {},
   "outputs": [
    {
     "name": "stdout",
     "output_type": "stream",
     "text": [
      "萧瑟秋风今又是，\n",
      "换了人间。\n"
     ]
    }
   ],
   "source": [
    "with open('../data/浪淘沙.txt', mode='w+', encoding = 'utf-8') as f: \n",
    "    text = ['萧瑟秋风今又是，\\n','换了人间。\\n']\n",
    "    f.writelines(text)\n",
    "    f.seek(0,0)    #写完以后指针在文件末尾，移到文件开头处读\n",
    "    print(f.read(), end=\"\")"
   ]
  },
  {
   "cell_type": "markdown",
   "metadata": {},
   "source": [
    "- “a+\"\n",
    "\n",
    "若文件不存在，则创建\n",
    "\n",
    "指针在末尾，添加新内容，不会清空原内容"
   ]
  },
  {
   "cell_type": "code",
   "execution_count": 14,
   "metadata": {},
   "outputs": [
    {
     "name": "stdout",
     "output_type": "stream",
     "text": [
      "萧瑟秋风今又是，\n",
      "换了人间。\n"
     ]
    }
   ],
   "source": [
    "with open('../data/浪淘沙.txt', mode=\"a+\", encoding = \"utf-8\") as f: \n",
    "    f.seek(0,0)\n",
    "    print(f.read(), end=\"\")"
   ]
  },
  {
   "cell_type": "code",
   "execution_count": 15,
   "metadata": {},
   "outputs": [
    {
     "name": "stdout",
     "output_type": "stream",
     "text": [
      "萧瑟秋风今又是，\n",
      "换了人间。\n",
      "萧瑟秋风今又是，\n",
      "换了人间。\n"
     ]
    }
   ],
   "source": [
    "with open('../data/浪淘沙.txt', mode=\"a+\", encoding = \"utf-8\") as f: \n",
    "    text = ['萧瑟秋风今又是，\\n','换了人间。\\n']\n",
    "    f.writelines(text)\n",
    "    f.seek(0,0)\n",
    "    print(f.read(), end=\"\")"
   ]
  },
  {
   "cell_type": "markdown",
   "metadata": {},
   "source": [
    "#### 数据的存储与读取\n",
    "\n",
    "通用的数据格式，可以在不同语言中加载和存储。\n",
    "\n",
    "本节介绍两种通用结构，csv和json\n",
    "\n",
    "##### csv格式\n",
    "\n",
    "由逗号将数据分开的字符序列，可以在excel中打开\n",
    "\n",
    "- 读取\n"
   ]
  },
  {
   "cell_type": "code",
   "execution_count": 16,
   "metadata": {},
   "outputs": [
    {
     "name": "stdout",
     "output_type": "stream",
     "text": [
      "['Date', 'Close', 'Volume', 'Symbol']\n",
      "['2016-10-03', '31.50', '14070500', 'CSCO']\n",
      "['2016-10-03', '112.52', '21701800', 'AAPL']\n",
      "['2016-10-03', '57.42', '19189500', 'MSFT']\n",
      "['2016-10-04', '113.00', '29736800', 'AAPL']\n",
      "['2016-10-04', '57.24', '20085900', 'MSFT']\n",
      "['2016-10-04', '31.35', '18460400', 'CSCO']\n",
      "['2016-10-05', '57.64', '16726400', 'MSFT']\n",
      "['2016-10-05', '31.59', '11808600', 'CSCO']\n",
      "['2016-10-05', '113.05', '21453100', 'AAPL']\n",
      "['Date', 'Close', 'Volume', 'Symbol']\n",
      "['2021-08-20', '55.50', '14870588', 'ALBB']\n",
      "['Date', 'Close', 'Volume', 'Symbol']\n",
      "['2021-08-20', '55.50', '14870588', 'ALBB']\n"
     ]
    }
   ],
   "source": [
    "with open('../data/smallstocks.csv', mode='r', encoding='utf-8') as f: \n",
    "    ls = []\n",
    "    for line in f:\n",
    "        ls.append(line.strip('\\n').split(','))\n",
    "for item in ls:\n",
    "    print(item)"
   ]
  },
  {
   "cell_type": "markdown",
   "metadata": {},
   "source": [
    "- 写入\n"
   ]
  },
  {
   "cell_type": "code",
   "execution_count": 17,
   "metadata": {},
   "outputs": [],
   "source": [
    "ls = [['Date','Close','Volume','Symbol'], ['2021-08-20','55.50','14870588','ALBB']]\n",
    "with open('../data/smallstocks.csv', mode='a+', encoding='utf-8') as f: \n",
    "    for row in ls:\n",
    "        f.write(','.join(row) + \"\\n\")"
   ]
  },
  {
   "cell_type": "code",
   "execution_count": 18,
   "metadata": {},
   "outputs": [
    {
     "name": "stdout",
     "output_type": "stream",
     "text": [
      "Date,Close,Volume,Symbol\n",
      "2016-10-03,31.50,14070500,CSCO\n",
      "2016-10-03,112.52,21701800,AAPL\n",
      "2016-10-03,57.42,19189500,MSFT\n",
      "2016-10-04,113.00,29736800,AAPL\n",
      "2016-10-04,57.24,20085900,MSFT\n",
      "2016-10-04,31.35,18460400,CSCO\n",
      "2016-10-05,57.64,16726400,MSFT\n",
      "2016-10-05,31.59,11808600,CSCO\n",
      "2016-10-05,113.05,21453100,AAPL\n",
      "Date,Close,Volume,Symbol\n",
      "2021-08-20,55.50,14870588,ALBB\n",
      "Date,Close,Volume,Symbol\n",
      "2021-08-20,55.50,14870588,ALBB\n",
      "Date,Close,Volume,Symbol\n",
      "2021-08-20,55.50,14870588,ALBB\n"
     ]
    }
   ],
   "source": [
    "with open('../data/smallstocks.csv', mode=\"r\", encoding='utf-8') as f:\n",
    "    for line in f:\n",
    "        print(line, end=\"\") "
   ]
  },
  {
   "cell_type": "markdown",
   "metadata": {},
   "source": [
    "**Python 中有csv模块做相应的操作**"
   ]
  },
  {
   "cell_type": "markdown",
   "metadata": {},
   "source": [
    "##### json格式\n",
    "\n",
    "常被用来存储字典格式\n",
    "\n",
    "**写入 - dump()**\n"
   ]
  },
  {
   "cell_type": "code",
   "execution_count": 19,
   "metadata": {},
   "outputs": [],
   "source": [
    "import json\n",
    "\n",
    "scores = {'Peter': {'math': 96, 'physics': 97},\n",
    "         'Andy': {'math':88, 'physics': 76},\n",
    "         \"Lucy\": {'math':96, 'physics':87}}\n",
    "with open('../data/scores.json', \"w\", encoding = 'utf-8') as f:\n",
    "    #indent 表示字符串换行+缩进， ensure_ascii=False显示中文\n",
    "    json.dump(scores, f, indent = 4, ensure_ascii = False)"
   ]
  },
  {
   "cell_type": "markdown",
   "metadata": {},
   "source": [
    "**读取 - load()**"
   ]
  },
  {
   "cell_type": "code",
   "execution_count": 20,
   "metadata": {},
   "outputs": [
    {
     "name": "stdout",
     "output_type": "stream",
     "text": [
      "Peter {'math': 96, 'physics': 97}\n",
      "Andy {'math': 88, 'physics': 76}\n",
      "Lucy {'math': 96, 'physics': 87}\n"
     ]
    }
   ],
   "source": [
    "with open('../data/scores.json', mode='r', encoding='utf-8') as f: \n",
    "    scores = json.load(f)\n",
    "    for k, v in scores.items():\n",
    "        print(k,v)"
   ]
  },
  {
   "cell_type": "markdown",
   "metadata": {},
   "source": [
    "### 异常处理\n",
    "\n",
    "#### 常见异常的产生\n",
    "\n",
    "##### 除0运算 - ZeroDIvisionError"
   ]
  },
  {
   "cell_type": "code",
   "execution_count": 21,
   "metadata": {},
   "outputs": [],
   "source": [
    "#1/0 "
   ]
  },
  {
   "cell_type": "markdown",
   "metadata": {},
   "source": [
    "##### 找不到可读文件 FileNotFoundError"
   ]
  },
  {
   "cell_type": "code",
   "execution_count": 22,
   "metadata": {},
   "outputs": [],
   "source": [
    "#with open('nobody.txt', \"r\") as f:\n",
    "#    pass "
   ]
  },
  {
   "cell_type": "markdown",
   "metadata": {},
   "source": [
    "##### 值错误 ValueError\n",
    "传入一个函数不期望的值，即使这个值的类型是正确的"
   ]
  },
  {
   "cell_type": "code",
   "execution_count": 23,
   "metadata": {},
   "outputs": [],
   "source": [
    "# s = \"1.3\"\n",
    "# i = int(s)"
   ]
  },
  {
   "cell_type": "markdown",
   "metadata": {},
   "source": [
    "#####  索引错误 IndexError\n",
    "下标超出序列边界"
   ]
  },
  {
   "cell_type": "code",
   "execution_count": 24,
   "metadata": {},
   "outputs": [],
   "source": [
    "# ls = [1,3,5,7]\n",
    "# ls[4]"
   ]
  },
  {
   "cell_type": "markdown",
   "metadata": {},
   "source": [
    "##### 类型错误 TypeError\n",
    "传入对象类型与要求不符"
   ]
  },
  {
   "cell_type": "code",
   "execution_count": 25,
   "metadata": {},
   "outputs": [],
   "source": [
    "#1+\"3\""
   ]
  },
  {
   "cell_type": "markdown",
   "metadata": {},
   "source": [
    "##### 其他常见的异常类型\n",
    "NameError使用一个未被定义的变量。\n",
    "\n",
    "KeyError试图访问字典里不存在的键\n",
    "\n",
    "......\n",
    "\n",
    "**当异常发生时，如果不预先定义好处理方法，程序运行会终止。**"
   ]
  },
  {
   "cell_type": "markdown",
   "metadata": {},
   "source": [
    "#### 异常的处理\n",
    "**提高程序运行的稳定性和可靠性**\n",
    "\n",
    "##### try / except\n",
    "\n",
    "- 如果try内代码块顺利执行完毕，不触发except块内代码\n",
    "\n",
    "- 如果try内代码块发生错误，出发except块内代码\n",
    "\n",
    "**单分支**"
   ]
  },
  {
   "cell_type": "code",
   "execution_count": 26,
   "metadata": {},
   "outputs": [
    {
     "name": "stdout",
     "output_type": "stream",
     "text": [
      "Can not divided by 0.\n"
     ]
    }
   ],
   "source": [
    "x = 10\n",
    "y = 0\n",
    "try:\n",
    "    z = x / y\n",
    "except ZeroDivisionError:    #一般说可以预判到有什么错误\n",
    "    #z = x / (y + 1e-7)\n",
    "    #print(z)\n",
    "    print(\"Can not divided by 0.\")"
   ]
  },
  {
   "cell_type": "code",
   "execution_count": 27,
   "metadata": {},
   "outputs": [],
   "source": [
    "# x = 10\n",
    "# y = 0\n",
    "# try:\n",
    "#     z = x / y\n",
    "# except NameError:    #捕捉错误\n",
    "#     #z = x / (y + 1e-7)\n",
    "#     #print(z)\n",
    "#     print(\"Can not divided by 0.\")"
   ]
  },
  {
   "cell_type": "markdown",
   "metadata": {},
   "source": [
    "**多分支**"
   ]
  },
  {
   "cell_type": "code",
   "execution_count": 28,
   "metadata": {},
   "outputs": [
    {
     "name": "stdout",
     "output_type": "stream",
     "text": [
      "Index out of range.\n"
     ]
    }
   ],
   "source": [
    "ls = []\n",
    "\n",
    "d = {'name':\"Peter\"}\n",
    "\n",
    "try:\n",
    "    #y = x \n",
    "    ls[4]\n",
    "    #d['Age']\n",
    "except NameError:\n",
    "    print(\"variable name not exist.\")\n",
    "except IndexError:\n",
    "    print(\"Index out of range.\")\n",
    "except KeyError:\n",
    "    print(\"Key not exist.\")"
   ]
  },
  {
   "cell_type": "markdown",
   "metadata": {},
   "source": [
    "- 万能异常Exception（所有异常的老祖宗）"
   ]
  },
  {
   "cell_type": "code",
   "execution_count": 29,
   "metadata": {},
   "outputs": [
    {
     "name": "stdout",
     "output_type": "stream",
     "text": [
      "Error Captured.\n"
     ]
    }
   ],
   "source": [
    "ls = []\n",
    "d = {'name':\"Peter\"}\n",
    "\n",
    "try:\n",
    "    #y = x \n",
    "    ls[4]\n",
    "    #d['Age']\n",
    "except Exception:\n",
    "    print(\"Error Captured.\")\n"
   ]
  },
  {
   "cell_type": "markdown",
   "metadata": {},
   "source": [
    "- 捕获异常的值"
   ]
  },
  {
   "cell_type": "code",
   "execution_count": 30,
   "metadata": {},
   "outputs": [
    {
     "name": "stdout",
     "output_type": "stream",
     "text": [
      "name 'm' is not defined\n"
     ]
    }
   ],
   "source": [
    "ls = []\n",
    "d = {'name':\"Peter\"}\n",
    "\n",
    "try:\n",
    "    y = m \n",
    "    ls[4]\n",
    "    d['Age']\n",
    "except Exception as e:    #虽然不能捕获具体错误的类型，但是可以捕获错误的值\n",
    "    print(e)\n"
   ]
  },
  {
   "cell_type": "markdown",
   "metadata": {},
   "source": [
    "- try-except-else\n",
    "\n",
    "如果try模块成功执行，没有到except块，则执行else块中的内容。\n",
    "\n",
    "else块可以看作是try成功的额外奖赏"
   ]
  },
  {
   "cell_type": "code",
   "execution_count": 31,
   "metadata": {},
   "outputs": [
    {
     "name": "stdout",
     "output_type": "stream",
     "text": [
      "萧瑟秋风今又是，\n",
      "换了人间。\n",
      "萧瑟秋风今又是，\n",
      "换了人间。\n",
      "浪淘沙.txt 一共有22个字符.\n"
     ]
    }
   ],
   "source": [
    "try:\n",
    "    with open(\"../data/浪淘沙.txt\", mode=\"r\", encoding=\"utf-8\") as f:\n",
    "        text = f.read()\n",
    "        print(text, end=\"\")\n",
    "except FileNotFoundError as e: \n",
    "    print(\"File not Found.\")\n",
    "else:\n",
    "    for s in ['\\n',',','.','，','。','?','?']:\n",
    "        text = text.replace(s,\"\")\n",
    "    print(\"浪淘沙.txt 一共有{}个字符.\".format(len(text)))"
   ]
  },
  {
   "cell_type": "markdown",
   "metadata": {},
   "source": [
    "- try-except-finally\n",
    "\n",
    "无论try模块中是否执行， finally里面都要执行"
   ]
  },
  {
   "cell_type": "code",
   "execution_count": 32,
   "metadata": {},
   "outputs": [
    {
     "name": "stdout",
     "output_type": "stream",
     "text": [
      "name 'm' is not defined\n",
      "Do it.\n"
     ]
    }
   ],
   "source": [
    "ls = []\n",
    "d = {'name':\"Peter\"}\n",
    "\n",
    "try:\n",
    "    y = m \n",
    "    ls[4]\n",
    "    d['Age']\n",
    "except Exception as e:    #虽然不能捕获具体错误的类型，但是可以捕获错误的值\n",
    "    print(e)\n",
    "finally:\n",
    "    print(\"Do it.\")"
   ]
  },
  {
   "cell_type": "markdown",
   "metadata": {},
   "source": [
    "### 模块简介\n",
    "\n",
    "已经被封装好，用于解决一些特定的问题\n",
    "\n",
    "无需自己重新造轮子\n",
    "\n",
    "声明导入后就可以使用\n",
    "\n",
    "#### 广义模块的分类\n",
    "\n",
    "##### python内置\n",
    "\n",
    "数学库math, 时间库time, 随机库random\n",
    "\n",
    "##### 第三方库\n",
    "\n",
    "数据分析 numpy, pandas,数据可视化matplotlib, 机器学习scikit-learn, 深度学习Tensorflow\n",
    "\n",
    "##### 自定义文件\n",
    "\n",
    "- 单独py文件\n",
    "\n",
    "- 包 - 多个py文件，\n",
    "\n",
    "  文件夹内多个py文件，再加一个__init__.py文件（内容可为空）\n",
    "\n",
    "#### 模块的导入\n",
    "\n",
    "##### 导入整个模块 - import 模块名\n",
    "\n",
    "调用方法: 模块名.函数名或类名"
   ]
  },
  {
   "cell_type": "code",
   "execution_count": 33,
   "metadata": {},
   "outputs": [
    {
     "name": "stdout",
     "output_type": "stream",
     "text": [
      "程序运行用时：3.00秒\n"
     ]
    }
   ],
   "source": [
    "import time \n",
    "\n",
    "start = time.time()    #调用time模块中的time()方法\n",
    "time.sleep(3)    #调用time模块中的sleep()函数\n",
    "end = time.time()\n",
    "print(\"程序运行用时：{:.2f}秒\".format(end - start))"
   ]
  },
  {
   "cell_type": "markdown",
   "metadata": {},
   "source": [
    "##### 从模块中导入类或函数 - from 模块 import 类名或函数名\n",
    "\n",
    "调用方法：函数名或方法"
   ]
  },
  {
   "cell_type": "code",
   "execution_count": 34,
   "metadata": {},
   "outputs": [
    {
     "data": {
      "text/plain": [
       "[('A', '1'), ('A', '2'), ('A', '3'), ('B', '1'), ('B', '2'), ('B', '3')]"
      ]
     },
     "execution_count": 34,
     "metadata": {},
     "output_type": "execute_result"
    }
   ],
   "source": [
    "from itertools import product\n",
    "\n",
    "ls = list(product(\"AB\", \"123\"))\n",
    "ls "
   ]
  },
  {
   "cell_type": "markdown",
   "metadata": {},
   "source": [
    "- 一次导入多个\n",
    "\n",
    "from 模块名 import 类名或函数名1， 类名或函数名2, ...\n",
    "\n",
    "- 导入模块中所有的类和函数 - from 模块 import *\n",
    "\n",
    "调用方式：函数名或类名\n",
    "\n",
    "**不建议使用这种方式**"
   ]
  },
  {
   "cell_type": "markdown",
   "metadata": {},
   "source": [
    "#### 模块的查找路径\n",
    "\n",
    "**模块搜索查找顺序：**\n",
    "\n",
    "1. 内存中已经加载的模块\n",
    "\n",
    "2. 内置模块\n",
    "\n",
    "python启动时，解释器会默认加载一些modules存放在sys.modules中，\n",
    "\n",
    "sys.modules 变量包含一个由当前载入（完整且成功导入）到解释器的模块组成的字典，模块名作为键，它们的位置作为键值。"
   ]
  },
  {
   "cell_type": "code",
   "execution_count": 39,
   "metadata": {},
   "outputs": [
    {
     "name": "stdout",
     "output_type": "stream",
     "text": [
      "The number of sys.modules: 769.\n",
      "True\n",
      "False\n",
      "sys :  <module 'sys' (built-in)>\n",
      "builtins :  <module 'builtins' (built-in)>\n",
      "_frozen_importlib :  <module 'importlib._bootstrap' (frozen)>\n",
      "_imp :  <module '_imp' (built-in)>\n",
      "_warnings :  <module '_warnings' (built-in)>\n",
      "_frozen_importlib_external :  <module 'importlib._bootstrap_external' (frozen)>\n",
      "_io :  <module 'io' (built-in)>\n",
      "marshal :  <module 'marshal' (built-in)>\n",
      "nt :  <module 'nt' (built-in)>\n",
      "_thread :  <module '_thread' (built-in)>\n"
     ]
    }
   ],
   "source": [
    "import sys \n",
    "\n",
    "print(\"The number of sys.modules: {}.\".format(len(sys.modules)))\n",
    "print(\"math\" in sys.modules)\n",
    "print(\"numpy\" in sys.modules)\n",
    "for k, v in list(sys.modules.items())[0:10]:\n",
    "    print(k,\": \", v)"
   ]
  },
  {
   "cell_type": "markdown",
   "metadata": {},
   "source": [
    "3. sys.path路径中包含的模块"
   ]
  },
  {
   "cell_type": "code",
   "execution_count": 36,
   "metadata": {},
   "outputs": [
    {
     "data": {
      "text/plain": [
       "['C:\\\\work2\\\\src\\\\basic_learning\\\\备课',\n",
       " 'C:\\\\work2\\\\src',\n",
       " 'C:\\\\work2\\\\anaconda3\\\\envs\\\\py38\\\\python38.zip',\n",
       " 'C:\\\\work2\\\\anaconda3\\\\envs\\\\py38\\\\DLLs',\n",
       " 'C:\\\\work2\\\\anaconda3\\\\envs\\\\py38\\\\lib',\n",
       " 'C:\\\\work2\\\\anaconda3\\\\envs\\\\py38',\n",
       " '',\n",
       " 'C:\\\\work2\\\\anaconda3\\\\envs\\\\py38\\\\lib\\\\site-packages',\n",
       " 'C:\\\\work2\\\\anaconda3\\\\envs\\\\py38\\\\lib\\\\site-packages\\\\win32',\n",
       " 'C:\\\\work2\\\\anaconda3\\\\envs\\\\py38\\\\lib\\\\site-packages\\\\win32\\\\lib',\n",
       " 'C:\\\\work2\\\\anaconda3\\\\envs\\\\py38\\\\lib\\\\site-packages\\\\Pythonwin',\n",
       " 'C:\\\\work2\\\\anaconda3\\\\envs\\\\py38\\\\lib\\\\site-packages\\\\IPython\\\\extensions',\n",
       " 'C:\\\\Users\\\\wenyuc\\\\.ipython']"
      ]
     },
     "execution_count": 36,
     "metadata": {},
     "output_type": "execute_result"
    }
   ],
   "source": [
    "import sys \n",
    "sys.path "
   ]
  },
  {
   "cell_type": "markdown",
   "metadata": {},
   "source": [
    "- sys.path 的第一个路径是当前执行文件所在的文件夹\n",
    "\n",
    "- 若需将不在该文件夹内的模块导入，需要将模块的路径添加到sys.path"
   ]
  },
  {
   "cell_type": "code",
   "execution_count": 37,
   "metadata": {},
   "outputs": [],
   "source": [
    "# import sys \n",
    "\n",
    "# sys.path.append(\"../../my_package\")\n",
    "# import func3\n",
    "\n",
    "# func3.f3()"
   ]
  }
 ],
 "metadata": {
  "kernelspec": {
   "display_name": "Python 3",
   "language": "python",
   "name": "python3"
  },
  "language_info": {
   "codemirror_mode": {
    "name": "ipython",
    "version": 3
   },
   "file_extension": ".py",
   "mimetype": "text/x-python",
   "name": "python",
   "nbconvert_exporter": "python",
   "pygments_lexer": "ipython3",
   "version": "3.8.5"
  },
  "toc": {
   "base_numbering": 1,
   "nav_menu": {},
   "number_sections": true,
   "sideBar": true,
   "skip_h1_title": false,
   "title_cell": "Table of Contents",
   "title_sidebar": "Contents",
   "toc_cell": false,
   "toc_position": {},
   "toc_section_display": true,
   "toc_window_display": false
  }
 },
 "nbformat": 4,
 "nbformat_minor": 4
}
