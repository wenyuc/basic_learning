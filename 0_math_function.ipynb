{
 "cells": [
  {
   "cell_type": "markdown",
   "metadata": {},
   "source": [
    "##### Bayes Function\n",
    "\n",
    "$ P(A \\mid B) = \\frac {P(B \\mid A)P(A)}{P(B)} $"
   ]
  },
  {
   "cell_type": "markdown",
   "metadata": {},
   "source": [
    "##### Bayes Function\n",
    "$$ P(A \\mid B) = \\frac {P(B \\mid A)P(A)}{P(B)} $$"
   ]
  },
  {
   "cell_type": "markdown",
   "metadata": {},
   "source": [
    "##### White space\n",
    "> 通过 \\ \\: |; 添加空格\n",
    "\n",
    "$$ \\int f(x) \\;dx$$\n",
    "\n",
    "$$ \\int_{0}^{\\pi}{\\sin{x}\\;dx} $$"
   ]
  },
  {
   "cell_type": "markdown",
   "metadata": {},
   "source": [
    "##### 上标和下标\n",
    "\n",
    "$ x^2 $\n",
    "\n",
    "$ x_i^2 $\n",
    "\n",
    "$ x_{ij}^3 $\n",
    "\n",
    "$ e^2x $\n",
    "\n",
    "$ (log \\; x)^2 $\n",
    "\n",
    "$ e^{2x} $\n",
    "\n",
    "$ e^ {\\frac {1}{3}x} $\n",
    "\n",
    "$ e_{(i)}^{(m) \\ 2} $\n",
    "\n",
    "$ C_{10}^{5} $\n",
    "\n",
    "$ \\underset{k}argmax \\ f(x_k) $"
   ]
  },
  {
   "cell_type": "markdown",
   "metadata": {},
   "source": [
    "##### 命令\n",
    "特定的符号和形式通过命令进行编写，每一个命令以反斜杠开始，一个命令名紧随其后。\n",
    "\n",
    "$ \\sqrt{2\\pi} $\n",
    "\n",
    "$ \\sqrt[3]{2x} $\n",
    "\n",
    "$ \\frac{a}{b} $\n",
    "\n",
    "$ \\cfrac{a}{c} $\n",
    "\n",
    "$ \\cfrac{1}{3} - \\cfrac{x_i^2}{y_j^3} $\n",
    "\n",
    "$ \\log_{a}^{\\;b}\\;\\lg\\;\\ln $\n",
    "\n",
    "$ \\bot\\;\\angle\\;30^\\circ\\;\\sin\\;\\cos\\;\\tan\\;\\cot\\;\\sec\\;\\csc\\;\\arctan\\;\\cosh $\n",
    "\n",
    "$ f\\prime {(x)} \\; \\int\\;\\iint\\;\\iiint\\;\\iiiint\\;\\oint\\;$\n",
    "\n",
    "$ \\cfrac{\\partial^{2}y}{\\partial x^{2}} $\n",
    "\n",
    "> 有时要用\\left. 或 \\right. 进行匹配而不显示其本身\n",
    "\n",
    "$  \\left. \\cfrac{ {\\rm d} u}{ {\\rm d} x} \\right| _{x=0} $\n",
    "\n",
    "$ \\because\\;\\therefore\\;\\forall\\;\\exists\\;\\not=\\;\\not> $"
   ]
  },
  {
   "cell_type": "markdown",
   "metadata": {},
   "source": [
    "##### 希腊字母符号\n",
    "\n",
    "$ \\alpha  \\; \\beta  \\;  \\gamma  \\;  \\delta  \\;  \\epsilon  \\;  \\varepsilon  \\; \\zeta $\n",
    "\n",
    "$ \\eta  \\; \\theta  \\;  \\vartheta  \\;  \\iota  \\;  \\kappa  \\;  \\lambda  \\;  \\mu  $\n",
    "\n",
    "$  \\nu  \\;  \\xi  \\;  \\pi  \\;  \\varpi  \\;  \\rho  \\;  \\varrho  \\;  \\sigma  \\; \\varsigma  $\n",
    "\n",
    "$  \\tau  \\;  \\upsilon  \\;  \\phi  \\;  \\varphi  \\;  \\chi  \\;  \\psi  \\;  \\omega   $\n",
    "\n",
    "Uppercase\n",
    "\n",
    "$  \\Gamma  \\;  \\Delta  \\;  \\Theta  \\;  \\Lambda   \\;  \\Xi \\; \\Pi \\; \\Sigma \\; \\Upsilon\\;\\Phi \\; \\Psi  \\;  \\Omega $\n"
   ]
  },
  {
   "cell_type": "markdown",
   "metadata": {},
   "source": [
    "##### 一些计算符号\n",
    "\n",
    "$ \\times\\;\\pm\\;\\oplus\\;\\div\\;\\mid\\;\\nmid\\;\\cdot\\;\\circ\\;\\ast $\n",
    "\n",
    "$ \\bigodot\\;\\bigotimes\\;\\bigoplus $\n",
    "\n",
    "$ \\emptyset\\;\\cap\\;\\cup\\;\\vee\\;\\wedge\\;\\bigcap\\;\\bigcup\\;\\bigvee\\;\\bigwedge\\;\\biguplus\\;\\bigsqcup $\n",
    "\n",
    "$ <\\;\\not<\\;\\leq\\;\\ll\\;\\subset\\;\\not\\subset\\;\\subseteq\\;\\nsubseteq\\;\\sqsubset\\;\\sqsubseteq\\;\\preceq$\n",
    "\n",
    "$ >\\;\\not>\\;\\geq\\;\\gg\\;\\supset\\;\\not\\supset\\;\\supseteq\\;\\nsupseteq\\;\\sqsupset\\;\\sqsupseteq\\;\\succeq$\n",
    "\n",
    "$ =\\;\\doteq\\;\\equiv\\;\\approx\\;\\cong\\;\\simeq\\;\\sim\\;\\propto\\;\\neq $\n",
    "\n",
    "$ \\parallel\\;\\asymp\\;\\vdash\\;\\in\\;\\smile\\;\\models\\;\\perp\\;\\prec\\;\\sphericalangle $\n",
    "\n",
    "$ \\nparallel\\;\\bowtie\\;\\dashv\\;\\ni\\;\\frown\\;\\notin\\;\\mid\\;\\succ\\;\\measuredangle $\n",
    "\n",
    "$ \\infty\\;\\nabla\\;\\partial $\n",
    "\n",
    "$ X \\sim N(\\mu, \\sigma^2) $\n",
    "> \\ldots 与底线对齐的省略号 ； \\cdots 与中线对齐的省略号\n",
    "\n",
    "$ f(x_1, x_2, \\ldots , x_n) = x_1 + x_2 + \\cdots + x_n $\n",
    "\n",
    "$ f(x_1, x_2, \\ldots , x_n) = x_1 \\times x_2 \\times \\cdots \\times x_n $\n",
    "\n",
    "$ \\underbrace{x_1+x_2+\\cdots+x_{10}}_{10} $\n",
    "\n",
    "$ \\overbrace{x_1+x_2+\\cdots+x_{10}}^{10} $\n",
    "\n",
    "> \\cdot可以表示点积\n",
    "\n",
    "$ \\boldsymbol{A \\cdot x} = \\lambda \\cdot v $\n",
    "\n",
    "$ \\uparrow\\;\\downarrow\\;\\Uparrow\\;\\Downarrow $\n",
    "\n",
    "$ \\rightarrow\\;\\longrightarrow\\;\\Rightarrow\\;\\Longrightarrow\\;\\leftarrow\\;\\longleftarrow\\;\\Leftarrow\\;\\Longleftarrow $"
   ]
  },
  {
   "cell_type": "markdown",
   "metadata": {},
   "source": [
    "##### 头标 和底标\n",
    "\n",
    "$ \\hat x\\; \\check {y} \\; \\breve {y}$\n",
    "\n",
    "$ \\hat f(x) $\n",
    "\n",
    "$ \\widehat {f(x)} $\n",
    "\n",
    "$ \\bar x $\n",
    "\n",
    "$ \\tilde N $\n",
    "\n",
    "$ \\overline {f(x)} $\n",
    "\n",
    "$ \\overline{abs} $\n",
    "\n",
    "$ \\underline{abs} $\n",
    "\n",
    "$ \\dot x \\; \\ddot x $\n",
    "\n",
    "$ \\vec{x} \\; \\vec{AB} \\; \\overrightarrow {AB} $\n",
    "\n",
    "$ \\overleftarrow{AB} $\n"
   ]
  },
  {
   "cell_type": "markdown",
   "metadata": {},
   "source": [
    "##### 括号\n",
    "\n",
    "$ z = (\\frac{dx}{dy})^{\\frac{1}{3}} $\n",
    "\n",
    "$ z = \\left(\\frac{dx}{dy}\\right)^{\\frac{1}{3}} $\n",
    "\n",
    "$ {\\langle} {\\phi} \\mid {\\psi} {\\rangle} $\n",
    "\n",
    "$ {\\langle} {\\phi} \\vert {\\psi} {\\rangle} $\n",
    "\n",
    "$ \\lceil A,B,C \\rceil $\n",
    "\n",
    "$ \\lfloor D,E,F \\rfloor $\n",
    "\n",
    "$ \\lbrace G,H,I \\rbrace $"
   ]
  },
  {
   "cell_type": "markdown",
   "metadata": {},
   "source": [
    "##### Matrix\n",
    "\n",
    "$ \\left[\\begin{matrix}a & b & c \\cr d & e & f \\end{matrix} \\right] $\n",
    "\n",
    "$ \\left\\lgroup\\begin{matrix}a & b & c \\cr d & e & f \\end{matrix}\\right\\rgroup $"
   ]
  },
  {
   "cell_type": "markdown",
   "metadata": {},
   "source": [
    "##### 字体\n",
    "非斜体罗马字符\n",
    "\n",
    "$ \\textrm{abcdefghijklmn123456} $\n",
    "\n",
    "$ \\rm{abcdefghijklmn123456} $\n",
    "\n",
    "斜体罗马字符\n",
    "\n",
    "$ \\mathit{abcdefghijklmn123456} $\n",
    "\n",
    "加粗罗马字符\n",
    "\n",
    "$ \\mathbf{abcdefghijklmn123456} $\n",
    "\n",
    "加粗斜体罗马字符\n",
    "\n",
    "$ \\boldsymbol{abcdefghijklmn123456} $\n",
    "\n",
    "意大利体\n",
    "\n",
    "$ \\it{abcdefghijklmn123456} $\n",
    "\n",
    "花体\n",
    "\n",
    "$ \\cal{abcdefghijklmn123456} $\n",
    "\n",
    "等线体\n",
    "\n",
    "$ \\sf{abcdefghijklmn123456} $\n",
    "\n",
    "打字机体\n",
    "\n",
    "$ \\tt{abcdefghijklmn123456} $\n",
    "\n"
   ]
  },
  {
   "cell_type": "markdown",
   "metadata": {},
   "source": [
    "##### 对齐\n",
    "\n",
    "> 通过\\断开两个或多个等式，可实现等式中部对齐\n",
    "\n",
    "$$ a_1 = b_1 + c_1 \\\\\n",
    "a_2 = b_2 + c_2 + d_2 \\\\\n",
    "a_3 = b_3 + c_3 $$\n",
    "\n",
    "> 左对齐：\n",
    "\n",
    "$$ \\begin{aligned} \n",
    "a_1&= b_1 + c_1 \\\\\n",
    "a_2&= b_2 + c_2 + d_2 \\\\\n",
    "a_3&= b_3 + c_3 \n",
    "\\end{aligned} $$\n"
   ]
  },
  {
   "cell_type": "markdown",
   "metadata": {},
   "source": [
    "##### 分段函数\n",
    "\n",
    "$$\n",
    "sign(x) = \n",
    "\\begin{cases}\n",
    "1,&x>0 \\\\\n",
    "0,&x=0 \\\\\n",
    "-1,&x<0 \n",
    "\\end{cases}\n",
    "$$"
   ]
  },
  {
   "cell_type": "markdown",
   "metadata": {},
   "source": [
    "##### 一元二次方程求解公式\n",
    "\n",
    "$ \\frac{-b\\pm\\sqrt{b^2-4ac}}{2a} $"
   ]
  },
  {
   "cell_type": "markdown",
   "metadata": {},
   "source": [
    "##### 求和求积\n",
    "\n",
    "$ \\sum_{0}^{N}{i} $\n",
    "\n",
    "$ \\prod_{1}^{N}{i} $\n",
    "\n",
    "$ \\coprod_{1}^{N}{i} $"
   ]
  },
  {
   "cell_type": "markdown",
   "metadata": {},
   "source": [
    "##### 极限\n",
    "\n",
    "$ \\lim_{n \\to +\\infty} \\cfrac{1}{n(n+1)} $\n",
    "\n",
    "$ \\lim_{n \\leftarrow +\\infty}\\cfrac{1}{n(n+1)} $"
   ]
  },
  {
   "cell_type": "markdown",
   "metadata": {},
   "source": [
    "##### 公式例子\n",
    "\n",
    "$$ loss = \\frac{1}{n}\\sum{(y_i)\\;-\\;{\\hat y_i}} $$\n",
    "\n",
    "$$ f(x,y) = \\sum_{i,j=0}^n{\\left(x_i^2 + y_j^3\\right)} $$\n",
    "\n",
    "$$ g(x) = \\prod_{i=0}^n{\\frac{1}{x_i^2}} $$\n",
    "\n",
    "Binomial Distribution - Probability Density Function\n",
    "$$ P(X=x) = C_{n}^{x} p^x (1-p)^{n-x} $$\n",
    "\n",
    "One-Dimensional Normal Distribution - Probability Density Function\n",
    "\n",
    "$$ f(x) = \\cfrac{1}{\\sqrt{2\\pi}\\sigma}exp{\\left(-\\cfrac{(x-\\mu)^2}{2\\sigma^2}\\right) } $$\n",
    "\n",
    "Standard Normal Distribution ($ \\mu=0, \\sigma=1 )$- Probability Density Function\n",
    "\n",
    "$$ f(x) = \\cfrac{1}{\\sqrt{2\\pi}}exp{\\left(-\\cfrac{x^2}{2}\\right) } $$ "
   ]
  },
  {
   "cell_type": "code",
   "execution_count": null,
   "metadata": {},
   "outputs": [],
   "source": []
  }
 ],
 "metadata": {
  "kernelspec": {
   "display_name": "Python 3",
   "language": "python",
   "name": "python3"
  },
  "language_info": {
   "codemirror_mode": {
    "name": "ipython",
    "version": 3
   },
   "file_extension": ".py",
   "mimetype": "text/x-python",
   "name": "python",
   "nbconvert_exporter": "python",
   "pygments_lexer": "ipython3",
   "version": "3.7.7"
  },
  "toc": {
   "base_numbering": 1,
   "nav_menu": {},
   "number_sections": true,
   "sideBar": true,
   "skip_h1_title": false,
   "title_cell": "Table of Contents",
   "title_sidebar": "Contents",
   "toc_cell": false,
   "toc_position": {},
   "toc_section_display": true,
   "toc_window_display": false
  }
 },
 "nbformat": 4,
 "nbformat_minor": 4
}
