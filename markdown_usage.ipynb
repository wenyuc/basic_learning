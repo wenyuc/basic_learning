{
 "cells": [
  {
   "cell_type": "markdown",
   "metadata": {},
   "source": [
    "## Heading\n",
    "\n",
    "regular text\n",
    "\n",
    "**bold**\n",
    "\n",
    "*italic*\n",
    "\n",
    "~~delete~~\n",
    "\n",
    "<u>underline</u>\n",
    "\n",
    "hello^2^\n",
    "\n",
    "hello~2~\n",
    "\n",
    "\n",
    "- bullet1\n",
    "- bullet2"
   ]
  },
  {
   "cell_type": "markdown",
   "metadata": {},
   "source": []
  }
 ],
 "metadata": {
  "kernelspec": {
   "display_name": "Python 3",
   "language": "python",
   "name": "python3"
  },
  "language_info": {
   "codemirror_mode": {
    "name": "ipython",
    "version": 3
   },
   "file_extension": ".py",
   "mimetype": "text/x-python",
   "name": "python",
   "nbconvert_exporter": "python",
   "pygments_lexer": "ipython3",
   "version": "3.7.7"
  }
 },
 "nbformat": 4,
 "nbformat_minor": 4
}
