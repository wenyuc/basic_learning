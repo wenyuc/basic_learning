{
 "cells": [
  {
   "cell_type": "code",
   "execution_count": 1,
   "id": "saved-glenn",
   "metadata": {},
   "outputs": [],
   "source": [
    "import numpy as np"
   ]
  },
  {
   "cell_type": "code",
   "execution_count": 2,
   "id": "backed-interest",
   "metadata": {},
   "outputs": [],
   "source": [
    "def normalize_list(lst):\n",
    "    min_val = min(lst)\n",
    "    max_val = max(lst)\n",
    "    diff = max_val - min_val\n",
    "    \n",
    "    if diff == 0:\n",
    "        return [1.0] * len(lst)\n",
    "    else:\n",
    "        return [ (x - min_val) / diff for x in lst]"
   ]
  },
  {
   "cell_type": "code",
   "execution_count": 3,
   "id": "fluid-springfield",
   "metadata": {},
   "outputs": [],
   "source": [
    "def relative_weight(lst):\n",
    "    sum_lst = sum(lst)\n",
    "    return [ x / sum_lst for x in lst]"
   ]
  },
  {
   "cell_type": "code",
   "execution_count": 4,
   "id": "applicable-batch",
   "metadata": {},
   "outputs": [],
   "source": [
    "def cal_w(arr):\n",
    "    geo_means = []\n",
    "    for i in arr:\n",
    "        product = 1\n",
    "        for j in i:\n",
    "            product *= j \n",
    "        geo_mean = product ** (1/len(i))\n",
    "        geo_means.append(geo_mean)\n",
    "    #print(geo_means)\n",
    "\n",
    "    #geo_mean_norm = relative_weight(geo_means)\n",
    "    return geo_means\n"
   ]
  },
  {
   "cell_type": "code",
   "execution_count": null,
   "id": "opposite-henry",
   "metadata": {},
   "outputs": [],
   "source": []
  },
  {
   "cell_type": "code",
   "execution_count": 5,
   "id": "excessive-vinyl",
   "metadata": {},
   "outputs": [],
   "source": [
    "R_I = [ 0,0,0.52,0.89,1.12,1.26,1.36,1.41,1.46,1.49,1.52,1.54,1.56,1.58 ]"
   ]
  },
  {
   "cell_type": "markdown",
   "id": "southeast-passing",
   "metadata": {},
   "source": [
    "# A-B 判断矩阵"
   ]
  },
  {
   "cell_type": "code",
   "execution_count": 6,
   "id": "according-increase",
   "metadata": {},
   "outputs": [
    {
     "name": "stdout",
     "output_type": "stream",
     "text": [
      "geo_mean of A_B:  [0.2671422209018275, 0.41456347311242026, 2.713085416565605, 1.0, 3.0049220937458307]\n",
      "relative_mean:  [0.03610169928554298, 0.05602426224709317, 0.3666473742495323, 0.13514037265868972, 0.4060862915591418]\n"
     ]
    }
   ],
   "source": [
    "\n",
    "A_B = [\n",
    "    (1, 1/3, 1/7, 1/5, 1/7),\n",
    "    (3, 1, 1/7, 1/5, 1/7),\n",
    "    (7, 7, 1, 3, 1),\n",
    "    (5, 3, 1/3, 1, 1/5),\n",
    "    (7, 7, 1, 5, 1)\n",
    "]\n",
    "\n",
    "w = cal_w(A_B)\n",
    "print(\"geo_mean of A_B: \",w)\n",
    "w0 = relative_weight(w)\n",
    "print(\"relative_mean: \",w0)\n"
   ]
  },
  {
   "cell_type": "markdown",
   "id": "satellite-spectacular",
   "metadata": {},
   "source": [
    "$\\omega_i = \\left [\\begin{matrix} \\sqrt[5] {1 \\times \\frac {1}{3} \\times \\frac {1}{7} \\times \\frac {1}{5} \\times \\frac {1}{7} } \\cr \n",
    "                                \\sqrt[5] {3 \\times 1 \\times \\frac {1}{7} \\times \\frac {1}{5} \\times \\frac {1}{5} } \\cr\n",
    "                                \\sqrt[5] {7 \\times 1 \\times 1 \\times 3 \\times 1 } \\cr\n",
    "                                \\sqrt[5] {5 \\times 5 \\times \\frac {1}{3} \\times 1 \\times \\frac {1}{5} } \\cr\n",
    "                                \\sqrt[5] {7 \\times 5 \\times 1 \\times 5 \\times 1 } \\cr\n",
    "                                \\end{matrix} \\right ]  = \\left [ \\begin{matrix} 0.2671 \\cr 0.4434 \\cr 2.7131 \\cr 1.1076 \\cr 2.8094 \\end{matrix} \\right ]$"
   ]
  },
  {
   "cell_type": "markdown",
   "id": "improving-brunei",
   "metadata": {},
   "source": [
    "$\\omega_i^0 = \\left [\\begin{matrix} \\frac {0.2671}{0.2671+0.4434+2.7131+1.1076+2.8094} \\cr \n",
    "                                    \\frac {0.4434}{0.2671+0.4434+2.7131+1.1076+2.8094} \\cr \n",
    "                                    \\frac {2.7131}{0.2671+0.4434+2.7131+1.1076+2.8094} \\cr \n",
    "                                    \\frac {1.1076}{0.2671+0.4434+2.7131+1.1076+2.8094} \\cr \n",
    "                                    \\frac {2.8094}{0.2671+0.4434+2.7131+1.1076+2.8094} \\cr \n",
    "                                    \\end{matrix} \\right ] = \\left [\\begin{matrix} 0.0364 \\cr 0.0604 \\cr 0.3696 \\cr 0.1509 \\cr 0.3827 \\end{matrix} \\right ]$"
   ]
  },
  {
   "cell_type": "code",
   "execution_count": 7,
   "id": "unauthorized-advertising",
   "metadata": {},
   "outputs": [
    {
     "data": {
      "text/plain": [
       "array([0.19219505, 0.30174796, 1.82303651, 0.68715471, 2.09331726])"
      ]
     },
     "execution_count": 7,
     "metadata": {},
     "output_type": "execute_result"
    }
   ],
   "source": [
    "A_w0 = np.dot(A_B, w0)\n",
    "A_w0"
   ]
  },
  {
   "cell_type": "markdown",
   "id": "sudden-encounter",
   "metadata": {},
   "source": [
    "$ A\\omega_i^0 = \\left [ \\begin{matrix} 1 & \\frac {1}{3} & \\frac {1}{7} & \\frac {1}{5} & \\frac {1}{7} \\cr\n",
    "                                       3 & 1 & \\frac {1}{7} & \\frac {1}{5} & \\frac {1}{5} \\cr\n",
    "                                       7 & 1 & 1 & 3 & 1 \\cr\n",
    "                                       5 & 5 & \\frac {1}{3} & 1 & \\frac {1}{5} \\cr\n",
    "                                       7 & 5 & 1 & 5 & 1 \\end{matrix} \\right ] \\cdot \\left [\\begin{matrix} 0.0364 \\cr 0.0604 \\cr 0.3696 \\cr 0.1509 \\cr 0.3827 \\end{matrix} \\right ] = \\left [\\begin{matrix} 0.1942 \\cr 0.3291 \\cr 1.8826 \\cr 0.8346 \\cr 2.0635 \\end{matrix} \\right ] \n",
    "$\n"
   ]
  },
  {
   "cell_type": "code",
   "execution_count": 8,
   "id": "unavailable-resolution",
   "metadata": {},
   "outputs": [
    {
     "data": {
      "text/plain": [
       "array([5.32371205, 5.38602288, 4.97217938, 5.08474775, 5.15485822])"
      ]
     },
     "execution_count": 8,
     "metadata": {},
     "output_type": "execute_result"
    }
   ],
   "source": [
    "lamda_mi = A_w0 / w0\n",
    "lamda_mi"
   ]
  },
  {
   "cell_type": "markdown",
   "id": "dietary-uzbekistan",
   "metadata": {},
   "source": [
    "$ \\lambda_{mi} = \\frac {A\\omega_i^0}{\\omega_i^0} = \\left [\\begin{matrix} 5.3357 \\cr 5.4481 \\cr 5.0935 \\cr 5.5316 \\cr 5.3918 \\end{matrix} \\right ] $\n",
    "$ \\lambda_{max}$"
   ]
  },
  {
   "cell_type": "code",
   "execution_count": 9,
   "id": "recovered-advisory",
   "metadata": {},
   "outputs": [
    {
     "data": {
      "text/plain": [
       "5.184304057283869"
      ]
     },
     "execution_count": 9,
     "metadata": {},
     "output_type": "execute_result"
    }
   ],
   "source": [
    "n=len(lamda_mi)\n",
    "lamda_max = sum(lamda_mi) / n \n",
    "lamda_max"
   ]
  },
  {
   "cell_type": "markdown",
   "id": "arranged-associate",
   "metadata": {},
   "source": [
    "$ \\lambda_{max} = \\sum_{i=1}^n\\lambda_{mi} = 5.3601$"
   ]
  },
  {
   "cell_type": "code",
   "execution_count": 10,
   "id": "smaller-business",
   "metadata": {},
   "outputs": [
    {
     "name": "stdout",
     "output_type": "stream",
     "text": [
      "0.04607601432096731\n",
      "0.04113929850086366\n"
     ]
    }
   ],
   "source": [
    "C_I=(lamda_max-n) / (n-1)\n",
    "print(C_I)\n",
    "\n",
    "R_I=1.12\n",
    "C_R = C_I / R_I\n",
    "print(C_R)"
   ]
  },
  {
   "cell_type": "raw",
   "id": "quick-nigeria",
   "metadata": {},
   "source": []
  },
  {
   "cell_type": "markdown",
   "id": "acquired-theater",
   "metadata": {},
   "source": [
    "$ C.I. = \\frac {\\lambda_{max} - n} { n-1} = 0.09 $"
   ]
  },
  {
   "cell_type": "markdown",
   "id": "electronic-utilization",
   "metadata": {},
   "source": [
    "$ C.R. = \\frac {C.I.} {R.I.} = 0.08$"
   ]
  },
  {
   "cell_type": "code",
   "execution_count": 11,
   "id": "fluid-doubt",
   "metadata": {},
   "outputs": [
    {
     "name": "stdout",
     "output_type": "stream",
     "text": [
      "[0.2671422209018275, 0.4434213922376653, 2.713085416565605, 1.1075663432482898, 2.8093613917206537]\n",
      "[0.03639253827947536, 0.060406887149739574, 0.36960112311911497, 0.15088274106448518, 0.38271671038718486]\n"
     ]
    }
   ],
   "source": [
    "import math\n",
    "\n",
    "A_B = [\n",
    "    (1, 1/3, 1/7, 1/5, 1/7),\n",
    "    (3, 1, 1/7, 1/5, 1/5),\n",
    "    (7, 7, 1, 3, 1),\n",
    "    (5, 5, 1/3, 1, 1/5),\n",
    "    (7, 5, 1, 5, 1)\n",
    "]\n",
    "\n",
    "geo_means = []\n",
    "for i in A_B:\n",
    "    product =1\n",
    "    for j in i:\n",
    "        product *= j \n",
    "    geo_mean = product ** (1/len(i))\n",
    "    geo_means.append(geo_mean)\n",
    "print(geo_means)\n",
    "\n",
    "geo_mean_norm = relative_weight(geo_means)\n",
    "print(geo_mean_norm)\n"
   ]
  },
  {
   "cell_type": "code",
   "execution_count": 12,
   "id": "increased-composite",
   "metadata": {},
   "outputs": [
    {
     "data": {
      "text/plain": [
       "array([[1.        , 0.33333333, 0.14285714, 0.2       , 0.14285714],\n",
       "       [3.        , 1.        , 0.14285714, 0.2       , 0.2       ],\n",
       "       [7.        , 7.        , 1.        , 3.        , 1.        ],\n",
       "       [5.        , 5.        , 0.33333333, 1.        , 0.2       ],\n",
       "       [7.        , 5.        , 1.        , 5.        , 1.        ]])"
      ]
     },
     "execution_count": 12,
     "metadata": {},
     "output_type": "execute_result"
    }
   ],
   "source": [
    "import numpy as np\n",
    "\n",
    "A = np.array(A_B)\n",
    "A "
   ]
  },
  {
   "cell_type": "markdown",
   "id": "respected-wildlife",
   "metadata": {},
   "source": [
    "# B1-C判断矩阵"
   ]
  },
  {
   "cell_type": "code",
   "execution_count": 13,
   "id": "worse-apache",
   "metadata": {},
   "outputs": [
    {
     "name": "stdout",
     "output_type": "stream",
     "text": [
      "geo_mean of B1_C:  [0.4054801330382267, 2.46621207433047, 1.0]\n",
      "relative_mean:  [0.10472943388074787, 0.6369855717447571, 0.258284994374495]\n"
     ]
    }
   ],
   "source": [
    "B1_C = [\n",
    "    (1, 1/5, 1/3),\n",
    "    (5, 1, 3),\n",
    "    (3, 1/3, 1)\n",
    "]\n",
    "\n",
    "w_b1_c = cal_w(B1_C)\n",
    "print(\"geo_mean of B1_C: \",w_b1_c)\n",
    "w0_b1_c = relative_weight(w_b1_c)\n",
    "print(\"relative_mean: \",w0_b1_c)"
   ]
  },
  {
   "cell_type": "code",
   "execution_count": 14,
   "id": "young-marriage",
   "metadata": {},
   "outputs": [
    {
     "data": {
      "text/plain": [
       "array([0.31822155, 1.93548772, 0.78480182])"
      ]
     },
     "execution_count": 14,
     "metadata": {},
     "output_type": "execute_result"
    }
   ],
   "source": [
    "A_w0 = np.dot(B1_C, w0_b1_c)\n",
    "A_w0"
   ]
  },
  {
   "cell_type": "code",
   "execution_count": 15,
   "id": "manufactured-assumption",
   "metadata": {},
   "outputs": [
    {
     "data": {
      "text/plain": [
       "array([3.03851109, 3.03851109, 3.03851109])"
      ]
     },
     "execution_count": 15,
     "metadata": {},
     "output_type": "execute_result"
    }
   ],
   "source": [
    "lamda_mi = A_w0 / w0_b1_c\n",
    "lamda_mi"
   ]
  },
  {
   "cell_type": "code",
   "execution_count": 16,
   "id": "norman-payday",
   "metadata": {},
   "outputs": [
    {
     "data": {
      "text/plain": [
       "3.03851109055817"
      ]
     },
     "execution_count": 16,
     "metadata": {},
     "output_type": "execute_result"
    }
   ],
   "source": [
    "n=len(lamda_mi)\n",
    "lamda_max = sum(lamda_mi) / n \n",
    "lamda_max"
   ]
  },
  {
   "cell_type": "code",
   "execution_count": 17,
   "id": "anonymous-machinery",
   "metadata": {},
   "outputs": [
    {
     "name": "stdout",
     "output_type": "stream",
     "text": [
      "C.I.=  0.019255545279085018\n",
      "C.R.=  0.037029894767471185\n"
     ]
    }
   ],
   "source": [
    "C_I=(lamda_max-n) / (n-1)\n",
    "print(\"C.I.= \", C_I)\n",
    "\n",
    "R_I=0.52\n",
    "C_R = C_I / R_I\n",
    "print(\"C.R.= \", C_R)"
   ]
  },
  {
   "cell_type": "markdown",
   "id": "contemporary-footwear",
   "metadata": {},
   "source": [
    "# B2-C判断矩阵"
   ]
  },
  {
   "cell_type": "code",
   "execution_count": 18,
   "id": "comic-wedding",
   "metadata": {},
   "outputs": [
    {
     "name": "stdout",
     "output_type": "stream",
     "text": [
      "geo_mean of B2_C:  [2.46621207433047, 0.4054801330382267, 1.0]\n",
      "relative_mean:  [0.6369855717447571, 0.10472943388074787, 0.258284994374495]\n"
     ]
    }
   ],
   "source": [
    "B2_C = [\n",
    "    (1, 5, 3),\n",
    "    (1/5, 1, 1/3),\n",
    "    (1/3, 3, 1)\n",
    "]\n",
    "\n",
    "w_b2_c = cal_w(B2_C)\n",
    "print(\"geo_mean of B2_C: \",w_b2_c)\n",
    "w0_b2_c = relative_weight(w_b2_c)\n",
    "print(\"relative_mean: \",w0_b2_c)"
   ]
  },
  {
   "cell_type": "code",
   "execution_count": 19,
   "id": "revolutionary-express",
   "metadata": {},
   "outputs": [
    {
     "data": {
      "text/plain": [
       "array([1.93548772, 0.31822155, 0.78480182])"
      ]
     },
     "execution_count": 19,
     "metadata": {},
     "output_type": "execute_result"
    }
   ],
   "source": [
    "A_w0 = np.dot(B2_C, w0_b2_c)\n",
    "A_w0"
   ]
  },
  {
   "cell_type": "code",
   "execution_count": 20,
   "id": "virtual-bridal",
   "metadata": {},
   "outputs": [
    {
     "data": {
      "text/plain": [
       "array([3.03851109, 3.03851109, 3.03851109])"
      ]
     },
     "execution_count": 20,
     "metadata": {},
     "output_type": "execute_result"
    }
   ],
   "source": [
    "lamda_mi = A_w0 / w0_b2_c\n",
    "lamda_mi\n"
   ]
  },
  {
   "cell_type": "code",
   "execution_count": 21,
   "id": "republican-railway",
   "metadata": {},
   "outputs": [
    {
     "name": "stdout",
     "output_type": "stream",
     "text": [
      "C.I.=  0.019255545279085018\n",
      "C.R.=  0.037029894767471185\n"
     ]
    }
   ],
   "source": [
    "C_I=(lamda_max-n) / (n-1)\n",
    "print(\"C.I.= \", C_I)\n",
    "\n",
    "R_I=0.52\n",
    "C_R = C_I / R_I\n",
    "print(\"C.R.= \", C_R)"
   ]
  },
  {
   "cell_type": "markdown",
   "id": "numerous-bunny",
   "metadata": {},
   "source": [
    "# B3-C判断矩阵"
   ]
  },
  {
   "cell_type": "code",
   "execution_count": 22,
   "id": "based-detector",
   "metadata": {},
   "outputs": [
    {
     "name": "stdout",
     "output_type": "stream",
     "text": [
      "geo_mean of B3_C:  [1.9679896712654303, 3.408658099402498, 0.5885661912765424, 0.25327856188386416]\n",
      "relative_mean:  [0.31647375368296865, 0.5481486206409398, 0.09464772837166639, 0.040729897304425236]\n"
     ]
    }
   ],
   "source": [
    "B3_C = [\n",
    "    (1, 1/3, 5, 9),\n",
    "    (3, 1, 5, 9),\n",
    "    (1/5, 1/5, 1, 3),\n",
    "    (1/9, 1/9, 1/3, 1)\n",
    "]\n",
    "\n",
    "w_b3_c = cal_w(B3_C)\n",
    "print(\"geo_mean of B3_C: \",w_b3_c)\n",
    "w0_b3_c = relative_weight(w_b3_c)\n",
    "print(\"relative_mean: \",w0_b3_c)"
   ]
  },
  {
   "cell_type": "code",
   "execution_count": 23,
   "id": "prescribed-bristol",
   "metadata": {},
   "outputs": [
    {
     "data": {
      "text/plain": [
       "array([1.33899768, 2.3373776 , 0.3897619 , 0.16834829])"
      ]
     },
     "execution_count": 23,
     "metadata": {},
     "output_type": "execute_result"
    }
   ],
   "source": [
    "A_w0 = np.dot(B3_C, w0_b3_c)\n",
    "A_w0"
   ]
  },
  {
   "cell_type": "code",
   "execution_count": 24,
   "id": "marine-boundary",
   "metadata": {},
   "outputs": [
    {
     "data": {
      "text/plain": [
       "array([4.23099124, 4.26413113, 4.11802694, 4.13328547])"
      ]
     },
     "execution_count": 24,
     "metadata": {},
     "output_type": "execute_result"
    }
   ],
   "source": [
    "lamda_mi = A_w0 / w0_b3_c\n",
    "lamda_mi"
   ]
  },
  {
   "cell_type": "code",
   "execution_count": 25,
   "id": "successful-street",
   "metadata": {},
   "outputs": [
    {
     "data": {
      "text/plain": [
       "4.186608695112129"
      ]
     },
     "execution_count": 25,
     "metadata": {},
     "output_type": "execute_result"
    }
   ],
   "source": [
    "n=len(lamda_mi)\n",
    "lamda_max = sum(lamda_mi) / n \n",
    "lamda_max"
   ]
  },
  {
   "cell_type": "code",
   "execution_count": 26,
   "id": "parental-connecticut",
   "metadata": {},
   "outputs": [
    {
     "name": "stdout",
     "output_type": "stream",
     "text": [
      "C.I.=  0.06220289837070977\n",
      "C.R.=  0.06989089704574131\n"
     ]
    }
   ],
   "source": [
    "C_I=(lamda_max-n) / (n-1)\n",
    "print(\"C.I.= \", C_I)\n",
    "\n",
    "R_I=0.89\n",
    "C_R = C_I / R_I\n",
    "print(\"C.R.= \", C_R)"
   ]
  },
  {
   "cell_type": "markdown",
   "id": "civilian-optics",
   "metadata": {},
   "source": [
    "# B4-C判断矩阵"
   ]
  },
  {
   "cell_type": "code",
   "execution_count": 27,
   "id": "classical-family",
   "metadata": {},
   "outputs": [
    {
     "name": "stdout",
     "output_type": "stream",
     "text": [
      "geo_mean of B4_C:  [1.3160740129524924, 0.6147881529512643, 0.2933705789311311, 4.212865930610521]\n",
      "relative_mean:  [0.20445142746882436, 0.0955070263714304, 0.04557496998612214, 0.6544665761736231]\n"
     ]
    }
   ],
   "source": [
    "B4_C = [\n",
    "    (1, 3, 5, 1/5),\n",
    "    (1/3, 1, 3, 1/7),\n",
    "    (1/5, 1/3, 1, 1/9),\n",
    "    (5, 7, 9, 1)\n",
    "]\n",
    "\n",
    "w_b4_c = cal_w(B4_C)\n",
    "print(\"geo_mean of B4_C: \",w_b4_c)\n",
    "w0_b4_c = relative_weight(w_b4_c)\n",
    "print(\"relative_mean: \",w0_b4_c)"
   ]
  },
  {
   "cell_type": "code",
   "execution_count": 28,
   "id": "competent-sucking",
   "metadata": {},
   "outputs": [
    {
     "data": {
      "text/plain": [
       "array([0.84974067, 0.39387764, 0.19101944, 2.75544763])"
      ]
     },
     "execution_count": 28,
     "metadata": {},
     "output_type": "execute_result"
    }
   ],
   "source": [
    "A_w0 = np.dot(B4_C, w0_b4_c)\n",
    "A_w0"
   ]
  },
  {
   "cell_type": "code",
   "execution_count": 29,
   "id": "reflected-transparency",
   "metadata": {},
   "outputs": [
    {
     "data": {
      "text/plain": [
       "array([4.15619828, 4.12406974, 4.19132343, 4.21021902])"
      ]
     },
     "execution_count": 29,
     "metadata": {},
     "output_type": "execute_result"
    }
   ],
   "source": [
    "lamda_mi = A_w0 / w0_b4_c\n",
    "lamda_mi"
   ]
  },
  {
   "cell_type": "code",
   "execution_count": 30,
   "id": "joined-hamburg",
   "metadata": {},
   "outputs": [
    {
     "data": {
      "text/plain": [
       "4.170452617650074"
      ]
     },
     "execution_count": 30,
     "metadata": {},
     "output_type": "execute_result"
    }
   ],
   "source": [
    "n=len(lamda_mi)\n",
    "lamda_max = sum(lamda_mi) / n \n",
    "lamda_max"
   ]
  },
  {
   "cell_type": "code",
   "execution_count": 31,
   "id": "assisted-playlist",
   "metadata": {},
   "outputs": [
    {
     "name": "stdout",
     "output_type": "stream",
     "text": [
      "C.I.=  0.056817539216691415\n",
      "C.R.=  0.06383993170414766\n"
     ]
    }
   ],
   "source": [
    "C_I=(lamda_max-n) / (n-1)\n",
    "print(\"C.I.= \", C_I)\n",
    "\n",
    "R_I=0.89\n",
    "C_R = C_I / R_I\n",
    "print(\"C.R.= \", C_R)"
   ]
  },
  {
   "cell_type": "markdown",
   "id": "instant-cardiff",
   "metadata": {},
   "source": [
    "# B5-C判断矩阵\n"
   ]
  },
  {
   "cell_type": "code",
   "execution_count": 32,
   "id": "worse-remedy",
   "metadata": {},
   "outputs": [
    {
     "name": "stdout",
     "output_type": "stream",
     "text": [
      "geo_mean of B5_C:  [0.274941620352113, 1.1362193664674993, 2.8173132472612576, 1.1362193664674993]\n",
      "relative_mean:  [0.05125020007181937, 0.21179576152333413, 0.5251582768815122, 0.21179576152333413]\n"
     ]
    }
   ],
   "source": [
    "B5_C = [\n",
    "    (1, 1/5, 1/7, 1/5),\n",
    "    (5, 1, 1/3, 1),\n",
    "    (7, 3, 1, 3),\n",
    "    (5, 1, 1/3, 1)\n",
    "]\n",
    "\n",
    "w_b5_c = cal_w(B5_C)\n",
    "print(\"geo_mean of B5_C: \",w_b5_c)\n",
    "w0_b5_c = relative_weight(w_b5_c)\n",
    "print(\"relative_mean: \",w0_b5_c)"
   ]
  },
  {
   "cell_type": "code",
   "execution_count": 33,
   "id": "passive-potter",
   "metadata": {},
   "outputs": [
    {
     "data": {
      "text/plain": [
       "array([0.21099112, 0.85489528, 2.15468425, 0.85489528])"
      ]
     },
     "execution_count": 33,
     "metadata": {},
     "output_type": "execute_result"
    }
   ],
   "source": [
    "A_w0 = np.dot(B5_C, w0_b5_c)\n",
    "A_w0"
   ]
  },
  {
   "cell_type": "code",
   "execution_count": 34,
   "id": "apart-calvin",
   "metadata": {},
   "outputs": [
    {
     "data": {
      "text/plain": [
       "array([4.11688375, 4.03641355, 4.10292352, 4.03641355])"
      ]
     },
     "execution_count": 34,
     "metadata": {},
     "output_type": "execute_result"
    }
   ],
   "source": [
    "lamda_mi = A_w0 / w0_b5_c\n",
    "lamda_mi"
   ]
  },
  {
   "cell_type": "code",
   "execution_count": 35,
   "id": "contained-masters",
   "metadata": {},
   "outputs": [
    {
     "data": {
      "text/plain": [
       "4.0731585935255135"
      ]
     },
     "execution_count": 35,
     "metadata": {},
     "output_type": "execute_result"
    }
   ],
   "source": [
    "n=len(lamda_mi)\n",
    "lamda_max = sum(lamda_mi) / n \n",
    "lamda_max"
   ]
  },
  {
   "cell_type": "code",
   "execution_count": 36,
   "id": "european-flavor",
   "metadata": {},
   "outputs": [
    {
     "name": "stdout",
     "output_type": "stream",
     "text": [
      "C.I.=  0.02438619784183782\n",
      "C.R.=  0.0274002222941998\n"
     ]
    }
   ],
   "source": [
    "C_I=(lamda_max-n) / (n-1)\n",
    "print(\"C.I.= \", C_I)\n",
    "\n",
    "R_I=0.89\n",
    "C_R = C_I / R_I\n",
    "print(\"C.R.= \", C_R)"
   ]
  },
  {
   "cell_type": "markdown",
   "id": "perfect-spain",
   "metadata": {},
   "source": [
    "# 一级综合评估"
   ]
  },
  {
   "cell_type": "code",
   "execution_count": 37,
   "id": "broke-syndrome",
   "metadata": {},
   "outputs": [],
   "source": [
    "R1 = [\n",
    "    (0.32, 0.2, 0.2, 0.18, 0.1),\n",
    "    (0.2, 0.35, 0.25, 0.15, 0.05),\n",
    "    (0.05, 0.15, 0.45, 0.25, 0.1)\n",
    "]\n",
    "\n",
    "R2= [\n",
    "    (0.2, 0.32, 0.18, 0.2, 0.1),\n",
    "    (0.2, 0.2, 0.25, 0.25, 0.1),\n",
    "    (0.1, 0.1, 0.35, 0.35, 0.1)\n",
    "]\n",
    "\n",
    "R3= [\n",
    "    (0.32, 0.2, 0.2, 0.18, 0.1),\n",
    "    (0.25, 0.3, 0.2, 0.15, 0.1),\n",
    "    (0.15, 0.2, 0.35, 0.25, 0.05),\n",
    "    (0.2, 0.15, 0.35, 0.2, 0.1)\n",
    "]\n",
    "\n",
    "R4= [\n",
    "    (0.15, 0.2, 0.3, 0.3, 0.05),\n",
    "    (0.15, 0.2, 0.3, 0.3, 0.05),\n",
    "    (0.2, 0.25, 0.25, 0.2, 0.1),\n",
    "    (0.1, 0.25, 0.3, 0.35, 0.05)\n",
    "]\n",
    "\n",
    "R5= [\n",
    "    (0.2, 0.25, 0.3, 0.2, 0.05),\n",
    "    (0.45, 0.15, 0.15, 0.2, 0.05),\n",
    "    (0.4, 0.3, 0.2, 0.05, 0.05),\n",
    "    (0.2, 0.35, 0.2, 0.15, 0.1)\n",
    "]\n",
    "\n"
   ]
  },
  {
   "cell_type": "markdown",
   "id": "chemical-closer",
   "metadata": {},
   "source": [
    "# 确定各层的综合评价"
   ]
  },
  {
   "cell_type": "code",
   "execution_count": 38,
   "id": "backed-enterprise",
   "metadata": {},
   "outputs": [
    {
     "data": {
      "text/plain": [
       "array([0.17382478, 0.28263359, 0.29642053, 0.17897038, 0.06815072])"
      ]
     },
     "execution_count": 38,
     "metadata": {},
     "output_type": "execute_result"
    }
   ],
   "source": [
    "B1 = np.dot(w0_b1_c, R1)\n",
    "B1"
   ]
  },
  {
   "cell_type": "code",
   "execution_count": 39,
   "id": "sized-specification",
   "metadata": {},
   "outputs": [
    {
     "data": {
      "text/plain": [
       "array([0.1741715 , 0.25060977, 0.23123951, 0.24397922, 0.1       ])"
      ]
     },
     "execution_count": 39,
     "metadata": {},
     "output_type": "execute_result"
    }
   ],
   "source": [
    "B2 = np.dot(w0_b2_c, R2)\n",
    "B2"
   ]
  },
  {
   "cell_type": "code",
   "execution_count": 40,
   "id": "reasonable-harvard",
   "metadata": {},
   "outputs": [
    {
     "data": {
      "text/plain": [
       "array([0.2606519 , 0.25277837, 0.22030664, 0.17099548, 0.09526761])"
      ]
     },
     "execution_count": 40,
     "metadata": {},
     "output_type": "execute_result"
    }
   ],
   "source": [
    "B3 = np.dot(w0_b3_c, R3)\n",
    "B3"
   ]
  },
  {
   "cell_type": "code",
   "execution_count": 41,
   "id": "rough-statistics",
   "metadata": {},
   "outputs": [
    {
     "data": {
      "text/plain": [
       "array([0.11955542, 0.23500208, 0.29772125, 0.32816583, 0.05227875])"
      ]
     },
     "execution_count": 41,
     "metadata": {},
     "output_type": "execute_result"
    }
   ],
   "source": [
    "B4 = np.dot(w0_b4_c, R4)\n",
    "B4"
   ]
  },
  {
   "cell_type": "code",
   "execution_count": 42,
   "id": "revised-dependence",
   "metadata": {},
   "outputs": [
    {
     "data": {
      "text/plain": [
       "array([0.3579806 , 0.27625791, 0.19453523, 0.11063647, 0.06058979])"
      ]
     },
     "execution_count": 42,
     "metadata": {},
     "output_type": "execute_result"
    }
   ],
   "source": [
    "B5 = np.dot(w0_b5_c, R5)\n",
    "B5"
   ]
  },
  {
   "cell_type": "markdown",
   "id": "curious-liverpool",
   "metadata": {},
   "source": [
    "# 进行综合评价"
   ]
  },
  {
   "cell_type": "code",
   "execution_count": 43,
   "id": "meaningful-gateway",
   "metadata": {},
   "outputs": [
    {
     "data": {
      "text/plain": [
       "[array([0.17382478, 0.28263359, 0.29642053, 0.17897038, 0.06815072]),\n",
       " array([0.1741715 , 0.25060977, 0.23123951, 0.24397922, 0.1       ]),\n",
       " array([0.2606519 , 0.25277837, 0.22030664, 0.17099548, 0.09526761]),\n",
       " array([0.11955542, 0.23500208, 0.29772125, 0.32816583, 0.05227875]),\n",
       " array([0.3579806 , 0.27625791, 0.19453523, 0.11063647, 0.06058979])]"
      ]
     },
     "execution_count": 43,
     "metadata": {},
     "output_type": "execute_result"
    }
   ],
   "source": [
    "R = [B1,\n",
    "    B2,\n",
    "    B3,\n",
    "    B4,\n",
    "    B5]\n",
    "R"
   ]
  },
  {
   "cell_type": "code",
   "execution_count": 44,
   "id": "thousand-rating",
   "metadata": {},
   "outputs": [
    {
     "data": {
      "text/plain": [
       "[0.03610169928554298,\n",
       " 0.05602426224709317,\n",
       " 0.3666473742495323,\n",
       " 0.13514037265868972,\n",
       " 0.4060862915591418]"
      ]
     },
     "execution_count": 44,
     "metadata": {},
     "output_type": "execute_result"
    }
   ],
   "source": [
    "w0"
   ]
  },
  {
   "cell_type": "code",
   "execution_count": 45,
   "id": "civilian-seventh",
   "metadata": {},
   "outputs": [
    {
     "data": {
      "text/plain": [
       "array([0.27312831, 0.26086712, 0.22366341, 0.17210134, 0.07466206])"
      ]
     },
     "execution_count": 45,
     "metadata": {},
     "output_type": "execute_result"
    }
   ],
   "source": [
    "B = np.dot(w0, R)\n",
    "B "
   ]
  },
  {
   "cell_type": "markdown",
   "id": "fitted-torture",
   "metadata": {},
   "source": [
    "# 一些公式"
   ]
  },
  {
   "cell_type": "markdown",
   "id": "induced-amendment",
   "metadata": {},
   "source": [
    "$ \\overline {\\omega_i} = \\sqrt[N] {\\prod_{j=1}^{N}\\omega_{ij}}$\n",
    "\n",
    "$ \\omega_i = \\frac {\\overline {\\omega_i}} {\\sum_{i=1}^{N} \\overline {\\omega_i}}$"
   ]
  },
  {
   "cell_type": "markdown",
   "id": "alpine-operation",
   "metadata": {},
   "source": [
    "$ \\lambda_{mi} = \\frac {A \\cdot \\omega_i} {\\omega_i} $\n",
    "\n",
    "$ \\lambda_{max} = \\sum_{i=1}^n\\lambda_{mi} $\n",
    "\n",
    "$ C.I.= \\frac {\\lambda_{max} - n} {n - 1} $\n",
    "\n",
    "$ C.R.= \\frac {C.I.} {R.I.} $"
   ]
  },
  {
   "cell_type": "code",
   "execution_count": null,
   "id": "dense-reunion",
   "metadata": {},
   "outputs": [],
   "source": []
  }
 ],
 "metadata": {
  "kernelspec": {
   "display_name": "Python 3",
   "language": "python",
   "name": "python3"
  },
  "language_info": {
   "codemirror_mode": {
    "name": "ipython",
    "version": 3
   },
   "file_extension": ".py",
   "mimetype": "text/x-python",
   "name": "python",
   "nbconvert_exporter": "python",
   "pygments_lexer": "ipython3",
   "version": "3.7.7"
  },
  "toc": {
   "base_numbering": 1,
   "nav_menu": {},
   "number_sections": true,
   "sideBar": true,
   "skip_h1_title": false,
   "title_cell": "Table of Contents",
   "title_sidebar": "Contents",
   "toc_cell": false,
   "toc_position": {},
   "toc_section_display": true,
   "toc_window_display": true
  }
 },
 "nbformat": 4,
 "nbformat_minor": 5
}
