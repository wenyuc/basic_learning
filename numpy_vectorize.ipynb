{
 "cells": [
  {
   "cell_type": "code",
   "execution_count": 1,
   "metadata": {},
   "outputs": [],
   "source": [
    "import numpy as np\n",
    "\n",
    "def myfunc(a,b):\n",
    "    \"\"\"Return a-b if a>b, otherwise returns a+b\"\"\"\n",
    "    if a > b:\n",
    "        return a-b\n",
    "    else:\n",
    "        return a+b \n",
    "\n",
    "vfunc = np.vectorize(myfunc)"
   ]
  },
  {
   "cell_type": "code",
   "execution_count": 2,
   "metadata": {},
   "outputs": [
    {
     "data": {
      "text/plain": [
       "array([3, 4, 1, 2])"
      ]
     },
     "execution_count": 2,
     "metadata": {},
     "output_type": "execute_result"
    }
   ],
   "source": [
    "vfunc([1,2,3,4],2)"
   ]
  },
  {
   "cell_type": "code",
   "execution_count": 4,
   "metadata": {},
   "outputs": [
    {
     "data": {
      "text/plain": [
       "'Vectorized myfunc'"
      ]
     },
     "execution_count": 4,
     "metadata": {},
     "output_type": "execute_result"
    }
   ],
   "source": [
    "vfunc = np.vectorize(myfunc, doc = \"Vectorized myfunc\")\n",
    "vfunc.__doc__"
   ]
  },
  {
   "cell_type": "code",
   "execution_count": 7,
   "metadata": {},
   "outputs": [
    {
     "data": {
      "text/plain": [
       "array([ 9., 10.,  1.,  2.])"
      ]
     },
     "execution_count": 7,
     "metadata": {},
     "output_type": "execute_result"
    }
   ],
   "source": [
    "# Output type is determined by the type of the first input type\n",
    "# unless changed by the 'otypes' parameter in np.vectorize() func\n",
    "\n",
    "out = vfunc([2,3,4,5],3)\n",
    "type(out[0])\n",
    "vfunc = np.vectorize(myfunc, otypes=[float])\n",
    "out = vfunc([4,5,6,7],5)\n",
    "type(out[0])\n",
    "out "
   ]
  },
  {
   "cell_type": "code",
   "execution_count": 14,
   "metadata": {},
   "outputs": [
    {
     "name": "stdout",
     "output_type": "stream",
     "text": [
      "1 0\n",
      "loop:\n",
      "0 0 2 2\n",
      "0 0 3 3\n",
      "1 0\n",
      "loop:\n",
      "0 0 2 2\n",
      "0 0 3 3\n",
      "1 1\n",
      "loop:\n",
      "1 1 2 3\n",
      "1 3 3 6\n"
     ]
    },
    {
     "data": {
      "text/plain": [
       "array([3, 6])"
      ]
     },
     "execution_count": 14,
     "metadata": {},
     "output_type": "execute_result"
    }
   ],
   "source": [
    "# 'excluded' parameter can prevent some parameters vectorized,\n",
    "# for example, the coefficients of polynomial\n",
    "def mypolyval(p,x):\n",
    "    _p = list(p)\n",
    "    res = _p.pop(0)\n",
    "    print(res,x)\n",
    "    print('loop:')\n",
    "    while _p:\n",
    "        #res = res * x + _p.pop(0)\n",
    "        a = res * x\n",
    "        b = _p.pop(0)\n",
    "        res = a + b\n",
    "        print(x,a,b,res)\n",
    "    return res \n",
    "\n",
    "vpolyval = np.vectorize(mypolyval, excluded=['p'])\n",
    "vpolyval(p=[1,2,3],x=[0,1])"
   ]
  },
  {
   "cell_type": "code",
   "execution_count": 16,
   "metadata": {},
   "outputs": [
    {
     "data": {
      "text/plain": [
       "array([ 1,  1,  1,  1,  1, -2])"
      ]
     },
     "execution_count": 16,
     "metadata": {},
     "output_type": "execute_result"
    }
   ],
   "source": [
    "x = np.array([1.,1.1, 1.2, 1.3, 1.4,-2.2])\n",
    "f2 = np.vectorize(np.int)\n",
    "f2(x)"
   ]
  },
  {
   "cell_type": "code",
   "execution_count": null,
   "metadata": {},
   "outputs": [],
   "source": []
  }
 ],
 "metadata": {
  "kernelspec": {
   "display_name": "Python 3",
   "language": "python",
   "name": "python3"
  },
  "language_info": {
   "codemirror_mode": {
    "name": "ipython",
    "version": 3
   },
   "file_extension": ".py",
   "mimetype": "text/x-python",
   "name": "python",
   "nbconvert_exporter": "python",
   "pygments_lexer": "ipython3",
   "version": "3.8.5"
  },
  "toc": {
   "base_numbering": 1,
   "nav_menu": {},
   "number_sections": true,
   "sideBar": true,
   "skip_h1_title": false,
   "title_cell": "Table of Contents",
   "title_sidebar": "Contents",
   "toc_cell": false,
   "toc_position": {},
   "toc_section_display": true,
   "toc_window_display": false
  }
 },
 "nbformat": 4,
 "nbformat_minor": 4
}
