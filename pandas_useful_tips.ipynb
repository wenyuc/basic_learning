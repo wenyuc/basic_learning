{
 "cells": [
  {
   "cell_type": "markdown",
   "metadata": {},
   "source": [
    "### pandas.set_option\n",
    "\n",
    "#### display.max_rows"
   ]
  },
  {
   "cell_type": "code",
   "execution_count": 1,
   "metadata": {},
   "outputs": [
    {
     "name": "stderr",
     "output_type": "stream",
     "text": [
      "C:\\work2\\anaconda3\\lib\\importlib\\_bootstrap.py:219: RuntimeWarning: numpy.ufunc size changed, may indicate binary incompatibility. Expected 192 from C header, got 216 from PyObject\n",
      "  return f(*args, **kwds)\n"
     ]
    },
    {
     "data": {
      "text/html": [
       "<div>\n",
       "<style scoped>\n",
       "    .dataframe tbody tr th:only-of-type {\n",
       "        vertical-align: middle;\n",
       "    }\n",
       "\n",
       "    .dataframe tbody tr th {\n",
       "        vertical-align: top;\n",
       "    }\n",
       "\n",
       "    .dataframe thead th {\n",
       "        text-align: right;\n",
       "    }\n",
       "</style>\n",
       "<table border=\"1\" class=\"dataframe\">\n",
       "  <thead>\n",
       "    <tr style=\"text-align: right;\">\n",
       "      <th></th>\n",
       "      <th>0</th>\n",
       "      <th>1</th>\n",
       "      <th>2</th>\n",
       "      <th>3</th>\n",
       "      <th>4</th>\n",
       "    </tr>\n",
       "  </thead>\n",
       "  <tbody>\n",
       "    <tr>\n",
       "      <th>0</th>\n",
       "      <td>0.627694</td>\n",
       "      <td>-0.892943</td>\n",
       "      <td>-0.041793</td>\n",
       "      <td>-0.348091</td>\n",
       "      <td>-0.165577</td>\n",
       "    </tr>\n",
       "    <tr>\n",
       "      <th>1</th>\n",
       "      <td>0.424700</td>\n",
       "      <td>0.084187</td>\n",
       "      <td>0.804757</td>\n",
       "      <td>1.009412</td>\n",
       "      <td>-2.240594</td>\n",
       "    </tr>\n",
       "    <tr>\n",
       "      <th>2</th>\n",
       "      <td>-0.792865</td>\n",
       "      <td>-0.675416</td>\n",
       "      <td>-1.967282</td>\n",
       "      <td>-0.609492</td>\n",
       "      <td>1.249129</td>\n",
       "    </tr>\n",
       "    <tr>\n",
       "      <th>3</th>\n",
       "      <td>-0.060794</td>\n",
       "      <td>0.092412</td>\n",
       "      <td>0.663862</td>\n",
       "      <td>0.393878</td>\n",
       "      <td>-1.293337</td>\n",
       "    </tr>\n",
       "    <tr>\n",
       "      <th>4</th>\n",
       "      <td>1.137154</td>\n",
       "      <td>-0.920499</td>\n",
       "      <td>-1.340238</td>\n",
       "      <td>-0.015227</td>\n",
       "      <td>-0.409514</td>\n",
       "    </tr>\n",
       "    <tr>\n",
       "      <th>5</th>\n",
       "      <td>-0.738403</td>\n",
       "      <td>-0.137216</td>\n",
       "      <td>0.889485</td>\n",
       "      <td>-0.010045</td>\n",
       "      <td>1.158175</td>\n",
       "    </tr>\n",
       "    <tr>\n",
       "      <th>6</th>\n",
       "      <td>1.216667</td>\n",
       "      <td>-0.047748</td>\n",
       "      <td>-1.211207</td>\n",
       "      <td>-0.111815</td>\n",
       "      <td>-1.396490</td>\n",
       "    </tr>\n",
       "    <tr>\n",
       "      <th>7</th>\n",
       "      <td>0.105603</td>\n",
       "      <td>-0.550391</td>\n",
       "      <td>-0.951702</td>\n",
       "      <td>-0.605031</td>\n",
       "      <td>0.203105</td>\n",
       "    </tr>\n",
       "    <tr>\n",
       "      <th>8</th>\n",
       "      <td>-2.124465</td>\n",
       "      <td>-0.988076</td>\n",
       "      <td>1.400569</td>\n",
       "      <td>-1.247980</td>\n",
       "      <td>0.990450</td>\n",
       "    </tr>\n",
       "    <tr>\n",
       "      <th>9</th>\n",
       "      <td>-1.006169</td>\n",
       "      <td>0.238639</td>\n",
       "      <td>0.223853</td>\n",
       "      <td>1.121702</td>\n",
       "      <td>-0.344909</td>\n",
       "    </tr>\n",
       "  </tbody>\n",
       "</table>\n",
       "</div>"
      ],
      "text/plain": [
       "          0         1         2         3         4\n",
       "0  0.627694 -0.892943 -0.041793 -0.348091 -0.165577\n",
       "1  0.424700  0.084187  0.804757  1.009412 -2.240594\n",
       "2 -0.792865 -0.675416 -1.967282 -0.609492  1.249129\n",
       "3 -0.060794  0.092412  0.663862  0.393878 -1.293337\n",
       "4  1.137154 -0.920499 -1.340238 -0.015227 -0.409514\n",
       "5 -0.738403 -0.137216  0.889485 -0.010045  1.158175\n",
       "6  1.216667 -0.047748 -1.211207 -0.111815 -1.396490\n",
       "7  0.105603 -0.550391 -0.951702 -0.605031  0.203105\n",
       "8 -2.124465 -0.988076  1.400569 -1.247980  0.990450\n",
       "9 -1.006169  0.238639  0.223853  1.121702 -0.344909"
      ]
     },
     "execution_count": 1,
     "metadata": {},
     "output_type": "execute_result"
    }
   ],
   "source": [
    "import numpy as np\n",
    "import pandas as pd \n",
    "\n",
    "df = pd.DataFrame(np.random.randn(10,5))\n",
    "df"
   ]
  },
  {
   "cell_type": "code",
   "execution_count": 21,
   "metadata": {},
   "outputs": [
    {
     "data": {
      "text/html": [
       "<div>\n",
       "<style scoped>\n",
       "    .dataframe tbody tr th:only-of-type {\n",
       "        vertical-align: middle;\n",
       "    }\n",
       "\n",
       "    .dataframe tbody tr th {\n",
       "        vertical-align: top;\n",
       "    }\n",
       "\n",
       "    .dataframe thead th {\n",
       "        text-align: right;\n",
       "    }\n",
       "</style>\n",
       "<table border=\"1\" class=\"dataframe\">\n",
       "  <thead>\n",
       "    <tr style=\"text-align: right;\">\n",
       "      <th></th>\n",
       "      <th>0</th>\n",
       "      <th>1</th>\n",
       "      <th>2</th>\n",
       "      <th>3</th>\n",
       "      <th>4</th>\n",
       "    </tr>\n",
       "  </thead>\n",
       "  <tbody>\n",
       "    <tr>\n",
       "      <th>0</th>\n",
       "      <td>$0.03</td>\n",
       "      <td>$0.77</td>\n",
       "      <td>$0.91</td>\n",
       "      <td>$0.90</td>\n",
       "      <td>$0.41</td>\n",
       "    </tr>\n",
       "    <tr>\n",
       "      <th>1</th>\n",
       "      <td>$0.86</td>\n",
       "      <td>$0.60</td>\n",
       "      <td>$0.21</td>\n",
       "      <td>$0.85</td>\n",
       "      <td>$0.27</td>\n",
       "    </tr>\n",
       "    <tr>\n",
       "      <th>2</th>\n",
       "      <td>$0.51</td>\n",
       "      <td>$0.41</td>\n",
       "      <td>$0.78</td>\n",
       "      <td>$0.55</td>\n",
       "      <td>$0.12</td>\n",
       "    </tr>\n",
       "    <tr>\n",
       "      <th>3</th>\n",
       "      <td>$0.62</td>\n",
       "      <td>$0.70</td>\n",
       "      <td>$0.32</td>\n",
       "      <td>$0.71</td>\n",
       "      <td>$0.01</td>\n",
       "    </tr>\n",
       "    <tr>\n",
       "      <th>4</th>\n",
       "      <td>$0.48</td>\n",
       "      <td>$0.40</td>\n",
       "      <td>$0.56</td>\n",
       "      <td>$0.23</td>\n",
       "      <td>$0.60</td>\n",
       "    </tr>\n",
       "  </tbody>\n",
       "</table>\n",
       "</div>"
      ],
      "text/plain": [
       "      0     1     2     3     4\n",
       "0 $0.03 $0.77 $0.91 $0.90 $0.41\n",
       "1 $0.86 $0.60 $0.21 $0.85 $0.27\n",
       "2 $0.51 $0.41 $0.78 $0.55 $0.12\n",
       "3 $0.62 $0.70 $0.32 $0.71 $0.01\n",
       "4 $0.48 $0.40 $0.56 $0.23 $0.60"
      ]
     },
     "execution_count": 21,
     "metadata": {},
     "output_type": "execute_result"
    }
   ],
   "source": [
    "pd.set_option('display.max_rows',10)\n",
    "df"
   ]
  },
  {
   "cell_type": "markdown",
   "metadata": {},
   "source": [
    "#### display.max_columns"
   ]
  },
  {
   "cell_type": "code",
   "execution_count": 8,
   "metadata": {},
   "outputs": [
    {
     "data": {
      "text/html": [
       "<div>\n",
       "<style scoped>\n",
       "    .dataframe tbody tr th:only-of-type {\n",
       "        vertical-align: middle;\n",
       "    }\n",
       "\n",
       "    .dataframe tbody tr th {\n",
       "        vertical-align: top;\n",
       "    }\n",
       "\n",
       "    .dataframe thead th {\n",
       "        text-align: right;\n",
       "    }\n",
       "</style>\n",
       "<table border=\"1\" class=\"dataframe\">\n",
       "  <thead>\n",
       "    <tr style=\"text-align: right;\">\n",
       "      <th></th>\n",
       "      <th>0</th>\n",
       "      <th>1</th>\n",
       "      <th>2</th>\n",
       "      <th>3</th>\n",
       "      <th>4</th>\n",
       "      <th>5</th>\n",
       "      <th>6</th>\n",
       "      <th>7</th>\n",
       "      <th>8</th>\n",
       "      <th>9</th>\n",
       "      <th>...</th>\n",
       "      <th>20</th>\n",
       "      <th>21</th>\n",
       "      <th>22</th>\n",
       "      <th>23</th>\n",
       "      <th>24</th>\n",
       "      <th>25</th>\n",
       "      <th>26</th>\n",
       "      <th>27</th>\n",
       "      <th>28</th>\n",
       "      <th>29</th>\n",
       "    </tr>\n",
       "  </thead>\n",
       "  <tbody>\n",
       "    <tr>\n",
       "      <th>0</th>\n",
       "      <td>0.854721</td>\n",
       "      <td>0.543757</td>\n",
       "      <td>0.681606</td>\n",
       "      <td>0.264837</td>\n",
       "      <td>0.382972</td>\n",
       "      <td>0.601752</td>\n",
       "      <td>0.387221</td>\n",
       "      <td>0.880033</td>\n",
       "      <td>0.818534</td>\n",
       "      <td>0.883264</td>\n",
       "      <td>...</td>\n",
       "      <td>0.389844</td>\n",
       "      <td>0.445064</td>\n",
       "      <td>0.848848</td>\n",
       "      <td>0.102581</td>\n",
       "      <td>0.230455</td>\n",
       "      <td>0.316536</td>\n",
       "      <td>0.367081</td>\n",
       "      <td>0.284986</td>\n",
       "      <td>0.858377</td>\n",
       "      <td>0.375237</td>\n",
       "    </tr>\n",
       "    <tr>\n",
       "      <th>1</th>\n",
       "      <td>0.478667</td>\n",
       "      <td>0.960920</td>\n",
       "      <td>0.799890</td>\n",
       "      <td>0.825965</td>\n",
       "      <td>0.301710</td>\n",
       "      <td>0.349412</td>\n",
       "      <td>0.995210</td>\n",
       "      <td>0.324628</td>\n",
       "      <td>0.600911</td>\n",
       "      <td>0.543948</td>\n",
       "      <td>...</td>\n",
       "      <td>0.801950</td>\n",
       "      <td>0.300104</td>\n",
       "      <td>0.937747</td>\n",
       "      <td>0.096716</td>\n",
       "      <td>0.791991</td>\n",
       "      <td>0.109656</td>\n",
       "      <td>0.432974</td>\n",
       "      <td>0.303802</td>\n",
       "      <td>0.513215</td>\n",
       "      <td>0.476938</td>\n",
       "    </tr>\n",
       "    <tr>\n",
       "      <th>...</th>\n",
       "      <td>...</td>\n",
       "      <td>...</td>\n",
       "      <td>...</td>\n",
       "      <td>...</td>\n",
       "      <td>...</td>\n",
       "      <td>...</td>\n",
       "      <td>...</td>\n",
       "      <td>...</td>\n",
       "      <td>...</td>\n",
       "      <td>...</td>\n",
       "      <td>...</td>\n",
       "      <td>...</td>\n",
       "      <td>...</td>\n",
       "      <td>...</td>\n",
       "      <td>...</td>\n",
       "      <td>...</td>\n",
       "      <td>...</td>\n",
       "      <td>...</td>\n",
       "      <td>...</td>\n",
       "      <td>...</td>\n",
       "      <td>...</td>\n",
       "    </tr>\n",
       "    <tr>\n",
       "      <th>8</th>\n",
       "      <td>0.510573</td>\n",
       "      <td>0.149470</td>\n",
       "      <td>0.997369</td>\n",
       "      <td>0.498309</td>\n",
       "      <td>0.525903</td>\n",
       "      <td>0.735042</td>\n",
       "      <td>0.071343</td>\n",
       "      <td>0.525776</td>\n",
       "      <td>0.099349</td>\n",
       "      <td>0.140342</td>\n",
       "      <td>...</td>\n",
       "      <td>0.678210</td>\n",
       "      <td>0.771617</td>\n",
       "      <td>0.249693</td>\n",
       "      <td>0.373562</td>\n",
       "      <td>0.854480</td>\n",
       "      <td>0.175180</td>\n",
       "      <td>0.319577</td>\n",
       "      <td>0.731494</td>\n",
       "      <td>0.963588</td>\n",
       "      <td>0.829486</td>\n",
       "    </tr>\n",
       "    <tr>\n",
       "      <th>9</th>\n",
       "      <td>0.785954</td>\n",
       "      <td>0.736283</td>\n",
       "      <td>0.368190</td>\n",
       "      <td>0.750165</td>\n",
       "      <td>0.603098</td>\n",
       "      <td>0.727186</td>\n",
       "      <td>0.165784</td>\n",
       "      <td>0.078533</td>\n",
       "      <td>0.731611</td>\n",
       "      <td>0.091474</td>\n",
       "      <td>...</td>\n",
       "      <td>0.895247</td>\n",
       "      <td>0.193085</td>\n",
       "      <td>0.026527</td>\n",
       "      <td>0.346749</td>\n",
       "      <td>0.450486</td>\n",
       "      <td>0.429957</td>\n",
       "      <td>0.486743</td>\n",
       "      <td>0.281886</td>\n",
       "      <td>0.557726</td>\n",
       "      <td>0.778252</td>\n",
       "    </tr>\n",
       "  </tbody>\n",
       "</table>\n",
       "<p>10 rows × 30 columns</p>\n",
       "</div>"
      ],
      "text/plain": [
       "          0         1         2         3         4         5         6   \\\n",
       "0   0.854721  0.543757  0.681606  0.264837  0.382972  0.601752  0.387221   \n",
       "1   0.478667  0.960920  0.799890  0.825965  0.301710  0.349412  0.995210   \n",
       "..       ...       ...       ...       ...       ...       ...       ...   \n",
       "8   0.510573  0.149470  0.997369  0.498309  0.525903  0.735042  0.071343   \n",
       "9   0.785954  0.736283  0.368190  0.750165  0.603098  0.727186  0.165784   \n",
       "\n",
       "          7         8         9   ...        20        21        22        23  \\\n",
       "0   0.880033  0.818534  0.883264  ...  0.389844  0.445064  0.848848  0.102581   \n",
       "1   0.324628  0.600911  0.543948  ...  0.801950  0.300104  0.937747  0.096716   \n",
       "..       ...       ...       ...  ...       ...       ...       ...       ...   \n",
       "8   0.525776  0.099349  0.140342  ...  0.678210  0.771617  0.249693  0.373562   \n",
       "9   0.078533  0.731611  0.091474  ...  0.895247  0.193085  0.026527  0.346749   \n",
       "\n",
       "          24        25        26        27        28        29  \n",
       "0   0.230455  0.316536  0.367081  0.284986  0.858377  0.375237  \n",
       "1   0.791991  0.109656  0.432974  0.303802  0.513215  0.476938  \n",
       "..       ...       ...       ...       ...       ...       ...  \n",
       "8   0.854480  0.175180  0.319577  0.731494  0.963588  0.829486  \n",
       "9   0.450486  0.429957  0.486743  0.281886  0.557726  0.778252  \n",
       "\n",
       "[10 rows x 30 columns]"
      ]
     },
     "execution_count": 8,
     "metadata": {},
     "output_type": "execute_result"
    }
   ],
   "source": [
    "df = pd.DataFrame(np.random.rand(10,30))\n",
    "df"
   ]
  },
  {
   "cell_type": "code",
   "execution_count": 9,
   "metadata": {},
   "outputs": [
    {
     "data": {
      "text/html": [
       "<div>\n",
       "<style scoped>\n",
       "    .dataframe tbody tr th:only-of-type {\n",
       "        vertical-align: middle;\n",
       "    }\n",
       "\n",
       "    .dataframe tbody tr th {\n",
       "        vertical-align: top;\n",
       "    }\n",
       "\n",
       "    .dataframe thead th {\n",
       "        text-align: right;\n",
       "    }\n",
       "</style>\n",
       "<table border=\"1\" class=\"dataframe\">\n",
       "  <thead>\n",
       "    <tr style=\"text-align: right;\">\n",
       "      <th></th>\n",
       "      <th>0</th>\n",
       "      <th>1</th>\n",
       "      <th>2</th>\n",
       "      <th>3</th>\n",
       "      <th>4</th>\n",
       "      <th>5</th>\n",
       "      <th>6</th>\n",
       "      <th>7</th>\n",
       "      <th>8</th>\n",
       "      <th>9</th>\n",
       "      <th>10</th>\n",
       "      <th>11</th>\n",
       "      <th>12</th>\n",
       "      <th>13</th>\n",
       "      <th>14</th>\n",
       "      <th>15</th>\n",
       "      <th>16</th>\n",
       "      <th>17</th>\n",
       "      <th>18</th>\n",
       "      <th>19</th>\n",
       "      <th>20</th>\n",
       "      <th>21</th>\n",
       "      <th>22</th>\n",
       "      <th>23</th>\n",
       "      <th>24</th>\n",
       "      <th>25</th>\n",
       "      <th>26</th>\n",
       "      <th>27</th>\n",
       "      <th>28</th>\n",
       "      <th>29</th>\n",
       "    </tr>\n",
       "  </thead>\n",
       "  <tbody>\n",
       "    <tr>\n",
       "      <th>0</th>\n",
       "      <td>0.854721</td>\n",
       "      <td>0.543757</td>\n",
       "      <td>0.681606</td>\n",
       "      <td>0.264837</td>\n",
       "      <td>0.382972</td>\n",
       "      <td>0.601752</td>\n",
       "      <td>0.387221</td>\n",
       "      <td>0.880033</td>\n",
       "      <td>0.818534</td>\n",
       "      <td>0.883264</td>\n",
       "      <td>0.663699</td>\n",
       "      <td>0.126812</td>\n",
       "      <td>0.714126</td>\n",
       "      <td>0.018045</td>\n",
       "      <td>0.042900</td>\n",
       "      <td>0.265049</td>\n",
       "      <td>0.695491</td>\n",
       "      <td>0.266925</td>\n",
       "      <td>0.641673</td>\n",
       "      <td>0.834319</td>\n",
       "      <td>0.389844</td>\n",
       "      <td>0.445064</td>\n",
       "      <td>0.848848</td>\n",
       "      <td>0.102581</td>\n",
       "      <td>0.230455</td>\n",
       "      <td>0.316536</td>\n",
       "      <td>0.367081</td>\n",
       "      <td>0.284986</td>\n",
       "      <td>0.858377</td>\n",
       "      <td>0.375237</td>\n",
       "    </tr>\n",
       "    <tr>\n",
       "      <th>1</th>\n",
       "      <td>0.478667</td>\n",
       "      <td>0.960920</td>\n",
       "      <td>0.799890</td>\n",
       "      <td>0.825965</td>\n",
       "      <td>0.301710</td>\n",
       "      <td>0.349412</td>\n",
       "      <td>0.995210</td>\n",
       "      <td>0.324628</td>\n",
       "      <td>0.600911</td>\n",
       "      <td>0.543948</td>\n",
       "      <td>0.506871</td>\n",
       "      <td>0.089972</td>\n",
       "      <td>0.001579</td>\n",
       "      <td>0.683402</td>\n",
       "      <td>0.562614</td>\n",
       "      <td>0.795001</td>\n",
       "      <td>0.699095</td>\n",
       "      <td>0.780219</td>\n",
       "      <td>0.215535</td>\n",
       "      <td>0.398873</td>\n",
       "      <td>0.801950</td>\n",
       "      <td>0.300104</td>\n",
       "      <td>0.937747</td>\n",
       "      <td>0.096716</td>\n",
       "      <td>0.791991</td>\n",
       "      <td>0.109656</td>\n",
       "      <td>0.432974</td>\n",
       "      <td>0.303802</td>\n",
       "      <td>0.513215</td>\n",
       "      <td>0.476938</td>\n",
       "    </tr>\n",
       "    <tr>\n",
       "      <th>...</th>\n",
       "      <td>...</td>\n",
       "      <td>...</td>\n",
       "      <td>...</td>\n",
       "      <td>...</td>\n",
       "      <td>...</td>\n",
       "      <td>...</td>\n",
       "      <td>...</td>\n",
       "      <td>...</td>\n",
       "      <td>...</td>\n",
       "      <td>...</td>\n",
       "      <td>...</td>\n",
       "      <td>...</td>\n",
       "      <td>...</td>\n",
       "      <td>...</td>\n",
       "      <td>...</td>\n",
       "      <td>...</td>\n",
       "      <td>...</td>\n",
       "      <td>...</td>\n",
       "      <td>...</td>\n",
       "      <td>...</td>\n",
       "      <td>...</td>\n",
       "      <td>...</td>\n",
       "      <td>...</td>\n",
       "      <td>...</td>\n",
       "      <td>...</td>\n",
       "      <td>...</td>\n",
       "      <td>...</td>\n",
       "      <td>...</td>\n",
       "      <td>...</td>\n",
       "      <td>...</td>\n",
       "    </tr>\n",
       "    <tr>\n",
       "      <th>8</th>\n",
       "      <td>0.510573</td>\n",
       "      <td>0.149470</td>\n",
       "      <td>0.997369</td>\n",
       "      <td>0.498309</td>\n",
       "      <td>0.525903</td>\n",
       "      <td>0.735042</td>\n",
       "      <td>0.071343</td>\n",
       "      <td>0.525776</td>\n",
       "      <td>0.099349</td>\n",
       "      <td>0.140342</td>\n",
       "      <td>0.675954</td>\n",
       "      <td>0.189160</td>\n",
       "      <td>0.871851</td>\n",
       "      <td>0.385390</td>\n",
       "      <td>0.794087</td>\n",
       "      <td>0.946778</td>\n",
       "      <td>0.057052</td>\n",
       "      <td>0.911947</td>\n",
       "      <td>0.587355</td>\n",
       "      <td>0.703396</td>\n",
       "      <td>0.678210</td>\n",
       "      <td>0.771617</td>\n",
       "      <td>0.249693</td>\n",
       "      <td>0.373562</td>\n",
       "      <td>0.854480</td>\n",
       "      <td>0.175180</td>\n",
       "      <td>0.319577</td>\n",
       "      <td>0.731494</td>\n",
       "      <td>0.963588</td>\n",
       "      <td>0.829486</td>\n",
       "    </tr>\n",
       "    <tr>\n",
       "      <th>9</th>\n",
       "      <td>0.785954</td>\n",
       "      <td>0.736283</td>\n",
       "      <td>0.368190</td>\n",
       "      <td>0.750165</td>\n",
       "      <td>0.603098</td>\n",
       "      <td>0.727186</td>\n",
       "      <td>0.165784</td>\n",
       "      <td>0.078533</td>\n",
       "      <td>0.731611</td>\n",
       "      <td>0.091474</td>\n",
       "      <td>0.737496</td>\n",
       "      <td>0.586590</td>\n",
       "      <td>0.235283</td>\n",
       "      <td>0.677312</td>\n",
       "      <td>0.395501</td>\n",
       "      <td>0.235393</td>\n",
       "      <td>0.824482</td>\n",
       "      <td>0.251693</td>\n",
       "      <td>0.054929</td>\n",
       "      <td>0.645009</td>\n",
       "      <td>0.895247</td>\n",
       "      <td>0.193085</td>\n",
       "      <td>0.026527</td>\n",
       "      <td>0.346749</td>\n",
       "      <td>0.450486</td>\n",
       "      <td>0.429957</td>\n",
       "      <td>0.486743</td>\n",
       "      <td>0.281886</td>\n",
       "      <td>0.557726</td>\n",
       "      <td>0.778252</td>\n",
       "    </tr>\n",
       "  </tbody>\n",
       "</table>\n",
       "<p>10 rows × 30 columns</p>\n",
       "</div>"
      ],
      "text/plain": [
       "           0         1         2         3         4         5         6  \\\n",
       "0   0.854721  0.543757  0.681606  0.264837  0.382972  0.601752  0.387221   \n",
       "1   0.478667  0.960920  0.799890  0.825965  0.301710  0.349412  0.995210   \n",
       "..       ...       ...       ...       ...       ...       ...       ...   \n",
       "8   0.510573  0.149470  0.997369  0.498309  0.525903  0.735042  0.071343   \n",
       "9   0.785954  0.736283  0.368190  0.750165  0.603098  0.727186  0.165784   \n",
       "\n",
       "           7         8         9        10        11        12        13  \\\n",
       "0   0.880033  0.818534  0.883264  0.663699  0.126812  0.714126  0.018045   \n",
       "1   0.324628  0.600911  0.543948  0.506871  0.089972  0.001579  0.683402   \n",
       "..       ...       ...       ...       ...       ...       ...       ...   \n",
       "8   0.525776  0.099349  0.140342  0.675954  0.189160  0.871851  0.385390   \n",
       "9   0.078533  0.731611  0.091474  0.737496  0.586590  0.235283  0.677312   \n",
       "\n",
       "          14        15        16        17        18        19        20  \\\n",
       "0   0.042900  0.265049  0.695491  0.266925  0.641673  0.834319  0.389844   \n",
       "1   0.562614  0.795001  0.699095  0.780219  0.215535  0.398873  0.801950   \n",
       "..       ...       ...       ...       ...       ...       ...       ...   \n",
       "8   0.794087  0.946778  0.057052  0.911947  0.587355  0.703396  0.678210   \n",
       "9   0.395501  0.235393  0.824482  0.251693  0.054929  0.645009  0.895247   \n",
       "\n",
       "          21        22        23        24        25        26        27  \\\n",
       "0   0.445064  0.848848  0.102581  0.230455  0.316536  0.367081  0.284986   \n",
       "1   0.300104  0.937747  0.096716  0.791991  0.109656  0.432974  0.303802   \n",
       "..       ...       ...       ...       ...       ...       ...       ...   \n",
       "8   0.771617  0.249693  0.373562  0.854480  0.175180  0.319577  0.731494   \n",
       "9   0.193085  0.026527  0.346749  0.450486  0.429957  0.486743  0.281886   \n",
       "\n",
       "          28        29  \n",
       "0   0.858377  0.375237  \n",
       "1   0.513215  0.476938  \n",
       "..       ...       ...  \n",
       "8   0.963588  0.829486  \n",
       "9   0.557726  0.778252  \n",
       "\n",
       "[10 rows x 30 columns]"
      ]
     },
     "execution_count": 9,
     "metadata": {},
     "output_type": "execute_result"
    }
   ],
   "source": [
    "pd.set_option('display.max_columns', 30)\n",
    "df "
   ]
  },
  {
   "cell_type": "markdown",
   "metadata": {},
   "source": [
    "#### display.max_colwidth()"
   ]
  },
  {
   "cell_type": "code",
   "execution_count": 10,
   "metadata": {},
   "outputs": [
    {
     "data": {
      "text/html": [
       "<div>\n",
       "<style scoped>\n",
       "    .dataframe tbody tr th:only-of-type {\n",
       "        vertical-align: middle;\n",
       "    }\n",
       "\n",
       "    .dataframe tbody tr th {\n",
       "        vertical-align: top;\n",
       "    }\n",
       "\n",
       "    .dataframe thead th {\n",
       "        text-align: right;\n",
       "    }\n",
       "</style>\n",
       "<table border=\"1\" class=\"dataframe\">\n",
       "  <thead>\n",
       "    <tr style=\"text-align: right;\">\n",
       "      <th></th>\n",
       "      <th>A</th>\n",
       "    </tr>\n",
       "  </thead>\n",
       "  <tbody>\n",
       "    <tr>\n",
       "      <th>0</th>\n",
       "      <td>aaaaaaaaaaaaaaaaaaaaaaaaaaaaaaaaaaaaaaaaaaaaaa...</td>\n",
       "    </tr>\n",
       "    <tr>\n",
       "      <th>1</th>\n",
       "      <td>bbbbbbbbbbbbbbbbbbbbbbbbbbbbbbbbbbbbbbbbbbbbbb...</td>\n",
       "    </tr>\n",
       "  </tbody>\n",
       "</table>\n",
       "</div>"
      ],
      "text/plain": [
       "                                                   A\n",
       "0  aaaaaaaaaaaaaaaaaaaaaaaaaaaaaaaaaaaaaaaaaaaaaa...\n",
       "1  bbbbbbbbbbbbbbbbbbbbbbbbbbbbbbbbbbbbbbbbbbbbbb..."
      ]
     },
     "execution_count": 10,
     "metadata": {},
     "output_type": "execute_result"
    }
   ],
   "source": [
    "df = pd.DataFrame({'A': ['a'*60, 'b'*60]})\n",
    "df "
   ]
  },
  {
   "cell_type": "code",
   "execution_count": 14,
   "metadata": {},
   "outputs": [
    {
     "data": {
      "text/html": [
       "<div>\n",
       "<style scoped>\n",
       "    .dataframe tbody tr th:only-of-type {\n",
       "        vertical-align: middle;\n",
       "    }\n",
       "\n",
       "    .dataframe tbody tr th {\n",
       "        vertical-align: top;\n",
       "    }\n",
       "\n",
       "    .dataframe thead th {\n",
       "        text-align: right;\n",
       "    }\n",
       "</style>\n",
       "<table border=\"1\" class=\"dataframe\">\n",
       "  <thead>\n",
       "    <tr style=\"text-align: right;\">\n",
       "      <th></th>\n",
       "      <th>A</th>\n",
       "    </tr>\n",
       "  </thead>\n",
       "  <tbody>\n",
       "    <tr>\n",
       "      <th>0</th>\n",
       "      <td>aaaaaaaaaaaaaaaaaaaaaaaaaaaaaaaaaaaaaaaaaaaaaaaaaaaaaaaaaaaa</td>\n",
       "    </tr>\n",
       "    <tr>\n",
       "      <th>1</th>\n",
       "      <td>bbbbbbbbbbbbbbbbbbbbbbbbbbbbbbbbbbbbbbbbbbbbbbbbbbbbbbbbbbbb</td>\n",
       "    </tr>\n",
       "  </tbody>\n",
       "</table>\n",
       "</div>"
      ],
      "text/plain": [
       "                                                              A\n",
       "0  aaaaaaaaaaaaaaaaaaaaaaaaaaaaaaaaaaaaaaaaaaaaaaaaaaaaaaaaaaaa\n",
       "1  bbbbbbbbbbbbbbbbbbbbbbbbbbbbbbbbbbbbbbbbbbbbbbbbbbbbbbbbbbbb"
      ]
     },
     "execution_count": 14,
     "metadata": {},
     "output_type": "execute_result"
    }
   ],
   "source": [
    "pd.set_option('display.max_colwidth',100)\n",
    "df "
   ]
  },
  {
   "cell_type": "markdown",
   "metadata": {},
   "source": [
    "#### display.chop_threshold 0.5"
   ]
  },
  {
   "cell_type": "code",
   "execution_count": 16,
   "metadata": {},
   "outputs": [
    {
     "data": {
      "text/html": [
       "<div>\n",
       "<style scoped>\n",
       "    .dataframe tbody tr th:only-of-type {\n",
       "        vertical-align: middle;\n",
       "    }\n",
       "\n",
       "    .dataframe tbody tr th {\n",
       "        vertical-align: top;\n",
       "    }\n",
       "\n",
       "    .dataframe thead th {\n",
       "        text-align: right;\n",
       "    }\n",
       "</style>\n",
       "<table border=\"1\" class=\"dataframe\">\n",
       "  <thead>\n",
       "    <tr style=\"text-align: right;\">\n",
       "      <th></th>\n",
       "      <th>0</th>\n",
       "      <th>1</th>\n",
       "      <th>2</th>\n",
       "      <th>3</th>\n",
       "      <th>4</th>\n",
       "    </tr>\n",
       "  </thead>\n",
       "  <tbody>\n",
       "    <tr>\n",
       "      <th>0</th>\n",
       "      <td>0.640262</td>\n",
       "      <td>0.897594</td>\n",
       "      <td>0.863395</td>\n",
       "      <td>0.373984</td>\n",
       "      <td>0.990710</td>\n",
       "    </tr>\n",
       "    <tr>\n",
       "      <th>1</th>\n",
       "      <td>0.542011</td>\n",
       "      <td>0.330398</td>\n",
       "      <td>0.039457</td>\n",
       "      <td>0.490175</td>\n",
       "      <td>0.611635</td>\n",
       "    </tr>\n",
       "    <tr>\n",
       "      <th>2</th>\n",
       "      <td>0.299472</td>\n",
       "      <td>0.283177</td>\n",
       "      <td>0.651530</td>\n",
       "      <td>0.785695</td>\n",
       "      <td>0.426245</td>\n",
       "    </tr>\n",
       "    <tr>\n",
       "      <th>3</th>\n",
       "      <td>0.141287</td>\n",
       "      <td>0.031236</td>\n",
       "      <td>0.844176</td>\n",
       "      <td>0.294349</td>\n",
       "      <td>0.847178</td>\n",
       "    </tr>\n",
       "    <tr>\n",
       "      <th>4</th>\n",
       "      <td>0.108288</td>\n",
       "      <td>0.290964</td>\n",
       "      <td>0.365436</td>\n",
       "      <td>0.168192</td>\n",
       "      <td>0.788955</td>\n",
       "    </tr>\n",
       "  </tbody>\n",
       "</table>\n",
       "</div>"
      ],
      "text/plain": [
       "          0         1         2         3         4\n",
       "0  0.640262  0.897594  0.863395  0.373984  0.990710\n",
       "1  0.542011  0.330398  0.039457  0.490175  0.611635\n",
       "2  0.299472  0.283177  0.651530  0.785695  0.426245\n",
       "3  0.141287  0.031236  0.844176  0.294349  0.847178\n",
       "4  0.108288  0.290964  0.365436  0.168192  0.788955"
      ]
     },
     "execution_count": 16,
     "metadata": {},
     "output_type": "execute_result"
    }
   ],
   "source": [
    "df = pd.DataFrame(np.random.rand(5,5))\n",
    "df"
   ]
  },
  {
   "cell_type": "code",
   "execution_count": 17,
   "metadata": {},
   "outputs": [
    {
     "data": {
      "text/html": [
       "<div>\n",
       "<style scoped>\n",
       "    .dataframe tbody tr th:only-of-type {\n",
       "        vertical-align: middle;\n",
       "    }\n",
       "\n",
       "    .dataframe tbody tr th {\n",
       "        vertical-align: top;\n",
       "    }\n",
       "\n",
       "    .dataframe thead th {\n",
       "        text-align: right;\n",
       "    }\n",
       "</style>\n",
       "<table border=\"1\" class=\"dataframe\">\n",
       "  <thead>\n",
       "    <tr style=\"text-align: right;\">\n",
       "      <th></th>\n",
       "      <th>0</th>\n",
       "      <th>1</th>\n",
       "      <th>2</th>\n",
       "      <th>3</th>\n",
       "      <th>4</th>\n",
       "    </tr>\n",
       "  </thead>\n",
       "  <tbody>\n",
       "    <tr>\n",
       "      <th>0</th>\n",
       "      <td>0.640262</td>\n",
       "      <td>0.897594</td>\n",
       "      <td>0.863395</td>\n",
       "      <td>0.000000</td>\n",
       "      <td>0.990710</td>\n",
       "    </tr>\n",
       "    <tr>\n",
       "      <th>1</th>\n",
       "      <td>0.542011</td>\n",
       "      <td>0.000000</td>\n",
       "      <td>0.000000</td>\n",
       "      <td>0.000000</td>\n",
       "      <td>0.611635</td>\n",
       "    </tr>\n",
       "    <tr>\n",
       "      <th>2</th>\n",
       "      <td>0.000000</td>\n",
       "      <td>0.000000</td>\n",
       "      <td>0.651530</td>\n",
       "      <td>0.785695</td>\n",
       "      <td>0.000000</td>\n",
       "    </tr>\n",
       "    <tr>\n",
       "      <th>3</th>\n",
       "      <td>0.000000</td>\n",
       "      <td>0.000000</td>\n",
       "      <td>0.844176</td>\n",
       "      <td>0.000000</td>\n",
       "      <td>0.847178</td>\n",
       "    </tr>\n",
       "    <tr>\n",
       "      <th>4</th>\n",
       "      <td>0.000000</td>\n",
       "      <td>0.000000</td>\n",
       "      <td>0.000000</td>\n",
       "      <td>0.000000</td>\n",
       "      <td>0.788955</td>\n",
       "    </tr>\n",
       "  </tbody>\n",
       "</table>\n",
       "</div>"
      ],
      "text/plain": [
       "          0         1         2         3         4\n",
       "0  0.640262  0.897594  0.863395  0.000000  0.990710\n",
       "1  0.542011  0.000000  0.000000  0.000000  0.611635\n",
       "2  0.000000  0.000000  0.651530  0.785695  0.000000\n",
       "3  0.000000  0.000000  0.844176  0.000000  0.847178\n",
       "4  0.000000  0.000000  0.000000  0.000000  0.788955"
      ]
     },
     "execution_count": 17,
     "metadata": {},
     "output_type": "execute_result"
    }
   ],
   "source": [
    "pd.set_option('display.chop_threshold', 0.5)\n",
    "df "
   ]
  },
  {
   "cell_type": "markdown",
   "metadata": {},
   "source": [
    "#### display.float_format"
   ]
  },
  {
   "cell_type": "code",
   "execution_count": 23,
   "metadata": {},
   "outputs": [
    {
     "data": {
      "text/html": [
       "<div>\n",
       "<style scoped>\n",
       "    .dataframe tbody tr th:only-of-type {\n",
       "        vertical-align: middle;\n",
       "    }\n",
       "\n",
       "    .dataframe tbody tr th {\n",
       "        vertical-align: top;\n",
       "    }\n",
       "\n",
       "    .dataframe thead th {\n",
       "        text-align: right;\n",
       "    }\n",
       "</style>\n",
       "<table border=\"1\" class=\"dataframe\">\n",
       "  <thead>\n",
       "    <tr style=\"text-align: right;\">\n",
       "      <th></th>\n",
       "      <th>0</th>\n",
       "      <th>1</th>\n",
       "      <th>2</th>\n",
       "      <th>3</th>\n",
       "      <th>4</th>\n",
       "    </tr>\n",
       "  </thead>\n",
       "  <tbody>\n",
       "    <tr>\n",
       "      <th>0</th>\n",
       "      <td>$0.16</td>\n",
       "      <td>$0.91</td>\n",
       "      <td>$0.28</td>\n",
       "      <td>$0.86</td>\n",
       "      <td>$0.60</td>\n",
       "    </tr>\n",
       "    <tr>\n",
       "      <th>1</th>\n",
       "      <td>$0.49</td>\n",
       "      <td>$0.48</td>\n",
       "      <td>$0.34</td>\n",
       "      <td>$0.41</td>\n",
       "      <td>$0.39</td>\n",
       "    </tr>\n",
       "    <tr>\n",
       "      <th>2</th>\n",
       "      <td>$0.67</td>\n",
       "      <td>$0.09</td>\n",
       "      <td>$0.90</td>\n",
       "      <td>$0.78</td>\n",
       "      <td>$0.99</td>\n",
       "    </tr>\n",
       "    <tr>\n",
       "      <th>3</th>\n",
       "      <td>$0.86</td>\n",
       "      <td>$0.89</td>\n",
       "      <td>$0.29</td>\n",
       "      <td>$0.57</td>\n",
       "      <td>$0.19</td>\n",
       "    </tr>\n",
       "    <tr>\n",
       "      <th>4</th>\n",
       "      <td>$0.03</td>\n",
       "      <td>$0.57</td>\n",
       "      <td>$0.85</td>\n",
       "      <td>$0.97</td>\n",
       "      <td>$0.21</td>\n",
       "    </tr>\n",
       "    <tr>\n",
       "      <th>5</th>\n",
       "      <td>$0.59</td>\n",
       "      <td>$0.56</td>\n",
       "      <td>$0.55</td>\n",
       "      <td>$0.05</td>\n",
       "      <td>$0.72</td>\n",
       "    </tr>\n",
       "    <tr>\n",
       "      <th>6</th>\n",
       "      <td>$0.94</td>\n",
       "      <td>$0.67</td>\n",
       "      <td>$0.06</td>\n",
       "      <td>$0.33</td>\n",
       "      <td>$0.95</td>\n",
       "    </tr>\n",
       "    <tr>\n",
       "      <th>7</th>\n",
       "      <td>$0.87</td>\n",
       "      <td>$0.37</td>\n",
       "      <td>$0.82</td>\n",
       "      <td>$0.46</td>\n",
       "      <td>$0.56</td>\n",
       "    </tr>\n",
       "    <tr>\n",
       "      <th>8</th>\n",
       "      <td>$0.32</td>\n",
       "      <td>$0.70</td>\n",
       "      <td>$0.63</td>\n",
       "      <td>$0.32</td>\n",
       "      <td>$0.65</td>\n",
       "    </tr>\n",
       "    <tr>\n",
       "      <th>9</th>\n",
       "      <td>$0.29</td>\n",
       "      <td>$0.50</td>\n",
       "      <td>$0.87</td>\n",
       "      <td>$0.01</td>\n",
       "      <td>$0.89</td>\n",
       "    </tr>\n",
       "  </tbody>\n",
       "</table>\n",
       "</div>"
      ],
      "text/plain": [
       "      0     1     2     3     4\n",
       "0 $0.16 $0.91 $0.28 $0.86 $0.60\n",
       "1 $0.49 $0.48 $0.34 $0.41 $0.39\n",
       "2 $0.67 $0.09 $0.90 $0.78 $0.99\n",
       "3 $0.86 $0.89 $0.29 $0.57 $0.19\n",
       "4 $0.03 $0.57 $0.85 $0.97 $0.21\n",
       "5 $0.59 $0.56 $0.55 $0.05 $0.72\n",
       "6 $0.94 $0.67 $0.06 $0.33 $0.95\n",
       "7 $0.87 $0.37 $0.82 $0.46 $0.56\n",
       "8 $0.32 $0.70 $0.63 $0.32 $0.65\n",
       "9 $0.29 $0.50 $0.87 $0.01 $0.89"
      ]
     },
     "execution_count": 23,
     "metadata": {},
     "output_type": "execute_result"
    }
   ],
   "source": [
    "df = pd.DataFrame(np.random.rand(10,5))\n",
    "df"
   ]
  },
  {
   "cell_type": "code",
   "execution_count": 24,
   "metadata": {},
   "outputs": [
    {
     "data": {
      "text/html": [
       "<div>\n",
       "<style scoped>\n",
       "    .dataframe tbody tr th:only-of-type {\n",
       "        vertical-align: middle;\n",
       "    }\n",
       "\n",
       "    .dataframe tbody tr th {\n",
       "        vertical-align: top;\n",
       "    }\n",
       "\n",
       "    .dataframe thead th {\n",
       "        text-align: right;\n",
       "    }\n",
       "</style>\n",
       "<table border=\"1\" class=\"dataframe\">\n",
       "  <thead>\n",
       "    <tr style=\"text-align: right;\">\n",
       "      <th></th>\n",
       "      <th>0</th>\n",
       "      <th>1</th>\n",
       "      <th>2</th>\n",
       "      <th>3</th>\n",
       "      <th>4</th>\n",
       "    </tr>\n",
       "  </thead>\n",
       "  <tbody>\n",
       "    <tr>\n",
       "      <th>0</th>\n",
       "      <td>$0.16</td>\n",
       "      <td>$0.91</td>\n",
       "      <td>$0.28</td>\n",
       "      <td>$0.86</td>\n",
       "      <td>$0.60</td>\n",
       "    </tr>\n",
       "    <tr>\n",
       "      <th>1</th>\n",
       "      <td>$0.49</td>\n",
       "      <td>$0.48</td>\n",
       "      <td>$0.34</td>\n",
       "      <td>$0.41</td>\n",
       "      <td>$0.39</td>\n",
       "    </tr>\n",
       "    <tr>\n",
       "      <th>2</th>\n",
       "      <td>$0.67</td>\n",
       "      <td>$0.09</td>\n",
       "      <td>$0.90</td>\n",
       "      <td>$0.78</td>\n",
       "      <td>$0.99</td>\n",
       "    </tr>\n",
       "    <tr>\n",
       "      <th>3</th>\n",
       "      <td>$0.86</td>\n",
       "      <td>$0.89</td>\n",
       "      <td>$0.29</td>\n",
       "      <td>$0.57</td>\n",
       "      <td>$0.19</td>\n",
       "    </tr>\n",
       "    <tr>\n",
       "      <th>4</th>\n",
       "      <td>$0.03</td>\n",
       "      <td>$0.57</td>\n",
       "      <td>$0.85</td>\n",
       "      <td>$0.97</td>\n",
       "      <td>$0.21</td>\n",
       "    </tr>\n",
       "    <tr>\n",
       "      <th>5</th>\n",
       "      <td>$0.59</td>\n",
       "      <td>$0.56</td>\n",
       "      <td>$0.55</td>\n",
       "      <td>$0.05</td>\n",
       "      <td>$0.72</td>\n",
       "    </tr>\n",
       "    <tr>\n",
       "      <th>6</th>\n",
       "      <td>$0.94</td>\n",
       "      <td>$0.67</td>\n",
       "      <td>$0.06</td>\n",
       "      <td>$0.33</td>\n",
       "      <td>$0.95</td>\n",
       "    </tr>\n",
       "    <tr>\n",
       "      <th>7</th>\n",
       "      <td>$0.87</td>\n",
       "      <td>$0.37</td>\n",
       "      <td>$0.82</td>\n",
       "      <td>$0.46</td>\n",
       "      <td>$0.56</td>\n",
       "    </tr>\n",
       "    <tr>\n",
       "      <th>8</th>\n",
       "      <td>$0.32</td>\n",
       "      <td>$0.70</td>\n",
       "      <td>$0.63</td>\n",
       "      <td>$0.32</td>\n",
       "      <td>$0.65</td>\n",
       "    </tr>\n",
       "    <tr>\n",
       "      <th>9</th>\n",
       "      <td>$0.29</td>\n",
       "      <td>$0.50</td>\n",
       "      <td>$0.87</td>\n",
       "      <td>$0.01</td>\n",
       "      <td>$0.89</td>\n",
       "    </tr>\n",
       "  </tbody>\n",
       "</table>\n",
       "</div>"
      ],
      "text/plain": [
       "      0     1     2     3     4\n",
       "0 $0.16 $0.91 $0.28 $0.86 $0.60\n",
       "1 $0.49 $0.48 $0.34 $0.41 $0.39\n",
       "2 $0.67 $0.09 $0.90 $0.78 $0.99\n",
       "3 $0.86 $0.89 $0.29 $0.57 $0.19\n",
       "4 $0.03 $0.57 $0.85 $0.97 $0.21\n",
       "5 $0.59 $0.56 $0.55 $0.05 $0.72\n",
       "6 $0.94 $0.67 $0.06 $0.33 $0.95\n",
       "7 $0.87 $0.37 $0.82 $0.46 $0.56\n",
       "8 $0.32 $0.70 $0.63 $0.32 $0.65\n",
       "9 $0.29 $0.50 $0.87 $0.01 $0.89"
      ]
     },
     "execution_count": 24,
     "metadata": {},
     "output_type": "execute_result"
    }
   ],
   "source": [
    "pd.set_option('display.float_format', '${:,.2f}'.format)\n",
    "df "
   ]
  },
  {
   "cell_type": "markdown",
   "metadata": {},
   "source": [
    "#### display.max_info_rows 1690786"
   ]
  },
  {
   "cell_type": "raw",
   "metadata": {},
   "source": [
    "df = pd.DataFrame(np.random.randn(1690785,5))\n",
    "df.info()"
   ]
  },
  {
   "cell_type": "code",
   "execution_count": 25,
   "metadata": {},
   "outputs": [],
   "source": [
    "pd.set_option('display.max_info_rows', 1690786)\n",
    "#df.info()"
   ]
  },
  {
   "cell_type": "markdown",
   "metadata": {},
   "source": [
    "#### display.precision 4, default 6"
   ]
  },
  {
   "cell_type": "code",
   "execution_count": 29,
   "metadata": {},
   "outputs": [
    {
     "data": {
      "text/html": [
       "<div>\n",
       "<style scoped>\n",
       "    .dataframe tbody tr th:only-of-type {\n",
       "        vertical-align: middle;\n",
       "    }\n",
       "\n",
       "    .dataframe tbody tr th {\n",
       "        vertical-align: top;\n",
       "    }\n",
       "\n",
       "    .dataframe thead th {\n",
       "        text-align: right;\n",
       "    }\n",
       "</style>\n",
       "<table border=\"1\" class=\"dataframe\">\n",
       "  <thead>\n",
       "    <tr style=\"text-align: right;\">\n",
       "      <th></th>\n",
       "      <th>0</th>\n",
       "      <th>1</th>\n",
       "      <th>2</th>\n",
       "      <th>3</th>\n",
       "      <th>4</th>\n",
       "    </tr>\n",
       "  </thead>\n",
       "  <tbody>\n",
       "    <tr>\n",
       "      <th>0</th>\n",
       "      <td>0.648349</td>\n",
       "      <td>0.000000</td>\n",
       "      <td>0.000000</td>\n",
       "      <td>0.000000</td>\n",
       "      <td>1.116505</td>\n",
       "    </tr>\n",
       "    <tr>\n",
       "      <th>1</th>\n",
       "      <td>1.040978</td>\n",
       "      <td>0.000000</td>\n",
       "      <td>0.000000</td>\n",
       "      <td>-1.230757</td>\n",
       "      <td>-1.182808</td>\n",
       "    </tr>\n",
       "    <tr>\n",
       "      <th>2</th>\n",
       "      <td>-0.977489</td>\n",
       "      <td>-1.940156</td>\n",
       "      <td>0.942888</td>\n",
       "      <td>0.000000</td>\n",
       "      <td>0.559879</td>\n",
       "    </tr>\n",
       "    <tr>\n",
       "      <th>3</th>\n",
       "      <td>1.060175</td>\n",
       "      <td>-1.026058</td>\n",
       "      <td>1.189282</td>\n",
       "      <td>1.043258</td>\n",
       "      <td>0.000000</td>\n",
       "    </tr>\n",
       "    <tr>\n",
       "      <th>4</th>\n",
       "      <td>1.533023</td>\n",
       "      <td>0.000000</td>\n",
       "      <td>-0.918515</td>\n",
       "      <td>0.000000</td>\n",
       "      <td>0.000000</td>\n",
       "    </tr>\n",
       "  </tbody>\n",
       "</table>\n",
       "</div>"
      ],
      "text/plain": [
       "          0         1         2         3         4\n",
       "0  0.648349  0.000000  0.000000  0.000000  1.116505\n",
       "1  1.040978  0.000000  0.000000 -1.230757 -1.182808\n",
       "2 -0.977489 -1.940156  0.942888  0.000000  0.559879\n",
       "3  1.060175 -1.026058  1.189282  1.043258  0.000000\n",
       "4  1.533023  0.000000 -0.918515  0.000000  0.000000"
      ]
     },
     "execution_count": 29,
     "metadata": {},
     "output_type": "execute_result"
    }
   ],
   "source": [
    "df = pd.DataFrame(np.random.randn(5,5))\n",
    "df"
   ]
  },
  {
   "cell_type": "code",
   "execution_count": 28,
   "metadata": {},
   "outputs": [],
   "source": [
    "pd.reset_option('display.float_format')"
   ]
  },
  {
   "cell_type": "code",
   "execution_count": 30,
   "metadata": {},
   "outputs": [
    {
     "data": {
      "text/html": [
       "<div>\n",
       "<style scoped>\n",
       "    .dataframe tbody tr th:only-of-type {\n",
       "        vertical-align: middle;\n",
       "    }\n",
       "\n",
       "    .dataframe tbody tr th {\n",
       "        vertical-align: top;\n",
       "    }\n",
       "\n",
       "    .dataframe thead th {\n",
       "        text-align: right;\n",
       "    }\n",
       "</style>\n",
       "<table border=\"1\" class=\"dataframe\">\n",
       "  <thead>\n",
       "    <tr style=\"text-align: right;\">\n",
       "      <th></th>\n",
       "      <th>0</th>\n",
       "      <th>1</th>\n",
       "      <th>2</th>\n",
       "      <th>3</th>\n",
       "      <th>4</th>\n",
       "    </tr>\n",
       "  </thead>\n",
       "  <tbody>\n",
       "    <tr>\n",
       "      <th>0</th>\n",
       "      <td>0.6483</td>\n",
       "      <td>0.0000</td>\n",
       "      <td>0.0000</td>\n",
       "      <td>0.0000</td>\n",
       "      <td>1.1165</td>\n",
       "    </tr>\n",
       "    <tr>\n",
       "      <th>1</th>\n",
       "      <td>1.0410</td>\n",
       "      <td>0.0000</td>\n",
       "      <td>0.0000</td>\n",
       "      <td>-1.2308</td>\n",
       "      <td>-1.1828</td>\n",
       "    </tr>\n",
       "    <tr>\n",
       "      <th>2</th>\n",
       "      <td>-0.9775</td>\n",
       "      <td>-1.9402</td>\n",
       "      <td>0.9429</td>\n",
       "      <td>0.0000</td>\n",
       "      <td>0.5599</td>\n",
       "    </tr>\n",
       "    <tr>\n",
       "      <th>3</th>\n",
       "      <td>1.0602</td>\n",
       "      <td>-1.0261</td>\n",
       "      <td>1.1893</td>\n",
       "      <td>1.0433</td>\n",
       "      <td>0.0000</td>\n",
       "    </tr>\n",
       "    <tr>\n",
       "      <th>4</th>\n",
       "      <td>1.5330</td>\n",
       "      <td>0.0000</td>\n",
       "      <td>-0.9185</td>\n",
       "      <td>0.0000</td>\n",
       "      <td>0.0000</td>\n",
       "    </tr>\n",
       "  </tbody>\n",
       "</table>\n",
       "</div>"
      ],
      "text/plain": [
       "        0       1       2       3       4\n",
       "0  0.6483  0.0000  0.0000  0.0000  1.1165\n",
       "1  1.0410  0.0000  0.0000 -1.2308 -1.1828\n",
       "2 -0.9775 -1.9402  0.9429  0.0000  0.5599\n",
       "3  1.0602 -1.0261  1.1893  1.0433  0.0000\n",
       "4  1.5330  0.0000 -0.9185  0.0000  0.0000"
      ]
     },
     "execution_count": 30,
     "metadata": {},
     "output_type": "execute_result"
    }
   ],
   "source": [
    "pd.set_option('display.precision',4)\n",
    "df"
   ]
  },
  {
   "cell_type": "markdown",
   "metadata": {},
   "source": [
    "#### display.option_context()"
   ]
  },
  {
   "cell_type": "raw",
   "metadata": {},
   "source": [
    "df = pd.DataFrame(np.random.randn(1690785,5))\n",
    "df.info()"
   ]
  },
  {
   "cell_type": "code",
   "execution_count": 32,
   "metadata": {},
   "outputs": [
    {
     "name": "stdout",
     "output_type": "stream",
     "text": [
      "<class 'pandas.core.frame.DataFrame'>\n",
      "RangeIndex: 5 entries, 0 to 4\n",
      "Data columns (total 5 columns):\n",
      " #   Column  Non-Null Count  Dtype  \n",
      "---  ------  --------------  -----  \n",
      " 0   0       5 non-null      float64\n",
      " 1   1       5 non-null      float64\n",
      " 2   2       5 non-null      float64\n",
      " 3   3       5 non-null      float64\n",
      " 4   4       5 non-null      float64\n",
      "dtypes: float64(5)\n",
      "memory usage: 328.0 bytes\n"
     ]
    }
   ],
   "source": [
    "with pd.option_context('display.max_info_rows', 1690786):\n",
    "    df.info()"
   ]
  },
  {
   "cell_type": "markdown",
   "metadata": {},
   "source": [
    "### Built-in Functions\n",
    "#### system convert"
   ]
  },
  {
   "cell_type": "code",
   "execution_count": 34,
   "metadata": {},
   "outputs": [
    {
     "name": "stdout",
     "output_type": "stream",
     "text": [
      "0b1010\n",
      "0xa\n",
      "0o12\n"
     ]
    }
   ],
   "source": [
    "print(bin(10))\n",
    "print(hex(10))\n",
    "print(oct(10))"
   ]
  },
  {
   "cell_type": "markdown",
   "metadata": {},
   "source": [
    "#### math operations"
   ]
  },
  {
   "cell_type": "code",
   "execution_count": 40,
   "metadata": {},
   "outputs": [
    {
     "name": "stdout",
     "output_type": "stream",
     "text": [
      "(6, 2)\n",
      "6\n",
      "6.666666666666667\n",
      "2\n",
      "1\n"
     ]
    }
   ],
   "source": [
    "print(divmod(20,3))    #商与余数\n",
    "print(20 // 3)         #商\n",
    "print(20 / 3)          #\n",
    "print(20 % 3)          #余\n",
    "print(min(3,4,1,2,6,4,7,9))"
   ]
  },
  {
   "cell_type": "markdown",
   "metadata": {},
   "source": [
    "#### list and tuple"
   ]
  },
  {
   "cell_type": "code",
   "execution_count": 45,
   "metadata": {},
   "outputs": [
    {
     "data": {
      "text/plain": [
       "['啊', '好', '你']"
      ]
     },
     "execution_count": 45,
     "metadata": {},
     "output_type": "execute_result"
    }
   ],
   "source": [
    "lst = '你好啊'\n",
    "reversed_ls = reversed(lst)\n",
    "list(reversed_ls)"
   ]
  },
  {
   "cell_type": "code",
   "execution_count": 46,
   "metadata": {},
   "outputs": [
    {
     "name": "stdout",
     "output_type": "stream",
     "text": [
      "[2, 3, 4]\n"
     ]
    }
   ],
   "source": [
    "lst = [1,2,3,4,5,6,7]\n",
    "print(lst[1:4:1])"
   ]
  },
  {
   "cell_type": "code",
   "execution_count": 47,
   "metadata": {},
   "outputs": [
    {
     "name": "stdout",
     "output_type": "stream",
     "text": [
      "[2, 3, 4]\n"
     ]
    }
   ],
   "source": [
    "s = slice(1,4,1)\n",
    "print(lst[s])"
   ]
  },
  {
   "cell_type": "markdown",
   "metadata": {},
   "source": [
    "#### string"
   ]
  },
  {
   "cell_type": "code",
   "execution_count": 48,
   "metadata": {},
   "outputs": [
    {
     "name": "stdout",
     "output_type": "stream",
     "text": [
      "123456\n"
     ]
    }
   ],
   "source": [
    "print(str(123)+'456')"
   ]
  },
  {
   "cell_type": "code",
   "execution_count": 49,
   "metadata": {},
   "outputs": [
    {
     "name": "stdout",
     "output_type": "stream",
     "text": [
      "    hello world!    \n"
     ]
    }
   ],
   "source": [
    "s = \"hello world!\"\n",
    "print(format(s, \"^20\"))    # in the middle"
   ]
  },
  {
   "cell_type": "code",
   "execution_count": 50,
   "metadata": {},
   "outputs": [
    {
     "name": "stdout",
     "output_type": "stream",
     "text": [
      "hello world!        \n"
     ]
    }
   ],
   "source": [
    "print(format(s,\"<20\"))     # keep left alignment"
   ]
  },
  {
   "cell_type": "code",
   "execution_count": 51,
   "metadata": {},
   "outputs": [
    {
     "name": "stdout",
     "output_type": "stream",
     "text": [
      "        hello world!\n"
     ]
    }
   ],
   "source": [
    "print(format(s, \">20\"))    # keep right alignment"
   ]
  },
  {
   "cell_type": "code",
   "execution_count": 68,
   "metadata": {},
   "outputs": [
    {
     "name": "stdout",
     "output_type": "stream",
     "text": [
      "11\n",
      "a\n",
      "11\n",
      "11\n",
      "11\n",
      "13\n",
      "b\n",
      "B\n",
      "1.234568e+08\n",
      "1.23e+08\n",
      "1.23E+08\n",
      "1.234568\n",
      "1.23\n",
      "1.2345678900\n",
      "1234.567890\n"
     ]
    }
   ],
   "source": [
    "print(format(3, 'b'))     # binary \n",
    "print(format(97, 'c'))    # unicode character\n",
    "print(format(11, 'd'))    # decimal\n",
    "print(format(11, 'n'))    # decimal\n",
    "print(format(11))\n",
    "print(format(11, 'o'))    # oct\n",
    "print(format(11, 'x'))    # hex in lower case\n",
    "print(format(11, 'X'))    # hex in upper case\n",
    "print(format(123456789, 'e'))\n",
    "print(format(123456789, '0.2e'))\n",
    "print(format(123456789, '0.2E'))\n",
    "print(format(1.23456789, 'f'))\n",
    "print(format(1.23456789, '0.2f'))\n",
    "print(format(1.23456789, '0.10f'))\n",
    "print(format(1.23456789e+3, 'F'))"
   ]
  },
  {
   "cell_type": "code",
   "execution_count": 69,
   "metadata": {},
   "outputs": [
    {
     "data": {
      "text/plain": [
       "b'\\xe4\\xbb\\x8a\\xe5\\xa4\\xa9\\xe4\\xbd\\xa0\\xe5\\x90\\x83\\xe9\\xa5\\xad\\xe4\\xba\\x86\\xe5\\x90\\x97'"
      ]
     },
     "execution_count": 69,
     "metadata": {},
     "output_type": "execute_result"
    }
   ],
   "source": [
    "bs = bytes(\"今天你吃饭了吗\", encoding = 'utf-8')    # convert string into bytes\n",
    "bs"
   ]
  },
  {
   "cell_type": "code",
   "execution_count": 73,
   "metadata": {},
   "outputs": [
    {
     "name": "stdout",
     "output_type": "stream",
     "text": [
      "97\n",
      "bytearray(b'alex')\n",
      "bytearray(b'Alex')\n"
     ]
    }
   ],
   "source": [
    "ret = bytearray(\"alex\", encoding = \"utf-8\")\n",
    "print(ret[0])\n",
    "print(ret)\n",
    "ret[0] = 65\n",
    "print(str(ret))"
   ]
  },
  {
   "cell_type": "code",
   "execution_count": 77,
   "metadata": {},
   "outputs": [
    {
     "name": "stdout",
     "output_type": "stream",
     "text": [
      "97\n",
      "22269\n",
      "A\n",
      "丟\n"
     ]
    }
   ],
   "source": [
    "print(ord('a'))\n",
    "print(ord('国'))\n",
    "print(chr(65))\n",
    "print(chr(19999))"
   ]
  },
  {
   "cell_type": "raw",
   "metadata": {},
   "source": [
    "for i in range(65536):\n",
    "    print(chr(i), end= \" \")"
   ]
  },
  {
   "cell_type": "code",
   "execution_count": 79,
   "metadata": {},
   "outputs": [
    {
     "name": "stdout",
     "output_type": "stream",
     "text": [
      "'@'\n"
     ]
    }
   ],
   "source": [
    "print(ascii(\"@\"))"
   ]
  },
  {
   "cell_type": "markdown",
   "metadata": {},
   "source": [
    "#### sort(), sorted()"
   ]
  },
  {
   "cell_type": "code",
   "execution_count": 85,
   "metadata": {},
   "outputs": [
    {
     "name": "stdout",
     "output_type": "stream",
     "text": [
      "[1, 5, 5, 6, 7, 9, 12, 13, 18]\n",
      "[1, 5, 5, 6, 7, 9, 12, 13, 18]\n",
      "[18, 13, 12, 9, 7, 6, 5, 5, 1]\n"
     ]
    }
   ],
   "source": [
    "lst = [5,7,6,12,1,13,9,18,5]\n",
    "lst.sort()\n",
    "print(lst)\n",
    "l1 = sorted(lst)\n",
    "print(l1)\n",
    "l2 = sorted(lst, reverse = True)\n",
    "print(l2)"
   ]
  },
  {
   "cell_type": "code",
   "execution_count": 86,
   "metadata": {},
   "outputs": [
    {
     "name": "stdout",
     "output_type": "stream",
     "text": [
      "['one', 'two', 'six', 'four', 'five', 'three', 'seven', 'eight']\n"
     ]
    }
   ],
   "source": [
    "lst = ['one', 'two', 'three', 'four', 'five', 'six', 'seven', 'eight']\n",
    "def f(s):\n",
    "    return len(s)\n",
    "\n",
    "l3 = sorted(lst, key=f, )\n",
    "print(l3)"
   ]
  },
  {
   "cell_type": "code",
   "execution_count": 88,
   "metadata": {},
   "outputs": [
    {
     "name": "stdout",
     "output_type": "stream",
     "text": [
      "True\n",
      "True\n"
     ]
    }
   ],
   "source": [
    "print(all([1, 'hello', True, 9.9]))     # all of the list element is True, the result is True\n",
    "print(any([0,0,0, False, 1, np.NaN]))   # any one of the list element is True, the result is True"
   ]
  },
  {
   "cell_type": "code",
   "execution_count": 94,
   "metadata": {},
   "outputs": [
    {
     "name": "stdout",
     "output_type": "stream",
     "text": [
      "<filter object at 0x000001C0371CE308>\n",
      "[1, 3, 5, 7, 9]\n"
     ]
    }
   ],
   "source": [
    "lst = [1,2,3,4,5,6,7,8,9,10]\n",
    "def func(s):\n",
    "    return  s % 2 == 1\n",
    "\n",
    "l4 = filter(func, lst)\n",
    "print(l4)\n",
    "print(list(l4))"
   ]
  },
  {
   "cell_type": "code",
   "execution_count": 100,
   "metadata": {},
   "outputs": [
    {
     "name": "stdout",
     "output_type": "stream",
     "text": [
      "[1, 2, 3, 4, 5, 6, 7, 8, 9]\n"
     ]
    }
   ],
   "source": [
    "def func(s):\n",
    "    return s\n",
    "\n",
    "lst = [1,2,3,4,5,6,7,8,9]\n",
    "it = map(func, lst)\n",
    "print(list(it))"
   ]
  },
  {
   "cell_type": "code",
   "execution_count": null,
   "metadata": {},
   "outputs": [],
   "source": []
  }
 ],
 "metadata": {
  "kernelspec": {
   "display_name": "Python 3",
   "language": "python",
   "name": "python3"
  },
  "language_info": {
   "codemirror_mode": {
    "name": "ipython",
    "version": 3
   },
   "file_extension": ".py",
   "mimetype": "text/x-python",
   "name": "python",
   "nbconvert_exporter": "python",
   "pygments_lexer": "ipython3",
   "version": "3.7.7"
  },
  "toc": {
   "base_numbering": 1,
   "nav_menu": {},
   "number_sections": true,
   "sideBar": true,
   "skip_h1_title": false,
   "title_cell": "Table of Contents",
   "title_sidebar": "Contents",
   "toc_cell": false,
   "toc_position": {},
   "toc_section_display": true,
   "toc_window_display": false
  }
 },
 "nbformat": 4,
 "nbformat_minor": 4
}
