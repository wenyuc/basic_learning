{
 "cells": [
  {
   "cell_type": "markdown",
   "metadata": {},
   "source": [
    "#### Install Torch\n",
    "\n",
    "https://pytorch-geometric.readthedocs.io/en/latest/notes/installation.html\n",
    "\n",
    "##### On Windows\n",
    "cd c:\\work2\\pytorch\n",
    "\n",
    "pip install torch-1.8.1+cpu-cp38-cp38-win_amd64.whl\n",
    "\n",
    "pip install torchvision-0.9.1+cpu-cp38-cp38-win_amd64.whl\n",
    "\n",
    "Go to \n",
    "https://pytorch-geometric.com/whl/torch-\\${TORCH\\}+${CUDA}.html\n",
    "\n",
    "where \\${CUDA} and \\${TORCH} should be replaced by your specific CUDA version (cpu, cu92, cu101, cu102, cu110, cu111) and PyTorch version (1.4.0, 1.5.0, 1.6.0, 1.7.0, 1.8.0), respectively. For example, for PyTorch 1.8.0/1.8.1 and CUDA 11.1, type:\n",
    "\n",
    "> pip install torch-scatter -f https://pytorch-geometric.com/whl/torch-1.8.0+cu111.html\n",
    "\n",
    ">pip install torch-sparse -f https://pytorch-geometric.com/whl/torch-1.8.0+cu111.html\n",
    "\n",
    ">pip install torch-cluster -f https://pytorch-geometric.com/whl/torch-1.8.0+cu111.html\n",
    "\n",
    ">pip install torch-spline-conv -f https://pytorch-geometric.com/whl/torch-1.8.0+cu111.html\n",
    "\n",
    ">pip install torch-geometric\n",
    "\n",
    "download\n",
    "\n",
    "torch_cluster, torch_scatter, torch_sparse, torch_spline_conv whl\n",
    "\n",
    "install by\n",
    "\n",
    "pip install ./\\<whl file name> \n",
    "\n",
    "##### On MacOS\n",
    "\n",
    "Directly,\n",
    ">pip install torch-scatter\n",
    "\n",
    ">pip install torch-sparse\n",
    "\n",
    ">pip install torch-cluster\n",
    "\n",
    ">pip install torch-spline-conv\n",
    "\n",
    ">pip install torch-geometric"
   ]
  },
  {
   "cell_type": "code",
   "execution_count": 1,
   "metadata": {},
   "outputs": [
    {
     "name": "stdout",
     "output_type": "stream",
     "text": [
      "Python 3.8.5\n",
      "6.1.4\n",
      "2.2.6\n"
     ]
    }
   ],
   "source": [
    "!python --version\n",
    "!jupyter notebook --version\n",
    "!jupyter lab --version"
   ]
  },
  {
   "cell_type": "code",
   "execution_count": 2,
   "metadata": {},
   "outputs": [],
   "source": [
    "import torch\n",
    "import torch_cluster\n",
    "import torch_geometric\n",
    "import torch_scatter\n",
    "import torch_sparse\n",
    "import torch_spline_conv\n",
    "import torchvision"
   ]
  },
  {
   "cell_type": "code",
   "execution_count": 4,
   "metadata": {},
   "outputs": [
    {
     "name": "stdout",
     "output_type": "stream",
     "text": [
      "torch version:{1.8.1}\n",
      "torchvision version: {0.9.1}\n",
      "torch_cluster version: {1.5.9}\n",
      "torch_scatter version: {2.0.7}\n",
      "torch_sparse version: {0.6.9}\n",
      "torch_spline_conv version: {1.2.1}\n",
      "torch_geometric version:{1.7.0}\n"
     ]
    }
   ],
   "source": [
    "print(\"torch version:{%s}\"%torch.__version__)\n",
    "print(\"torchvision version: {%s}\"%torchvision.__version__)\n",
    "print(\"torch_cluster version: {%s}\"%torch_cluster.__version__)\n",
    "print(\"torch_scatter version: {%s}\"%torch_scatter.__version__)\n",
    "print(\"torch_sparse version: {%s}\"%torch_sparse.__version__)\n",
    "print(\"torch_spline_conv version: {%s}\"%torch_spline_conv.__version__)\n",
    "print(\"torch_geometric version:{%s}\"%torch_geometric.__version__)"
   ]
  },
  {
   "cell_type": "code",
   "execution_count": 5,
   "metadata": {},
   "outputs": [],
   "source": [
    "from torch_geometric.datasets import KarateClub"
   ]
  },
  {
   "cell_type": "code",
   "execution_count": null,
   "metadata": {},
   "outputs": [],
   "source": []
  }
 ],
 "metadata": {
  "kernelspec": {
   "display_name": "Python 3",
   "language": "python",
   "name": "python3"
  },
  "language_info": {
   "codemirror_mode": {
    "name": "ipython",
    "version": 3
   },
   "file_extension": ".py",
   "mimetype": "text/x-python",
   "name": "python",
   "nbconvert_exporter": "python",
   "pygments_lexer": "ipython3",
   "version": "3.8.5"
  },
  "toc": {
   "base_numbering": 1,
   "nav_menu": {},
   "number_sections": true,
   "sideBar": true,
   "skip_h1_title": false,
   "title_cell": "Table of Contents",
   "title_sidebar": "Contents",
   "toc_cell": false,
   "toc_position": {},
   "toc_section_display": true,
   "toc_window_display": false
  }
 },
 "nbformat": 4,
 "nbformat_minor": 4
}
