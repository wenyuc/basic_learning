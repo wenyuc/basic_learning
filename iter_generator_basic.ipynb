{
 "cells": [
  {
   "cell_type": "code",
   "execution_count": 1,
   "metadata": {},
   "outputs": [],
   "source": [
    "from IPython.core.interactiveshell import InteractiveShell\n",
    "InteractiveShell.ast_node_interactivity = \"all\""
   ]
  },
  {
   "cell_type": "markdown",
   "metadata": {},
   "source": [
    "### 通过yield创建生成器对象"
   ]
  },
  {
   "cell_type": "code",
   "execution_count": 2,
   "metadata": {},
   "outputs": [],
   "source": [
    "def fib(max):\n",
    "    n, a, b = 0, 0, 1\n",
    "    print('0')\n",
    "    while n < max:\n",
    "        yield b\n",
    "        a, b = b, a+b\n",
    "\n",
    "        n += 1"
   ]
  },
  {
   "cell_type": "markdown",
   "metadata": {},
   "source": [
    "如果函数包含yield，则这个函数是一个生成器，\n",
    "\n",
    "当生成器对象每次调用next()时，遇到yield关键字会中断执行，\n",
    "\n",
    "当下一次调用next()，会从中断出开始执行。"
   ]
  },
  {
   "cell_type": "code",
   "execution_count": 7,
   "metadata": {},
   "outputs": [],
   "source": [
    "nums = fib(10)"
   ]
  },
  {
   "cell_type": "code",
   "execution_count": 12,
   "metadata": {},
   "outputs": [
    {
     "data": {
      "text/plain": [
       "5"
      ]
     },
     "execution_count": 12,
     "metadata": {},
     "output_type": "execute_result"
    }
   ],
   "source": [
    "next(nums)\n"
   ]
  },
  {
   "cell_type": "markdown",
   "metadata": {},
   "source": [
    "### 通过Generator Expression()创建生成器对象"
   ]
  },
  {
   "cell_type": "code",
   "execution_count": 19,
   "metadata": {},
   "outputs": [
    {
     "name": "stdout",
     "output_type": "stream",
     "text": [
      "0\n",
      "1\n",
      "2\n",
      "3\n",
      "4\n",
      "5\n",
      "6\n",
      "7\n",
      "8\n",
      "9\n"
     ]
    }
   ],
   "source": [
    "ge = (x for x in range(10))\n",
    "\n",
    "while True:\n",
    "    try:\n",
    "        print(next(ge))\n",
    "    except StopIteration:\n",
    "        break"
   ]
  },
  {
   "cell_type": "markdown",
   "metadata": {},
   "source": [
    "### 可迭代对象 和 迭代器对象"
   ]
  },
  {
   "cell_type": "markdown",
   "metadata": {},
   "source": [
    "python中集合的数据类型有列表（list），元组（tuple），字典（dict），集合（set），字符串（str）等，这些都是**可迭代的对象（Iterable）**，必须通过python内置方法iter（）方法将这些可迭代的对象转化成**迭代器对象**，进而可以使用for循环进行遍历。下面通过isinstance（）方法判断其具体的类型。"
   ]
  },
  {
   "cell_type": "code",
   "execution_count": 17,
   "metadata": {},
   "outputs": [
    {
     "name": "stdout",
     "output_type": "stream",
     "text": [
      "True True True True\n",
      "False False False False\n",
      "True True True True\n"
     ]
    }
   ],
   "source": [
    "from collections.abc import Iterable\n",
    "from collections.abc import Iterator\n",
    "\n",
    "boo = isinstance([], Iterable)\n",
    "boo1 = isinstance((), Iterable)\n",
    "boo2 = isinstance({}, Iterable)\n",
    "boo3 = isinstance('string', Iterable)\n",
    "print(boo, boo1, boo2, boo3)\n",
    "\n",
    "bo = isinstance([], Iterator)\n",
    "bo1 = isinstance((), Iterator)\n",
    "bo2 = isinstance({}, Iterator)\n",
    "bo3 = isinstance('string', Iterator)\n",
    "print(bo, bo1, bo2, bo3)\n",
    "\n",
    "b = isinstance(iter([]), Iterator)\n",
    "b1 = isinstance(iter(()), Iterator)\n",
    "b2 = isinstance(iter({}), Iterator)\n",
    "b3 = isinstance(iter('string'), Iterator)\n",
    "print(b, b1, b2, b3)"
   ]
  },
  {
   "cell_type": "code",
   "execution_count": 18,
   "metadata": {},
   "outputs": [
    {
     "name": "stdout",
     "output_type": "stream",
     "text": [
      "1\n",
      "2\n",
      "3\n",
      "4\n",
      "5\n"
     ]
    }
   ],
   "source": [
    "nums = [1,2,3,4,5]\n",
    "nums_iter = iter(nums)\n",
    "\n",
    "while True:\n",
    "    try:\n",
    "        print(next(nums_iter))\n",
    "    except StopIteration:\n",
    "        break"
   ]
  },
  {
   "cell_type": "markdown",
   "metadata": {},
   "source": [
    "**生成器都是迭代器，但迭代器不一定是生成器**"
   ]
  },
  {
   "cell_type": "markdown",
   "metadata": {},
   "source": [
    "### Iterator\n",
    "\n",
    "Iterator 是Python 中用于 for in 的一种类型，如果要将对象实现为Iterator，该对象需要实现两个魔法方法__iter__ 和__next__。\n",
    "\n",
    "**\\_\\_iter\\_\\_**\n",
    "该方法在Iterator 初始化的时候被调用，用于返回一个可以迭代的对象，该对象需要实现__next__方法。\n",
    "\n",
    "**\\_\\_next\\_\\_**\n",
    "该方法每次应该返回迭代的下一个值，并且在迭代结束时，抛出异常 StopIteration 表示迭代结束。"
   ]
  },
  {
   "cell_type": "code",
   "execution_count": 20,
   "metadata": {},
   "outputs": [
    {
     "name": "stdout",
     "output_type": "stream",
     "text": [
      "1\n",
      "1\n",
      "2\n",
      "3\n",
      "5\n",
      "8\n",
      "13\n",
      "21\n",
      "34\n",
      "55\n",
      "89\n"
     ]
    }
   ],
   "source": [
    "class Fib:\n",
    "    def __init__(self, lim: int = 100):\n",
    "        self.pre_num = 0\n",
    "        self.cur_num = 1\n",
    "        self.lim = lim\n",
    "\n",
    "    def __iter__(self):\n",
    "        return self\n",
    "\n",
    "    def __next__(self):\n",
    "        self.pre_num, self.cur_num = self.cur_num, self.cur_num + self.pre_num\n",
    "        if self.pre_num > self.lim:\n",
    "            raise StopIteration\n",
    "        return self.pre_num\n",
    "\n",
    "\n",
    "fib = Fib()\n",
    "for each in fib:\n",
    "    print(each)\n"
   ]
  },
  {
   "cell_type": "markdown",
   "metadata": {},
   "source": [
    "### Generator\n",
    "\n",
    "#### Generator function\n",
    "函数体内包含有 yield 关键字的函数将被视为 generator function，当被调用next()要返回一个结果时，使用 yield 而不是 return。此时，函数将会被Python Frame挂起，并将返回前的状态保存下来。等下一次该函数再被next()调用时，Frame将恢复挂起的状态并继续执行。"
   ]
  },
  {
   "cell_type": "code",
   "execution_count": 21,
   "metadata": {},
   "outputs": [],
   "source": [
    "def fib(limit):\n",
    "    a, b = 0, 1\n",
    "    while a < limit:\n",
    "        yield a\n",
    "        a, b = b, a + b"
   ]
  },
  {
   "cell_type": "code",
   "execution_count": 22,
   "metadata": {},
   "outputs": [
    {
     "name": "stdout",
     "output_type": "stream",
     "text": [
      "0\n",
      "1\n",
      "1\n",
      "2\n",
      "3\n",
      "5\n",
      "8\n",
      "13\n",
      "21\n",
      "34\n",
      "55\n",
      "89\n"
     ]
    }
   ],
   "source": [
    "# 当有如下执行语句时，generator function 的返回值不是结果，而是一个generator 对象。\n",
    "f = fib(100)\n",
    "for each in f:\n",
    "    print(each)"
   ]
  },
  {
   "cell_type": "code",
   "execution_count": null,
   "metadata": {},
   "outputs": [],
   "source": []
  }
 ],
 "metadata": {
  "kernelspec": {
   "display_name": "Python 3",
   "language": "python",
   "name": "python3"
  },
  "language_info": {
   "codemirror_mode": {
    "name": "ipython",
    "version": 3
   },
   "file_extension": ".py",
   "mimetype": "text/x-python",
   "name": "python",
   "nbconvert_exporter": "python",
   "pygments_lexer": "ipython3",
   "version": "3.8.5"
  },
  "toc": {
   "base_numbering": 1,
   "nav_menu": {},
   "number_sections": true,
   "sideBar": true,
   "skip_h1_title": false,
   "title_cell": "Table of Contents",
   "title_sidebar": "Contents",
   "toc_cell": false,
   "toc_position": {},
   "toc_section_display": true,
   "toc_window_display": false
  }
 },
 "nbformat": 4,
 "nbformat_minor": 4
}
