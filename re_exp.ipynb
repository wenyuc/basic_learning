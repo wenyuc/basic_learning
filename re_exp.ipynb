{
 "cells": [
  {
   "cell_type": "markdown",
   "metadata": {},
   "source": [
    "### 操作符（元字符）、特殊字符和修饰符\n",
    "\n",
    "将元字符再细化为**7个普通元字符 + 4个常用量化符**\n",
    "\n",
    "#### 7个普通元字符\n",
    "\n",
    "| 元字符| 含义|\n",
    "|---|---|\n",
    "|.|点号，可以匹配（除了换行符以外的）任意单个字符|\n",
    "|\\[\\]|方括号，可以匹配括号内的任意字符，括号中的每个字符是or的含义|\n",
    "|()|组，可以匹配括号内的表达式，括号中的每个字符是and的含义|\n",
    "|^|乘方符号，表示以该符号后的字符开头|\n",
    "|$|表示以该符号前的字符结尾|\n",
    "|\\||表示匹配符号前或符号后的字符|\n",
    "|\\\\|转义字符，可以让某些符号表示特殊含义|\n",
    "\n",
    "\n",
    "#### 4个常用量化符\n",
    "\n",
    "所谓“量化符”，指的是将紧挨着量化符**前面**的那个字符匹配0次，1次或者多次。\n",
    "\n",
    "|元字符|含义|表达式|\n",
    "|---|---|---|\n",
    "|?|前面紧挨着的字符，最多匹配一次| 0<=x<=1|\n",
    "|*|前面紧挨着的字符，匹配0次或多次| x>=0 |\n",
    "|+|前面紧挨着的字符，匹配1次或多次| x>=1|\n",
    "|{n}|前面紧挨着的字符，正好匹配n次| x=n|\n",
    "|{n,}|前面紧挨着的字符，至少匹配n次| x>=n|\n",
    "|{n,m}|前面紧挨着的字符，至少匹配n次,至多匹配m次| n<=x<=m|\n",
    "\n",
    "#### 6个特殊符号\n",
    "\n",
    "所谓“特殊符号”，指的是由转移符号加某些字母组合而成，具有特殊意义的特殊字符。\n",
    "\n",
    "| 元字符| 含义|等价于|\n",
    "|---|---|---|\n",
    "|\\d|匹配一个数字字符|[\\0-9]|\n",
    "|\\D|匹配一个非数字字符|[^0-9]|\n",
    "|\\s|匹配任何空白字符，包括空格、制表符、换页符等等|[\\f\\n\\r\\t\\v]|\n",
    "|\\S|匹配任何非空白字符，包括空格、制表符、换页符等等|[^\\f\\n\\r\\t\\v]|\n",
    "|\\w|匹配包括下划线的任何单词字符|[A-Za-z0-9_]|\n",
    "|\\w|匹配任何非单词字符|[^A-Za-z0-9_]|\n",
    "\n",
    "#### 3个修饰符\n",
    "\n",
    "| 元字符| 含义|\n",
    "|---|---|\n",
    "|re.l|使匹配对大小写不敏感|\n",
    "|re.M|多行匹配，影响^和$|\n",
    "|re.S|使 . 匹配包括换行在内的所有字符|\n",
    "\n",
    "#### 6个函数\n",
    "\n",
    "- match() ： **匹配字符串的开头，一旦匹配到具体值，就立即返回，不再往后匹配。** 如果开头匹配不上，则返回None;\n",
    "- search() : 扫描整个字符串，匹配后立刻返回，**不再往后面匹配**；\n",
    "- findall() : 扫描整个字符串，以列表形式返回所有的匹配值；\n",
    "- compile() : 将字符串编译成正则表达式对象，供match(), search() and findall()函数使用；\n",
    "- sub() : 扫描整个字符串，用于替换字符串的某些值；\n",
    "- split() : 扫描整个字符串，按照指定分隔符切分字符串。"
   ]
  },
  {
   "cell_type": "code",
   "execution_count": 1,
   "metadata": {},
   "outputs": [],
   "source": [
    "from IPython.core.interactiveshell import InteractiveShell\n",
    "InteractiveShell.ast_node_interactivity = \"all\""
   ]
  },
  {
   "cell_type": "code",
   "execution_count": 2,
   "metadata": {},
   "outputs": [
    {
     "data": {
      "text/plain": [
       "<re.Match object; span=(0, 1), match='a'>"
      ]
     },
     "execution_count": 2,
     "metadata": {},
     "output_type": "execute_result"
    },
    {
     "data": {
      "text/plain": [
       "'a'"
      ]
     },
     "execution_count": 2,
     "metadata": {},
     "output_type": "execute_result"
    },
    {
     "ename": "AttributeError",
     "evalue": "'NoneType' object has no attribute 'group'",
     "output_type": "error",
     "traceback": [
      "\u001b[1;31m---------------------------------------------------------------------------\u001b[0m",
      "\u001b[1;31mAttributeError\u001b[0m                            Traceback (most recent call last)",
      "\u001b[1;32m<ipython-input-2-03ed8a85f1ca>\u001b[0m in \u001b[0;36m<module>\u001b[1;34m\u001b[0m\n\u001b[0;32m     11\u001b[0m \u001b[1;31m# 只从字符串开头匹配\u001b[0m\u001b[1;33m\u001b[0m\u001b[1;33m\u001b[0m\u001b[1;33m\u001b[0m\u001b[0m\n\u001b[0;32m     12\u001b[0m \u001b[0mr2\u001b[0m \u001b[1;33m=\u001b[0m \u001b[0mre\u001b[0m\u001b[1;33m.\u001b[0m\u001b[0mmatch\u001b[0m\u001b[1;33m(\u001b[0m\u001b[1;34m'b'\u001b[0m\u001b[1;33m,\u001b[0m \u001b[0ms1\u001b[0m\u001b[1;33m)\u001b[0m\u001b[1;33m\u001b[0m\u001b[1;33m\u001b[0m\u001b[0m\n\u001b[1;32m---> 13\u001b[1;33m \u001b[0mr2\u001b[0m\u001b[1;33m.\u001b[0m\u001b[0mgroup\u001b[0m\u001b[1;33m(\u001b[0m\u001b[1;33m)\u001b[0m\u001b[1;33m\u001b[0m\u001b[1;33m\u001b[0m\u001b[0m\n\u001b[0m",
      "\u001b[1;31mAttributeError\u001b[0m: 'NoneType' object has no attribute 'group'"
     ]
    }
   ],
   "source": [
    "import re\n",
    "\n",
    "# match(pattern, string, flag)\n",
    "s1 = \"ab陈cde同fghi学\"\n",
    "re.match('a',s1)\n",
    "\n",
    "# 返回的使一个match对象，调用对象的group()函数，获取具体值\n",
    "r1 = re.match('a', s1)\n",
    "r1.group()\n",
    "\n",
    "# 只从字符串开头匹配\n",
    "r2 = re.match('b', s1)\n",
    "r2.group()"
   ]
  },
  {
   "cell_type": "code",
   "execution_count": 11,
   "metadata": {},
   "outputs": [
    {
     "data": {
      "text/plain": [
       "<re.Match object; span=(0, 1), match='a'>"
      ]
     },
     "execution_count": 11,
     "metadata": {},
     "output_type": "execute_result"
    },
    {
     "data": {
      "text/plain": [
       "'a'"
      ]
     },
     "execution_count": 11,
     "metadata": {},
     "output_type": "execute_result"
    },
    {
     "data": {
      "text/plain": [
       "'b'"
      ]
     },
     "execution_count": 11,
     "metadata": {},
     "output_type": "execute_result"
    },
    {
     "ename": "AttributeError",
     "evalue": "'NoneType' object has no attribute 'group'",
     "output_type": "error",
     "traceback": [
      "\u001b[1;31m---------------------------------------------------------------------------\u001b[0m",
      "\u001b[1;31mAttributeError\u001b[0m                            Traceback (most recent call last)",
      "\u001b[1;32m<ipython-input-11-be4aca8c99be>\u001b[0m in \u001b[0;36m<module>\u001b[1;34m\u001b[0m\n\u001b[0;32m     16\u001b[0m \u001b[1;31m# 一旦首次匹配上，就返回结果，而不在往后匹配，如果都匹配不上，返回错误\u001b[0m\u001b[1;33m\u001b[0m\u001b[1;33m\u001b[0m\u001b[1;33m\u001b[0m\u001b[0m\n\u001b[0;32m     17\u001b[0m \u001b[0mr3\u001b[0m \u001b[1;33m=\u001b[0m \u001b[0mre\u001b[0m\u001b[1;33m.\u001b[0m\u001b[0msearch\u001b[0m\u001b[1;33m(\u001b[0m\u001b[1;34m'm'\u001b[0m\u001b[1;33m,\u001b[0m\u001b[0ms1\u001b[0m\u001b[1;33m)\u001b[0m\u001b[1;33m\u001b[0m\u001b[1;33m\u001b[0m\u001b[0m\n\u001b[1;32m---> 18\u001b[1;33m \u001b[0mr3\u001b[0m\u001b[1;33m.\u001b[0m\u001b[0mgroup\u001b[0m\u001b[1;33m(\u001b[0m\u001b[1;33m)\u001b[0m\u001b[1;33m\u001b[0m\u001b[1;33m\u001b[0m\u001b[0m\n\u001b[0m",
      "\u001b[1;31mAttributeError\u001b[0m: 'NoneType' object has no attribute 'group'"
     ]
    }
   ],
   "source": [
    "# search(pattern, string, flag)\n",
    "s1 = \"ab陈cde同fghi学\"\n",
    "re.search('a',s1)\n",
    "\n",
    "r1 = re.search('a',s1)\n",
    "r1.group()\n",
    "\n",
    "r2 = re.search('b',s1)\n",
    "r2.group()\n",
    "\n",
    "# 不同点：\n",
    "# match()函数如果开头匹配不上，就无法匹配。\n",
    "# search()函数是扫描整个字符串，只要能匹配上，就有结果\n",
    "\n",
    "# 相同点：\n",
    "# 一旦首次匹配上，就返回结果，而不在往后匹配，如果都匹配不上，返回错误\n",
    "r3 = re.search('m',s1)\n",
    "r3.group()"
   ]
  },
  {
   "cell_type": "code",
   "execution_count": 8,
   "metadata": {},
   "outputs": [
    {
     "data": {
      "text/plain": [
       "['a', 'a', 'a']"
      ]
     },
     "execution_count": 8,
     "metadata": {},
     "output_type": "execute_result"
    },
    {
     "data": {
      "text/plain": [
       "['b', 'b']"
      ]
     },
     "execution_count": 8,
     "metadata": {},
     "output_type": "execute_result"
    },
    {
     "data": {
      "text/plain": [
       "['a', 'b', 'a', 'b', 'a']"
      ]
     },
     "execution_count": 8,
     "metadata": {},
     "output_type": "execute_result"
    },
    {
     "data": {
      "text/plain": [
       "['a', 'b', 'a', 'b', 'a']"
      ]
     },
     "execution_count": 8,
     "metadata": {},
     "output_type": "execute_result"
    },
    {
     "data": {
      "text/plain": [
       "[]"
      ]
     },
     "execution_count": 8,
     "metadata": {},
     "output_type": "execute_result"
    }
   ],
   "source": [
    "# findall(pattern, repl, string, count = 0, flags = 0)\n",
    "# 直接返回所有匹配对象组成的列表\n",
    "# 没有匹配上，则返回一个空列表， 不会报错\n",
    "\n",
    "s1 = \"ab陈cae同fbha学\"\n",
    "re.findall('a', s1)\n",
    "re.findall('b', s1)\n",
    "re.findall('[ab]',s1)\n",
    "re.findall('[a|b]',s1)\n",
    "re.findall('[m]',s1)"
   ]
  },
  {
   "cell_type": "code",
   "execution_count": 10,
   "metadata": {},
   "outputs": [],
   "source": [
    "html = \"\"\"\n",
    "<ul id= “ul1\">\n",
    "  <li> first </li>\n",
    "  <li> second </li>\n",
    "  <li> third </li>\n",
    "</ul>\n",
    "\n",
    "<ul id= “ul2\">\n",
    "  <li> alpha </li>\n",
    "  <li> beta </li>\n",
    "  <li> gamma </li>\n",
    "</ul>\n",
    "\n",
    "<a href = \"http://www.google.com\" title =”google\">Google</a>\n",
    "<a href = \"http://www.tipdm.com\" title =”google\">Tipdm</a>\n",
    "\"\"\""
   ]
  },
  {
   "cell_type": "code",
   "execution_count": 12,
   "metadata": {},
   "outputs": [
    {
     "data": {
      "text/plain": [
       "[' first ', ' second ', ' third ', ' alpha ', ' beta ', ' gamma ']"
      ]
     },
     "execution_count": 12,
     "metadata": {},
     "output_type": "execute_result"
    },
    {
     "data": {
      "text/plain": [
       "['http://www.google.com', 'http://www.tipdm.com']"
      ]
     },
     "execution_count": 12,
     "metadata": {},
     "output_type": "execute_result"
    }
   ],
   "source": [
    "# get li label\n",
    "re.findall(\"<li>(.*?)</li>\",html)\n",
    "\n",
    "# get href label\n",
    "re.findall('<a href = \"(.*?)\"', html)"
   ]
  },
  {
   "cell_type": "markdown",
   "metadata": {},
   "source": [
    "#### 贪婪匹配与非贪婪匹配\n",
    "\n",
    "- .\\* 表示贪婪匹配, 尽可能匹配更多的内容；\n",
    "\n",
    "- .\\*? 表示非贪婪匹配，尽可能少匹配内容；\n",
    "\n",
    "- . 可以匹配除了换行符之外的所有字符；\n",
    "\n",
    "- \\* 表示匹配前面的字符无限次；\n",
    "\n",
    "- ？表示前面紧挨的元素，最多匹配一次"
   ]
  },
  {
   "cell_type": "code",
   "execution_count": 17,
   "metadata": {},
   "outputs": [
    {
     "data": {
      "text/plain": [
       "['123b4563b789b']"
      ]
     },
     "execution_count": 17,
     "metadata": {},
     "output_type": "execute_result"
    },
    {
     "data": {
      "text/plain": [
       "['12']"
      ]
     },
     "execution_count": 17,
     "metadata": {},
     "output_type": "execute_result"
    }
   ],
   "source": [
    "s2 = \"a123b4563b789b3\"\n",
    "re.findall('a(.*)3', s2)\n",
    "re.findall('a(.*?)3',s2)"
   ]
  },
  {
   "cell_type": "code",
   "execution_count": 23,
   "metadata": {},
   "outputs": [
    {
     "data": {
      "text/plain": [
       "re.Pattern"
      ]
     },
     "execution_count": 23,
     "metadata": {},
     "output_type": "execute_result"
    },
    {
     "data": {
      "text/plain": [
       "['12', '34', '56', '78', '90']"
      ]
     },
     "execution_count": 23,
     "metadata": {},
     "output_type": "execute_result"
    },
    {
     "data": {
      "text/plain": [
       "['2', '34', '56', '78', '90']"
      ]
     },
     "execution_count": 23,
     "metadata": {},
     "output_type": "execute_result"
    },
    {
     "data": {
      "text/plain": [
       "['2', '3']"
      ]
     },
     "execution_count": 23,
     "metadata": {},
     "output_type": "execute_result"
    }
   ],
   "source": [
    "# compile(string)\n",
    "# 将字符串编译成正则表达式对象，供match(), search(), findall()使用\n",
    "\n",
    "type(re.compile(r'\\d+'))\n",
    "\n",
    "s3 = '12one34two56three78four90five'\n",
    "pattern = re.compile(r'\\d+')\n",
    "pattern.findall(s3)      # 扫描整个字符串\n",
    "pattern.findall(s3, 1)   # 下标1（含）开始，到结束\n",
    "pattern.findall(s3, 1,6) # 下标1（含）到下标6（不含）之间"
   ]
  },
  {
   "cell_type": "code",
   "execution_count": 28,
   "metadata": {},
   "outputs": [
    {
     "data": {
      "text/plain": [
       "'12字母34字母56字母78字母90字母11字母df'"
      ]
     },
     "execution_count": 28,
     "metadata": {},
     "output_type": "execute_result"
    },
    {
     "data": {
      "text/plain": [
       "'12字母34字母56three78four90five11eightdf'"
      ]
     },
     "execution_count": 28,
     "metadata": {},
     "output_type": "execute_result"
    },
    {
     "data": {
      "text/plain": [
       "'12字母34字母56字母78four90five11eightdf'"
      ]
     },
     "execution_count": 28,
     "metadata": {},
     "output_type": "execute_result"
    }
   ],
   "source": [
    "# sub(pattern, repl, string, count, flag)\n",
    "# pattern: regular expression\n",
    "# repl: 替换成的字符串\n",
    "# string: 待替换的字符串\n",
    "# count: 最大替换次数，默认 0 表示替换所有的匹配\n",
    "# flag: 修饰符\n",
    "\n",
    "# 将s3中英文字母全部替换为 字母 两字\n",
    "\n",
    "s3 = '12one34two56three78four90five11eightdf'\n",
    "re.sub('\\D{3,5}', '字母', s3)\n",
    "re.sub('\\D{3,5}', '字母', s3, 2)    # count=2, 只会替换前2个匹配\n",
    "re.sub('\\D{3,5}', '字母', s3, 3)"
   ]
  },
  {
   "cell_type": "code",
   "execution_count": 34,
   "metadata": {},
   "outputs": [
    {
     "data": {
      "text/plain": [
       "['136', '7843', '2693', '6666']"
      ]
     },
     "execution_count": 34,
     "metadata": {},
     "output_type": "execute_result"
    },
    {
     "data": {
      "text/plain": [
       "['136', '7843--2693---6666']"
      ]
     },
     "execution_count": 34,
     "metadata": {},
     "output_type": "execute_result"
    }
   ],
   "source": [
    "# split(pattern, string, maxsplit, flags)\n",
    "# pattern: regular expression\n",
    "# string: 待分割的字符串\n",
    "# maxsplit: 最大替换次数，默认 0 表示不限制分割次数\n",
    "# flag: 修饰符\n",
    "# 返回是分割的列表\n",
    "\n",
    "s4 = '136-7843--2693---6666'\n",
    "re.split('\\D+', s4)\n",
    "re.split('\\D+', s4,1)\n"
   ]
  },
  {
   "cell_type": "code",
   "execution_count": null,
   "metadata": {},
   "outputs": [],
   "source": []
  },
  {
   "cell_type": "markdown",
   "metadata": {},
   "source": [
    "**re.compile** 用于编译正则表达式，生成一个正则表达式（Pattern）对象；\n",
    "\n",
    "**re.findall** 用于在字符串中找到正则表达式所匹配的所有子串，并返回一个列表，如果没有找到匹配的，则返回空列表。"
   ]
  },
  {
   "cell_type": "code",
   "execution_count": 2,
   "metadata": {},
   "outputs": [],
   "source": [
    "import re"
   ]
  },
  {
   "cell_type": "markdown",
   "metadata": {},
   "source": [
    "#### 邮箱\n",
    "包含大小写字母，下划线，阿拉伯数字，点号，中划线\n",
    "表达式：\n",
    "    "
   ]
  },
  {
   "cell_type": "code",
   "execution_count": 33,
   "metadata": {},
   "outputs": [
    {
     "data": {
      "text/plain": [
       "['chenwenyu077@live.com',\n",
       " 'chen-wenyu@163.com',\n",
       " '2949613@qq.com',\n",
       " 'chenwenyu@uestc.edu',\n",
       " 'wenyu.chen@nokia-sbell.com']"
      ]
     },
     "execution_count": 33,
     "metadata": {},
     "output_type": "execute_result"
    }
   ],
   "source": [
    "pattern = re.compile(r\"[a-zA-Z0-9][\\w\\.-_]*[a-zA-Z0-9_-]+@[a-zA-Z0-9_-]+(?:\\.[a-zA-Z0-9_-]+)\")\n",
    "strs = \"my private mailbox is chenwenyu077@live.com,chen-wenyu@163.com,2949613@qq.com,chenwenyu@uestc.edu.cn business mailbox is wenyu.chen@nokia-sbell.com, please register\"\n",
    "results = pattern.findall(strs)\n",
    "results"
   ]
  },
  {
   "cell_type": "code",
   "execution_count": 47,
   "metadata": {},
   "outputs": [
    {
     "name": "stdout",
     "output_type": "stream",
     "text": [
      "('', '.c')\n",
      "('', '.c')\n",
      "('', '.c')\n",
      "('', '.e')\n"
     ]
    }
   ],
   "source": [
    "pattern = re.compile(r'[\\w]+(\\.[\\w]+)*@[\\w]+(\\.[\\w])+')\n",
    "strs = \"chenwenyu077@live.com chen-wenyu@163.com 2949613@qq.com chenwenyu@uestc.edu.cn wenyu.chen@nokia-sbell.com\"\n",
    "results = pattern.findall(strs)\n",
    "for result in results:\n",
    "    print(result)\n"
   ]
  },
  {
   "cell_type": "code",
   "execution_count": null,
   "metadata": {},
   "outputs": [],
   "source": []
  },
  {
   "cell_type": "code",
   "execution_count": null,
   "metadata": {},
   "outputs": [],
   "source": []
  },
  {
   "cell_type": "code",
   "execution_count": null,
   "metadata": {},
   "outputs": [],
   "source": []
  },
  {
   "cell_type": "code",
   "execution_count": 2,
   "metadata": {},
   "outputs": [
    {
     "data": {
      "text/plain": [
       "['陈', '文', '宇', '真', '帅']"
      ]
     },
     "execution_count": 2,
     "metadata": {},
     "output_type": "execute_result"
    }
   ],
   "source": [
    "# 除了换行符\\n,其他都匹配出来\n",
    "re.findall(r'.',\"陈文宇\\n真帅\")"
   ]
  },
  {
   "cell_type": "code",
   "execution_count": 3,
   "metadata": {},
   "outputs": [
    {
     "data": {
      "text/plain": [
       "['陈', '文', '宇', '\\n', '真', '帅']"
      ]
     },
     "execution_count": 3,
     "metadata": {},
     "output_type": "execute_result"
    }
   ],
   "source": [
    "# 加了条件，都匹配出来\n",
    "re.findall(r'.',\"陈文宇\\n真帅\",re.DOTALL)"
   ]
  },
  {
   "cell_type": "code",
   "execution_count": 4,
   "metadata": {},
   "outputs": [
    {
     "data": {
      "text/plain": [
       "['d9匹配c']"
      ]
     },
     "execution_count": 4,
     "metadata": {},
     "output_type": "execute_result"
    }
   ],
   "source": [
    "# 匹配'd...c',三个点表示中间三个字符\n",
    "re.findall(r'd...c','abd9匹配cdd')"
   ]
  },
  {
   "cell_type": "code",
   "execution_count": 5,
   "metadata": {},
   "outputs": [
    {
     "data": {
      "text/plain": [
       "['a', 'p', 't']"
      ]
     },
     "execution_count": 5,
     "metadata": {},
     "output_type": "execute_result"
    }
   ],
   "source": [
    "# 【】\n",
    "re.findall(r'[apt]', 'abcdefghijklmnopqrstuvwxyz')"
   ]
  },
  {
   "cell_type": "code",
   "execution_count": 6,
   "metadata": {},
   "outputs": [
    {
     "data": {
      "text/plain": [
       "['01', '22', '34', '45']"
      ]
     },
     "execution_count": 6,
     "metadata": {},
     "output_type": "execute_result"
    }
   ],
   "source": [
    "#[]表示范围\n",
    "re.findall(r'[0-5][0-9]','012234456789')"
   ]
  },
  {
   "cell_type": "code",
   "execution_count": 7,
   "metadata": {},
   "outputs": [],
   "source": [
    "# 特殊字符在集合中，失去它的特殊含义。[(+*)]只匹配这几个字符"
   ]
  },
  {
   "cell_type": "code",
   "execution_count": 8,
   "metadata": {},
   "outputs": [
    {
     "data": {
      "text/plain": [
       "['陈', '文', '宇', '真', '帅']"
      ]
     },
     "execution_count": 8,
     "metadata": {},
     "output_type": "execute_result"
    }
   ],
   "source": [
    "re.findall(r'[^TM]','陈文宇真TM帅')"
   ]
  },
  {
   "cell_type": "code",
   "execution_count": null,
   "metadata": {},
   "outputs": [],
   "source": []
  },
  {
   "cell_type": "code",
   "execution_count": null,
   "metadata": {},
   "outputs": [],
   "source": []
  },
  {
   "cell_type": "code",
   "execution_count": null,
   "metadata": {},
   "outputs": [],
   "source": []
  },
  {
   "cell_type": "code",
   "execution_count": null,
   "metadata": {},
   "outputs": [],
   "source": []
  },
  {
   "cell_type": "code",
   "execution_count": null,
   "metadata": {},
   "outputs": [],
   "source": []
  }
 ],
 "metadata": {
  "kernelspec": {
   "display_name": "Python 3",
   "language": "python",
   "name": "python3"
  },
  "language_info": {
   "codemirror_mode": {
    "name": "ipython",
    "version": 3
   },
   "file_extension": ".py",
   "mimetype": "text/x-python",
   "name": "python",
   "nbconvert_exporter": "python",
   "pygments_lexer": "ipython3",
   "version": "3.8.5"
  },
  "toc": {
   "base_numbering": 1,
   "nav_menu": {},
   "number_sections": true,
   "sideBar": true,
   "skip_h1_title": false,
   "title_cell": "Table of Contents",
   "title_sidebar": "Contents",
   "toc_cell": false,
   "toc_position": {},
   "toc_section_display": true,
   "toc_window_display": false
  }
 },
 "nbformat": 4,
 "nbformat_minor": 4
}
