{
 "cells": [
  {
   "cell_type": "markdown",
   "metadata": {},
   "source": [
    "#### pyxll package for excel + python\n",
    "\n",
    "In my WorkPC, there is a conda env \"py38_32bit\". The python is a 32-bit version in order to compatible with excel 32bit.\n",
    "\n",
    "The basic use of pyxll can refer:\n",
    "\n",
    "> https://mp.weixin.qq.com/s/_Tnfl3ZfdKoFPskregauaQ \n",
    "\n",
    "The PYXLL plugin is installed at:\n",
    "> C:\\Users\\wenyuc\\AppData\\Local\\Programs\\PyXLL\n",
    "\n",
    "I have written a simple script at ./source/my_pyfunc.py and a trial.xlsx to use it.\n",
    "\n",
    "On youtube, there are many useful videos for pyxll, for example:\n",
    "\n",
    "> https://www.youtube.com/watch?v=MqPr9DDs7Vg\n",
    "\n",
    "**To Do:**\n",
    "\n",
    "- non-free to use. **Have another free package to manipulate excel with python?**"
   ]
  },
  {
   "cell_type": "markdown",
   "metadata": {},
   "source": [
    "##### xlwings to be studied\n",
    "\n",
    "An example: https://mp.weixin.qq.com/s/-Wa0jnx59sm4_41G_757vQ"
   ]
  },
  {
   "cell_type": "markdown",
   "metadata": {},
   "source": [
    "#### axis in numpy and pandas\n",
    "In the basic_learning/numpy_pandas_axis.ipynb\n",
    "\n",
    "确实有些烧脑，多看一些代码中的例子"
   ]
  },
  {
   "cell_type": "markdown",
   "metadata": {},
   "source": [
    "#### axes in matplotlib\n",
    "In the basic_learning/visualization_intro.ipynb \n",
    "\n",
    "**To Do**\n",
    "\n",
    "- **安排日程系统学习画图**"
   ]
  },
  {
   "cell_type": "markdown",
   "metadata": {},
   "source": [
    "#### python, numpy中随机数的生成方法\n",
    "In the basic_learning/random_data_generation.ipynb\n"
   ]
  },
  {
   "cell_type": "markdown",
   "metadata": {},
   "source": [
    "#### Numpy Meshgrid \n",
    "In the basic_learning/numpy_meshgrid.ipynb\n",
    "\n",
    "**Pro**\n",
    "- **可用于画三维图形**"
   ]
  },
  {
   "cell_type": "markdown",
   "metadata": {},
   "source": [
    "#### pandas style presentation\n",
    "In the basic_learning/pandas_style.ipynb\n"
   ]
  },
  {
   "cell_type": "markdown",
   "metadata": {},
   "source": [
    "#### 数组中数的等距间隔和非等距间隔\n",
    "In the basic_learning/numpy_arr_spacing.ipynb\n",
    "\n",
    "**To Do:**\n",
    "\n",
    "- **如何用于画图中的坐标轴？**"
   ]
  },
  {
   "cell_type": "markdown",
   "metadata": {},
   "source": [
    "#### matplotlib 中坐标轴上的中文显示\n",
    "\n",
    "查看matplotlib与字体相关的配置文件"
   ]
  },
  {
   "cell_type": "code",
   "execution_count": 2,
   "metadata": {},
   "outputs": [
    {
     "name": "stdout",
     "output_type": "stream",
     "text": [
      "/Applications/anaconda3/envs/py38/lib/python3.8/site-packages/matplotlib/mpl-data/matplotlibrc\n"
     ]
    }
   ],
   "source": [
    "import matplotlib    \n",
    "print(matplotlib.matplotlib_fname())"
   ]
  },
  {
   "cell_type": "markdown",
   "metadata": {},
   "source": [
    "在路径./mpl-data/fonts/ttf 中将SimHei.ttf, Times New Roman.ttf文件拷贝过来\n",
    "在./mpl-data/matplotlibrc中\n",
    "> 以下几行的注释去掉\n",
    "\n",
    ">font.family         : sans-serif        \n",
    "font.sans-serif     : SimHei, Bitstream Vera Sans, Lucida Grande, Verdana, Geneva, Lucid, Arial, Helvetica, Avant Garde, sans-serif \n",
    "axes.unicode_minus，将True改为False，显示负号\n",
    "\n",
    "在Mac中，将/Users/wenyuc/.matplotlib 目录中的文件全部删掉\n",
    "\n",
    "重新启动jupyter notebook\n",
    "\n",
    "In basic_learning/matplotlib_intro.ipynb 中bar chart 部分\n",
    "\n",
    "**To Do:**\n",
    "- 为什么要restart all cells才能显示中文，而单独运行cell则还是乱码？"
   ]
  },
  {
   "cell_type": "markdown",
   "metadata": {},
   "source": [
    "#### matplotlib基本图形的绘制\n",
    "\n",
    "折线图、散点图、条形图、直方图、饼图、箱形图，以及subplots的画法\n",
    "https://mp.weixin.qq.com/s/0TVvWJ3QB5AQ-o-9ishXag\n",
    "\n",
    "In basic_learning/visualization_intro.ipynb\n",
    "\n",
    "##### echarts绘制折线曲线化并加渐层\n",
    "https://blog.csdn.net/Cousin__/article/details/110657115?utm_medium=distribute.pc_relevant.none-task-blog-2%7Edefault%7EBlogCommendFromMachineLearnPai2%7Edefault-2.control&depth_1-utm_source=distribute.pc_relevant.none-task-blog-2%7Edefault%7EBlogCommendFromMachineLearnPai2%7Edefault-2.control\n",
    "\n",
    "##### 人邮版数据可视化教程\n",
    "\n",
    "保存在百度云盘 我的资源/TP105_[2019]Python数据可视化\n",
    "\n",
    "代码、课件及视频保存在Mac ~wenyuc/Documents/tech/matplotlib\n",
    "\n",
    "该视频包含pyecharts的教程"
   ]
  },
  {
   "cell_type": "markdown",
   "metadata": {},
   "source": [
    "#### python collection\n",
    "https://mp.weixin.qq.com/s/QF49qpelBIKEJBM9EDCKEw"
   ]
  },
  {
   "cell_type": "markdown",
   "metadata": {},
   "source": [
    "#### 思维导图\n",
    "\n",
    "https://mp.weixin.qq.com/s/WdsxctkJtcRa8cmRkujnUQ"
   ]
  },
  {
   "cell_type": "markdown",
   "metadata": {},
   "source": [
    "#### 机器学习中的线性代数\n",
    "“Introduction to Linear Algebra for Applied Machine Learning with Python”\n",
    "\n",
    "机器学习的线性代数（Python 版）\n",
    "\n",
    "https://pabloinsente.github.io/intro-linear-algebra\n",
    "\n",
    "3blue1brown：线性代数的本质（视频）\n",
    "\n",
    "https://www.bilibili.com/video/BV1Ys411k7yQ\n",
    "\n",
    "Mathematics for Machine Learning（PDF电子书）\n",
    "\n",
    "https://mml-book.github.io/"
   ]
  },
  {
   "cell_type": "markdown",
   "metadata": {},
   "source": [
    "#### 统计学习方法 代码\n",
    "https://github.com/fengdu78/lihang-code\n"
   ]
  },
  {
   "cell_type": "markdown",
   "metadata": {},
   "source": [
    "#### 数据科学仓库\n",
    "\n",
    "https://github.com/fengdu78/Data-Science-Notes"
   ]
  },
  {
   "cell_type": "markdown",
   "metadata": {},
   "source": [
    "#### numpy 基本操作\n",
    "https://mp.weixin.qq.com/s/t-JvsF192d5Yj7LUabxC8w"
   ]
  },
  {
   "cell_type": "markdown",
   "metadata": {},
   "source": [
    "#### 向量之间的各种乘积，如点积，叉积，Hamadar 积\n",
    "\n",
    "In basic_learning/math/Vector Dot Product*"
   ]
  },
  {
   "cell_type": "markdown",
   "metadata": {},
   "source": [
    "#### 各种矩阵及矩阵的分解\n",
    "\n",
    "对称矩阵、逆矩阵、正交矩阵、正定矩阵等。\n",
    "\n",
    "In basic_learning/math/symmetric*"
   ]
  },
  {
   "cell_type": "markdown",
   "metadata": {},
   "source": [
    "#### ~数据分析资料~\n",
    "在百度云盘 我的资源/01数据分析资料\n",
    "\n",
    "**感觉质量不高**"
   ]
  },
  {
   "cell_type": "markdown",
   "metadata": {},
   "source": [
    "#### Pandas DataFrame 中关于时间的比较\n",
    "\n",
    "In basic_learning/pandas_filter_data.ipynb \n",
    "\n",
    "中对时间和日期的处理"
   ]
  },
  {
   "cell_type": "markdown",
   "metadata": {},
   "source": [
    "#### python range(), numpy arange() and numpy linspace()的区别\n",
    "\n",
    "https://blog.csdn.net/weixin_34080951/article/details/94566578?ops_request_misc=%257B%2522request%255Fid%2522%253A%2522162321440116780265465203%2522%252C%2522scm%2522%253A%252220140713.130102334.pc%255Fall.%2522%257D&request_id=162321440116780265465203&biz_id=0&utm_medium=distribute.pc_search_result.none-task-blog-2~all~first_rank_v2~rank_v29-2-94566578.pc_search_result_control_group&utm_term=python+range%28%29%E4%B8%8Enumpy.arange%E7%9A%84%E5%8C%BA%E5%88%AB&spm=1018.2226.3001.4187\n",
    "\n",
    "\n",
    "##### functools.reduce()的用法"
   ]
  },
  {
   "cell_type": "code",
   "execution_count": 13,
   "metadata": {},
   "outputs": [
    {
     "name": "stdout",
     "output_type": "stream",
     "text": [
      "6\n",
      "6\n",
      "6\n"
     ]
    }
   ],
   "source": [
    "from functools import reduce\n",
    "import operator as op\n",
    "import numpy as np\n",
    "a = reduce(op.mul, np.arange(1,4),1)\n",
    "b = reduce(op.mul, range(1,4),1)\n",
    "c = reduce(op.mul, list(range(1,4)),1)\n",
    "print(a)\n",
    "print(b)\n",
    "print(c)"
   ]
  },
  {
   "cell_type": "markdown",
   "metadata": {},
   "source": [
    "#### 13种概率分布\n",
    "\n",
    "In basic_learning/statistics/probability_distribution_13.ipynb\n",
    "\n",
    "包括Gamma，Beta函数"
   ]
  },
  {
   "cell_type": "markdown",
   "metadata": {},
   "source": [
    "#### 股市数据和图形化\n",
    "\n",
    "In src\\basic_learning\\financial_data.ipynb \n",
    "\n",
    "Baostock无需注册与付费。\n",
    "Tushare token in src\\basic_learning\\data\\tushare_token.txt\n",
    "\n",
    "最后关于plotly.express 绘制area图Y轴数据不对。"
   ]
  },
  {
   "cell_type": "markdown",
   "metadata": {},
   "source": [
    "#### python 枚举类\n",
    "from enum import Enum\n",
    "\n",
    "https://blog.csdn.net/sinat_38682860/article/details/108681726\n",
    "\n",
    "使用在 \\work2\\src\\basic_learning\\gnn\\Graph_basic.ipynb"
   ]
  },
  {
   "cell_type": "code",
   "execution_count": null,
   "metadata": {},
   "outputs": [],
   "source": []
  }
 ],
 "metadata": {
  "kernelspec": {
   "display_name": "Python 3",
   "language": "python",
   "name": "python3"
  },
  "language_info": {
   "codemirror_mode": {
    "name": "ipython",
    "version": 3
   },
   "file_extension": ".py",
   "mimetype": "text/x-python",
   "name": "python",
   "nbconvert_exporter": "python",
   "pygments_lexer": "ipython3",
   "version": "3.8.5"
  },
  "toc": {
   "base_numbering": 1,
   "nav_menu": {},
   "number_sections": true,
   "sideBar": true,
   "skip_h1_title": false,
   "title_cell": "Table of Contents",
   "title_sidebar": "Contents",
   "toc_cell": false,
   "toc_position": {},
   "toc_section_display": true,
   "toc_window_display": true
  }
 },
 "nbformat": 4,
 "nbformat_minor": 4
}
