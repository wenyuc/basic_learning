{
 "cells": [
  {
   "cell_type": "markdown",
   "metadata": {},
   "source": [
    "#### pyxll package for excel + python\n",
    "\n",
    "In my WorkPC, there is a conda env \"py38_32bit\". The python is a 32-bit version in order to compatible with excel 32bit.\n",
    "\n",
    "The basic use of pyxll can refer:\n",
    "\n",
    "> https://mp.weixin.qq.com/s/_Tnfl3ZfdKoFPskregauaQ \n",
    "\n",
    "The PYXLL plugin is installed at:\n",
    "> C:\\Users\\wenyuc\\AppData\\Local\\Programs\\PyXLL\n",
    "\n",
    "I have written a simple script at ./source/my_pyfunc.py and a trial.xlsx to use it.\n",
    "\n",
    "On youtube, there are many useful videos for pyxll, for example:\n",
    "\n",
    "> https://www.youtube.com/watch?v=MqPr9DDs7Vg\n",
    "\n",
    "**To Do:**\n",
    "\n",
    "- non-free to use. **Have another free package to manipulate excel with python?**"
   ]
  },
  {
   "cell_type": "markdown",
   "metadata": {},
   "source": [
    "#### axis in numpy and pandas\n",
    "In the basic_learning/numpy_pandas_axis.ipynb\n",
    "\n",
    "**not finished**"
   ]
  },
  {
   "cell_type": "markdown",
   "metadata": {},
   "source": [
    "#### axes in matplotlib\n",
    "In the basic_learning/visualization_intro.ipynb \n",
    "\n",
    "**To Do**\n",
    "\n",
    "- **安排日程系统学习画图**"
   ]
  },
  {
   "cell_type": "markdown",
   "metadata": {},
   "source": [
    "#### numpy中随机数的生成方法\n",
    "In the basic_learning/random_data_generation.ipynb\n"
   ]
  },
  {
   "cell_type": "markdown",
   "metadata": {},
   "source": [
    "#### Numpy Meshgrid \n",
    "In the basic_learning/numpy_meshgrid.ipynb\n",
    "\n",
    "**Pro**\n",
    "- **可用于画三维图形**"
   ]
  },
  {
   "cell_type": "markdown",
   "metadata": {},
   "source": [
    "#### pandas style presentation\n",
    "In the basic_learning/pandas_style.ipynb\n"
   ]
  },
  {
   "cell_type": "markdown",
   "metadata": {},
   "source": [
    "#### 数组中数的等距间隔和非等距间隔\n",
    "In the basic_learning/numpy_arr_spacing.ipynb\n",
    "\n",
    "**To Do:**\n",
    "\n",
    "- **如何用于画图中的坐标轴？**"
   ]
  },
  {
   "cell_type": "markdown",
   "metadata": {},
   "source": [
    "#### matplotlib 中坐标轴上的中文显示\n",
    "\n",
    "查看matplotlib与字体相关的配置文件"
   ]
  },
  {
   "cell_type": "code",
   "execution_count": 2,
   "metadata": {},
   "outputs": [
    {
     "name": "stdout",
     "output_type": "stream",
     "text": [
      "/Applications/anaconda3/envs/py38/lib/python3.8/site-packages/matplotlib/mpl-data/matplotlibrc\n"
     ]
    }
   ],
   "source": [
    "import matplotlib    \n",
    "print(matplotlib.matplotlib_fname())"
   ]
  },
  {
   "cell_type": "markdown",
   "metadata": {},
   "source": [
    "在路径./mpl-data/fonts/ttf 中将SimHei.ttf, Times New Roman.ttf文件拷贝过来\n",
    "在./mpl-data/matplotlibrc中\n",
    "> 以下几行的注释去掉\n",
    "\n",
    ">font.family         : sans-serif        \n",
    "font.sans-serif     : SimHei, Bitstream Vera Sans, Lucida Grande, Verdana, Geneva, Lucid, Arial, Helvetica, Avant Garde, sans-serif \n",
    "axes.unicode_minus，将True改为False，显示负号\n",
    "\n",
    "在Mac中，将/Users/wenyuc/.matplotlib 目录中的文件全部删掉\n",
    "\n",
    "重新启动jupyter notebook\n",
    "\n",
    "In basic_learning/matplotlib_intro.ipynb 中bar chart 部分"
   ]
  },
  {
   "cell_type": "code",
   "execution_count": null,
   "metadata": {},
   "outputs": [],
   "source": []
  }
 ],
 "metadata": {
  "kernelspec": {
   "display_name": "Python 3",
   "language": "python",
   "name": "python3"
  },
  "language_info": {
   "codemirror_mode": {
    "name": "ipython",
    "version": 3
   },
   "file_extension": ".py",
   "mimetype": "text/x-python",
   "name": "python",
   "nbconvert_exporter": "python",
   "pygments_lexer": "ipython3",
   "version": "3.8.5"
  },
  "toc": {
   "base_numbering": 1,
   "nav_menu": {},
   "number_sections": true,
   "sideBar": true,
   "skip_h1_title": false,
   "title_cell": "Table of Contents",
   "title_sidebar": "Contents",
   "toc_cell": false,
   "toc_position": {},
   "toc_section_display": true,
   "toc_window_display": false
  }
 },
 "nbformat": 4,
 "nbformat_minor": 4
}
