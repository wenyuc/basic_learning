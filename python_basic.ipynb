{
 "cells": [
  {
   "cell_type": "markdown",
   "metadata": {},
   "source": [
    "#### Python Learning Resources\n",
    "\n",
    "- www.codecademy.com/en/tracks/python\n",
    "- dataquest.io/missions\n",
    "- developers.google.com/edu/python\n",
    "- www.pythonlearn.com\n",
    "- https://docs.microsoft.com/zh-cn/windows/python\n",
    "- https://work.caltech.edu/library    **video library**"
   ]
  },
  {
   "cell_type": "markdown",
   "metadata": {},
   "source": [
    "#### string % symbol"
   ]
  },
  {
   "cell_type": "code",
   "execution_count": 13,
   "metadata": {},
   "outputs": [
    {
     "name": "stdout",
     "output_type": "stream",
     "text": [
      "The price of this Apple Mac OSX brand is  1299 USD and the exchange rate is       1.24 USD to 1 EURO.\n"
     ]
    }
   ],
   "source": [
    "brand = 'Apple Mac OSX'\n",
    "exchangeRate = 1.2356765\n",
    "message = 'The price of this %s brand is %5d USD and the exchange rate is %10.2f USD to 1 EURO.'%(brand, 1299, exchangeRate)\n",
    "print(message) # the 5 in %5d is for the width of the number, 9 in %9.2f is the width of the whole number(incl '.')"
   ]
  },
  {
   "cell_type": "markdown",
   "metadata": {},
   "source": [
    "#### string .format() method"
   ]
  },
  {
   "cell_type": "code",
   "execution_count": 42,
   "metadata": {},
   "outputs": [
    {
     "name": "stdout",
     "output_type": "stream",
     "text": [
      "The price of this APPLE Mac OSX brand is 1,299 USD and the exchange rate is 1.23.\n"
     ]
    }
   ],
   "source": [
    "message = 'The price of this {0:s} brand is {1:,d} USD and the exchange rate is {2:,.2f}.'.format(\n",
    "'APPLE Mac OSX',1299, 1.2345654)\n",
    "print(message)"
   ]
  },
  {
   "cell_type": "code",
   "execution_count": 40,
   "metadata": {},
   "outputs": [
    {
     "name": "stdout",
     "output_type": "stream",
     "text": [
      "The price of this APPLE Mac OSX brand is 1,299 USD and the exchange rate is 2,341.23.\n"
     ]
    }
   ],
   "source": [
    "# if dont want to formatthe string, you can just simply {}\n",
    "message = 'The price of this {} brand is {:,} USD and the exchange rate is {:,.2f}.'.format(\n",
    "'APPLE Mac OSX',1299, 2341.2345654)\n",
    "print(message)"
   ]
  },
  {
   "cell_type": "code",
   "execution_count": 18,
   "metadata": {},
   "outputs": [
    {
     "name": "stdout",
     "output_type": "stream",
     "text": [
      "Python is much easier than Java\n",
      "      1.23 and 13\n",
      "12853.652\n"
     ]
    }
   ],
   "source": [
    "message1 = '{0} is much easier than {1}'.format('Python','Java')\n",
    "message2 = '{:10.2f} and {:d}'.format(1.234765746,13)\n",
    "message3 = '{}'.format(12853.652)\n",
    "print(message1)\n",
    "print(message2)\n",
    "print(message3)"
   ]
  },
  {
   "cell_type": "markdown",
   "metadata": {},
   "source": [
    "#### f\"string\""
   ]
  },
  {
   "cell_type": "code",
   "execution_count": 86,
   "metadata": {},
   "outputs": [
    {
     "name": "stdout",
     "output_type": "stream",
     "text": [
      "The price of this Apple Mac OSX brand is 1,299 USD and the exchange rate is 1.24 USD to 1 EURO.\n"
     ]
    }
   ],
   "source": [
    "brand = 'Apple Mac OSX'\n",
    "price = 1299\n",
    "exchangeRate = 1.2356765\n",
    "message = f'The price of this {brand:s} brand is {price:,d} USD and the exchange rate is {exchangeRate:.2f} USD to 1 EURO.'\n",
    "print(message)"
   ]
  },
  {
   "cell_type": "markdown",
   "metadata": {},
   "source": [
    "#### 3 built-in functions for type casting"
   ]
  },
  {
   "cell_type": "code",
   "execution_count": 30,
   "metadata": {},
   "outputs": [
    {
     "name": "stdout",
     "output_type": "stream",
     "text": [
      "5\n",
      "1234\n",
      "2.0\n",
      "2.091091\n",
      "2\n",
      "2.1\n"
     ]
    }
   ],
   "source": [
    "x = int(5.7654)\n",
    "print(x)\n",
    "y = int(\"1234\")\n",
    "print(y)\n",
    "# y = int(\"12.3\") # error\n",
    "# y = int(\"hello\")# error\n",
    "\n",
    "a = float(2)\n",
    "print(a)\n",
    "b = float(\"2.091091\")\n",
    "print(b)\n",
    "\n",
    "s = str(2)\n",
    "print(s)\n",
    "type(s)\n",
    "s1 = str(2.1)\n",
    "print(s1)"
   ]
  },
  {
   "cell_type": "markdown",
   "metadata": {},
   "source": [
    "#### Inline If"
   ]
  },
  {
   "cell_type": "code",
   "execution_count": 45,
   "metadata": {},
   "outputs": [
    {
     "name": "stdout",
     "output_type": "stream",
     "text": [
      "Input a magic number: 10\n",
      "This is task B.\n"
     ]
    }
   ],
   "source": [
    "myInt = int(input(\"Input a magic number: \"))\n",
    "print(\"This is task A.\" if myInt < 10 else \"This is task B.\")\n"
   ]
  },
  {
   "cell_type": "code",
   "execution_count": 47,
   "metadata": {},
   "outputs": [
    {
     "name": "stdout",
     "output_type": "stream",
     "text": [
      "Input a magic number: 15\n",
      "15\n"
     ]
    }
   ],
   "source": [
    "myInt = int(input(\"Input a magic number: \"))\n",
    "num1 = 13 if myInt == 10 else 15\n",
    "print(num1)"
   ]
  },
  {
   "cell_type": "markdown",
   "metadata": {},
   "source": [
    "#### loop"
   ]
  },
  {
   "cell_type": "code",
   "execution_count": 48,
   "metadata": {},
   "outputs": [
    {
     "name": "stdout",
     "output_type": "stream",
     "text": [
      "cats\n",
      "dogs\n",
      "rabbits\n",
      "hamsters\n"
     ]
    }
   ],
   "source": [
    "pets = ['cats', 'dogs', 'rabbits', 'hamsters']\n",
    "for myPet in pets:\n",
    "    print(myPet)"
   ]
  },
  {
   "cell_type": "code",
   "execution_count": 50,
   "metadata": {},
   "outputs": [
    {
     "name": "stdout",
     "output_type": "stream",
     "text": [
      "0 cats\n",
      "1 dogs\n",
      "2 rabbits\n",
      "3 hamsters\n"
     ]
    }
   ],
   "source": [
    "for index, myPet in enumerate(pets):\n",
    "    print(index, myPet)"
   ]
  },
  {
   "cell_type": "code",
   "execution_count": 53,
   "metadata": {},
   "outputs": [],
   "source": [
    "def Gamma(n):\n",
    "    \"\"\"calculate Gamma(n) = (n-1)！\"\"\"\n",
    "    if str(n).isdigit:\n",
    "        prod = 1\n",
    "        for i in range(1,n):\n",
    "            prod *= i\n",
    "    else:\n",
    "        return -1\n",
    "    return prod\n"
   ]
  },
  {
   "cell_type": "code",
   "execution_count": 56,
   "metadata": {},
   "outputs": [
    {
     "data": {
      "text/plain": [
       "24"
      ]
     },
     "execution_count": 56,
     "metadata": {},
     "output_type": "execute_result"
    }
   ],
   "source": [
    "Gamma(5)"
   ]
  },
  {
   "cell_type": "code",
   "execution_count": 70,
   "metadata": {},
   "outputs": [],
   "source": [
    "def checkPrime(n):\n",
    "    mid = n//2 if n%2 == 0 else (n-1)//2\n",
    "    for i in range(2, mid+1):\n",
    "        if n%i == 0:\n",
    "            return False\n",
    "    return True"
   ]
  },
  {
   "cell_type": "code",
   "execution_count": 73,
   "metadata": {},
   "outputs": [
    {
     "data": {
      "text/plain": [
       "True"
      ]
     },
     "execution_count": 73,
     "metadata": {},
     "output_type": "execute_result"
    }
   ],
   "source": [
    "checkPrime(53)"
   ]
  },
  {
   "cell_type": "markdown",
   "metadata": {},
   "source": [
    "#### Try/Except\n",
    "ValueError\n",
    "\n",
    "ZeroDivisionError\n",
    "\n",
    "IOError\n",
    "\n",
    "ImportError\n",
    "\n",
    "IndexError\n",
    "\n",
    "KeyError\n",
    "\n",
    "NameError, i.e., the variable definition out of scope\n",
    "\n",
    "For a complete list of all the error types in Python, you can refer to\n",
    "https://docs.python.org/3/library/exceptions.html."
   ]
  },
  {
   "cell_type": "code",
   "execution_count": 61,
   "metadata": {},
   "outputs": [
    {
     "name": "stdout",
     "output_type": "stream",
     "text": [
      ">>>Please input a number: 10\n",
      ">>>Please input another number:2\n",
      "The result is 5.000\n",
      "Error: file not found.\n"
     ]
    }
   ],
   "source": [
    "try:\n",
    "    userInput1 = int(input(\">>>Please input a number: \"))\n",
    "    userInput2 = int(input(\">>>Please input another number:\"))\n",
    "    print(\"The result is {:.3f}\".format(userInput1/userInput2))\n",
    "    myFile = open(\"./data/ex.txt\",\"r\")\n",
    "except ValueError:\n",
    "    print(\"Error: you did not enter a number.\")\n",
    "except ZeroDivisionError:\n",
    "    print(\"Error: Cannot divide by zero.\")\n",
    "except IOError:\n",
    "    print(\"Error: file not found.\")\n",
    "except Exception as e:\n",
    "    print(\"Unkown error: \",e)"
   ]
  },
  {
   "cell_type": "markdown",
   "metadata": {},
   "source": [
    "#### import module"
   ]
  },
  {
   "cell_type": "code",
   "execution_count": 74,
   "metadata": {},
   "outputs": [
    {
     "data": {
      "text/plain": [
       "['C:\\\\work2\\\\src\\\\basic_learning',\n",
       " 'C:\\\\work2\\\\src',\n",
       " 'C:\\\\work2\\\\anaconda3\\\\envs\\\\py38\\\\python38.zip',\n",
       " 'C:\\\\work2\\\\anaconda3\\\\envs\\\\py38\\\\DLLs',\n",
       " 'C:\\\\work2\\\\anaconda3\\\\envs\\\\py38\\\\lib',\n",
       " 'C:\\\\work2\\\\anaconda3\\\\envs\\\\py38',\n",
       " '',\n",
       " 'C:\\\\work2\\\\anaconda3\\\\envs\\\\py38\\\\lib\\\\site-packages',\n",
       " 'C:\\\\work2\\\\anaconda3\\\\envs\\\\py38\\\\lib\\\\site-packages\\\\win32',\n",
       " 'C:\\\\work2\\\\anaconda3\\\\envs\\\\py38\\\\lib\\\\site-packages\\\\win32\\\\lib',\n",
       " 'C:\\\\work2\\\\anaconda3\\\\envs\\\\py38\\\\lib\\\\site-packages\\\\Pythonwin',\n",
       " 'C:\\\\work2\\\\anaconda3\\\\envs\\\\py38\\\\lib\\\\site-packages\\\\IPython\\\\extensions',\n",
       " 'C:\\\\Users\\\\wenyuc\\\\.ipython']"
      ]
     },
     "execution_count": 74,
     "metadata": {},
     "output_type": "execute_result"
    }
   ],
   "source": [
    "import sys\n",
    "sys.path "
   ]
  },
  {
   "cell_type": "code",
   "execution_count": null,
   "metadata": {},
   "outputs": [],
   "source": [
    "# if ‘C:\\\\myPythonModules not in sys.path:\n",
    "#     sys.path.append('C:\\\\myPythonModules')"
   ]
  },
  {
   "cell_type": "markdown",
   "metadata": {},
   "source": [
    "#### File operations\n",
    "\n",
    "'r': for reading only\n",
    "\n",
    "'w': for writing only. If the specified file does not exist, it will be created. If exists, any existing data on the file will be erased.\n",
    "\n",
    "'a': for appending. If the specified file does not exist, it will be created. If exists, any data written to the file is automatically added to the end of the file.\n",
    "\n",
    "'r+': for both reading and writing. \n",
    "\n",
    "'rb': read a binary file\n",
    "\n",
    "'wb': write to a binary file"
   ]
  },
  {
   "cell_type": "code",
   "execution_count": 76,
   "metadata": {},
   "outputs": [
    {
     "name": "stdout",
     "output_type": "stream",
     "text": [
      "     \t    A         B \tC\n",
      "aaa -0.264438 -1.026059 -0.619500\n",
      "bbb  0.927272  0.302904 -0.032399\n",
      "ccc -0.264273 -0.386314 -0.217601\n",
      "ddd -0.871858 -0.348382 1.100491"
     ]
    }
   ],
   "source": [
    "try:\n",
    "    f = open('./data/ex3.txt','r')\n",
    "except IOError:\n",
    "    print(\"file not found.\")\n",
    "\n",
    "for line in f:\n",
    "    print(line, end='')\n",
    "\n",
    "f.close()"
   ]
  },
  {
   "cell_type": "code",
   "execution_count": 77,
   "metadata": {},
   "outputs": [],
   "source": [
    "try:\n",
    "    inputFile = open('./data/ex3.txt','r')\n",
    "    outputFile = open('./data/ex4.txt','w')\n",
    "except IOError:\n",
    "    print(\"file not found.\")\n",
    "\n",
    "msg = inputFile.read(10)\n",
    "while(msg):\n",
    "    outputFile.write(msg)\n",
    "    msg = inputFile.read(10)\n",
    "\n",
    "inputFile.close()\n",
    "outputFile.close()\n"
   ]
  },
  {
   "cell_type": "code",
   "execution_count": 79,
   "metadata": {},
   "outputs": [
    {
     "name": "stdout",
     "output_type": "stream",
     "text": [
      "     \t    A         B \tC\n",
      "aaa -0.264438 -1.026059 -0.619500\n",
      "bbb  0.927272  0.302904 -0.032399\n",
      "ccc -0.264273 -0.386314 -0.217601\n",
      "ddd -0.871858 -0.348382 1.100491"
     ]
    }
   ],
   "source": [
    "inputFile = open('./data/ex4.txt', 'r')\n",
    "\n",
    "for line in inputFile:\n",
    "    print(line, end='')\n",
    "    \n",
    "inputFile.close()"
   ]
  },
  {
   "cell_type": "code",
   "execution_count": 1,
   "metadata": {},
   "outputs": [],
   "source": [
    "import os\n",
    "\n",
    "# os.remove()\n",
    "# os.rename()"
   ]
  },
  {
   "cell_type": "markdown",
   "metadata": {},
   "source": [
    "#### Map, Filter\n",
    "\n",
    "Map会将⼀个函数映射到⼀个输⼊列表的所有元素上。这是它的规范：\n",
    "map(function_to_apply, list_of_inputs)"
   ]
  },
  {
   "cell_type": "code",
   "execution_count": 6,
   "metadata": {},
   "outputs": [
    {
     "name": "stdout",
     "output_type": "stream",
     "text": [
      "1\n",
      "4\n",
      "9\n",
      "16\n",
      "25\n"
     ]
    }
   ],
   "source": [
    "items = [1,2,3,4,5]\n",
    "\n",
    "# In python 3, map returns an iterator. it returns a list in python 2.\n",
    "squared_iter = map(lambda x: x**2, items)\n",
    "# squared_iter = list(map(lambda x: x**2, items))\n",
    "\n",
    "while True:\n",
    "    try:\n",
    "        print(next(squared_iter))\n",
    "    except StopIteration:\n",
    "        break "
   ]
  },
  {
   "cell_type": "code",
   "execution_count": 8,
   "metadata": {},
   "outputs": [
    {
     "name": "stdout",
     "output_type": "stream",
     "text": [
      "[0, 0]\n",
      "[1, 2]\n",
      "[4, 4]\n",
      "[9, 6]\n",
      "[16, 8]\n"
     ]
    }
   ],
   "source": [
    "# 用于一列表的函数\n",
    "def multiply(x):\n",
    "    return x**2\n",
    "def add(x):\n",
    "    return x+x\n",
    "\n",
    "funcs = [multiply, add]\n",
    "\n",
    "for i in range(5):\n",
    "    value = map(lambda x: x(i), funcs)\n",
    "    print(list(value))"
   ]
  },
  {
   "cell_type": "code",
   "execution_count": 9,
   "metadata": {},
   "outputs": [
    {
     "data": {
      "text/plain": [
       "5"
      ]
     },
     "execution_count": 9,
     "metadata": {},
     "output_type": "execute_result"
    }
   ],
   "source": [
    "f = lambda x: x+2\n",
    "f(3)"
   ]
  },
  {
   "cell_type": "code",
   "execution_count": 14,
   "metadata": {},
   "outputs": [],
   "source": [
    "f = lambda x:[ x*i for i in range(5)]"
   ]
  },
  {
   "cell_type": "code",
   "execution_count": 15,
   "metadata": {},
   "outputs": [
    {
     "data": {
      "text/plain": [
       "[0, 3, 6, 9, 12]"
      ]
     },
     "execution_count": 15,
     "metadata": {},
     "output_type": "execute_result"
    }
   ],
   "source": [
    "f(3)"
   ]
  },
  {
   "cell_type": "markdown",
   "metadata": {},
   "source": [
    "filter过滤列表中的元素，并且返回⼀个由所有符合要求的元素所构成的列\n",
    "表，符合要求即函数映射到该元素时返回值为True"
   ]
  },
  {
   "cell_type": "code",
   "execution_count": 16,
   "metadata": {},
   "outputs": [
    {
     "name": "stdout",
     "output_type": "stream",
     "text": [
      "-5\n",
      "-4\n",
      "-3\n",
      "-2\n",
      "-1\n"
     ]
    }
   ],
   "source": [
    "items = range(-5,5)\n",
    "less_than_zero_iter= filter(lambda x: x<0, items)\n",
    "while True:\n",
    "    try:\n",
    "        print(next(less_than_zero_iter))\n",
    "    except StopIteration:\n",
    "        break "
   ]
  },
  {
   "cell_type": "markdown",
   "metadata": {},
   "source": [
    "#### 装饰器Decorator"
   ]
  },
  {
   "cell_type": "code",
   "execution_count": 17,
   "metadata": {},
   "outputs": [],
   "source": [
    "def hi(name=\"YaSoob\"):\n",
    "    return \"hi \"+name"
   ]
  },
  {
   "cell_type": "code",
   "execution_count": 18,
   "metadata": {},
   "outputs": [
    {
     "name": "stdout",
     "output_type": "stream",
     "text": [
      "hi YaSoob\n"
     ]
    }
   ],
   "source": [
    "print(hi())"
   ]
  },
  {
   "cell_type": "code",
   "execution_count": 19,
   "metadata": {},
   "outputs": [],
   "source": [
    "greet = hi"
   ]
  },
  {
   "cell_type": "code",
   "execution_count": 21,
   "metadata": {},
   "outputs": [
    {
     "name": "stdout",
     "output_type": "stream",
     "text": [
      "hi YaSoob\n",
      "hi YaSoob\n"
     ]
    }
   ],
   "source": [
    "print(greet())\n",
    "print(hi())"
   ]
  },
  {
   "cell_type": "code",
   "execution_count": 22,
   "metadata": {},
   "outputs": [
    {
     "ename": "NameError",
     "evalue": "name 'hi' is not defined",
     "output_type": "error",
     "traceback": [
      "\u001b[1;31m---------------------------------------------------------------------------\u001b[0m",
      "\u001b[1;31mNameError\u001b[0m                                 Traceback (most recent call last)",
      "\u001b[1;32m<ipython-input-22-56d391238a20>\u001b[0m in \u001b[0;36m<module>\u001b[1;34m\u001b[0m\n\u001b[0;32m      1\u001b[0m \u001b[1;32mdel\u001b[0m \u001b[0mhi\u001b[0m\u001b[1;33m\u001b[0m\u001b[1;33m\u001b[0m\u001b[0m\n\u001b[1;32m----> 2\u001b[1;33m \u001b[0mprint\u001b[0m\u001b[1;33m(\u001b[0m\u001b[0mhi\u001b[0m\u001b[1;33m(\u001b[0m\u001b[1;33m)\u001b[0m\u001b[1;33m)\u001b[0m\u001b[1;33m\u001b[0m\u001b[1;33m\u001b[0m\u001b[0m\n\u001b[0m",
      "\u001b[1;31mNameError\u001b[0m: name 'hi' is not defined"
     ]
    }
   ],
   "source": [
    "del hi\n",
    "print(hi())"
   ]
  },
  {
   "cell_type": "code",
   "execution_count": 23,
   "metadata": {},
   "outputs": [
    {
     "name": "stdout",
     "output_type": "stream",
     "text": [
      "hi YaSoob\n"
     ]
    }
   ],
   "source": [
    "print(greet())"
   ]
  },
  {
   "cell_type": "markdown",
   "metadata": {},
   "source": [
    "##### 在函数中定义函数\n"
   ]
  },
  {
   "cell_type": "code",
   "execution_count": 26,
   "metadata": {},
   "outputs": [
    {
     "name": "stdout",
     "output_type": "stream",
     "text": [
      "You are now inside hi() function.\n",
      "You are now inside greet1() function.\n",
      "None\n",
      "You are now inside welcome() function\n",
      "None\n",
      "Now you are now back in the hi() function.\n"
     ]
    }
   ],
   "source": [
    "def hi(name='YaSoob'):\n",
    "    print('You are now inside hi() function.')\n",
    "    def greet1():\n",
    "        print('You are now inside greet1() function.')\n",
    "    def welcome1():\n",
    "        print('You are now inside welcome() function')\n",
    "    print(greet1())\n",
    "    print(welcome1())\n",
    "    print('Now you are now back in the hi() function.')\n",
    "hi()"
   ]
  },
  {
   "cell_type": "code",
   "execution_count": 28,
   "metadata": {},
   "outputs": [
    {
     "ename": "NameError",
     "evalue": "name 'greet1' is not defined",
     "output_type": "error",
     "traceback": [
      "\u001b[1;31m---------------------------------------------------------------------------\u001b[0m",
      "\u001b[1;31mNameError\u001b[0m                                 Traceback (most recent call last)",
      "\u001b[1;32m<ipython-input-28-a02f67da967b>\u001b[0m in \u001b[0;36m<module>\u001b[1;34m\u001b[0m\n\u001b[1;32m----> 1\u001b[1;33m \u001b[0mgreet1\u001b[0m\u001b[1;33m(\u001b[0m\u001b[1;33m)\u001b[0m\u001b[1;33m\u001b[0m\u001b[1;33m\u001b[0m\u001b[0m\n\u001b[0m",
      "\u001b[1;31mNameError\u001b[0m: name 'greet1' is not defined"
     ]
    }
   ],
   "source": [
    "greet1()"
   ]
  },
  {
   "cell_type": "markdown",
   "metadata": {},
   "source": [
    "##### 从函数中返回函数\n"
   ]
  },
  {
   "cell_type": "code",
   "execution_count": 30,
   "metadata": {},
   "outputs": [
    {
     "name": "stdout",
     "output_type": "stream",
     "text": [
      "<function hi.<locals>.greet2 at 0x00000170FA09D790>\n",
      "now you are in the greet() function\n",
      "None\n"
     ]
    }
   ],
   "source": [
    "def hi(name='YaSoob'):\n",
    "    def greet2():\n",
    "        print('now you are in the greet() function')\n",
    "    def welcome2():\n",
    "        print('now you are in the welcome() function.')\n",
    "    \n",
    "    if name == 'YaSoob':\n",
    "        return greet2\n",
    "    else:\n",
    "        return welcome2\n",
    "\n",
    "a = hi()\n",
    "print(a)\n",
    "print(a())"
   ]
  },
  {
   "cell_type": "markdown",
   "metadata": {},
   "source": [
    "这是因为当你把⼀对⼩括号放在后⾯，这个函数就会执⾏；\n",
    "然⽽如果你不放括号在它后⾯，那它可以被到处传递，并且可以赋值给别的变量⽽不去执\n",
    "⾏它。"
   ]
  },
  {
   "cell_type": "markdown",
   "metadata": {},
   "source": [
    "##### 将函数作为参数传递给另一个函数"
   ]
  },
  {
   "cell_type": "code",
   "execution_count": 32,
   "metadata": {},
   "outputs": [
    {
     "name": "stdout",
     "output_type": "stream",
     "text": [
      "I am doing something before executing hi()\n",
      "hi YaSoob!\n"
     ]
    }
   ],
   "source": [
    "def hi():\n",
    "    return 'hi YaSoob!'\n",
    "\n",
    "def doSomethingBeforeHi(func):\n",
    "    print(\"I am doing something before executing hi()\")\n",
    "    print(func())\n",
    "\n",
    "doSomethingBeforeHi(hi)"
   ]
  },
  {
   "cell_type": "markdown",
   "metadata": {},
   "source": [
    "##### **装饰器在一个函数的前后执行代码**"
   ]
  },
  {
   "cell_type": "code",
   "execution_count": 33,
   "metadata": {},
   "outputs": [],
   "source": [
    "def a_new_decorator(a_func):\n",
    "    def wrapTheFunction():\n",
    "        print(\"I am doing some work before a_func()\")\n",
    "        a_func()\n",
    "        print(\"I am doing some work after a_func()\")\n",
    "    \n",
    "    return wrapTheFunction\n"
   ]
  },
  {
   "cell_type": "code",
   "execution_count": 34,
   "metadata": {},
   "outputs": [],
   "source": [
    "def a_function_requiring_decoration():\n",
    "    print(\"I am the function which requires some decoration to remove null data\")\n"
   ]
  },
  {
   "cell_type": "code",
   "execution_count": 36,
   "metadata": {},
   "outputs": [
    {
     "name": "stdout",
     "output_type": "stream",
     "text": [
      "I am the function which requires some decoration to remove null data\n"
     ]
    }
   ],
   "source": [
    "a_function_requiring_decoration()"
   ]
  },
  {
   "cell_type": "code",
   "execution_count": 38,
   "metadata": {},
   "outputs": [],
   "source": [
    "a_function_requiring_decoration = a_new_decorator(a_function_requiring_decoration)"
   ]
  },
  {
   "cell_type": "code",
   "execution_count": 39,
   "metadata": {},
   "outputs": [
    {
     "name": "stdout",
     "output_type": "stream",
     "text": [
      "I am doing some work before a_func()\n",
      "I am the function which requires some decoration to remove null data\n",
      "I am doing some work after a_func()\n"
     ]
    }
   ],
   "source": [
    "a_function_requiring_decoration()"
   ]
  },
  {
   "cell_type": "markdown",
   "metadata": {},
   "source": [
    "##### **用@来实现前面的代码**"
   ]
  },
  {
   "cell_type": "code",
   "execution_count": 40,
   "metadata": {},
   "outputs": [],
   "source": [
    "@a_new_decorator\n",
    "def a_function_requiring_decoration():\n",
    "    \"\"\"Hey guy, decorate me!\"\"\"\n",
    "    print(\"I am the function which needs some decoration to remove my foul smell.\")\n"
   ]
  },
  {
   "cell_type": "code",
   "execution_count": 41,
   "metadata": {},
   "outputs": [
    {
     "name": "stdout",
     "output_type": "stream",
     "text": [
      "I am doing some work before a_func()\n",
      "I am the function which needs some decoration to remove my foul smell.\n",
      "I am doing some work after a_func()\n"
     ]
    }
   ],
   "source": [
    "a_function_requiring_decoration()"
   ]
  },
  {
   "cell_type": "markdown",
   "metadata": {},
   "source": [
    "** the @a_new_decorator is just a short way to say:\n",
    "a_function_requiring_decoration = a_new_decorator(a_function_requiring_decoration)**"
   ]
  },
  {
   "cell_type": "code",
   "execution_count": 42,
   "metadata": {},
   "outputs": [
    {
     "name": "stdout",
     "output_type": "stream",
     "text": [
      "wrapTheFunction\n"
     ]
    }
   ],
   "source": [
    "print(a_function_requiring_decoration.__name__)"
   ]
  },
  {
   "cell_type": "markdown",
   "metadata": {},
   "source": [
    "这个结果并不是我们想要的，我们想要的是a_function_requiring_decoration\n",
    "##### 通过functools.wraps \n",
    "\n",
    "@wraps接受⼀个函数来进⾏装饰，并加⼊了复制函数名称、注释⽂档、参数列表\n",
    "等等的功能。这可以让我们在装饰器⾥⾯访问在装饰之前的函数的属性。"
   ]
  },
  {
   "cell_type": "code",
   "execution_count": 45,
   "metadata": {},
   "outputs": [
    {
     "name": "stdout",
     "output_type": "stream",
     "text": [
      "I am doing some works before a_func().\n",
      "I am the function which needs some decoration to remove my foul smell.\n",
      "I am doing some works after a_func().\n",
      "None\n",
      "a_func_requiring_decoration\n"
     ]
    }
   ],
   "source": [
    "from functools import wraps\n",
    "\n",
    "def a_new_decorator(a_func):\n",
    "    @wraps(a_func)\n",
    "    def wrapTheFunction():\n",
    "        print(\"I am doing some works before a_func().\")\n",
    "        a_func()\n",
    "        print(\"I am doing some works after a_func().\")\n",
    "    \n",
    "    return wrapTheFunction\n",
    "\n",
    "@a_new_decorator\n",
    "def a_func_requiring_decoration():\n",
    "    \"\"\"Hey guy, decorate me!\"\"\"\n",
    "    print(\"I am the function which needs some decoration to remove my foul smell.\")\n",
    "\n",
    "print(a_func_requiring_decoration())\n",
    "print(a_func_requiring_decoration.__name__)"
   ]
  },
  {
   "cell_type": "markdown",
   "metadata": {},
   "source": [
    "##### **装饰器蓝本规范**"
   ]
  },
  {
   "cell_type": "code",
   "execution_count": 48,
   "metadata": {},
   "outputs": [],
   "source": [
    "from functools import wraps\n",
    "\n",
    "def decorator_name(f):\n",
    "    @wraps(f)\n",
    "    def decorated(*args, **kwargs):\n",
    "        if not can_run:\n",
    "            return \"Function will not run.\"\n",
    "        return f(*args, **kwargs)\n",
    "    return decorated\n",
    "\n",
    "@decorator_name\n",
    "def func():\n",
    "    return(\"Function is running\")\n"
   ]
  },
  {
   "cell_type": "code",
   "execution_count": 49,
   "metadata": {},
   "outputs": [
    {
     "name": "stdout",
     "output_type": "stream",
     "text": [
      "Function is running\n"
     ]
    }
   ],
   "source": [
    "can_run = True\n",
    "print(func())"
   ]
  },
  {
   "cell_type": "code",
   "execution_count": 51,
   "metadata": {},
   "outputs": [
    {
     "name": "stdout",
     "output_type": "stream",
     "text": [
      "Function will not run.\n",
      "func\n"
     ]
    }
   ],
   "source": [
    "can_run = False\n",
    "print(func())\n",
    "print(func.__name__)"
   ]
  },
  {
   "cell_type": "markdown",
   "metadata": {},
   "source": [
    "##### 装饰器使用场景"
   ]
  },
  {
   "cell_type": "code",
   "execution_count": null,
   "metadata": {},
   "outputs": [],
   "source": []
  }
 ],
 "metadata": {
  "kernelspec": {
   "display_name": "Python 3",
   "language": "python",
   "name": "python3"
  },
  "language_info": {
   "codemirror_mode": {
    "name": "ipython",
    "version": 3
   },
   "file_extension": ".py",
   "mimetype": "text/x-python",
   "name": "python",
   "nbconvert_exporter": "python",
   "pygments_lexer": "ipython3",
   "version": "3.8.5"
  },
  "toc": {
   "base_numbering": 1,
   "nav_menu": {},
   "number_sections": true,
   "sideBar": true,
   "skip_h1_title": false,
   "title_cell": "Table of Contents",
   "title_sidebar": "Contents",
   "toc_cell": false,
   "toc_position": {},
   "toc_section_display": true,
   "toc_window_display": true
  }
 },
 "nbformat": 4,
 "nbformat_minor": 4
}
